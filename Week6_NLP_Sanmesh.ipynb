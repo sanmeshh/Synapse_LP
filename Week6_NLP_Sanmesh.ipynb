{
  "cells": [
    {
      "cell_type": "markdown",
      "metadata": {
        "id": "view-in-github",
        "colab_type": "text"
      },
      "source": [
        "<a href=\"https://colab.research.google.com/github/sanmeshh/Synapse_LP/blob/week6/Week6_NLP_Sanmesh.ipynb\" target=\"_parent\"><img src=\"https://colab.research.google.com/assets/colab-badge.svg\" alt=\"Open In Colab\"/></a>"
      ]
    },
    {
      "cell_type": "markdown",
      "metadata": {
        "id": "yJZzWLMF1ECo"
      },
      "source": [
        "# **NLP Task 1**\n",
        "\n",
        "## **DJS Synapse Learning Period**\n",
        "![image.png](data:image/png;base64,iVBORw0KGgoAAAANSUhEUgAAAGsAAAB0CAYAAACCP8xCAAAAAXNSR0IArs4c6QAAAARnQU1BAACxjwv8YQUAAAAJcEhZcwAADsMAAA7DAcdvqGQAAEbeSURBVHhe7b1psCTXeSV2KpfKrP3V27fe90aju7GvBCluIkFxhpImNEMtI8d4bI9DY8dEOOxwhP/YP+wI2/PDjrB/TITtibE1CmmGlihSIkWCBAGI2JcG0I1Go/fl9duX2quycimfc/M9AqJI4kEACMDA7a5XVVmZN+/9lvOd7+bNm5m9e/cO8En5SBRr8/2T8hEonyjrI1Q+UdZHqHzMlTVARq+BBWtg850vbc4k5rcPW/mYKyuDRC8rRpIJMTCviNtjvj5R1oesUCGZ2CgotkPEVBqSLKy4SC9zN/f58JSPtbIEf07swo6loBy/e1ScRCLPEhR+uMrH27MUm+hVilsWncwa6HuA2GljYAkOP1zlY62sxHYQF8qIHNtAoZQlkoEkT4R0Nvf68JSPhbIGg8HfeCVJCnHFyh5Ud3wNlYn7CHols80iBIp2fBjLBzbcZCjyT4RiG1aWwlGEHi3dizKIM9xOqMpHEd8H6LoZuDxkQOvPxg4a/FKOLCRlB7Y3DTtrIXRciruAjp1Fzy2hGNvo+EU4NEvLzsC2GaNsxibbZ6wCyl0Xjt1G1FpEdPWH6PdrCHmeBPI0/hbniZbc0QrZBqqSeCnI/CDKB6asJCPVEHJYnEFIAQyoHAtRJotc0qBCPFAPhKcYbkzF0eYTKhG5YVjju4AoRGbuJSrAgj1yGI2hI1gbPoLAH6dgXVN3hgIfZHw4SZtnoUcZ5WfZa0IcIc+LutjZWIB949vIIsBQaT9W23Po1a/C7vSpMLbJ7pLa8xAaiJ1Q2QmhU6zxAyh2tVr9bzc//1KLUZBhXSryKv2l1XJbz8qDIuFnCph/I3pBPLIbye570Dz+u4imj6D0xo+QqYwgLk4hOvRFWM3rqCw8j3x7nuGGtNvJUTE51tozCpKiaAGwBwFfUgQNwLLhR32U6lfQ2jiFjd4S8vlZlIozyFDJQVSnsmVIWdPCNGEW8fhgoscHpqzApjDZaRchv9GC6Q2x8QbKmR4RWg4JQBbu6B70jz6M9aP/AM29X0CfnlV95Y+Qy/Sw48DtWF2aQ233r6B28FdJFqZR6iyisPQ08vVr8Aid/ZxPRfnGk1R36l06j8gEFUGIK/TWkTQukAgOELbqiAY9eJUhFEs7EYeEYCrNSaRsmlOqMf35pZcPTFk2Y5ODPq02ofCoHgrQonDlcQOCEsZ2Ijj5D7F86++hPns3wsIUt/sYvfYIcpf/GmN3349SqYhk4XWqNoe12QfRrexHe/wEouHdKLZvIHftMXit63CdLGOaj75NEmF5FLoBVQpe+Ma4JUhdOUeI65kwGvdX0O3W2K4+RkZOwMoOoxet0KnYMmKi4tYHUT4wZSlGRRScIE+C82jNMbdZ1WnggX+K5Tv/Y2yM3AGHcNYnrA2sDIZq5zD06h9hfHIE5R1HULE6WAs8bNS6wMh+9L08Yn8MveIuNGbuQX/6OEpLp+G98S1kOmtw/AIJSIF1+VQUDcJ4soN8P4S38QyimLTCCUheXFgkOEFQQ71zCcXiXowOn0QnZDwL6Y00qg+ivM/KUqdIl6kOm4og7vD7m3ivYVSb27K0+mj8CDp3/VPM3/NfYq16K72AuQ7zoMhi3GGC6gVr8C8+iWr7NUzf8inGlhxhc4J11tGfO4PO6DH0SlM0gobxnITK7Xtl1Hc/jOzMLXBbNzF8/RGMtK4g43oI6c0umSYBmMrpoNyZR9iuE5QJmYJIKzCkIhNl0elcYfxaw9DYrRjkRjAIW0gY9zLqk+mP4FGUPyVM5vtb/r5X5X1WlmWaqhjh0mopSTI+x3hSTEU45XGEO+5E69bfQv3Y11EbPUEhSzk90uUM9wsoBHaYUFldfAUjZ/8dpvYeRmV6PzJekQoN4JKKd+avkqYX0Ro9zrOJCeqsfBHmJMRObgd6O25HQO+z2msozj0Lv3GF8BhjQHqv/Yq9AMnGeYqb75agmcdTWRaDlE3lR/0mOq0N5HgerzpL+k9jIWwOIjJLngOZNpVX4HtKijQ6kjEKTI1S7++2vK/KStj1gSg6G9536GGkvIJ7e3gXGdzn0Dry97Fy6DfQGjmGPq0dIhvqeOKxo1QUtC1GLmhg+un/BdWihTJJReKVUB0bR6fbYoyLETbWEa9eRWfmPoSML27cMAYixUHxj7EnpqcGxR0Ix08iqe5jzT34q+fgrZ8jk49QZAoQrb1GYxLby7KdNDR9pvAV25QKJFRkr7dIgtmHlx+FX56kYdkkIYvM2dRWGYiITOpRWyp66993U95XZYmGZ5VQasCUQvUKB9G687exdux3sD77WXTKO2nFEio7Z4I9BUTiYdOiEzvtsM3jx0/9XyjefB5Dxx8gIy8ZS3VoBL12i5ZNyKMXLs9dBnbewQS4QuFS6fRcCZoS54tKM/UyJjFWxflhGswMOz+BEglI5vpTyBeOEI7ziIIN7krfEPNTy1hXQgOSh0vcND+ESYBADJL7DDHHyxbYD7JTN8OYGLdNv61EhqJzqxaVd6+s9zUp1qhDZGWpMI1GxCje9mW0h25BY/wANjwmtqTUJteiEKUwicMIyC7yL2MPf5u++QzKj/x3qNz+JYxNTTGi0NptxhKXJIFH05ARkF5ffvqv0J66HfO3/6dMCxzk+qvIRW1UScn7y3PIUgnZ7jrQWUXcXGB82mBizWSByXeW0Fbd8znMl/ZiqL+OfHSdZKfIZhGwKeOBRbbIsznMt1wSosil4slkB/TcgEyzHe6Vg8EOzyG49n30m8usl7khIX9ASE8Vr9j27kT9vipLlmyzwYKW3Ng0rOJuCuo6Br0I/awHv1phrKmiO3wInaGD6PqjPMilgm2yQ5vCvYLqc/8GxbiJyjEyw9BCm0ksSAhiCtrqd5Dp1tEl9e6tLhPqiojHjwEb12AHLUQmf/XQ96kQKtjyCugXR9HKVpnMleDzu0OmWWw1UQpISJTXhTV06y+gxzwtE0fkKo5RlEZDZFQaW8wQAWJ5rIRPg8yWxlGZ+ip6cR/dxR8Qlq8SFpknsu+J3aGXCT0+5MpysnkM7z+B7soVDO8+itLf+y/gMM6E9UV01hbQW1tFb30BoCWGDN7paAWjSbaCOKYQ5s4yjK0hMzKNSkKFKJxRbAnjSzc7xM8+XNdBkOP+jElDV36AePIEmpXDVEwePa+MIFsm1XYVoQiBhCa6okOhVoIuyu0V5NZfpWDn4RMGMwljGw0DUQ8h86wW2zUIN+gZVBCNR7E3sZQbUvADl9voeWSqpaG9yJUPohm1aEg9dJZPwaZuNUIiZemamciKjn835T1RlqGwwnQ1nganwVi4Bey597PYcf+XcfmJ76Bz8zJ2/fP/A3ZWnSRj0jEUmpSCdgPN1WvoLF1H0F1lgrqEjfPPImlsKOrBIwGw9t2P1iRjkjOEgUcF0TsiJrl2lkrI5agID5NP/U+wu13M7fs9qr2TemhCcsM4xUgj0IQfxBhlGlCuk0wsn0XcukF2t48KzTJe3SRDPYLu6ssoFGaZlw2j2b6GLpmjQwpv/MtlnEzokUzebRIhkf+R/Q+jvfQM41WI0sRRdJcvok9DkGIlFytWXpdC/bsp8s13XaQg0gfmLjYceoDi1KEv/SOc/Oo/wdjeY5jYeRCd2gotlsmrGi0EISzF2SJynovs8Cgqe+7AyIn7MXr4IXoF6TTjRaZcoSB9eGOz6C1eQjL/PAZOG51hEpWR4+gN7SYtn2TAr5rhoMzuB4DV11EY1Kk80egsAr4zcjKXsjHS6WJH4xzy1/4SvSuPol+7wtjEhDg/jlZ9DgFpvcb+LMJhe/U8Wo3z8Mq7MTx5F6wsYZTNzlBBDrtgsdMa4XDzVfKiAdrdBQzojVGnDq+yk2SDe6uv9MA0B3v35T1hg7p0YBiXIILWfOuv/T5u/+1/AX94Fj7jhRD7/JN/gcmj9yAemjGwovE/k28R1yMyP5+Ktknt66cew/yP/xDtXQ9hMH4XkrV5jHz2tzB+y90YzF2Cd+rbKNx8GSXW2y2NItaFQ75iGkhSmEHhwjcQ5gro+Tsp1C7PkEU57GGUSe/I6guIrxIqN85R2D0KMmOEPfCLCJs3kUSkDNSEnZ9Btz2PhFDZb1+G54+jPMJ8MFhh3GTbeaxNFIntDHKTRxHXr5BkrNAgSKTCgNsOsL5loD8wKYtid4bnercae0+UJVhTXpQnrb7lq/8YJ3/jn8Gj10h5AwoxY/m4/NSfk7ozodx9p8lYhAg2LS5Q4CfN7YctrD7zKK4/9m+YwN6NtdmvoOVPmrG98spplG/5DPx9t6Myc5jouQ6XCfLY5UeYgzVpvB6VFqKfjGGqdwOZ9fNMgG8h/GSopDXsWH8FzsJTCBaeJjGpU7EeTy9PoZFU97A1hMyGxgK7JBVMCwpT6Mc1ZKhkNyDk9ubovR2Mjd7GfLCNmGQkYhJseT6KQ/sRLF0kscwapSSx0MOCP3YM8To9l15nG0UJAt+dtt4TZVlsg1es4PAXvo7DX/mPYNHi2UU2TXScHkfSsHL2KVrbOsrHPmtSn5isbyDLJoAm/S6ar/wAcz/+UwTVw1TU30OPOxG5YPkFeOe/D390lo2dwqBUQmH3Mfi77+aPZG9LryN/5cdU6hyVznwuP4HBwjkUc0Mo0FvGFp9Ae/kJhBtMXJVCsLGJTaHy3DZJiTu0A1GL8YV5ExvK7TF8EhaPpCDot0h2qMABKXh3A+0eiUjpIPKlGRpZBC/HNpGhBjQomzAc24GByphw6I0coREwZnUYdy0DoBLVuyrvjWexHdWZgzj8+V/H0OQeJqyMEmRsGZMY0usIjY2bF3HjzLOYvvsr5nqTgrUrIsL/q2d/jPVH/y3qhUks7qCiqFxn0GNnfSQkFMXeClpLl1Dec5gMM0eR+rT+KvwdB5DfeQg5Jrc5Mkz3xuOw3BE47gQKtcvwbz6LWu0SSQxZGmHWjFFSoXYiK2eO5Zfg5sYMO80kZIFJDiHRQBBXKE+jTa/U9S95oSBvwBQhqlOx7G9+9BCR4iQ9sYFG8BrZn+YeanCYnJY79MN1lJj3hY2bhkTJcN9teU+URVhGi0lNY+EGvaTBoDxCSl00iaK5bkRtRq01XHzm+xg+9itMcYaMncX0v965H2Huu/8aS8WDWJv6AgJXQz0BY1mZembFhMqoPE7veQzFwjCyk3vJBgk5DqGGsSpXGUdu1y209gqaC6+hlJR5PuZra2Rn65eZOw1QCHOsTyPqTG757pJGa0KMU5qgYeXoGYROkwvpyjAhuh/Cre5ESGOy6HGOtGMm0KSXVhCtImIcs4f2wSEZCSMSi26DiqVnsq8yizjkuXyHxjBpkvCUDb4773oHymKwpLf4kQZYE4S0tETZPz2g+9B/jt7hr6B943UsP/UXWHv9FINzDc7wJGFsGBknNph//kffxdDsAXgzRzQwjuSNx3Hxj/8H1Iu7sLj3K6yfDI7wpPHDgSWvpLDopX0rR+LioDT/LMoH7qNH+Ai9Mkr5UeQyIdZO/wCL3/5XaKxcRWV2L3npNHqEpnbAHE4WTYansOFEPuuONfpFpeRRqVbR7zEJ7rWpRO5jkY7zR9mIcjFrag+CFbJYSwbH3wd5s09EKPXBtoLxb+lFDE8/hCxTiXXGtmxMj010joR5Vw1DQ0cY/zYQ8JXRmKMZ/9Rgr2/aZckITDx7+7JtZckyNP/AnIiNzSib5ynd4d24fN9/g3Z5FuHOO2CN7UX3+lmsvvwo1t54iQLqkngUSRYr2HjuhxgUq/SE/WiffRwXvvW/Y6VwEKsHftOMDKTDTsYdeT5Z4WYnGLDzWSbMi+fgFvMo7jpAYeeY21zAwnf/T6yeehLlo3fgc//hf4XZu34Fg1yeVJwe2WScCkgE2O6ABuOw/vTCIaGQUJwbOcyQcp2aowDlRcbyFV+AHsnFGD2nG7cxIIlRv43CDZPNk5iI8dEg2ldR3ziPYnEUo0MH0EsC9AiJKnYcUD15E9t63XVYzNU0CccMVuvFpmQ0jrl5zrcr2/csKYturmEWTWzJyjV0okNfQW3ifiNWjT5Iab19n0WP7wGD+vKZF9C4eoqQQlq+vIiQcUAJ840f/iHWvN1o730YHatI+NCFQCK7SWA3lWSK4IkxgIzSCzfgLJ5BkR1de+k7qD/1TYyOFHH0a/8Jjj/8uyjM7KUyx1Ac8dFt0SNrDcaM6xRSQnjVpAFdHabE+fLzk0BunAnwOZ11U1H6TW8ySFKjXp/E5hh6zUvmN3mXS0jM5LLwK/vQ57GsGrkwwXqX/WJsKg4fYKJO2KVXWX0aRxxx3xHCSEibWGfVWzkX/9JTU+OUkb592bayDA5TSTqRLhloAHZAAbdv/300GTcUwOUZyidCa8gkrNHUreiWp9BYX0Hz9A/RX1lCt7GM9vw5tEgE6ju/gKYzSgH0TJ3p1du00CTSTnG7XgmV5TPPGVx6HI1LZ1DOVnDkV7+OAw//Bxg+dASe6xriYCyfMS1LgTbXaeXtOnOlmwZOdQ4nZh9oZOWxu0kgrpLlrUo3LJuMTV+0Lz9nggbJyzGE8TpjcYubeSx/dsZ2URE2Oi3WawX0IMYtem4cLBNWN8iGCyiWjsCPC+gSisNsFoX8LnQ6czxe1700opGeRxc5t+tZ29uLRQ0VhBjCwPNIcSjtQr2yiwGYFJW/O2Ra7AprpaWQVbW9IurT96N+4ncQ7L0Xq0GAbrOG/s1rWB+6DV2nxOMYz3SZXU2RxStP4TfzXUXQKIhk/MqBNDrqkVIH2PHg53HwwYdRHGVcpIVqfiFJN5Wq+JTFyOwsdp68g/Hx00CFRIICHWiUQzJivMoVJxC2Lqen4EbBvGCOv5q+am5IyJjc3jiFYuXgJvRnKQMCW4ne1jhPJNHU64ixViFCrc6SaDQRzV1Dd+0MQKXmdx1B3CEcM7fzyjOEb5dtVd/kqVJUCpnbKZsSefsiENGleXVKVi/l9McPUeBlREyA3QGTSOYVLgWaI1tiFDbUfaT+Kiaf+9+Qee6bGKNSswMG6ByDM5lcOrAqmGNPMynbUpdlEOl2fjYCZMzqr8KrXYW37x4MJg7iwpN/iXVRa+5biHS5QnMO9dLwTsQcysWeY4eM11V3fYbbRfnZcnqAV2Yi21+AFTBvkHFxe1q2BCdlkQrQOPudGybOeIRMDRv5ZImDPhXUv2mIRJSUuF1XwmUFXXowPSxTQ6e9guWF78EK+5id/Ax6ToTq5HGSjREqXpql6HWRNSbr3WbZNgwqpmQTjToL/sTYGL9u+SJaoydMrIwzyolKfO+ZAdRsaxG7zv5b+K/8OQqUx/g9X0V7XSMBPGmHAZsBOSxOGUuV5xA8zXkiWr0GgiUAQ5OpBgmv3LwIp3YFa3f8cyTT9yJ+9c8Q1FcxdoQCyJfo1R5sCsumgTiWIIvW7mQxvCOHpQs9WDEhqrFEFttHderTaG28SouXN6l+FsUNwZIUt0ntE5f1kPYjS2VphlP/Bkan7yS8vs4kuguXhEHXtiy0kI2Yo5Etm0v6NFldWHEiQmWngYDQVxzdz1RmDyr5cUTRAqKwwT10Pil5sw1vU7atLHORUE0hVsS0XrtYQv3Q19At7WCHRUcJg1ED5Y2LGD3/HZTP/AmGBnVM3/lFjN7/JXQvvILa0nk4ex6g0G8g17rG+DqMTn6Gx7ODBp8kKM150JuMgttpgZVgCcPn/x06h76AtR0Pos18y8vnEZz6NlyvgLEdh2DRU5VauLR2GVJfIyQyMM+hJxWwNs+klfmOvNYfO4DOjVM8paa9SdjyYsFS2kcDOPQqsUgr06JXklCUd5GeM4ku7kZz7TnuS6PySLTsIo2iyiw5y9yyzPNVGS8rcPM58qhRZP0pkxO67FvHGwZxmUbFcFCnZ7Kvak/KfN++bFtZGnDVxTRZAgEMg7FDqO/5IvOdIVpVH/nmZVQuMo86/y0MR4uYuvVTGLrjS/D2H0ZYX8bSj/4MnekHsJqbJqQRzkZnkdx8DYPyDgZgXapnoXI0yCtMl6IEtznmcZXL3yHlymPj+O+ZqWSKKV0SmFzcQfLq91GZ3Imh8Qkip2CQ0JLWxqNpVPRYr1Ii5OXQWKOHFXwytQaatWtI7J7ZV/Zt/stmNFbpMGFmapDxyECZPzk55meFI8iVTqBLS6pIuXmer0ClFMpw/SpfZXOc7XBfl23QrGCyY011GzAud/tryOd3MKoNqKhXkbRWdEoW/v5ee5Y3ILNichpYecanAP2d96Gz80H4SRNj5/4E/qt/ipHwJiaOP4Dhe36L3ONWWISPQdDHyqtPILpxDusHf5Ow0sZo4wqmDt8LRmG4159GMHqU1JrWSSUQXKksJcQaAI1QWTuF8sKTWHvov0arsIPSFGOURUZknAeQXb2M7rXnUdp7ArmhMXqWRikUWzWcpWtYFAQTaq/q6rIZgjbjpV1hSpsgV5kx+VKedLs4fBAFvueqe+EUd8C3x8nq6EnONBwnjzA3zNhcpoJ5fio7qJ1G3Fgl+1tC1CHENpsIu3xvr5lLLb3OKhNz/t5aRtzVEJVtcrG4x23dBSSdmmmjBke251fvQFmydp8UW2xtQCvCrnvgteeRe+J/hr/yGqZO3oOpB7+O/P77mPiSdES6Qkooa6xh4YVvojFxC5arJ+FFa4TKqyjP7MMkGVvtyil2oIU+hWXuGqFgBUWKOQXmJcMXvoH28X+E9ZkH2DkpiqSAMKLcNnQqhOEJxBd+BKsxj4n9d5iZtxpYFtFwNXGUxxT7jC0VAjmTosU5tp9GkWM7Bk3G0O48AuZi/fp1dNauMZZdNTcm9JnsNvuXyBgXMKBgPdabIckpRT6dfIgMs4qw30emFjB/6jNeddhsEhsNW9GTRFA0Cq85+xpALg0fQxAsIknW2f4C611lvOauGvxVjNxG2b6yaPNZ410F5n4JvOUzyC+/gslDt2H0y3+A4swhOL7P4E4p0rpDMiZ5ytqFl9G78irWdv4mAalCIZJbrL2Oct6Gz2OsoXG0r7xE8hIhKkwgcjx6R0uOherNJ5Dx81i49R/TOzT4q/wuYLWEYQ3XiMkxn7JcUuoXvoEcY0VlzzFuJj2WmCz5leZB9EguljH/3GNoLl1gMnsadq6EtY3L9IIWldhh8tqhEhl72XaT7Mc5CrZAQdM7CW+uO4r22jl02xfg5PegtvosCmyvPBEJc6ewS8MQDDPukY0qBuumco3wa25iZXg/6iuvU+JMtplz9WgcSrxFScwNfNso7yBm2cZKFLsMzkuYM4SM/Z9CvsyY4PpUBoXEoGkxa7cofNAiN079FfOtGdQqt7LjxHCrg0JNlzBs5EbGkSkNI5cQVufPUzEltHKjVFSCYnsOlZWX0Tr66+hVd7FjRdYZsGuuAUFdHtGAr3KnmPlLEgWoPf9dTE1W4U3uhi9hGZKg2U8dzD39BF5//BtUdA7N6y9QwF2UCIFJSCMJ08s5JumVAVCESpy3EvOE+aLjlQhny+hqTojg2ZtCbfk1RMEaitWDyBbGSByy6Y16ZnyQcqLyNFidL+2mB1FxtRX0ud0fmkKwoVGRiIySOaYauY2ybWXJRtVwxRTqCe7YXvQYWNuXnkP95kVm8cyhchQUAzTIyDRVrHX9HFbPP4vViXvRKUzyqJD5TwSvSYJBDxmeJMkgOSkNk85224jmzyAe2mNm105c/yGSkZ1Y3/slQgzhz+Z5DXuiWBXTRO/5WeINmXDGVGh+9Qw2zv41jWg/CmSrGvMLe32sXXwZp//yj7CYO0C3JgIsvYxuY51W30WhwnYxmQ+ipoEu1ac4YgZZ+abxRMsnq2NuGDXnudmm8hdIPMbpYUUzC6rZopeQ+uuqs19h3LRHEMYMkMxTsmy7xz71qWgFTd1z5g9TWa2bPC/9P/LYDuV7b1+2rywKR0IRHCow2vkyGrf+NtZnH0K2Xkf4xqMIKGzdn+sOz5BJkdq/9BdY7zloTN7LRpLFUVkZemi+cQ2F/gomD5ykVbkURA7liZ0IF86jt7aMavcGHAbo9dt/F4Evap+SCv03f+TWMhm2QzcsiMYp1iVjR+GcfwLBMo1ndJIMLERr4Qpe/u4fY31lA+u3/Q5sEh6f8J0EbeZNTYaXGIXRXYQxhx5Gr9FIhqlbAJWlt7DHuRFaZ56EYc7EH5G3Lj2zoDxRzekQRllX3CGRCIkvRIjC5DS1koOTnUSGkNtqUjlhk9LzUfDGef66ieuhszlbahtl28raShqNrCQfMrnW7H1o7Pw8Agp6fcen4a5dRfTinyO8cYbUdA2rrz+DeOwk2rkZg+cD0m75pd8jjWWeNX3sflTHp+CVhpAbnUGpUMTGi99GZvk8rZkWOXYHO0yLpYc4Gk8j5CXMn2iSpi0aEkppN+vm732niGCcROXUvwdpGnMeF9fPPY25Zx9F68RvY3XyPviNGkrrLyJukzorTSBJCOM1VKbvpqH30KYR6bYeJcVilQ6TbLc4wXMOEHSW0jHGJM9XBzaJRW7siCEhGiyO2Lsk6qLbbdCJ+mSXM/Sqe0jjKwjbp3gu/u7GzLEZmyOiDxVGtsb2b42c/OKybWUpMfQYM7J8KZeRdediQsfUYTT9ccT0pNquzyCevhXxEtnUi99C1AvJ1hhMGVzNWCJjjADVoxVmGax3nbwPE/uOoDA2yySXcaEwhDnS/E6LSuiuAlefQOmNbyJ36a8wPvcMcitPYWj5eYzFy2SlJASMjTZfTtxDxJjgDwilzggqmS469DAr4+PGc88hmjqGhRO/T6hyyWDbJDgvG0jbukki0w1JtS/Dm7oLWe4T9sTsaJiWmFoWTpmMs99hfGpQgUrWCY8x4XBQI/nIk/ofIpu/SlUJdZjXxUwLejGa4Tz8kduIhswXnSHKrc5jGI8F0czH+u0N9F2NurzHnqXRgDS4q+L0ZfVqCHZ9Gt08XV7fSSo6unaz6wGUr/0VQsYjz2VaWpoyN2NnabmaB5jr1+CunsXuI8cxRijMEFLzWcInlZVjsrxx4RQG9IzK/tswefevobTjIDyfinGyyPbqsJbOIXvtSQzN/RjDS8+gPP8Mhm48S+hk3tai0Cwf7voi6udfgs14Uvvyv0SLXiePLLRrsNcvMke6KrDbZGTsD+Ewbi8xgT4AjwoI+nUql0k0FeqUpwlxq4TJrjFS7W+RKEkeUXedyDAJuzCKqL3MbWlSr/u86FYkUll0b3yPsLeB4fHj8Gi4A+8Y4x0zPcJ9TPLzPsCg/qt7xGxBIRtsM8H1GfjXdz3I7cotZHUuhmuvw738JKZueYCqoeUsnSasldHNjlE4ORMHvJXTmN29B8OH7zZjtrpPS1l/cWIPuhtrWL/2Ir2Gie3wBEbu/ioqBz+F8rF7MX3kHlSPPoDS/nuYeB8jDO1AjjBadQfwKLhC7QIKpOYxqXrQU0B3ULv9n7C9EiIZbdjDCNOOVn2eqQjzJJ5XwlV80kxcBk24pXGGqAp6QVdqZOK8j5543VybEtHSkJsGY830soGLHpNen3DoUOiaN+iwLVaBcat8L9xskecgx2TSr+MzjsYaxxgjN9CrKY4xTTFnefvyjmKWN+igZxeMUvRd04MzjZtIDnyegZKuLXUypsy++C+RK/iY/cofoLDzIDu6gujCkyapzhTJlNjg0vJLqI6MYPz4p+ETbkIqWb7r2FoeIYP1My+gN7IH9SsXCb/0x0O3o+jmEFGIIjf+ECn/2AyK0/tR3H0M5b3H4R+621xFxsYcGnOX4ZKSk6Miv+swNnK7KROHsWaAqdVzAM+vdERIoQE09UdMV3eI9Ek+/MIM8vSWsN+GV96DYP0cY5pGVQbsN/sfM6ckmcr6pOJ+hTBXRDJ8gv3eSUY4AadCaM8SUeqnWF/LUP6QcTyixzpZF82FpxAHq0Qjnp86307ZtrJEmc3YIBurulMSzUL4cPN5Um4GWtL2oY1X4b/4r7Hv7/8BqtO3wWGQdQ+eRIUxpXvqewwDdWTKpL3tVZS9BHtuuw8R4cIEdArOXI3N+dg4/TKux1Uk5VkMnv9/gOEx5Kb2mskuUqwuRThklzE91aXQNXcwYXLcuXgKq898F5kqj2NC6pO05K6eQmv/52gEPI6GVl5dR2bhSbJbnU92zbhHiUlpA/YxIvPt0EPGmIqUhj+FFomK012Anc0ziZ9gfnYY5ZljKEwdh13UQDZjeL/FvnWRZAdoL71CwTBRz1BBN86RdZJIsN9dkpLRqTvQ3ngdCT1b60WFlMv2/OqdeJYpmwr66dKeR/Pwbxi8rrz8Z9hfiVD60r9A18sz6JPJMR45e2/HOIUdnXkM3sYZlN0+g3QHux74dZQ0fGT+kU+x5fK8YPEi5i+fxsqOX2G/hxE+9w2Tn7hTOylgQtYgT4LDPIreHerKX8IE/OxrWPvj/x6rFEhIDxzurxKKH8TNhRvmNtf+qG5/9TG6eh7R6qsM7GnyqlREBEUWLu/OmivOXdQyi0gmfpV1ufCL9NrSCLIBFdldQm/lKtOCV9GmlwaNObR7S2gGNxl7h8wM31L1CFpzVEq/Aa2loalsY9V76NwB1pZfZ/1MvmmYA0u3u77HIxi/qFgRva3ExDFcRenqo9j9xX+GwdQuwmbdQI2VeGY4yR6fRo6koV3bQPPaBViNBYzd9WW4lWHaYZ/7KtklQyPTiro1LJ59Hs3CFJrDx1GIQrQvPMH4RPij0mzGjL6tKwH0DpKRJtOEm9/+X7nvLajv+hys9UtkjE2M7z3KY3xEF58xI+WBLnXUl5BbfZ70WTcOMI5QWGJ9JubKaLIe7KFJCvxOxjgKidCfQZskYRWteA5otdFn0jtIaHDyC3knw7nD3Fb5VoFG4bF9yytPM9Wg57BPfnEXKpUdWF54gbFYsZ1RVNPNDbl4r2PWLygW3SGbNOF15uk9oxi652vEc99YruixrbE2dks3LDilAkZmD1LAAdavvobu2k1i/DAVNsZOu4YFhrV19EkEahfOMua3US/vQ7fCmBOQbV1+BqVSCdbIDp6YfsD9G2efwNIjf4jl4l4s7HsYgzCDwsprGMm24M8cRqlYRK9NC198A8noEcIVqfTqiwhIxSUrjVqINEhmbonxp3oIjjeGQeMKX2dhMc8SDCY9XTRkTyoVxqoxslPCWEwlajTF5GXsJkmEX9ptINlukJrHAdnlCMpM2Gv10wAZq4w3tvvGo50kaxS3nfKeKEuXv21S20JrBdP3fg0+qXY6m9aiuxMGIw2skmw5GmujYl1aqmdh5RXGMOSx+MpzJANdZMigmp0aakuXSfsDQs0yuoSwDXqWLs0gPwl3g5B77Tnkp5lw5j10L72E69//YzSzVSzP/ioNosi61jG0+BSK5Sq8UaYVDP5OsYw+Kf+gy/P408hunEXCxFjz7CMKLmL8rIyeINQdRKdHD1q/Qs9voumQYJAd6rsvwrE6Z3I0a9BjrJ6iYg+alCIiu9MdKY6ub+VJSGpnUdBNC21CY3m37lFAt/GGmaei248UGzUd1Ewu1YDDNsp7oizhu3Lwft9BmxZs01sqWQZ/epfL+KL55TEpvk/395kwCr/7hJDas98Ejv4WWpkybj73TXSaayjlc+h2O4hJu3v9CK2LL6M/doDxb5gKd1Ef2oHMyiVkzjyCxtUruPn899Cl8ud3fwkRY5vDOOaFyyivnUZpaAzZyigtfgA/X6IXeUyWH0O2OMrEvI6QcKhbaT2yt6npz9ELYqytvIiktcwYyASb0BwyP6x6O9GpnzMj6sMjJwnjjFO6u595VabbJD3fidFZko3SBLyxuzDonUV94xr7T/q+405kyEJb66/RUALjfeYWIN2MR7WZdOiX6VlWkiM2MwnUymG1OdSvnsH1Jx/F+qk/RfvSCwhWLyMb057I3Dq6gkpDcgknC2dPIajuxo3Dv8Y8zEb/hW+hd3MJ7tAeeFGHnexjZXGe+65go8pkckDGJ2+lUOzrL6Jz7VXSaZrJxFGEuV3o6658JqFucwNDzOMqs7tRqeZoTAFJThH54Vmgfg3JynmQ6yNprKMydQvK+RksL55Gq/YGbHq0Q1jTMkEDFBh3iY3FYVjMv6LaKgZDQyjoVlcm15pvEiQr6ARX0ag1mFcdZSLM1MHOwXfGULTpcbmjZiUCi4n4gH3SPV2kuOybRvrT2GWC3jbKe6IsDfGbBT5MsCT9lbEwF4mDPjorC2hcfBVLL/0Q9dOPofvG8wjnzyGuXUdn9Sai9TlkxvdgY+ozAJPP3twL6F5kDuQRWpm/WM0mgvlLaEx/ih4qFgjkghVk1y8g21umh/JcKxdQWX+J2xfhhwmq9fOs/wpyxSFzjS1qRUxwGT8ItVHoMXpO0zgOwqpWyWQXUV98FYOgpktNJj3RqLtuMtB8jq7fY0K7G4O4jkDDWi0yy/IhwglTmW6dcVk3ELpwGauYZVMWzNPWXqYXLaIT1Ug0mFjzc6950xASQZ+53mUUJHltT1Eq7+s9xQqgGhM0FJnulNF4m7axgVlNaOF3eZo/fgTrRx5GZ2gnJjQyfeG7cJbPYXh6D7J5QtwLj6Fxx9dRK9yKQuMChi99GwN6cJ/5jatRCGpQrCrRNSS6rEbO4yjDfI1e5Y/yPGyD1ZEstSfc6Ydo7SQ0HVLu64+jF9ZoXJqvSGhisquoElsac6RHEMILIwcQkgkG9Q32ifGGUF0ZOWruhw40l0LbcgXGqDvMLF3diKDkOXKYzBDiNTEmTlT/uyvvq7KM7dDyNflFoGI20O01HVOzLZSXebTIPrFds5DiXAWhvwcYn4DfIRwuXUWmyCNXWmhUdyAZuwXZ608i00gHYXXp36cQQsulQJilMffKWLrJgNBIi7eLVUR7vox6Vms2MT5Q+BEVmSUJmJp7Ek6zzZxoCJ3lM4z+KyZJltW7GqCgsqgBDULRmA6hQ2iMlkk6BLXwUCkwsScVb62+giBso7zzblj9GI2l06Tm7JlGOkjbxYJtpiLpJNJ3J+r3BAZ/fqFiyBTNDWxUmAaDdWOazZdmzkp3Wl7OGbSI57rxjEytNY8s441do0IYJ1rchoBpQHAJztpluBpQVT6mSM3/Gu8zCxHzXFJIQkFGZJgmHpD+DxgLG5OfQYvMLXYm0dUtqEzSdZ3MXzhFa30QQ3mSlgYh1cwGptIJgbrDXiMaCev0J+9HpjLJ3G8eYb9rYDImAsSlKvIjO+HQ0/LFw2hde5w8j8RDoyDUu/ouMmEaqva+y/I+K0sjHoIoiUDDQ4RDwpZmHelGA03IVJzo6WZwKlMjGGaRj9hBQCuU58gYlQNZ6JrlEYzCVSfVIrjSGULGMs23sNHZZJwkCdxfI8SN1iJGeytoDB03F0AVUxkI4fZyhNRnsXrkcwgmboWvqWSMW9nOIvVOr5Ux2W2ywTyGJr/Io8Ywmh/FRPkYiiNMG5hLWdkpphu3Mg87idblPyNUtrmf2qS+pKMjgsOUQ3wElJVm6BQu26qRbwOJfDkm1nAbiYhunDYZPTukuzT0rvE/l/Bh4g+ZpkclmHundAyPp6/yO61W9fK7pmUr2Ae2lmtVrHQZ0xyUqbiws05fqyMqzRCVOjygQlH2UGpdQHPiLqwP7wMq04xvYygkum5FJdFZZWSFoYNwCGe95aexvvIC1pg/9en9nagJp09SQqJht+dRXztLpQj2CJxsszxbLDkd1VczP+TKko2Z6VZGUfIH2Z3GwRy+U/A2gzh7IoiUxatDmpYVUUquGTDWi/mbJm8yRzI3PlAQKvIsQaAgJ11QUvXqKrIuY2h+hsb8NLISM1ty4DInyg066JT2EC4ryEYtTNSUOtyCdpnQKCWX6Cn+OBmcZkzRoMpTqJYnsHHz5XTOBGHSDGSTFcYB2WGXiTDZYYfJrolTTDXUMnPl17iToF/b+Z1CeLfqel+VpcZJDXp/8yUFyPL4WZ6yGXvS7fIuvevXTSXzd7EpWflWTpL+uvU33ZZ+SevVWbVdFMZcoeZGrcKpdZs8GkhSYOyyixjZeAW9yizayuEyJRpFjHaxwvyojOpgAm5R19bOoV9/3cRdA8dinQbSdA7GJc3iogLNOWgU2sa9+FcUXW3TW7rvuy2q9f/3RSsGWFrYWFeur/4Ykze/Z2YSd0A4lBLpiUyG6B3au4i1Clmpw/wqWkBz/TptgAai0XnjralnfxDlfaXuH5ZiMZ+zMrrAqfu4SGwGdWT2PYSol6Cz8w5sHP51c7km162hdO0xZC/+BZNoUvl+Bn5fM3sVd6gkw+w+uPKxUJaCvW5W190bIWFRjFEx0GLCHTMhb++9jUo6i/LqBQyqeUzvYfJNOv7SD75lpqyZ+42ZfylGClzTkZpffvlYKEsJNKOLSRkcEg4l0RK8JqZqcUqvWsXowfuxe99BlI5/GuNjM1h85hE89n//j+gHWq1NQ0/pbbrpUNEHUz4WMUt3vegmASXTPdund/mMQYI1CT+D8emDuOcf/Gc49PA/xPiBvbBKeay1Vkke5FUiFNxP9/5qEPY9oQp/t/KxUJbSBJX0KT4EMuZ4knlEj9Pgx8qFU7h+6jvUao45X5YeFzGvuoJEK8Mo2aZHKqVPFfXBAdHHRFlvesNWiqBiRkFIydv9Pp76k3+FS4/8v+YGhyDoo7ayRM9Kx/gMNTd1fHBepfI+j2B8uItELyKuUYY8af31N87CK+XgeR6uPPcjdNYXjbIsDfB+CMrHWlkm/abGRB7MXf6h5oWcRbu+hrUblxB1mvz9g/Wmt5aPBRv8+WUT3gYuYiuBraUf+D3xs4g1fKTlYz5E5WMRs35RkXelCziSktOLApGOQIujaFD2w1U+5spK73J0B20qS9fesszBNPfIV1aW7vIhKh9zZWmCQUzFeCbh1V0wmo2ra1Ep9fhwlY89DH6UyifK+giVT5T1ESqfKOsjVD5R1keobFtZP3mGlC5Rb16mTi/PaxqM/rIqcxXVZvKieXJbjCqdMLKVfOoinr6auzZ4zJtz6dSUtC7N29BlfNWvuejpObV/msSm7TCVksXpMr8GaPUudsdkltt1HrVJ43/pQO7WJX+dQ+3TuybgpFu1wJd5QAy3pOfR/pHpR7pFdegcmmbAdlkxInNpWTka33QetYvfzQQZXfPiyyy9YGSh8+iVyiQt2js9/3aKWrC9slnn1inTDvATG+SQ7qoDpnOm0eySmU6tPCYVqIQvBW0pJ70fNxWNqWmr/Swxv2hf7bOlGPN5U2DpbKG0m+lkG33Wuyb8a2s6USXt3payeAJzDn3X5fmUtlvQCLxu4hvAzPVjW1VbZrD5pDkj3DQfM8sEcX+X1qRHLmmJu1Qp2o/70BhV9FUK1GwryUDzNjQtwNTH/mxN+JQhvpNpAurFtorWgTUPS7H67FjfdCpm4qgLe5GjBSEpKi2lLc/R8w9NJ9UJWaKktLl9s3OyTAlJywoYizbXioyY4OpakxGubsRjJ7mfkQfPp1U6TR3mXdPTJHxdwdURDtuj+RZ6RK0MKDZtVP2pAiUsfdINbunaiZoupsX3dazaLMPzQ5/bNclT2/RPU7I1s4mHxyW03HRtKLVd/Q11xx0NVefTdjVmYHXZ/Db7qVtpQySOHgSgSaRsV+yahSX9CObuze2WbSvLWAf/vdUzNHvIyvQwSLSukmvuvnCjdClRLXq/dUd7Kix1QHdnpBaWzmmQwNSEFJa2mpNOTyP80NqlGKkwtUZ1TJAicNMxsl4dp5YJpmUSqkNz9tReegw9LzWWtJ503/RuR80v7Lk0BLvFfXTbrM8jHXT8DUSuHnfBc2nCJ99TI/PYLilIE2x6rIov1ZrICzUtjm/6xNMZb6anOVHeyANU8mCgRVs86Nbavp1BwIjRZxu2W7Y9kCsYU2OEwZoaJrjOUBkRrcYDLdMaQexqISwKNekgCZsU+jA7psdDUHguFZgEdAg1LjSKkwAk1EQL7juaVd7n77rHlljvUmH0MC2voH+abp16E0WX8WDbIxjEyxSwbJp7GOVHSAaaWKmbquXlXbP2iB6hpNtlNeFFV4jNSLo7zP5kzGRTs4ScPNQKEA1ChOwot3C72sK2URm6pUleYjtleGyzPNg8A0wrZ5tbeWRMW/MzaDIulSRlaR+ex6AS/+nGPcVkGY+erjdIaOA893bKtpVlTkWrSmhpqtyszmx5yFankC8fQ0LhakFhrf1u95qIaufRbc5RURQgTW145g5EoY3a4msUBCGCgtPd6tyZBjuGIT1KsH0JUWOZv1nIDu1DP2gi6cwbAchQFF8UAxIvi+ro59FuPouktm4MyMzSzXSojDzibBaloSPoaCnw1rps3FwV1koAxjgo1LHdD5rZuzId3R6rOX9WQkF2V9BrzCHoLvNcNCrur+nEA3eAXGk3SvnbEebZVxqdZDLoL6O7cQFRa4n9Yp8oTU3KKc48AHgjPGeTRqDHUm0qknFM+2g8sr581iyYLK/cTjE63k5Rp1KrESTpEQ8JssO7UJh5yFhrZ+N59BdeQbh8GlnbQmn6ASTDWnmGgZSNa4UuSsNHkS+UWEUKj7I8zVb1y8Nw8jsQ0EsSGoHgM1vYj2LlED1I5wtYjYTp8xiSA/bNze0BdzLtMVOUJWy2zxATrwx/+AA83ekh5ZrG649gVXbvwClOU8kFhBs3aVhXENQv0FiWYRfGUJp9kIqZZDPT+mGHKBVPYnT0U2hgHt2lcwiWnkV//YxZF7cyeS9sj33ludNZwoxFuUnkvVEaE41vbQ7J+g2e6yqCxmUa8WW0GzfoWYrhatf2yraVRamqqwzcmpJFo9G9uyMHYLdX0L75A0Tri7Sua2zMGaws/DWCpIV89RZiPwO8EGrhDDpUkjtyIiUrqs9psgEV+NVj6HSvwG2tEtcFsTaoW2SGb4VT0Lrt6VpRCeOEbhfSQliBfqfgRRoMGWe8DDMiCmRrUqK3F5nSTkK1ftX5SBK4f0wv1/3AEeESrQV0KfDeyjl0115FsPICmnNPm/uD9cAyn+fUTFzHGSWC7EVN/Vt6AYP104i17NDaFdTmub/vojB+lPZAIsEe6YYLMb0kWkVPSy+sXkJ35Q2+n0WwdpqvM2ivX0TUb5n2b7dsX1ksZq0I42MUVL5IC64iXnkdERmNBGEzQLuEtkG0hHrzDXhODn5W90wxziRtNvglesQ47FKZ9Wgun41CZRYZwlGflmbmO1C4uk8qqwt/WZ/eeIJ2oniS0mCTHVGhb6W8xjjZAMU3eV2OHpV1+yiVJhiwRKclQu0vxeovYxfPIaKhYvpkIIp97DbQrS3C8w4iyOouECCfKbEpFfT0qPeAYMwY21ewZEzUelGDjVUU82M0FsqEjFCTcmShKRPs0UA6fGktDMZvKlR9F4RutWa7ZdvKUocURA2ksETqLF1ecSS9wZsNc/XkbVp+n1i9toH+0hnGXy2QD3acVkcL04Mz7eo+CjUL2/KRn7gTSetmumYsBa7bfJTKCnLtqE5YOgCXcdGO9dg/LbX6s0so6BR5oOJtf5qW+yotl9/zev4+BbslGGlzsy9SsIEhnktnlfeayyOEp0FEkWoVaf4Lua/mwTtMPfQUHyvJ0tD0dFZ6J48MNl5BnR6nGyJSoiNFyBjYXkJ9aio0NCEEj00XKVEY0Pn5cZtl+8pin5TkmW7xS6YXwAlrSEaOICvBMknUurJa9Sx0umRU82g0LyLWo414nPIq9hO99bPw8vvM3Rql0b0UwhDh4RwbLban0QIt9h8hcAh1tRtoMQAXxz8H1xMMS+ib5afhg9+VDznOEHOaAjpaKL+7AW9or3TAY99qxVQWNyrSGUVSuGaUwQg5nX2re6KJY5RQG/1MHXHInC6/3zxxQRNFtZSfFlYO6Xrt/io6tWtEA6UP6TlkbFqsxNyDRgsXI9W7WSuev8mzpOj3BQbVNdc8YFkCY8f1zI2NSxhUdyI/fS+xp2pcfMu60qawIaTculXHivNUDJPp+hI/J6iMHYI3ehei5msI21o2m0ZAJiLPNcZG4cVhC/3V5+mBhKHxu1mvliZIwcPsovq3CjeKEucru0j5SbO1qmZrHq7uySJsmVEL7mNkI4vWB7K29GxqqQSXUvzYptdYygepICawmS4T2vVryA3thzt1H6KivMJmTsnf6CkqIkG6oU9s2RgGFT4g9R8o2Ve/CYUD5aSUkR6ynejF02v/7ZZtK0t2rY6JnktMOllr5RJa8y/DHTuK0d1fxvDOB5ApF9lo5l7UluaUCz413OTI86wOgqBHyLuIbHkXBtkSOssvUUy0ZkrK3L3I04QUVPpsD3a7voxe8yl6yN3ImhU1JfBUSeY9bRatVn7iwx7eATtYY57HGEFlkWbCL4y8KRTFFLVqE/7SoSgl7lK9iIEWqSSzi2pUFQ2TyawdMlGm0XQ23sDQyEGM7fw6KjP3IS56bDMBLhIc0ky1KIvaw5aYYatsBfnRg8iOHEV29Ci8sVvgjx6h0mfZYD81HtOB7ZVtT0VTbqCFR8xwDs+ixa0sur3XvoL22huk2NyndJIN+pRZkbPXXmKHNeKgISAqAT0wFSOk8A+T5rh4Av2WWNJFeg5ZISG052j+HjN710GueABWSA+hwGu9KxgeoWe5Pin2ZTOPzxm5DUn7AuJ2g9aqqJAhQy3D2XMS8fwbJAorzIH6cKZOIEfBd5hvieLLWyQgf/xOGn8Dfa0WwzaCKYJLhjsyvocefxi9ubPmgZyWu0ZwzZM90kuYS20QXlGMaGx3ID9yF+HZRdy8QSBgXweMw1rKnGfIjrH+7B6UCxPMGW+FX9IaUkdQZK6W87Uwix7z1JR02P7U+N6ubFtZCpjp4GMGuVjLDjC1dbOEOCXDHYSNNfSYCDvBdWTZIG/kXkT8bJ47pWQWHq1bE70iyoUQUt4DRzdUM3GNzaiDhEgxUvBZ1plhDqcnicXNqzSOmHrvoFA9TAUw8dWSq0wbnPq8WZBLg7B6mPVghkkrmAwvP4oePUVjd9kc42z5VlJzejAhyY6Lpr7S9J3kK7MokpK7E0fgjp5Ebuw4lVNCe/V1UnqSIcamxAoYi0QUHMJ4Dzkm9r0GIXaVFH6wglz5GLzhOwxaxIMOJSVYdFDQg2LiVayd//foMCfrLj/Ddj2F9sqzaK2dQ8KEXwYmjzRv2yjbhkEFYDvWGBiZHZNencAlswv50Q3zFBi3s7E1dnLjyvfgxYsoDD8Ay1buI0XrSAV0E8l+YdGzEam9TcqexpNOgzlOf5lC3W0eN5FjW2JbA7yi37qBPEcjOUhiUzeLW9la1s6lsM2ISDVdd12PTSeFVi4XUXFB4wKaNx9HZ+4xdOceRevaI9i4+iMDzWGmYZTqRhq2Cmlgem4Jzc7IgQyQRKG+eh01Hmc7Pcbt+0xspqT4UpsJ4VS2HjKd6G4Vokwi4yMaaQ59Kvqt1/bKtvdU4NcYmtigYpAeGWi7VXZCsSaloF7SNUyKQQbNldeY1Q8RJvSIQB21ybjUGf5Xx39ekTAF6GaoSruRTdpJEy1CkOWPkcrvJqQW+TvVqMFh7mvlPAwKM8jkXFRmP43Sji8gu+fzTMKPU0EW3MIs69DoglgnwVAjJb0VdBuLhFZ6aP0m+nxFPcKlBG2MivWSYMRMMwZZ9kVbGAp0L7SepOBQaSHTjl7tOr13Nw1TlFyKUMu2XqmxpZ/Tfm/13eyZftxW2bayRKnVUdFWTTd2KuMYmX0ILuEhMnfAE/ljeoQGPqmcsF9jzsMGGlaVQmjavLcvElS6t/7p8odv4HbQYD5G4ToTjEt6XjG3aU/lRmVvkhBFL+DvdkR6bMgN2xXNU+9khT4VKU8VK2T9IKXWWKESV3mnvEdP0zMXFQXThHlBvm7zyZZnSSjuRY4erTFRXQjRk44Ux00LSGaUR2WcTRJjStp6gxD6xnOmR6b/DMrwZfKybZZtK8uMdmvFFCmMHdEaEwNvBzLeOPOtMr1LK8VoCjKRWCPlGhdjh9L1itLcLD3dm6ZkRizST5vvadHjZTVKnS6hnSpMyaTdjxDWTqEdMG7Qwm0zsKuHHPF8pXEMgqtYuvFdrM49jo1rP0Lr4nOoXzyNxvwztPohWHl5oy6tJFQGjUoGRlnpPFK8mKigzJEnRyajZL9IyTWpOjfN/o/wGIe/ZxEwoTdrBopd5od5PGl5uNUP9lismS+m0KxH5xQD47bNlx4DoqInjm+3SBrbKrIidUrLHmgFlkF7lZCxCHf6BGOqB0cLgjBuWIwTcbGK0tgdGHSW0O812FRRWipRmTsbqXYau/uJsv5mSZciUPJos9up9YsiKy722yuwa6+YeJChITgaDM4yh8vtQocwNhAbo5doLSaXn/XgTDQXtI4kDUijGekliiwhzECsoe/Kw6R07sQiEOi7/Mb+ai14reBphevAyBFYpOMDS6MvbL9D7y6TjhengPoZ9JlEmwFqGSTrNYPL5nlapPb0yow809bDtvMm7oqIaLR/u2X71H3zPY1PpO8x8xhaRa4yQpY2Czc7DK84Br8yi9LECYTBgHnYkykb3BQKxWAkYduk5qWdFEIdQWeZdafZjjxEcU23jhYLe+nEHfS6V3mMmKKsnFKkMJJgHQU9S6t9DT3GR69URbG4C8HKG2SLGxRyKgABUEgP9KgVNz9r6gg6zL3YlpHRQ/RQ0vI2FcxmmYFXwa9giS8N+GqRY5WBvIaKyI/sQYlpySDPPjN38yu7URw5hLC3Qe99miapK2saZ/FQHN1rls1zs755MGe+PMU+z8Iv7yCDnEGhNIKQ5ENrxadA+fblHdzyYySeWrswnh2PKKgM85mI+O/mmDz6Qyb5DOpXKbgXEeuZxIIDHUthKG1NE1kKhJbd69bJjNqUjTopqKAi5FWEDDvMUAgUpp6cbbzShHdTlRiVyxyl02uRtbXYJj3bqoNGa4UIs3U1md7CemTfRvhhD3HcMBdF02taHXTbbF9fUxBMtXzpX9reFLb1zjpolP2wgbDL46GkucScr2pGo3rM+1paso7n15QAE8PkUVRwyLQiiiK2V8/Y6pnPgRYWIzPUBUulHZlI1/Z4qm2Ud3DLj2rc2lUN4ncJkUJ2CS0ZhzBCjxArjUPNR9C+m1DzM4qWONBQTIbJsoEOM0GFVZpgTwHr2pVOwbhkvJpGoPrMMA6NQ0+o02/pfb6sy0CYVrEmbaewBowrMijFP4cxVKMLypkUb62wiIgwp6f82JFG5f92URv0NFgRJkGx1pRSjyw9REBPQ6CBmGej6Or3gAbCzzIos7iW+m4pBqpVIiIiFlpcTP3e7J+QRkNZOoaxbzvl76ystGgbbYmCTC8AkoGxDbIU8xwt/pZOfkmLvMo8X4pFD2BJxxDF2raEIhPQd1ZitSkM1mserKJj0nPrEoTYoWYaabBVV3Lls+noRGrZugyveKDtmj5gm8ce6ZtGzDUGyd8oTDNVgFt/ZtEFT7XIjPSrLyI0rF+KN9ajbzzWMEz1Q6Pp7LEZ/zMYwn0kDEmBL/Vl81xKSZQC6AqF/vli0dsof0dlvfUQNkGCZ6PSSSr8lY1IX9zPeMTfLqnn0bh4QBqx1CUphRCWFLlDzRyrJ+qkk1MoWEGwsQZ2Tpa+6YHpFDG+6TdT5GUU5WY7tN2cjZBsVlrT/qzLGIk5598uRuksaSyT5+slSNTydIqhqpH7mHPrc9p/w2DZLj1VIe2h9hS70Ywq7UOlygv5i3nygtpovr19eQfKSpv009Xqu67gSrBmnqAEan5R3ODXn9OOVLBbP0qwEk56BjOSbeqUQFmnGW3n76Z+HaPOp2NwmnFkFKli6tRLQtT5VZ/sX7CpmUisT4omdBr1qT6zz98ugicVMcu0bdrzzTab6XM8VFHODArzVyk1nQyj31IVqJ96mdEW1WCO0XYpUZ/YEtPWty/bVpbZiXWrgenptj7rXZCSMqnUy/i7GrkluJ9RTP9YeBj3k4Vpz5TupnMI1Ul5SCr4jCxW0GY6pm08uX7XS9ZplGkkZX4znrGpPO2qOqUoraKmOX0SmhWnj3f/WSVtn+i7lKF6WKM5j84vSHuzfiP0zViUKk5FytCJN79ttU1btwSnH9/c5W3LO/Ksn1fShmw1Qq83G5x+/8Vls1ubn2SrEshW51S26tyqb6vOt3Zzax+Vn/49teH0L18SuBFq2u6fXd6s4ycKYP/Slm5+f0vR9rT29Lc3a31LPfyb7vXT5ee14W+Wt0rk71y2PCotb23M9hrxEyGavzrmp5u1Vedbz/HW86i89ftP/74FOSqsY9NTfnH73qxDfTMv8+2t9b5ZUlWkrf+btb6lnp/8/enX9sp7oqxPyi+nfKKsj1D5RFkfmQL8f3rcNVBoFD0RAAAAAElFTkSuQmCC)"
      ]
    },
    {
      "cell_type": "markdown",
      "metadata": {
        "id": "wVoh5T6q0pL9"
      },
      "source": [
        "**This task has various theory questions to be answered here and there. We want y'all to go on Google or any other source and research about the same. Don't miss out on those, as they will make y'all conceptually stronger, and give a better understanding.**"
      ]
    },
    {
      "cell_type": "markdown",
      "metadata": {
        "id": "CGqyK15F8zEO"
      },
      "source": [
        "#**Why NLP?**\n",
        "Natural language cannot be directly understood by the computer, hence we try to convert it into numerical formats which are understood by the computer and can also retain the semantics of the language.\n",
        "\n",
        "For this task, we will first look at the way text is preprocessed to optimize  its representation. Next, we will explore the various ways text can be processed and converted into vector representations that describe the context of that text in the best way possible."
      ]
    },
    {
      "cell_type": "markdown",
      "metadata": {
        "id": "0VTP1xx5hDO8"
      },
      "source": [
        "# **NLTK- Natural Language toolkit**\n",
        "Natural language processing (NLP) is a field that focuses on making natural human language usable by computer programs. NLTK, or Natural Language Toolkit, is a Python package that you can use for NLP.\n",
        "\n",
        "NLTK documentation: https://www.nltk.org/"
      ]
    },
    {
      "cell_type": "code",
      "execution_count": null,
      "metadata": {
        "id": "YhPSUJ8rhrt9"
      },
      "outputs": [],
      "source": [
        "#For people using jupyter notebook, you might have to install the NLTK package. For colab users, you won't have to do so.\n",
        "#!pip install nltk"
      ]
    },
    {
      "cell_type": "code",
      "execution_count": null,
      "metadata": {
        "id": "EqnQ3mee8prf"
      },
      "outputs": [],
      "source": [
        "par = \"\"\"\n",
        "Natural language processing (NLP) refers to the branch of computer science—and more specifically, the branch of artificial intelligence or AI—concerned with giving computers the ability to understand text and spoken words in much the same way human beings can.\n",
        "\n",
        "NLP combines computational linguistics—rule-based modeling of human language—with statistical, machine learning, and deep learning models. Together, these technologies enable computers to process human language in the form of text or voice data and to ‘understand’ its full meaning, complete with the speaker or writer’s intent and sentiment.\n",
        "\n",
        "NLP drives computer programs that translate text from one language to another, respond to spoken commands, and summarize large volumes of text rapidly—even in real time. There’s a good chance you’ve interacted with NLP in the form of voice-operated GPS systems, digital assistants, speech-to-text dictation software, customer service chatbots, and other consumer conveniences. But NLP also plays a growing role in enterprise solutions that help streamline business operations, increase employee productivity, and simplify mission-critical business processes.\n",
        "\n",
        "Moreover, NLP technologies are increasingly being applied in fields such as healthcare, where they assist in analyzing patient data, extracting relevant information from medical literature, and facilitating improved patient-provider communication. In the realm of finance, NLP is utilized for sentiment analysis in market research, helping investors gauge public sentiment toward companies or financial products.\n",
        "\n",
        "The evolution of NLP has also led to significant advancements in areas such as content creation, where AI-generated text can support writers and marketers in generating ideas or even drafting articles. As ethical considerations surrounding AI usage become more prominent, NLP is also being developed with a focus on bias detection and mitigation, ensuring that language models reflect fairness and inclusivity.\n",
        "\n",
        "As research continues to advance, the potential applications of NLP are vast, ranging from personalized education and legal document analysis to enhanced accessibility for individuals with disabilities. The ongoing integration of NLP into various industries signifies not only a technological revolution but also a fundamental shift in how we interact with machines and how they comprehend human language.\n",
        "\"\"\""
      ]
    },
    {
      "cell_type": "code",
      "execution_count": null,
      "metadata": {
        "id": "OuMtIf9wX9wj"
      },
      "outputs": [],
      "source": [
        "import nltk\n",
        "import re\n",
        "import pandas as pd\n",
        "from nltk.stem import PorterStemmer\n",
        "from nltk.corpus import stopwords\n",
        "import numpy as np #damn numpy kaha se aa gaya\n",
        "#numpy har jagah hai"
      ]
    },
    {
      "cell_type": "code",
      "execution_count": null,
      "metadata": {
        "colab": {
          "base_uri": "https://localhost:8080/"
        },
        "id": "jZft-ngkaqnq",
        "outputId": "b04711b6-9d47-4949-b515-42aa02952142"
      },
      "outputs": [
        {
          "output_type": "stream",
          "name": "stderr",
          "text": [
            "[nltk_data] Downloading package punkt to /root/nltk_data...\n",
            "[nltk_data]   Unzipping tokenizers/punkt.zip.\n",
            "[nltk_data] Downloading package stopwords to /root/nltk_data...\n",
            "[nltk_data]   Unzipping corpora/stopwords.zip.\n",
            "[nltk_data] Downloading package wordnet to /root/nltk_data...\n",
            "[nltk_data] Downloading package omw-1.4 to /root/nltk_data...\n"
          ]
        },
        {
          "output_type": "execute_result",
          "data": {
            "text/plain": [
              "True"
            ]
          },
          "metadata": {},
          "execution_count": 4
        }
      ],
      "source": [
        "nltk.download('punkt')\n",
        "nltk.download('stopwords')\n",
        "nltk.download('wordnet')\n",
        "nltk.download('omw-1.4')"
      ]
    },
    {
      "cell_type": "code",
      "execution_count": null,
      "metadata": {
        "colab": {
          "base_uri": "https://localhost:8080/"
        },
        "id": "XYtksrl4UBRW",
        "outputId": "dda477ac-a2b4-49fe-9409-24c035f0aeb4"
      },
      "outputs": [
        {
          "output_type": "execute_result",
          "data": {
            "text/plain": [
              "['\\nNatural language processing (NLP) refers to the branch of computer science—and more specifically, the branch of artificial intelligence or AI—concerned with giving computers the ability to understand text and spoken words in much the same way human beings can.',\n",
              " 'NLP combines computational linguistics—rule-based modeling of human language—with statistical, machine learning, and deep learning models.',\n",
              " 'Together, these technologies enable computers to process human language in the form of text or voice data and to ‘understand’ its full meaning, complete with the speaker or writer’s intent and sentiment.',\n",
              " 'NLP drives computer programs that translate text from one language to another, respond to spoken commands, and summarize large volumes of text rapidly—even in real time.',\n",
              " 'There’s a good chance you’ve interacted with NLP in the form of voice-operated GPS systems, digital assistants, speech-to-text dictation software, customer service chatbots, and other consumer conveniences.',\n",
              " 'But NLP also plays a growing role in enterprise solutions that help streamline business operations, increase employee productivity, and simplify mission-critical business processes.',\n",
              " 'Moreover, NLP technologies are increasingly being applied in fields such as healthcare, where they assist in analyzing patient data, extracting relevant information from medical literature, and facilitating improved patient-provider communication.',\n",
              " 'In the realm of finance, NLP is utilized for sentiment analysis in market research, helping investors gauge public sentiment toward companies or financial products.',\n",
              " 'The evolution of NLP has also led to significant advancements in areas such as content creation, where AI-generated text can support writers and marketers in generating ideas or even drafting articles.',\n",
              " 'As ethical considerations surrounding AI usage become more prominent, NLP is also being developed with a focus on bias detection and mitigation, ensuring that language models reflect fairness and inclusivity.',\n",
              " 'As research continues to advance, the potential applications of NLP are vast, ranging from personalized education and legal document analysis to enhanced accessibility for individuals with disabilities.',\n",
              " 'The ongoing integration of NLP into various industries signifies not only a technological revolution but also a fundamental shift in how we interact with machines and how they comprehend human language.']"
            ]
          },
          "metadata": {},
          "execution_count": 5
        }
      ],
      "source": [
        "# Sentence tokenize your paragraph, check nltk for a suitable function to do so\n",
        "sen = nltk.sent_tokenize(par)\n",
        "sen"
      ]
    },
    {
      "cell_type": "code",
      "execution_count": null,
      "metadata": {
        "id": "iiPpxtExa_Nc"
      },
      "outputs": [],
      "source": [
        "stemmer =PorterStemmer()"
      ]
    },
    {
      "cell_type": "code",
      "execution_count": null,
      "metadata": {
        "id": "vNt2X24Aa_KK"
      },
      "outputs": [],
      "source": [
        "from nltk.stem import WordNetLemmatizer\n",
        "lemmatizer =WordNetLemmatizer()"
      ]
    },
    {
      "cell_type": "code",
      "execution_count": null,
      "metadata": {
        "id": "hww7aWI1a_HN"
      },
      "outputs": [],
      "source": [
        "# Remove unnecessary characters (hint: use regex) and change the case of the sentences to lower case\n",
        "# Add your code here\n",
        "\n",
        "\n",
        "\n",
        "up_sen = []\n",
        "\n",
        "for i in range(len(sen)):\n",
        "  sen[i]=sen[i].lower()\n",
        "  sen[i]=sen[i].replace('—',' ')\n",
        "\n",
        "\n",
        "  sen[i]=re.sub(r'[^a-zA-z\\s]','',sen[i])\n",
        "\n",
        "  up_sen.append(sen[i])\n",
        "\n",
        "\n",
        "\n",
        "\n"
      ]
    },
    {
      "cell_type": "code",
      "execution_count": null,
      "metadata": {
        "colab": {
          "base_uri": "https://localhost:8080/"
        },
        "id": "GUVdLX49UPyG",
        "outputId": "a2ea7a06-9d19-4c84-d6bf-236fcdf1f04c"
      },
      "outputs": [
        {
          "output_type": "stream",
          "name": "stdout",
          "text": [
            "['\\nnatural language processing nlp refers to the branch of computer science and more specifically the branch of artificial intelligence or ai concerned with giving computers the ability to understand text and spoken words in much the same way human beings can', 'nlp combines computational linguistics rulebased modeling of human language with statistical machine learning and deep learning models', 'together these technologies enable computers to process human language in the form of text or voice data and to understand its full meaning complete with the speaker or writers intent and sentiment', 'nlp drives computer programs that translate text from one language to another respond to spoken commands and summarize large volumes of text rapidly even in real time', 'theres a good chance youve interacted with nlp in the form of voiceoperated gps systems digital assistants speechtotext dictation software customer service chatbots and other consumer conveniences', 'but nlp also plays a growing role in enterprise solutions that help streamline business operations increase employee productivity and simplify missioncritical business processes', 'moreover nlp technologies are increasingly being applied in fields such as healthcare where they assist in analyzing patient data extracting relevant information from medical literature and facilitating improved patientprovider communication', 'in the realm of finance nlp is utilized for sentiment analysis in market research helping investors gauge public sentiment toward companies or financial products', 'the evolution of nlp has also led to significant advancements in areas such as content creation where aigenerated text can support writers and marketers in generating ideas or even drafting articles', 'as ethical considerations surrounding ai usage become more prominent nlp is also being developed with a focus on bias detection and mitigation ensuring that language models reflect fairness and inclusivity', 'as research continues to advance the potential applications of nlp are vast ranging from personalized education and legal document analysis to enhanced accessibility for individuals with disabilities', 'the ongoing integration of nlp into various industries signifies not only a technological revolution but also a fundamental shift in how we interact with machines and how they comprehend human language']\n"
          ]
        }
      ],
      "source": [
        "#Check how your paragraph looks so far\n",
        "\n",
        "print(up_sen)"
      ]
    },
    {
      "cell_type": "markdown",
      "metadata": {
        "id": "JEFOBLf1mIyN"
      },
      "source": [
        "## Stemming"
      ]
    },
    {
      "cell_type": "markdown",
      "metadata": {
        "id": "tzoSqxB-1Vl2"
      },
      "source": [
        "**What is Stemming?** <br>\n",
        "Ans:Stemming is the process of removing last few characters to get to the base of the word(stem) even if the  stemmed word does not have any apparent meaning.\n",
        "\n",
        "Example:\n",
        "\n",
        "         1)changing-chang\n",
        "\n",
        "         2)history-histori\n",
        "\n",
        "         3)runner-runner\n",
        "\n",
        "         4)running-run"
      ]
    },
    {
      "cell_type": "code",
      "execution_count": null,
      "metadata": {
        "id": "yRI0zXLSa-hh"
      },
      "outputs": [],
      "source": [
        "# Create a word corpus from the sentences using word tokenization and stemming. Also, remember to avoid adding stopwords to your corpus\n",
        "# Add your code here\n",
        "\n",
        "stopwords.words(\"english\")\n",
        "\n",
        "\n",
        "wordz=[]\n",
        "for i in range(len(up_sen)):\n",
        "  wordz+=nltk.word_tokenize(up_sen[i])\n",
        "\n",
        "corpus = []\n",
        "\n",
        "for i in wordz:\n",
        "  if  i not in stopwords.words(\"english\"):\n",
        "    corpus.append(stemmer.stem(i))\n",
        "\n",
        "\n",
        "\n"
      ]
    },
    {
      "cell_type": "code",
      "execution_count": null,
      "metadata": {
        "colab": {
          "base_uri": "https://localhost:8080/"
        },
        "id": "jS99tEoxfAtl",
        "outputId": "22d3c416-bae5-4ebc-e24c-cef647af60ca"
      },
      "outputs": [
        {
          "output_type": "stream",
          "name": "stdout",
          "text": [
            "['natur', 'languag', 'process', 'nlp', 'refer', 'branch', 'comput', 'scienc', 'specif', 'branch', 'artifici', 'intellig', 'ai', 'concern', 'give', 'comput', 'abil', 'understand', 'text', 'spoken', 'word', 'much', 'way', 'human', 'be', 'nlp', 'combin', 'comput', 'linguist', 'rulebas', 'model', 'human', 'languag', 'statist', 'machin', 'learn', 'deep', 'learn', 'model', 'togeth', 'technolog', 'enabl', 'comput', 'process', 'human', 'languag', 'form', 'text', 'voic', 'data', 'understand', 'full', 'mean', 'complet', 'speaker', 'writer', 'intent', 'sentiment', 'nlp', 'drive', 'comput', 'program', 'translat', 'text', 'one', 'languag', 'anoth', 'respond', 'spoken', 'command', 'summar', 'larg', 'volum', 'text', 'rapidli', 'even', 'real', 'time', 'there', 'good', 'chanc', 'youv', 'interact', 'nlp', 'form', 'voiceoper', 'gp', 'system', 'digit', 'assist', 'speechtotext', 'dictat', 'softwar', 'custom', 'servic', 'chatbot', 'consum', 'conveni', 'nlp', 'also', 'play', 'grow', 'role', 'enterpris', 'solut', 'help', 'streamlin', 'busi', 'oper', 'increas', 'employe', 'product', 'simplifi', 'missioncrit', 'busi', 'process', 'moreov', 'nlp', 'technolog', 'increasingli', 'appli', 'field', 'healthcar', 'assist', 'analyz', 'patient', 'data', 'extract', 'relev', 'inform', 'medic', 'literatur', 'facilit', 'improv', 'patientprovid', 'commun', 'realm', 'financ', 'nlp', 'util', 'sentiment', 'analysi', 'market', 'research', 'help', 'investor', 'gaug', 'public', 'sentiment', 'toward', 'compani', 'financi', 'product', 'evolut', 'nlp', 'also', 'led', 'signific', 'advanc', 'area', 'content', 'creation', 'aigener', 'text', 'support', 'writer', 'market', 'gener', 'idea', 'even', 'draft', 'articl', 'ethic', 'consider', 'surround', 'ai', 'usag', 'becom', 'promin', 'nlp', 'also', 'develop', 'focu', 'bia', 'detect', 'mitig', 'ensur', 'languag', 'model', 'reflect', 'fair', 'inclus', 'research', 'continu', 'advanc', 'potenti', 'applic', 'nlp', 'vast', 'rang', 'person', 'educ', 'legal', 'document', 'analysi', 'enhanc', 'access', 'individu', 'disabl', 'ongo', 'integr', 'nlp', 'variou', 'industri', 'signifi', 'technolog', 'revolut', 'also', 'fundament', 'shift', 'interact', 'machin', 'comprehend', 'human', 'languag']\n"
          ]
        }
      ],
      "source": [
        "print(corpus)"
      ]
    },
    {
      "cell_type": "markdown",
      "metadata": {
        "id": "jw3yCINAoSHk"
      },
      "source": [
        "## Lemmatization"
      ]
    },
    {
      "cell_type": "markdown",
      "metadata": {
        "id": "IOfvIgeQ2FqU"
      },
      "source": [
        "**What is Lemmatization?** <br>\n",
        "Ans:Similar to stemming this process also removes the few characters of a word. But it removes the characters only till when the is reduced to **valid** word.\n",
        "Also in nltk you have to specify in what way you want to reduce the word.\n",
        "example:\n",
        "\n",
        "        1)children-child(noun)\n",
        "        2)running-run(verb)\n",
        "        3)historical-historical(same for all noun,verb,adjective,adverb)\n",
        "\n"
      ]
    },
    {
      "cell_type": "code",
      "execution_count": null,
      "metadata": {
        "id": "yKERsPf3fAqT"
      },
      "outputs": [],
      "source": [
        "# Create a second word corpus from the sentences using word tokenization and lemmatization. Also, remember to avoid adding stopwords to your new corpus\n",
        "# Add your code here\n",
        "\n",
        "\n",
        "wordz=[]\n",
        "for i in range(len(up_sen)):\n",
        "  wordz+=nltk.word_tokenize(up_sen[i])\n",
        "\n",
        "corp2 = []\n",
        "\n",
        "for i in wordz:\n",
        "  if  i not in stopwords.words(\"english\"):\n",
        "    corp2.append(lemmatizer.lemmatize(i))\n",
        "\n",
        "\n",
        "\n",
        "\n",
        "\n",
        "\n"
      ]
    },
    {
      "cell_type": "code",
      "execution_count": null,
      "metadata": {
        "colab": {
          "base_uri": "https://localhost:8080/"
        },
        "id": "FOrsdhgNfAnl",
        "outputId": "0f4c0652-5f98-41fe-e37a-aadc55414a77"
      },
      "outputs": [
        {
          "output_type": "stream",
          "name": "stdout",
          "text": [
            "['natural', 'language', 'processing', 'nlp', 'refers', 'branch', 'computer', 'science', 'specifically', 'branch', 'artificial', 'intelligence', 'ai', 'concerned', 'giving', 'computer', 'ability', 'understand', 'text', 'spoken', 'word', 'much', 'way', 'human', 'being', 'nlp', 'combine', 'computational', 'linguistics', 'rulebased', 'modeling', 'human', 'language', 'statistical', 'machine', 'learning', 'deep', 'learning', 'model', 'together', 'technology', 'enable', 'computer', 'process', 'human', 'language', 'form', 'text', 'voice', 'data', 'understand', 'full', 'meaning', 'complete', 'speaker', 'writer', 'intent', 'sentiment', 'nlp', 'drive', 'computer', 'program', 'translate', 'text', 'one', 'language', 'another', 'respond', 'spoken', 'command', 'summarize', 'large', 'volume', 'text', 'rapidly', 'even', 'real', 'time', 'there', 'good', 'chance', 'youve', 'interacted', 'nlp', 'form', 'voiceoperated', 'gps', 'system', 'digital', 'assistant', 'speechtotext', 'dictation', 'software', 'customer', 'service', 'chatbots', 'consumer', 'convenience', 'nlp', 'also', 'play', 'growing', 'role', 'enterprise', 'solution', 'help', 'streamline', 'business', 'operation', 'increase', 'employee', 'productivity', 'simplify', 'missioncritical', 'business', 'process', 'moreover', 'nlp', 'technology', 'increasingly', 'applied', 'field', 'healthcare', 'assist', 'analyzing', 'patient', 'data', 'extracting', 'relevant', 'information', 'medical', 'literature', 'facilitating', 'improved', 'patientprovider', 'communication', 'realm', 'finance', 'nlp', 'utilized', 'sentiment', 'analysis', 'market', 'research', 'helping', 'investor', 'gauge', 'public', 'sentiment', 'toward', 'company', 'financial', 'product', 'evolution', 'nlp', 'also', 'led', 'significant', 'advancement', 'area', 'content', 'creation', 'aigenerated', 'text', 'support', 'writer', 'marketer', 'generating', 'idea', 'even', 'drafting', 'article', 'ethical', 'consideration', 'surrounding', 'ai', 'usage', 'become', 'prominent', 'nlp', 'also', 'developed', 'focus', 'bias', 'detection', 'mitigation', 'ensuring', 'language', 'model', 'reflect', 'fairness', 'inclusivity', 'research', 'continues', 'advance', 'potential', 'application', 'nlp', 'vast', 'ranging', 'personalized', 'education', 'legal', 'document', 'analysis', 'enhanced', 'accessibility', 'individual', 'disability', 'ongoing', 'integration', 'nlp', 'various', 'industry', 'signifies', 'technological', 'revolution', 'also', 'fundamental', 'shift', 'interact', 'machine', 'comprehend', 'human', 'language']\n"
          ]
        }
      ],
      "source": [
        "print(corp2)"
      ]
    },
    {
      "cell_type": "markdown",
      "metadata": {
        "id": "DK5xATuz2OeS"
      },
      "source": [
        "**What is the difference between stemming and lemmatization? Is one better than the other? If yes, justify your answer. If no, determine the usecases where these can be used.** <br>\n",
        "Ans:\n",
        "1)Lemmatization is more accurate than stemming as it reduces the words to meaningful words.Stemming does not produce words that are valid rather it just reduces it size which may not be a real word.\n",
        "\n",
        "2)Since Stemming reduces the size without resorting to the base word according to a dictionary its faster than Lemmatization.\n",
        "\n",
        "Both are good in their respective use case for example, Lemmatization is useful for getting to the base word while sacrificing the speed for its computation. Stemming is useful for reducing the size of the word faster while sacrificing the meaning of the actual word."
      ]
    },
    {
      "cell_type": "code",
      "execution_count": null,
      "metadata": {
        "id": "c5iHKZMGMSvJ"
      },
      "outputs": [],
      "source": [
        "# Include all steps of removal of unnecessary characters, lowering, word tokenization, lemmatization and stopwords removal in one function\n",
        "# Your final corpus should be a list of sentences, not a list of list of words (Why?)\n",
        "\n",
        "#ans: Because to understand words we need a context and for a context we need a sentence so that the more realistic meaning is understood\n",
        "#Just a list of words will provide no contextual meaning. This will cuz our model to perform weakly.\n",
        "\n",
        "# Add your code here\n",
        "\n",
        "\n",
        "\n",
        "def preprocess_text(text)->list:\n",
        "    corpus = []\n",
        "    stop_words=set(stopwords.words('english'))\n",
        "\n",
        "    for sen in text:\n",
        "      derived_sentence=''\n",
        "      sen = re.sub(r'[^a-zA-Z\\s]', '', sen)\n",
        "      sen = sen.lower()\n",
        "      words = nltk.word_tokenize(sen)\n",
        "      #lemmatizing and filtering stopwords together#\n",
        "      new_words= [lemmatizer.lemmatize(i) for i in words if i not in stop_words]\n",
        "      for word in new_words:\n",
        "          derived_sentence+=word+\" \"\n",
        "\n",
        "      corpus.append(derived_sentence)\n",
        "\n",
        "    return corpus\n",
        "\n",
        "\n",
        "corp=preprocess_text(up_sen)\n",
        "\n",
        "\n",
        "#assuming that our text is a list of sentences\n",
        "#up_sen\n",
        "\n",
        "\n",
        "\n",
        "\n"
      ]
    },
    {
      "cell_type": "code",
      "execution_count": null,
      "metadata": {
        "colab": {
          "base_uri": "https://localhost:8080/"
        },
        "id": "0ewT5YUVg3Ph",
        "outputId": "b838ec2d-5f33-48e3-f722-7267b663f4a5"
      },
      "outputs": [
        {
          "output_type": "execute_result",
          "data": {
            "text/plain": [
              "['natural language processing nlp refers branch computer science specifically branch artificial intelligence ai concerned giving computer ability understand text spoken word much way human being ',\n",
              " 'nlp combine computational linguistics rulebased modeling human language statistical machine learning deep learning model ',\n",
              " 'together technology enable computer process human language form text voice data understand full meaning complete speaker writer intent sentiment ',\n",
              " 'nlp drive computer program translate text one language another respond spoken command summarize large volume text rapidly even real time ',\n",
              " 'there good chance youve interacted nlp form voiceoperated gps system digital assistant speechtotext dictation software customer service chatbots consumer convenience ',\n",
              " 'nlp also play growing role enterprise solution help streamline business operation increase employee productivity simplify missioncritical business process ',\n",
              " 'moreover nlp technology increasingly applied field healthcare assist analyzing patient data extracting relevant information medical literature facilitating improved patientprovider communication ',\n",
              " 'realm finance nlp utilized sentiment analysis market research helping investor gauge public sentiment toward company financial product ',\n",
              " 'evolution nlp also led significant advancement area content creation aigenerated text support writer marketer generating idea even drafting article ',\n",
              " 'ethical consideration surrounding ai usage become prominent nlp also developed focus bias detection mitigation ensuring language model reflect fairness inclusivity ',\n",
              " 'research continues advance potential application nlp vast ranging personalized education legal document analysis enhanced accessibility individual disability ',\n",
              " 'ongoing integration nlp various industry signifies technological revolution also fundamental shift interact machine comprehend human language ']"
            ]
          },
          "metadata": {},
          "execution_count": 15
        }
      ],
      "source": [
        "corp\n"
      ]
    },
    {
      "cell_type": "markdown",
      "metadata": {
        "id": "a2FwCaAq4X9S"
      },
      "source": [
        "# Count Vectorizer"
      ]
    },
    {
      "cell_type": "markdown",
      "metadata": {
        "id": "V-WsTk-o4bro"
      },
      "source": [
        "**What is the use of Count Vectorizer?** <br>\n",
        "Ans:\n",
        "Count Vectorizer counts the tokens in our text. The tokens selected for counting depend on the max_features parameter. It then creates a matrix in which each row represents the occurence of the tokens in a given document.\n"
      ]
    },
    {
      "cell_type": "code",
      "execution_count": null,
      "metadata": {
        "colab": {
          "base_uri": "https://localhost:8080/"
        },
        "id": "zZ2gQbRphZcR",
        "outputId": "277e9f48-0a90-4972-c0e2-74dd5af3c158"
      },
      "outputs": [
        {
          "output_type": "execute_result",
          "data": {
            "text/plain": [
              "{'ability understand': 0,\n",
              " 'human language': 1,\n",
              " 'nlp also': 2,\n",
              " 'play growing': 6,\n",
              " 'play growing role': 7,\n",
              " 'patientprovider communication': 3,\n",
              " 'potential application': 8,\n",
              " 'personalized education': 4,\n",
              " 'potential application nlp': 9,\n",
              " 'personalized education legal': 5}"
            ]
          },
          "metadata": {},
          "execution_count": 16
        }
      ],
      "source": [
        "from sklearn.feature_extraction.text import CountVectorizer\n",
        "cv = CountVectorizer(ngram_range=(2,3), max_features=10)\n",
        "x = cv.fit_transform(corp)\n",
        "cv.vocabulary_"
      ]
    },
    {
      "cell_type": "markdown",
      "metadata": {
        "id": "XtmvD8A44pc3"
      },
      "source": [
        "**What do the hyperparameters ngram_range and max_features mean?** <br>\n",
        "Ans: ngram_range: It is the parameter used to select the type of tokens(n-grams) in our vocabulary.For example ngram_range=(1,2) represents unigrams and bigrams in our vocabulary. (1,3) means unigrams, bigrams and trigrams.\n",
        "What are n-grams? ⬇\n",
        "\n",
        "![image.png](data:image/png;base64,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)\n",
        "\n",
        "max_features: This basically selects the number of unique words in our vocabulary. If none is set then it selects all the possible words in our text.\n"
      ]
    },
    {
      "cell_type": "markdown",
      "metadata": {
        "id": "UAoOvW_V9igv"
      },
      "source": [
        "**Explain any 3 more hyperparameters in detail.** <br>\n",
        "Ans:\n",
        "\n",
        "1)max_df:(Can be a float  value between [0.0, 1.0] or int and its  default value is 1.0.)When building the vocabulary ignore terms that have a document frequency strictly higher than the given threshold (corpus-specific stop words). If float, the parameter represents a proportion of documents.\n",
        "\n",
        "2)analyzer:Whether the feature should be made of word n-gram or character n-grams.For example:\n",
        "\n",
        "word_vectorizer = CountVectorizer(analyzer='word', ngram_range=(1, 2), min_df=1)\n",
        "\n",
        "char_vectorizer = CountVectorizer(analyzer='char', ngram_range=(1, 2), min_df=1)\n",
        "\n",
        "x = ['this is a foo bar', 'you are a foo bar black sheep']\n",
        "\n",
        "char_vectorizer.get_feature_names()\n",
        "[u' ', u' a', u' b', u' f', u' i', u' s', u'a', u'...]\n",
        "\n",
        "word_vectorizer.get_feature_names()\n",
        "[u'are', u'are foo', u'bar', u'bar black', u'black', u'black sheep', u'foo', ..]\n",
        "\n",
        "3)lowercase:bool (default=True)\n",
        "Convert all characters to lowercase before tokenizing.\n"
      ]
    },
    {
      "cell_type": "code",
      "execution_count": null,
      "metadata": {
        "colab": {
          "base_uri": "https://localhost:8080/",
          "height": 53
        },
        "id": "JYfmzSHiPFTC",
        "outputId": "51a071bb-3cf1-4a44-ebd7-6da0d13af623"
      },
      "outputs": [
        {
          "output_type": "execute_result",
          "data": {
            "text/plain": [
              "'natural language processing nlp refers branch computer science specifically branch artificial intelligence ai concerned giving computer ability understand text spoken word much way human being '"
            ],
            "application/vnd.google.colaboratory.intrinsic+json": {
              "type": "string"
            }
          },
          "metadata": {},
          "execution_count": 17
        }
      ],
      "source": [
        "corp[0]"
      ]
    },
    {
      "cell_type": "code",
      "execution_count": null,
      "metadata": {
        "colab": {
          "base_uri": "https://localhost:8080/"
        },
        "id": "V9nXo5NlnIX4",
        "outputId": "0fc8d4a3-3f83-4eaf-8349-58c439b1afa6"
      },
      "outputs": [
        {
          "output_type": "execute_result",
          "data": {
            "text/plain": [
              "array([[1, 0, 0, 0, 0, 0, 0, 0, 0, 0]])"
            ]
          },
          "metadata": {},
          "execution_count": 18
        }
      ],
      "source": [
        "x[0].toarray()"
      ]
    },
    {
      "cell_type": "markdown",
      "metadata": {
        "id": "trv21AlBS2dB"
      },
      "source": [
        "# TF-IDF Vectorizer"
      ]
    },
    {
      "cell_type": "markdown",
      "metadata": {
        "id": "t58vvxFtAdGq"
      },
      "source": [
        "**Bonus:** Give an explanation of how a search engine like Google works. How does it know what results to show and how to order them?\n",
        "\n",
        "Ans:"
      ]
    },
    {
      "cell_type": "markdown",
      "metadata": {
        "id": "U0l1bOMR_dEC"
      },
      "source": [
        "TF-IDF measures the **importance** of words in a document and across a corpus.\n",
        "\n",
        "It can tell you how relevant a set of documents are to your query.\n",
        "It is useful in text representation (which we know is VERY important), information retrieval, keyword extraction, etc.\n",
        "\n",
        "This straightforward statistical method has suuper impressive results!"
      ]
    },
    {
      "cell_type": "markdown",
      "metadata": {
        "id": "xmiogbqpVov9"
      },
      "source": [
        "For some definitions to help:\n",
        "\n",
        "Token - represents the level of granularity at which we want to do our analysis. Here, it is a word.\n",
        "\n",
        "Lexicon - The set of all tokens in all documents. Say it is of length l.\n",
        "\n",
        "Vectors - MATRICES WITH ONE COLUMN"
      ]
    },
    {
      "cell_type": "code",
      "execution_count": null,
      "metadata": {
        "id": "uAS3efVaC-lg"
      },
      "outputs": [],
      "source": [
        "first_ironman = '''\n",
        "Playboy and genius Tony Stark (Robert Downey Jr) has inherited the defense contractor Stark Industries from his father the legendary Howard Stark. Tony was brilliant from the beginning and built his first circuit board when he was 4 years old, his first engine at the age of 6, graduated from MIT at 17. Howard died in a car accident soon thereafter. Obadiah Stane took over the company till Tony returned to take over at the age of 21. Tony has subsequently unleashed an array of smart weapons that have changed the face of conflict forever.\n",
        "\n",
        "Journalist Christine Everhart confronts Tony in Vegas and presents evidence that his company is selling weapons to terrorists and are being used to subjugate native defenseless populations across the globe. Tony has sex with Christine.\n",
        "Pepper Potts is Tony's personal assistant. Harold \"Happy\" Hogan (Jon Favreau) is Stark's bodyguard and chauffeur. J.A.R.V.I.S. (Paul Bettany) is Stark's personal AI system.\n",
        "\n",
        "Tony is in war-torn Afghanistan with his friend and military liaison, Lieutenant Colonel James Rhodes (Terrence Howard) to demonstrate the new \"Jericho\" missile. Rhodes and Tony are very good friends. The Jericho missile incorporates the new \"Repulsor\" technology and can deliver explosive payloads to multiple targets with a single missile, over a relatively large combat area.\n",
        "\n",
        "Stark is critically wounded in an ambush (where he notices that terrorists have access to weapons manufactured by his own company) and imprisoned in a cave by the terrorist group the Ten Rings. An electromagnet (powered by a heavy car battery) built by fellow captive Yinsen (Shaun Toub) keeps the shrapnel that wounded Stark from reaching his heart and killing him. Ten Rings leader Raza (Faran Tahir) offers Stark freedom in exchange for building a Jericho missile for the group, but Tony and Yinsen agree Raza will not keep his word.\n",
        "Yinsen tells Tony that his weapons in the hands of terrorists is his legacy to the world.\n",
        "\n",
        "Tony and Yinsen use the components from other missiles (also manufactured by Stark Industries) and extract Palladium (a precious metal) from it. They use the limited forge facilities available to them and work meticulously.\n",
        "Stark and Yinsen secretly build a powerful electric generator called an arc reactor (Tony had a large Arc reactor back home powering his factory and he has built a miniaturized version of it), to power Stark's electromagnet (instead of the bulky battery), and then begin to build a suit of armor to escape. The suit is a very basic design, heavy and bulky. It has rudimentary weapons, a flame thrower, and rocket Thrusters at the base to launch the occupant into flight. With the arc reactor, it can be powered for about 15 minutes.\n",
        "\n",
        "The Ten Rings attack the workshop when they discover what Stark is doing. Yinsen sacrifices himself to divert them while Stark's suit powers up. The armored Stark battles his way out of the cave to find the dying Yinsen, then an enraged Stark burns the terrorist's munitions and flies away, only to crash in the desert, destroying the suit.\n",
        "\n",
        "After being rescued by Rhodes, Stark returns home and announces that his company will no longer manufacture weapons. Obadiah Stane (Jeff Bridges), his father's old partner and the company's manager, advises Stark that this may ruin Stark Industries and his father's legacy. Tony reveals to Stane that he has built a new miniaturized Arc reactor. The reactor has the power to provide clean energy to the entire planet.\n",
        "\n",
        "In his home workshop, Stark builds an improved version of his suit, as well as a more powerful arc reactor for his chest. Personal assistant Pepper Potts (Gwyneth Paltrow) places the original reactor inside a small glass showcase.\n",
        "Though Stane requests details on his work, a suspicious Stark decides to keep his work to himself.\n",
        "\n",
        "At Stark's first public appearance after his return, reporter Christine Everhart (Leslie Bibb) informs him that Stark Industries weapons, including the Jericho, were recently delivered to the Ten Rings and are being used to attack Yinsen's home village. Stark also learns that Stane is trying to replace him as head of the company. Enraged, Stark dons his new armor and flies to Afghanistan, where he saves Yinsen's village and delivers a devastating blow to the Ten Rings. While flying home, Stark is shot at by two F-22 Raptor fighter jets. He phones Rhodes and reveals his secret identity in an attempt to end the attack.\n",
        "\n",
        "Meanwhile, the Ten Rings gather the pieces of Stark's prototype suit and meet with Stane, who subdues Raza and has the rest of the group eliminated. Stane has a new suit reverse engineered from the wreckage.\n",
        "Seeking to find any other weapons delivered to the Ten Rings, Stark sends assistant Virginia \"Pepper\" Potts to hack into the company computer system from Stane's office. She discovers Stane has been supplying the terrorists and hired the Ten Rings to kill Stark, but the group reneged.\n",
        "Potts later meets with agent Phil Coulson (Clark Gregg) of the \"Strategic Homeland Intervention, Enforcement and Logistics Division\", a counter-terrorism agency, to inform him of Stane's activities.\n",
        "\n",
        "Stane's scientists cannot duplicate Stark's arc reactor, so Stane ambushes Stark at home, using a sonic device to paralyze him and take his arc reactor. Left to die, Stark manages to crawl to his lab and plug in his original reactor. Potts and several S.H.I.E.L.D. (Strategic Homeland Intervention, Enforcement and Logistics Division) agents attempt to arrest Stane, but he dons his suit and attacks them.\n",
        "Stark fights Stane but is over-matched without his new reactor to run his suit at full capacity. Stark lures Stane atop the Stark Industries building and instructs Potts to overload the large arc reactor there. This unleashes a massive electrical surge that knocks Stane unconscious, causing him and his armor to fall into the exploding reactor, killing him.\n",
        "\n",
        "The next day, the press has dubbed the armored hero \"Iron Man\". Agent Coulson gives Stark a cover story to explain the events of the night and Stane's death. At a press conference, Stark begins giving the cover story, but then announces that he is Iron Man, prompting the reporters to ask more questions.\n",
        "\n",
        "In a post-credits scene, S.H.I.E.L.D. Director Nick Fury (Samuel L Jackson) visits Stark at home, and, noting that Iron Man is not \"the only superhero in the world\", says he wants to discuss the \"Avengers Initiative\".\n",
        "'''\n",
        "\n",
        "second_ironman = '''\n",
        "In Russia, the news details Stark Industries CEO Tony Stark (Robert Downey, Jr.) revealing his identity as Iron Man to the world. Ivan Vanko (Mickey Rourke), whose father Anton Vanko (Yevgeni Lazarev) has just died, sees this and begins building an arc reactor similar to Stark's.\n",
        "Anton tells Ivan before dying, that all he could give Ivan was his knowledge and that it should have been Ivan on the TV instead of Tony. Ivan had access to some old blueprints for the Arc reactor and they had 2 names on it, Howard Stark and Anton Vanko.\n",
        "\n",
        "Six months later, Stark has used his Iron Man armor to help maintain world peace. He re-institutes the Stark Expo in Flushing Meadows to continue his father Howard's legacy. The last time Stark Expo was held before was in 1974. Stark had access to some of Howard's old, recorded videos where he talks about the city of the future.\n",
        "Senator Stern (Garry Shandling) demands that Stark turn over the Iron Man technology to the government. Stark's rival Justin Hammer (and the current primary defense contractor to the military) and his military liaison Colonel James Rhodes are also invited to the Senate hearing to testify. Stern reveals images showing that foreign nations are well on their way to developing their own Iron Man systems based on Stark's design.\n",
        "Stark refuses to hand over the weapons system to the US Government, claiming that foreign nations and business competitors (including Hammer Industries) are decades away from successfully recreating his achievements, and that the armor is in fact his own property.\n",
        "\n",
        "The palladium core in the arc reactor that keeps Stark alive and powers the armor is slowly poisoning him, and he has failed to find a substitute. Stark's blood Toxicity is already at 19%. The continuous use of the Iron Man suit is accelerating Stark's condition, and the Arc reactor is depleting Palladium cores at a high rate. There is no known replacement for the Palladium core.\n",
        "Growing increasingly despondent and reckless due to his impending death, and choosing not to tell anyone about his condition, Stark appoints his personal assistant Pepper Potts (Gwyneth Paltrow) CEO of Stark Industries and replaces Potts with Stark employee Natalie Rushman (Scarlett Johansson).\n",
        "Happy Hogan (Jon Favreau) is Tony Stark's bodyguard and chauffeur.\n",
        "\n",
        "Stark travels to Monaco with Pepper and Natalie. He decides to race himself in an F1 car as his blood Toxicity reaches 53% and Stark knows that he does not have much longer to live.\n",
        "Vanko attacks Stark while racing at the Circuit De Monaco, using an arc reactor of his own powering whip-like energy weapons. Using his weapons, Vanko cuts Tony's F1 car into 2 pieces.\n",
        "Seeing the attack, Happy and Pepper drive on to the course with their Rolls Royce to deliver Stark's suit to him.\n",
        "Stark defeats Vanko with the aid of his portable briefcase armor and learns that Vanko is the son of his father's old partner, Anton Vanko, who had collaborated with Howard on the first arc reactor. Anton had defected to the US in 1963.\n",
        "Anton was deported to his native Soviet Union in 1967 following attempts to profit from the technology and died in poverty, explaining Vanko's desire for revenge on the Stark family. Ivan was conviction of trying to sell Soviet era weapons grade Plutonium to Pakistan and served 15 years in Kopeisk prison.\n",
        "Rival defense contractor Justin Hammer (Sam Rockwell) fakes Vanko's death inside prison, plans his escape and recruits him to perfect a line of armored combat suits to upstage Stark at Stark's expo.\n",
        "\n",
        "At what he believes is his last birthday party, Stark gets drunk while using the Iron Man armor, forcing his friend, Air Force Lieutenant Colonel James Rhodes (Don Cheadle), to intervene. Strak had told Rhodes about the Palladium poisoning. Rhodes dons Stark's Mark II armor and battles Stark. The battle ends when the combatants both fire Repulsor beams at each other, creating a huge explosion. After fighting with Stark, Rhodes delivers the armor to the military. Hammer gets the contract to integrate advanced weapons into the Iron Man suit.\n",
        "\n",
        "Nick Fury (Samuel L. Jackson), director of S.H.I.E.L.D., approaches Stark, revealing Rushman as undercover agent Natasha Romanoff and that Howard Stark was a S.H.I.E.L.D. founder whom Fury knew personally. Fury gives him some of his father's old material; a hidden message in the diorama of the 1974 Stark Expo proves to be a diagram of the structure of a new element. With the aid of his computer J.A.R.V.I.S. (Paul Bettany), Stark synthesizes it.\n",
        "Vanko reveals to Stark that he is still alive and seeking revenge so Stark uses the untested element, removing his dependency on the Palladium.\n",
        "\n",
        "Vanko fails to deliver the combat suits to Hammer and instead says that he has worked on armored drones. This angers Hammer, but he has no choice.\n",
        "At the Expo, Hammer unveils Vanko's armored drones, led by Rhodes in a heavily weapons laden version of the Mark II armor.\n",
        "Stark arrives in his new armor to warn Rhodes, but Vanko seizes control of both the drones and Rhodes' armor, and attacks Iron Man. Hammer is arrested while Stark's bodyguard Happy Hogan and Romanoff attempt to capture Vanko. He escapes, but Romanoff hacks Vanko's network and returns control of the Mark II armor to Rhodes.\n",
        "\n",
        "After defeating his drones Stark and Rhodes confront Vanko himself, now in a new, very powerful suit of armor. Neither can match Vanko, but Vanko is ultimately defeated when they fire Repulsor rays at each other, causing a large explosion. With his suit too damaged to continue the fight Vanko activates his suit's self-destruct mechanism, along with that of his drones, apparently killing himself in the process. Stark saves Potts from the exploding drones' remains. Potts quits as CEO, and she and Stark kiss.\n",
        "\n",
        "At a debriefing, while news footage of the Hulk's rampage plays, Fury informs Stark that while Iron Man is a suitable candidate for the \"Avengers Initiative\", he himself is not. Stark agrees to serve as a consultant if Senator Stern acts as presenter at a ceremony planned for awarding Stark and Rhodes with medals for bravery, which Stern reluctantly does.\n",
        "\n",
        "In a post-credits scene, S.H.I.E.L.D. Agent Coulson (Clark Gregg) reports the discovery of a large hammer at the bottom of a crater in a New Mexico desert.\n",
        "'''\n",
        "\n",
        "third_ironman = '''\n",
        "Tony Stark (Robert Downing Jr) recalls a New Years Eve party in 1999 with scientist Maya Hansen (Rebecca Hall), inventor of Extremis, an experimental regenerative treatment intended to allow recovery from crippling injuries. This was also where Tony ran into Yinsen (Shaun Toub) for the first time.\n",
        "Disabled scientist Aldrich Killian (Guy Pearce) offers them a place in his company Advanced Idea Mechanics (AIM), but Stark arrogantly rebuffs him. Tony sends Killian to the roof and asks him to wait for him there. Tony forgot all about Killian and unknown to Tony, Killian waited for him the entire night, and his hatred for Tony was cemented that day.\n",
        "Hansen's work is still incomplete as there is a glitch in her treatment which causes the plants that have received treatment to explode.\n",
        "Years later: Stark's experiences during the alien invasion of New York give him panic attacks.\n",
        "\n",
        "Restless, he has built several Iron Man suits, creating friction with his girlfriend Pepper Potts (Gwyneth Paltrow). Tony's latest generation of suits respond to micro implants in his body, and he can summon them from a great distance.\n",
        "A string of bombings by terrorist the Mandarin (Ben Kingsley) has left intelligence agencies bewildered by lack of forensic evidence. There have been 9 bombings so far, but no identifiable bomb parts were found on any of the attack sites.\n",
        "Killian reaches out to Potts and demonstrates the Extremis technology to her. Turns out Potts knew Killian from before and has a thing for him. Killian claims that the Extremis technology has the ability to re-code human DNA. Potts sees the ability of Extremis to turn humans into weapons and turns down Killian's offer to collaborate.\n",
        "\n",
        "Happy finds Killian suspicious and starts tracking his associate, Eric Savin. Happy follows Eric into a crowded market, where he sees Eric talking and giving a briefcase to a military veteran. Happy confronts the veteran and picks up a hardware capsule from the case, when he is confronted by Eric. Happy punches Eric and breaks his nose, but it repairs instantly.\n",
        "The veteran ingests the capsule and soon starts glowing and eventually blows up.\n",
        "\n",
        "Stark Industries security chief Happy Hogan (Jon Favreau) is badly injured in the attack which is blamed on Mandarin after a video is released with Mandarin taking responsibility for the blast. Once again, no bomb parts were found at the site. Tony recreates the site digitally and finds dog tags.\n",
        "Tony cannot speak to Happy as he is comatose. Stark overcomes his stupor and issues a televised threat to the Mandarin, who responds by destroying Stark's home with helicopter gunships.\n",
        "Potts and Hansen, who had come to warn them, survive the attack.\n",
        "\n",
        "Stark then finds himself in rural Rose Hill Tennessee after his artificial intelligence JARVIS (Paul Bettany) followed a flight plan from Stark's investigation into the Mandarin. Rose Hill was the location of another blast, which had a heat signature to the one where Happy was hurt. Both blasts generated heat more than 3000 degrees, and, in both cases, a military veteran was involved.\n",
        "Stark's experimental armor lacks sufficient power to return to California, and the world believes him dead.\n",
        "\n",
        "Teaming with Harley (Ty Simpkins), a precocious 10-year-old boy, Stark investigates the remains of a local explosion bearing the hallmarks of a Mandarin attack. He finds that the military veterans involved in both explosions were linked to AIM, Killian's company.\n",
        "By hacking into AIM systems, Tony discovers the \"bombings\" were triggered by soldiers subjected to Extremis, which at this stage of development can causes certain subjects to explosively reject it. After veterans started exploding, their deaths were used to cover up Extremis' flaws by manufacturing a terrorist plot.\n",
        "Stark witnesses Extremis firsthand when Mandarin agents Ellen Brandt (Stephanie Szostak) and Eric Savin (James Badge Dale) attack him. Stark manages to kill Ellen, but Eric revives himself after being shot by Stark.\n",
        "\n",
        "With Harley's help, Stark traces the Mandarin to Miami and infiltrates his headquarters using improvised weapons. Inside he discovers the Mandarin is actually a British actor, Trevor Slattery, who claims to be oblivious to the actions carried out in his name.\n",
        "The Mandarin is a creation of Killian, who appropriated Hansen's Extremis research as a cure for his own disability and expanded the program to include injured war veterans.\n",
        "\n",
        "Meanwhile Hansen tells Potts that she believes Killian is working for the Mandarin.\n",
        "After capturing Stark, Killian reveals he is the true Mandarin; he has kidnapped Potts and subjected her to Extremis, intending to infuse her with superhuman abilities and turn her against Stark as leverage to gain Stark's aid in fixing Extremis' flaws. Killian kills Maya when she has a change of heart about the plan.\n",
        "\n",
        "Killian has also manipulated American intelligence agencies regarding the Mandarin's location, luring James Rhodes (Don Cheadle) the former War Machine, now re-branded as the Iron Patriot, into a trap to steal the armor.\n",
        "Stark escapes and reunites with Rhodes, discovering that Killian intends to attack President Ellis (William Sadler) aboard Air Force One. Remotely controlling his Iron Man armor, Stark saves some surviving passengers and crew but cannot stop Killian from abducting Ellis. They trace Killian to an impounded oil-drilling platform where Killian intends to kill Ellis on live television. The vice president will become a puppet leader, following Killian's orders in exchange for Extremis to cure his own little girl's disability.\n",
        "\n",
        "On the platform, Stark goes to save Potts, and Rhodes saves the president. Stark summons each of his Iron Man suits (which were earlier buried under the debris of his destroyed apartment), controlled remotely by JARVIS, to provide air support. Rhodes secures the president and leads him to safety, while Stark discovers Potts has survived the Extremis procedure. However, before he can save her, a rig collapses around them and she falls to her apparent death. Stark confronts Killian and traps him in an Iron Man suit that self-destructs but fails to kill him. Potts, whose Extremis powers allowed her to survive her fall, intervenes and kills Killian.\n",
        "\n",
        "After the battle, Stark orders JARVIS to destroy each Iron Man suit as a sign of his intention to devote more time to Potts. The vice president and Slattery are arrested. With Stark's help, Potts' Extremis effects are stabilized, and Stark undergoes surgery to remove the shrapnel embedded near his heart. He pitches his obsolete chest arc reactor into the sea, musing he will always be Iron Man, even without his armor.\n",
        "\n",
        "In a present-day post-credits scene, Stark wakes up Dr. Bruce Banner, who fell asleep listening at the beginning of Stark's story.\n",
        "'''"
      ]
    },
    {
      "cell_type": "code",
      "execution_count": null,
      "metadata": {
        "id": "dIYDMtfhE4Xz"
      },
      "outputs": [],
      "source": [
        "movies = [first_ironman, second_ironman, third_ironman]\n",
        "titles = {first_ironman: \"Iron Man 1\", second_ironman: \"Iron Man 2\", third_ironman: \"Iron Man 3\"}"
      ]
    },
    {
      "cell_type": "code",
      "execution_count": null,
      "metadata": {
        "id": "5D6XGHjIFHhS"
      },
      "outputs": [],
      "source": [
        "# In the function \"tokenize\" for preprocessing:\n",
        "#in place if pass come up with your own logic\n",
        "\n",
        "def tokenize(doc: str) -> list[str]:\n",
        "  word_set = []\n",
        "  stop_words=set(stopwords.words('english'))\n",
        "  # Tokenize doc sentence into words and convert it to lowercase\n",
        "  doc=nltk.word_tokenize(doc)\n",
        "\n",
        "  for word in doc:\n",
        "    word=word.lower()\n",
        "    # Append word to word set if it is alphanumeric and not a stopword\n",
        "    if word.isalnum() and word not in stop_words:\n",
        "      word_set.append(word)\n",
        "  return word_set\n",
        "\n",
        "# Return a list of all the tokens present in all the documents\n",
        "# P.S. see that you don't repeat any words.\n",
        "def build_lexicon(docs: list[str]) -> list[str]:\n",
        "  lexicon =[]\n",
        "  for doc in docs:\n",
        "    lexicon+=tokenize(doc)\n",
        "    lexicon=list(set(lexicon))\n",
        "  return lexicon\n",
        "\n"
      ]
    },
    {
      "cell_type": "code",
      "execution_count": null,
      "metadata": {
        "colab": {
          "base_uri": "https://localhost:8080/"
        },
        "id": "8aAZB1lrMlWw",
        "outputId": "0b0ccd0d-239c-4ffb-89c6-8fc686ed8752"
      },
      "outputs": [
        {
          "output_type": "execute_result",
          "data": {
            "text/plain": [
              "{'bulky': 0,\n",
              " 'cuts': 1,\n",
              " 'failed': 2,\n",
              " 'without': 3,\n",
              " 'bodyguard': 4,\n",
              " 'months': 5,\n",
              " 'inventor': 6,\n",
              " 'certain': 7,\n",
              " 'terrorists': 8,\n",
              " 'prototype': 9,\n",
              " 'manufacture': 10,\n",
              " 'medals': 11,\n",
              " 'obadiah': 12,\n",
              " 'reneged': 13,\n",
              " 'using': 14,\n",
              " 'warn': 15,\n",
              " 'says': 16,\n",
              " 'intervention': 17,\n",
              " 'asks': 18,\n",
              " 'rolls': 19,\n",
              " 'clark': 20,\n",
              " 'wait': 21,\n",
              " 'mit': 22,\n",
              " 'delivers': 23,\n",
              " 'virginia': 24,\n",
              " 'base': 25,\n",
              " 'word': 26,\n",
              " 'element': 27,\n",
              " 'carried': 28,\n",
              " 'meet': 29,\n",
              " 'seizes': 30,\n",
              " 'obsolete': 31,\n",
              " 'rings': 32,\n",
              " 'used': 33,\n",
              " 'glitch': 34,\n",
              " 'apartment': 35,\n",
              " 'fighter': 36,\n",
              " 'collaborate': 37,\n",
              " 'guy': 38,\n",
              " 'accident': 39,\n",
              " 'continue': 40,\n",
              " 'area': 41,\n",
              " 'natalie': 42,\n",
              " 'gets': 43,\n",
              " 'name': 44,\n",
              " 'mexico': 45,\n",
              " 'sam': 46,\n",
              " 'natasha': 47,\n",
              " 'rourke': 48,\n",
              " 'anton': 49,\n",
              " 'competitors': 50,\n",
              " 'crowded': 51,\n",
              " 'due': 52,\n",
              " 'invasion': 53,\n",
              " 'involved': 54,\n",
              " 'replace': 55,\n",
              " 'synthesizes': 56,\n",
              " 'deported': 57,\n",
              " 'kiss': 58,\n",
              " 'clean': 59,\n",
              " 'take': 60,\n",
              " 'use': 61,\n",
              " 'factory': 62,\n",
              " 'fighting': 63,\n",
              " 'grade': 64,\n",
              " 'capture': 65,\n",
              " 'signature': 66,\n",
              " 'ingests': 67,\n",
              " 'surge': 68,\n",
              " 'passengers': 69,\n",
              " 'surgery': 70,\n",
              " 'phones': 71,\n",
              " 'bibb': 72,\n",
              " 'program': 73,\n",
              " 'flying': 74,\n",
              " 'knocks': 75,\n",
              " 'knowledge': 76,\n",
              " 'american': 77,\n",
              " 'reckless': 78,\n",
              " 'fakes': 79,\n",
              " 'hidden': 80,\n",
              " 'senate': 81,\n",
              " 'crippling': 82,\n",
              " 'upstage': 83,\n",
              " 'oblivious': 84,\n",
              " 'left': 85,\n",
              " 'claiming': 86,\n",
              " 'may': 87,\n",
              " 'poverty': 88,\n",
              " 'causes': 89,\n",
              " 'nose': 90,\n",
              " 'recovery': 91,\n",
              " 'led': 92,\n",
              " 'playboy': 93,\n",
              " 'reject': 94,\n",
              " 'eve': 95,\n",
              " 'showcase': 96,\n",
              " 'video': 97,\n",
              " 'drunk': 98,\n",
              " 'laden': 99,\n",
              " 'intervene': 100,\n",
              " 'subjected': 101,\n",
              " 'traps': 102,\n",
              " 'arc': 103,\n",
              " 'inform': 104,\n",
              " 'called': 105,\n",
              " 'requests': 106,\n",
              " 'miami': 107,\n",
              " 'scientists': 108,\n",
              " 'suit': 109,\n",
              " 'rhodes': 110,\n",
              " 'despondent': 111,\n",
              " 'suspicious': 112,\n",
              " 'headquarters': 113,\n",
              " 'hurt': 114,\n",
              " 'lacks': 115,\n",
              " 'glass': 116,\n",
              " 'bomb': 117,\n",
              " 'lab': 118,\n",
              " 'places': 119,\n",
              " 'huge': 120,\n",
              " 'parts': 121,\n",
              " 'sea': 122,\n",
              " 'helicopter': 123,\n",
              " 'paltrow': 124,\n",
              " 'burns': 125,\n",
              " 'improved': 126,\n",
              " 'issues': 127,\n",
              " 'digitally': 128,\n",
              " 'explosions': 129,\n",
              " 'micro': 130,\n",
              " 'small': 131,\n",
              " 'talking': 132,\n",
              " 'friend': 133,\n",
              " 'massive': 134,\n",
              " 'returns': 135,\n",
              " 'trace': 136,\n",
              " 'reaches': 137,\n",
              " 'rampage': 138,\n",
              " 'die': 139,\n",
              " 'race': 140,\n",
              " 'manufacturing': 141,\n",
              " 'ellen': 142,\n",
              " 'reunites': 143,\n",
              " 'wounded': 144,\n",
              " 'sacrifices': 145,\n",
              " 'news': 146,\n",
              " 'stephanie': 147,\n",
              " 'ambush': 148,\n",
              " 'profit': 149,\n",
              " 'generation': 150,\n",
              " 'vegas': 151,\n",
              " 'sites': 152,\n",
              " 'discovering': 153,\n",
              " 'de': 154,\n",
              " 'war': 155,\n",
              " 'images': 156,\n",
              " 'bravery': 157,\n",
              " 'selling': 158,\n",
              " 'mechanism': 159,\n",
              " 'circuit': 160,\n",
              " 'sell': 161,\n",
              " 'recreates': 162,\n",
              " 'confront': 163,\n",
              " 'experimental': 164,\n",
              " 'foreign': 165,\n",
              " 'powered': 166,\n",
              " 'explosive': 167,\n",
              " 'age': 168,\n",
              " 'destroy': 169,\n",
              " 'incomplete': 170,\n",
              " 'soon': 171,\n",
              " 'fellow': 172,\n",
              " 'heat': 173,\n",
              " 'howard': 174,\n",
              " 'help': 175,\n",
              " 'safety': 176,\n",
              " 'robert': 177,\n",
              " 'high': 178,\n",
              " 'shrapnel': 179,\n",
              " 'leads': 180,\n",
              " 'fell': 181,\n",
              " 'partner': 182,\n",
              " 'fury': 183,\n",
              " 'workshop': 184,\n",
              " 'drive': 185,\n",
              " 'night': 186,\n",
              " 'debriefing': 187,\n",
              " 'falls': 188,\n",
              " 'place': 189,\n",
              " 'served': 190,\n",
              " 'proves': 191,\n",
              " 'fire': 192,\n",
              " 'secret': 193,\n",
              " 'electromagnet': 194,\n",
              " '17': 195,\n",
              " 'jr': 196,\n",
              " 'lures': 197,\n",
              " 'rate': 198,\n",
              " 'steal': 199,\n",
              " 'away': 200,\n",
              " 'old': 201,\n",
              " 'shandling': 202,\n",
              " 'six': 203,\n",
              " 'fight': 204,\n",
              " 'consultant': 205,\n",
              " 'plants': 206,\n",
              " 'ellis': 207,\n",
              " 'survived': 208,\n",
              " 'hacking': 209,\n",
              " 'much': 210,\n",
              " 'president': 211,\n",
              " 'bridges': 212,\n",
              " 'plot': 213,\n",
              " 'match': 214,\n",
              " 'face': 215,\n",
              " 'showing': 216,\n",
              " 'populations': 217,\n",
              " 'large': 218,\n",
              " 'infuse': 219,\n",
              " 'instantly': 220,\n",
              " 'paralyze': 221,\n",
              " 'meets': 222,\n",
              " 'platform': 223,\n",
              " 'journalist': 224,\n",
              " 'seeing': 225,\n",
              " 'pitches': 226,\n",
              " 'learns': 227,\n",
              " 'simpkins': 228,\n",
              " 'william': 229,\n",
              " 'hansen': 230,\n",
              " 'afghanistan': 231,\n",
              " 'bottom': 232,\n",
              " 'panic': 233,\n",
              " 'car': 234,\n",
              " 'jon': 235,\n",
              " 'genius': 236,\n",
              " 'gain': 237,\n",
              " 'decides': 238,\n",
              " 'one': 239,\n",
              " 'palladium': 240,\n",
              " 'unleashes': 241,\n",
              " 'appoints': 242,\n",
              " 'story': 243,\n",
              " 'killing': 244,\n",
              " 'market': 245,\n",
              " 'native': 246,\n",
              " 'untested': 247,\n",
              " 'wakes': 248,\n",
              " 'controlling': 249,\n",
              " 'plans': 250,\n",
              " 'original': 251,\n",
              " 'downing': 252,\n",
              " 'york': 253,\n",
              " 'electrical': 254,\n",
              " 'manages': 255,\n",
              " 'machine': 256,\n",
              " 'quits': 257,\n",
              " 'identity': 258,\n",
              " 'end': 259,\n",
              " 'assistant': 260,\n",
              " 'perfect': 261,\n",
              " 'johansson': 262,\n",
              " 'hack': 263,\n",
              " 'critically': 264,\n",
              " 'terrorist': 265,\n",
              " 'powers': 266,\n",
              " 'revealing': 267,\n",
              " 'heavy': 268,\n",
              " 'company': 269,\n",
              " 'szostak': 270,\n",
              " 'kills': 271,\n",
              " 'eventually': 272,\n",
              " 'future': 273,\n",
              " 'triggered': 274,\n",
              " 'metal': 275,\n",
              " 'suitable': 276,\n",
              " 'soldiers': 277,\n",
              " 'destroyed': 278,\n",
              " 'message': 279,\n",
              " 'ran': 280,\n",
              " 'legacy': 281,\n",
              " 'forever': 282,\n",
              " 'superhero': 283,\n",
              " 'tracking': 284,\n",
              " 'linked': 285,\n",
              " 'defense': 286,\n",
              " 'already': 287,\n",
              " 'took': 288,\n",
              " '9': 289,\n",
              " 'iron': 290,\n",
              " 'cores': 291,\n",
              " '19': 292,\n",
              " 'unknown': 293,\n",
              " 'little': 294,\n",
              " 'secures': 295,\n",
              " 'first': 296,\n",
              " 'leader': 297,\n",
              " 'son': 298,\n",
              " 'bearing': 299,\n",
              " 'agree': 300,\n",
              " 'supplying': 301,\n",
              " 'slattery': 302,\n",
              " 'back': 303,\n",
              " 'run': 304,\n",
              " 'james': 305,\n",
              " 'offers': 306,\n",
              " 'arrogantly': 307,\n",
              " 'russia': 308,\n",
              " 'distance': 309,\n",
              " 'divert': 310,\n",
              " 'near': 311,\n",
              " 'legendary': 312,\n",
              " 'buried': 313,\n",
              " 'soviet': 314,\n",
              " 'business': 315,\n",
              " 'arrives': 316,\n",
              " 'colonel': 317,\n",
              " 'industries': 318,\n",
              " 'arrested': 319,\n",
              " 'process': 320,\n",
              " 'network': 321,\n",
              " 'stabilized': 322,\n",
              " 'abilities': 323,\n",
              " 'keeps': 324,\n",
              " 'toub': 325,\n",
              " 'power': 326,\n",
              " 'beams': 327,\n",
              " 'started': 328,\n",
              " 'blood': 329,\n",
              " 'l': 330,\n",
              " 'kopeisk': 331,\n",
              " 'diorama': 332,\n",
              " 'badge': 333,\n",
              " 'heavily': 334,\n",
              " 'garry': 335,\n",
              " 'dependency': 336,\n",
              " 'cemented': 337,\n",
              " 'witnesses': 338,\n",
              " 'badly': 339,\n",
              " 'friction': 340,\n",
              " 'founder': 341,\n",
              " 'everhart': 342,\n",
              " 'human': 343,\n",
              " 'destroying': 344,\n",
              " 'gives': 345,\n",
              " 'racing': 346,\n",
              " 'location': 347,\n",
              " 'precocious': 348,\n",
              " 'explain': 349,\n",
              " 'devastating': 350,\n",
              " 'unveils': 351,\n",
              " 'manager': 352,\n",
              " 'blueprints': 353,\n",
              " 'respond': 354,\n",
              " 'defenseless': 355,\n",
              " 'accelerating': 356,\n",
              " 'changed': 357,\n",
              " 'course': 358,\n",
              " 'found': 359,\n",
              " 'agencies': 360,\n",
              " 'released': 361,\n",
              " 'intended': 362,\n",
              " 'avengers': 363,\n",
              " 'sonic': 364,\n",
              " 'become': 365,\n",
              " 'missile': 366,\n",
              " 'home': 367,\n",
              " 'reporter': 368,\n",
              " 'include': 369,\n",
              " 'lazarev': 370,\n",
              " 'begin': 371,\n",
              " 'held': 372,\n",
              " 'cases': 373,\n",
              " 'devote': 374,\n",
              " 'launch': 375,\n",
              " 'scene': 376,\n",
              " 'roof': 377,\n",
              " 'blamed': 378,\n",
              " 'abducting': 379,\n",
              " 'replaces': 380,\n",
              " 'bruce': 381,\n",
              " 'press': 382,\n",
              " 'meanwhile': 383,\n",
              " 'repulsor': 384,\n",
              " 'travels': 385,\n",
              " 'miniaturized': 386,\n",
              " 'defeats': 387,\n",
              " 'maintain': 388,\n",
              " 'injured': 389,\n",
              " 'instead': 390,\n",
              " '1974': 391,\n",
              " 'globe': 392,\n",
              " '1999': 393,\n",
              " 'recalls': 394,\n",
              " 'ty': 395,\n",
              " 'array': 396,\n",
              " 'contractor': 397,\n",
              " '15': 398,\n",
              " 'mandarin': 399,\n",
              " 'demands': 400,\n",
              " 'several': 401,\n",
              " 'two': 402,\n",
              " 'bewildered': 403,\n",
              " 'expo': 404,\n",
              " 'videos': 405,\n",
              " 'turn': 406,\n",
              " 'era': 407,\n",
              " 'employee': 408,\n",
              " 'ultimately': 409,\n",
              " 'stupor': 410,\n",
              " 'also': 411,\n",
              " 'reactor': 412,\n",
              " 'treatment': 413,\n",
              " 'latest': 414,\n",
              " 'paul': 415,\n",
              " 'tell': 416,\n",
              " 'rudimentary': 417,\n",
              " 'rescued': 418,\n",
              " 'line': 419,\n",
              " 'sex': 420,\n",
              " 'local': 421,\n",
              " 'appropriated': 422,\n",
              " 'thrusters': 423,\n",
              " 'dying': 424,\n",
              " 'peace': 425,\n",
              " 'samuel': 426,\n",
              " 'turns': 427,\n",
              " 'case': 428,\n",
              " 'contract': 429,\n",
              " 'punches': 430,\n",
              " 'superhuman': 431,\n",
              " 'agrees': 432,\n",
              " 'save': 433,\n",
              " 'experiences': 434,\n",
              " 'dead': 435,\n",
              " 'causing': 436,\n",
              " 'cheadle': 437,\n",
              " 'announces': 438,\n",
              " 'repairs': 439,\n",
              " 'air': 440,\n",
              " 'hogan': 441,\n",
              " 'extremis': 442,\n",
              " 'actions': 443,\n",
              " 'remotely': 444,\n",
              " 'components': 445,\n",
              " 'worked': 446,\n",
              " 'generated': 447,\n",
              " 'ai': 448,\n",
              " 'manipulated': 449,\n",
              " 'powering': 450,\n",
              " 'waited': 451,\n",
              " 'impending': 452,\n",
              " 'capsule': 453,\n",
              " 'overcomes': 454,\n",
              " 'dog': 455,\n",
              " 'names': 456,\n",
              " 'explode': 457,\n",
              " 'jets': 458,\n",
              " 'televised': 459,\n",
              " 'rose': 460,\n",
              " 'planet': 461,\n",
              " 'explosively': 462,\n",
              " 'attempts': 463,\n",
              " 'remains': 464,\n",
              " 'deliver': 465,\n",
              " 'favreau': 466,\n",
              " 'infiltrates': 467,\n",
              " 'killian': 468,\n",
              " 'senator': 469,\n",
              " 'harold': 470,\n",
              " 'battery': 471,\n",
              " 'finds': 472,\n",
              " 'agent': 473,\n",
              " '6': 474,\n",
              " 'public': 475,\n",
              " 'engineered': 476,\n",
              " 'thereafter': 477,\n",
              " 'even': 478,\n",
              " 'give': 479,\n",
              " 'notices': 480,\n",
              " 'plug': 481,\n",
              " 'head': 482,\n",
              " 'powerful': 483,\n",
              " 'property': 484,\n",
              " 'aboard': 485,\n",
              " 'design': 486,\n",
              " 'ten': 487,\n",
              " 'forensic': 488,\n",
              " 'creating': 489,\n",
              " 'occupant': 490,\n",
              " 'great': 491,\n",
              " 'acts': 492,\n",
              " 'angers': 493,\n",
              " 'energy': 494,\n",
              " 'california': 495,\n",
              " 'death': 496,\n",
              " 'across': 497,\n",
              " 'monaco': 498,\n",
              " 'successfully': 499,\n",
              " 'discover': 500,\n",
              " 'humans': 501,\n",
              " 'raza': 502,\n",
              " 'idea': 503,\n",
              " 'degrees': 504,\n",
              " 'fact': 505,\n",
              " 'blows': 506,\n",
              " 'surviving': 507,\n",
              " 'arrest': 508,\n",
              " 'nations': 509,\n",
              " 'prompting': 510,\n",
              " 'orders': 511,\n",
              " 'rival': 512,\n",
              " 'inherited': 513,\n",
              " 'procedure': 514,\n",
              " 'presents': 515,\n",
              " 'explaining': 516,\n",
              " 'electric': 517,\n",
              " 'us': 518,\n",
              " 'regenerative': 519,\n",
              " 'aim': 520,\n",
              " 'intending': 521,\n",
              " 'freedom': 522,\n",
              " 'site': 523,\n",
              " 'jeff': 524,\n",
              " 'terrence': 525,\n",
              " 'unconscious': 526,\n",
              " 'ends': 527,\n",
              " 'remove': 528,\n",
              " 'primary': 529,\n",
              " 'family': 530,\n",
              " 'recorded': 531,\n",
              " 'ceremony': 532,\n",
              " 'targets': 533,\n",
              " 'battle': 534,\n",
              " 'actor': 535,\n",
              " 'structure': 536,\n",
              " 'stane': 537,\n",
              " 'intelligence': 538,\n",
              " 'armor': 539,\n",
              " 'ceo': 540,\n",
              " 'personally': 541,\n",
              " 'details': 542,\n",
              " 'defeating': 543,\n",
              " 'system': 544,\n",
              " 'investigates': 545,\n",
              " 'atop': 546,\n",
              " 'returned': 547,\n",
              " '2': 548,\n",
              " 'tells': 549,\n",
              " 'work': 550,\n",
              " 'saves': 551,\n",
              " 'subdues': 552,\n",
              " 'stop': 553,\n",
              " 'another': 554,\n",
              " 'imprisoned': 555,\n",
              " 'responds': 556,\n",
              " 'battles': 557,\n",
              " 'man': 558,\n",
              " 'potts': 559,\n",
              " 'build': 560,\n",
              " 'defected': 561,\n",
              " 'demonstrates': 562,\n",
              " 'plutonium': 563,\n",
              " 'ivan': 564,\n",
              " 'planned': 565,\n",
              " 'reluctantly': 566,\n",
              " 'begins': 567,\n",
              " 'facilities': 568,\n",
              " 'continuous': 569,\n",
              " 'sees': 570,\n",
              " 'mark': 571,\n",
              " 'savin': 572,\n",
              " 'shot': 573,\n",
              " 'material': 574,\n",
              " 'homeland': 575,\n",
              " 'former': 576,\n",
              " 'secretly': 577,\n",
              " 'depleting': 578,\n",
              " 'world': 579,\n",
              " 'birthday': 580,\n",
              " 'trying': 581,\n",
              " 'blast': 582,\n",
              " 'confronts': 583,\n",
              " 'brilliant': 584,\n",
              " 'disabled': 585,\n",
              " 'intention': 586,\n",
              " 'awarding': 587,\n",
              " 'actually': 588,\n",
              " 'flies': 589,\n",
              " 'flushing': 590,\n",
              " 'questions': 591,\n",
              " 'summon': 592,\n",
              " 'poisoning': 593,\n",
              " 'died': 594,\n",
              " 'personal': 595,\n",
              " 'increasingly': 596,\n",
              " 'generator': 597,\n",
              " 'girlfriend': 598,\n",
              " 'way': 599,\n",
              " 'told': 600,\n",
              " 'deaths': 601,\n",
              " 'dubbed': 602,\n",
              " 'collaborated': 603,\n",
              " '1967': 604,\n",
              " '21': 605,\n",
              " 'enraged': 606,\n",
              " 'phil': 607,\n",
              " 'meadows': 608,\n",
              " 'escape': 609,\n",
              " 'alive': 610,\n",
              " 'ability': 611,\n",
              " 'time': 612,\n",
              " 'military': 613,\n",
              " 'group': 614,\n",
              " 'briefcase': 615,\n",
              " 'presenter': 616,\n",
              " 'injuries': 617,\n",
              " 'bettany': 618,\n",
              " 'discuss': 619,\n",
              " 'conviction': 620,\n",
              " 'discovers': 621,\n",
              " 'sends': 622,\n",
              " 'hill': 623,\n",
              " 'replacement': 624,\n",
              " 'initiative': 625,\n",
              " 'rushman': 626,\n",
              " 'testify': 627,\n",
              " 'rocket': 628,\n",
              " 'heart': 629,\n",
              " 'subjects': 630,\n",
              " 'including': 631,\n",
              " 'raptor': 632,\n",
              " 'intervenes': 633,\n",
              " 'collapses': 634,\n",
              " 'later': 635,\n",
              " 'tony': 636,\n",
              " 'hand': 637,\n",
              " 'precious': 638,\n",
              " 'evidence': 639,\n",
              " 'believes': 640,\n",
              " 'forgot': 641,\n",
              " 'artificial': 642,\n",
              " 'tennessee': 643,\n",
              " 'boy': 644,\n",
              " 'systems': 645,\n",
              " 'growing': 646,\n",
              " 'sufficient': 647,\n",
              " 'crawl': 648,\n",
              " '53': 649,\n",
              " 'ask': 650,\n",
              " 'vice': 651,\n",
              " 'crew': 652,\n",
              " 'undergoes': 653,\n",
              " 'agents': 654,\n",
              " 'basic': 655,\n",
              " 'division': 656,\n",
              " 'core': 657,\n",
              " 'weapons': 658,\n",
              " 'fails': 659,\n",
              " 'neither': 660,\n",
              " 'yevgeni': 661,\n",
              " 'recently': 662,\n",
              " 'apparent': 663,\n",
              " 'well': 664,\n",
              " 'identifiable': 665,\n",
              " 'dale': 666,\n",
              " 'intends': 667,\n",
              " 'plan': 668,\n",
              " 'allow': 669,\n",
              " 'portable': 670,\n",
              " 'demonstrate': 671,\n",
              " 'access': 672,\n",
              " 'choosing': 673,\n",
              " 'pakistan': 674,\n",
              " 'chest': 675,\n",
              " 'patriot': 676,\n",
              " 'hallmarks': 677,\n",
              " 'multiple': 678,\n",
              " 'friends': 679,\n",
              " 'enforcement': 680,\n",
              " 'thing': 681,\n",
              " 'eric': 682,\n",
              " 'working': 683,\n",
              " 'happy': 684,\n",
              " 'reaching': 685,\n",
              " 'current': 686,\n",
              " 'office': 687,\n",
              " 'gather': 688,\n",
              " 'rig': 689,\n",
              " 'visits': 690,\n",
              " 'subjugate': 691,\n",
              " 'logistics': 692,\n",
              " 'instructs': 693,\n",
              " 'hands': 694,\n",
              " 'manufactured': 695,\n",
              " 'alien': 696,\n",
              " 'kingsley': 697,\n",
              " 'liaison': 698,\n",
              " 'mechanics': 699,\n",
              " 'similar': 700,\n",
              " 'bombings': 701,\n",
              " 'picks': 702,\n",
              " 'flaws': 703,\n",
              " 'last': 704,\n",
              " 'jarvis': 705,\n",
              " 'day': 706,\n",
              " 'shaun': 707,\n",
              " 'events': 708,\n",
              " 'recreating': 709,\n",
              " 'teaming': 710,\n",
              " 'kidnapped': 711,\n",
              " 'puppet': 712,\n",
              " 'still': 713,\n",
              " 'hired': 714,\n",
              " 'graduated': 715,\n",
              " 'maya': 716,\n",
              " 'lieutenant': 717,\n",
              " 'jericho': 718,\n",
              " 'eliminated': 719,\n",
              " 'threat': 720,\n",
              " 'tahir': 721,\n",
              " 'trap': 722,\n",
              " 'sadler': 723,\n",
              " 'beginning': 724,\n",
              " 'capturing': 725,\n",
              " 'duplicate': 726,\n",
              " 'strategic': 727,\n",
              " 'removing': 728,\n",
              " 'royce': 729,\n",
              " 'controlled': 730,\n",
              " 'substitute': 731,\n",
              " 'subsequently': 732,\n",
              " 'armored': 733,\n",
              " 'force': 734,\n",
              " 'kill': 735,\n",
              " 'though': 736,\n",
              " 'change': 737,\n",
              " 'capacity': 738,\n",
              " 'girl': 739,\n",
              " 'leverage': 740,\n",
              " 'refuses': 741,\n",
              " 'reverse': 742,\n",
              " 'reveals': 743,\n",
              " 'knows': 744,\n",
              " 'government': 745,\n",
              " 'allowed': 746,\n",
              " 'combat': 747,\n",
              " 'romanoff': 748,\n",
              " 'dna': 749,\n",
              " 'gwyneth': 750,\n",
              " 'musing': 751,\n",
              " 'achievements': 752,\n",
              " 'plays': 753,\n",
              " 'flight': 754,\n",
              " 'anyone': 755,\n",
              " 'rebecca': 756,\n",
              " 'full': 757,\n",
              " '1963': 758,\n",
              " 'blasts': 759,\n",
              " 'decades': 760,\n",
              " 'rest': 761,\n",
              " 'along': 762,\n",
              " 'luring': 763,\n",
              " 'hatred': 764,\n",
              " 'hammer': 765,\n",
              " 'years': 766,\n",
              " 'exchange': 767,\n",
              " 'firsthand': 768,\n",
              " 'unleashed': 769,\n",
              " 'following': 770,\n",
              " 'cover': 771,\n",
              " 'father': 772,\n",
              " 'nick': 773,\n",
              " 'hearing': 774,\n",
              " 'investigation': 775,\n",
              " 'talks': 776,\n",
              " 'hardware': 777,\n",
              " 'tv': 778,\n",
              " 'speak': 779,\n",
              " 'blow': 780,\n",
              " 'discovery': 781,\n",
              " 'computer': 782,\n",
              " 'desire': 783,\n",
              " 'party': 784,\n",
              " 'survive': 785,\n",
              " 'provide': 786,\n",
              " 'attack': 787,\n",
              " 'flame': 788,\n",
              " 'live': 789,\n",
              " 'pearce': 790,\n",
              " '3000': 791,\n",
              " 'activities': 792,\n",
              " 'strak': 793,\n",
              " 'seeking': 794,\n",
              " 'disability': 795,\n",
              " 'asleep': 796,\n",
              " 'director': 797,\n",
              " 'thrower': 798,\n",
              " 'built': 799,\n",
              " 'cave': 800,\n",
              " 'impounded': 801,\n",
              " 'payloads': 802,\n",
              " 'ruin': 803,\n",
              " 'exploding': 804,\n",
              " 'incorporates': 805,\n",
              " 'received': 806,\n",
              " 'stage': 807,\n",
              " 'entire': 808,\n",
              " 'sign': 809,\n",
              " 'minutes': 810,\n",
              " 'hall': 811,\n",
              " 'british': 812,\n",
              " 'village': 813,\n",
              " 'whose': 814,\n",
              " 'effects': 815,\n",
              " 'undercover': 816,\n",
              " 'munitions': 817,\n",
              " 'followed': 818,\n",
              " 'listening': 819,\n",
              " 'far': 820,\n",
              " 'tags': 821,\n",
              " 'always': 822,\n",
              " 'stark': 823,\n",
              " 'comatose': 824,\n",
              " 'summons': 825,\n",
              " 'crash': 826,\n",
              " 'attacks': 827,\n",
              " 'board': 828,\n",
              " 'defeated': 829,\n",
              " 'engine': 830,\n",
              " 'restless': 831,\n",
              " 'christine': 832,\n",
              " 'harley': 833,\n",
              " 'jackson': 834,\n",
              " 'captive': 835,\n",
              " 'rockwell': 836,\n",
              " 'city': 837,\n",
              " 'pepper': 838,\n",
              " 'ben': 839,\n",
              " 'single': 840,\n",
              " 'keep': 841,\n",
              " 'body': 842,\n",
              " 'traces': 843,\n",
              " 'pieces': 844,\n",
              " 'damaged': 845,\n",
              " 'developing': 846,\n",
              " 'reports': 847,\n",
              " 'slowly': 848,\n",
              " 'confronted': 849,\n",
              " 'justin': 850,\n",
              " 'find': 851,\n",
              " 'rebuffs': 852,\n",
              " 'veterans': 853,\n",
              " 'expanded': 854,\n",
              " 'yinsen': 855,\n",
              " 'inside': 856,\n",
              " 'approaches': 857,\n",
              " 'offer': 858,\n",
              " 'f1': 859,\n",
              " 'faran': 860,\n",
              " 'smart': 861,\n",
              " 'aldrich': 862,\n",
              " 'breaks': 863,\n",
              " 'giving': 864,\n",
              " 'version': 865,\n",
              " 'revives': 866,\n",
              " 'union': 867,\n",
              " 'advanced': 868,\n",
              " 'diagram': 869,\n",
              " 'veteran': 870,\n",
              " 'brandt': 871,\n",
              " 'debris': 872,\n",
              " 'apparently': 873,\n",
              " 'hulk': 874,\n",
              " 'support': 875,\n",
              " 'however': 876,\n",
              " 'string': 877,\n",
              " 'control': 878,\n",
              " 'noting': 879,\n",
              " 'taking': 880,\n",
              " 'research': 881,\n",
              " 'candidate': 882,\n",
              " 'extract': 883,\n",
              " 'conference': 884,\n",
              " 'agency': 885,\n",
              " 'associate': 886,\n",
              " 'escapes': 887,\n",
              " 'improvised': 888,\n",
              " 'rays': 889,\n",
              " 'hero': 890,\n",
              " 'cure': 891,\n",
              " 'drones': 892,\n",
              " 'ii': 893,\n",
              " 'trevor': 894,\n",
              " 'television': 895,\n",
              " 'delivered': 896,\n",
              " 'regarding': 897,\n",
              " 'known': 898,\n",
              " 'till': 899,\n",
              " 'meticulously': 900,\n",
              " 'relatively': 901,\n",
              " 'scarlett': 902,\n",
              " 'wreckage': 903,\n",
              " 'lack': 904,\n",
              " 'device': 905,\n",
              " 'available': 906,\n",
              " 'toxicity': 907,\n",
              " 'condition': 908,\n",
              " 'claims': 909,\n",
              " 'security': 910,\n",
              " 'creation': 911,\n",
              " 'desert': 912,\n",
              " 'implants': 913,\n",
              " 'fixing': 914,\n",
              " 'coulson': 915,\n",
              " 'chauffeur': 916,\n",
              " 'next': 917,\n",
              " 'mickey': 918,\n",
              " 'activates': 919,\n",
              " 'advises': 920,\n",
              " 'knew': 921,\n",
              " 'development': 922,\n",
              " 'overload': 923,\n",
              " 'footage': 924,\n",
              " 'starts': 925,\n",
              " 'follows': 926,\n",
              " 'fights': 927,\n",
              " 'responsibility': 928,\n",
              " 'attempt': 929,\n",
              " 'stern': 930,\n",
              " 'conflict': 931,\n",
              " 'new': 932,\n",
              " 'forge': 933,\n",
              " 'gunships': 934,\n",
              " 'chief': 935,\n",
              " 'invited': 936,\n",
              " 'earlier': 937,\n",
              " 'leslie': 938,\n",
              " 'explosion': 939,\n",
              " 'embedded': 940,\n",
              " 'choice': 941,\n",
              " 'good': 942,\n",
              " 'prison': 943,\n",
              " 'serve': 944,\n",
              " 'banner': 945,\n",
              " 'crater': 946,\n",
              " 'downey': 947,\n",
              " 'aid': 948,\n",
              " 'gregg': 949,\n",
              " 'uses': 950,\n",
              " 'forcing': 951,\n",
              " 'true': 952,\n",
              " 'based': 953,\n",
              " '4': 954,\n",
              " 'building': 955,\n",
              " 'around': 956,\n",
              " 'missiles': 957,\n",
              " 'fall': 958,\n",
              " 'ambushes': 959,\n",
              " 'revenge': 960,\n",
              " 'appearance': 961,\n",
              " 'hacks': 962,\n",
              " 'glowing': 963,\n",
              " 'integrate': 964,\n",
              " 'informs': 965,\n",
              " 'builds': 966,\n",
              " 'come': 967,\n",
              " 'limited': 968,\n",
              " 'scientist': 969,\n",
              " 'rural': 970,\n",
              " 'could': 971,\n",
              " 'wants': 972,\n",
              " 'dons': 973,\n",
              " 'return': 974,\n",
              " 'reporters': 975,\n",
              " 'vanko': 976,\n",
              " 'goes': 977,\n",
              " 'combatants': 978,\n",
              " 'suits': 979,\n",
              " 'recruits': 980,\n",
              " 'longer': 981,\n",
              " 'technology': 982}"
            ]
          },
          "metadata": {},
          "execution_count": 22
        }
      ],
      "source": [
        "word_set = build_lexicon(movies)\n",
        "i = list(range(len(word_set)))\n",
        "index_dict=dict(zip(word_set,i))\n",
        "index_dict\n",
        "\n",
        "#create index_dict here"
      ]
    },
    {
      "cell_type": "markdown",
      "metadata": {
        "id": "STD2fjeAOf4e"
      },
      "source": [
        "**What is Term Frequency and Inverse Document Frequency? Write its formula and explain each tells you.**\n",
        "\n",
        "Ans:Term Frequency is the count of the terms in a document. Inverse Document Frequency is the measure of intensity of the frequency of  word/term in all the documents.\n",
        "\n",
        "![image.png](data:image/png;base64,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)\n",
        "\n",
        "\n",
        "here t is the term i.e is a single word and d is a document. And D is the number of documents of in which the term t contains.\n",
        "\n",
        "Intuitively tf gives the occurence of the word or how much that word is used in a document. IDF tells how  rare a word is in all the documents that is in our text. If the value of tf is closer to 1 then the word is frequent  and if the value of idf is closer to 1 then the word is not that frequent this happens due to log in the formula. It also helps in minimizing the value of idf which helps in not over powering the idf ka value in the tf*idf ka product.\n",
        "\n"
      ]
    },
    {
      "cell_type": "code",
      "execution_count": null,
      "metadata": {
        "colab": {
          "base_uri": "https://localhost:8080/"
        },
        "id": "TcNLHRIKQZLN",
        "outputId": "80e84224-1ab9-4225-f44a-d048d328b8f2"
      },
      "outputs": [
        {
          "output_type": "stream",
          "name": "stdout",
          "text": [
            "['\\nPlayboy and genius Tony Stark (Robert Downey Jr) has inherited the defense contractor Stark Industries from his father the legendary Howard Stark. Tony was brilliant from the beginning and built his first circuit board when he was 4 years old, his first engine at the age of 6, graduated from MIT at 17. Howard died in a car accident soon thereafter. Obadiah Stane took over the company till Tony returned to take over at the age of 21. Tony has subsequently unleashed an array of smart weapons that have changed the face of conflict forever.\\n\\nJournalist Christine Everhart confronts Tony in Vegas and presents evidence that his company is selling weapons to terrorists and are being used to subjugate native defenseless populations across the globe. Tony has sex with Christine.\\nPepper Potts is Tony\\'s personal assistant. Harold \"Happy\" Hogan (Jon Favreau) is Stark\\'s bodyguard and chauffeur. J.A.R.V.I.S. (Paul Bettany) is Stark\\'s personal AI system.\\n\\nTony is in war-torn Afghanistan with his friend and military liaison, Lieutenant Colonel James Rhodes (Terrence Howard) to demonstrate the new \"Jericho\" missile. Rhodes and Tony are very good friends. The Jericho missile incorporates the new \"Repulsor\" technology and can deliver explosive payloads to multiple targets with a single missile, over a relatively large combat area.\\n\\nStark is critically wounded in an ambush (where he notices that terrorists have access to weapons manufactured by his own company) and imprisoned in a cave by the terrorist group the Ten Rings. An electromagnet (powered by a heavy car battery) built by fellow captive Yinsen (Shaun Toub) keeps the shrapnel that wounded Stark from reaching his heart and killing him. Ten Rings leader Raza (Faran Tahir) offers Stark freedom in exchange for building a Jericho missile for the group, but Tony and Yinsen agree Raza will not keep his word.\\nYinsen tells Tony that his weapons in the hands of terrorists is his legacy to the world.\\n\\nTony and Yinsen use the components from other missiles (also manufactured by Stark Industries) and extract Palladium (a precious metal) from it. They use the limited forge facilities available to them and work meticulously.\\nStark and Yinsen secretly build a powerful electric generator called an arc reactor (Tony had a large Arc reactor back home powering his factory and he has built a miniaturized version of it), to power Stark\\'s electromagnet (instead of the bulky battery), and then begin to build a suit of armor to escape. The suit is a very basic design, heavy and bulky. It has rudimentary weapons, a flame thrower, and rocket Thrusters at the base to launch the occupant into flight. With the arc reactor, it can be powered for about 15 minutes.\\n\\nThe Ten Rings attack the workshop when they discover what Stark is doing. Yinsen sacrifices himself to divert them while Stark\\'s suit powers up. The armored Stark battles his way out of the cave to find the dying Yinsen, then an enraged Stark burns the terrorist\\'s munitions and flies away, only to crash in the desert, destroying the suit.\\n\\nAfter being rescued by Rhodes, Stark returns home and announces that his company will no longer manufacture weapons. Obadiah Stane (Jeff Bridges), his father\\'s old partner and the company\\'s manager, advises Stark that this may ruin Stark Industries and his father\\'s legacy. Tony reveals to Stane that he has built a new miniaturized Arc reactor. The reactor has the power to provide clean energy to the entire planet.\\n\\nIn his home workshop, Stark builds an improved version of his suit, as well as a more powerful arc reactor for his chest. Personal assistant Pepper Potts (Gwyneth Paltrow) places the original reactor inside a small glass showcase.\\nThough Stane requests details on his work, a suspicious Stark decides to keep his work to himself.\\n\\nAt Stark\\'s first public appearance after his return, reporter Christine Everhart (Leslie Bibb) informs him that Stark Industries weapons, including the Jericho, were recently delivered to the Ten Rings and are being used to attack Yinsen\\'s home village. Stark also learns that Stane is trying to replace him as head of the company. Enraged, Stark dons his new armor and flies to Afghanistan, where he saves Yinsen\\'s village and delivers a devastating blow to the Ten Rings. While flying home, Stark is shot at by two F-22 Raptor fighter jets. He phones Rhodes and reveals his secret identity in an attempt to end the attack.\\n\\nMeanwhile, the Ten Rings gather the pieces of Stark\\'s prototype suit and meet with Stane, who subdues Raza and has the rest of the group eliminated. Stane has a new suit reverse engineered from the wreckage.\\nSeeking to find any other weapons delivered to the Ten Rings, Stark sends assistant Virginia \"Pepper\" Potts to hack into the company computer system from Stane\\'s office. She discovers Stane has been supplying the terrorists and hired the Ten Rings to kill Stark, but the group reneged.\\nPotts later meets with agent Phil Coulson (Clark Gregg) of the \"Strategic Homeland Intervention, Enforcement and Logistics Division\", a counter-terrorism agency, to inform him of Stane\\'s activities.\\n\\nStane\\'s scientists cannot duplicate Stark\\'s arc reactor, so Stane ambushes Stark at home, using a sonic device to paralyze him and take his arc reactor. Left to die, Stark manages to crawl to his lab and plug in his original reactor. Potts and several S.H.I.E.L.D. (Strategic Homeland Intervention, Enforcement and Logistics Division) agents attempt to arrest Stane, but he dons his suit and attacks them.\\nStark fights Stane but is over-matched without his new reactor to run his suit at full capacity. Stark lures Stane atop the Stark Industries building and instructs Potts to overload the large arc reactor there. This unleashes a massive electrical surge that knocks Stane unconscious, causing him and his armor to fall into the exploding reactor, killing him.\\n\\nThe next day, the press has dubbed the armored hero \"Iron Man\". Agent Coulson gives Stark a cover story to explain the events of the night and Stane\\'s death. At a press conference, Stark begins giving the cover story, but then announces that he is Iron Man, prompting the reporters to ask more questions.\\n\\nIn a post-credits scene, S.H.I.E.L.D. Director Nick Fury (Samuel L Jackson) visits Stark at home, and, noting that Iron Man is not \"the only superhero in the world\", says he wants to discuss the \"Avengers Initiative\".\\n', '\\nIn Russia, the news details Stark Industries CEO Tony Stark (Robert Downey, Jr.) revealing his identity as Iron Man to the world. Ivan Vanko (Mickey Rourke), whose father Anton Vanko (Yevgeni Lazarev) has just died, sees this and begins building an arc reactor similar to Stark\\'s.\\nAnton tells Ivan before dying, that all he could give Ivan was his knowledge and that it should have been Ivan on the TV instead of Tony. Ivan had access to some old blueprints for the Arc reactor and they had 2 names on it, Howard Stark and Anton Vanko.\\n\\nSix months later, Stark has used his Iron Man armor to help maintain world peace. He re-institutes the Stark Expo in Flushing Meadows to continue his father Howard\\'s legacy. The last time Stark Expo was held before was in 1974. Stark had access to some of Howard\\'s old, recorded videos where he talks about the city of the future.\\nSenator Stern (Garry Shandling) demands that Stark turn over the Iron Man technology to the government. Stark\\'s rival Justin Hammer (and the current primary defense contractor to the military) and his military liaison Colonel James Rhodes are also invited to the Senate hearing to testify. Stern reveals images showing that foreign nations are well on their way to developing their own Iron Man systems based on Stark\\'s design.\\nStark refuses to hand over the weapons system to the US Government, claiming that foreign nations and business competitors (including Hammer Industries) are decades away from successfully recreating his achievements, and that the armor is in fact his own property.\\n\\nThe palladium core in the arc reactor that keeps Stark alive and powers the armor is slowly poisoning him, and he has failed to find a substitute. Stark\\'s blood Toxicity is already at 19%. The continuous use of the Iron Man suit is accelerating Stark\\'s condition, and the Arc reactor is depleting Palladium cores at a high rate. There is no known replacement for the Palladium core.\\nGrowing increasingly despondent and reckless due to his impending death, and choosing not to tell anyone about his condition, Stark appoints his personal assistant Pepper Potts (Gwyneth Paltrow) CEO of Stark Industries and replaces Potts with Stark employee Natalie Rushman (Scarlett Johansson).\\nHappy Hogan (Jon Favreau) is Tony Stark\\'s bodyguard and chauffeur.\\n\\nStark travels to Monaco with Pepper and Natalie. He decides to race himself in an F1 car as his blood Toxicity reaches 53% and Stark knows that he does not have much longer to live.\\nVanko attacks Stark while racing at the Circuit De Monaco, using an arc reactor of his own powering whip-like energy weapons. Using his weapons, Vanko cuts Tony\\'s F1 car into 2 pieces.\\nSeeing the attack, Happy and Pepper drive on to the course with their Rolls Royce to deliver Stark\\'s suit to him.\\nStark defeats Vanko with the aid of his portable briefcase armor and learns that Vanko is the son of his father\\'s old partner, Anton Vanko, who had collaborated with Howard on the first arc reactor. Anton had defected to the US in 1963.\\nAnton was deported to his native Soviet Union in 1967 following attempts to profit from the technology and died in poverty, explaining Vanko\\'s desire for revenge on the Stark family. Ivan was conviction of trying to sell Soviet era weapons grade Plutonium to Pakistan and served 15 years in Kopeisk prison.\\nRival defense contractor Justin Hammer (Sam Rockwell) fakes Vanko\\'s death inside prison, plans his escape and recruits him to perfect a line of armored combat suits to upstage Stark at Stark\\'s expo.\\n\\nAt what he believes is his last birthday party, Stark gets drunk while using the Iron Man armor, forcing his friend, Air Force Lieutenant Colonel James Rhodes (Don Cheadle), to intervene. Strak had told Rhodes about the Palladium poisoning. Rhodes dons Stark\\'s Mark II armor and battles Stark. The battle ends when the combatants both fire Repulsor beams at each other, creating a huge explosion. After fighting with Stark, Rhodes delivers the armor to the military. Hammer gets the contract to integrate advanced weapons into the Iron Man suit.\\n\\nNick Fury (Samuel L. Jackson), director of S.H.I.E.L.D., approaches Stark, revealing Rushman as undercover agent Natasha Romanoff and that Howard Stark was a S.H.I.E.L.D. founder whom Fury knew personally. Fury gives him some of his father\\'s old material; a hidden message in the diorama of the 1974 Stark Expo proves to be a diagram of the structure of a new element. With the aid of his computer J.A.R.V.I.S. (Paul Bettany), Stark synthesizes it.\\nVanko reveals to Stark that he is still alive and seeking revenge so Stark uses the untested element, removing his dependency on the Palladium.\\n\\nVanko fails to deliver the combat suits to Hammer and instead says that he has worked on armored drones. This angers Hammer, but he has no choice.\\nAt the Expo, Hammer unveils Vanko\\'s armored drones, led by Rhodes in a heavily weapons laden version of the Mark II armor.\\nStark arrives in his new armor to warn Rhodes, but Vanko seizes control of both the drones and Rhodes\\' armor, and attacks Iron Man. Hammer is arrested while Stark\\'s bodyguard Happy Hogan and Romanoff attempt to capture Vanko. He escapes, but Romanoff hacks Vanko\\'s network and returns control of the Mark II armor to Rhodes.\\n\\nAfter defeating his drones Stark and Rhodes confront Vanko himself, now in a new, very powerful suit of armor. Neither can match Vanko, but Vanko is ultimately defeated when they fire Repulsor rays at each other, causing a large explosion. With his suit too damaged to continue the fight Vanko activates his suit\\'s self-destruct mechanism, along with that of his drones, apparently killing himself in the process. Stark saves Potts from the exploding drones\\' remains. Potts quits as CEO, and she and Stark kiss.\\n\\nAt a debriefing, while news footage of the Hulk\\'s rampage plays, Fury informs Stark that while Iron Man is a suitable candidate for the \"Avengers Initiative\", he himself is not. Stark agrees to serve as a consultant if Senator Stern acts as presenter at a ceremony planned for awarding Stark and Rhodes with medals for bravery, which Stern reluctantly does.\\n\\nIn a post-credits scene, S.H.I.E.L.D. Agent Coulson (Clark Gregg) reports the discovery of a large hammer at the bottom of a crater in a New Mexico desert.\\n', '\\nTony Stark (Robert Downing Jr) recalls a New Years Eve party in 1999 with scientist Maya Hansen (Rebecca Hall), inventor of Extremis, an experimental regenerative treatment intended to allow recovery from crippling injuries. This was also where Tony ran into Yinsen (Shaun Toub) for the first time.\\nDisabled scientist Aldrich Killian (Guy Pearce) offers them a place in his company Advanced Idea Mechanics (AIM), but Stark arrogantly rebuffs him. Tony sends Killian to the roof and asks him to wait for him there. Tony forgot all about Killian and unknown to Tony, Killian waited for him the entire night, and his hatred for Tony was cemented that day.\\nHansen\\'s work is still incomplete as there is a glitch in her treatment which causes the plants that have received treatment to explode.\\nYears later: Stark\\'s experiences during the alien invasion of New York give him panic attacks.\\n\\nRestless, he has built several Iron Man suits, creating friction with his girlfriend Pepper Potts (Gwyneth Paltrow). Tony\\'s latest generation of suits respond to micro implants in his body, and he can summon them from a great distance.\\nA string of bombings by terrorist the Mandarin (Ben Kingsley) has left intelligence agencies bewildered by lack of forensic evidence. There have been 9 bombings so far, but no identifiable bomb parts were found on any of the attack sites.\\nKillian reaches out to Potts and demonstrates the Extremis technology to her. Turns out Potts knew Killian from before and has a thing for him. Killian claims that the Extremis technology has the ability to re-code human DNA. Potts sees the ability of Extremis to turn humans into weapons and turns down Killian\\'s offer to collaborate.\\n\\nHappy finds Killian suspicious and starts tracking his associate, Eric Savin. Happy follows Eric into a crowded market, where he sees Eric talking and giving a briefcase to a military veteran. Happy confronts the veteran and picks up a hardware capsule from the case, when he is confronted by Eric. Happy punches Eric and breaks his nose, but it repairs instantly.\\nThe veteran ingests the capsule and soon starts glowing and eventually blows up.\\n\\nStark Industries security chief Happy Hogan (Jon Favreau) is badly injured in the attack which is blamed on Mandarin after a video is released with Mandarin taking responsibility for the blast. Once again, no bomb parts were found at the site. Tony recreates the site digitally and finds dog tags.\\nTony cannot speak to Happy as he is comatose. Stark overcomes his stupor and issues a televised threat to the Mandarin, who responds by destroying Stark\\'s home with helicopter gunships.\\nPotts and Hansen, who had come to warn them, survive the attack.\\n\\nStark then finds himself in rural Rose Hill Tennessee after his artificial intelligence JARVIS (Paul Bettany) followed a flight plan from Stark\\'s investigation into the Mandarin. Rose Hill was the location of another blast, which had a heat signature to the one where Happy was hurt. Both blasts generated heat more than 3000 degrees, and, in both cases, a military veteran was involved.\\nStark\\'s experimental armor lacks sufficient power to return to California, and the world believes him dead.\\n\\nTeaming with Harley (Ty Simpkins), a precocious 10-year-old boy, Stark investigates the remains of a local explosion bearing the hallmarks of a Mandarin attack. He finds that the military veterans involved in both explosions were linked to AIM, Killian\\'s company.\\nBy hacking into AIM systems, Tony discovers the \"bombings\" were triggered by soldiers subjected to Extremis, which at this stage of development can causes certain subjects to explosively reject it. After veterans started exploding, their deaths were used to cover up Extremis\\' flaws by manufacturing a terrorist plot.\\nStark witnesses Extremis firsthand when Mandarin agents Ellen Brandt (Stephanie Szostak) and Eric Savin (James Badge Dale) attack him. Stark manages to kill Ellen, but Eric revives himself after being shot by Stark.\\n\\nWith Harley\\'s help, Stark traces the Mandarin to Miami and infiltrates his headquarters using improvised weapons. Inside he discovers the Mandarin is actually a British actor, Trevor Slattery, who claims to be oblivious to the actions carried out in his name.\\nThe Mandarin is a creation of Killian, who appropriated Hansen\\'s Extremis research as a cure for his own disability and expanded the program to include injured war veterans.\\n\\nMeanwhile Hansen tells Potts that she believes Killian is working for the Mandarin.\\nAfter capturing Stark, Killian reveals he is the true Mandarin; he has kidnapped Potts and subjected her to Extremis, intending to infuse her with superhuman abilities and turn her against Stark as leverage to gain Stark\\'s aid in fixing Extremis\\' flaws. Killian kills Maya when she has a change of heart about the plan.\\n\\nKillian has also manipulated American intelligence agencies regarding the Mandarin\\'s location, luring James Rhodes (Don Cheadle) the former War Machine, now re-branded as the Iron Patriot, into a trap to steal the armor.\\nStark escapes and reunites with Rhodes, discovering that Killian intends to attack President Ellis (William Sadler) aboard Air Force One. Remotely controlling his Iron Man armor, Stark saves some surviving passengers and crew but cannot stop Killian from abducting Ellis. They trace Killian to an impounded oil-drilling platform where Killian intends to kill Ellis on live television. The vice president will become a puppet leader, following Killian\\'s orders in exchange for Extremis to cure his own little girl\\'s disability.\\n\\nOn the platform, Stark goes to save Potts, and Rhodes saves the president. Stark summons each of his Iron Man suits (which were earlier buried under the debris of his destroyed apartment), controlled remotely by JARVIS, to provide air support. Rhodes secures the president and leads him to safety, while Stark discovers Potts has survived the Extremis procedure. However, before he can save her, a rig collapses around them and she falls to her apparent death. Stark confronts Killian and traps him in an Iron Man suit that self-destructs but fails to kill him. Potts, whose Extremis powers allowed her to survive her fall, intervenes and kills Killian.\\n\\nAfter the battle, Stark orders JARVIS to destroy each Iron Man suit as a sign of his intention to devote more time to Potts. The vice president and Slattery are arrested. With Stark\\'s help, Potts\\' Extremis effects are stabilized, and Stark undergoes surgery to remove the shrapnel embedded near his heart. He pitches his obsolete chest arc reactor into the sea, musing he will always be Iron Man, even without his armor.\\n\\nIn a present-day post-credits scene, Stark wakes up Dr. Bruce Banner, who fell asleep listening at the beginning of Stark\\'s story.\\n']\n",
            "983 ['bulky', 'cuts', 'failed', 'without', 'bodyguard', 'months', 'inventor', 'certain', 'terrorists', 'prototype', 'manufacture', 'medals', 'obadiah', 'reneged', 'using', 'warn', 'says', 'intervention', 'asks', 'rolls', 'clark', 'wait', 'mit', 'delivers', 'virginia', 'base', 'word', 'element', 'carried', 'meet', 'seizes', 'obsolete', 'rings', 'used', 'glitch', 'apartment', 'fighter', 'collaborate', 'guy', 'accident', 'continue', 'area', 'natalie', 'gets', 'name', 'mexico', 'sam', 'natasha', 'rourke', 'anton', 'competitors', 'crowded', 'due', 'invasion', 'involved', 'replace', 'synthesizes', 'deported', 'kiss', 'clean', 'take', 'use', 'factory', 'fighting', 'grade', 'capture', 'signature', 'ingests', 'surge', 'passengers', 'surgery', 'phones', 'bibb', 'program', 'flying', 'knocks', 'knowledge', 'american', 'reckless', 'fakes', 'hidden', 'senate', 'crippling', 'upstage', 'oblivious', 'left', 'claiming', 'may', 'poverty', 'causes', 'nose', 'recovery', 'led', 'playboy', 'reject', 'eve', 'showcase', 'video', 'drunk', 'laden', 'intervene', 'subjected', 'traps', 'arc', 'inform', 'called', 'requests', 'miami', 'scientists', 'suit', 'rhodes', 'despondent', 'suspicious', 'headquarters', 'hurt', 'lacks', 'glass', 'bomb', 'lab', 'places', 'huge', 'parts', 'sea', 'helicopter', 'paltrow', 'burns', 'improved', 'issues', 'digitally', 'explosions', 'micro', 'small', 'talking', 'friend', 'massive', 'returns', 'trace', 'reaches', 'rampage', 'die', 'race', 'manufacturing', 'ellen', 'reunites', 'wounded', 'sacrifices', 'news', 'stephanie', 'ambush', 'profit', 'generation', 'vegas', 'sites', 'discovering', 'de', 'war', 'images', 'bravery', 'selling', 'mechanism', 'circuit', 'sell', 'recreates', 'confront', 'experimental', 'foreign', 'powered', 'explosive', 'age', 'destroy', 'incomplete', 'soon', 'fellow', 'heat', 'howard', 'help', 'safety', 'robert', 'high', 'shrapnel', 'leads', 'fell', 'partner', 'fury', 'workshop', 'drive', 'night', 'debriefing', 'falls', 'place', 'served', 'proves', 'fire', 'secret', 'electromagnet', '17', 'jr', 'lures', 'rate', 'steal', 'away', 'old', 'shandling', 'six', 'fight', 'consultant', 'plants', 'ellis', 'survived', 'hacking', 'much', 'president', 'bridges', 'plot', 'match', 'face', 'showing', 'populations', 'large', 'infuse', 'instantly', 'paralyze', 'meets', 'platform', 'journalist', 'seeing', 'pitches', 'learns', 'simpkins', 'william', 'hansen', 'afghanistan', 'bottom', 'panic', 'car', 'jon', 'genius', 'gain', 'decides', 'one', 'palladium', 'unleashes', 'appoints', 'story', 'killing', 'market', 'native', 'untested', 'wakes', 'controlling', 'plans', 'original', 'downing', 'york', 'electrical', 'manages', 'machine', 'quits', 'identity', 'end', 'assistant', 'perfect', 'johansson', 'hack', 'critically', 'terrorist', 'powers', 'revealing', 'heavy', 'company', 'szostak', 'kills', 'eventually', 'future', 'triggered', 'metal', 'suitable', 'soldiers', 'destroyed', 'message', 'ran', 'legacy', 'forever', 'superhero', 'tracking', 'linked', 'defense', 'already', 'took', '9', 'iron', 'cores', '19', 'unknown', 'little', 'secures', 'first', 'leader', 'son', 'bearing', 'agree', 'supplying', 'slattery', 'back', 'run', 'james', 'offers', 'arrogantly', 'russia', 'distance', 'divert', 'near', 'legendary', 'buried', 'soviet', 'business', 'arrives', 'colonel', 'industries', 'arrested', 'process', 'network', 'stabilized', 'abilities', 'keeps', 'toub', 'power', 'beams', 'started', 'blood', 'l', 'kopeisk', 'diorama', 'badge', 'heavily', 'garry', 'dependency', 'cemented', 'witnesses', 'badly', 'friction', 'founder', 'everhart', 'human', 'destroying', 'gives', 'racing', 'location', 'precocious', 'explain', 'devastating', 'unveils', 'manager', 'blueprints', 'respond', 'defenseless', 'accelerating', 'changed', 'course', 'found', 'agencies', 'released', 'intended', 'avengers', 'sonic', 'become', 'missile', 'home', 'reporter', 'include', 'lazarev', 'begin', 'held', 'cases', 'devote', 'launch', 'scene', 'roof', 'blamed', 'abducting', 'replaces', 'bruce', 'press', 'meanwhile', 'repulsor', 'travels', 'miniaturized', 'defeats', 'maintain', 'injured', 'instead', '1974', 'globe', '1999', 'recalls', 'ty', 'array', 'contractor', '15', 'mandarin', 'demands', 'several', 'two', 'bewildered', 'expo', 'videos', 'turn', 'era', 'employee', 'ultimately', 'stupor', 'also', 'reactor', 'treatment', 'latest', 'paul', 'tell', 'rudimentary', 'rescued', 'line', 'sex', 'local', 'appropriated', 'thrusters', 'dying', 'peace', 'samuel', 'turns', 'case', 'contract', 'punches', 'superhuman', 'agrees', 'save', 'experiences', 'dead', 'causing', 'cheadle', 'announces', 'repairs', 'air', 'hogan', 'extremis', 'actions', 'remotely', 'components', 'worked', 'generated', 'ai', 'manipulated', 'powering', 'waited', 'impending', 'capsule', 'overcomes', 'dog', 'names', 'explode', 'jets', 'televised', 'rose', 'planet', 'explosively', 'attempts', 'remains', 'deliver', 'favreau', 'infiltrates', 'killian', 'senator', 'harold', 'battery', 'finds', 'agent', '6', 'public', 'engineered', 'thereafter', 'even', 'give', 'notices', 'plug', 'head', 'powerful', 'property', 'aboard', 'design', 'ten', 'forensic', 'creating', 'occupant', 'great', 'acts', 'angers', 'energy', 'california', 'death', 'across', 'monaco', 'successfully', 'discover', 'humans', 'raza', 'idea', 'degrees', 'fact', 'blows', 'surviving', 'arrest', 'nations', 'prompting', 'orders', 'rival', 'inherited', 'procedure', 'presents', 'explaining', 'electric', 'us', 'regenerative', 'aim', 'intending', 'freedom', 'site', 'jeff', 'terrence', 'unconscious', 'ends', 'remove', 'primary', 'family', 'recorded', 'ceremony', 'targets', 'battle', 'actor', 'structure', 'stane', 'intelligence', 'armor', 'ceo', 'personally', 'details', 'defeating', 'system', 'investigates', 'atop', 'returned', '2', 'tells', 'work', 'saves', 'subdues', 'stop', 'another', 'imprisoned', 'responds', 'battles', 'man', 'potts', 'build', 'defected', 'demonstrates', 'plutonium', 'ivan', 'planned', 'reluctantly', 'begins', 'facilities', 'continuous', 'sees', 'mark', 'savin', 'shot', 'material', 'homeland', 'former', 'secretly', 'depleting', 'world', 'birthday', 'trying', 'blast', 'confronts', 'brilliant', 'disabled', 'intention', 'awarding', 'actually', 'flies', 'flushing', 'questions', 'summon', 'poisoning', 'died', 'personal', 'increasingly', 'generator', 'girlfriend', 'way', 'told', 'deaths', 'dubbed', 'collaborated', '1967', '21', 'enraged', 'phil', 'meadows', 'escape', 'alive', 'ability', 'time', 'military', 'group', 'briefcase', 'presenter', 'injuries', 'bettany', 'discuss', 'conviction', 'discovers', 'sends', 'hill', 'replacement', 'initiative', 'rushman', 'testify', 'rocket', 'heart', 'subjects', 'including', 'raptor', 'intervenes', 'collapses', 'later', 'tony', 'hand', 'precious', 'evidence', 'believes', 'forgot', 'artificial', 'tennessee', 'boy', 'systems', 'growing', 'sufficient', 'crawl', '53', 'ask', 'vice', 'crew', 'undergoes', 'agents', 'basic', 'division', 'core', 'weapons', 'fails', 'neither', 'yevgeni', 'recently', 'apparent', 'well', 'identifiable', 'dale', 'intends', 'plan', 'allow', 'portable', 'demonstrate', 'access', 'choosing', 'pakistan', 'chest', 'patriot', 'hallmarks', 'multiple', 'friends', 'enforcement', 'thing', 'eric', 'working', 'happy', 'reaching', 'current', 'office', 'gather', 'rig', 'visits', 'subjugate', 'logistics', 'instructs', 'hands', 'manufactured', 'alien', 'kingsley', 'liaison', 'mechanics', 'similar', 'bombings', 'picks', 'flaws', 'last', 'jarvis', 'day', 'shaun', 'events', 'recreating', 'teaming', 'kidnapped', 'puppet', 'still', 'hired', 'graduated', 'maya', 'lieutenant', 'jericho', 'eliminated', 'threat', 'tahir', 'trap', 'sadler', 'beginning', 'capturing', 'duplicate', 'strategic', 'removing', 'royce', 'controlled', 'substitute', 'subsequently', 'armored', 'force', 'kill', 'though', 'change', 'capacity', 'girl', 'leverage', 'refuses', 'reverse', 'reveals', 'knows', 'government', 'allowed', 'combat', 'romanoff', 'dna', 'gwyneth', 'musing', 'achievements', 'plays', 'flight', 'anyone', 'rebecca', 'full', '1963', 'blasts', 'decades', 'rest', 'along', 'luring', 'hatred', 'hammer', 'years', 'exchange', 'firsthand', 'unleashed', 'following', 'cover', 'father', 'nick', 'hearing', 'investigation', 'talks', 'hardware', 'tv', 'speak', 'blow', 'discovery', 'computer', 'desire', 'party', 'survive', 'provide', 'attack', 'flame', 'live', 'pearce', '3000', 'activities', 'strak', 'seeking', 'disability', 'asleep', 'director', 'thrower', 'built', 'cave', 'impounded', 'payloads', 'ruin', 'exploding', 'incorporates', 'received', 'stage', 'entire', 'sign', 'minutes', 'hall', 'british', 'village', 'whose', 'effects', 'undercover', 'munitions', 'followed', 'listening', 'far', 'tags', 'always', 'stark', 'comatose', 'summons', 'crash', 'attacks', 'board', 'defeated', 'engine', 'restless', 'christine', 'harley', 'jackson', 'captive', 'rockwell', 'city', 'pepper', 'ben', 'single', 'keep', 'body', 'traces', 'pieces', 'damaged', 'developing', 'reports', 'slowly', 'confronted', 'justin', 'find', 'rebuffs', 'veterans', 'expanded', 'yinsen', 'inside', 'approaches', 'offer', 'f1', 'faran', 'smart', 'aldrich', 'breaks', 'giving', 'version', 'revives', 'union', 'advanced', 'diagram', 'veteran', 'brandt', 'debris', 'apparently', 'hulk', 'support', 'however', 'string', 'control', 'noting', 'taking', 'research', 'candidate', 'extract', 'conference', 'agency', 'associate', 'escapes', 'improvised', 'rays', 'hero', 'cure', 'drones', 'ii', 'trevor', 'television', 'delivered', 'regarding', 'known', 'till', 'meticulously', 'relatively', 'scarlett', 'wreckage', 'lack', 'device', 'available', 'toxicity', 'condition', 'claims', 'security', 'creation', 'desert', 'implants', 'fixing', 'coulson', 'chauffeur', 'next', 'mickey', 'activates', 'advises', 'knew', 'development', 'overload', 'footage', 'starts', 'follows', 'fights', 'responsibility', 'attempt', 'stern', 'conflict', 'new', 'forge', 'gunships', 'chief', 'invited', 'earlier', 'leslie', 'explosion', 'embedded', 'choice', 'good', 'prison', 'serve', 'banner', 'crater', 'downey', 'aid', 'gregg', 'uses', 'forcing', 'true', 'based', '4', 'building', 'around', 'missiles', 'fall', 'ambushes', 'revenge', 'appearance', 'hacks', 'glowing', 'integrate', 'informs', 'builds', 'come', 'limited', 'scientist', 'rural', 'could', 'wants', 'dons', 'return', 'reporters', 'vanko', 'goes', 'combatants', 'suits', 'recruits', 'longer', 'technology']\n",
            "{'bulky': 0, 'cuts': 1, 'failed': 2, 'without': 3, 'bodyguard': 4, 'months': 5, 'inventor': 6, 'certain': 7, 'terrorists': 8, 'prototype': 9, 'manufacture': 10, 'medals': 11, 'obadiah': 12, 'reneged': 13, 'using': 14, 'warn': 15, 'says': 16, 'intervention': 17, 'asks': 18, 'rolls': 19, 'clark': 20, 'wait': 21, 'mit': 22, 'delivers': 23, 'virginia': 24, 'base': 25, 'word': 26, 'element': 27, 'carried': 28, 'meet': 29, 'seizes': 30, 'obsolete': 31, 'rings': 32, 'used': 33, 'glitch': 34, 'apartment': 35, 'fighter': 36, 'collaborate': 37, 'guy': 38, 'accident': 39, 'continue': 40, 'area': 41, 'natalie': 42, 'gets': 43, 'name': 44, 'mexico': 45, 'sam': 46, 'natasha': 47, 'rourke': 48, 'anton': 49, 'competitors': 50, 'crowded': 51, 'due': 52, 'invasion': 53, 'involved': 54, 'replace': 55, 'synthesizes': 56, 'deported': 57, 'kiss': 58, 'clean': 59, 'take': 60, 'use': 61, 'factory': 62, 'fighting': 63, 'grade': 64, 'capture': 65, 'signature': 66, 'ingests': 67, 'surge': 68, 'passengers': 69, 'surgery': 70, 'phones': 71, 'bibb': 72, 'program': 73, 'flying': 74, 'knocks': 75, 'knowledge': 76, 'american': 77, 'reckless': 78, 'fakes': 79, 'hidden': 80, 'senate': 81, 'crippling': 82, 'upstage': 83, 'oblivious': 84, 'left': 85, 'claiming': 86, 'may': 87, 'poverty': 88, 'causes': 89, 'nose': 90, 'recovery': 91, 'led': 92, 'playboy': 93, 'reject': 94, 'eve': 95, 'showcase': 96, 'video': 97, 'drunk': 98, 'laden': 99, 'intervene': 100, 'subjected': 101, 'traps': 102, 'arc': 103, 'inform': 104, 'called': 105, 'requests': 106, 'miami': 107, 'scientists': 108, 'suit': 109, 'rhodes': 110, 'despondent': 111, 'suspicious': 112, 'headquarters': 113, 'hurt': 114, 'lacks': 115, 'glass': 116, 'bomb': 117, 'lab': 118, 'places': 119, 'huge': 120, 'parts': 121, 'sea': 122, 'helicopter': 123, 'paltrow': 124, 'burns': 125, 'improved': 126, 'issues': 127, 'digitally': 128, 'explosions': 129, 'micro': 130, 'small': 131, 'talking': 132, 'friend': 133, 'massive': 134, 'returns': 135, 'trace': 136, 'reaches': 137, 'rampage': 138, 'die': 139, 'race': 140, 'manufacturing': 141, 'ellen': 142, 'reunites': 143, 'wounded': 144, 'sacrifices': 145, 'news': 146, 'stephanie': 147, 'ambush': 148, 'profit': 149, 'generation': 150, 'vegas': 151, 'sites': 152, 'discovering': 153, 'de': 154, 'war': 155, 'images': 156, 'bravery': 157, 'selling': 158, 'mechanism': 159, 'circuit': 160, 'sell': 161, 'recreates': 162, 'confront': 163, 'experimental': 164, 'foreign': 165, 'powered': 166, 'explosive': 167, 'age': 168, 'destroy': 169, 'incomplete': 170, 'soon': 171, 'fellow': 172, 'heat': 173, 'howard': 174, 'help': 175, 'safety': 176, 'robert': 177, 'high': 178, 'shrapnel': 179, 'leads': 180, 'fell': 181, 'partner': 182, 'fury': 183, 'workshop': 184, 'drive': 185, 'night': 186, 'debriefing': 187, 'falls': 188, 'place': 189, 'served': 190, 'proves': 191, 'fire': 192, 'secret': 193, 'electromagnet': 194, '17': 195, 'jr': 196, 'lures': 197, 'rate': 198, 'steal': 199, 'away': 200, 'old': 201, 'shandling': 202, 'six': 203, 'fight': 204, 'consultant': 205, 'plants': 206, 'ellis': 207, 'survived': 208, 'hacking': 209, 'much': 210, 'president': 211, 'bridges': 212, 'plot': 213, 'match': 214, 'face': 215, 'showing': 216, 'populations': 217, 'large': 218, 'infuse': 219, 'instantly': 220, 'paralyze': 221, 'meets': 222, 'platform': 223, 'journalist': 224, 'seeing': 225, 'pitches': 226, 'learns': 227, 'simpkins': 228, 'william': 229, 'hansen': 230, 'afghanistan': 231, 'bottom': 232, 'panic': 233, 'car': 234, 'jon': 235, 'genius': 236, 'gain': 237, 'decides': 238, 'one': 239, 'palladium': 240, 'unleashes': 241, 'appoints': 242, 'story': 243, 'killing': 244, 'market': 245, 'native': 246, 'untested': 247, 'wakes': 248, 'controlling': 249, 'plans': 250, 'original': 251, 'downing': 252, 'york': 253, 'electrical': 254, 'manages': 255, 'machine': 256, 'quits': 257, 'identity': 258, 'end': 259, 'assistant': 260, 'perfect': 261, 'johansson': 262, 'hack': 263, 'critically': 264, 'terrorist': 265, 'powers': 266, 'revealing': 267, 'heavy': 268, 'company': 269, 'szostak': 270, 'kills': 271, 'eventually': 272, 'future': 273, 'triggered': 274, 'metal': 275, 'suitable': 276, 'soldiers': 277, 'destroyed': 278, 'message': 279, 'ran': 280, 'legacy': 281, 'forever': 282, 'superhero': 283, 'tracking': 284, 'linked': 285, 'defense': 286, 'already': 287, 'took': 288, '9': 289, 'iron': 290, 'cores': 291, '19': 292, 'unknown': 293, 'little': 294, 'secures': 295, 'first': 296, 'leader': 297, 'son': 298, 'bearing': 299, 'agree': 300, 'supplying': 301, 'slattery': 302, 'back': 303, 'run': 304, 'james': 305, 'offers': 306, 'arrogantly': 307, 'russia': 308, 'distance': 309, 'divert': 310, 'near': 311, 'legendary': 312, 'buried': 313, 'soviet': 314, 'business': 315, 'arrives': 316, 'colonel': 317, 'industries': 318, 'arrested': 319, 'process': 320, 'network': 321, 'stabilized': 322, 'abilities': 323, 'keeps': 324, 'toub': 325, 'power': 326, 'beams': 327, 'started': 328, 'blood': 329, 'l': 330, 'kopeisk': 331, 'diorama': 332, 'badge': 333, 'heavily': 334, 'garry': 335, 'dependency': 336, 'cemented': 337, 'witnesses': 338, 'badly': 339, 'friction': 340, 'founder': 341, 'everhart': 342, 'human': 343, 'destroying': 344, 'gives': 345, 'racing': 346, 'location': 347, 'precocious': 348, 'explain': 349, 'devastating': 350, 'unveils': 351, 'manager': 352, 'blueprints': 353, 'respond': 354, 'defenseless': 355, 'accelerating': 356, 'changed': 357, 'course': 358, 'found': 359, 'agencies': 360, 'released': 361, 'intended': 362, 'avengers': 363, 'sonic': 364, 'become': 365, 'missile': 366, 'home': 367, 'reporter': 368, 'include': 369, 'lazarev': 370, 'begin': 371, 'held': 372, 'cases': 373, 'devote': 374, 'launch': 375, 'scene': 376, 'roof': 377, 'blamed': 378, 'abducting': 379, 'replaces': 380, 'bruce': 381, 'press': 382, 'meanwhile': 383, 'repulsor': 384, 'travels': 385, 'miniaturized': 386, 'defeats': 387, 'maintain': 388, 'injured': 389, 'instead': 390, '1974': 391, 'globe': 392, '1999': 393, 'recalls': 394, 'ty': 395, 'array': 396, 'contractor': 397, '15': 398, 'mandarin': 399, 'demands': 400, 'several': 401, 'two': 402, 'bewildered': 403, 'expo': 404, 'videos': 405, 'turn': 406, 'era': 407, 'employee': 408, 'ultimately': 409, 'stupor': 410, 'also': 411, 'reactor': 412, 'treatment': 413, 'latest': 414, 'paul': 415, 'tell': 416, 'rudimentary': 417, 'rescued': 418, 'line': 419, 'sex': 420, 'local': 421, 'appropriated': 422, 'thrusters': 423, 'dying': 424, 'peace': 425, 'samuel': 426, 'turns': 427, 'case': 428, 'contract': 429, 'punches': 430, 'superhuman': 431, 'agrees': 432, 'save': 433, 'experiences': 434, 'dead': 435, 'causing': 436, 'cheadle': 437, 'announces': 438, 'repairs': 439, 'air': 440, 'hogan': 441, 'extremis': 442, 'actions': 443, 'remotely': 444, 'components': 445, 'worked': 446, 'generated': 447, 'ai': 448, 'manipulated': 449, 'powering': 450, 'waited': 451, 'impending': 452, 'capsule': 453, 'overcomes': 454, 'dog': 455, 'names': 456, 'explode': 457, 'jets': 458, 'televised': 459, 'rose': 460, 'planet': 461, 'explosively': 462, 'attempts': 463, 'remains': 464, 'deliver': 465, 'favreau': 466, 'infiltrates': 467, 'killian': 468, 'senator': 469, 'harold': 470, 'battery': 471, 'finds': 472, 'agent': 473, '6': 474, 'public': 475, 'engineered': 476, 'thereafter': 477, 'even': 478, 'give': 479, 'notices': 480, 'plug': 481, 'head': 482, 'powerful': 483, 'property': 484, 'aboard': 485, 'design': 486, 'ten': 487, 'forensic': 488, 'creating': 489, 'occupant': 490, 'great': 491, 'acts': 492, 'angers': 493, 'energy': 494, 'california': 495, 'death': 496, 'across': 497, 'monaco': 498, 'successfully': 499, 'discover': 500, 'humans': 501, 'raza': 502, 'idea': 503, 'degrees': 504, 'fact': 505, 'blows': 506, 'surviving': 507, 'arrest': 508, 'nations': 509, 'prompting': 510, 'orders': 511, 'rival': 512, 'inherited': 513, 'procedure': 514, 'presents': 515, 'explaining': 516, 'electric': 517, 'us': 518, 'regenerative': 519, 'aim': 520, 'intending': 521, 'freedom': 522, 'site': 523, 'jeff': 524, 'terrence': 525, 'unconscious': 526, 'ends': 527, 'remove': 528, 'primary': 529, 'family': 530, 'recorded': 531, 'ceremony': 532, 'targets': 533, 'battle': 534, 'actor': 535, 'structure': 536, 'stane': 537, 'intelligence': 538, 'armor': 539, 'ceo': 540, 'personally': 541, 'details': 542, 'defeating': 543, 'system': 544, 'investigates': 545, 'atop': 546, 'returned': 547, '2': 548, 'tells': 549, 'work': 550, 'saves': 551, 'subdues': 552, 'stop': 553, 'another': 554, 'imprisoned': 555, 'responds': 556, 'battles': 557, 'man': 558, 'potts': 559, 'build': 560, 'defected': 561, 'demonstrates': 562, 'plutonium': 563, 'ivan': 564, 'planned': 565, 'reluctantly': 566, 'begins': 567, 'facilities': 568, 'continuous': 569, 'sees': 570, 'mark': 571, 'savin': 572, 'shot': 573, 'material': 574, 'homeland': 575, 'former': 576, 'secretly': 577, 'depleting': 578, 'world': 579, 'birthday': 580, 'trying': 581, 'blast': 582, 'confronts': 583, 'brilliant': 584, 'disabled': 585, 'intention': 586, 'awarding': 587, 'actually': 588, 'flies': 589, 'flushing': 590, 'questions': 591, 'summon': 592, 'poisoning': 593, 'died': 594, 'personal': 595, 'increasingly': 596, 'generator': 597, 'girlfriend': 598, 'way': 599, 'told': 600, 'deaths': 601, 'dubbed': 602, 'collaborated': 603, '1967': 604, '21': 605, 'enraged': 606, 'phil': 607, 'meadows': 608, 'escape': 609, 'alive': 610, 'ability': 611, 'time': 612, 'military': 613, 'group': 614, 'briefcase': 615, 'presenter': 616, 'injuries': 617, 'bettany': 618, 'discuss': 619, 'conviction': 620, 'discovers': 621, 'sends': 622, 'hill': 623, 'replacement': 624, 'initiative': 625, 'rushman': 626, 'testify': 627, 'rocket': 628, 'heart': 629, 'subjects': 630, 'including': 631, 'raptor': 632, 'intervenes': 633, 'collapses': 634, 'later': 635, 'tony': 636, 'hand': 637, 'precious': 638, 'evidence': 639, 'believes': 640, 'forgot': 641, 'artificial': 642, 'tennessee': 643, 'boy': 644, 'systems': 645, 'growing': 646, 'sufficient': 647, 'crawl': 648, '53': 649, 'ask': 650, 'vice': 651, 'crew': 652, 'undergoes': 653, 'agents': 654, 'basic': 655, 'division': 656, 'core': 657, 'weapons': 658, 'fails': 659, 'neither': 660, 'yevgeni': 661, 'recently': 662, 'apparent': 663, 'well': 664, 'identifiable': 665, 'dale': 666, 'intends': 667, 'plan': 668, 'allow': 669, 'portable': 670, 'demonstrate': 671, 'access': 672, 'choosing': 673, 'pakistan': 674, 'chest': 675, 'patriot': 676, 'hallmarks': 677, 'multiple': 678, 'friends': 679, 'enforcement': 680, 'thing': 681, 'eric': 682, 'working': 683, 'happy': 684, 'reaching': 685, 'current': 686, 'office': 687, 'gather': 688, 'rig': 689, 'visits': 690, 'subjugate': 691, 'logistics': 692, 'instructs': 693, 'hands': 694, 'manufactured': 695, 'alien': 696, 'kingsley': 697, 'liaison': 698, 'mechanics': 699, 'similar': 700, 'bombings': 701, 'picks': 702, 'flaws': 703, 'last': 704, 'jarvis': 705, 'day': 706, 'shaun': 707, 'events': 708, 'recreating': 709, 'teaming': 710, 'kidnapped': 711, 'puppet': 712, 'still': 713, 'hired': 714, 'graduated': 715, 'maya': 716, 'lieutenant': 717, 'jericho': 718, 'eliminated': 719, 'threat': 720, 'tahir': 721, 'trap': 722, 'sadler': 723, 'beginning': 724, 'capturing': 725, 'duplicate': 726, 'strategic': 727, 'removing': 728, 'royce': 729, 'controlled': 730, 'substitute': 731, 'subsequently': 732, 'armored': 733, 'force': 734, 'kill': 735, 'though': 736, 'change': 737, 'capacity': 738, 'girl': 739, 'leverage': 740, 'refuses': 741, 'reverse': 742, 'reveals': 743, 'knows': 744, 'government': 745, 'allowed': 746, 'combat': 747, 'romanoff': 748, 'dna': 749, 'gwyneth': 750, 'musing': 751, 'achievements': 752, 'plays': 753, 'flight': 754, 'anyone': 755, 'rebecca': 756, 'full': 757, '1963': 758, 'blasts': 759, 'decades': 760, 'rest': 761, 'along': 762, 'luring': 763, 'hatred': 764, 'hammer': 765, 'years': 766, 'exchange': 767, 'firsthand': 768, 'unleashed': 769, 'following': 770, 'cover': 771, 'father': 772, 'nick': 773, 'hearing': 774, 'investigation': 775, 'talks': 776, 'hardware': 777, 'tv': 778, 'speak': 779, 'blow': 780, 'discovery': 781, 'computer': 782, 'desire': 783, 'party': 784, 'survive': 785, 'provide': 786, 'attack': 787, 'flame': 788, 'live': 789, 'pearce': 790, '3000': 791, 'activities': 792, 'strak': 793, 'seeking': 794, 'disability': 795, 'asleep': 796, 'director': 797, 'thrower': 798, 'built': 799, 'cave': 800, 'impounded': 801, 'payloads': 802, 'ruin': 803, 'exploding': 804, 'incorporates': 805, 'received': 806, 'stage': 807, 'entire': 808, 'sign': 809, 'minutes': 810, 'hall': 811, 'british': 812, 'village': 813, 'whose': 814, 'effects': 815, 'undercover': 816, 'munitions': 817, 'followed': 818, 'listening': 819, 'far': 820, 'tags': 821, 'always': 822, 'stark': 823, 'comatose': 824, 'summons': 825, 'crash': 826, 'attacks': 827, 'board': 828, 'defeated': 829, 'engine': 830, 'restless': 831, 'christine': 832, 'harley': 833, 'jackson': 834, 'captive': 835, 'rockwell': 836, 'city': 837, 'pepper': 838, 'ben': 839, 'single': 840, 'keep': 841, 'body': 842, 'traces': 843, 'pieces': 844, 'damaged': 845, 'developing': 846, 'reports': 847, 'slowly': 848, 'confronted': 849, 'justin': 850, 'find': 851, 'rebuffs': 852, 'veterans': 853, 'expanded': 854, 'yinsen': 855, 'inside': 856, 'approaches': 857, 'offer': 858, 'f1': 859, 'faran': 860, 'smart': 861, 'aldrich': 862, 'breaks': 863, 'giving': 864, 'version': 865, 'revives': 866, 'union': 867, 'advanced': 868, 'diagram': 869, 'veteran': 870, 'brandt': 871, 'debris': 872, 'apparently': 873, 'hulk': 874, 'support': 875, 'however': 876, 'string': 877, 'control': 878, 'noting': 879, 'taking': 880, 'research': 881, 'candidate': 882, 'extract': 883, 'conference': 884, 'agency': 885, 'associate': 886, 'escapes': 887, 'improvised': 888, 'rays': 889, 'hero': 890, 'cure': 891, 'drones': 892, 'ii': 893, 'trevor': 894, 'television': 895, 'delivered': 896, 'regarding': 897, 'known': 898, 'till': 899, 'meticulously': 900, 'relatively': 901, 'scarlett': 902, 'wreckage': 903, 'lack': 904, 'device': 905, 'available': 906, 'toxicity': 907, 'condition': 908, 'claims': 909, 'security': 910, 'creation': 911, 'desert': 912, 'implants': 913, 'fixing': 914, 'coulson': 915, 'chauffeur': 916, 'next': 917, 'mickey': 918, 'activates': 919, 'advises': 920, 'knew': 921, 'development': 922, 'overload': 923, 'footage': 924, 'starts': 925, 'follows': 926, 'fights': 927, 'responsibility': 928, 'attempt': 929, 'stern': 930, 'conflict': 931, 'new': 932, 'forge': 933, 'gunships': 934, 'chief': 935, 'invited': 936, 'earlier': 937, 'leslie': 938, 'explosion': 939, 'embedded': 940, 'choice': 941, 'good': 942, 'prison': 943, 'serve': 944, 'banner': 945, 'crater': 946, 'downey': 947, 'aid': 948, 'gregg': 949, 'uses': 950, 'forcing': 951, 'true': 952, 'based': 953, '4': 954, 'building': 955, 'around': 956, 'missiles': 957, 'fall': 958, 'ambushes': 959, 'revenge': 960, 'appearance': 961, 'hacks': 962, 'glowing': 963, 'integrate': 964, 'informs': 965, 'builds': 966, 'come': 967, 'limited': 968, 'scientist': 969, 'rural': 970, 'could': 971, 'wants': 972, 'dons': 973, 'return': 974, 'reporters': 975, 'vanko': 976, 'goes': 977, 'combatants': 978, 'suits': 979, 'recruits': 980, 'longer': 981, 'technology': 982}\n"
          ]
        }
      ],
      "source": [
        "# Here's what you should have:\n",
        "print(movies)\n",
        "print(len(word_set), word_set)\n",
        "print(index_dict)"
      ]
    },
    {
      "cell_type": "code",
      "execution_count": null,
      "metadata": {
        "colab": {
          "base_uri": "https://localhost:8080/"
        },
        "id": "e2QvAqnNPwVP",
        "outputId": "479f8845-f472-4724-8fa2-c3a99147cdd1"
      },
      "outputs": [
        {
          "output_type": "stream",
          "name": "stdout",
          "text": [
            "Counter({'killian': 0.03689995473389071, 'extremis': 0.02348178937611227, 'mandarin': 0.021804518706389966, 'eric': 0.011740894688056135, 'president': 0.008386353348611524, 'hansen': 0.008386353348611524, 'finds': 0.00670908267888922, 'veteran': 0.00670908267888922, 'ellis': 0.005031812009166916, 'treatment': 0.005031812009166916, 'aim': 0.005031812009166916, 'intelligence': 0.005031812009166916, 'bombings': 0.005031812009166916, 'jarvis': 0.005031812009166916, 'veterans': 0.005031812009166916, 'involved': 0.00335454133944461, 'causes': 0.00335454133944461, 'subjected': 0.00335454133944461, 'bomb': 0.00335454133944461, 'parts': 0.00335454133944461, 'ellen': 0.00335454133944461, 'war': 0.00335454133944461, 'experimental': 0.00335454133944461, 'heat': 0.00335454133944461, 'platform': 0.00335454133944461, 'one': 0.00335454133944461, 'kills': 0.00335454133944461, 'slattery': 0.00335454133944461, 'location': 0.00335454133944461, 'found': 0.00335454133944461, 'agencies': 0.00335454133944461, 'injured': 0.00335454133944461, 'turns': 0.00335454133944461, 'save': 0.00335454133944461, 'remotely': 0.00335454133944461, 'capsule': 0.00335454133944461, 'rose': 0.00335454133944461, 'orders': 0.00335454133944461, 'site': 0.00335454133944461, 'savin': 0.00335454133944461, 'blast': 0.00335454133944461, 'ability': 0.00335454133944461, 'hill': 0.00335454133944461, 'vice': 0.00335454133944461, 'intends': 0.00335454133944461, 'plan': 0.00335454133944461, 'flaws': 0.00335454133944461, 'maya': 0.00335454133944461, 'survive': 0.00335454133944461, 'disability': 0.00335454133944461, 'harley': 0.00335454133944461, 'cure': 0.00335454133944461, 'claims': 0.00335454133944461, 'starts': 0.00335454133944461, 'scientist': 0.00335454133944461, 'discovers': 0.001857092098205333, 'kill': 0.001857092098205333, 'suits': 0.001857092098205333, 'inventor': 0.001677270669722305, 'certain': 0.001677270669722305, 'asks': 0.001677270669722305, 'wait': 0.001677270669722305, 'carried': 0.001677270669722305, 'obsolete': 0.001677270669722305, 'glitch': 0.001677270669722305, 'apartment': 0.001677270669722305, 'collaborate': 0.001677270669722305, 'guy': 0.001677270669722305, 'name': 0.001677270669722305, 'crowded': 0.001677270669722305, 'invasion': 0.001677270669722305, 'signature': 0.001677270669722305, 'ingests': 0.001677270669722305, 'passengers': 0.001677270669722305, 'surgery': 0.001677270669722305, 'program': 0.001677270669722305, 'american': 0.001677270669722305, 'crippling': 0.001677270669722305, 'oblivious': 0.001677270669722305, 'nose': 0.001677270669722305, 'recovery': 0.001677270669722305, 'reject': 0.001677270669722305, 'eve': 0.001677270669722305, 'video': 0.001677270669722305, 'traps': 0.001677270669722305, 'miami': 0.001677270669722305, 'headquarters': 0.001677270669722305, 'hurt': 0.001677270669722305, 'lacks': 0.001677270669722305, 'sea': 0.001677270669722305, 'helicopter': 0.001677270669722305, 'issues': 0.001677270669722305, 'digitally': 0.001677270669722305, 'explosions': 0.001677270669722305, 'micro': 0.001677270669722305, 'talking': 0.001677270669722305, 'trace': 0.001677270669722305, 'manufacturing': 0.001677270669722305, 'reunites': 0.001677270669722305, 'stephanie': 0.001677270669722305, 'generation': 0.001677270669722305, 'sites': 0.001677270669722305, 'discovering': 0.001677270669722305, 'recreates': 0.001677270669722305, 'destroy': 0.001677270669722305, 'incomplete': 0.001677270669722305, 'safety': 0.001677270669722305, 'leads': 0.001677270669722305, 'fell': 0.001677270669722305, 'falls': 0.001677270669722305, 'place': 0.001677270669722305, 'steal': 0.001677270669722305, 'plants': 0.001677270669722305, 'survived': 0.001677270669722305, 'hacking': 0.001677270669722305, 'plot': 0.001677270669722305, 'infuse': 0.001677270669722305, 'instantly': 0.001677270669722305, 'pitches': 0.001677270669722305, 'simpkins': 0.001677270669722305, 'william': 0.001677270669722305, 'panic': 0.001677270669722305, 'gain': 0.001677270669722305, 'market': 0.001677270669722305, 'wakes': 0.001677270669722305, 'controlling': 0.001677270669722305, 'downing': 0.001677270669722305, 'york': 0.001677270669722305, 'machine': 0.001677270669722305, 'szostak': 0.001677270669722305, 'eventually': 0.001677270669722305, 'triggered': 0.001677270669722305, 'soldiers': 0.001677270669722305, 'destroyed': 0.001677270669722305, 'ran': 0.001677270669722305, 'tracking': 0.001677270669722305, 'linked': 0.001677270669722305, '9': 0.001677270669722305, 'unknown': 0.001677270669722305, 'little': 0.001677270669722305, 'secures': 0.001677270669722305, 'bearing': 0.001677270669722305, 'arrogantly': 0.001677270669722305, 'distance': 0.001677270669722305, 'near': 0.001677270669722305, 'buried': 0.001677270669722305, 'stabilized': 0.001677270669722305, 'abilities': 0.001677270669722305, 'started': 0.001677270669722305, 'badge': 0.001677270669722305, 'cemented': 0.001677270669722305, 'witnesses': 0.001677270669722305, 'badly': 0.001677270669722305, 'friction': 0.001677270669722305, 'human': 0.001677270669722305, 'precocious': 0.001677270669722305, 'respond': 0.001677270669722305, 'released': 0.001677270669722305, 'intended': 0.001677270669722305, 'become': 0.001677270669722305, 'include': 0.001677270669722305, 'cases': 0.001677270669722305, 'devote': 0.001677270669722305, 'roof': 0.001677270669722305, 'blamed': 0.001677270669722305, 'abducting': 0.001677270669722305, 'bruce': 0.001677270669722305, '1999': 0.001677270669722305, 'recalls': 0.001677270669722305, 'ty': 0.001677270669722305, 'bewildered': 0.001677270669722305, 'stupor': 0.001677270669722305, 'latest': 0.001677270669722305, 'local': 0.001677270669722305, 'appropriated': 0.001677270669722305, 'case': 0.001677270669722305, 'punches': 0.001677270669722305, 'superhuman': 0.001677270669722305, 'experiences': 0.001677270669722305, 'dead': 0.001677270669722305, 'repairs': 0.001677270669722305, 'actions': 0.001677270669722305, 'generated': 0.001677270669722305, 'manipulated': 0.001677270669722305, 'waited': 0.001677270669722305, 'overcomes': 0.001677270669722305, 'dog': 0.001677270669722305, 'explode': 0.001677270669722305, 'televised': 0.001677270669722305, 'explosively': 0.001677270669722305, 'infiltrates': 0.001677270669722305, 'even': 0.001677270669722305, 'aboard': 0.001677270669722305, 'forensic': 0.001677270669722305, 'great': 0.001677270669722305, 'california': 0.001677270669722305, 'humans': 0.001677270669722305, 'idea': 0.001677270669722305, 'degrees': 0.001677270669722305, 'blows': 0.001677270669722305, 'surviving': 0.001677270669722305, 'procedure': 0.001677270669722305, 'regenerative': 0.001677270669722305, 'intending': 0.001677270669722305, 'remove': 0.001677270669722305, 'actor': 0.001677270669722305, 'investigates': 0.001677270669722305, 'stop': 0.001677270669722305, 'another': 0.001677270669722305, 'responds': 0.001677270669722305, 'demonstrates': 0.001677270669722305, 'former': 0.001677270669722305, 'disabled': 0.001677270669722305, 'intention': 0.001677270669722305, 'actually': 0.001677270669722305, 'summon': 0.001677270669722305, 'girlfriend': 0.001677270669722305, 'deaths': 0.001677270669722305, 'injuries': 0.001677270669722305, 'subjects': 0.001677270669722305, 'intervenes': 0.001677270669722305, 'collapses': 0.001677270669722305, 'forgot': 0.001677270669722305, 'artificial': 0.001677270669722305, 'tennessee': 0.001677270669722305, 'boy': 0.001677270669722305, 'sufficient': 0.001677270669722305, 'crew': 0.001677270669722305, 'undergoes': 0.001677270669722305, 'apparent': 0.001677270669722305, 'identifiable': 0.001677270669722305, 'dale': 0.001677270669722305, 'allow': 0.001677270669722305, 'patriot': 0.001677270669722305, 'hallmarks': 0.001677270669722305, 'thing': 0.001677270669722305, 'working': 0.001677270669722305, 'rig': 0.001677270669722305, 'alien': 0.001677270669722305, 'kingsley': 0.001677270669722305, 'mechanics': 0.001677270669722305, 'picks': 0.001677270669722305, 'teaming': 0.001677270669722305, 'kidnapped': 0.001677270669722305, 'puppet': 0.001677270669722305, 'threat': 0.001677270669722305, 'trap': 0.001677270669722305, 'sadler': 0.001677270669722305, 'capturing': 0.001677270669722305, 'controlled': 0.001677270669722305, 'change': 0.001677270669722305, 'girl': 0.001677270669722305, 'leverage': 0.001677270669722305, 'allowed': 0.001677270669722305, 'dna': 0.001677270669722305, 'musing': 0.001677270669722305, 'rebecca': 0.001677270669722305, 'blasts': 0.001677270669722305, 'luring': 0.001677270669722305, 'hatred': 0.001677270669722305, 'firsthand': 0.001677270669722305, 'investigation': 0.001677270669722305, 'hardware': 0.001677270669722305, 'speak': 0.001677270669722305, 'pearce': 0.001677270669722305, '3000': 0.001677270669722305, 'asleep': 0.001677270669722305, 'impounded': 0.001677270669722305, 'received': 0.001677270669722305, 'stage': 0.001677270669722305, 'sign': 0.001677270669722305, 'hall': 0.001677270669722305, 'british': 0.001677270669722305, 'effects': 0.001677270669722305, 'followed': 0.001677270669722305, 'listening': 0.001677270669722305, 'far': 0.001677270669722305, 'tags': 0.001677270669722305, 'always': 0.001677270669722305, 'comatose': 0.001677270669722305, 'summons': 0.001677270669722305, 'restless': 0.001677270669722305, 'ben': 0.001677270669722305, 'body': 0.001677270669722305, 'traces': 0.001677270669722305, 'confronted': 0.001677270669722305, 'rebuffs': 0.001677270669722305, 'expanded': 0.001677270669722305, 'offer': 0.001677270669722305, 'aldrich': 0.001677270669722305, 'breaks': 0.001677270669722305, 'revives': 0.001677270669722305, 'brandt': 0.001677270669722305, 'debris': 0.001677270669722305, 'support': 0.001677270669722305, 'however': 0.001677270669722305, 'string': 0.001677270669722305, 'taking': 0.001677270669722305, 'research': 0.001677270669722305, 'associate': 0.001677270669722305, 'improvised': 0.001677270669722305, 'trevor': 0.001677270669722305, 'television': 0.001677270669722305, 'regarding': 0.001677270669722305, 'lack': 0.001677270669722305, 'security': 0.001677270669722305, 'creation': 0.001677270669722305, 'implants': 0.001677270669722305, 'fixing': 0.001677270669722305, 'development': 0.001677270669722305, 'follows': 0.001677270669722305, 'responsibility': 0.001677270669722305, 'gunships': 0.001677270669722305, 'chief': 0.001677270669722305, 'earlier': 0.001677270669722305, 'embedded': 0.001677270669722305, 'banner': 0.001677270669722305, 'true': 0.001677270669722305, 'around': 0.001677270669722305, 'glowing': 0.001677270669722305, 'come': 0.001677270669722305, 'rural': 0.001677270669722305, 'goes': 0.001677270669722305, 'help': 0.0012380613988035554, 'terrorist': 0.0012380613988035554, 'company': 0.0012380613988035554, 'turn': 0.0012380613988035554, 'air': 0.0012380613988035554, 'sees': 0.0012380613988035554, 'confronts': 0.0012380613988035554, 'time': 0.0012380613988035554, 'heart': 0.0012380613988035554, 'believes': 0.0012380613988035554, 'without': 0.0006190306994017777, 'warn': 0.0006190306994017777, 'left': 0.0006190306994017777, 'suspicious': 0.0006190306994017777, 'reaches': 0.0006190306994017777, 'soon': 0.0006190306994017777, 'shrapnel': 0.0006190306994017777, 'night': 0.0006190306994017777, 'jr': 0.0006190306994017777, 'story': 0.0006190306994017777, 'manages': 0.0006190306994017777, 'leader': 0.0006190306994017777, 'offers': 0.0006190306994017777, 'arrested': 0.0006190306994017777, 'toub': 0.0006190306994017777, 'power': 0.0006190306994017777, 'destroying': 0.0006190306994017777, 'home': 0.0006190306994017777, 'meanwhile': 0.0006190306994017777, 'several': 0.0006190306994017777, 'cheadle': 0.0006190306994017777, 'remains': 0.0006190306994017777, 'give': 0.0006190306994017777, 'creating': 0.0006190306994017777, 'battle': 0.0006190306994017777, 'work': 0.0006190306994017777, 'shot': 0.0006190306994017777, 'briefcase': 0.0006190306994017777, 'sends': 0.0006190306994017777, 'evidence': 0.0006190306994017777, 'systems': 0.0006190306994017777, 'agents': 0.0006190306994017777, 'fails': 0.0006190306994017777, 'chest': 0.0006190306994017777, 'day': 0.0006190306994017777, 'shaun': 0.0006190306994017777, 'still': 0.0006190306994017777, 'beginning': 0.0006190306994017777, 'force': 0.0006190306994017777, 'flight': 0.0006190306994017777, 'exchange': 0.0006190306994017777, 'following': 0.0006190306994017777, 'cover': 0.0006190306994017777, 'party': 0.0006190306994017777, 'provide': 0.0006190306994017777, 'live': 0.0006190306994017777, 'built': 0.0006190306994017777, 'entire': 0.0006190306994017777, 'whose': 0.0006190306994017777, 'yinsen': 0.0006190306994017777, 'giving': 0.0006190306994017777, 'advanced': 0.0006190306994017777, 'escapes': 0.0006190306994017777, 'knew': 0.0006190306994017777, 'explosion': 0.0006190306994017777, 'aid': 0.0006190306994017777, 'fall': 0.0006190306994017777, 'return': 0.0006190306994017777, 'bulky': 0.0, 'cuts': 0.0, 'failed': 0.0, 'bodyguard': 0.0, 'months': 0.0, 'terrorists': 0.0, 'prototype': 0.0, 'manufacture': 0.0, 'medals': 0.0, 'obadiah': 0.0, 'reneged': 0.0, 'using': 0.0, 'says': 0.0, 'intervention': 0.0, 'rolls': 0.0, 'clark': 0.0, 'mit': 0.0, 'delivers': 0.0, 'virginia': 0.0, 'base': 0.0, 'word': 0.0, 'element': 0.0, 'meet': 0.0, 'seizes': 0.0, 'rings': 0.0, 'used': 0.0, 'fighter': 0.0, 'accident': 0.0, 'continue': 0.0, 'area': 0.0, 'natalie': 0.0, 'gets': 0.0, 'mexico': 0.0, 'sam': 0.0, 'natasha': 0.0, 'rourke': 0.0, 'anton': 0.0, 'competitors': 0.0, 'due': 0.0, 'replace': 0.0, 'synthesizes': 0.0, 'deported': 0.0, 'kiss': 0.0, 'clean': 0.0, 'take': 0.0, 'use': 0.0, 'factory': 0.0, 'fighting': 0.0, 'grade': 0.0, 'capture': 0.0, 'surge': 0.0, 'phones': 0.0, 'bibb': 0.0, 'flying': 0.0, 'knocks': 0.0, 'knowledge': 0.0, 'reckless': 0.0, 'fakes': 0.0, 'hidden': 0.0, 'senate': 0.0, 'upstage': 0.0, 'claiming': 0.0, 'may': 0.0, 'poverty': 0.0, 'led': 0.0, 'playboy': 0.0, 'showcase': 0.0, 'drunk': 0.0, 'laden': 0.0, 'intervene': 0.0, 'arc': 0.0, 'inform': 0.0, 'called': 0.0, 'requests': 0.0, 'scientists': 0.0, 'suit': 0.0, 'rhodes': 0.0, 'despondent': 0.0, 'glass': 0.0, 'lab': 0.0, 'places': 0.0, 'huge': 0.0, 'paltrow': 0.0, 'burns': 0.0, 'improved': 0.0, 'small': 0.0, 'friend': 0.0, 'massive': 0.0, 'returns': 0.0, 'rampage': 0.0, 'die': 0.0, 'race': 0.0, 'wounded': 0.0, 'sacrifices': 0.0, 'news': 0.0, 'ambush': 0.0, 'profit': 0.0, 'vegas': 0.0, 'de': 0.0, 'images': 0.0, 'bravery': 0.0, 'selling': 0.0, 'mechanism': 0.0, 'circuit': 0.0, 'sell': 0.0, 'confront': 0.0, 'foreign': 0.0, 'powered': 0.0, 'explosive': 0.0, 'age': 0.0, 'fellow': 0.0, 'howard': 0.0, 'robert': 0.0, 'high': 0.0, 'partner': 0.0, 'fury': 0.0, 'workshop': 0.0, 'drive': 0.0, 'debriefing': 0.0, 'served': 0.0, 'proves': 0.0, 'fire': 0.0, 'secret': 0.0, 'electromagnet': 0.0, '17': 0.0, 'lures': 0.0, 'rate': 0.0, 'away': 0.0, 'old': 0.0, 'shandling': 0.0, 'six': 0.0, 'fight': 0.0, 'consultant': 0.0, 'much': 0.0, 'bridges': 0.0, 'match': 0.0, 'face': 0.0, 'showing': 0.0, 'populations': 0.0, 'large': 0.0, 'paralyze': 0.0, 'meets': 0.0, 'journalist': 0.0, 'seeing': 0.0, 'learns': 0.0, 'afghanistan': 0.0, 'bottom': 0.0, 'car': 0.0, 'jon': 0.0, 'genius': 0.0, 'decides': 0.0, 'palladium': 0.0, 'unleashes': 0.0, 'appoints': 0.0, 'killing': 0.0, 'native': 0.0, 'untested': 0.0, 'plans': 0.0, 'original': 0.0, 'electrical': 0.0, 'quits': 0.0, 'identity': 0.0, 'end': 0.0, 'assistant': 0.0, 'perfect': 0.0, 'johansson': 0.0, 'hack': 0.0, 'critically': 0.0, 'powers': 0.0, 'revealing': 0.0, 'heavy': 0.0, 'future': 0.0, 'metal': 0.0, 'suitable': 0.0, 'message': 0.0, 'legacy': 0.0, 'forever': 0.0, 'superhero': 0.0, 'defense': 0.0, 'already': 0.0, 'took': 0.0, 'iron': 0.0, 'cores': 0.0, '19': 0.0, 'first': 0.0, 'son': 0.0, 'agree': 0.0, 'supplying': 0.0, 'back': 0.0, 'run': 0.0, 'james': 0.0, 'russia': 0.0, 'divert': 0.0, 'legendary': 0.0, 'soviet': 0.0, 'business': 0.0, 'arrives': 0.0, 'colonel': 0.0, 'industries': 0.0, 'process': 0.0, 'network': 0.0, 'keeps': 0.0, 'beams': 0.0, 'blood': 0.0, 'l': 0.0, 'kopeisk': 0.0, 'diorama': 0.0, 'heavily': 0.0, 'garry': 0.0, 'dependency': 0.0, 'founder': 0.0, 'everhart': 0.0, 'gives': 0.0, 'racing': 0.0, 'explain': 0.0, 'devastating': 0.0, 'unveils': 0.0, 'manager': 0.0, 'blueprints': 0.0, 'defenseless': 0.0, 'accelerating': 0.0, 'changed': 0.0, 'course': 0.0, 'avengers': 0.0, 'sonic': 0.0, 'missile': 0.0, 'reporter': 0.0, 'lazarev': 0.0, 'begin': 0.0, 'held': 0.0, 'launch': 0.0, 'scene': 0.0, 'replaces': 0.0, 'press': 0.0, 'repulsor': 0.0, 'travels': 0.0, 'miniaturized': 0.0, 'defeats': 0.0, 'maintain': 0.0, 'instead': 0.0, '1974': 0.0, 'globe': 0.0, 'array': 0.0, 'contractor': 0.0, '15': 0.0, 'demands': 0.0, 'two': 0.0, 'expo': 0.0, 'videos': 0.0, 'era': 0.0, 'employee': 0.0, 'ultimately': 0.0, 'also': 0.0, 'reactor': 0.0, 'paul': 0.0, 'tell': 0.0, 'rudimentary': 0.0, 'rescued': 0.0, 'line': 0.0, 'sex': 0.0, 'thrusters': 0.0, 'dying': 0.0, 'peace': 0.0, 'samuel': 0.0, 'contract': 0.0, 'agrees': 0.0, 'causing': 0.0, 'announces': 0.0, 'hogan': 0.0, 'components': 0.0, 'worked': 0.0, 'ai': 0.0, 'powering': 0.0, 'impending': 0.0, 'names': 0.0, 'jets': 0.0, 'planet': 0.0, 'attempts': 0.0, 'deliver': 0.0, 'favreau': 0.0, 'senator': 0.0, 'harold': 0.0, 'battery': 0.0, 'agent': 0.0, '6': 0.0, 'public': 0.0, 'engineered': 0.0, 'thereafter': 0.0, 'notices': 0.0, 'plug': 0.0, 'head': 0.0, 'powerful': 0.0, 'property': 0.0, 'design': 0.0, 'ten': 0.0, 'occupant': 0.0, 'acts': 0.0, 'angers': 0.0, 'energy': 0.0, 'death': 0.0, 'across': 0.0, 'monaco': 0.0, 'successfully': 0.0, 'discover': 0.0, 'raza': 0.0, 'fact': 0.0, 'arrest': 0.0, 'nations': 0.0, 'prompting': 0.0, 'rival': 0.0, 'inherited': 0.0, 'presents': 0.0, 'explaining': 0.0, 'electric': 0.0, 'us': 0.0, 'freedom': 0.0, 'jeff': 0.0, 'terrence': 0.0, 'unconscious': 0.0, 'ends': 0.0, 'primary': 0.0, 'family': 0.0, 'recorded': 0.0, 'ceremony': 0.0, 'targets': 0.0, 'structure': 0.0, 'stane': 0.0, 'armor': 0.0, 'ceo': 0.0, 'personally': 0.0, 'details': 0.0, 'defeating': 0.0, 'system': 0.0, 'atop': 0.0, 'returned': 0.0, '2': 0.0, 'tells': 0.0, 'saves': 0.0, 'subdues': 0.0, 'imprisoned': 0.0, 'battles': 0.0, 'man': 0.0, 'potts': 0.0, 'build': 0.0, 'defected': 0.0, 'plutonium': 0.0, 'ivan': 0.0, 'planned': 0.0, 'reluctantly': 0.0, 'begins': 0.0, 'facilities': 0.0, 'continuous': 0.0, 'mark': 0.0, 'material': 0.0, 'homeland': 0.0, 'secretly': 0.0, 'depleting': 0.0, 'world': 0.0, 'birthday': 0.0, 'trying': 0.0, 'brilliant': 0.0, 'awarding': 0.0, 'flies': 0.0, 'flushing': 0.0, 'questions': 0.0, 'poisoning': 0.0, 'died': 0.0, 'personal': 0.0, 'increasingly': 0.0, 'generator': 0.0, 'way': 0.0, 'told': 0.0, 'dubbed': 0.0, 'collaborated': 0.0, '1967': 0.0, '21': 0.0, 'enraged': 0.0, 'phil': 0.0, 'meadows': 0.0, 'escape': 0.0, 'alive': 0.0, 'military': 0.0, 'group': 0.0, 'presenter': 0.0, 'bettany': 0.0, 'discuss': 0.0, 'conviction': 0.0, 'replacement': 0.0, 'initiative': 0.0, 'rushman': 0.0, 'testify': 0.0, 'rocket': 0.0, 'including': 0.0, 'raptor': 0.0, 'later': 0.0, 'tony': 0.0, 'hand': 0.0, 'precious': 0.0, 'growing': 0.0, 'crawl': 0.0, '53': 0.0, 'ask': 0.0, 'basic': 0.0, 'division': 0.0, 'core': 0.0, 'weapons': 0.0, 'neither': 0.0, 'yevgeni': 0.0, 'recently': 0.0, 'well': 0.0, 'portable': 0.0, 'demonstrate': 0.0, 'access': 0.0, 'choosing': 0.0, 'pakistan': 0.0, 'multiple': 0.0, 'friends': 0.0, 'enforcement': 0.0, 'happy': 0.0, 'reaching': 0.0, 'current': 0.0, 'office': 0.0, 'gather': 0.0, 'visits': 0.0, 'subjugate': 0.0, 'logistics': 0.0, 'instructs': 0.0, 'hands': 0.0, 'manufactured': 0.0, 'liaison': 0.0, 'similar': 0.0, 'last': 0.0, 'events': 0.0, 'recreating': 0.0, 'hired': 0.0, 'graduated': 0.0, 'lieutenant': 0.0, 'jericho': 0.0, 'eliminated': 0.0, 'tahir': 0.0, 'duplicate': 0.0, 'strategic': 0.0, 'removing': 0.0, 'royce': 0.0, 'substitute': 0.0, 'subsequently': 0.0, 'armored': 0.0, 'though': 0.0, 'capacity': 0.0, 'refuses': 0.0, 'reverse': 0.0, 'reveals': 0.0, 'knows': 0.0, 'government': 0.0, 'combat': 0.0, 'romanoff': 0.0, 'gwyneth': 0.0, 'achievements': 0.0, 'plays': 0.0, 'anyone': 0.0, 'full': 0.0, '1963': 0.0, 'decades': 0.0, 'rest': 0.0, 'along': 0.0, 'hammer': 0.0, 'years': 0.0, 'unleashed': 0.0, 'father': 0.0, 'nick': 0.0, 'hearing': 0.0, 'talks': 0.0, 'tv': 0.0, 'blow': 0.0, 'discovery': 0.0, 'computer': 0.0, 'desire': 0.0, 'attack': 0.0, 'flame': 0.0, 'activities': 0.0, 'strak': 0.0, 'seeking': 0.0, 'director': 0.0, 'thrower': 0.0, 'cave': 0.0, 'payloads': 0.0, 'ruin': 0.0, 'exploding': 0.0, 'incorporates': 0.0, 'minutes': 0.0, 'village': 0.0, 'undercover': 0.0, 'munitions': 0.0, 'stark': 0.0, 'crash': 0.0, 'attacks': 0.0, 'board': 0.0, 'defeated': 0.0, 'engine': 0.0, 'christine': 0.0, 'jackson': 0.0, 'captive': 0.0, 'rockwell': 0.0, 'city': 0.0, 'pepper': 0.0, 'single': 0.0, 'keep': 0.0, 'pieces': 0.0, 'damaged': 0.0, 'developing': 0.0, 'reports': 0.0, 'slowly': 0.0, 'justin': 0.0, 'find': 0.0, 'inside': 0.0, 'approaches': 0.0, 'f1': 0.0, 'faran': 0.0, 'smart': 0.0, 'version': 0.0, 'union': 0.0, 'diagram': 0.0, 'apparently': 0.0, 'hulk': 0.0, 'control': 0.0, 'noting': 0.0, 'candidate': 0.0, 'extract': 0.0, 'conference': 0.0, 'agency': 0.0, 'rays': 0.0, 'hero': 0.0, 'drones': 0.0, 'ii': 0.0, 'delivered': 0.0, 'known': 0.0, 'till': 0.0, 'meticulously': 0.0, 'relatively': 0.0, 'scarlett': 0.0, 'wreckage': 0.0, 'device': 0.0, 'available': 0.0, 'toxicity': 0.0, 'condition': 0.0, 'desert': 0.0, 'coulson': 0.0, 'chauffeur': 0.0, 'next': 0.0, 'mickey': 0.0, 'activates': 0.0, 'advises': 0.0, 'overload': 0.0, 'footage': 0.0, 'fights': 0.0, 'attempt': 0.0, 'stern': 0.0, 'conflict': 0.0, 'new': 0.0, 'forge': 0.0, 'invited': 0.0, 'leslie': 0.0, 'choice': 0.0, 'good': 0.0, 'prison': 0.0, 'serve': 0.0, 'crater': 0.0, 'downey': 0.0, 'gregg': 0.0, 'uses': 0.0, 'forcing': 0.0, 'based': 0.0, '4': 0.0, 'building': 0.0, 'missiles': 0.0, 'ambushes': 0.0, 'revenge': 0.0, 'appearance': 0.0, 'hacks': 0.0, 'integrate': 0.0, 'informs': 0.0, 'builds': 0.0, 'limited': 0.0, 'could': 0.0, 'wants': 0.0, 'dons': 0.0, 'reporters': 0.0, 'vanko': 0.0, 'combatants': 0.0, 'recruits': 0.0, 'longer': 0.0, 'technology': 0.0})\n",
            "[0.0034331634020878434, 0.0, 0.0, 0.0006335392314190069, 0.0006335392314190069, 0.0, 0.0, 0.0, 0.006866326804175687, 0.0017165817010439217, 0.0017165817010439217, 0.0, 0.0034331634020878434, 0.0017165817010439217, 0.0, 0.0, 0.0006335392314190069, 0.0034331634020878434, 0.0, 0.0, 0.0006335392314190069, 0.0, 0.0017165817010439217, 0.0006335392314190069, 0.0017165817010439217, 0.0017165817010439217, 0.0017165817010439217, 0.0, 0.0, 0.0017165817010439217, 0.0, 0.0, 0.013732653608351374, 0.0, 0.0, 0.0, 0.0017165817010439217, 0.0, 0.0, 0.0017165817010439217, 0.0, 0.0017165817010439217, 0.0, 0.0, 0.0, 0.0, 0.0, 0.0, 0.0, 0.0, 0.0, 0.0, 0.0, 0.0, 0.0, 0.0017165817010439217, 0.0, 0.0, 0.0, 0.0017165817010439217, 0.0034331634020878434, 0.0012670784628380138, 0.0017165817010439217, 0.0, 0.0, 0.0, 0.0, 0.0, 0.0017165817010439217, 0.0, 0.0, 0.0017165817010439217, 0.0017165817010439217, 0.0, 0.0017165817010439217, 0.0017165817010439217, 0.0, 0.0, 0.0, 0.0, 0.0, 0.0, 0.0, 0.0, 0.0, 0.0006335392314190069, 0.0, 0.0017165817010439217, 0.0, 0.0, 0.0, 0.0, 0.0, 0.0017165817010439217, 0.0, 0.0, 0.0017165817010439217, 0.0, 0.0, 0.0, 0.0, 0.0, 0.0, 0.0, 0.0017165817010439217, 0.0017165817010439217, 0.0017165817010439217, 0.0, 0.0017165817010439217, 0.0, 0.0, 0.0, 0.0006335392314190069, 0.0, 0.0, 0.0, 0.0017165817010439217, 0.0, 0.0017165817010439217, 0.0017165817010439217, 0.0, 0.0, 0.0, 0.0, 0.0, 0.0017165817010439217, 0.0017165817010439217, 0.0, 0.0, 0.0, 0.0, 0.0017165817010439217, 0.0, 0.0006335392314190069, 0.0017165817010439217, 0.0006335392314190069, 0.0, 0.0, 0.0, 0.0017165817010439217, 0.0, 0.0, 0.0, 0.0, 0.0034331634020878434, 0.0017165817010439217, 0.0, 0.0, 0.0017165817010439217, 0.0, 0.0, 0.0017165817010439217, 0.0, 0.0, 0.0, 0.0, 0.0, 0.0, 0.0017165817010439217, 0.0, 0.0006335392314190069, 0.0, 0.0, 0.0, 0.0, 0.0, 0.0034331634020878434, 0.0017165817010439217, 0.0034331634020878434, 0.0, 0.0, 0.0006335392314190069, 0.0017165817010439217, 0.0, 0.0019006176942570204, 0.0, 0.0, 0.0, 0.0, 0.0006335392314190069, 0.0, 0.0, 0.0006335392314190069, 0.0006335392314190069, 0.0034331634020878434, 0.0, 0.0006335392314190069, 0.0, 0.0, 0.0, 0.0, 0.0, 0.0, 0.0017165817010439217, 0.0034331634020878434, 0.0017165817010439217, 0.0006335392314190069, 0.0017165817010439217, 0.0, 0.0, 0.0006335392314190069, 0.0012670784628380138, 0.0, 0.0, 0.0, 0.0, 0.0, 0.0, 0.0, 0.0, 0.0, 0.0, 0.0017165817010439217, 0.0, 0.0, 0.0017165817010439217, 0.0, 0.0017165817010439217, 0.0019006176942570204, 0.0, 0.0, 0.0017165817010439217, 0.0017165817010439217, 0.0, 0.0017165817010439217, 0.0, 0.0, 0.0006335392314190069, 0.0, 0.0, 0.0, 0.0034331634020878434, 0.0, 0.0, 0.0012670784628380138, 0.0, 0.0017165817010439217, 0.0, 0.0006335392314190069, 0.0, 0.0006335392314190069, 0.0017165817010439217, 0.0, 0.0012670784628380138, 0.0012670784628380138, 0.0, 0.0006335392314190069, 0.0, 0.0, 0.0, 0.0, 0.0034331634020878434, 0.0, 0.0, 0.0017165817010439217, 0.0006335392314190069, 0.0, 0.0, 0.0006335392314190069, 0.0017165817010439217, 0.0019006176942570204, 0.0, 0.0, 0.0017165817010439217, 0.0017165817010439217, 0.0012670784628380138, 0.0, 0.0, 0.0034331634020878434, 0.0044347746199330474, 0.0, 0.0, 0.0, 0.0, 0.0, 0.0017165817010439217, 0.0, 0.0, 0.0, 0.0, 0.0, 0.0012670784628380138, 0.0017165817010439217, 0.0017165817010439217, 0.0, 0.0, 0.0006335392314190069, 0.0, 0.0017165817010439217, 0.0, 0.0, 0.0, 0.0, 0.0, 0.0, 0.0, 0.0, 0.0006335392314190069, 0.0, 0.0, 0.0017165817010439217, 0.0017165817010439217, 0.0, 0.0017165817010439217, 0.0017165817010439217, 0.0, 0.0006335392314190069, 0.0, 0.0, 0.0, 0.0017165817010439217, 0.0, 0.0017165817010439217, 0.0, 0.0, 0.0, 0.0, 0.0006335392314190069, 0.0, 0.0, 0.0, 0.0, 0.0, 0.0, 0.0006335392314190069, 0.0006335392314190069, 0.0012670784628380138, 0.0, 0.0, 0.0, 0.0017165817010439217, 0.0, 0.0, 0.0, 0.0, 0.0, 0.0, 0.0, 0.0, 0.0, 0.0, 0.0, 0.0034331634020878434, 0.0, 0.0006335392314190069, 0.0006335392314190069, 0.0, 0.0, 0.0, 0.0017165817010439217, 0.0017165817010439217, 0.0, 0.0017165817010439217, 0.0, 0.0, 0.0017165817010439217, 0.0, 0.0017165817010439217, 0.0, 0.0, 0.0, 0.0, 0.0, 0.0006335392314190069, 0.0017165817010439217, 0.0, 0.006866326804175687, 0.0044347746199330474, 0.0017165817010439217, 0.0, 0.0, 0.0017165817010439217, 0.0, 0.0, 0.0, 0.0017165817010439217, 0.0, 0.0, 0.0, 0.0, 0.0, 0.0, 0.0034331634020878434, 0.0006335392314190069, 0.0006335392314190069, 0.0, 0.0034331634020878434, 0.0, 0.0, 0.0, 0.0006335392314190069, 0.0, 0.0017165817010439217, 0.0, 0.0, 0.0, 0.0017165817010439217, 0.0006335392314190069, 0.0006335392314190069, 0.0, 0.0, 0.0006335392314190069, 0.0017165817010439217, 0.0, 0.0, 0.0, 0.0, 0.0, 0.0, 0.0, 0.0, 0.0, 0.0, 0.0, 0.0, 0.0, 0.0, 0.0017165817010439217, 0.0017165817010439217, 0.0, 0.0017165817010439217, 0.0, 0.0, 0.0017165817010439217, 0.0006335392314190069, 0.0, 0.0006335392314190069, 0.0, 0.0, 0.0, 0.0, 0.0, 0.0, 0.0, 0.0, 0.0, 0.0006335392314190069, 0.0, 0.0034331634020878434, 0.0, 0.0, 0.0, 0.0, 0.0, 0.0, 0.0017165817010439217, 0.0, 0.0, 0.0017165817010439217, 0.0, 0.0006335392314190069, 0.0, 0.0, 0.0, 0.0, 0.0, 0.0, 0.0, 0.0017165817010439217, 0.0, 0.0, 0.0017165817010439217, 0.0, 0.0, 0.0, 0.0006335392314190069, 0.0, 0.0, 0.0, 0.0, 0.0017165817010439217, 0.0034331634020878434, 0.0, 0.0012670784628380138, 0.0017165817010439217, 0.0017165817010439217, 0.0017165817010439217, 0.0017165817010439217, 0.0, 0.0, 0.0017165817010439217, 0.0017165817010439217, 0.0017165817010439217, 0.0012670784628380138, 0.0, 0.0, 0.0006335392314190069, 0.013732653608351374, 0.0, 0.0, 0.0017165817010439217, 0.0, 0.0, 0.0, 0.0006335392314190069, 0.0, 0.0, 0.0017165817010439217, 0.0, 0.0, 0.0017165817010439217, 0.0, 0.005149745103131764, 0.0, 0.0, 0.0, 0.0, 0.0, 0.0017165817010439217, 0.0, 0.0017165817010439217, 0.0, 0.0, 0.0017165817010439217, 0.0, 0.0017165817010439217, 0.0, 0.0017165817010439217, 0.0, 0.0, 0.0, 0.0, 0.0017165817010439217, 0.0, 0.0017165817010439217, 0.0017165817010439217, 0.0017165817010439217, 0.0, 0.0, 0.0, 0.0, 0.0, 0.0, 0.0017165817010439217, 0.0, 0.0, 0.0, 0.029181888917746666, 0.0, 0.0, 0.0, 0.0, 0.0006335392314190069, 0.0, 0.0012670784628380138, 0.0, 0.0017165817010439217, 0.0017165817010439217, 0.0, 0.0, 0.0019006176942570204, 0.0, 0.0017165817010439217, 0.0, 0.0, 0.0017165817010439217, 0.0, 0.0006335392314190069, 0.0, 0.0, 0.0034331634020878434, 0.0, 0.0, 0.0, 0.0, 0.0, 0.0, 0.0006335392314190069, 0.0017165817010439217, 0.0, 0.0, 0.0, 0.0, 0.0006335392314190069, 0.0, 0.0034331634020878434, 0.0, 0.0017165817010439217, 0.0, 0.0, 0.0, 0.0006335392314190069, 0.0, 0.0006335392314190069, 0.0017165817010439217, 0.0, 0.0, 0.0, 0.0, 0.0034331634020878434, 0.0, 0.0017165817010439217, 0.0, 0.0, 0.0006335392314190069, 0.0019006176942570204, 0.0, 0.0017165817010439217, 0.0, 0.0006335392314190069, 0.0, 0.0, 0.0017165817010439217, 0.0, 0.0, 0.0017165817010439217, 0.0034331634020878434, 0.0017165817010439217, 0.0, 0.0006335392314190069, 0.0, 0.0, 0.0, 0.0, 0.006866326804175687, 0.0, 0.0, 0.0, 0.0, 0.0017165817010439217, 0.0, 0.0006335392314190069, 0.0006335392314190069, 0.0, 0.0, 0.0006335392314190069, 0.0, 0.0, 0.0017165817010439217, 0.0006335392314190069, 0.0, 0.0006335392314190069, 0.0017165817010439217, 0.0, 0.0, 0.0, 0.0, 0.0, 0.0017165817010439217, 0.0006335392314190069, 0.0, 0.0, 0.0, 0.0, 0.0, 0.0, 0.0, 0.0, 0.0017165817010439217, 0.0, 0.0017165817010439217, 0.0, 0.0, 0.0, 0.0006335392314190069, 0.0017165817010439217, 0.0034331634020878434, 0.0, 0.0, 0.0, 0.0, 0.0, 0.0017165817010439217, 0.0, 0.0006335392314190069, 0.0, 0.0, 0.0, 0.0, 0.0, 0.0, 0.0017165817010439217, 0.0006335392314190069, 0.0, 0.0, 0.0006335392314190069, 0.0, 0.0, 0.0017165817010439217, 0.0017165817010439217, 0.0034331634020878434, 0.0, 0.0, 0.0, 0.0, 0.0017165817010439217, 0.0, 0.0017165817010439217, 0.0017165817010439217, 0.0, 0.0017165817010439217, 0.0017165817010439217, 0.0034331634020878434, 0.0017165817010439217, 0.0017165817010439217, 0.0034331634020878434, 0.0, 0.0, 0.0006335392314190069, 0.0, 0.0, 0.0, 0.0, 0.0, 0.0, 0.0, 0.0006335392314190069, 0.0006335392314190069, 0.0017165817010439217, 0.0, 0.0, 0.0, 0.0, 0.0, 0.0017165817010439217, 0.0017165817010439217, 0.0, 0.0006335392314190069, 0.006866326804175687, 0.0017165817010439217, 0.0, 0.0017165817010439217, 0.0, 0.0, 0.0006335392314190069, 0.0, 0.0017165817010439217, 0.0034331634020878434, 0.0, 0.0, 0.0, 0.0, 0.0017165817010439217, 0.0012670784628380138, 0.0, 0.0006335392314190069, 0.0017165817010439217, 0.0, 0.0017165817010439217, 0.0, 0.0, 0.0, 0.0017165817010439217, 0.0, 0.0, 0.0, 0.0, 0.0006335392314190069, 0.0, 0.0, 0.0, 0.0, 0.0, 0.0, 0.0006335392314190069, 0.0, 0.0, 0.0017165817010439217, 0.0, 0.0, 0.0, 0.0017165817010439217, 0.0, 0.0, 0.0, 0.0, 0.0, 0.0006335392314190069, 0.0, 0.0017165817010439217, 0.0, 0.0012670784628380138, 0.0019006176942570204, 0.0006335392314190069, 0.0, 0.0, 0.0, 0.0, 0.0, 0.0, 0.0017165817010439217, 0.0, 0.0006335392314190069, 0.0, 0.0, 0.0, 0.0006335392314190069, 0.0, 0.0017165817010439217, 0.0, 0.0, 0.0, 0.0017165817010439217, 0.0, 0.0006335392314190069, 0.0, 0.0, 0.0006335392314190069, 0.0017165817010439217, 0.0025341569256760277, 0.0034331634020878434, 0.0, 0.0017165817010439217, 0.0017165817010439217, 0.0, 0.0017165817010439217, 0.0, 0.0, 0.0006335392314190069, 0.0, 0.0017165817010439217, 0.0, 0.0, 0.0034331634020878434, 0.0, 0.0, 0.0, 0.0017165817010439217, 0.0, 0.0, 0.0, 0.0, 0.0, 0.0, 0.0, 0.0, 0.0017165817010439217, 0.0, 0.0017165817010439217, 0.0, 0.0017165817010439217, 0.0, 0.005149745103131764, 0.0, 0.0006335392314190069, 0.0017165817010439217, 0.0, 0.0, 0.0, 0.0, 0.0017165817010439217, 0.0034331634020878434, 0.0, 0.0, 0.0006335392314190069, 0.0, 0.0, 0.0, 0.0, 0.0, 0.0, 0.0012670784628380138, 0.0, 0.0, 0.0, 0.0057018530827710615, 0.0, 0.0, 0.0, 0.0, 0.0017165817010439217, 0.0017165817010439217, 0.0, 0.0, 0.0006335392314190069, 0.0012670784628380138, 0.0, 0.0, 0.0, 0.0, 0.0, 0.0, 0.0, 0.0, 0.0, 0.0, 0.0, 0.0, 0.0, 0.0017165817010439217, 0.0, 0.0, 0.0, 0.0017165817010439217, 0.0017165817010439217, 0.0017165817010439217, 0.0, 0.0, 0.0, 0.0, 0.0017165817010439217, 0.0, 0.0, 0.0, 0.0, 0.0, 0.0034331634020878434, 0.0, 0.0, 0.0017165817010439217, 0.0017165817010439217, 0.0017165817010439217, 0.0, 0.0017165817010439217, 0.0, 0.0017165817010439217, 0.0017165817010439217, 0.0, 0.0, 0.0, 0.0, 0.0, 0.0006335392314190069, 0.0, 0.0, 0.0012670784628380138, 0.0006335392314190069, 0.0017165817010439217, 0.0, 0.0, 0.0017165817010439217, 0.0, 0.0, 0.0017165817010439217, 0.0, 0.0, 0.0, 0.0017165817010439217, 0.0, 0.0012670784628380138, 0.0, 0.0017165817010439217, 0.0, 0.0017165817010439217, 0.0, 0.0, 0.0, 0.0, 0.0017165817010439217, 0.0, 0.0, 0.0, 0.0017165817010439217, 0.0, 0.0, 0.0, 0.0, 0.0006335392314190069, 0.0, 0.0006335392314190069, 0.0, 0.0, 0.0, 0.0, 0.0017165817010439217, 0.0012670784628380138, 0.0, 0.0017165817010439217, 0.0006335392314190069, 0.0017165817010439217, 0.0, 0.0017165817010439217, 0.0, 0.0, 0.0, 0.0006335392314190069, 0.0017165817010439217, 0.0, 0.0017165817010439217, 0.0, 0.0, 0.0, 0.0017165817010439217, 0.0012670784628380138, 0.0006335392314190069, 0.0017165817010439217, 0.0, 0.0, 0.0, 0.0, 0.0, 0.0006335392314190069, 0.0]\n"
          ]
        }
      ],
      "source": [
        "from collections import Counter\n",
        "from math import log\n",
        "\n",
        "# Create a function to calculate the Term Frequency for each word in a given corpus\n",
        "def term_freq(document: str, corpus: list[str]) -> Counter[str, float]:\n",
        "\n",
        "  lexicon =build_lexicon(corpus)\n",
        "  tokens =tokenize(document)\n",
        "\n",
        "  unit_freq =Counter(tokens)#just the normal counts of the tokens\n",
        "\n",
        "  counts =[i/len(tokens) for i in list(unit_freq.values())]#applying the formula\n",
        "\n",
        "  return Counter(dict(zip(unit_freq.keys(),counts)))#Returning the tokens and their new counts\n",
        "\n",
        "\n",
        "\n",
        "# Create a function to find Inverse Document Frequency for each word in the corpus\n",
        "def inv_doc_freq(corpus: list[str]) -> Counter[str, float]:\n",
        "\n",
        "  lexicon =build_lexicon(corpus)\n",
        "  n =len(corpus)\n",
        "\n",
        "  all_tokenses =[]\n",
        "  for doc in corpus:\n",
        "    tokens=set(tokenize(doc))#removes the duplicate of document since we want the occurence of the word in all docs not single doc\n",
        "    tokens=list(tokens)\n",
        "    all_tokenses+=tokens\n",
        "    #does not create 2D list rather adds the new list(since tokenize returns a list) as an element in our all_tokens list\n",
        "\n",
        "  dfs=Counter(all_tokenses)\n",
        "\n",
        "  idfs =[log(n/count) for count in dfs.values()]\n",
        "\n",
        "  return Counter(dict(zip(dfs.keys(),idfs)))\n",
        "\n",
        "\n",
        "# Now create a function that returns a dictionary output of the TF and IDF of each word in the document given\n",
        "# We will use this function for getting insights\n",
        "def tf_idf_dict(document: str, corpus: list[str]) -> Counter[str, float]:\n",
        "  tfs =term_freq(document,corpus)\n",
        "  idfs =inv_doc_freq(corpus)\n",
        "  lexicon =build_lexicon(corpus)\n",
        "\n",
        "  new=[tfs[word]*idfs[word] for word in lexicon]\n",
        "\n",
        "  return Counter(dict(zip(lexicon,new)))\n",
        "\n",
        "# Create a function that for every word in a document, returns a vector tf_idf_vec which contains the output of the TF and IDF of that word\n",
        "# This output format is the one we use.\n",
        "# P.S. You can use the outputs from tf_idf, and you have your index_dict already.\n",
        "def tf_idf_vec(document: str, corpus: list[str], index_dict: dict):\n",
        " lexicon=build_lexicon(corpus)\n",
        " vec=[]\n",
        " dic=tf_idf_dict(document,corpus)\n",
        " for word in lexicon:\n",
        "\n",
        "   vec.append(dic[word])\n",
        "\n",
        " return vec\n",
        "\n",
        "\n",
        "# Finally, for each movie in the collection, pass it through the tf_idf_dict and tf_idf_vec functions\n",
        "tf_idf_dictionary = []\n",
        "vectors = []\n",
        "for doc in movies:\n",
        "  tf_idf_dictionary=tf_idf_dict(doc,movies)\n",
        "  vectors.append(tf_idf_vec(doc,movies,index_dict))\n",
        "\n",
        "#This is what it should look like if all your hard work pays off making a tf-idf vectoriser from scratch:\n",
        "print(tf_idf_dictionary)\n",
        "print((vectors[0]))\n"
      ]
    },
    {
      "cell_type": "code",
      "execution_count": null,
      "metadata": {
        "colab": {
          "base_uri": "https://localhost:8080/"
        },
        "id": "hDcLX5RYZyXo",
        "outputId": "579fd334-456a-408e-bc56-e94ec2ce958e"
      },
      "outputs": [
        {
          "output_type": "stream",
          "name": "stdout",
          "text": [
            "[('stane', 0.029181888917746666), ('rings', 0.013732653608351374), ('ten', 0.013732653608351374), ('terrorists', 0.006866326804175687), ('missile', 0.006866326804175687), ('group', 0.006866326804175687), ('jericho', 0.006866326804175687), ('yinsen', 0.0057018530827710615), ('raza', 0.005149745103131764), ('christine', 0.005149745103131764)]\n",
            "[('vanko', 0.03443925669805986), ('hammer', 0.015497665514126941), ('anton', 0.010331777009417962), ('ivan', 0.010331777009417962), ('drones', 0.010331777009417962), ('expo', 0.008609814174514965), ('stern', 0.0068878513396119735), ('ceo', 0.005165888504708981), ('mark', 0.005165888504708981), ('romanoff', 0.005165888504708981)]\n",
            "[('killian', 0.03689995473389071), ('extremis', 0.02348178937611227), ('mandarin', 0.021804518706389966), ('eric', 0.011740894688056135), ('president', 0.008386353348611524), ('hansen', 0.008386353348611524), ('finds', 0.00670908267888922), ('veteran', 0.00670908267888922), ('ellis', 0.005031812009166916), ('treatment', 0.005031812009166916)]\n"
          ]
        }
      ],
      "source": [
        "# Now, we see WHY we did this.\n",
        "# We will ask for the 10 most\n",
        "#important words found in each iron man movie\n",
        "\n",
        "#most_common returns the elements sorted by their frequency\n",
        "\n",
        "print(tf_idf_dict(movies[0],movies).most_common(10))\n",
        "print(tf_idf_dict(movies[1], movies).most_common(10))\n",
        "print(tf_idf_dict(movies[2], movies).most_common(10))\n",
        "\n",
        "\n",
        "\n"
      ]
    },
    {
      "cell_type": "code",
      "execution_count": null,
      "metadata": {
        "colab": {
          "base_uri": "https://localhost:8080/"
        },
        "id": "Eo4srkqRaWFM",
        "outputId": "ec348980-2439-4918-bb28-09fecf65a44c"
      },
      "outputs": [
        {
          "output_type": "stream",
          "name": "stdout",
          "text": [
            "1.0986122886681098\n",
            "0.0\n"
          ]
        }
      ],
      "source": [
        "# Try these out. What do you understand from the output you got\n",
        "print(inv_doc_freq(movies)[\"bruce\"])\n",
        "print(inv_doc_freq(movies)[\"stark\"])\n",
        "\n",
        "#this indicates that the word bruce was only in the iron man 3 list . Since bruce banner was introduced in iron man 3 only and stark is ofcourse in all the iron man lists.\n",
        "#inshort bruce is rare and stark is common\n",
        "\n",
        "\n",
        "\n",
        "# Feel free to try out words of your choice here! TF-IDF WOOHOO\n"
      ]
    },
    {
      "cell_type": "code",
      "execution_count": null,
      "metadata": {
        "id": "x9fHV5LOaytN"
      },
      "outputs": [],
      "source": [
        "# Now to play around with this:\n",
        "def euclidean_distance(a_tf_idf_counter, b_tf_idf_counter) -> float:\n",
        "    a_vec_sorted_keys = sorted(a_tf_idf_counter)\n",
        "    b_vec_sorted_keys = sorted(b_tf_idf_counter)\n",
        "\n",
        "    a_vec = [a_tf_idf_counter[key] for key in a_vec_sorted_keys]\n",
        "    b_vec = [b_tf_idf_counter[key] for key in b_vec_sorted_keys]\n",
        "\n",
        "    dist = 0\n",
        "    for a_i, b_i in zip(a_vec, b_vec):\n",
        "        dist += (b_i - a_i) ** 2\n",
        "    return dist ** 0.5\n",
        "\n",
        "# a (dot) b = abs(a) * abs(b) * cos(theta)\n",
        "# cosine similarity is defined as a (dot) b / abs(a) * abs(b)\n",
        "def cosine_similarity(a_tf_idf_counter, b_tf_idf_counter) -> float:\n",
        "    a_vec_sorted_keys = sorted(a_tf_idf_counter)\n",
        "    b_vec_sorted_keys = sorted(b_tf_idf_counter)\n",
        "\n",
        "    a_vec = [a_tf_idf_counter[key] for key in a_vec_sorted_keys]\n",
        "    b_vec = [b_tf_idf_counter[key] for key in b_vec_sorted_keys]\n",
        "\n",
        "    dot_product = 0\n",
        "    abs_a = 0\n",
        "    abs_b = 0\n",
        "\n",
        "    for a_i, b_i in zip(a_vec, b_vec):\n",
        "        dot_product += a_i * b_i\n",
        "\n",
        "        abs_a += a_i * a_i\n",
        "        abs_b += b_i * b_i\n",
        "\n",
        "    return dot_product / (abs_a ** 0.5 * abs_b ** 0.5)"
      ]
    },
    {
      "cell_type": "markdown",
      "metadata": {
        "id": "BTdcjP9rbX51"
      },
      "source": [
        "**What do Euclidean distance and Cosine Similarity tell us?**\n",
        "\n",
        "Ans:\n",
        "The Euclidean distance (distance formula) shows how similar two documents are. If the distance is closer to 0 then the documents are similar.\n",
        "\n",
        "Cosine similarity (cosine of the angle between the vectors) also show how similar two docs are but if the value is closer to 1 then the docs are similar and if closer to 0 then not similar.\n",
        "\n",
        "Mostly for text data, cosine similarity is used since the dimensions of the vectors are high in text data."
      ]
    },
    {
      "cell_type": "code",
      "execution_count": null,
      "metadata": {
        "colab": {
          "base_uri": "https://localhost:8080/"
        },
        "id": "U3rOT1FzbFbu",
        "outputId": "5187c4f7-08eb-4349-f5ce-bfbc4735b575"
      },
      "outputs": [
        {
          "output_type": "stream",
          "name": "stdout",
          "text": [
            "Euclidean Distances:  0.0\n",
            "Cosine Similarities:  1.0\n",
            "\n",
            "\n",
            "Euclidean Distances:  0.08166717840451113\n",
            "Cosine Similarities:  0.010314719179847413\n",
            "\n",
            "\n",
            "Euclidean Distances:  0.08466614699074161\n",
            "Cosine Similarities:  0.004648969897250797\n",
            "\n",
            "\n",
            "Euclidean Distances:  0.0738681035384466\n",
            "Cosine Similarities:  0.02272386594174712\n"
          ]
        }
      ],
      "source": [
        "# Use these functions to get euclidean distances and cosine similarities betweeen iron man movies\n",
        "# Give insights on your output\n",
        "v1=tf_idf_dict(movies[2],movies)\n",
        "v2=tf_idf_dict(movies[1],movies)\n",
        "v3=tf_idf_dict(movies[0],movies)\n",
        "\n",
        "#maximum value of ed and cs are 0 and 1.\n",
        "print(\"Euclidean Distances: \",euclidean_distance(v1,v1))\n",
        "print(\"Cosine Similarities: \",cosine_similarity(v2,v2))\n",
        "print(\"\\n\")\n",
        "\n",
        "print(\"Euclidean Distances: \",euclidean_distance(v1,v3))\n",
        "print(\"Cosine Similarities: \",cosine_similarity(v1,v3))\n",
        "print(\"\\n\")\n",
        "\n",
        "print(\"Euclidean Distances: \",euclidean_distance(v1,v2))\n",
        "print(\"Cosine Similarities: \",cosine_similarity(v1,v2))\n",
        "print(\"\\n\")\n",
        "\n",
        "print(\"Euclidean Distances: \",euclidean_distance(v3,v2))\n",
        "print(\"Cosine Similarities: \",cosine_similarity(v3,v2))\n"
      ]
    },
    {
      "cell_type": "markdown",
      "metadata": {
        "id": "ULgGHHSk5ihy"
      },
      "source": [
        "**How does the TF-IDF Vectorizer work?** <br>\n",
        "Ans:\n",
        "It first calculates TF the termfrequency and inverse document frequency of the words. Where term frequency is related to its occurence in a given document and idf is related to its frequency in all the documents.Then the product of tf and idf are assigned to each word this creates a vector of the values.\n",
        "\n",
        "The vector includes only the words which are selected by the max_features parameter."
      ]
    },
    {
      "cell_type": "markdown",
      "metadata": {
        "id": "A9nCFAGIpuS_"
      },
      "source": [
        "Just for good measure, import TfidfVectorizer and fit the corpus data and view the vectors it has created"
      ]
    },
    {
      "cell_type": "code",
      "execution_count": null,
      "metadata": {
        "colab": {
          "base_uri": "https://localhost:8080/"
        },
        "id": "WUa3ngssfAkv",
        "outputId": "c12efc77-8e71-47b4-9e00-a8ce26b3262d"
      },
      "outputs": [
        {
          "output_type": "execute_result",
          "data": {
            "text/plain": [
              "array([0.        , 0.01041448, 0.01369379, 0.        , 0.        ,\n",
              "       0.        , 0.        , 0.        , 0.01369379, 0.01369379,\n",
              "       0.        , 0.        , 0.        , 0.        , 0.        ,\n",
              "       0.        , 0.00808777, 0.        , 0.01041448, 0.01369379,\n",
              "       0.        , 0.01369379, 0.        , 0.        , 0.01369379,\n",
              "       0.        , 0.        , 0.        , 0.        , 0.01369379,\n",
              "       0.02738758, 0.01617555, 0.        , 0.        , 0.02738758,\n",
              "       0.        , 0.01369379, 0.02082896, 0.01041448, 0.01369379,\n",
              "       0.        , 0.01369379, 0.        , 0.        , 0.        ,\n",
              "       0.        , 0.        , 0.        , 0.        , 0.        ,\n",
              "       0.        , 0.        , 0.        , 0.01617555, 0.        ,\n",
              "       0.01369379, 0.01369379, 0.        , 0.05661441, 0.32351094,\n",
              "       0.        , 0.02738758, 0.        , 0.        , 0.01041448,\n",
              "       0.        , 0.        , 0.        , 0.        , 0.01369379,\n",
              "       0.        , 0.        , 0.        , 0.06470219, 0.02426332,\n",
              "       0.01369379, 0.02426332, 0.02082896, 0.        , 0.01369379,\n",
              "       0.01369379, 0.        , 0.        , 0.        , 0.        ,\n",
              "       0.02426332, 0.01369379, 0.        , 0.        , 0.03124344,\n",
              "       0.        , 0.08087773, 0.01369379, 0.02426332, 0.00808777,\n",
              "       0.02082896, 0.        , 0.01369379, 0.01041448, 0.        ,\n",
              "       0.01041448, 0.01369379, 0.        , 0.        , 0.        ,\n",
              "       0.01369379, 0.        , 0.01369379, 0.02738758, 0.        ,\n",
              "       0.01041448, 0.00808777, 0.        , 0.        , 0.        ,\n",
              "       0.00808777, 0.        , 0.01369379, 0.01041448, 0.01041448,\n",
              "       0.03124344, 0.        , 0.        , 0.00808777, 0.        ,\n",
              "       0.01369379, 0.        , 0.        , 0.        , 0.        ,\n",
              "       0.        , 0.01369379, 0.        , 0.        , 0.01369379,\n",
              "       0.        , 0.01041448, 0.        , 0.        , 0.        ,\n",
              "       0.        , 0.        , 0.        , 0.        , 0.        ,\n",
              "       0.        , 0.01369379, 0.        , 0.01369379, 0.        ,\n",
              "       0.        , 0.02738758, 0.02082896, 0.01369379, 0.04165792,\n",
              "       0.02738758, 0.        , 0.01369379, 0.        , 0.04043887,\n",
              "       0.05661441, 0.        , 0.01369379, 0.01617555, 0.        ,\n",
              "       0.01041448, 0.01369379, 0.        , 0.01369379, 0.        ,\n",
              "       0.        , 0.02082896, 0.        , 0.        , 0.        ,\n",
              "       0.        , 0.01041448, 0.02738758, 0.        , 0.        ,\n",
              "       0.        , 0.        , 0.        , 0.01369379, 0.01041448,\n",
              "       0.        , 0.01041448, 0.        , 0.        , 0.        ,\n",
              "       0.04108137, 0.01041448, 0.        , 0.        , 0.        ,\n",
              "       0.01041448, 0.01369379, 0.        , 0.        , 0.        ,\n",
              "       0.        , 0.01041448, 0.        , 0.01041448, 0.        ,\n",
              "       0.        , 0.07290137, 0.        , 0.01369379, 0.01041448,\n",
              "       0.        , 0.01369379, 0.01369379, 0.        , 0.        ,\n",
              "       0.01041448, 0.        , 0.        , 0.        , 0.        ,\n",
              "       0.01041448, 0.        , 0.        , 0.        , 0.        ,\n",
              "       0.        , 0.        , 0.        , 0.02082896, 0.01369379,\n",
              "       0.        , 0.02082896, 0.01369379, 0.        , 0.01369379,\n",
              "       0.        , 0.        , 0.00808777, 0.        , 0.        ,\n",
              "       0.01369379, 0.        , 0.        , 0.        , 0.        ,\n",
              "       0.        , 0.        , 0.01041448, 0.        , 0.        ,\n",
              "       0.00808777, 0.        , 0.        , 0.        , 0.        ,\n",
              "       0.01041448, 0.        , 0.        , 0.        , 0.        ,\n",
              "       0.01041448, 0.01369379, 0.        , 0.01041448, 0.02738758,\n",
              "       0.01041448, 0.        , 0.01369379, 0.        , 0.        ,\n",
              "       0.        , 0.        , 0.01041448, 0.01041448, 0.        ,\n",
              "       0.        , 0.        , 0.        , 0.01041448, 0.        ,\n",
              "       0.        , 0.01041448, 0.01369379, 0.        , 0.        ,\n",
              "       0.01369379, 0.        , 0.        , 0.01369379, 0.01041448,\n",
              "       0.        , 0.        , 0.01041448, 0.        , 0.        ,\n",
              "       0.01369379, 0.        , 0.01041448, 0.        , 0.01369379,\n",
              "       0.        , 0.01369379, 0.02738758, 0.        , 0.        ,\n",
              "       0.        , 0.01369379, 0.        , 0.02082896, 0.        ,\n",
              "       0.01041448, 0.        , 0.        , 0.        , 0.        ,\n",
              "       0.        , 0.        , 0.01369379, 0.        , 0.01369379,\n",
              "       0.        , 0.01041448, 0.        , 0.        , 0.        ,\n",
              "       0.02738758, 0.        , 0.        , 0.        , 0.01041448,\n",
              "       0.02738758, 0.02738758, 0.01041448, 0.        , 0.01041448,\n",
              "       0.        , 0.02738758, 0.01041448, 0.01041448, 0.        ,\n",
              "       0.00808777, 0.        , 0.        , 0.        , 0.        ,\n",
              "       0.        , 0.        , 0.        , 0.01041448, 0.        ,\n",
              "       0.        , 0.03124344, 0.00808777, 0.02082896, 0.        ,\n",
              "       0.        , 0.02426332, 0.        , 0.02738758, 0.01041448,\n",
              "       0.        , 0.03235109, 0.        , 0.        , 0.        ,\n",
              "       0.01041448, 0.06470219, 0.01041448, 0.        , 0.        ,\n",
              "       0.01041448, 0.01041448, 0.        , 0.01041448, 0.05477516,\n",
              "       0.00808777, 0.00808777, 0.        , 0.        , 0.00808777,\n",
              "       0.        , 0.08896551, 0.01617555, 0.07278996, 0.01041448,\n",
              "       0.        , 0.02738758, 0.        , 0.        , 0.        ,\n",
              "       0.05661441, 0.01617555, 0.2426332 , 0.00808777, 0.07290137,\n",
              "       0.02738758, 0.03124344, 0.        , 0.        , 0.        ,\n",
              "       0.        , 0.        , 0.01041448, 0.        , 0.        ,\n",
              "       0.        , 0.        , 0.        , 0.        , 0.01369379,\n",
              "       0.01369379, 0.        , 0.10514105, 0.        , 0.01041448,\n",
              "       0.        , 0.01369379, 0.        , 0.04043887, 0.        ,\n",
              "       0.01369379, 0.01041448, 0.        , 0.        , 0.01369379,\n",
              "       0.01041448, 0.        , 0.        , 0.00808777, 0.        ,\n",
              "       0.01041448, 0.        , 0.01369379, 0.        , 0.        ,\n",
              "       0.        , 0.        , 0.        , 0.        , 0.        ,\n",
              "       0.        , 0.02738758, 0.02426332, 0.        , 0.        ,\n",
              "       0.        , 0.        , 0.        , 0.        , 0.02426332,\n",
              "       0.11322883, 0.        , 0.03235109, 0.        , 0.01041448,\n",
              "       0.00808777, 0.        , 0.01369379, 0.05477516, 0.01369379,\n",
              "       0.        , 0.00808777, 0.01369379, 0.00808777, 0.        ,\n",
              "       0.        , 0.02738758, 0.01041448, 0.        , 0.01041448,\n",
              "       0.        , 0.02082896, 0.        , 0.        , 0.        ,\n",
              "       0.        , 0.01369379, 0.        , 0.        , 0.        ,\n",
              "       0.        , 0.01369379, 0.        , 0.        , 0.        ,\n",
              "       0.03124344, 0.        , 0.00808777, 0.        , 0.01369379,\n",
              "       0.        , 0.01041448, 0.        , 0.01041448, 0.        ,\n",
              "       0.01041448, 0.02082896, 0.01369379, 0.01369379, 0.        ,\n",
              "       0.01041448, 0.01041448, 0.        , 0.01369379, 0.        ,\n",
              "       0.        , 0.        , 0.        , 0.        , 0.        ,\n",
              "       0.        , 0.02738758, 0.01041448, 0.01369379, 0.        ,\n",
              "       0.        , 0.        , 0.02426332, 0.01369379, 0.01041448,\n",
              "       0.        , 0.        , 0.01369379, 0.02738758, 0.        ,\n",
              "       0.        , 0.        , 0.01369379, 0.        , 0.01369379,\n",
              "       0.        , 0.01369379, 0.        , 0.        , 0.01041448,\n",
              "       0.        , 0.        , 0.        , 0.01369379, 0.01369379,\n",
              "       0.        , 0.01369379, 0.01369379, 0.        , 0.        ,\n",
              "       0.        , 0.        , 0.00808777, 0.02738758, 0.01369379,\n",
              "       0.05477516, 0.01369379, 0.01369379, 0.        , 0.        ,\n",
              "       0.02082896, 0.        , 0.01369379, 0.01369379, 0.        ,\n",
              "       0.        , 0.        , 0.        , 0.        , 0.        ,\n",
              "       0.01041448, 0.        , 0.        , 0.        , 0.04852664,\n",
              "       0.        , 0.01369379, 0.01041448, 0.01041448, 0.00808777,\n",
              "       0.        , 0.02082896, 0.01369379, 0.01369379, 0.        ,\n",
              "       0.02738758, 0.        , 0.        , 0.01369379, 0.12940437,\n",
              "       0.        , 0.01041448, 0.01369379, 0.        , 0.01617555,\n",
              "       0.00808777, 0.        , 0.        , 0.02738758, 0.        ,\n",
              "       0.02738758, 0.02082896, 0.01041448, 0.04165792, 0.        ,\n",
              "       0.01369379, 0.00808777, 0.        , 0.01041448, 0.00808777,\n",
              "       0.        , 0.01369379, 0.01041448, 0.        , 0.        ,\n",
              "       0.        , 0.        , 0.00808777, 0.01369379, 0.        ,\n",
              "       0.        , 0.02426332, 0.        , 0.03124344, 0.        ,\n",
              "       0.01369379, 0.01369379, 0.        , 0.01041448, 0.        ,\n",
              "       0.        , 0.01369379, 0.        , 0.01369379, 0.        ,\n",
              "       0.        , 0.        , 0.        , 0.01369379, 0.        ,\n",
              "       0.        , 0.01369379, 0.        , 0.        , 0.01369379,\n",
              "       0.        , 0.00808777, 0.04852664, 0.        , 0.02082896,\n",
              "       0.02738758, 0.02082896, 0.01041448, 0.00808777, 0.01369379,\n",
              "       0.        , 0.        , 0.        , 0.01369379, 0.        ,\n",
              "       0.02738758, 0.        , 0.        , 0.        , 0.        ,\n",
              "       0.        , 0.        , 0.01369379, 0.        , 0.01369379,\n",
              "       0.        , 0.01041448, 0.01369379, 0.        , 0.        ,\n",
              "       0.01369379, 0.        , 0.        , 0.        , 0.        ,\n",
              "       0.        , 0.01369379, 0.        , 0.        , 0.04108137,\n",
              "       0.        , 0.        , 0.01369379, 0.10514105, 0.        ,\n",
              "       0.        , 0.        , 0.        , 0.01369379, 0.        ,\n",
              "       0.        , 0.        , 0.        , 0.        , 0.        ,\n",
              "       0.        , 0.        , 0.        , 0.        , 0.01369379,\n",
              "       0.        , 0.        , 0.        , 0.        , 0.        ,\n",
              "       0.        , 0.01369379, 0.        , 0.01369379, 0.        ,\n",
              "       0.        , 0.01369379, 0.01369379, 0.        , 0.01041448,\n",
              "       0.01369379, 0.01369379, 0.        , 0.        , 0.        ,\n",
              "       0.        , 0.01369379, 0.        , 0.01041448, 0.01369379,\n",
              "       0.01041448, 0.        , 0.        , 0.01617555, 0.        ,\n",
              "       0.01369379, 0.        , 0.03235109, 0.        , 0.10955033,\n",
              "       0.        , 0.00808777, 0.01369379, 0.        , 0.        ,\n",
              "       0.        , 0.        , 0.        , 0.        , 0.        ,\n",
              "       0.01369379, 0.01369379, 0.01369379, 0.        , 0.        ,\n",
              "       0.        , 0.01369379, 0.        , 0.        , 0.        ,\n",
              "       0.01041448, 0.        , 0.00808777, 0.        , 0.01041448,\n",
              "       0.        , 0.00808777, 0.        , 0.01369379, 0.        ,\n",
              "       0.01369379, 0.01369379, 0.        , 0.        , 0.        ,\n",
              "       0.01041448, 0.        , 0.        , 0.        , 0.        ,\n",
              "       0.01369379, 0.        , 0.        , 0.01041448, 0.        ,\n",
              "       0.        , 0.01041448, 0.01369379, 0.        , 0.01041448,\n",
              "       0.00808777, 0.01041448, 0.        , 0.01369379, 0.        ,\n",
              "       0.01041448, 0.        , 0.        , 0.        , 0.        ,\n",
              "       0.01369379, 0.        , 0.        , 0.        , 0.        ,\n",
              "       0.        , 0.01369379, 0.01369379, 0.00808777, 0.        ,\n",
              "       0.        , 0.        , 0.01369379, 0.01041448, 0.        ,\n",
              "       0.        , 0.        , 0.        , 0.23279444, 0.29924762,\n",
              "       0.        , 0.        , 0.        , 0.        , 0.        ,\n",
              "       0.        , 0.        , 0.02082896, 0.        , 0.02738758,\n",
              "       0.        , 0.        , 0.        , 0.01369379, 0.        ,\n",
              "       0.        , 0.01369379, 0.01369379, 0.        , 0.        ,\n",
              "       0.        , 0.07278996, 0.        , 0.        , 0.        ,\n",
              "       0.        , 0.01369379, 0.        , 0.01369379, 0.        ,\n",
              "       0.01369379, 0.        , 0.        , 0.        , 0.        ,\n",
              "       0.01041448, 0.        , 0.02082896, 0.        , 0.        ,\n",
              "       0.        , 0.01369379, 0.02738758, 0.        , 0.        ,\n",
              "       0.        , 0.01369379, 0.        , 0.00808777, 0.        ,\n",
              "       0.        , 0.        , 0.00808777, 0.10955033, 0.        ,\n",
              "       0.01369379, 0.01369379, 0.02082896, 0.05477516, 0.        ,\n",
              "       0.        , 0.10514105, 0.53379304, 0.        , 0.03124344,\n",
              "       0.03124344, 0.00808777, 0.01369379, 0.01617555, 0.        ,\n",
              "       0.01617555, 0.01369379, 0.        , 0.01369379, 0.01369379,\n",
              "       0.01369379, 0.        , 0.33968648, 0.        , 0.11322883,\n",
              "       0.        , 0.01369379, 0.01369379, 0.01041448, 0.        ,\n",
              "       0.        , 0.        , 0.        , 0.        , 0.        ,\n",
              "       0.        , 0.        , 0.        , 0.        , 0.        ,\n",
              "       0.01041448, 0.        , 0.        , 0.        , 0.01369379,\n",
              "       0.        , 0.        , 0.01369379, 0.        , 0.        ,\n",
              "       0.        , 0.        , 0.        , 0.01369379, 0.01369379,\n",
              "       0.        , 0.        , 0.01041448, 0.        , 0.        ,\n",
              "       0.02082896, 0.01617555, 0.        , 0.00808777, 0.        ,\n",
              "       0.01369379, 0.02082896, 0.02082896, 0.        , 0.        ,\n",
              "       0.        , 0.        , 0.        , 0.02738758, 0.01369379,\n",
              "       0.01369379, 0.        , 0.        , 0.        , 0.01369379,\n",
              "       0.01041448, 0.        , 0.01617555, 0.01041448, 0.06470219,\n",
              "       0.01041448, 0.01041448, 0.01041448, 0.01617555, 0.01617555,\n",
              "       0.        , 0.01617555, 0.        , 0.00808777, 0.        ,\n",
              "       0.        , 0.02082896, 0.        , 0.04852664, 0.01041448,\n",
              "       0.        , 0.01369379, 0.03124344, 0.        , 0.        ,\n",
              "       0.02738758, 0.01617555, 0.02738758, 0.01369379, 0.        ,\n",
              "       0.00808777, 0.        , 0.09373033])"
            ]
          },
          "metadata": {},
          "execution_count": 29
        }
      ],
      "source": [
        "from sklearn.feature_extraction.text import TfidfVectorizer\n",
        "#ngram_range and max_features for tf-idf are also important\n",
        "tv =TfidfVectorizer(ngram_range=(1,1),max_features=983)\n",
        "y =tv.fit_transform(movies).toarray()\n",
        "y[0]\n",
        "\n",
        "#toarray converts the object into numpy array"
      ]
    },
    {
      "cell_type": "code",
      "execution_count": null,
      "metadata": {
        "colab": {
          "base_uri": "https://localhost:8080/",
          "height": 178
        },
        "id": "7iu2SNQjql5A",
        "outputId": "74ec1aad-5c3e-4fc0-e85f-4912cc9abea6"
      },
      "outputs": [
        {
          "output_type": "execute_result",
          "data": {
            "text/plain": [
              "0    0.000000\n",
              "1    0.013828\n",
              "2    0.000000\n",
              "Name: russia, dtype: float64"
            ],
            "text/html": [
              "<div>\n",
              "<style scoped>\n",
              "    .dataframe tbody tr th:only-of-type {\n",
              "        vertical-align: middle;\n",
              "    }\n",
              "\n",
              "    .dataframe tbody tr th {\n",
              "        vertical-align: top;\n",
              "    }\n",
              "\n",
              "    .dataframe thead th {\n",
              "        text-align: right;\n",
              "    }\n",
              "</style>\n",
              "<table border=\"1\" class=\"dataframe\">\n",
              "  <thead>\n",
              "    <tr style=\"text-align: right;\">\n",
              "      <th></th>\n",
              "      <th>russia</th>\n",
              "    </tr>\n",
              "  </thead>\n",
              "  <tbody>\n",
              "    <tr>\n",
              "      <th>0</th>\n",
              "      <td>0.000000</td>\n",
              "    </tr>\n",
              "    <tr>\n",
              "      <th>1</th>\n",
              "      <td>0.013828</td>\n",
              "    </tr>\n",
              "    <tr>\n",
              "      <th>2</th>\n",
              "      <td>0.000000</td>\n",
              "    </tr>\n",
              "  </tbody>\n",
              "</table>\n",
              "</div><br><label><b>dtype:</b> float64</label>"
            ]
          },
          "metadata": {},
          "execution_count": 30
        }
      ],
      "source": [
        "y_df = pd.DataFrame(data=y,columns=tv.get_feature_names_out())\n",
        "#why doesnt ngram range affect the get feature name wala param?\n",
        "y_df['russia']"
      ]
    },
    {
      "cell_type": "code",
      "execution_count": null,
      "metadata": {
        "colab": {
          "base_uri": "https://localhost:8080/"
        },
        "id": "XUAms03BfSwl",
        "outputId": "ad7eb6eb-a623-428c-954c-157d6eacbacf"
      },
      "outputs": [
        {
          "output_type": "stream",
          "name": "stdout",
          "text": [
            "0.0\n",
            "0.0017219628349029934\n",
            "0.0\n"
          ]
        }
      ],
      "source": [
        "print(tf_idf_dict(movies[0],movies)['russia'])\n",
        "print(tf_idf_dict(movies[1],movies)['russia'])\n",
        "print(tf_idf_dict(movies[2],movies)['russia'])"
      ]
    },
    {
      "cell_type": "markdown",
      "metadata": {
        "id": "ONnPTEsq-xsk"
      },
      "source": [
        "**We can see there are some differences between the vectorizer we created and the one we imported. Can you explain why these differences have arisen? How can we minimize this difference?**\n",
        "\n",
        "Ans:\n",
        "The vectorizer we created has all the tokens and can give the tfidf value of any word in the documents whereas it is not necessary for the imported one since the max_features may not include that word it will only happen if include all the parameters.\n",
        "\n",
        "I think difference have arisen due to the adding 1 in the formula of idf also known as smooth idf.\n",
        "\n",
        "Clarification of smooth idf according to sklearn:\n",
        "**If smooth_idf=True (the default), the constant “1” is added to the numerator and denominator of the idf as if an extra document was seen containing every term in the collection exactly once, which prevents zero divisions: idf(t) = log [ (1 + n) / (1 + df(t)) ] + 1.AlsoThe effect of adding “1” to the idf in the equation above is that terms with zero idf, i.e., terms that occur in all documents in a training set, will not be entirely ignored.**\n",
        "\n",
        "source: https://scikit-learn.org/stable/modules/generated/sklearn.feature_extraction.text.TfidfTransformer.html\n",
        "\n",
        "We can minimize the difference if the smooth_idf is set to False. Also note according to sklearn the standard formula is idf(t) = log [ n / (df(t) + 1) ]) and we have used it as\n",
        "idf(t) = log [n/df(t)].\n",
        "\n",
        "\n"
      ]
    },
    {
      "cell_type": "markdown",
      "metadata": {
        "id": "GmYYiQtV55zK"
      },
      "source": [
        "# The (Actual) Task Begins!"
      ]
    },
    {
      "cell_type": "markdown",
      "metadata": {
        "id": "cIJAS0TDjhwb"
      },
      "source": [
        "Dataset link: https://www.kaggle.com/datasets/lakshmi25npathi/imdb-dataset-of-50k-movie-reviews"
      ]
    },
    {
      "cell_type": "code",
      "execution_count": null,
      "metadata": {
        "colab": {
          "base_uri": "https://localhost:8080/"
        },
        "id": "hOBNeTeOohvp",
        "outputId": "65623367-eef8-4fb5-89e6-65dbf674fc9c"
      },
      "outputs": [
        {
          "output_type": "stream",
          "name": "stdout",
          "text": [
            "Mounted at /content/drive\n"
          ]
        }
      ],
      "source": [
        "#Load dataset and store it in a dataframe\n",
        "from google.colab import drive\n",
        "drive.mount('/content/drive')"
      ]
    },
    {
      "cell_type": "code",
      "execution_count": null,
      "metadata": {
        "id": "fC7nxadkphYZ"
      },
      "outputs": [],
      "source": [
        "import pandas as pd"
      ]
    },
    {
      "cell_type": "code",
      "execution_count": null,
      "metadata": {
        "id": "97ZVBWb5SNBD"
      },
      "outputs": [],
      "source": [
        "df = pd.read_csv('/content/IMDB Dataset.csv')"
      ]
    },
    {
      "cell_type": "code",
      "execution_count": null,
      "metadata": {
        "colab": {
          "base_uri": "https://localhost:8080/"
        },
        "id": "wHlXjD2LTjqS",
        "outputId": "197e27a6-ceb4-4c66-d232-1e7459107bb6"
      },
      "outputs": [
        {
          "output_type": "execute_result",
          "data": {
            "text/plain": [
              "36"
            ]
          },
          "metadata": {},
          "execution_count": 37
        }
      ],
      "source": [
        "import gc\n",
        "gc.collect()"
      ]
    },
    {
      "cell_type": "code",
      "execution_count": null,
      "metadata": {
        "colab": {
          "base_uri": "https://localhost:8080/"
        },
        "id": "drA9uUoRosh8",
        "outputId": "392d32db-71e8-4368-9b57-41f9a9995733"
      },
      "outputs": [
        {
          "output_type": "stream",
          "name": "stderr",
          "text": [
            "100%|██████████| 50000/50000 [00:09<00:00, 5515.03it/s]\n"
          ]
        }
      ],
      "source": [
        "# Write a function to create the corpus on the basis of the given dataset. Remember, the corpus should have the sentences separateed from each other\n",
        "# Also, do not forget to perform the preprocessing steps as done earlier\n",
        "from tqdm import tqdm\n",
        "corpus_df=[]\n",
        "derived_sen=''\n",
        "stop_words=set(stopwords.words('english'))\n",
        "for i in tqdm(range(len(df))):\n",
        "    sen=df.iloc[i,0]\n",
        "    sen=re.sub(r'[^a-zA-Z\\s]','',sen)\n",
        "    sen=sen.lower().split()\n",
        "\n",
        "\n",
        "    sen=[word  for word in sen if word not in stop_words]\n",
        "    corpus_df.append(sen)\n",
        "\n"
      ]
    },
    {
      "cell_type": "code",
      "execution_count": null,
      "metadata": {
        "colab": {
          "base_uri": "https://localhost:8080/"
        },
        "id": "zeo61Q8pUcq2",
        "outputId": "400850af-e0a0-468f-90e9-524296876dce"
      },
      "outputs": [
        {
          "output_type": "execute_result",
          "data": {
            "text/plain": [
              "[['one',\n",
              "  'reviewers',\n",
              "  'mentioned',\n",
              "  'watching',\n",
              "  'oz',\n",
              "  'episode',\n",
              "  'youll',\n",
              "  'hooked',\n",
              "  'right',\n",
              "  'exactly',\n",
              "  'happened',\n",
              "  'mebr',\n",
              "  'br',\n",
              "  'first',\n",
              "  'thing',\n",
              "  'struck',\n",
              "  'oz',\n",
              "  'brutality',\n",
              "  'unflinching',\n",
              "  'scenes',\n",
              "  'violence',\n",
              "  'set',\n",
              "  'right',\n",
              "  'word',\n",
              "  'go',\n",
              "  'trust',\n",
              "  'show',\n",
              "  'faint',\n",
              "  'hearted',\n",
              "  'timid',\n",
              "  'show',\n",
              "  'pulls',\n",
              "  'punches',\n",
              "  'regards',\n",
              "  'drugs',\n",
              "  'sex',\n",
              "  'violence',\n",
              "  'hardcore',\n",
              "  'classic',\n",
              "  'use',\n",
              "  'wordbr',\n",
              "  'br',\n",
              "  'called',\n",
              "  'oz',\n",
              "  'nickname',\n",
              "  'given',\n",
              "  'oswald',\n",
              "  'maximum',\n",
              "  'security',\n",
              "  'state',\n",
              "  'penitentary',\n",
              "  'focuses',\n",
              "  'mainly',\n",
              "  'emerald',\n",
              "  'city',\n",
              "  'experimental',\n",
              "  'section',\n",
              "  'prison',\n",
              "  'cells',\n",
              "  'glass',\n",
              "  'fronts',\n",
              "  'face',\n",
              "  'inwards',\n",
              "  'privacy',\n",
              "  'high',\n",
              "  'agenda',\n",
              "  'em',\n",
              "  'city',\n",
              "  'home',\n",
              "  'manyaryans',\n",
              "  'muslims',\n",
              "  'gangstas',\n",
              "  'latinos',\n",
              "  'christians',\n",
              "  'italians',\n",
              "  'irish',\n",
              "  'moreso',\n",
              "  'scuffles',\n",
              "  'death',\n",
              "  'stares',\n",
              "  'dodgy',\n",
              "  'dealings',\n",
              "  'shady',\n",
              "  'agreements',\n",
              "  'never',\n",
              "  'far',\n",
              "  'awaybr',\n",
              "  'br',\n",
              "  'would',\n",
              "  'say',\n",
              "  'main',\n",
              "  'appeal',\n",
              "  'show',\n",
              "  'due',\n",
              "  'fact',\n",
              "  'goes',\n",
              "  'shows',\n",
              "  'wouldnt',\n",
              "  'dare',\n",
              "  'forget',\n",
              "  'pretty',\n",
              "  'pictures',\n",
              "  'painted',\n",
              "  'mainstream',\n",
              "  'audiences',\n",
              "  'forget',\n",
              "  'charm',\n",
              "  'forget',\n",
              "  'romanceoz',\n",
              "  'doesnt',\n",
              "  'mess',\n",
              "  'around',\n",
              "  'first',\n",
              "  'episode',\n",
              "  'ever',\n",
              "  'saw',\n",
              "  'struck',\n",
              "  'nasty',\n",
              "  'surreal',\n",
              "  'couldnt',\n",
              "  'say',\n",
              "  'ready',\n",
              "  'watched',\n",
              "  'developed',\n",
              "  'taste',\n",
              "  'oz',\n",
              "  'got',\n",
              "  'accustomed',\n",
              "  'high',\n",
              "  'levels',\n",
              "  'graphic',\n",
              "  'violence',\n",
              "  'violence',\n",
              "  'injustice',\n",
              "  'crooked',\n",
              "  'guards',\n",
              "  'wholl',\n",
              "  'sold',\n",
              "  'nickel',\n",
              "  'inmates',\n",
              "  'wholl',\n",
              "  'kill',\n",
              "  'order',\n",
              "  'get',\n",
              "  'away',\n",
              "  'well',\n",
              "  'mannered',\n",
              "  'middle',\n",
              "  'class',\n",
              "  'inmates',\n",
              "  'turned',\n",
              "  'prison',\n",
              "  'bitches',\n",
              "  'due',\n",
              "  'lack',\n",
              "  'street',\n",
              "  'skills',\n",
              "  'prison',\n",
              "  'experience',\n",
              "  'watching',\n",
              "  'oz',\n",
              "  'may',\n",
              "  'become',\n",
              "  'comfortable',\n",
              "  'uncomfortable',\n",
              "  'viewingthats',\n",
              "  'get',\n",
              "  'touch',\n",
              "  'darker',\n",
              "  'side'],\n",
              " ['wonderful',\n",
              "  'little',\n",
              "  'production',\n",
              "  'br',\n",
              "  'br',\n",
              "  'filming',\n",
              "  'technique',\n",
              "  'unassuming',\n",
              "  'oldtimebbc',\n",
              "  'fashion',\n",
              "  'gives',\n",
              "  'comforting',\n",
              "  'sometimes',\n",
              "  'discomforting',\n",
              "  'sense',\n",
              "  'realism',\n",
              "  'entire',\n",
              "  'piece',\n",
              "  'br',\n",
              "  'br',\n",
              "  'actors',\n",
              "  'extremely',\n",
              "  'well',\n",
              "  'chosen',\n",
              "  'michael',\n",
              "  'sheen',\n",
              "  'got',\n",
              "  'polari',\n",
              "  'voices',\n",
              "  'pat',\n",
              "  'truly',\n",
              "  'see',\n",
              "  'seamless',\n",
              "  'editing',\n",
              "  'guided',\n",
              "  'references',\n",
              "  'williams',\n",
              "  'diary',\n",
              "  'entries',\n",
              "  'well',\n",
              "  'worth',\n",
              "  'watching',\n",
              "  'terrificly',\n",
              "  'written',\n",
              "  'performed',\n",
              "  'piece',\n",
              "  'masterful',\n",
              "  'production',\n",
              "  'one',\n",
              "  'great',\n",
              "  'masters',\n",
              "  'comedy',\n",
              "  'life',\n",
              "  'br',\n",
              "  'br',\n",
              "  'realism',\n",
              "  'really',\n",
              "  'comes',\n",
              "  'home',\n",
              "  'little',\n",
              "  'things',\n",
              "  'fantasy',\n",
              "  'guard',\n",
              "  'rather',\n",
              "  'use',\n",
              "  'traditional',\n",
              "  'dream',\n",
              "  'techniques',\n",
              "  'remains',\n",
              "  'solid',\n",
              "  'disappears',\n",
              "  'plays',\n",
              "  'knowledge',\n",
              "  'senses',\n",
              "  'particularly',\n",
              "  'scenes',\n",
              "  'concerning',\n",
              "  'orton',\n",
              "  'halliwell',\n",
              "  'sets',\n",
              "  'particularly',\n",
              "  'flat',\n",
              "  'halliwells',\n",
              "  'murals',\n",
              "  'decorating',\n",
              "  'every',\n",
              "  'surface',\n",
              "  'terribly',\n",
              "  'well',\n",
              "  'done'],\n",
              " ['thought',\n",
              "  'wonderful',\n",
              "  'way',\n",
              "  'spend',\n",
              "  'time',\n",
              "  'hot',\n",
              "  'summer',\n",
              "  'weekend',\n",
              "  'sitting',\n",
              "  'air',\n",
              "  'conditioned',\n",
              "  'theater',\n",
              "  'watching',\n",
              "  'lighthearted',\n",
              "  'comedy',\n",
              "  'plot',\n",
              "  'simplistic',\n",
              "  'dialogue',\n",
              "  'witty',\n",
              "  'characters',\n",
              "  'likable',\n",
              "  'even',\n",
              "  'well',\n",
              "  'bread',\n",
              "  'suspected',\n",
              "  'serial',\n",
              "  'killer',\n",
              "  'may',\n",
              "  'disappointed',\n",
              "  'realize',\n",
              "  'match',\n",
              "  'point',\n",
              "  'risk',\n",
              "  'addiction',\n",
              "  'thought',\n",
              "  'proof',\n",
              "  'woody',\n",
              "  'allen',\n",
              "  'still',\n",
              "  'fully',\n",
              "  'control',\n",
              "  'style',\n",
              "  'many',\n",
              "  'us',\n",
              "  'grown',\n",
              "  'lovebr',\n",
              "  'br',\n",
              "  'id',\n",
              "  'laughed',\n",
              "  'one',\n",
              "  'woodys',\n",
              "  'comedies',\n",
              "  'years',\n",
              "  'dare',\n",
              "  'say',\n",
              "  'decade',\n",
              "  'ive',\n",
              "  'never',\n",
              "  'impressed',\n",
              "  'scarlet',\n",
              "  'johanson',\n",
              "  'managed',\n",
              "  'tone',\n",
              "  'sexy',\n",
              "  'image',\n",
              "  'jumped',\n",
              "  'right',\n",
              "  'average',\n",
              "  'spirited',\n",
              "  'young',\n",
              "  'womanbr',\n",
              "  'br',\n",
              "  'may',\n",
              "  'crown',\n",
              "  'jewel',\n",
              "  'career',\n",
              "  'wittier',\n",
              "  'devil',\n",
              "  'wears',\n",
              "  'prada',\n",
              "  'interesting',\n",
              "  'superman',\n",
              "  'great',\n",
              "  'comedy',\n",
              "  'go',\n",
              "  'see',\n",
              "  'friends'],\n",
              " ['basically',\n",
              "  'theres',\n",
              "  'family',\n",
              "  'little',\n",
              "  'boy',\n",
              "  'jake',\n",
              "  'thinks',\n",
              "  'theres',\n",
              "  'zombie',\n",
              "  'closet',\n",
              "  'parents',\n",
              "  'fighting',\n",
              "  'timebr',\n",
              "  'br',\n",
              "  'movie',\n",
              "  'slower',\n",
              "  'soap',\n",
              "  'opera',\n",
              "  'suddenly',\n",
              "  'jake',\n",
              "  'decides',\n",
              "  'become',\n",
              "  'rambo',\n",
              "  'kill',\n",
              "  'zombiebr',\n",
              "  'br',\n",
              "  'ok',\n",
              "  'first',\n",
              "  'youre',\n",
              "  'going',\n",
              "  'make',\n",
              "  'film',\n",
              "  'must',\n",
              "  'decide',\n",
              "  'thriller',\n",
              "  'drama',\n",
              "  'drama',\n",
              "  'movie',\n",
              "  'watchable',\n",
              "  'parents',\n",
              "  'divorcing',\n",
              "  'arguing',\n",
              "  'like',\n",
              "  'real',\n",
              "  'life',\n",
              "  'jake',\n",
              "  'closet',\n",
              "  'totally',\n",
              "  'ruins',\n",
              "  'film',\n",
              "  'expected',\n",
              "  'see',\n",
              "  'boogeyman',\n",
              "  'similar',\n",
              "  'movie',\n",
              "  'instead',\n",
              "  'watched',\n",
              "  'drama',\n",
              "  'meaningless',\n",
              "  'thriller',\n",
              "  'spotsbr',\n",
              "  'br',\n",
              "  'well',\n",
              "  'playing',\n",
              "  'parents',\n",
              "  'descent',\n",
              "  'dialogs',\n",
              "  'shots',\n",
              "  'jake',\n",
              "  'ignore']]"
            ]
          },
          "metadata": {},
          "execution_count": 45
        }
      ],
      "source": [
        "\n",
        "corpus_df[:4]"
      ]
    },
    {
      "cell_type": "code",
      "execution_count": null,
      "metadata": {
        "id": "Yr-S3YCdUg0s"
      },
      "outputs": [],
      "source": [
        "(df['review'][3])"
      ]
    },
    {
      "cell_type": "code",
      "execution_count": null,
      "metadata": {
        "id": "0pB72mNHlshe",
        "colab": {
          "base_uri": "https://localhost:8080/"
        },
        "outputId": "a83242d4-a269-416c-86c8-876736622db1"
      },
      "outputs": [
        {
          "output_type": "execute_result",
          "data": {
            "text/plain": [
              "['one reviewers mentioned watching oz episode youll hooked right exactly happened mebr br first thing struck oz brutality unflinching scenes violence set right word go trust show faint hearted timid show pulls punches regards drugs sex violence hardcore classic use wordbr br called oz nickname given oswald maximum security state penitentary focuses mainly emerald city experimental section prison cells glass fronts face inwards privacy high agenda em city home manyaryans muslims gangstas latinos christians italians irish moreso scuffles death stares dodgy dealings shady agreements never far awaybr br would say main appeal show due fact goes shows wouldnt dare forget pretty pictures painted mainstream audiences forget charm forget romanceoz doesnt mess around first episode ever saw struck nasty surreal couldnt say ready watched developed taste oz got accustomed high levels graphic violence violence injustice crooked guards wholl sold nickel inmates wholl kill order get away well mannered middle class inmates turned prison bitches due lack street skills prison experience watching oz may become comfortable uncomfortable viewingthats get touch darker side',\n",
              " 'wonderful little production br br filming technique unassuming oldtimebbc fashion gives comforting sometimes discomforting sense realism entire piece br br actors extremely well chosen michael sheen got polari voices pat truly see seamless editing guided references williams diary entries well worth watching terrificly written performed piece masterful production one great masters comedy life br br realism really comes home little things fantasy guard rather use traditional dream techniques remains solid disappears plays knowledge senses particularly scenes concerning orton halliwell sets particularly flat halliwells murals decorating every surface terribly well done',\n",
              " 'thought wonderful way spend time hot summer weekend sitting air conditioned theater watching lighthearted comedy plot simplistic dialogue witty characters likable even well bread suspected serial killer may disappointed realize match point risk addiction thought proof woody allen still fully control style many us grown lovebr br id laughed one woodys comedies years dare say decade ive never impressed scarlet johanson managed tone sexy image jumped right average spirited young womanbr br may crown jewel career wittier devil wears prada interesting superman great comedy go see friends',\n",
              " 'basically theres family little boy jake thinks theres zombie closet parents fighting timebr br movie slower soap opera suddenly jake decides become rambo kill zombiebr br ok first youre going make film must decide thriller drama drama movie watchable parents divorcing arguing like real life jake closet totally ruins film expected see boogeyman similar movie instead watched drama meaningless thriller spotsbr br well playing parents descent dialogs shots jake ignore']"
            ]
          },
          "metadata": {},
          "execution_count": 46
        }
      ],
      "source": [
        "corpus_df_copy = corpus_df.copy()\n",
        "corpus_sentences = []\n",
        "for sentence in corpus_df:\n",
        "  corpus_sentences.append(\" \".join(sentence))\n",
        "corpus_sentences[:4]\n",
        "\n"
      ]
    },
    {
      "cell_type": "markdown",
      "metadata": {
        "id": "Yft_UysMmtAc"
      },
      "source": [
        "Use CBOW and TF_IDF to vectorize the dataset and test its classification report using the multinomial naive bayes model.\n",
        "\n"
      ]
    },
    {
      "cell_type": "markdown",
      "metadata": {
        "id": "7mIe3npm-7Eg"
      },
      "source": [
        "##Bag of Words\n",
        "**What is BoW?** <br>\n",
        "Ans:Bag of words is a preprocessing technique which converts the occurences of the frequently occuring words into a vector. This helps to catch the semantic meaning between two sentences through the vectors.It is called **bag** of words because any information about the document's order or structure are discarded. The model is only concerned whether the known words are there in the given document or not.\n",
        "\n",
        "Pros and Cons of bag of words:\n",
        "\n",
        "Cons:\n",
        "\n",
        "If our input data is big, that would mean that the vocabulary size will also increase. This, in turn, makes our representation matrix much larger and makes computations very complex.\n",
        "\n",
        "Another computational nightmare is the inclusion of many 0s in our matrix (i.e., a sparse matrix). A sparse matrix contains less information and wastes a lot of memory.\n",
        "\n",
        "The biggest disadvantage in Bag-of-Words is the complete inability to learn grammar and semantics. The tokenized representation from the representation matrix is what defines a sentence, and only the occurrence/non-occurrence of words in a sentence distinguishes it from others.\n",
        "\n",
        "Pros:\n",
        "\n",
        "Its simple and intuitive approach helps us at least explain what a combination of words might mean to a computer.\n",
        "\n",
        "Representations through BOW become help in making a model understand the essence of different sentences. We are indeed ignoring grammar, but since these sentences are being viewed with respect to the complete vocabulary, each has a unique tokenized representation, which helps them stand out from other sentences.\n",
        "\n",
        "https://pyimagesearch.com/2022/07/04/introduction-to-the-bag-of-words-bow-model/\n",
        "\n",
        "https://www.mygreatlearning.com/blog/bag-of-words/#why-is-the-bag-of-words-algorithm-used"
      ]
    },
    {
      "cell_type": "code",
      "execution_count": null,
      "metadata": {
        "id": "DehcDVIELtcd"
      },
      "outputs": [],
      "source": [
        "# Import CountVectorizer and use the BoW\n",
        "\n",
        "from sklearn.feature_extraction.text import CountVectorizer\n",
        "cv =CountVectorizer(ngram_range=(1,1),max_features=1000)\n",
        "\n",
        "#Create your X and y arrays\n",
        "X = cv.fit_transform(corpus_sentences).toarray()\n",
        "y=pd.get_dummies(df['sentiment'],dtype=int)\n",
        "y=y.iloc[:,1].values\n"
      ]
    },
    {
      "cell_type": "code",
      "execution_count": null,
      "metadata": {
        "id": "p9jyd0E8LtWK",
        "colab": {
          "base_uri": "https://localhost:8080/"
        },
        "outputId": "56ef7850-3e15-4106-d311-d2a8b47c9a46"
      },
      "outputs": [
        {
          "output_type": "execute_result",
          "data": {
            "text/plain": [
              "array([[0, 0, 0, ..., 0, 0, 0],\n",
              "       [0, 0, 0, ..., 0, 0, 0],\n",
              "       [0, 0, 1, ..., 0, 0, 0],\n",
              "       ...,\n",
              "       [0, 0, 0, ..., 0, 0, 0],\n",
              "       [0, 1, 0, ..., 1, 0, 0],\n",
              "       [0, 0, 0, ..., 0, 0, 0]])"
            ]
          },
          "metadata": {},
          "execution_count": 48
        }
      ],
      "source": [
        "# Perform train test split\n",
        "from sklearn.model_selection import train_test_split\n",
        "X_train,X_test,y_train,y_test=train_test_split(X,y,test_size=0.3,random_state=42)\n",
        "X_train\n"
      ]
    },
    {
      "cell_type": "code",
      "execution_count": null,
      "metadata": {
        "id": "Z7UEFBS5MM2J",
        "colab": {
          "base_uri": "https://localhost:8080/",
          "height": 80
        },
        "outputId": "fa4afd81-7fb4-4290-b198-5a05317e1938"
      },
      "outputs": [
        {
          "output_type": "execute_result",
          "data": {
            "text/plain": [
              "MultinomialNB()"
            ],
            "text/html": [
              "<style>#sk-container-id-1 {\n",
              "  /* Definition of color scheme common for light and dark mode */\n",
              "  --sklearn-color-text: black;\n",
              "  --sklearn-color-line: gray;\n",
              "  /* Definition of color scheme for unfitted estimators */\n",
              "  --sklearn-color-unfitted-level-0: #fff5e6;\n",
              "  --sklearn-color-unfitted-level-1: #f6e4d2;\n",
              "  --sklearn-color-unfitted-level-2: #ffe0b3;\n",
              "  --sklearn-color-unfitted-level-3: chocolate;\n",
              "  /* Definition of color scheme for fitted estimators */\n",
              "  --sklearn-color-fitted-level-0: #f0f8ff;\n",
              "  --sklearn-color-fitted-level-1: #d4ebff;\n",
              "  --sklearn-color-fitted-level-2: #b3dbfd;\n",
              "  --sklearn-color-fitted-level-3: cornflowerblue;\n",
              "\n",
              "  /* Specific color for light theme */\n",
              "  --sklearn-color-text-on-default-background: var(--sg-text-color, var(--theme-code-foreground, var(--jp-content-font-color1, black)));\n",
              "  --sklearn-color-background: var(--sg-background-color, var(--theme-background, var(--jp-layout-color0, white)));\n",
              "  --sklearn-color-border-box: var(--sg-text-color, var(--theme-code-foreground, var(--jp-content-font-color1, black)));\n",
              "  --sklearn-color-icon: #696969;\n",
              "\n",
              "  @media (prefers-color-scheme: dark) {\n",
              "    /* Redefinition of color scheme for dark theme */\n",
              "    --sklearn-color-text-on-default-background: var(--sg-text-color, var(--theme-code-foreground, var(--jp-content-font-color1, white)));\n",
              "    --sklearn-color-background: var(--sg-background-color, var(--theme-background, var(--jp-layout-color0, #111)));\n",
              "    --sklearn-color-border-box: var(--sg-text-color, var(--theme-code-foreground, var(--jp-content-font-color1, white)));\n",
              "    --sklearn-color-icon: #878787;\n",
              "  }\n",
              "}\n",
              "\n",
              "#sk-container-id-1 {\n",
              "  color: var(--sklearn-color-text);\n",
              "}\n",
              "\n",
              "#sk-container-id-1 pre {\n",
              "  padding: 0;\n",
              "}\n",
              "\n",
              "#sk-container-id-1 input.sk-hidden--visually {\n",
              "  border: 0;\n",
              "  clip: rect(1px 1px 1px 1px);\n",
              "  clip: rect(1px, 1px, 1px, 1px);\n",
              "  height: 1px;\n",
              "  margin: -1px;\n",
              "  overflow: hidden;\n",
              "  padding: 0;\n",
              "  position: absolute;\n",
              "  width: 1px;\n",
              "}\n",
              "\n",
              "#sk-container-id-1 div.sk-dashed-wrapped {\n",
              "  border: 1px dashed var(--sklearn-color-line);\n",
              "  margin: 0 0.4em 0.5em 0.4em;\n",
              "  box-sizing: border-box;\n",
              "  padding-bottom: 0.4em;\n",
              "  background-color: var(--sklearn-color-background);\n",
              "}\n",
              "\n",
              "#sk-container-id-1 div.sk-container {\n",
              "  /* jupyter's `normalize.less` sets `[hidden] { display: none; }`\n",
              "     but bootstrap.min.css set `[hidden] { display: none !important; }`\n",
              "     so we also need the `!important` here to be able to override the\n",
              "     default hidden behavior on the sphinx rendered scikit-learn.org.\n",
              "     See: https://github.com/scikit-learn/scikit-learn/issues/21755 */\n",
              "  display: inline-block !important;\n",
              "  position: relative;\n",
              "}\n",
              "\n",
              "#sk-container-id-1 div.sk-text-repr-fallback {\n",
              "  display: none;\n",
              "}\n",
              "\n",
              "div.sk-parallel-item,\n",
              "div.sk-serial,\n",
              "div.sk-item {\n",
              "  /* draw centered vertical line to link estimators */\n",
              "  background-image: linear-gradient(var(--sklearn-color-text-on-default-background), var(--sklearn-color-text-on-default-background));\n",
              "  background-size: 2px 100%;\n",
              "  background-repeat: no-repeat;\n",
              "  background-position: center center;\n",
              "}\n",
              "\n",
              "/* Parallel-specific style estimator block */\n",
              "\n",
              "#sk-container-id-1 div.sk-parallel-item::after {\n",
              "  content: \"\";\n",
              "  width: 100%;\n",
              "  border-bottom: 2px solid var(--sklearn-color-text-on-default-background);\n",
              "  flex-grow: 1;\n",
              "}\n",
              "\n",
              "#sk-container-id-1 div.sk-parallel {\n",
              "  display: flex;\n",
              "  align-items: stretch;\n",
              "  justify-content: center;\n",
              "  background-color: var(--sklearn-color-background);\n",
              "  position: relative;\n",
              "}\n",
              "\n",
              "#sk-container-id-1 div.sk-parallel-item {\n",
              "  display: flex;\n",
              "  flex-direction: column;\n",
              "}\n",
              "\n",
              "#sk-container-id-1 div.sk-parallel-item:first-child::after {\n",
              "  align-self: flex-end;\n",
              "  width: 50%;\n",
              "}\n",
              "\n",
              "#sk-container-id-1 div.sk-parallel-item:last-child::after {\n",
              "  align-self: flex-start;\n",
              "  width: 50%;\n",
              "}\n",
              "\n",
              "#sk-container-id-1 div.sk-parallel-item:only-child::after {\n",
              "  width: 0;\n",
              "}\n",
              "\n",
              "/* Serial-specific style estimator block */\n",
              "\n",
              "#sk-container-id-1 div.sk-serial {\n",
              "  display: flex;\n",
              "  flex-direction: column;\n",
              "  align-items: center;\n",
              "  background-color: var(--sklearn-color-background);\n",
              "  padding-right: 1em;\n",
              "  padding-left: 1em;\n",
              "}\n",
              "\n",
              "\n",
              "/* Toggleable style: style used for estimator/Pipeline/ColumnTransformer box that is\n",
              "clickable and can be expanded/collapsed.\n",
              "- Pipeline and ColumnTransformer use this feature and define the default style\n",
              "- Estimators will overwrite some part of the style using the `sk-estimator` class\n",
              "*/\n",
              "\n",
              "/* Pipeline and ColumnTransformer style (default) */\n",
              "\n",
              "#sk-container-id-1 div.sk-toggleable {\n",
              "  /* Default theme specific background. It is overwritten whether we have a\n",
              "  specific estimator or a Pipeline/ColumnTransformer */\n",
              "  background-color: var(--sklearn-color-background);\n",
              "}\n",
              "\n",
              "/* Toggleable label */\n",
              "#sk-container-id-1 label.sk-toggleable__label {\n",
              "  cursor: pointer;\n",
              "  display: block;\n",
              "  width: 100%;\n",
              "  margin-bottom: 0;\n",
              "  padding: 0.5em;\n",
              "  box-sizing: border-box;\n",
              "  text-align: center;\n",
              "}\n",
              "\n",
              "#sk-container-id-1 label.sk-toggleable__label-arrow:before {\n",
              "  /* Arrow on the left of the label */\n",
              "  content: \"▸\";\n",
              "  float: left;\n",
              "  margin-right: 0.25em;\n",
              "  color: var(--sklearn-color-icon);\n",
              "}\n",
              "\n",
              "#sk-container-id-1 label.sk-toggleable__label-arrow:hover:before {\n",
              "  color: var(--sklearn-color-text);\n",
              "}\n",
              "\n",
              "/* Toggleable content - dropdown */\n",
              "\n",
              "#sk-container-id-1 div.sk-toggleable__content {\n",
              "  max-height: 0;\n",
              "  max-width: 0;\n",
              "  overflow: hidden;\n",
              "  text-align: left;\n",
              "  /* unfitted */\n",
              "  background-color: var(--sklearn-color-unfitted-level-0);\n",
              "}\n",
              "\n",
              "#sk-container-id-1 div.sk-toggleable__content.fitted {\n",
              "  /* fitted */\n",
              "  background-color: var(--sklearn-color-fitted-level-0);\n",
              "}\n",
              "\n",
              "#sk-container-id-1 div.sk-toggleable__content pre {\n",
              "  margin: 0.2em;\n",
              "  border-radius: 0.25em;\n",
              "  color: var(--sklearn-color-text);\n",
              "  /* unfitted */\n",
              "  background-color: var(--sklearn-color-unfitted-level-0);\n",
              "}\n",
              "\n",
              "#sk-container-id-1 div.sk-toggleable__content.fitted pre {\n",
              "  /* unfitted */\n",
              "  background-color: var(--sklearn-color-fitted-level-0);\n",
              "}\n",
              "\n",
              "#sk-container-id-1 input.sk-toggleable__control:checked~div.sk-toggleable__content {\n",
              "  /* Expand drop-down */\n",
              "  max-height: 200px;\n",
              "  max-width: 100%;\n",
              "  overflow: auto;\n",
              "}\n",
              "\n",
              "#sk-container-id-1 input.sk-toggleable__control:checked~label.sk-toggleable__label-arrow:before {\n",
              "  content: \"▾\";\n",
              "}\n",
              "\n",
              "/* Pipeline/ColumnTransformer-specific style */\n",
              "\n",
              "#sk-container-id-1 div.sk-label input.sk-toggleable__control:checked~label.sk-toggleable__label {\n",
              "  color: var(--sklearn-color-text);\n",
              "  background-color: var(--sklearn-color-unfitted-level-2);\n",
              "}\n",
              "\n",
              "#sk-container-id-1 div.sk-label.fitted input.sk-toggleable__control:checked~label.sk-toggleable__label {\n",
              "  background-color: var(--sklearn-color-fitted-level-2);\n",
              "}\n",
              "\n",
              "/* Estimator-specific style */\n",
              "\n",
              "/* Colorize estimator box */\n",
              "#sk-container-id-1 div.sk-estimator input.sk-toggleable__control:checked~label.sk-toggleable__label {\n",
              "  /* unfitted */\n",
              "  background-color: var(--sklearn-color-unfitted-level-2);\n",
              "}\n",
              "\n",
              "#sk-container-id-1 div.sk-estimator.fitted input.sk-toggleable__control:checked~label.sk-toggleable__label {\n",
              "  /* fitted */\n",
              "  background-color: var(--sklearn-color-fitted-level-2);\n",
              "}\n",
              "\n",
              "#sk-container-id-1 div.sk-label label.sk-toggleable__label,\n",
              "#sk-container-id-1 div.sk-label label {\n",
              "  /* The background is the default theme color */\n",
              "  color: var(--sklearn-color-text-on-default-background);\n",
              "}\n",
              "\n",
              "/* On hover, darken the color of the background */\n",
              "#sk-container-id-1 div.sk-label:hover label.sk-toggleable__label {\n",
              "  color: var(--sklearn-color-text);\n",
              "  background-color: var(--sklearn-color-unfitted-level-2);\n",
              "}\n",
              "\n",
              "/* Label box, darken color on hover, fitted */\n",
              "#sk-container-id-1 div.sk-label.fitted:hover label.sk-toggleable__label.fitted {\n",
              "  color: var(--sklearn-color-text);\n",
              "  background-color: var(--sklearn-color-fitted-level-2);\n",
              "}\n",
              "\n",
              "/* Estimator label */\n",
              "\n",
              "#sk-container-id-1 div.sk-label label {\n",
              "  font-family: monospace;\n",
              "  font-weight: bold;\n",
              "  display: inline-block;\n",
              "  line-height: 1.2em;\n",
              "}\n",
              "\n",
              "#sk-container-id-1 div.sk-label-container {\n",
              "  text-align: center;\n",
              "}\n",
              "\n",
              "/* Estimator-specific */\n",
              "#sk-container-id-1 div.sk-estimator {\n",
              "  font-family: monospace;\n",
              "  border: 1px dotted var(--sklearn-color-border-box);\n",
              "  border-radius: 0.25em;\n",
              "  box-sizing: border-box;\n",
              "  margin-bottom: 0.5em;\n",
              "  /* unfitted */\n",
              "  background-color: var(--sklearn-color-unfitted-level-0);\n",
              "}\n",
              "\n",
              "#sk-container-id-1 div.sk-estimator.fitted {\n",
              "  /* fitted */\n",
              "  background-color: var(--sklearn-color-fitted-level-0);\n",
              "}\n",
              "\n",
              "/* on hover */\n",
              "#sk-container-id-1 div.sk-estimator:hover {\n",
              "  /* unfitted */\n",
              "  background-color: var(--sklearn-color-unfitted-level-2);\n",
              "}\n",
              "\n",
              "#sk-container-id-1 div.sk-estimator.fitted:hover {\n",
              "  /* fitted */\n",
              "  background-color: var(--sklearn-color-fitted-level-2);\n",
              "}\n",
              "\n",
              "/* Specification for estimator info (e.g. \"i\" and \"?\") */\n",
              "\n",
              "/* Common style for \"i\" and \"?\" */\n",
              "\n",
              ".sk-estimator-doc-link,\n",
              "a:link.sk-estimator-doc-link,\n",
              "a:visited.sk-estimator-doc-link {\n",
              "  float: right;\n",
              "  font-size: smaller;\n",
              "  line-height: 1em;\n",
              "  font-family: monospace;\n",
              "  background-color: var(--sklearn-color-background);\n",
              "  border-radius: 1em;\n",
              "  height: 1em;\n",
              "  width: 1em;\n",
              "  text-decoration: none !important;\n",
              "  margin-left: 1ex;\n",
              "  /* unfitted */\n",
              "  border: var(--sklearn-color-unfitted-level-1) 1pt solid;\n",
              "  color: var(--sklearn-color-unfitted-level-1);\n",
              "}\n",
              "\n",
              ".sk-estimator-doc-link.fitted,\n",
              "a:link.sk-estimator-doc-link.fitted,\n",
              "a:visited.sk-estimator-doc-link.fitted {\n",
              "  /* fitted */\n",
              "  border: var(--sklearn-color-fitted-level-1) 1pt solid;\n",
              "  color: var(--sklearn-color-fitted-level-1);\n",
              "}\n",
              "\n",
              "/* On hover */\n",
              "div.sk-estimator:hover .sk-estimator-doc-link:hover,\n",
              ".sk-estimator-doc-link:hover,\n",
              "div.sk-label-container:hover .sk-estimator-doc-link:hover,\n",
              ".sk-estimator-doc-link:hover {\n",
              "  /* unfitted */\n",
              "  background-color: var(--sklearn-color-unfitted-level-3);\n",
              "  color: var(--sklearn-color-background);\n",
              "  text-decoration: none;\n",
              "}\n",
              "\n",
              "div.sk-estimator.fitted:hover .sk-estimator-doc-link.fitted:hover,\n",
              ".sk-estimator-doc-link.fitted:hover,\n",
              "div.sk-label-container:hover .sk-estimator-doc-link.fitted:hover,\n",
              ".sk-estimator-doc-link.fitted:hover {\n",
              "  /* fitted */\n",
              "  background-color: var(--sklearn-color-fitted-level-3);\n",
              "  color: var(--sklearn-color-background);\n",
              "  text-decoration: none;\n",
              "}\n",
              "\n",
              "/* Span, style for the box shown on hovering the info icon */\n",
              ".sk-estimator-doc-link span {\n",
              "  display: none;\n",
              "  z-index: 9999;\n",
              "  position: relative;\n",
              "  font-weight: normal;\n",
              "  right: .2ex;\n",
              "  padding: .5ex;\n",
              "  margin: .5ex;\n",
              "  width: min-content;\n",
              "  min-width: 20ex;\n",
              "  max-width: 50ex;\n",
              "  color: var(--sklearn-color-text);\n",
              "  box-shadow: 2pt 2pt 4pt #999;\n",
              "  /* unfitted */\n",
              "  background: var(--sklearn-color-unfitted-level-0);\n",
              "  border: .5pt solid var(--sklearn-color-unfitted-level-3);\n",
              "}\n",
              "\n",
              ".sk-estimator-doc-link.fitted span {\n",
              "  /* fitted */\n",
              "  background: var(--sklearn-color-fitted-level-0);\n",
              "  border: var(--sklearn-color-fitted-level-3);\n",
              "}\n",
              "\n",
              ".sk-estimator-doc-link:hover span {\n",
              "  display: block;\n",
              "}\n",
              "\n",
              "/* \"?\"-specific style due to the `<a>` HTML tag */\n",
              "\n",
              "#sk-container-id-1 a.estimator_doc_link {\n",
              "  float: right;\n",
              "  font-size: 1rem;\n",
              "  line-height: 1em;\n",
              "  font-family: monospace;\n",
              "  background-color: var(--sklearn-color-background);\n",
              "  border-radius: 1rem;\n",
              "  height: 1rem;\n",
              "  width: 1rem;\n",
              "  text-decoration: none;\n",
              "  /* unfitted */\n",
              "  color: var(--sklearn-color-unfitted-level-1);\n",
              "  border: var(--sklearn-color-unfitted-level-1) 1pt solid;\n",
              "}\n",
              "\n",
              "#sk-container-id-1 a.estimator_doc_link.fitted {\n",
              "  /* fitted */\n",
              "  border: var(--sklearn-color-fitted-level-1) 1pt solid;\n",
              "  color: var(--sklearn-color-fitted-level-1);\n",
              "}\n",
              "\n",
              "/* On hover */\n",
              "#sk-container-id-1 a.estimator_doc_link:hover {\n",
              "  /* unfitted */\n",
              "  background-color: var(--sklearn-color-unfitted-level-3);\n",
              "  color: var(--sklearn-color-background);\n",
              "  text-decoration: none;\n",
              "}\n",
              "\n",
              "#sk-container-id-1 a.estimator_doc_link.fitted:hover {\n",
              "  /* fitted */\n",
              "  background-color: var(--sklearn-color-fitted-level-3);\n",
              "}\n",
              "</style><div id=\"sk-container-id-1\" class=\"sk-top-container\"><div class=\"sk-text-repr-fallback\"><pre>MultinomialNB()</pre><b>In a Jupyter environment, please rerun this cell to show the HTML representation or trust the notebook. <br />On GitHub, the HTML representation is unable to render, please try loading this page with nbviewer.org.</b></div><div class=\"sk-container\" hidden><div class=\"sk-item\"><div class=\"sk-estimator fitted sk-toggleable\"><input class=\"sk-toggleable__control sk-hidden--visually\" id=\"sk-estimator-id-1\" type=\"checkbox\" checked><label for=\"sk-estimator-id-1\" class=\"sk-toggleable__label fitted sk-toggleable__label-arrow fitted\">&nbsp;&nbsp;MultinomialNB<a class=\"sk-estimator-doc-link fitted\" rel=\"noreferrer\" target=\"_blank\" href=\"https://scikit-learn.org/1.5/modules/generated/sklearn.naive_bayes.MultinomialNB.html\">?<span>Documentation for MultinomialNB</span></a><span class=\"sk-estimator-doc-link fitted\">i<span>Fitted</span></span></label><div class=\"sk-toggleable__content fitted\"><pre>MultinomialNB()</pre></div> </div></div></div></div>"
            ]
          },
          "metadata": {},
          "execution_count": 49
        }
      ],
      "source": [
        "#Fit training data on Multinomial Naive Bayes\n",
        "from sklearn.naive_bayes import MultinomialNB\n",
        "spam_detect_model =MultinomialNB()\n",
        "spam_detect_model.fit(X_train,y_train)\n",
        "\n"
      ]
    },
    {
      "cell_type": "code",
      "execution_count": null,
      "metadata": {
        "id": "cZCsPjgWMMyk",
        "colab": {
          "base_uri": "https://localhost:8080/"
        },
        "outputId": "8405b3e3-fe12-4c9f-df86-acd1ef97bfb0"
      },
      "outputs": [
        {
          "output_type": "stream",
          "name": "stdout",
          "text": [
            "0.8295333333333333\n",
            "              precision    recall  f1-score   support\n",
            "\n",
            "           0       0.83      0.82      0.83      7411\n",
            "           1       0.83      0.84      0.83      7589\n",
            "\n",
            "    accuracy                           0.83     15000\n",
            "   macro avg       0.83      0.83      0.83     15000\n",
            "weighted avg       0.83      0.83      0.83     15000\n",
            "\n"
          ]
        }
      ],
      "source": [
        "#Print the accuracy and create a classification report\n",
        "y_pred=spam_detect_model.predict(X_test)\n",
        "\n",
        "from sklearn.metrics import accuracy_score, classification_report\n",
        "print(accuracy_score(y_test,y_pred))\n",
        "print(classification_report(y_test,y_pred))\n",
        "\n"
      ]
    },
    {
      "cell_type": "markdown",
      "metadata": {
        "id": "KhjFFf7tbM7z"
      },
      "source": [
        "##TF-IDF"
      ]
    },
    {
      "cell_type": "code",
      "execution_count": null,
      "metadata": {
        "id": "wOlWawNdhBce"
      },
      "outputs": [],
      "source": [
        "# Write the code for tfidVectorizer, very much similar to the one you wrote for CountVectorizer\n",
        "# Also, print the accuracy, and create a classification report\n",
        "from sklearn.feature_extraction.text import TfidfVectorizer\n",
        "tf=TfidfVectorizer(ngram_range=(1,1),max_features=1000)\n",
        "X = tf.fit_transform(corpus_sentences).toarray()\n",
        "y=pd.get_dummies(df['sentiment'],dtype=int)\n",
        "y=y.iloc[:,1].values\n",
        "\n",
        "from sklearn.model_selection import train_test_split\n",
        "X_train,X_test,y_train,y_test=train_test_split(X,y,test_size=0.3,random_state=42)\n",
        "\n",
        "y_pred=spam_detect_model.predict(X_test)\n",
        "\n"
      ]
    },
    {
      "cell_type": "code",
      "execution_count": null,
      "metadata": {
        "id": "_jSejvsYbVvK",
        "colab": {
          "base_uri": "https://localhost:8080/"
        },
        "outputId": "f2d72417-df11-4915-ad6f-54f71dae4210"
      },
      "outputs": [
        {
          "output_type": "stream",
          "name": "stdout",
          "text": [
            "0.8268\n",
            "              precision    recall  f1-score   support\n",
            "\n",
            "           0       0.84      0.80      0.82      7411\n",
            "           1       0.82      0.85      0.83      7589\n",
            "\n",
            "    accuracy                           0.83     15000\n",
            "   macro avg       0.83      0.83      0.83     15000\n",
            "weighted avg       0.83      0.83      0.83     15000\n",
            "\n"
          ]
        }
      ],
      "source": [
        "from sklearn.metrics import classification_report\n",
        "print(accuracy_score(y_test,y_pred))\n",
        "print(classification_report(y_test,y_pred))"
      ]
    },
    {
      "cell_type": "markdown",
      "metadata": {
        "id": "GWYDwBwPcqM-"
      },
      "source": [
        "#Word2Vec\n",
        "\n",
        "\n"
      ]
    },
    {
      "cell_type": "markdown",
      "metadata": {
        "id": "HCJEsmuqhJ4m"
      },
      "source": [
        "word2vec is a neural network based algorithm released in 2013 which captures the semantic meaning of words instead of being based solely on frequency based metrics. For example, saying 'I look good today' and 'I look fantanstic today' should be considered similar sentences, however models like TF-IDF and BOW cannot capture this similarity and consider them different.\n",
        "\n",
        "word2vec works by ensuring the data being passed is trained to recognize context using either CBOW or Skip-gram method (check references). It is thus preferred to have a large dataset for this task. Then, one can compare similarity between words present in the dataset in a lingustic manner.\n",
        "\n",
        "\n",
        "A famous example that word2vec is able to capture is the one below:\n",
        "![Analogical-reasoning-on-vectors-a-king-man-womanqueen-and-b.png](data:image/png;base64,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)"
      ]
    },
    {
      "cell_type": "markdown",
      "metadata": {
        "id": "XAegueVrhkYj"
      },
      "source": [
        "https://www.analyticsvidhya.com/blog/2021/07/word2vec-for-word-embeddings-a-beginners-guide/\n",
        "\n",
        "https://youtu.be/viZrOnJclY0?si=J-HwOd3_Ng2CfVgU\n",
        "\n",
        "https://www.tensorflow.org/text/tutorials/word2vec (Advanced level)"
      ]
    },
    {
      "cell_type": "markdown",
      "metadata": {
        "id": "9IwADVfUhoup"
      },
      "source": [
        "Let's try and use Word2Vec for our reviews dataset."
      ]
    },
    {
      "cell_type": "markdown",
      "metadata": {
        "id": "DGZW7pU6hsTV"
      },
      "source": [
        "You can use CBOW or SkipGram (sg = 0/1) default is CBOW\n",
        "\n",
        "Word2Vec resources: https://builtin.com/machine-learning/nlp-word2vec-python"
      ]
    },
    {
      "cell_type": "code",
      "execution_count": null,
      "metadata": {
        "id": "gv8LOXXUptyr"
      },
      "outputs": [],
      "source": [
        "from numpy import triu\n",
        "import gensim\n",
        "from gensim.models import word2vec\n",
        "from gensim.models.word2vec import Word2Vec"
      ]
    },
    {
      "cell_type": "code",
      "execution_count": null,
      "metadata": {
        "id": "jGTTHrWOcxln"
      },
      "outputs": [],
      "source": [
        "model=Word2Vec(corpus_df, window=5, min_count=2)#window, min_count, max_count, size are important hyperparameters\n",
        "\n",
        "#Size refers to the size of the word embedding that it would output.Here it is 100.\n",
        "#Window refers to the maximum distance between the current and predicted word within a sentence.\n",
        "#The min_count parameter is used to set a minimum frequency for the words to be a part of the model:\n",
        "# i.e. it ignores all words with count less than min_count."
      ]
    },
    {
      "cell_type": "code",
      "execution_count": null,
      "metadata": {
        "id": "HwMCeIxxkVuY",
        "colab": {
          "base_uri": "https://localhost:8080/"
        },
        "outputId": "22591388-90b4-4e62-aa6b-ffd9bfb98cf3"
      },
      "outputs": [
        {
          "output_type": "stream",
          "name": "stdout",
          "text": [
            "Word2Vec<vocab=79930, vector_size=100, alpha=0.025>\n"
          ]
        }
      ],
      "source": [
        "print(model)"
      ]
    },
    {
      "cell_type": "code",
      "execution_count": null,
      "metadata": {
        "id": "g2im5lWs11W8",
        "colab": {
          "base_uri": "https://localhost:8080/"
        },
        "outputId": "ec981e51-7ded-4978-cae7-d5a5cb6a5691"
      },
      "outputs": [
        {
          "output_type": "execute_result",
          "data": {
            "text/plain": [
              "[('comment', 0.8582658767700195),\n",
              " ('imdb', 0.7921440601348877),\n",
              " ('reviews', 0.7764803171157837),\n",
              " ('comments', 0.7538917660713196),\n",
              " ('posted', 0.7457926273345947),\n",
              " ('reviewer', 0.7281306385993958),\n",
              " ('summary', 0.7232635021209717),\n",
              " ('user', 0.7183835506439209),\n",
              " ('website', 0.7072086334228516),\n",
              " ('registered', 0.6935349702835083)]"
            ]
          },
          "metadata": {},
          "execution_count": 56
        }
      ],
      "source": [
        "model.wv.most_similar('review')"
      ]
    },
    {
      "cell_type": "code",
      "execution_count": null,
      "metadata": {
        "id": "dgr5phI0BC3N",
        "colab": {
          "base_uri": "https://localhost:8080/"
        },
        "outputId": "789b537b-b49f-4f35-d46a-caec2385cd94"
      },
      "outputs": [
        {
          "output_type": "execute_result",
          "data": {
            "text/plain": [
              "[('directorial', -0.4833069443702698),\n",
              " ('technical', -0.43755707144737244),\n",
              " ('directing', -0.43241381645202637),\n",
              " ('direction', -0.4206160008907318),\n",
              " ('spiegels', -0.41751235723495483),\n",
              " ('welles', -0.4093366265296936),\n",
              " ('audiards', -0.40410855412483215),\n",
              " ('cinematography', -0.4008319675922394),\n",
              " ('photography', -0.3972967267036438),\n",
              " ('proofread', -0.3962397277355194)]"
            ]
          },
          "metadata": {},
          "execution_count": 57
        }
      ],
      "source": [
        "import sys\n",
        "#takes  maximum number of vectors thru sys.maxsize which are similar to 'dog'\n",
        "all_sims = model.wv.most_similar('dog', topn=sys.maxsize)\n",
        "last_10 = list(reversed(all_sims[-10:]))\n",
        "last_10"
      ]
    },
    {
      "cell_type": "code",
      "execution_count": null,
      "metadata": {
        "id": "Dp2e3X73-CQW",
        "colab": {
          "base_uri": "https://localhost:8080/"
        },
        "outputId": "19681d48-cb57-4330-9dd0-fb318ba5e2ad"
      },
      "outputs": [
        {
          "output_type": "execute_result",
          "data": {
            "text/plain": [
              "array([-1.8487663e+00,  4.3443158e-02, -6.7387331e-01, -4.3978035e-01,\n",
              "        1.1233665e+00, -9.6307099e-01, -6.8245339e-01,  1.3316658e+00,\n",
              "       -2.3362250e+00, -1.1736445e+00, -2.2887362e-03, -3.9310914e-02,\n",
              "       -1.2567508e+00,  1.3428539e+00,  5.9243262e-01, -1.6205647e+00,\n",
              "        8.9323723e-01, -1.3092694e+00, -2.7132529e-01,  6.7083031e-01,\n",
              "        1.4605551e+00,  4.6765283e-01,  6.6701365e-01,  7.1944898e-01,\n",
              "       -2.7703196e-01, -3.7145164e-02, -7.6096433e-01,  9.1591582e-02,\n",
              "        8.2246983e-01,  2.1507385e-01,  8.1292808e-01,  8.2020462e-01,\n",
              "       -1.8287627e+00,  5.0829661e-01,  1.0887259e+00, -4.0300786e-01,\n",
              "        3.6006340e-01,  4.1224578e-01,  2.4594026e+00,  7.3789591e-01,\n",
              "        2.0602714e-01,  5.4938269e-01, -6.4470565e-01,  8.3723438e-01,\n",
              "       -5.7444942e-01, -7.0863098e-01, -4.5441890e-01, -1.3776842e-01,\n",
              "        6.3173342e-01,  1.6882920e+00,  7.0791745e-01, -3.9162999e-01,\n",
              "       -6.0860145e-01, -3.3407903e-01,  1.7310293e-02,  2.8638124e-01,\n",
              "        2.5477293e-01,  7.7561289e-01,  1.5760496e-01, -1.8273091e-01,\n",
              "        3.0909580e-01, -3.8541073e-01,  1.1367985e-01, -3.9039850e-01,\n",
              "       -1.7945737e+00, -2.8936201e-01, -1.4097878e-01,  1.1911252e+00,\n",
              "       -2.0243003e+00,  2.3587985e+00,  1.8376331e-01, -1.8482703e-01,\n",
              "        6.6704267e-01,  8.4045297e-01, -1.9723351e-01, -1.0397038e+00,\n",
              "        6.9530344e-01,  1.3919660e-01, -6.0558558e-01, -1.2999648e+00,\n",
              "       -6.9900489e-01, -8.5042989e-01, -1.0926347e+00, -2.0440142e+00,\n",
              "        6.3649625e-01,  3.5925847e-02,  1.5301442e+00,  5.8023888e-01,\n",
              "       -7.6484591e-01, -2.1025088e+00, -3.8125274e-01, -1.6310844e+00,\n",
              "        3.1989112e-01,  1.0971817e+00, -4.6867386e-01,  1.3238199e+00,\n",
              "       -7.6015896e-01, -1.4018477e+00,  2.7490717e-01, -1.1813039e+00],\n",
              "      dtype=float32)"
            ]
          },
          "metadata": {},
          "execution_count": 58
        }
      ],
      "source": [
        "#not you use model.wv to access the word vectors and functions related to it and\n",
        "#just model is used to access both trainin parameters and word vectors\n",
        "(model.wv['dog'])"
      ]
    },
    {
      "cell_type": "code",
      "execution_count": null,
      "metadata": {
        "id": "2r4PjND9d1Qk",
        "colab": {
          "base_uri": "https://localhost:8080/"
        },
        "outputId": "32263e9e-969c-461b-ae90-e51b86253b1c"
      },
      "outputs": [
        {
          "output_type": "execute_result",
          "data": {
            "text/plain": [
              "[('man', 0.933683454990387),\n",
              " ('woman', 0.9290276169776917),\n",
              " ('lady', 0.7397021651268005),\n",
              " ('mans', 0.7040020227432251),\n",
              " ('boy', 0.6283071041107178),\n",
              " ('girl', 0.6221034526824951),\n",
              " ('men', 0.5940384864807129),\n",
              " ('ladys', 0.5875252485275269),\n",
              " ('manwho', 0.5861586332321167),\n",
              " ('womans', 0.5719773769378662)]"
            ]
          },
          "metadata": {},
          "execution_count": 59
        }
      ],
      "source": [
        "vec=model.wv['man']+model.wv['woman']\n",
        "model.wv.most_similar([vec])"
      ]
    },
    {
      "cell_type": "code",
      "execution_count": null,
      "metadata": {
        "id": "fhgd2t04eUn8",
        "colab": {
          "base_uri": "https://localhost:8080/"
        },
        "outputId": "7e6e5f7a-3300-4bce-a3c1-778329692d82"
      },
      "outputs": [
        {
          "output_type": "execute_result",
          "data": {
            "text/plain": [
              "0.84052336"
            ]
          },
          "metadata": {},
          "execution_count": 60
        }
      ],
      "source": [
        "model.wv.similarity('movie','film')"
      ]
    },
    {
      "cell_type": "code",
      "execution_count": null,
      "metadata": {
        "id": "zYYkRDEBfBG2",
        "colab": {
          "base_uri": "https://localhost:8080/",
          "height": 36
        },
        "outputId": "43b7ae4a-bdcc-4b94-e45a-bc23ad4d2a9f"
      },
      "outputs": [
        {
          "output_type": "execute_result",
          "data": {
            "text/plain": [
              "'book'"
            ],
            "application/vnd.google.colaboratory.intrinsic+json": {
              "type": "string"
            }
          },
          "metadata": {},
          "execution_count": 61
        }
      ],
      "source": [
        "model.wv.doesnt_match(['laptop','mobile','book'])"
      ]
    },
    {
      "cell_type": "markdown",
      "metadata": {
        "id": "E1l_g9_qOMPO"
      },
      "source": [
        "**Average Word2Vec**\n",
        "\n",
        "In average Word2Vec, the model is fed with an average of all the vectors obtained from the vectorization techniques. For eg. in this task, our model will be fed a **single array** of size Nx1 **which is an average vector of all the vectors in the sentence.**\n",
        "\n",
        "Why do we do this? - https://datascience.stackexchange.com/questions/93253/why-is-averaging-the-vectors-required-in-word2vec"
      ]
    },
    {
      "cell_type": "code",
      "execution_count": null,
      "metadata": {
        "id": "V-QfiygdOL1X",
        "colab": {
          "base_uri": "https://localhost:8080/"
        },
        "outputId": "062f6fef-0d93-4942-d990-af6c38e0932e"
      },
      "outputs": [
        {
          "output_type": "execute_result",
          "data": {
            "text/plain": [
              "array([-0.44011793,  0.5870197 ,  0.08760962,  0.26744595, -0.2639042 ,\n",
              "       -0.7154756 ,  0.24309231,  0.60208917,  0.76650953,  0.3217299 ,\n",
              "        0.05233035, -1.8117671 ,  0.33116266,  0.948519  , -0.9993682 ,\n",
              "       -0.1325241 ,  0.18368025,  0.22300811, -0.29110083, -0.2021226 ,\n",
              "        0.27976823,  0.08532525,  0.09984358, -0.05402078,  0.52750945,\n",
              "       -0.10344964, -0.3648844 ,  0.19147246, -0.05832849, -0.67910963,\n",
              "        0.21820298,  0.48756844,  0.43520588,  0.16072863, -0.5945423 ,\n",
              "       -0.11647563,  0.1719457 , -1.5802753 , -0.76658946, -0.0895083 ,\n",
              "       -0.28880265, -0.77089864, -0.29056233, -0.18924801,  0.47941518,\n",
              "       -0.04842291, -0.9857007 ,  0.07213832, -0.30768776,  0.822427  ,\n",
              "       -0.7308339 ,  0.06328307, -0.57730687, -0.14252968, -0.42407444,\n",
              "        0.7447378 ,  0.35402688, -0.41344646, -0.14526442,  0.09861679,\n",
              "        0.43598038,  0.24965157, -0.84568995, -0.02150501, -0.37335682,\n",
              "       -0.8623582 , -0.29653722, -0.1677124 ,  0.20989038,  0.44024414,\n",
              "        0.5100472 , -0.553938  ,  0.09012277, -0.22362845,  0.09313644,\n",
              "        0.68298835,  0.2703228 ,  0.21703592, -0.6843482 ,  0.8625586 ,\n",
              "        0.06917572, -0.3656141 ,  0.06543882, -0.00953425,  0.17015171,\n",
              "        1.2689824 ,  0.4454429 , -0.12751557,  0.16420804, -0.7016241 ,\n",
              "        0.5254253 , -0.15849522,  0.25341856,  0.01700123,  1.0780706 ,\n",
              "        0.81464285, -0.07893703, -0.74495465,  0.11675695, -0.17030056],\n",
              "      dtype=float32)"
            ]
          },
          "metadata": {},
          "execution_count": 62
        }
      ],
      "source": [
        "def avg_word2vec(doc):\n",
        "  return np.mean([model.wv[word] for word in doc if word in model.wv.index_to_key],axis=0)\n",
        "\n",
        "avg_word2vec(df['review'].values[0])\n",
        "\n",
        "# df['review'].values[49999]\n"
      ]
    },
    {
      "cell_type": "code",
      "execution_count": null,
      "metadata": {
        "id": "Hi-I3gAF-DUE",
        "colab": {
          "base_uri": "https://localhost:8080/",
          "height": 339
        },
        "outputId": "aedeb992-5807-4d29-9f3d-a7ae663edbc1"
      },
      "outputs": [
        {
          "output_type": "stream",
          "name": "stderr",
          "text": [
            "  6%|▌         | 371/6633 [16:44<4:42:27,  2.71s/it]\n"
          ]
        },
        {
          "output_type": "error",
          "ename": "KeyboardInterrupt",
          "evalue": "",
          "traceback": [
            "\u001b[0;31m---------------------------------------------------------------------------\u001b[0m",
            "\u001b[0;31mKeyboardInterrupt\u001b[0m                         Traceback (most recent call last)",
            "\u001b[0;32m<ipython-input-82-8f5fbeffe931>\u001b[0m in \u001b[0;36m<cell line: 3>\u001b[0;34m()\u001b[0m\n\u001b[1;32m      2\u001b[0m \u001b[0;34m\u001b[0m\u001b[0m\n\u001b[1;32m      3\u001b[0m \u001b[0;32mfor\u001b[0m \u001b[0mdoc\u001b[0m \u001b[0;32min\u001b[0m \u001b[0mtqdm\u001b[0m\u001b[0;34m(\u001b[0m\u001b[0mcorpus_sentences\u001b[0m\u001b[0;34m[\u001b[0m\u001b[0;36m3367\u001b[0m\u001b[0;34m:\u001b[0m\u001b[0;36m10000\u001b[0m\u001b[0;34m]\u001b[0m\u001b[0;34m)\u001b[0m\u001b[0;34m:\u001b[0m \u001b[0;31m#look up each doc in model\u001b[0m\u001b[0;34m\u001b[0m\u001b[0;34m\u001b[0m\u001b[0m\n\u001b[0;32m----> 4\u001b[0;31m     \u001b[0mx\u001b[0m\u001b[0;34m.\u001b[0m\u001b[0mappend\u001b[0m\u001b[0;34m(\u001b[0m\u001b[0mavg_word2vec\u001b[0m\u001b[0;34m(\u001b[0m\u001b[0mdoc\u001b[0m\u001b[0;34m)\u001b[0m\u001b[0;34m)\u001b[0m\u001b[0;34m\u001b[0m\u001b[0;34m\u001b[0m\u001b[0m\n\u001b[0m",
            "\u001b[0;32m<ipython-input-62-d69452cb1f28>\u001b[0m in \u001b[0;36mavg_word2vec\u001b[0;34m(doc)\u001b[0m\n\u001b[1;32m      1\u001b[0m \u001b[0;32mdef\u001b[0m \u001b[0mavg_word2vec\u001b[0m\u001b[0;34m(\u001b[0m\u001b[0mdoc\u001b[0m\u001b[0;34m)\u001b[0m\u001b[0;34m:\u001b[0m\u001b[0;34m\u001b[0m\u001b[0;34m\u001b[0m\u001b[0m\n\u001b[0;32m----> 2\u001b[0;31m   \u001b[0;32mreturn\u001b[0m \u001b[0mnp\u001b[0m\u001b[0;34m.\u001b[0m\u001b[0mmean\u001b[0m\u001b[0;34m(\u001b[0m\u001b[0;34m[\u001b[0m\u001b[0mmodel\u001b[0m\u001b[0;34m.\u001b[0m\u001b[0mwv\u001b[0m\u001b[0;34m[\u001b[0m\u001b[0mword\u001b[0m\u001b[0;34m]\u001b[0m \u001b[0;32mfor\u001b[0m \u001b[0mword\u001b[0m \u001b[0;32min\u001b[0m \u001b[0mdoc\u001b[0m \u001b[0;32mif\u001b[0m \u001b[0mword\u001b[0m \u001b[0;32min\u001b[0m \u001b[0mmodel\u001b[0m\u001b[0;34m.\u001b[0m\u001b[0mwv\u001b[0m\u001b[0;34m.\u001b[0m\u001b[0mindex_to_key\u001b[0m\u001b[0;34m]\u001b[0m\u001b[0;34m,\u001b[0m\u001b[0maxis\u001b[0m\u001b[0;34m=\u001b[0m\u001b[0;36m0\u001b[0m\u001b[0;34m)\u001b[0m\u001b[0;34m\u001b[0m\u001b[0;34m\u001b[0m\u001b[0m\n\u001b[0m\u001b[1;32m      3\u001b[0m \u001b[0;34m\u001b[0m\u001b[0m\n\u001b[1;32m      4\u001b[0m \u001b[0mavg_word2vec\u001b[0m\u001b[0;34m(\u001b[0m\u001b[0mdf\u001b[0m\u001b[0;34m[\u001b[0m\u001b[0;34m'review'\u001b[0m\u001b[0;34m]\u001b[0m\u001b[0;34m.\u001b[0m\u001b[0mvalues\u001b[0m\u001b[0;34m[\u001b[0m\u001b[0;36m0\u001b[0m\u001b[0;34m]\u001b[0m\u001b[0;34m)\u001b[0m\u001b[0;34m\u001b[0m\u001b[0;34m\u001b[0m\u001b[0m\n\u001b[1;32m      5\u001b[0m \u001b[0;34m\u001b[0m\u001b[0m\n",
            "\u001b[0;32m<ipython-input-62-d69452cb1f28>\u001b[0m in \u001b[0;36m<listcomp>\u001b[0;34m(.0)\u001b[0m\n\u001b[1;32m      1\u001b[0m \u001b[0;32mdef\u001b[0m \u001b[0mavg_word2vec\u001b[0m\u001b[0;34m(\u001b[0m\u001b[0mdoc\u001b[0m\u001b[0;34m)\u001b[0m\u001b[0;34m:\u001b[0m\u001b[0;34m\u001b[0m\u001b[0;34m\u001b[0m\u001b[0m\n\u001b[0;32m----> 2\u001b[0;31m   \u001b[0;32mreturn\u001b[0m \u001b[0mnp\u001b[0m\u001b[0;34m.\u001b[0m\u001b[0mmean\u001b[0m\u001b[0;34m(\u001b[0m\u001b[0;34m[\u001b[0m\u001b[0mmodel\u001b[0m\u001b[0;34m.\u001b[0m\u001b[0mwv\u001b[0m\u001b[0;34m[\u001b[0m\u001b[0mword\u001b[0m\u001b[0;34m]\u001b[0m \u001b[0;32mfor\u001b[0m \u001b[0mword\u001b[0m \u001b[0;32min\u001b[0m \u001b[0mdoc\u001b[0m \u001b[0;32mif\u001b[0m \u001b[0mword\u001b[0m \u001b[0;32min\u001b[0m \u001b[0mmodel\u001b[0m\u001b[0;34m.\u001b[0m\u001b[0mwv\u001b[0m\u001b[0;34m.\u001b[0m\u001b[0mindex_to_key\u001b[0m\u001b[0;34m]\u001b[0m\u001b[0;34m,\u001b[0m\u001b[0maxis\u001b[0m\u001b[0;34m=\u001b[0m\u001b[0;36m0\u001b[0m\u001b[0;34m)\u001b[0m\u001b[0;34m\u001b[0m\u001b[0;34m\u001b[0m\u001b[0m\n\u001b[0m\u001b[1;32m      3\u001b[0m \u001b[0;34m\u001b[0m\u001b[0m\n\u001b[1;32m      4\u001b[0m \u001b[0mavg_word2vec\u001b[0m\u001b[0;34m(\u001b[0m\u001b[0mdf\u001b[0m\u001b[0;34m[\u001b[0m\u001b[0;34m'review'\u001b[0m\u001b[0;34m]\u001b[0m\u001b[0;34m.\u001b[0m\u001b[0mvalues\u001b[0m\u001b[0;34m[\u001b[0m\u001b[0;36m0\u001b[0m\u001b[0;34m]\u001b[0m\u001b[0;34m)\u001b[0m\u001b[0;34m\u001b[0m\u001b[0;34m\u001b[0m\u001b[0m\n\u001b[1;32m      5\u001b[0m \u001b[0;34m\u001b[0m\u001b[0m\n",
            "\u001b[0;31mKeyboardInterrupt\u001b[0m: "
          ]
        }
      ],
      "source": [
        "#Use the above function to create a single Nx1 array where N is the number of sentences\n",
        "\n",
        "for doc in tqdm(corpus_sentences[3367:10000]): #look up each doc in model\n",
        "    x.append(avg_word2vec(doc))"
      ]
    },
    {
      "cell_type": "code",
      "execution_count": null,
      "metadata": {
        "id": "8sSDGLLR1DCm",
        "colab": {
          "base_uri": "https://localhost:8080/"
        },
        "outputId": "81f79e79-e410-403c-e65f-296e1c1c5887"
      },
      "outputs": [
        {
          "output_type": "execute_result",
          "data": {
            "text/plain": [
              "3738"
            ]
          },
          "metadata": {},
          "execution_count": 83
        }
      ],
      "source": [
        "len(x)"
      ]
    },
    {
      "cell_type": "code",
      "execution_count": null,
      "metadata": {
        "id": "A9d0AOd9-EuG",
        "colab": {
          "base_uri": "https://localhost:8080/"
        },
        "outputId": "7172c47a-554a-4294-9cc7-d7a54feca06d"
      },
      "outputs": [
        {
          "output_type": "execute_result",
          "data": {
            "text/plain": [
              "array([1, 1, 1, ..., 1, 1, 1])"
            ]
          },
          "metadata": {},
          "execution_count": 84
        }
      ],
      "source": [
        "#Define your X and y (X is your average word2vec array, y is the sentiment)\n",
        "from array import array\n",
        "X =np.array(x)\n",
        "y=pd.get_dummies(df['sentiment'],dtype=int)\n",
        "y=y['positive'].values[:3738]\n",
        "y\n"
      ]
    },
    {
      "cell_type": "code",
      "execution_count": null,
      "metadata": {
        "id": "jpXMkgj1p4DE"
      },
      "outputs": [],
      "source": [
        "#Complete the rest of the classfication problem, i.e perform train test split, fit a model of your choice on the data, and print its classification report\n",
        "from sklearn.model_selection import train_test_split"
      ]
    },
    {
      "cell_type": "code",
      "execution_count": null,
      "metadata": {
        "id": "pI9-AgNgp3oA"
      },
      "outputs": [],
      "source": [
        "import xgboost\n"
      ]
    },
    {
      "cell_type": "code",
      "execution_count": null,
      "metadata": {
        "id": "NjQN200wp3RQ"
      },
      "outputs": [],
      "source": [
        "# np.mean([[1,2,3],[2,3,4],[3,4,5]])\n",
        "# np.mean([2,3,4])"
      ]
    },
    {
      "cell_type": "code",
      "execution_count": null,
      "metadata": {
        "id": "iCQFqne1p3Nw"
      },
      "outputs": [],
      "source": [
        "X_train,X_test,y_train,y_test=train_test_split(X,y,test_size=0.2)\n",
        "\n",
        "XGB=xgboost.XGBClassifier()\n",
        "XGB.fit(X_train,y_train)\n",
        "y_pred=XGB.predict(X_test)\n",
        "\n",
        "#apologies for the accuracy\n"
      ]
    },
    {
      "cell_type": "code",
      "execution_count": null,
      "metadata": {
        "id": "RDcBwff35f6Q",
        "colab": {
          "base_uri": "https://localhost:8080/"
        },
        "outputId": "759cc853-033b-4961-9386-343598522774"
      },
      "outputs": [
        {
          "output_type": "stream",
          "name": "stdout",
          "text": [
            "0.5815508021390374\n",
            "              precision    recall  f1-score   support\n",
            "\n",
            "           0       0.61      0.57      0.59       392\n",
            "           1       0.56      0.60      0.58       356\n",
            "\n",
            "    accuracy                           0.58       748\n",
            "   macro avg       0.58      0.58      0.58       748\n",
            "weighted avg       0.58      0.58      0.58       748\n",
            "\n"
          ]
        }
      ],
      "source": [
        "from sklearn.metrics import accuracy_score, classification_report\n",
        "print(accuracy_score(y_test,y_pred))\n",
        "print(classification_report(y_test,y_pred))"
      ]
    },
    {
      "cell_type": "markdown",
      "metadata": {
        "id": "FLabj102B7o4"
      },
      "source": [
        "# Research Task\n"
      ]
    },
    {
      "cell_type": "markdown",
      "metadata": {
        "id": "6UlZz4ceB_5k"
      },
      "source": [
        "Research how the Bidirectional Encoder Representations from Transformers (BERT) Model creates Word Embeddings and how it maintains context and captures semantic meaning between words and sentences."
      ]
    },
    {
      "cell_type": "markdown",
      "metadata": {
        "id": "cQDk0N3FjStn"
      },
      "source": [
        "BERT Model was introduced in 2018 by some google engineers through the research paper '**BERT: Pre-training of Deep Bidirectional Transformers for Language Understanding**'.\n",
        "\n",
        "BERT language model is an open source machine learning framework for natural language processing (NLP). BERT is designed to help computers understand the meaning of ambiguous language in text by using surrounding text to establish context. The BERT framework was pretrained using text from Wikipedia and can be fine-tuned with question-and-answer data sets.\n",
        "\n",
        "How does BERT create word embeddings which are basically the input data for our models?\n",
        "\n",
        "Historically, language models could only read input text sequentially -- either left-to-right or right-to-left -- but couldn't do both at the same time. BERT is different because it's designed to read in both directions at once. The introduction of transformer models enabled this capability, which is known as bidirectionality.\n",
        "\n",
        "\n",
        "The  input text is  tokenized.Which splits each word of sentence into sub-word tokens. Then these tokens are converted into embeddings(encoded).The tokens are made through assigning ids (random numbers)to the word which are included in the vocabulary.In the tokens some special tokens added which are  SEP and CLS . SEP special token is used for separating different segments or sentences within a single input sequence. It is also should be inserted between two sentences or segments. And the CLS special token is the first token in every input sequence for classification. It is used to represent the entire input sequence in a single vector and called as the “CLS” embedding.\n",
        "\n",
        "Using bidirectionality, BERT is pretrained on two different but related NLP tasks: masked language modeling (MLM) and next sentence prediction (NSP)\n",
        "Masked Language modeling:\n",
        "\n",
        "We simply mask some percentage of the input\n",
        "tokens at random, and then predict those masked tokens.\n",
        "\n",
        "Beyond masking 15% of the input, BERT also mixes things a bit in order to improve how the model later fine-tunes. Sometimes it randomly replaces a word with another word and asks the model to predict the correct word in that position.\n",
        "\n",
        "![image.png](data:image/png;base64,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)\n",
        "\n",
        "\n",
        "\n",
        "\n",
        "NSP:\n",
        "\n",
        "To make BERT better at handling relationships between multiple sentences, the pre-training process includes an additional task: Given two sentences (A and B), is B likely to be the sentence that follows A, or not?.Following picture represents the process.\n",
        "\n",
        "![image.png](data:image/png;base64,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)\n",
        "\n",
        "\n",
        "\n",
        "\n",
        "\n",
        "\n",
        "\n",
        "Resources:\n",
        "https://www.techtarget.com/searchenterpriseai/definition/BERT-language-model\n",
        "\n",
        "https://jalammar.github.io/illustrated-bert/"
      ]
    },
    {
      "cell_type": "code",
      "execution_count": null,
      "metadata": {
        "id": "5jRMGSVxV57p"
      },
      "outputs": [],
      "source": []
    }
  ],
  "metadata": {
    "colab": {
      "gpuType": "T4",
      "provenance": [],
      "include_colab_link": true
    },
    "kernelspec": {
      "display_name": "Python 3",
      "name": "python3"
    },
    "language_info": {
      "codemirror_mode": {
        "name": "ipython",
        "version": 3
      },
      "file_extension": ".py",
      "mimetype": "text/x-python",
      "name": "python",
      "nbconvert_exporter": "python",
      "pygments_lexer": "ipython3",
      "version": "3.12.4"
    }
  },
  "nbformat": 4,
  "nbformat_minor": 0
}