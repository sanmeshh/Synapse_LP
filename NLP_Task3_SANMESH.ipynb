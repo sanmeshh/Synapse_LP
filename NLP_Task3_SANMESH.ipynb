{
  "nbformat": 4,
  "nbformat_minor": 0,
  "metadata": {
    "colab": {
      "provenance": [],
      "gpuType": "T4",
      "include_colab_link": true
    },
    "kernelspec": {
      "name": "python3",
      "display_name": "Python 3"
    },
    "language_info": {
      "name": "python"
    },
    "accelerator": "GPU"
  },
  "cells": [
    {
      "cell_type": "markdown",
      "metadata": {
        "id": "view-in-github",
        "colab_type": "text"
      },
      "source": [
        "<a href=\"https://colab.research.google.com/github/sanmeshh/Synapse_LP/blob/week8/NLP_Task3_SANMESH.ipynb\" target=\"_parent\"><img src=\"https://colab.research.google.com/assets/colab-badge.svg\" alt=\"Open In Colab\"/></a>"
      ]
    },
    {
      "cell_type": "markdown",
      "source": [
        "# **NLP Task 3**\n",
        "\n",
        "## **DJS Synapse Learning Period**\n",
        "![image.png](data:image/png;base64,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)"
      ],
      "metadata": {
        "id": "ewWyhbXsfU-u"
      }
    },
    {
      "cell_type": "markdown",
      "source": [
        "Hello Everyone. Hope you learn and have fun throughout the task!\n",
        "\n",
        "Now, that we have understood how RNN works, let's dive deeper into LSTM and implement it from scratch."
      ],
      "metadata": {
        "id": "IRKiFuZIPFbW"
      }
    },
    {
      "cell_type": "markdown",
      "source": [
        "Refer to the material linked below to understand LSTM in detail.\n",
        "\n",
        "https://weberna.github.io/blog/2017/11/15/LSTM-Vanishing-Gradients.html\n",
        "\n",
        "https://medium.com/@chunduri11/understanding-lstm-plain-and-simple-96026b4468c6\n",
        "\n",
        "https://www.youtube.com/watch?v=YCzL96nL7j0&t=1009s&pp=ygUObHN0bSBzdGF0cXVlc3Q%3D\n",
        "\n",
        "https://medium.com/analytics-vidhya/introduction-to-long-short-term-memory-lstm-a8052cd0d4cd\n",
        "\n",
        "https://medium.com/@anishnama20/understanding-lstm-architecture-pros-and-cons-and-implementation-3e0cca194094"
      ],
      "metadata": {
        "id": "82sBtTYHZStd"
      }
    },
    {
      "cell_type": "markdown",
      "source": [
        "Load and preprocess the data."
      ],
      "metadata": {
        "id": "2nrh2F2xdD7q"
      }
    },
    {
      "cell_type": "code",
      "execution_count": null,
      "metadata": {
        "id": "aPWQiZXPOlQ8"
      },
      "outputs": [],
      "source": [
        "from tqdm import tqdm\n",
        "import numpy as np"
      ]
    },
    {
      "cell_type": "code",
      "source": [
        "##### Data #####\n",
        "data = \"\"\"To be, or not to be, that is the question: Whether \\\n",
        "'tis nobler in the mind to suffer The slings and arrows of ou\\\n",
        "trageous fortune, Or to take arms against a sea of troubles A\\\n",
        "nd by opposing end them. To die—to sleep, No more; and by a s\\\n",
        "leep to say we end The heart-ache and the thousand natural sh\\\n",
        "ocks That flesh is heir to: 'tis a consummation Devoutly to b\\\n",
        "e wish'd. To die, to sleep; To sleep, perchance to dream—ay, \\\n",
        "there's the rub: For in that sleep of death what dreams may c\\\n",
        "ome, When we have shuffled off this mortal coil, Must give us\\\n",
        " pause—there's the respect That makes calamity of so long lif\\\n",
        "e. For who would bear the whips and scorns of time, Th'oppres\\\n",
        "sor's wrong, the proud man's contumely, The pangs of dispriz'\\\n",
        "d love, the law's delay, The insolence of office, and the spu\\\n",
        "rns That patient merit of th'unworthy takes, When he himself \\\n",
        "might his quietus make\"\"\".lower()"
      ],
      "metadata": {
        "id": "jNLoQ5IZQRuR"
      },
      "execution_count": null,
      "outputs": []
    },
    {
      "cell_type": "code",
      "source": [
        "chars = set(data)\n",
        "data_size, char_size = len(data), len(chars)"
      ],
      "metadata": {
        "id": "Mbp2ZtAzQl6M"
      },
      "execution_count": null,
      "outputs": []
    },
    {
      "cell_type": "code",
      "source": [
        "print(f'Data size: {data_size}, Char Size: {char_size}')"
      ],
      "metadata": {
        "colab": {
          "base_uri": "https://localhost:8080/"
        },
        "id": "osolnymQQutt",
        "outputId": "2560f8fe-6180-4fa9-d728-218298164a12"
      },
      "execution_count": null,
      "outputs": [
        {
          "output_type": "stream",
          "name": "stdout",
          "text": [
            "Data size: 866, Char Size: 32\n"
          ]
        }
      ]
    },
    {
      "cell_type": "code",
      "source": [
        "char_to_idx = {c:i for i, c in enumerate(chars)}\n",
        "idx_to_char ={i:c for i,c in enumerate(chars)}"
      ],
      "metadata": {
        "id": "FF8l2QQTQw1q"
      },
      "execution_count": null,
      "outputs": []
    },
    {
      "cell_type": "markdown",
      "source": [
        "Perform train test split"
      ],
      "metadata": {
        "id": "XpudyNBBQ0UP"
      }
    },
    {
      "cell_type": "code",
      "source": [
        "#perform train test split here\n",
        "from sklearn.model_selection import  train_test_split\n",
        "X_train,X_test,y_train,y_test=train_test_split(data[:-1],data[1:],test_size=0.2)\n"
      ],
      "metadata": {
        "id": "gqIB6IV8Qz12"
      },
      "execution_count": null,
      "outputs": []
    },
    {
      "cell_type": "markdown",
      "source": [
        "Define onHotEncoding Function\n"
      ],
      "metadata": {
        "id": "wSfGCQ1bh9Vl"
      }
    },
    {
      "cell_type": "code",
      "source": [],
      "metadata": {
        "id": "i3xDlva4zgFq"
      },
      "execution_count": null,
      "outputs": []
    },
    {
      "cell_type": "code",
      "source": [
        "##### Helper Functions #####\n",
        "def oneHotEncode(text):\n",
        "    output = np.zeros((char_size, 1))\n",
        "    output[char_to_idx[text]] = 1\n",
        "\n",
        "    return output"
      ],
      "metadata": {
        "id": "fBv9U8Q9RADr"
      },
      "execution_count": null,
      "outputs": []
    },
    {
      "cell_type": "markdown",
      "source": [
        "Read about Xavier Initialization.\n",
        "\n",
        "https://cs230.stanford.edu/section/4/"
      ],
      "metadata": {
        "id": "6Wn2OpJQcmLj"
      }
    },
    {
      "cell_type": "code",
      "source": [
        "# Xavier Normalized Initialization\n",
        "def initWeights(input_size, output_size):\n",
        "    return np.random.uniform(-1, 1, (output_size, input_size)) * np.sqrt(6 / (input_size + output_size))"
      ],
      "metadata": {
        "id": "lngBGI2_REac"
      },
      "execution_count": null,
      "outputs": []
    },
    {
      "cell_type": "markdown",
      "source": [
        "Define the Activation Functions required."
      ],
      "metadata": {
        "id": "mLCH8CY3cv9h"
      }
    },
    {
      "cell_type": "code",
      "source": [
        "def sigmoid(input, derivative = False):\n",
        "    if derivative:\n",
        "        return input * (1 - input)\n",
        "\n",
        "\n",
        "\n",
        "    return 1 / (1 + np.exp(-input))"
      ],
      "metadata": {
        "id": "OjjUtx_HRJjS"
      },
      "execution_count": null,
      "outputs": []
    },
    {
      "cell_type": "code",
      "source": [
        "#similarly define tanh activation function here.\n",
        "def tanh(input,derivative=False):\n",
        "    x=input\n",
        "    if derivative:\n",
        "      return 1-(x**2)\n",
        "\n",
        "\n",
        "    z=(np.exp(x)-np.exp(-x))/(np.exp(x)+np.exp(-x))\n",
        "    return z"
      ],
      "metadata": {
        "id": "riH1tRNIRSTr"
      },
      "execution_count": null,
      "outputs": []
    },
    {
      "cell_type": "code",
      "source": [
        "def softmax(input):\n",
        "    return np.exp(input) / np.sum(np.exp(input))"
      ],
      "metadata": {
        "id": "vfQU50nURT8n"
      },
      "execution_count": null,
      "outputs": []
    },
    {
      "cell_type": "markdown",
      "source": [
        "Now, let's implement LSTM from scratch!"
      ],
      "metadata": {
        "id": "JxFTxsI5dJoh"
      }
    },
    {
      "cell_type": "code",
      "source": [
        "class LSTM:\n",
        "    def __init__(self, input_size, hidden_size, output_size, num_epochs, learning_rate):\n",
        "        # Hyperparameters\n",
        "        self.learning_rate = learning_rate\n",
        "        self.hidden_size = hidden_size\n",
        "        self.num_epochs = num_epochs\n",
        "\n",
        "        # Forget Gate\n",
        "        self.wf = initWeights(input_size, hidden_size)\n",
        "        self.bf = np.zeros((hidden_size, 1))\n",
        "\n",
        "        # Input Gate\n",
        "        self.wi = initWeights(input_size, hidden_size)\n",
        "        self.bi = np.zeros((hidden_size, 1))\n",
        "\n",
        "        # Candidate Gate\n",
        "        self.wc = initWeights(input_size, hidden_size)\n",
        "        self.bc = np.zeros((hidden_size, 1))\n",
        "\n",
        "        # Output Gate\n",
        "        self.wo = initWeights(input_size, hidden_size)\n",
        "        self.bo = np.zeros((hidden_size, 1))\n",
        "\n",
        "        # Final Gate\n",
        "        self.wy = initWeights(hidden_size, output_size)\n",
        "        self.by = np.zeros((output_size, 1))\n",
        "\n",
        "    def reset(self):\n",
        "        self.concat_inputs = {}\n",
        "\n",
        "        self.hidden_states = {-1:np.zeros((self.hidden_size, 1))}\n",
        "        self.cell_states = {-1:np.zeros((self.hidden_size, 1))}\n",
        "\n",
        "        self.activation_outputs = {}\n",
        "        self.cell_updates = {}\n",
        "        self.output_gates = {}\n",
        "        self.forget_gates = {}\n",
        "        self.input_gates = {}\n",
        "        self.outputs = {}\n",
        "\n",
        "    def forward(self, inputs):\n",
        "        self.reset()\n",
        "\n",
        "        outputs = []\n",
        "        for q in range(len(inputs)):\n",
        "            self.concat_inputs[q] = np.concatenate((self.hidden_states[q - 1], inputs[q]))\n",
        "\n",
        "            self.forget_gates[q] = sigmoid(np.dot(self.wf, self.concat_inputs[q]) + self.bf)\n",
        "            self.input_gates[q] = sigmoid(np.dot(self.wi, self.concat_inputs[q]) + self.bi)\n",
        "            self.cell_updates[q] = tanh(np.dot(self.wc, self.concat_inputs[q]) + self.bc)\n",
        "            self.output_gates[q] = sigmoid(np.dot(self.wo, self.concat_inputs[q]) + self.bo)\n",
        "\n",
        "            self.cell_states[q] = self.forget_gates[q] * self.cell_states[q - 1] + self.input_gates[q] * self.cell_updates[q]\n",
        "            self.hidden_states[q] = self.output_gates[q] * tanh(self.cell_states[q])\n",
        "\n",
        "            outputs += [np.dot(self.wy, self.hidden_states[q]) + self.by]\n",
        "\n",
        "        return outputs\n",
        "\n",
        "    def backward(self, errors, inputs):\n",
        "        d_wf, d_bf = 0, 0\n",
        "        d_wi, d_bi = 0, 0\n",
        "        d_wc, d_bc = 0, 0\n",
        "        d_wo, d_bo = 0, 0\n",
        "        d_wy, d_by = 0, 0\n",
        "\n",
        "        dh_next, dc_next = np.zeros_like(self.hidden_states[0]), np.zeros_like(self.cell_states[0])\n",
        "        for q in reversed(range(len(inputs))):\n",
        "            error = errors[q]\n",
        "\n",
        "            # Final Gate Weights and Biases Errors\n",
        "            d_wy += np.dot(error, self.hidden_states[q].T)\n",
        "            d_by += error\n",
        "\n",
        "            # Hidden State Error\n",
        "            d_hs = np.dot(self.wy.T, error) + dh_next\n",
        "\n",
        "            # Output Gate Weights and Biases Errors\n",
        "            d_o = tanh(self.cell_states[q]) * d_hs * sigmoid(self.output_gates[q], derivative = True)\n",
        "            d_wo += np.dot(d_o, inputs[q].T)\n",
        "            d_bo += d_o\n",
        "\n",
        "            # Cell State Error\n",
        "            d_cs = tanh(tanh(self.cell_states[q]), derivative = True) * self.output_gates[q] * d_hs + dc_next\n",
        "\n",
        "            # Forget Gate Weights and Biases Errors\n",
        "            d_f = d_cs * self.cell_states[q - 1] * sigmoid(self.forget_gates[q], derivative = True)\n",
        "            d_wf += np.dot(d_f, inputs[q].T)\n",
        "            d_bf += d_f\n",
        "\n",
        "            # Input Gate Weights and Biases Errors\n",
        "            d_i = d_cs * self.cell_updates[q] * sigmoid(self.input_gates[q], derivative = True)\n",
        "            d_wi += np.dot(d_i, inputs[q].T)\n",
        "            d_bi += d_i\n",
        "\n",
        "            # Candidate Gate Weights and Biases Errors\n",
        "            d_c = d_cs * self.input_gates[q] * tanh(self.cell_updates[q], derivative = True)\n",
        "            d_wc += np.dot(d_c, inputs[q].T)\n",
        "            d_bc += d_c\n",
        "\n",
        "            # Concatenated Input Error (Sum of Error at Each Gate!)\n",
        "            d_z = np.dot(self.wf.T, d_f) + np.dot(self.wi.T, d_i) + np.dot(self.wc.T, d_c) + np.dot(self.wo.T, d_o)\n",
        "\n",
        "            # Error of Hidden State and Cell State at Next Time Step\n",
        "            dh_next = d_z[:self.hidden_size, :]\n",
        "            dc_next = self.forget_gates[q] * d_cs\n",
        "\n",
        "        for d_ in (d_wf, d_bf, d_wi, d_bi, d_wc, d_bc, d_wo, d_bo, d_wy, d_by):\n",
        "            np.clip(d_, -1, 1, out = d_)\n",
        "\n",
        "        self.wf += d_wf * self.learning_rate\n",
        "        self.bf += d_bf * self.learning_rate\n",
        "\n",
        "        self.wi += d_wi * self.learning_rate\n",
        "        self.bi += d_bi * self.learning_rate\n",
        "\n",
        "        self.wc += d_wc * self.learning_rate\n",
        "        self.bc += d_bc * self.learning_rate\n",
        "\n",
        "        self.wo += d_wo * self.learning_rate\n",
        "        self.bo += d_bo * self.learning_rate\n",
        "\n",
        "        self.wy += d_wy * self.learning_rate\n",
        "        self.by += d_by * self.learning_rate\n",
        "\n",
        "    def train(self, inputs, labels):\n",
        "        inputs = [oneHotEncode(input) for input in inputs]\n",
        "\n",
        "        for _ in tqdm(range(self.num_epochs)):\n",
        "            predictions = self.forward(inputs)\n",
        "\n",
        "            errors = []\n",
        "            for q in range(len(predictions)):\n",
        "                errors += [-softmax(predictions[q])]\n",
        "                errors[-1][char_to_idx[labels[q]]] += 1\n",
        "\n",
        "            self.backward(errors, self.concat_inputs)\n",
        "\n",
        "    # Test\n",
        "    def test(self, inputs, labels):\n",
        "        accuracy = 0\n",
        "        probabilities = self.forward([oneHotEncode(input) for input in inputs])\n",
        "\n",
        "        output = ''\n",
        "        for q in range(len(labels)):\n",
        "            prediction = idx_to_char[np.random.choice([*range(char_size)], p = softmax(probabilities[q].reshape(-1)))]\n",
        "\n",
        "            output += prediction\n",
        "\n",
        "            if prediction == labels[q]:\n",
        "                accuracy += 1\n",
        "\n",
        "        print(f'Ground Truth:\\nt{labels}\\n')\n",
        "        print(f'Predictions:\\nt{\"\".join(output)}\\n')\n",
        "\n",
        "        print(f'Accuracy: {round(accuracy * 100 / len(inputs), 2)}%')\n",
        "\n"
      ],
      "metadata": {
        "id": "-AUGBfUZ5qON"
      },
      "execution_count": null,
      "outputs": []
    },
    {
      "cell_type": "markdown",
      "source": [
        "Hope you understood the implementation! Explain what you understood in detail.\n",
        "\n",
        "Ans:Firstly the parameters  such as size of the input , size of the hidden state epochs ,etc are intialized. After these parameters,weights and biases for each gate such as forget gate , input gate , candidate gate ,final gate are initialized. The size of the weight matrix of all the gates except final gate\n",
        "is  input size * hidden size whereas the size of the bias matrix is hidden size *1.For the final gate the weight matrix is of size hidden * output.\n",
        "\n",
        "For each input , the hidden state vector and the actual input vector of the given character are concatenated and thereby given to the forget,input,candidate,output gates which help in calcualting the new cell state and the new hidden state vector.\n",
        "\n",
        "In backward propagation , as usual the derivative of the loss function is calculated wrt to  the weights and biases of the output gate and then through the weights and biases of forget gate ,input gate , candidate gate and so on..\n",
        "\n",
        "The model is then trained . The train function one hot encodes the input and uses forward pass to obtain the probability with the help of softmax , of each output.These probabilities help in calculating the errors and these errors are sent to the backpropagation function (backward).The test function then calculates the prediction for each input passed and if the prediction matches the label the accuracy variable is incremented by 1. Then the ratio of the accuracy variable and the length of the inputs is presented as the accuracy of the model.\n",
        "\n",
        "\n",
        "\n",
        "\n",
        "\n",
        "\n",
        "\n",
        "\n",
        "\n",
        "\n"
      ],
      "metadata": {
        "id": "nVMss0aXFv7o"
      }
    },
    {
      "cell_type": "code",
      "source": [
        "#error exactly define kaise?\n",
        "\n",
        "\n",
        "# Initialize Network\n",
        "hidden_size =25   #fill this\n",
        "\n",
        "lstm = LSTM(input_size = char_size + hidden_size, hidden_size = hidden_size, output_size = char_size, num_epochs = 1_000, learning_rate = 0.05)\n",
        "\n",
        "##### Training #####\n",
        "\n",
        "lstm.train(X_train, y_train)\n",
        "\n",
        "##### Testing #####\n",
        "\n",
        "lstm.test(X_train,y_train)\n"
      ],
      "metadata": {
        "colab": {
          "base_uri": "https://localhost:8080/"
        },
        "id": "loaXDn6ZRZsV",
        "outputId": "22acc884-b406-4da3-e8c0-3304036a67e4"
      },
      "execution_count": null,
      "outputs": [
        {
          "output_type": "stream",
          "name": "stderr",
          "text": [
            "100%|██████████| 1000/1000 [01:48<00:00,  9.22it/s]"
          ]
        },
        {
          "output_type": "stream",
          "name": "stdout",
          "text": [
            "Ground Truth:\n",
            "t['e', 'h', 'l', 'y', 'c', 'e', 'o', 't', 'o', 's', 'r', ' ', ' ', ' ', 'i', 'n', 'w', ' ', ' ', 'i', 'h', 't', ' ', 's', ' ', 'a', 'l', 't', 'a', 's', 'l', ' ', 's', 't', 'v', 'e', 's', 'u', ' ', ' ', ' ', 'i', 'o', 'h', 'r', ' ', ' ', 'a', 'e', 'a', 'h', 'e', 'b', 'e', 'e', 'e', 's', ' ', 'o', 't', 'f', ' ', 'e', 'o', 'n', 'o', 'n', 'a', 'e', 's', ' ', 'i', 'n', 'p', 'e', 'u', 'h', ' ', 'l', 'o', \"'\", ' ', 'e', 'd', \"'\", 'e', 'y', 's', 'l', 'h', ' ', ' ', 'e', 'n', 'o', 'h', ' ', 'o', 't', 'd', 'o', 'r', ';', ' ', 'd', 's', 'h', 'o', 't', ' ', 'n', 't', ' ', 'c', 'i', 's', 'i', ' ', ' ', 'e', 'e', 'f', 'o', 'g', 'a', 'h', 'n', 'a', ' ', 'h', ' ', 't', ':', 'l', 'a', 'o', 'o', ' ', ' ', 'o', ' ', 'n', 'r', 's', ' ', '.', 'w', 'r', 'h', 'p', 'i', 'y', 'y', 'a', 'g', 'o', ' ', 's', 'h', 's', 'n', 'i', 'r', ',', 'd', 'o', 'i', ' ', 's', ' ', 'm', ' ', \"'\", 'h', 'm', 'a', 'e', 'e', 'n', 'o', 't', ' ', 'q', ',', 'd', \"'\", 'e', 'o', 'n', ';', 'a', 'm', 'c', 'i', 'u', 'w', ' ', 'e', ' ', 'o', ' ', ' ', 'e', 'f', 'l', 't', 's', 'q', 'h', ' ', 'e', 'e', ' ', ' ', 'n', 't', 'g', 'w', 's', ' ', 't', 't', 'l', 's', 'i', 'i', 'e', 'i', 't', 'b', 'e', 'h', 't', 'u', 'o', 'h', 'e', 'r', 'i', ' ', ' ', 'r', ' ', 'a', ' ', 'h', ' ', 't', ' ', 'r', 'g', 'e', 'm', 't', 't', 's', 'o', ' ', 'o', 's', 'a', 'e', ' ', 'o', 'e', 'a', 'f', 'p', 's', ' ', 't', 'e', 'r', 'e', 't', ' ', 't', 'e', 'f', ',', ' ', 'e', ' ', 'e', 'o', 'm', '.', 'r', 't', 's', 'o', ' ', 'm', ',', ' ', ' ', 'e', '—', 'n', 'o', \"'\", 't', 'r', 't', 'i', 'a', 's', 'f', 'h', 'r', 'p', 'n', ' ', 's', ' ', 'e', 'n', 's', ' ', ' ', 'o', ' ', 'b', 'n', ' ', 'u', \"'\", 'n', 'o', ' ', 'w', 'a', 'l', 'o', ' ', ',', \"'\", 'd', 'n', 'g', ' ', 'c', ' ', ' ', 'e', 'e', 'e', 'a', 't', 'n', 'c', 'v', ' ', ' ', 's', 'h', ',', 'o', 't', 'u', 't', ' ', 'w', 'r', ' ', ' ', 'o', 'h', 'd', ' ', 'l', ' ', 'a', 'c', 'o', 'z', ' ', 'e', 'h', 'm', ' ', 'e', ' ', 'n', 'h', 'o', 'a', 'o', 'k', 's', 's', 'h', ' ', 'i', 'u', 'g', 'e', 't', 't', ' ', 'a', 'e', ' ', ' ', 'l', 'l', ' ', 'l', 'c', 'a', 't', ',', ',', 'e', 'p', 'e', ' ', ':', 'e', ' ', 'r', 'i', ' ', 'e', ' ', 'm', ' ', 's', 'o', 'n', ' ', 'l', 'n', ' ', ' ', 't', 'u', 'o', 'y', 'i', 'f', ' ', 's', ' ', 'e', 'd', 'h', ' ', 'k', 'g', 'i', 'e', 'f', ' ', 'a', 'r', ' ', 'm', 'h', 't', 'd', 't', 'u', 'r', ' ', 'u', 'd', 'l', 'r', 'a', ' ', 'o', 'v', 'u', 'e', 'o', '—', 'e', '—', 's', 'e', 'w', '.', 'd', ' ', 'p', 'p', 's', 'e', ' ', 'a', ' ', ' ', 'o', 'f', 'm', 'o', 'e', 'n', 's', 'n', ' ', ',', 't', 'a', 'a', 's', 's', 'l', ' ', ' ', ' ', 'm', 'f', 'o', 'y', 'v', ' ', 's', 'a', ' ', 'r', 'h', ' ', ' ', 'e', 'a', ' ', 'i', 'l', 'e', 's', 'h', 'p', 'e', 'e', 'd', 't', 'y', 'i', 'i', 't', ' ', 'p', 'e', 's', 'u', 'r', 'd', 'p', 'r', 'n', ' ', 'h', 'n', ' ', 'f', 'o', 'o', 'a', 't', 's', 'e', 't', 'b', 's', 'u', 'a', 'a', 'f', ' ', 'p', 'o', ',', 'a', ' ', 'e', 'a', ' ', ' ', 's', 'n', 'l', 'h', 'e', 'd', ',', 'a', 's', 'r', 's', 'a', 'f', 'r', 'e', 'r', 'c', 't', 'n', ' ', 'e', ',', 'e', 's', 't', 'r', 'l', ',', ' ', 'h', 'g', 't', 'a', 'h', ',', 'o', 'i', ' ', 'i', ' ', ',', 'i', ' ', 'p', 'w', 'm', 'f', 'u', 'e', ' ', 'd', 'r', 't', 'a', ' ', 'm', 'c', 'n', 'n', 'm', 'u', 't', 'h', 'h', ' ', 'o', 'p', 'i', 'l', 'i', 'h', 'e', 'n', 'e', 'h', 'g', 'w', 'u', ' ', 't', 'n', 'o', '-', 'e', 'e', 'a', 'w', 'n', ' ', 'e', ' ', ' ', 't', 'e', 'r', 'w', 'u', 's', 'o', 't', 'e', 'd', 'i', 'n', 'u', 'f', 't', 't', ' ', 'a', 'd', 'm']\n",
            "\n",
            "Predictions:\n",
            "tehlyceotosr   inw  iht s altasl stvesu   iohr  aeahebeees otf eononaes inpeuh lo' ed'eyslh  enoh otdor; dshot nt cisi  eefogahna h t:laoo  o nrs .wrhpiyyago shsnir,doi s m 'hmaeenot q,d'eon;amciuw e o  efltsqh ee  ntgws ttlsiieitbehtuoheri  r a h t rgemttso osae oeafps teret tef, e eom.rtso m,  e—no'trtiasfhrpn s ens  o bn u'no walo ,'dng c  eeeatncv  sh,otut wr  ohd l acoz ehm e nhoaokssh iugett ae  ll lcat,,epe :e ri e m son ln  tuoyif s edh kgief ar mhtdtur udlra ovueo—e—sew.d ppse a  ofmoensn ,taassl   mfoyv sa rh  ea ileshpeedtyiit pesurdprn hn fooatsetbsuaaf po,a ea  snlhed,asrsafrerctn e,estrl, hgtah,oi i ,i pwmfue drta mcnnmuthh opilihenehgwu tno-eeawn e  terwusotedinuftt adm\n",
            "\n",
            "Accuracy: 100.0%\n"
          ]
        },
        {
          "output_type": "stream",
          "name": "stderr",
          "text": [
            "\n"
          ]
        }
      ]
    },
    {
      "cell_type": "markdown",
      "source": [
        "**Machine Translation using Encoder-Decoder**"
      ],
      "metadata": {
        "id": "YrbJvameYvG1"
      }
    },
    {
      "cell_type": "markdown",
      "source": [
        "Read about Encoder-Decoder in the links provided below\n",
        "\n",
        "https://www.youtube.com/watch?v=KiL74WsgxoA&t=292s&pp=ygUcZW5jb2RlciBkZWNvZGVyIGFyY2hpdGVjdHVyZQ%3D%3D\n",
        "\n",
        "https://www.youtube.com/watch?v=L8HKweZIOmg&pp=ygUcZW5jb2RlciBkZWNvZGVyIGFyY2hpdGVjdHVyZQ%3D%3D\n",
        "\n",
        "https://medium.com/analytics-vidhya/machine-translation-encoder-decoder-model-7e4867377161\n",
        "\n",
        "https://medium.com/@anishnama20/exploring-the-power-of-encoder-decoder-models-pros-cons-and-applications-8bfbe2e66e76"
      ],
      "metadata": {
        "id": "ssYSOjf2d3p9"
      }
    },
    {
      "cell_type": "code",
      "source": [
        "import string\n",
        "import re\n",
        "from numpy import array, argmax, random, take\n",
        "import pandas as pd\n",
        "import keras\n",
        "import matplotlib.pyplot as plt\n",
        "import numpy as np"
      ],
      "metadata": {
        "id": "UIP5GhwuYdSi"
      },
      "execution_count": null,
      "outputs": []
    },
    {
      "cell_type": "markdown",
      "source": [
        "Download the dataset provided with the task for this implementation."
      ],
      "metadata": {
        "id": "TV-uCuQAGrpL"
      }
    },
    {
      "cell_type": "code",
      "source": [
        "data_path = \"/content/fra.txt\"\n"
      ],
      "metadata": {
        "id": "95o-IKgTcUkW"
      },
      "execution_count": null,
      "outputs": []
    },
    {
      "cell_type": "code",
      "source": [
        "num_samples = 10000"
      ],
      "metadata": {
        "id": "WDTBobqLcalN"
      },
      "execution_count": null,
      "outputs": []
    },
    {
      "cell_type": "code",
      "source": [
        "# Vectorize the data.\n",
        "input_texts = []\n",
        "target_texts = []\n",
        "input_characters = set()\n",
        "target_characters = set()\n",
        "with open(data_path, \"r\", encoding=\"utf-8\") as f:\n",
        "    lines = f.read().split(\"\\n\")\n",
        "for line in lines[: min(num_samples, len(lines) - 1)]:\n",
        "    input_text, target_text, _ = line.split(\"\\t\")\n",
        "    # We use \"tab\" as the \"start sequence\" character\n",
        "    # for the targets, and \"\\n\" as \"end sequence\" character.\n",
        "    target_text = \"\\t\"+target_text+\"\\n\" #using the above logic fill this line of code\n",
        "    input_texts.append(input_text)\n",
        "    target_texts.append(target_text)\n",
        "    for char in input_text:\n",
        "        if char not in input_characters:\n",
        "            input_characters.add(char)\n",
        "\n",
        "    for char in target_text:\n",
        "      if char not in target_characters:\n",
        "        target_characters.add(char)\n",
        "#     similarly write the code for target_text\n",
        "\n"
      ],
      "metadata": {
        "id": "1IxkMb-dY9rH"
      },
      "execution_count": null,
      "outputs": []
    },
    {
      "cell_type": "code",
      "source": [
        "input_characters = sorted(list(input_characters))\n",
        "target_characters = sorted(list(target_characters))#fill this\n",
        "num_encoder_tokens = len(input_characters)\n",
        "num_decoder_tokens =len(target_characters)                #fill this\n",
        "max_encoder_seq_length = max([len(txt) for txt in input_texts])\n",
        "max_decoder_seq_length = max([len(txt) for txt in target_texts])#fill this"
      ],
      "metadata": {
        "id": "elGq7s2oZA-D"
      },
      "execution_count": null,
      "outputs": []
    },
    {
      "cell_type": "code",
      "source": [
        "print(\"Number of samples:\", len(input_texts))\n",
        "print(\"Number of unique input tokens:\", num_encoder_tokens)\n",
        "print(\"Number of unique output tokens:\", num_decoder_tokens)\n",
        "print(\"Max sequence length for inputs:\", max_encoder_seq_length)\n",
        "print(\"Max sequence length for outputs:\", max_decoder_seq_length)"
      ],
      "metadata": {
        "colab": {
          "base_uri": "https://localhost:8080/"
        },
        "id": "oU2UxNPgZI-u",
        "outputId": "fb1f5b81-c6d8-47e5-a3d1-98b480a32562"
      },
      "execution_count": null,
      "outputs": [
        {
          "output_type": "stream",
          "name": "stdout",
          "text": [
            "Number of samples: 10000\n",
            "Number of unique input tokens: 70\n",
            "Number of unique output tokens: 91\n",
            "Max sequence length for inputs: 14\n",
            "Max sequence length for outputs: 59\n"
          ]
        }
      ]
    },
    {
      "cell_type": "code",
      "source": [
        "input_token_index = dict([(char, i) for i, char in enumerate(input_characters)])\n",
        "target_token_index = dict([(char,i) for i, char in enumerate(target_characters)])"
      ],
      "metadata": {
        "id": "clzOI8YNclEi"
      },
      "execution_count": null,
      "outputs": []
    },
    {
      "cell_type": "code",
      "source": [
        "#why here decoder is len of input texts and blah blah\n",
        "encoder_input_data = np.zeros(\n",
        "    (len(input_texts), max_encoder_seq_length, num_encoder_tokens),\n",
        "    dtype=\"float32\",\n",
        ")\n",
        "decoder_input_data =np.zeros((len(target_texts),max_decoder_seq_length,num_decoder_tokens),dtype=\"float32\") #similarly fill this\n",
        "decoder_target_data = np.zeros(\n",
        "    (len(input_texts), max_decoder_seq_length, num_decoder_tokens),\n",
        "    dtype=\"float32\",\n",
        ")"
      ],
      "metadata": {
        "id": "_oIqWl1gcn2-"
      },
      "execution_count": null,
      "outputs": []
    },
    {
      "cell_type": "code",
      "source": [
        "for i, (input_text, target_text) in enumerate(zip(input_texts, target_texts)):\n",
        "    for t, char in enumerate(input_text):\n",
        "        encoder_input_data[i, t, input_token_index[char]] = 1.0\n",
        "    encoder_input_data[i, t + 1 :, input_token_index[\" \"]] = 1.0\n",
        "    for t, char in enumerate(target_text):\n",
        "        # decoder_target_data is ahead of decoder_input_data by one timestep\n",
        "        decoder_input_data[i, t, target_token_index[char]] = 1.0\n",
        "        if t > 0:\n",
        "            # decoder_target_data will be ahead by one timestep\n",
        "            # and will not include the start character.\n",
        "            decoder_target_data[i, t - 1, target_token_index[char]] = 1.0\n",
        "    decoder_input_data[i, t + 1 :, target_token_index[\" \"]] = 1.0\n",
        "    decoder_target_data[i, t:, target_token_index[\" \"]] = 1.0"
      ],
      "metadata": {
        "id": "Yk3hmkOLcwgZ"
      },
      "execution_count": null,
      "outputs": []
    },
    {
      "cell_type": "code",
      "source": [
        "batch_size = 64  # Batch size for training.\n",
        "epochs = 100  # Number of epochs to train for.\n",
        "latent_dim = 256  # Latent dimensionality of the encoding space"
      ],
      "metadata": {
        "id": "jD8Ng5D6dGr1"
      },
      "execution_count": null,
      "outputs": []
    },
    {
      "cell_type": "code",
      "source": [
        "encoder_inputs = keras.Input(shape=(None, num_encoder_tokens))\n",
        "encoder = keras.layers.LSTM(latent_dim, return_state=True)\n",
        "encoder_outputs, state_h, state_c = encoder(encoder_inputs)"
      ],
      "metadata": {
        "id": "vknpfCvNczP6"
      },
      "execution_count": null,
      "outputs": []
    },
    {
      "cell_type": "code",
      "source": [
        "# We discard `encoder_outputs` and only keep the states.\n",
        "encoder_states =[state_h,state_c] #fill this"
      ],
      "metadata": {
        "id": "D_4xr5Y1dFEK"
      },
      "execution_count": null,
      "outputs": []
    },
    {
      "cell_type": "code",
      "source": [
        "# Set up the decoder, using `encoder_states` as initial state.\n",
        "decoder_inputs = keras.Input(shape=(None, num_decoder_tokens))"
      ],
      "metadata": {
        "id": "4WStsjhhdRFQ"
      },
      "execution_count": null,
      "outputs": []
    },
    {
      "cell_type": "code",
      "source": [
        "# We set up our decoder to return full output sequences,\n",
        "# and to return internal states as well. We don't use the\n",
        "# return states in the training model, but we will use them in inference.\n",
        "decoder_lstm = keras.layers.LSTM(latent_dim, return_sequences=True, return_state=True)\n",
        "decoder_outputs, _, _ = decoder_lstm(decoder_inputs, initial_state=encoder_states)\n",
        "decoder_dense_layer = keras.layers.Dense(num_decoder_tokens, activation=\"softmax\")\n",
        "decoder_outputs = decoder_dense_layer(decoder_outputs)"
      ],
      "metadata": {
        "id": "_4Y_enBydS2-"
      },
      "execution_count": null,
      "outputs": []
    },
    {
      "cell_type": "markdown",
      "source": [
        " Define the model that will turn\n",
        " `encoder_input_data` & `decoder_input_data` into `decoder_target_data`"
      ],
      "metadata": {
        "id": "MJnvF6-xHEUh"
      }
    },
    {
      "cell_type": "code",
      "source": [
        "model = keras.Model([encoder_inputs, decoder_inputs], decoder_outputs)   #run this line of code"
      ],
      "metadata": {
        "id": "jIBkBoWAdVWT"
      },
      "execution_count": null,
      "outputs": []
    },
    {
      "cell_type": "code",
      "source": [
        "#train the model\n",
        "model.compile(optimizer='adam',loss='categorical_crossentropy',metrics=['accuracy'])\n",
        "    #implement appropriate optimizer, loss and accuracy\n",
        "\n",
        "model.fit(\n",
        "    [encoder_input_data, decoder_input_data],\n",
        "    decoder_target_data,\n",
        "    batch_size=batch_size,\n",
        "    epochs=epochs,\n",
        "    validation_split=0.2,\n",
        ")\n",
        "# Save model\n",
        "model.save(\"model.keras\")"
      ],
      "metadata": {
        "id": "HbveFW4Okpsu",
        "colab": {
          "base_uri": "https://localhost:8080/"
        },
        "outputId": "8e9b311f-7ff1-4944-a22e-30545a03a6f1"
      },
      "execution_count": null,
      "outputs": [
        {
          "output_type": "stream",
          "name": "stdout",
          "text": [
            "Epoch 1/100\n",
            "\u001b[1m125/125\u001b[0m \u001b[32m━━━━━━━━━━━━━━━━━━━━\u001b[0m\u001b[37m\u001b[0m \u001b[1m6s\u001b[0m 20ms/step - accuracy: 0.7067 - loss: 1.8287 - val_accuracy: 0.7081 - val_loss: 1.0427\n",
            "Epoch 2/100\n",
            "\u001b[1m125/125\u001b[0m \u001b[32m━━━━━━━━━━━━━━━━━━━━\u001b[0m\u001b[37m\u001b[0m \u001b[1m3s\u001b[0m 13ms/step - accuracy: 0.7512 - loss: 0.9068 - val_accuracy: 0.7615 - val_loss: 0.8845\n",
            "Epoch 3/100\n",
            "\u001b[1m125/125\u001b[0m \u001b[32m━━━━━━━━━━━━━━━━━━━━\u001b[0m\u001b[37m\u001b[0m \u001b[1m1s\u001b[0m 12ms/step - accuracy: 0.7926 - loss: 0.7697 - val_accuracy: 0.7897 - val_loss: 0.7573\n",
            "Epoch 4/100\n",
            "\u001b[1m125/125\u001b[0m \u001b[32m━━━━━━━━━━━━━━━━━━━━\u001b[0m\u001b[37m\u001b[0m \u001b[1m2s\u001b[0m 12ms/step - accuracy: 0.8188 - loss: 0.6508 - val_accuracy: 0.8066 - val_loss: 0.6699\n",
            "Epoch 5/100\n",
            "\u001b[1m125/125\u001b[0m \u001b[32m━━━━━━━━━━━━━━━━━━━━\u001b[0m\u001b[37m\u001b[0m \u001b[1m2s\u001b[0m 11ms/step - accuracy: 0.8335 - loss: 0.5816 - val_accuracy: 0.8223 - val_loss: 0.6182\n",
            "Epoch 6/100\n",
            "\u001b[1m125/125\u001b[0m \u001b[32m━━━━━━━━━━━━━━━━━━━━\u001b[0m\u001b[37m\u001b[0m \u001b[1m3s\u001b[0m 12ms/step - accuracy: 0.8455 - loss: 0.5348 - val_accuracy: 0.8272 - val_loss: 0.5904\n",
            "Epoch 7/100\n",
            "\u001b[1m125/125\u001b[0m \u001b[32m━━━━━━━━━━━━━━━━━━━━\u001b[0m\u001b[37m\u001b[0m \u001b[1m2s\u001b[0m 15ms/step - accuracy: 0.8531 - loss: 0.5076 - val_accuracy: 0.8349 - val_loss: 0.5674\n",
            "Epoch 8/100\n",
            "\u001b[1m125/125\u001b[0m \u001b[32m━━━━━━━━━━━━━━━━━━━━\u001b[0m\u001b[37m\u001b[0m \u001b[1m3s\u001b[0m 20ms/step - accuracy: 0.8580 - loss: 0.4849 - val_accuracy: 0.8385 - val_loss: 0.5524\n",
            "Epoch 9/100\n",
            "\u001b[1m125/125\u001b[0m \u001b[32m━━━━━━━━━━━━━━━━━━━━\u001b[0m\u001b[37m\u001b[0m \u001b[1m3s\u001b[0m 27ms/step - accuracy: 0.8633 - loss: 0.4659 - val_accuracy: 0.8412 - val_loss: 0.5419\n",
            "Epoch 10/100\n",
            "\u001b[1m125/125\u001b[0m \u001b[32m━━━━━━━━━━━━━━━━━━━━\u001b[0m\u001b[37m\u001b[0m \u001b[1m3s\u001b[0m 12ms/step - accuracy: 0.8661 - loss: 0.4567 - val_accuracy: 0.8437 - val_loss: 0.5297\n",
            "Epoch 11/100\n",
            "\u001b[1m125/125\u001b[0m \u001b[32m━━━━━━━━━━━━━━━━━━━━\u001b[0m\u001b[37m\u001b[0m \u001b[1m2s\u001b[0m 14ms/step - accuracy: 0.8693 - loss: 0.4408 - val_accuracy: 0.8463 - val_loss: 0.5192\n",
            "Epoch 12/100\n",
            "\u001b[1m125/125\u001b[0m \u001b[32m━━━━━━━━━━━━━━━━━━━━\u001b[0m\u001b[37m\u001b[0m \u001b[1m2s\u001b[0m 13ms/step - accuracy: 0.8745 - loss: 0.4224 - val_accuracy: 0.8497 - val_loss: 0.5102\n",
            "Epoch 13/100\n",
            "\u001b[1m125/125\u001b[0m \u001b[32m━━━━━━━━━━━━━━━━━━━━\u001b[0m\u001b[37m\u001b[0m \u001b[1m2s\u001b[0m 11ms/step - accuracy: 0.8767 - loss: 0.4145 - val_accuracy: 0.8522 - val_loss: 0.5009\n",
            "Epoch 14/100\n",
            "\u001b[1m125/125\u001b[0m \u001b[32m━━━━━━━━━━━━━━━━━━━━\u001b[0m\u001b[37m\u001b[0m \u001b[1m3s\u001b[0m 11ms/step - accuracy: 0.8801 - loss: 0.4034 - val_accuracy: 0.8558 - val_loss: 0.4906\n",
            "Epoch 15/100\n",
            "\u001b[1m125/125\u001b[0m \u001b[32m━━━━━━━━━━━━━━━━━━━━\u001b[0m\u001b[37m\u001b[0m \u001b[1m3s\u001b[0m 12ms/step - accuracy: 0.8833 - loss: 0.3904 - val_accuracy: 0.8581 - val_loss: 0.4854\n",
            "Epoch 16/100\n",
            "\u001b[1m125/125\u001b[0m \u001b[32m━━━━━━━━━━━━━━━━━━━━\u001b[0m\u001b[37m\u001b[0m \u001b[1m3s\u001b[0m 12ms/step - accuracy: 0.8865 - loss: 0.3793 - val_accuracy: 0.8593 - val_loss: 0.4789\n",
            "Epoch 17/100\n",
            "\u001b[1m125/125\u001b[0m \u001b[32m━━━━━━━━━━━━━━━━━━━━\u001b[0m\u001b[37m\u001b[0m \u001b[1m3s\u001b[0m 12ms/step - accuracy: 0.8892 - loss: 0.3716 - val_accuracy: 0.8604 - val_loss: 0.4741\n",
            "Epoch 18/100\n",
            "\u001b[1m125/125\u001b[0m \u001b[32m━━━━━━━━━━━━━━━━━━━━\u001b[0m\u001b[37m\u001b[0m \u001b[1m1s\u001b[0m 11ms/step - accuracy: 0.8918 - loss: 0.3621 - val_accuracy: 0.8623 - val_loss: 0.4681\n",
            "Epoch 19/100\n",
            "\u001b[1m125/125\u001b[0m \u001b[32m━━━━━━━━━━━━━━━━━━━━\u001b[0m\u001b[37m\u001b[0m \u001b[1m1s\u001b[0m 11ms/step - accuracy: 0.8940 - loss: 0.3528 - val_accuracy: 0.8633 - val_loss: 0.4628\n",
            "Epoch 20/100\n",
            "\u001b[1m125/125\u001b[0m \u001b[32m━━━━━━━━━━━━━━━━━━━━\u001b[0m\u001b[37m\u001b[0m \u001b[1m3s\u001b[0m 11ms/step - accuracy: 0.8982 - loss: 0.3410 - val_accuracy: 0.8652 - val_loss: 0.4595\n",
            "Epoch 21/100\n",
            "\u001b[1m125/125\u001b[0m \u001b[32m━━━━━━━━━━━━━━━━━━━━\u001b[0m\u001b[37m\u001b[0m \u001b[1m3s\u001b[0m 12ms/step - accuracy: 0.9003 - loss: 0.3330 - val_accuracy: 0.8666 - val_loss: 0.4538\n",
            "Epoch 22/100\n",
            "\u001b[1m125/125\u001b[0m \u001b[32m━━━━━━━━━━━━━━━━━━━━\u001b[0m\u001b[37m\u001b[0m \u001b[1m3s\u001b[0m 15ms/step - accuracy: 0.9034 - loss: 0.3225 - val_accuracy: 0.8671 - val_loss: 0.4529\n",
            "Epoch 23/100\n",
            "\u001b[1m125/125\u001b[0m \u001b[32m━━━━━━━━━━━━━━━━━━━━\u001b[0m\u001b[37m\u001b[0m \u001b[1m2s\u001b[0m 15ms/step - accuracy: 0.9066 - loss: 0.3124 - val_accuracy: 0.8691 - val_loss: 0.4479\n",
            "Epoch 24/100\n",
            "\u001b[1m125/125\u001b[0m \u001b[32m━━━━━━━━━━━━━━━━━━━━\u001b[0m\u001b[37m\u001b[0m \u001b[1m2s\u001b[0m 11ms/step - accuracy: 0.9088 - loss: 0.3040 - val_accuracy: 0.8697 - val_loss: 0.4459\n",
            "Epoch 25/100\n",
            "\u001b[1m125/125\u001b[0m \u001b[32m━━━━━━━━━━━━━━━━━━━━\u001b[0m\u001b[37m\u001b[0m \u001b[1m3s\u001b[0m 14ms/step - accuracy: 0.9106 - loss: 0.2986 - val_accuracy: 0.8704 - val_loss: 0.4448\n",
            "Epoch 26/100\n",
            "\u001b[1m125/125\u001b[0m \u001b[32m━━━━━━━━━━━━━━━━━━━━\u001b[0m\u001b[37m\u001b[0m \u001b[1m2s\u001b[0m 11ms/step - accuracy: 0.9142 - loss: 0.2876 - val_accuracy: 0.8716 - val_loss: 0.4401\n",
            "Epoch 27/100\n",
            "\u001b[1m125/125\u001b[0m \u001b[32m━━━━━━━━━━━━━━━━━━━━\u001b[0m\u001b[37m\u001b[0m \u001b[1m2s\u001b[0m 15ms/step - accuracy: 0.9168 - loss: 0.2787 - val_accuracy: 0.8718 - val_loss: 0.4410\n",
            "Epoch 28/100\n",
            "\u001b[1m125/125\u001b[0m \u001b[32m━━━━━━━━━━━━━━━━━━━━\u001b[0m\u001b[37m\u001b[0m \u001b[1m2s\u001b[0m 14ms/step - accuracy: 0.9182 - loss: 0.2717 - val_accuracy: 0.8727 - val_loss: 0.4383\n",
            "Epoch 29/100\n",
            "\u001b[1m125/125\u001b[0m \u001b[32m━━━━━━━━━━━━━━━━━━━━\u001b[0m\u001b[37m\u001b[0m \u001b[1m1s\u001b[0m 11ms/step - accuracy: 0.9211 - loss: 0.2632 - val_accuracy: 0.8736 - val_loss: 0.4369\n",
            "Epoch 30/100\n",
            "\u001b[1m125/125\u001b[0m \u001b[32m━━━━━━━━━━━━━━━━━━━━\u001b[0m\u001b[37m\u001b[0m \u001b[1m1s\u001b[0m 12ms/step - accuracy: 0.9156 - loss: 0.2823 - val_accuracy: 0.8690 - val_loss: 0.4506\n",
            "Epoch 31/100\n",
            "\u001b[1m125/125\u001b[0m \u001b[32m━━━━━━━━━━━━━━━━━━━━\u001b[0m\u001b[37m\u001b[0m \u001b[1m2s\u001b[0m 15ms/step - accuracy: 0.9083 - loss: 0.3050 - val_accuracy: 0.8734 - val_loss: 0.4348\n",
            "Epoch 32/100\n",
            "\u001b[1m125/125\u001b[0m \u001b[32m━━━━━━━━━━━━━━━━━━━━\u001b[0m\u001b[37m\u001b[0m \u001b[1m2s\u001b[0m 11ms/step - accuracy: 0.9182 - loss: 0.2723 - val_accuracy: 0.8743 - val_loss: 0.4338\n",
            "Epoch 33/100\n",
            "\u001b[1m125/125\u001b[0m \u001b[32m━━━━━━━━━━━━━━━━━━━━\u001b[0m\u001b[37m\u001b[0m \u001b[1m3s\u001b[0m 11ms/step - accuracy: 0.9225 - loss: 0.2583 - val_accuracy: 0.8753 - val_loss: 0.4333\n",
            "Epoch 34/100\n",
            "\u001b[1m125/125\u001b[0m \u001b[32m━━━━━━━━━━━━━━━━━━━━\u001b[0m\u001b[37m\u001b[0m \u001b[1m3s\u001b[0m 14ms/step - accuracy: 0.9260 - loss: 0.2465 - val_accuracy: 0.8753 - val_loss: 0.4350\n",
            "Epoch 35/100\n",
            "\u001b[1m125/125\u001b[0m \u001b[32m━━━━━━━━━━━━━━━━━━━━\u001b[0m\u001b[37m\u001b[0m \u001b[1m1s\u001b[0m 11ms/step - accuracy: 0.9290 - loss: 0.2374 - val_accuracy: 0.8765 - val_loss: 0.4349\n",
            "Epoch 36/100\n",
            "\u001b[1m125/125\u001b[0m \u001b[32m━━━━━━━━━━━━━━━━━━━━\u001b[0m\u001b[37m\u001b[0m \u001b[1m1s\u001b[0m 11ms/step - accuracy: 0.9307 - loss: 0.2307 - val_accuracy: 0.8753 - val_loss: 0.4385\n",
            "Epoch 37/100\n",
            "\u001b[1m125/125\u001b[0m \u001b[32m━━━━━━━━━━━━━━━━━━━━\u001b[0m\u001b[37m\u001b[0m \u001b[1m1s\u001b[0m 11ms/step - accuracy: 0.9334 - loss: 0.2219 - val_accuracy: 0.8762 - val_loss: 0.4369\n",
            "Epoch 38/100\n",
            "\u001b[1m125/125\u001b[0m \u001b[32m━━━━━━━━━━━━━━━━━━━━\u001b[0m\u001b[37m\u001b[0m \u001b[1m3s\u001b[0m 11ms/step - accuracy: 0.9350 - loss: 0.2161 - val_accuracy: 0.8770 - val_loss: 0.4398\n",
            "Epoch 39/100\n",
            "\u001b[1m125/125\u001b[0m \u001b[32m━━━━━━━━━━━━━━━━━━━━\u001b[0m\u001b[37m\u001b[0m \u001b[1m1s\u001b[0m 11ms/step - accuracy: 0.9368 - loss: 0.2092 - val_accuracy: 0.8769 - val_loss: 0.4408\n",
            "Epoch 40/100\n",
            "\u001b[1m125/125\u001b[0m \u001b[32m━━━━━━━━━━━━━━━━━━━━\u001b[0m\u001b[37m\u001b[0m \u001b[1m3s\u001b[0m 13ms/step - accuracy: 0.9390 - loss: 0.2027 - val_accuracy: 0.8764 - val_loss: 0.4415\n",
            "Epoch 41/100\n",
            "\u001b[1m125/125\u001b[0m \u001b[32m━━━━━━━━━━━━━━━━━━━━\u001b[0m\u001b[37m\u001b[0m \u001b[1m2s\u001b[0m 12ms/step - accuracy: 0.9395 - loss: 0.1996 - val_accuracy: 0.8774 - val_loss: 0.4462\n",
            "Epoch 42/100\n",
            "\u001b[1m125/125\u001b[0m \u001b[32m━━━━━━━━━━━━━━━━━━━━\u001b[0m\u001b[37m\u001b[0m \u001b[1m2s\u001b[0m 12ms/step - accuracy: 0.9423 - loss: 0.1914 - val_accuracy: 0.8775 - val_loss: 0.4471\n",
            "Epoch 43/100\n",
            "\u001b[1m125/125\u001b[0m \u001b[32m━━━━━━━━━━━━━━━━━━━━\u001b[0m\u001b[37m\u001b[0m \u001b[1m1s\u001b[0m 11ms/step - accuracy: 0.9439 - loss: 0.1855 - val_accuracy: 0.8783 - val_loss: 0.4464\n",
            "Epoch 44/100\n",
            "\u001b[1m125/125\u001b[0m \u001b[32m━━━━━━━━━━━━━━━━━━━━\u001b[0m\u001b[37m\u001b[0m \u001b[1m1s\u001b[0m 11ms/step - accuracy: 0.9451 - loss: 0.1809 - val_accuracy: 0.8778 - val_loss: 0.4520\n",
            "Epoch 45/100\n",
            "\u001b[1m125/125\u001b[0m \u001b[32m━━━━━━━━━━━━━━━━━━━━\u001b[0m\u001b[37m\u001b[0m \u001b[1m1s\u001b[0m 11ms/step - accuracy: 0.9468 - loss: 0.1756 - val_accuracy: 0.8774 - val_loss: 0.4568\n",
            "Epoch 46/100\n",
            "\u001b[1m125/125\u001b[0m \u001b[32m━━━━━━━━━━━━━━━━━━━━\u001b[0m\u001b[37m\u001b[0m \u001b[1m1s\u001b[0m 11ms/step - accuracy: 0.9480 - loss: 0.1705 - val_accuracy: 0.8777 - val_loss: 0.4600\n",
            "Epoch 47/100\n",
            "\u001b[1m125/125\u001b[0m \u001b[32m━━━━━━━━━━━━━━━━━━━━\u001b[0m\u001b[37m\u001b[0m \u001b[1m2s\u001b[0m 14ms/step - accuracy: 0.9508 - loss: 0.1629 - val_accuracy: 0.8771 - val_loss: 0.4630\n",
            "Epoch 48/100\n",
            "\u001b[1m125/125\u001b[0m \u001b[32m━━━━━━━━━━━━━━━━━━━━\u001b[0m\u001b[37m\u001b[0m \u001b[1m2s\u001b[0m 15ms/step - accuracy: 0.9520 - loss: 0.1584 - val_accuracy: 0.8777 - val_loss: 0.4628\n",
            "Epoch 49/100\n",
            "\u001b[1m125/125\u001b[0m \u001b[32m━━━━━━━━━━━━━━━━━━━━\u001b[0m\u001b[37m\u001b[0m \u001b[1m2s\u001b[0m 11ms/step - accuracy: 0.9532 - loss: 0.1529 - val_accuracy: 0.8772 - val_loss: 0.4669\n",
            "Epoch 50/100\n",
            "\u001b[1m125/125\u001b[0m \u001b[32m━━━━━━━━━━━━━━━━━━━━\u001b[0m\u001b[37m\u001b[0m \u001b[1m1s\u001b[0m 11ms/step - accuracy: 0.9543 - loss: 0.1510 - val_accuracy: 0.8766 - val_loss: 0.4768\n",
            "Epoch 51/100\n",
            "\u001b[1m125/125\u001b[0m \u001b[32m━━━━━━━━━━━━━━━━━━━━\u001b[0m\u001b[37m\u001b[0m \u001b[1m1s\u001b[0m 12ms/step - accuracy: 0.9555 - loss: 0.1448 - val_accuracy: 0.8774 - val_loss: 0.4764\n",
            "Epoch 52/100\n",
            "\u001b[1m125/125\u001b[0m \u001b[32m━━━━━━━━━━━━━━━━━━━━\u001b[0m\u001b[37m\u001b[0m \u001b[1m1s\u001b[0m 11ms/step - accuracy: 0.9567 - loss: 0.1409 - val_accuracy: 0.8777 - val_loss: 0.4815\n",
            "Epoch 53/100\n",
            "\u001b[1m125/125\u001b[0m \u001b[32m━━━━━━━━━━━━━━━━━━━━\u001b[0m\u001b[37m\u001b[0m \u001b[1m1s\u001b[0m 11ms/step - accuracy: 0.9585 - loss: 0.1361 - val_accuracy: 0.8776 - val_loss: 0.4859\n",
            "Epoch 54/100\n",
            "\u001b[1m125/125\u001b[0m \u001b[32m━━━━━━━━━━━━━━━━━━━━\u001b[0m\u001b[37m\u001b[0m \u001b[1m1s\u001b[0m 12ms/step - accuracy: 0.9602 - loss: 0.1312 - val_accuracy: 0.8763 - val_loss: 0.4915\n",
            "Epoch 55/100\n",
            "\u001b[1m125/125\u001b[0m \u001b[32m━━━━━━━━━━━━━━━━━━━━\u001b[0m\u001b[37m\u001b[0m \u001b[1m2s\u001b[0m 14ms/step - accuracy: 0.9615 - loss: 0.1268 - val_accuracy: 0.8770 - val_loss: 0.4946\n",
            "Epoch 56/100\n",
            "\u001b[1m125/125\u001b[0m \u001b[32m━━━━━━━━━━━━━━━━━━━━\u001b[0m\u001b[37m\u001b[0m \u001b[1m2s\u001b[0m 12ms/step - accuracy: 0.9631 - loss: 0.1215 - val_accuracy: 0.8769 - val_loss: 0.5018\n",
            "Epoch 57/100\n",
            "\u001b[1m125/125\u001b[0m \u001b[32m━━━━━━━━━━━━━━━━━━━━\u001b[0m\u001b[37m\u001b[0m \u001b[1m2s\u001b[0m 11ms/step - accuracy: 0.9630 - loss: 0.1205 - val_accuracy: 0.8767 - val_loss: 0.5053\n",
            "Epoch 58/100\n",
            "\u001b[1m125/125\u001b[0m \u001b[32m━━━━━━━━━━━━━━━━━━━━\u001b[0m\u001b[37m\u001b[0m \u001b[1m1s\u001b[0m 12ms/step - accuracy: 0.9651 - loss: 0.1143 - val_accuracy: 0.8757 - val_loss: 0.5121\n",
            "Epoch 59/100\n",
            "\u001b[1m125/125\u001b[0m \u001b[32m━━━━━━━━━━━━━━━━━━━━\u001b[0m\u001b[37m\u001b[0m \u001b[1m1s\u001b[0m 12ms/step - accuracy: 0.9652 - loss: 0.1126 - val_accuracy: 0.8758 - val_loss: 0.5162\n",
            "Epoch 60/100\n",
            "\u001b[1m125/125\u001b[0m \u001b[32m━━━━━━━━━━━━━━━━━━━━\u001b[0m\u001b[37m\u001b[0m \u001b[1m3s\u001b[0m 12ms/step - accuracy: 0.9663 - loss: 0.1078 - val_accuracy: 0.8764 - val_loss: 0.5193\n",
            "Epoch 61/100\n",
            "\u001b[1m125/125\u001b[0m \u001b[32m━━━━━━━━━━━━━━━━━━━━\u001b[0m\u001b[37m\u001b[0m \u001b[1m3s\u001b[0m 15ms/step - accuracy: 0.9683 - loss: 0.1035 - val_accuracy: 0.8754 - val_loss: 0.5274\n",
            "Epoch 62/100\n",
            "\u001b[1m125/125\u001b[0m \u001b[32m━━━━━━━━━━━━━━━━━━━━\u001b[0m\u001b[37m\u001b[0m \u001b[1m1s\u001b[0m 12ms/step - accuracy: 0.9690 - loss: 0.1005 - val_accuracy: 0.8752 - val_loss: 0.5349\n",
            "Epoch 63/100\n",
            "\u001b[1m125/125\u001b[0m \u001b[32m━━━━━━━━━━━━━━━━━━━━\u001b[0m\u001b[37m\u001b[0m \u001b[1m3s\u001b[0m 12ms/step - accuracy: 0.9697 - loss: 0.0985 - val_accuracy: 0.8762 - val_loss: 0.5342\n",
            "Epoch 64/100\n",
            "\u001b[1m125/125\u001b[0m \u001b[32m━━━━━━━━━━━━━━━━━━━━\u001b[0m\u001b[37m\u001b[0m \u001b[1m2s\u001b[0m 12ms/step - accuracy: 0.9706 - loss: 0.0947 - val_accuracy: 0.8753 - val_loss: 0.5442\n",
            "Epoch 65/100\n",
            "\u001b[1m125/125\u001b[0m \u001b[32m━━━━━━━━━━━━━━━━━━━━\u001b[0m\u001b[37m\u001b[0m \u001b[1m3s\u001b[0m 12ms/step - accuracy: 0.9722 - loss: 0.0897 - val_accuracy: 0.8740 - val_loss: 0.5501\n",
            "Epoch 66/100\n",
            "\u001b[1m125/125\u001b[0m \u001b[32m━━━━━━━━━━━━━━━━━━━━\u001b[0m\u001b[37m\u001b[0m \u001b[1m3s\u001b[0m 13ms/step - accuracy: 0.9721 - loss: 0.0894 - val_accuracy: 0.8750 - val_loss: 0.5573\n",
            "Epoch 67/100\n",
            "\u001b[1m125/125\u001b[0m \u001b[32m━━━━━━━━━━━━━━━━━━━━\u001b[0m\u001b[37m\u001b[0m \u001b[1m2s\u001b[0m 16ms/step - accuracy: 0.9729 - loss: 0.0863 - val_accuracy: 0.8755 - val_loss: 0.5592\n",
            "Epoch 68/100\n",
            "\u001b[1m125/125\u001b[0m \u001b[32m━━━━━━━━━━━━━━━━━━━━\u001b[0m\u001b[37m\u001b[0m \u001b[1m1s\u001b[0m 12ms/step - accuracy: 0.9739 - loss: 0.0837 - val_accuracy: 0.8742 - val_loss: 0.5609\n",
            "Epoch 69/100\n",
            "\u001b[1m125/125\u001b[0m \u001b[32m━━━━━━━━━━━━━━━━━━━━\u001b[0m\u001b[37m\u001b[0m \u001b[1m3s\u001b[0m 13ms/step - accuracy: 0.9744 - loss: 0.0817 - val_accuracy: 0.8739 - val_loss: 0.5708\n",
            "Epoch 70/100\n",
            "\u001b[1m125/125\u001b[0m \u001b[32m━━━━━━━━━━━━━━━━━━━━\u001b[0m\u001b[37m\u001b[0m \u001b[1m1s\u001b[0m 12ms/step - accuracy: 0.9760 - loss: 0.0777 - val_accuracy: 0.8753 - val_loss: 0.5732\n",
            "Epoch 71/100\n",
            "\u001b[1m125/125\u001b[0m \u001b[32m━━━━━━━━━━━━━━━━━━━━\u001b[0m\u001b[37m\u001b[0m \u001b[1m3s\u001b[0m 11ms/step - accuracy: 0.9767 - loss: 0.0752 - val_accuracy: 0.8726 - val_loss: 0.5893\n",
            "Epoch 72/100\n",
            "\u001b[1m125/125\u001b[0m \u001b[32m━━━━━━━━━━━━━━━━━━━━\u001b[0m\u001b[37m\u001b[0m \u001b[1m3s\u001b[0m 13ms/step - accuracy: 0.9767 - loss: 0.0734 - val_accuracy: 0.8751 - val_loss: 0.5836\n",
            "Epoch 73/100\n",
            "\u001b[1m125/125\u001b[0m \u001b[32m━━━━━━━━━━━━━━━━━━━━\u001b[0m\u001b[37m\u001b[0m \u001b[1m3s\u001b[0m 12ms/step - accuracy: 0.9775 - loss: 0.0708 - val_accuracy: 0.8736 - val_loss: 0.5964\n",
            "Epoch 74/100\n",
            "\u001b[1m125/125\u001b[0m \u001b[32m━━━━━━━━━━━━━━━━━━━━\u001b[0m\u001b[37m\u001b[0m \u001b[1m2s\u001b[0m 11ms/step - accuracy: 0.9782 - loss: 0.0691 - val_accuracy: 0.8738 - val_loss: 0.5993\n",
            "Epoch 75/100\n",
            "\u001b[1m125/125\u001b[0m \u001b[32m━━━━━━━━━━━━━━━━━━━━\u001b[0m\u001b[37m\u001b[0m \u001b[1m1s\u001b[0m 11ms/step - accuracy: 0.9784 - loss: 0.0681 - val_accuracy: 0.8730 - val_loss: 0.6076\n",
            "Epoch 76/100\n",
            "\u001b[1m125/125\u001b[0m \u001b[32m━━━━━━━━━━━━━━━━━━━━\u001b[0m\u001b[37m\u001b[0m \u001b[1m1s\u001b[0m 12ms/step - accuracy: 0.9794 - loss: 0.0648 - val_accuracy: 0.8737 - val_loss: 0.6127\n",
            "Epoch 77/100\n",
            "\u001b[1m125/125\u001b[0m \u001b[32m━━━━━━━━━━━━━━━━━━━━\u001b[0m\u001b[37m\u001b[0m \u001b[1m1s\u001b[0m 12ms/step - accuracy: 0.9797 - loss: 0.0635 - val_accuracy: 0.8742 - val_loss: 0.6096\n",
            "Epoch 78/100\n",
            "\u001b[1m125/125\u001b[0m \u001b[32m━━━━━━━━━━━━━━━━━━━━\u001b[0m\u001b[37m\u001b[0m \u001b[1m3s\u001b[0m 13ms/step - accuracy: 0.9792 - loss: 0.0642 - val_accuracy: 0.8741 - val_loss: 0.6141\n",
            "Epoch 79/100\n",
            "\u001b[1m125/125\u001b[0m \u001b[32m━━━━━━━━━━━━━━━━━━━━\u001b[0m\u001b[37m\u001b[0m \u001b[1m2s\u001b[0m 15ms/step - accuracy: 0.9807 - loss: 0.0602 - val_accuracy: 0.8742 - val_loss: 0.6229\n",
            "Epoch 80/100\n",
            "\u001b[1m125/125\u001b[0m \u001b[32m━━━━━━━━━━━━━━━━━━━━\u001b[0m\u001b[37m\u001b[0m \u001b[1m2s\u001b[0m 12ms/step - accuracy: 0.9811 - loss: 0.0587 - val_accuracy: 0.8745 - val_loss: 0.6246\n",
            "Epoch 81/100\n",
            "\u001b[1m125/125\u001b[0m \u001b[32m━━━━━━━━━━━━━━━━━━━━\u001b[0m\u001b[37m\u001b[0m \u001b[1m3s\u001b[0m 12ms/step - accuracy: 0.9814 - loss: 0.0567 - val_accuracy: 0.8733 - val_loss: 0.6369\n",
            "Epoch 82/100\n",
            "\u001b[1m125/125\u001b[0m \u001b[32m━━━━━━━━━━━━━━━━━━━━\u001b[0m\u001b[37m\u001b[0m \u001b[1m3s\u001b[0m 12ms/step - accuracy: 0.9819 - loss: 0.0564 - val_accuracy: 0.8733 - val_loss: 0.6385\n",
            "Epoch 83/100\n",
            "\u001b[1m125/125\u001b[0m \u001b[32m━━━━━━━━━━━━━━━━━━━━\u001b[0m\u001b[37m\u001b[0m \u001b[1m1s\u001b[0m 11ms/step - accuracy: 0.9820 - loss: 0.0549 - val_accuracy: 0.8733 - val_loss: 0.6452\n",
            "Epoch 84/100\n",
            "\u001b[1m125/125\u001b[0m \u001b[32m━━━━━━━━━━━━━━━━━━━━\u001b[0m\u001b[37m\u001b[0m \u001b[1m3s\u001b[0m 14ms/step - accuracy: 0.9825 - loss: 0.0534 - val_accuracy: 0.8730 - val_loss: 0.6480\n",
            "Epoch 85/100\n",
            "\u001b[1m125/125\u001b[0m \u001b[32m━━━━━━━━━━━━━━━━━━━━\u001b[0m\u001b[37m\u001b[0m \u001b[1m2s\u001b[0m 15ms/step - accuracy: 0.9823 - loss: 0.0534 - val_accuracy: 0.8738 - val_loss: 0.6491\n",
            "Epoch 86/100\n",
            "\u001b[1m125/125\u001b[0m \u001b[32m━━━━━━━━━━━━━━━━━━━━\u001b[0m\u001b[37m\u001b[0m \u001b[1m2s\u001b[0m 12ms/step - accuracy: 0.9833 - loss: 0.0510 - val_accuracy: 0.8723 - val_loss: 0.6645\n",
            "Epoch 87/100\n",
            "\u001b[1m125/125\u001b[0m \u001b[32m━━━━━━━━━━━━━━━━━━━━\u001b[0m\u001b[37m\u001b[0m \u001b[1m1s\u001b[0m 12ms/step - accuracy: 0.9830 - loss: 0.0507 - val_accuracy: 0.8727 - val_loss: 0.6585\n",
            "Epoch 88/100\n",
            "\u001b[1m125/125\u001b[0m \u001b[32m━━━━━━━━━━━━━━━━━━━━\u001b[0m\u001b[37m\u001b[0m \u001b[1m2s\u001b[0m 12ms/step - accuracy: 0.9834 - loss: 0.0502 - val_accuracy: 0.8731 - val_loss: 0.6676\n",
            "Epoch 89/100\n",
            "\u001b[1m125/125\u001b[0m \u001b[32m━━━━━━━━━━━━━━━━━━━━\u001b[0m\u001b[37m\u001b[0m \u001b[1m3s\u001b[0m 13ms/step - accuracy: 0.9839 - loss: 0.0478 - val_accuracy: 0.8722 - val_loss: 0.6703\n",
            "Epoch 90/100\n",
            "\u001b[1m125/125\u001b[0m \u001b[32m━━━━━━━━━━━━━━━━━━━━\u001b[0m\u001b[37m\u001b[0m \u001b[1m2s\u001b[0m 12ms/step - accuracy: 0.9836 - loss: 0.0490 - val_accuracy: 0.8730 - val_loss: 0.6713\n",
            "Epoch 91/100\n",
            "\u001b[1m125/125\u001b[0m \u001b[32m━━━━━━━━━━━━━━━━━━━━\u001b[0m\u001b[37m\u001b[0m \u001b[1m2s\u001b[0m 14ms/step - accuracy: 0.9842 - loss: 0.0465 - val_accuracy: 0.8725 - val_loss: 0.6780\n",
            "Epoch 92/100\n",
            "\u001b[1m125/125\u001b[0m \u001b[32m━━━━━━━━━━━━━━━━━━━━\u001b[0m\u001b[37m\u001b[0m \u001b[1m2s\u001b[0m 13ms/step - accuracy: 0.9846 - loss: 0.0462 - val_accuracy: 0.8723 - val_loss: 0.6786\n",
            "Epoch 93/100\n",
            "\u001b[1m125/125\u001b[0m \u001b[32m━━━━━━━━━━━━━━━━━━━━\u001b[0m\u001b[37m\u001b[0m \u001b[1m1s\u001b[0m 12ms/step - accuracy: 0.9848 - loss: 0.0451 - val_accuracy: 0.8729 - val_loss: 0.6822\n",
            "Epoch 94/100\n",
            "\u001b[1m125/125\u001b[0m \u001b[32m━━━━━━━━━━━━━━━━━━━━\u001b[0m\u001b[37m\u001b[0m \u001b[1m3s\u001b[0m 11ms/step - accuracy: 0.9853 - loss: 0.0441 - val_accuracy: 0.8724 - val_loss: 0.6890\n",
            "Epoch 95/100\n",
            "\u001b[1m125/125\u001b[0m \u001b[32m━━━━━━━━━━━━━━━━━━━━\u001b[0m\u001b[37m\u001b[0m \u001b[1m1s\u001b[0m 12ms/step - accuracy: 0.9851 - loss: 0.0438 - val_accuracy: 0.8729 - val_loss: 0.6855\n",
            "Epoch 96/100\n",
            "\u001b[1m125/125\u001b[0m \u001b[32m━━━━━━━━━━━━━━━━━━━━\u001b[0m\u001b[37m\u001b[0m \u001b[1m3s\u001b[0m 11ms/step - accuracy: 0.9852 - loss: 0.0424 - val_accuracy: 0.8718 - val_loss: 0.6996\n",
            "Epoch 97/100\n",
            "\u001b[1m125/125\u001b[0m \u001b[32m━━━━━━━━━━━━━━━━━━━━\u001b[0m\u001b[37m\u001b[0m \u001b[1m1s\u001b[0m 11ms/step - accuracy: 0.9856 - loss: 0.0420 - val_accuracy: 0.8726 - val_loss: 0.7010\n",
            "Epoch 98/100\n",
            "\u001b[1m125/125\u001b[0m \u001b[32m━━━━━━━━━━━━━━━━━━━━\u001b[0m\u001b[37m\u001b[0m \u001b[1m3s\u001b[0m 13ms/step - accuracy: 0.9859 - loss: 0.0407 - val_accuracy: 0.8728 - val_loss: 0.7031\n",
            "Epoch 99/100\n",
            "\u001b[1m125/125\u001b[0m \u001b[32m━━━━━━━━━━━━━━━━━━━━\u001b[0m\u001b[37m\u001b[0m \u001b[1m2s\u001b[0m 12ms/step - accuracy: 0.9859 - loss: 0.0405 - val_accuracy: 0.8724 - val_loss: 0.7114\n",
            "Epoch 100/100\n",
            "\u001b[1m125/125\u001b[0m \u001b[32m━━━━━━━━━━━━━━━━━━━━\u001b[0m\u001b[37m\u001b[0m \u001b[1m3s\u001b[0m 11ms/step - accuracy: 0.9859 - loss: 0.0399 - val_accuracy: 0.8728 - val_loss: 0.7123\n"
          ]
        }
      ]
    },
    {
      "cell_type": "code",
      "source": [
        "model = keras.models.load_model(\"model.keras\")"
      ],
      "metadata": {
        "id": "Fw5_xhyLksF8"
      },
      "execution_count": null,
      "outputs": []
    },
    {
      "cell_type": "code",
      "source": [
        "encoder_inputs = model.input[0]\n",
        "encoder_outputs, state_h_enc, state_c_enc = model.layers[2].output\n",
        "encoder_states = [state_h_enc, state_c_enc]\n",
        "encoder_model = keras.Model(encoder_inputs, encoder_states)"
      ],
      "metadata": {
        "id": "LVxcRIDIB-Xs"
      },
      "execution_count": null,
      "outputs": []
    },
    {
      "cell_type": "code",
      "source": [
        "decoder_inputs = model.input[1]\n",
        "decoder_state_input_h = keras.Input(shape=(latent_dim,))\n",
        "decoder_state_input_c = keras.Input(shape=(latent_dim,))\n",
        "decoder_states_inputs = [decoder_state_input_h, decoder_state_input_c]\n",
        "decoder_lstm = model.layers[3]\n",
        "decoder_outputs, state_h_dec, state_c_dec = decoder_lstm(\n",
        "    decoder_inputs, initial_state=decoder_states_inputs\n",
        ")\n",
        "decoder_states = [state_h_dec,state_c_dec]#fill this taking encoder as reference\n",
        "decoder_dense = model.layers[4]\n",
        "decoder_outputs = decoder_dense(decoder_outputs)\n",
        "decoder_model = keras.Model(\n",
        "    [decoder_inputs] + decoder_states_inputs, [decoder_outputs] + decoder_states\n",
        ")"
      ],
      "metadata": {
        "id": "pM7-S9haCAF_"
      },
      "execution_count": null,
      "outputs": []
    },
    {
      "cell_type": "code",
      "source": [
        "reverse_input_char_index = dict((i, char) for char, i in input_token_index.items())\n",
        "reverse_target_char_index = dict((i, char) for char, i in target_token_index.items())"
      ],
      "metadata": {
        "id": "22ZnGf56CCDi"
      },
      "execution_count": null,
      "outputs": []
    },
    {
      "cell_type": "markdown",
      "source": [
        "Run the cell below and explain here in detail how the cell works.\n",
        "\n"
      ],
      "metadata": {
        "id": "0fSQqeMZHuOi"
      }
    },
    {
      "cell_type": "code",
      "source": [
        "def decode_sequence(input_seq):\n",
        "    # Encode the input as state vectors.\n",
        "    states_value = encoder_model.predict(input_seq, verbose=0)\n",
        "\n",
        "    # Generate empty target sequence of length 1.\n",
        "    target_seq = np.zeros((1, 1, num_decoder_tokens))\n",
        "    # Populate the first character of target sequence with the start character.\n",
        "    target_seq[0, 0, target_token_index[\"\\t\"]] = 1.0\n",
        "\n",
        "    # Sampling loop for a batch of sequences\n",
        "    # (to simplify, here we assume a batch of size 1).\n",
        "    stop_condition = False\n",
        "    decoded_sentence = \"\"\n",
        "    while not stop_condition:\n",
        "        output_tokens, h, c = decoder_model.predict(\n",
        "            [target_seq] + states_value, verbose=0\n",
        "        )\n",
        "\n",
        "        # Sample a token\n",
        "        sampled_token_index = np.argmax(output_tokens[0, -1, :])\n",
        "        sampled_char = reverse_target_char_index[sampled_token_index]\n",
        "        decoded_sentence += sampled_char\n",
        "\n",
        "        # Exit condition: either hit max length\n",
        "        # or find stop character.\n",
        "        if sampled_char == \"\\n\" or len(decoded_sentence) > max_decoder_seq_length:\n",
        "            stop_condition = True\n",
        "\n",
        "        # Update the target sequence (of length 1).\n",
        "        target_seq = np.zeros((1, 1, num_decoder_tokens))\n",
        "        target_seq[0, 0, sampled_token_index] = 1.0\n",
        "\n",
        "        # Update states\n",
        "        states_value = [h, c]\n",
        "    return decoded_sentence"
      ],
      "metadata": {
        "id": "5oREePnkCEFk"
      },
      "execution_count": null,
      "outputs": []
    },
    {
      "cell_type": "code",
      "source": [
        "for seq_index in range(50):\n",
        "    # Take one sequence (part of the training set)\n",
        "    # for trying out decoding.\n",
        "    input_seq = encoder_input_data[seq_index : seq_index + 1]\n",
        "    decoded_sentence = decode_sequence(input_seq)\n",
        "    print(\"-\")\n",
        "    print(\"Input sentence:\", input_texts[seq_index])\n",
        "    print(\"Decoded sentence:\", decoded_sentence)"
      ],
      "metadata": {
        "id": "k7DPkXy1CGiv",
        "colab": {
          "base_uri": "https://localhost:8080/"
        },
        "outputId": "a40731af-dbc4-4526-8d3e-d95561135362"
      },
      "execution_count": null,
      "outputs": [
        {
          "output_type": "stream",
          "name": "stdout",
          "text": [
            "-\n",
            "Input sentence: Go.\n",
            "Decoded sentence: En route !\n",
            "\n",
            "-\n",
            "Input sentence: Go.\n",
            "Decoded sentence: En route !\n",
            "\n",
            "-\n",
            "Input sentence: Go.\n",
            "Decoded sentence: En route !\n",
            "\n",
            "-\n",
            "Input sentence: Go.\n",
            "Decoded sentence: En route !\n",
            "\n",
            "-\n",
            "Input sentence: Hi.\n",
            "Decoded sentence: Salut !\n",
            "\n",
            "-\n",
            "Input sentence: Hi.\n",
            "Decoded sentence: Salut !\n",
            "\n",
            "-\n",
            "Input sentence: Run!\n",
            "Decoded sentence: Fuyons !\n",
            "\n",
            "-\n",
            "Input sentence: Run!\n",
            "Decoded sentence: Fuyons !\n",
            "\n",
            "-\n",
            "Input sentence: Run!\n",
            "Decoded sentence: Fuyons !\n",
            "\n",
            "-\n",
            "Input sentence: Run!\n",
            "Decoded sentence: Fuyons !\n",
            "\n",
            "-\n",
            "Input sentence: Run!\n",
            "Decoded sentence: Fuyons !\n",
            "\n",
            "-\n",
            "Input sentence: Run!\n",
            "Decoded sentence: Fuyons !\n",
            "\n",
            "-\n",
            "Input sentence: Run!\n",
            "Decoded sentence: Fuyons !\n",
            "\n",
            "-\n",
            "Input sentence: Run!\n",
            "Decoded sentence: Fuyons !\n",
            "\n",
            "-\n",
            "Input sentence: Run.\n",
            "Decoded sentence: Fuyez !\n",
            "\n",
            "-\n",
            "Input sentence: Run.\n",
            "Decoded sentence: Fuyez !\n",
            "\n",
            "-\n",
            "Input sentence: Run.\n",
            "Decoded sentence: Fuyez !\n",
            "\n",
            "-\n",
            "Input sentence: Run.\n",
            "Decoded sentence: Fuyez !\n",
            "\n",
            "-\n",
            "Input sentence: Run.\n",
            "Decoded sentence: Fuyez !\n",
            "\n",
            "-\n",
            "Input sentence: Run.\n",
            "Decoded sentence: Fuyez !\n",
            "\n",
            "-\n",
            "Input sentence: Run.\n",
            "Decoded sentence: Fuyez !\n",
            "\n",
            "-\n",
            "Input sentence: Run.\n",
            "Decoded sentence: Fuyez !\n",
            "\n",
            "-\n",
            "Input sentence: Who?\n",
            "Decoded sentence: Qui ?\n",
            "\n",
            "-\n",
            "Input sentence: Wow!\n",
            "Decoded sentence: Waouh !\n",
            "\n",
            "-\n",
            "Input sentence: Wow!\n",
            "Decoded sentence: Waouh !\n",
            "\n",
            "-\n",
            "Input sentence: Wow!\n",
            "Decoded sentence: Waouh !\n",
            "\n",
            "-\n",
            "Input sentence: Duck!\n",
            "Decoded sentence: Baisse-toi !\n",
            "\n",
            "-\n",
            "Input sentence: Duck!\n",
            "Decoded sentence: Baisse-toi !\n",
            "\n",
            "-\n",
            "Input sentence: Duck!\n",
            "Decoded sentence: Baisse-toi !\n",
            "\n",
            "-\n",
            "Input sentence: Fire!\n",
            "Decoded sentence: Au feu !\n",
            "\n",
            "-\n",
            "Input sentence: Help!\n",
            "Decoded sentence: À l'aide !\n",
            "\n",
            "-\n",
            "Input sentence: Hide.\n",
            "Decoded sentence: Cache-toi.\n",
            "\n",
            "-\n",
            "Input sentence: Hide.\n",
            "Decoded sentence: Cache-toi.\n",
            "\n",
            "-\n",
            "Input sentence: Jump!\n",
            "Decoded sentence: Saute.\n",
            "\n",
            "-\n",
            "Input sentence: Jump.\n",
            "Decoded sentence: Saute.\n",
            "\n",
            "-\n",
            "Input sentence: Stop!\n",
            "Decoded sentence: Arrête-toi !\n",
            "\n",
            "-\n",
            "Input sentence: Stop!\n",
            "Decoded sentence: Arrête-toi !\n",
            "\n",
            "-\n",
            "Input sentence: Stop!\n",
            "Decoded sentence: Arrête-toi !\n",
            "\n",
            "-\n",
            "Input sentence: Wait!\n",
            "Decoded sentence: Attendez.\n",
            "\n",
            "-\n",
            "Input sentence: Wait!\n",
            "Decoded sentence: Attendez.\n",
            "\n",
            "-\n",
            "Input sentence: Wait!\n",
            "Decoded sentence: Attendez.\n",
            "\n",
            "-\n",
            "Input sentence: Wait.\n",
            "Decoded sentence: Attendez.\n",
            "\n",
            "-\n",
            "Input sentence: Wait.\n",
            "Decoded sentence: Attendez.\n",
            "\n",
            "-\n",
            "Input sentence: Wait.\n",
            "Decoded sentence: Attendez.\n",
            "\n",
            "-\n",
            "Input sentence: Wait.\n",
            "Decoded sentence: Attendez.\n",
            "\n",
            "-\n",
            "Input sentence: Begin.\n",
            "Decoded sentence: Commencez.\n",
            "\n",
            "-\n",
            "Input sentence: Begin.\n",
            "Decoded sentence: Commencez.\n",
            "\n",
            "-\n",
            "Input sentence: Go on.\n",
            "Decoded sentence: Poursuivez.\n",
            "\n",
            "-\n",
            "Input sentence: Go on.\n",
            "Decoded sentence: Poursuivez.\n",
            "\n",
            "-\n",
            "Input sentence: Go on.\n",
            "Decoded sentence: Poursuivez.\n",
            "\n"
          ]
        }
      ]
    },
    {
      "cell_type": "markdown",
      "source": [
        "**Bonus Task**\n",
        "\n",
        "Exploring Bidirectional RNNs and the BiLSTM Architecture\n",
        "\n",
        "Implementing a BiLSTM model for a specific NLP task (e.g., named entity recognition or sentiment analysis)"
      ],
      "metadata": {
        "id": "j0YBdPGtgF1L"
      }
    },
    {
      "cell_type": "markdown",
      "source": [
        "# BiDirectional RNNS:\n",
        "\n",
        "RNNs process data as a sequence of vectors(one-by-one) rather than feedforward neural networks, which process data as a fixed-length vector. Each vector is processed depending on the hidden state from the previous phase.\n",
        "\n",
        "> BiRNNs:\n",
        "\n",
        "As the name suggests these RNNs work in both the directions forward as well as backward direction,in order for the network to use information from both the past and future context in its predictions.This is the main difference between the usual RNNs and BiRNNs.For the both directions , there are two hidden layers , one works for the forward and the other for backward.\n",
        "\n",
        "These hidden layers are nothing but a seq of vectors which are influenced by the past vectors.\n",
        "\n",
        "\n",
        "> Working:\n",
        "\n",
        "\n",
        "\n",
        "These hidden layers are nothing but a seq of vectors which are influenced by the past vectors.\n",
        "The words in form of embeddings are inputted in each hidden layer.These embeddings.Both the forward and backward directions are used to process the data. On the basis of the input at that step and the hidden state at step t-1, the hidden state at time step t is determined in the forward direction. The input at step t and the hidden state at step t+1 are used to calculate the hidden state at step t in a reverse way.\n",
        "\n",
        "A non-linear activation function(mostly tanh) on the weighted sum of the input and previous hidden state is used to calculate the hidden state at each step.\n",
        " And then for each concatenated input of the forward and the backward rnns,the outputs are also concatenated and represented as a single output for that layer.\n",
        "\n",
        "\n",
        "\n",
        "> Ht(Forward) = tanh(Xt * Wxh (forward) + Ht-1 (Forward) * Whh (Forward) + bH(Forward))\n",
        "\n",
        "> Ht (Backward) = tanh(Xt * Wxh (Backward) + Ht+1 (Backward) * Whh(Backward) + bH (Backward))\n",
        "\n",
        ">Y=sigmoid(Ht * Wy + by)\n",
        "\n",
        "\n",
        "\n",
        "# BiLSTM Archi\n",
        "\n",
        "![image.png](data:image/png;base64,iVBORw0KGgoAAAANSUhEUgAAAqgAAAFxCAIAAAAwA81xAAAgAElEQVR4AexdB3zURta3vd5dSdY2r405aoDAUUxMS3KQo4QaAgnFFZsSakjIJbkvBAwkQJLL3aUnpNKMK5B6JJAGodre4go2zdjrDpgSmr1NK+l9GY0tFmN6wGtb+ulnz2pnpZn/jOY/7817b7xAOiQEJAQkBCQEJAQkBFoMAl4tpqZSRSUEJAQkBCQEJAQkBEAifqkTSAhICEgISAhICLQgBCTib0GNLVVVQkBCQEJAQkBCQCJ+qQ9ICEgISAhICEgItCAEJOJvQY0tVVVCQEJAQkBCQEJAIn6pD0gISAhICEgISAi0IAQk4m9BjS1VVUJAQkBCQEJAQkAifqkPSAhICEgISAhICLQgBCTib0GNLVVVQkBCQEJAQkBCQCJ+qQ9ICEgISAhICEgItCAEJOJv5o3N83y9GuIrV1+vl0362CwR4DiuXr2knlAPkJb2keM4qQ+0tEaXiL+Zt7j4VjudTrGqDMPg67xwiNelRPNGQOwMAID7g91ux1XGPUHqD827A1xdO57nGYYRiZ9hmKvzSFeaHwIS8Te/Nq1fI6fTyXHcmjVrGIZxOBwA4HA4pIG+Pkwt7/PatWvFEV/qDy2v/VGNeZ5nXSzuBidPntyxY0fLxKGl1Voi/mbe4viVjouL0+v1Z86ckQb6Zt7eN1c9hmFef/319u3bsy5W/IXI/eIVKdFyEGAYJjo6OiQkBM8GWk7FW2ZNJeJvEe0+YMAAiqKioqLE2oqjvDgVEL+SEs0eAZ7nO3furFarly1bJlZW7BLiFSnRchCwWq20cCQmJl5tCNJycGghNW3yxM8B3NLZQtrVvZpr1qxRCwdBEKdPn7bb7dKL7Y5PC0wvWrRIq9UqlUq9Xi9WXyJ+EYoWmIiJifHy8iIIokePHqIeiOd5vDjYAgFp3lX2aOK/mT53S6xf36C5ebdtXe369OlDkiRN0wqFIjQ0FABEk666LNL/loIA62KdTmdQUJBCodBoNEql8rnnnsOVl4i/pXSCK+tpt9vLysqwuO/l5UVR1KaNm9ztQK/MLn1qDgh4NPHj1San04lnoA1anErEf/1umJiY6OPjQ1GUUqmUy+UURVVVVV3/J9K3zRgB1sUuW7ZMLpe3adNGpVLJ5fJWrVrhN0si/mbc7tevWkREBEEQMplMpVKRJDlgwIDq6moAYF1sdXW12DGkZcHrw9iEvm184se9qkHlc35+/ocffhgTEzNx4sT333/f4XAwwuGOb+MSv2e+Ce6lCg4O1mg0JEm2bt0aD/RhYWHuAErp5o0Afr/c69ihQwelUqnVatVqNUEQNE0vXboUT7Kvzuz+QyndPBCoR+QXL17UCgdFUVgvqFQqExMT3buE+JPmgYBUC48gftbFYuIXZXqTyTRq1Ci5XN65c+fIyMjAwECKorp06YK9TdyJ7VrE73TVOqTiDFBnCuDem2+j+fGjxdK6l+Q27naXfiIO38nJycSVh1wup2n6/PnzTqcTF17MfJcKI93WcxBwOp3/+te/FAqFSqXClI8VvDRNu3dszymwVJI/HQH8vnPCgZfwY2Ji5HI5lvXJuqNLly7Y0899wPTM4e5Ph6gl3LDxiR93Qdy9AIBhmCVLluj1epIkJ06cCABWq7Wqqkqj0VAUFRgYePbsWff+dy3itzrsrrogZVVnTpszM1ngOcFv9fZmrzzPu6sl9u/fn5+fj+YTdU/xqO6CIerXr58776tUKoqivL29w8LCxHg+EvF7VMPdpcKIvbRjx44KhQLzPeV2xMbGiiZdd6kM0m09AQE8jom++0VFRTRNY7O+OtKv/Y+Ffpzz9sZMT6ivVIYGEWh84sfFErn89ddfVwpHSEgI7nNYDdA7JEROKL28vEIjwjGFX4vy8XUWeAeDYtVVnTl9f7euL8cuBoAam03sweITG8SlwYscx+HC/PDDDx06dPjwww8bzOYhF7Exv5Ik3E+tv85PrVJrNWfPnsXTLA8prVSMu4oA7reLFi2iaJr0o2RyOemHFLvi2bp1a1HfdldLIt28cRHAxI9HP9bFRkZG4nUfpVLpTvw+Pj59+vTBy/w4syQhNG7D/blP9wjiF0WNuLg4kiSVSqVCocjOznaXp7v36kn6UWqt5qGBf3MJ8os78V89FUBdFvhfd2xv1TqIoumc/bkoTKkLBacUj1uCUpwoJCQkBAQEKBQKLDSLstQt3e2uZsYVxMb8IuvLCaWSJGRyuY+vjPSjwsPDcfkbHO7FyuJy4hve1TJLN7+rCOC2btu2rY+vDLO+n1rlfiqVyiVLljgcDlEWvKvlkW7eWAiI7zLrYq1Wq0ajUalUNE3jvyL3q9VqvNIvmvff3rDZWNWUnnt9BDyF+FkXW1lZqdFoaJomSXL8+PG43EjIZlFwse69enp5eSn8yB4PBNtZ5sftv0RNjRk9bmzwA71fWbGcBf702TOhEeGhEeFLli3lADJzskeOGe2rVChJolXroClTY7b+uG3OvLkxMTF9+vSZNWvWf/7zn2DhePXVV/Gzvvzyy+nTp48ZM6Zv377Jycl2uz03N3fq1KlhYWGfffYZAPzwww9jx44lCEKhUAQFBU2dOvX64DbWty6OS0pJVpKEl483ZnolSRAUSVAk6UfJCaVMLtf66ywlxSh8r6AXqVfUerMZ98D+9eYE9X4offRABPCa19JXlpF+lJIkaI1aSRJaf51Gp/VTq7x8vHV6vZxQBga1wpYx9Vofz79Fse/qbz2wylKRro8A9pSeOHGiUqmkaRoL/TqdjiRJcbFfqVT26NFDvA8niFIs8Lg74b81NpuYwT0tXpQSnomARxA/HlNWrFiB+xxFUW+99RbDMNjdHPcw/8AAP7WKUNHdevZwcOz4SRPkFKHwI728vLb99BMHsOrTT0g/SqfXh0aE/0HS/Qb091Or8BVfpaJjp05Lli1t1TpIqVSqVCq9Xq/RaHx8fPR6PU3TlZWVPM+Hh4fjaQdN06dOnbJarXPnzsU0/8ILLwBAmzZtsEccSZIKhWLQoEE47r2nNS0H8EDfPgRFqrUaJUn8pV3bB/r2oTXq/g8OwKpdWqMm/aiJkyfXak0EMwWO41gXe+jQIbE6eXl5WVlZ+KM435eIX8SnCSU4gFatg3R6va9SQdG0f2CATq/3lvk8OmK4Tq8n/Sg8L1yybCl+3fDGLQzDGI3GU6dO4ZpmZmbu2LFDXPBqQtWXiloPAY7jjh8/rlKpFAqFTCYjSTIkJKRjx46Y7H18fGiaxsEe1q1bh3/LAWAZDH/c/tsOMSzKjp07DSaj1WEXTarrPU766GkIeATx45Wkbt26qVQqrOev57i/Y+dOJU3ROo3CjwyLieIBnDyn8tf6kkpNAAo9ZmeZx598gtao/dSqVZ9+gnvkmLGPYUl3Q2ICJ4i27Tt2wFPauXPnnjx5sn379gqFQqlUJiUl8TyflZWF579du3bFCvB+/fqpVCqNRpObi1YKkOKhe3etVqtSqTIzM3EeDyTCuPh4vIKr0WlfXhrLAoRGRSj8yISNyYZM85jx4/y0SObT6LSlFeUOxul0OrOysqKionQ6nUqlWrlyJQB8//33eB72n//8B7sAiNzvaZ1YKs8NEVj6yjI5oaRoWt+61bIVy3mAzn/t6ksqbS6nOTtr6MjhvkoFQZH+gQEsoH2cy8rKJkyY0KNHD7VaHR0dzbrYw4cPazQagiCWL18uWobe8LlSBg9EALvmT5w4kaZpuVweHBwcFxfHutiQkBC9Xl9dXR0XF9e9e3dsa9WzZ89zFy8grY9A/N9v/WH6UzPw+un7H37g4rh33n9PSRJ+atWGxAT3mYEHVlwqkoiARxA/z/MXLlzA60xKpXLAgAFi+XBi5pzZar3OSy7zUsq/iF8PAG9/8J6cIggVPX7SBDvLuIBX+WvVWo1aq0FM5mJsTod/YICcUPqpVVibfeJUlUanJUmyZ8+eWNPVu3dvrVb7h9NgYmIiz/OzZ8/W6/UEQWBvgqqqKpIkZTJZYGAgnpqcPn36D20ESZIdO3b0tKVQURMLAL16B7fr0P7l2MUIB5fTwbFRU2MIFb0uIZ4FOF9zKe/IoUmhob5KxcTJk1ngq6ur8/LywsLCaJrWarUhISEMwyQkJGDiDw9HGpTb8OrBRRINOPBNpL/3HgGGZdu0b/eXdm1fXbnCwaGFM5vL2eOBYG+F3Ik8XYAFSDWkj3vyCV+l4rU3Xud5/uTJk9OmTSMIQqVSdezYEQB27dqlUCjUavWAAQPEdd97XxfpiXeOAM/zp06dCgwM7Nu3b1JSEuoPgsa+W7duPj4+eFZns9nWrFnTu3dvmUwWn4R8+jHxZ+ZkPzlxglqrIShyxOhRThfz9LPPYIvRSaGhWF10MyXEUsTN5JTy3A0EPIL4ASAuLg5r0b29vaOjo8WqWq1WF8d17NRJrdcp/MiOXTpjaX7sE+OVNCWniEXLlriAD42KIFS0Tq/v07+fzemotlp//OVnvKT996FD8N2WvfoqUnRT1OzZs/GV3r176/V6iqKwIeHAgQNxGbZt28bzfFhYmFqtJkkyLCwMr2sio2jhcOdCfKtGl4bFldf8/PxXV64QRnNe1LxNnT6N9KNSNm3C6OGFuozsrOhpU50utKSCh3LkM0nTGp3W5nQwLDt23DhfpWLpK8vw+4wfccNBf/369ZGRkQMGDMCUL2kLxM7cWInvt/7w6soVWJQX12i79+pJ0TQukthP0oyGp2bPEhu6U6dOeCpss9lYFxsbG0tR1NSpU8UMjVUj6bl3ggDP88nCIY5aOBESEkIQhLu1r81mS05Onj13joNxiqRedeY0rVGrtZoewb04ABfHPToCaYwSkpPEPO7Fw72FdbF4QBBFFPwRrzB+++23UVFRPXv2dP+hlL57CHgK8SclJclkMqVSSRDEO++8I7r1A8CGxAQfX5nCjyRU9OZvv8YiS5uO7X1JpZ9WffxU1YHDBwkVLacIOaF8OXYxVjeFR0b4Bwb4KhVLli3FNv9jx43zDwxQq9XffPONw+HgOA6r/du2bWu1Wp1OJ7Zt0el0APDLL7/gCCckSf73v//FDTB+/HjsFv/VV1/hK7hPu0vDd6+prnNnvOwqytaY3cX8HMCUqTFKkkhKSXZxHAs8w7JWhx3P4nE2/Lb37NnTV6nwVSowSWxITGjdps3Zc+ccTG20HzHsj3hz98RDDz2EeYKm6UGDBolKEffxxT2/lL4HCHAcJ47aLPDXJ34QxnFcKp7ng4ODKYrSaDT4Sm5url6vr6qqwgozh8MhbfpwD1rwz32E+9Kk+4vJ87w78WM+xo9mAYkQmNRtTgcAYOPQ+7p0xhk+XLVK64+GTYZlRe63Wq3iMF5VVZWSklJeXi6OUaLF6KhRowIDA/FQfLWu98+tu3Q3EQFPIf6srCyKogiCIEkyMTFRjOUHAL1DQpAhkkI+fPQoFsDBsQcOH/RWyP206m49e1gZx31du9A6jcofmSgbzSbsttel6/3Ybjk7N4dh2fOXLiI9vx+lVqtxn1u6dCmm9tjYWJ7n4+PjsSvLY489duHChS5duoghg0SwcMhbvV6PXxiR9d2N3sXMjZIQ3ytO8F0UB/rIKVG+SkV8UqLTxTAs26AlPwCgN18wCcSTpz79+z373AIsDmL33yVLllwn4i/DMCkpKXjhcMmSJRLxN0ofaPChHIDN6cAzYDyr6xHcq57E73QxouiP6WHQoEHYy+vkyZMAMHr0aFHXhZ8SGxs7duzYBp8oXfRYBHiex7HPr0P8+OW12WzIAsjFYO7HowfDsvd36yonlHJCiWn+vi6dP/7sU7HzAMCYMWPmzZuHxQm73b5+/XqNRpOSkoKtofFgIs4a169fjwf/+fPneyxozaxgHkH8mEEDAgJUKpVMJvv444/FPjFz5kxsstfjgWAsyLqAnz1/HqVWqfy14dFRg4cPGzfxST+tWhcY0OG+jrFLl7z93rvHT570lvn4+Mru79Y1IzvrpZcX/rZ7l0anJShy2LBhuAk7d+5MEERISAh+enR0tEI4pk+f3r179wkTJsjlcoIgHn744cmTJm/btm3Hjh1aLTIRGDx48C+//PLJJ5/g+1y6dMn9/Wms/oFX5pxOJ65OtdXKAm9zOrDdflR0tJxQukv8YjnR0h2Dwhtj6x5s9g8A77z/XvdetZo3PA/ARgDJycnib3ECv8ZovuV0xsbGqtVqnU5nNpvxLASPICJE9X4rfbzHCGCnLACoR/y4q6DlXkGkw71o9OjRFEXp9fo/rL02b97cqlUrbOGP23T58uWifu4e10J63G0jgN9E/HPxrcQJd4kfZ7BarfgtxmMvw7JOF8MB9Onfz1vmQ1AkC/xzz/9j4CODsAUA5v5x48ZRFJWZmYlFLNbFJiYm0jSNJTr3kmPnkdjYWJIk3W2o3fNI6buBgAcR/9q1a5E1mR/VvVfP4ydPssDPfXqeWqvx8ZWNemxMjc3mYJysYGMyOTyMomksmz72+NjPV6/GPutaf919XTozLPvF2jUUTWv9dZ3u79KxU6cftm0NjQjHoWzwAv+zzz77R3iKzp07V1VVsS6WYRjsU6BWq1Uq1dixYydPmqzVagMCAgIDA/v06eN0Ol988UUc6HTo0KGtW7c+fPiw2B7u74940UMS7sSfvDEFy3yiOg7r4rACgGHZHsG9sGfXrzu2a3TaNKMB53/3g/eD/tKaomkfX9ljj18h4eEJh6hpGDx4sFKpxGt1WGrEFOIhaEjFcCd+0o/CA7q4lCOyAm61qKgomqa9vb0//PDDdu3axcfH4xn52rVr+/btSxCEl5dXTEyMhGrzQACH/BLfZfdK4Y5ROwnguD59+mDtbE5OTseOHUWn3yVLlrRp0wYbQs2ZM0e8w7p16yiKcid+bFeEu1n//v3/cK3q0qWLmF9K3G0EPIL48cQQAD7++GP/wACNTosW47Ua0o+6r0vnf770f1g7jVSRPDJK/s9b/1VrNXJCOXbcOAfj3PbTT3JCSfpRvXoH46A0Bw7mUzSy9buvS+ePPvnYwTg73d8Fe7ipVKru3bsHBgaGhoZWVFSI+OJYFj4+PpGRkQDw+uuvq9VqiqIeeeSRqqoqnue3b9+uVqtpmv7DGvb777/HO1jglTDPUfWL1RETWNuPVf0NEj/OiQlg3JNP+PjKKJpu077d088+gwV9p4t58G8PY02ARqcNj4wQb351IjAwUKFQXGc54OqfSFfuJQLXIX5x/iq+j5j4NRpNx44dIyIiLl68iCdz4i6uarV68ODB97L80rPuHgI3JH7M05wb8f/h8Pzee+/hIjEMExwcrFKp1Gp1q1atJkyYsH79+pSUlPj4+IiICKVSOW/evMTExPj4+OTkZDE4BOtidTqdVquNjIyU3ETvXuPWu7NHED/WFYuiYWZO9uerV69etxaLm7jE2HzUwbE2F4rAn5GdhaPw4m/35+Vt/XGb+yLTydOnNiQmYGOlNKMBB6jvHRKSlZWFnVZFwxMRka1btx4/flyMyZMrHLhUeKpbXl7+888/i2bt2KSOYRhskSBKS+INPSFxk8SPdQBR0dF+apWcUPYb0B8b9mODneLSUqwJWLJs6bXsAziOwwo9Hx+fTRs3eULdpTI0iACe5PXqHVxP4m+Q+HFki+7du4u3wtyv1WoJgnjhhRfwR/FbKdF0EbhV4lcoFBMmTMCrhNgncNeuXXhv34SEhLi4OG9vb7z1s1arxVsBYY9QiqK+/PJLjuOcTidWBigUii+//LLpQtfkSu4RxI9RE0cQbBoqsj62KMGSip1lrIzDXVONTfkwvWELFGy7hO9pddg5gJWvv6YkCZ1eP2fe3Kv5XpTX8Sq12IQiwbv/RCwk7u54jQpnaNLEj8lg7LhxtEZNa9SlFeUisH9MuZa9+irpR2l02qozpzNzsmPcjrCwMBGT0NBQkiT1en2D2kIRWCnRuAg0SPxikXBr4vluVFSUUqnU6/WZmZl/GHA4HA787YcffogdcLZt2yb+UEo0dQRuSPxi38Cq/q5du547d879ZY+OjsYzRZwTG/YDwPr162maTkhAkhjrYqurq8VfjRs3TiaTURTV1NFrWuX3IOK/Grh62/BgTyRxh56r8+MruM+5f9u9V08lSfyxcIAjUbhnEDX27vlvMi1uKHyT+RslG56OREVFKRSKlJQU8dUV9StOpxOr9FngI6dEERS5Lm49dvlzMM5qwSen/4MDAoNadezUiQV+4uTJ4k4ef7hgdO6MXHrwG96hAwqMOGbMGPeZkDvajYKA9NAGEcCuevgrdxWr2EMAYOLEiSRJLl++XNyaHXebCRMmUBSFHV/d3b4bfJB0sakgcB3iF4Ui3AF69uyp0Wh+/fVXUT+Kl4c6duzo7e09cOBApCkUTIZx3ZOTk728vNavR7HXsE8BAOAAgu3atSMIol+/fmIfaypwNelyNjHid58K3BB3B+M8efpUeGQEVl9TND1yzOj9+/eLEryo22zG5HQt4hdn3NGCwX9UdPTxkyc7duq0TNiyCLt+YYRZ4LX+OtKPipwSxQL/2huvh7odopF/Xl6eXC6XyWR406OWgO0Ne6AnZ7gW8S9atEilUk2fPr2ioqJTp06i/x7rYsX5QWBgIEVR48ePlwZrT27iWy3b9Yl/1KhRbdu2Xbly5Z49e9q2bbts2TJ8f5HgT58+TdO0Xq8Xv8IBAXG8II1GgwOk4iAQeMg9ePAgtphesQLFHBM72K2WXMp/qwg0W+LH6gFThnlDYsLGzZvjkxI3JCYkb0yRiF803cIToFatWuHtWWVy+cJFi8QVFqwQ5gBSNm2SIddG5dfffhM5JQqrB67uZ7Nnz9ZqtRqNBptMSsR/NUQedeVq4mcYhuO4vn374oCVcrkcK2/QXhh2Ox6peZ7Pzc2Vy+UkSS5dunTYsGGi6sijaicV5jYQuD7x49hcarVaLpcvXLiQ53mHw4FZH3P5qlWrKIpSKBSrVq0SzXuxCVRSUhJ25xNLhe265s6dq1QqfXx8DAaDOIEQ80iJu4dAMyd+vN6Po9m4R5USARX5SbzSzBLXkvhxNXmej4qK8lOrgv7SOi4+HltHuptQMCy7Lm49Nunv0vX+H7ZtdbegxFOHrKys9957LyAggKIorVa7YsWK3NxcEdhmrE1p0l3lauLHM8Jly5YplcpWrVq9++67OMwLria2YHU4HImJidhfS6/Xr1+/XlQdNWk0pMIDwHWIn+f5xx57TKvVDhgwAIf3FxGz2+2Y+OfOnUuSJEVRQUFBRqMRzwjxemhZWVliYuKZM2fwr2w2m8lk+uCDDzQaDUmSPj4+sbGxWCQTbysl7ioCHk387jW/JSU/JiQ0qRT8/vF93NOi+CLyk/uzmlP6+sR/w5pimn/u+X9ERETgHQ2uJnKz2ZyYmJiQkJCUlPTZZ5+lpKSYTKZmD+wNofPwDA0S/9WNK9YC27pi9+vZs2eHhYXl5OQwDIMHfTGblGi6CFyH+G+mUufPnw8PD1+wYIH47ovDrPhz8auCgoKvv/46QThShEMMBiBmlhJ3D4FmS/wYMneyd0+L/U9M3D2IG/fOuIJXG/fdsFTYjQIr/MXMYpA+8QpOiPpe7KIjRuurl0366DkINEj81yne1XOCq69c5+fSV56PwJ0QPw6DZrPZRCcpcWi9OoGhwIMG3rzH6XRKqqN72UMk4q/tlvcS9Hv5rNsmfuzBX2214oUSvNBbr+TiTh5Y8pNsc+rh48kfb5X4sSMWHp1x/D6puT25fW+jbHdC/OLjsIfz1WRf70o9s3/8c1F+EO8mJe4SAhLxS8R/va7FsCy2k8D7GVZXV9fLjcU+vG0rXiSW3t56EHnmx1slfmzAjy2wcKOLFn+eWUGpVLeKwJ0Qv7vIXo/j632sVyrcl0QRot630se7hIBHE3/VmdOPPzGeomkckVdJEh3u6zh77uUQ0HcJlOZ0W/zW3Yaq/2oQxBe43lfXul4vm/TRoxC4DeJ31+J6VF2kwvwpCNwJ8f8pBZBucs8Q8GjixwvMOPyOnFC2ah105vez9wya5vGgu038IutLK75Nq8PcKvFjdY7Y3E2rslJpbwYBifhvBqXmkcejiZ8F3uqwa3RaHEAmetpUHEe2eUB/b2ohEf+9wbnJPeU2iF9kfWmS1+Sa+2YKLBH/zaDUPPJ4NPG7OC47N0dJEgRFEhT53fdbrrVDzD1ujCY08EnEf4/7RlN5nET8TaWl7lk5JeK/Z1A3+oM8mvhZFzt//nyCIGQyWevWrRsEy+l08jxfUVExd+7cAQMGrFixYsmSJZGRkc8+t4AF/vTZM/99+62RY0bjrfxcHDdq1Kjx48fjXfjwDZ1O544dO2bMmNGnT5+BAwd+++23eKvf5a+tnBQaOmHSRA4gNCJ82PBHS8rLsE+ge4ibBkvlORevRfyS9OY5bdQoJbkN4m+UckoPvWcI/FnEL40t96zJbvtBHk38DMP06NEDB3N+4oknrlXJ7du3+/j4yGSyhQsXBgQEyOVymqYfe3xsUkoyRdNe3l46vf7REcMZlt2QmKBWq2Uy2bRp03iedzqdZ86c6d+//x+BZmfPnh0YGKhSqYKDg/fn5T06YjgOVzfuyScmhYbSGjWOWStGtL1WYTztukT8ntYiHlIeifg9pCE8pxgS8XtOW9ztkng08ZeVlalUKplM5u3tvWTJEncfYhGX48ePa7VaiqKio6MBoF+/fngT6FdXrnC6mAMH82VyuUan7XR/FwAwZZiDgoK8vLwmTpyIPppMrVu31ul0c+YgT4GgoCC5XP7oo48yLJuUkkxr1Dq9PiIqkqBITPy/7tiOvJmBF5/u+QmJ+D2/jRqlhBLxNwrsnvxQifg9uXX+3LJ5NPF/9tlner1eLpdrtdrKykpc83rr64MGDZLL5Xq9/sKFCwAQEhJCUZS3t/cxSxHeTqZdh/YyuZyiaaeL4QC2bNmiVCp37dp19uzZzp07a5DnaQ8AACAASURBVLXabt26/bG5ZGxsLN5J+t1333W6mDnz5vqpVaQf1eG+jq+sWB4VHR05JQoX4Fq71Py5DfNn3U0i/j8LyWZ2H4n4m1mD3nl1JOK/cwybyh08kfjFTZ/Gjh1LkqRMJuvcubPD4cASv7iJk8Ph+P777+WEUuuvi4iKBIDKE8eVJOHjK3ugbx+0UTTjBIDgB3r7BwZQNI2bZMmSJf369WNd7OzZsxUKhbe394oVKxITE1UqFUEQixcvxtkGPjKI1qgpmu4R3KteW0oSfz1ApI9NEQGJ+Jtiq93VMkvEf1fh9aibexzx4z0/cPS39u3bY1X/1KlTMevXE/ejoqIIivTy8X7/ww8AYMbMmVhMD4+MuFRTjTeY+WvPHj6+MplcDgBVZ07rdLq0tDTWxbZu3Vqj0RAE0alTJ6VSOXbs2LVr1+KnOBinnFASFEnRdPLGFKzeb1p8L3YySeIXoZAS7ghIxO+OhpS+/u58t4QPHnPw31v6oZT5niHgccQv1nz79u1Y3CdJcsuWLXjDPfzt7t27O3XqBACdO3f28vGmNWoAOHvunEanlcnltEa9c89uzNMMy3br3l0ml/sHBuQdOjh85MipU1EwgIqKCo1GQ1FUmzZtcnNz8W2dTieOHLn1x23+gQFKkvhrzx54M1+GZettVyOW00MS7lsQuRfpFoifhyZlveBeSyl9ywhIxH/LkDXlH1weH65toSRJ/E25hW+t7J5I/Hijp3nz5snlcqVSqdPp8BVcs/fff1+n002eNBkASJKUE0qdXg8A/R8coNZqaI3aPzDgx19+/uiTjzH3jxg9SkkSfmpVaER417+i5XwAiIuLo2laoVC0b99e3Eru559/DgsLA4Cnn32G9KMomv6/hS85XYzTxXi+/x5+sd3/4ppi4o+cEuWrVKSkpGCViXvs1ctKFIn4MWQt42+v3sGkH4Wns1dst4O7wbXpoWXA06xqKey0CaiteWGfck5IuDUxzvBA3z4kSWKt553UX5L47wS9e/NbTyR+nufPnDkTFBSkUCg0Gk27du0AwGw2x8bG9uzZU6PRqFSqzMxMAGjbtq2cUCpJQqPTDnjoIYIiST+qXYf2gUGttv64DSM4OTzMT62SyeV+atV33yPNAQ4+qlAoAgICFApFWFjYu+++O2rUKK1Wu2PHDo7jBg8eTJKkRqMxmUxY03CZHfHvPe8vfnWdAMLJMeg1F06O5Xk2PCbCm/RN3pTEAgvAcZyLBRafPM+i2kjDvee16W2WSGxKMSF2BpTgOfQXuvXp6asmGOA44B2MnUMJocPg74UZAZ4W3GYxpJ95DAIcAIPckeqI38UBy6GOUNcxnMDZgevV/wHCT8myyDQKjwgc8C7gGQCXkPUmKyQR/00C1YjZPJH4p06dGhQUpFKpsH2+j4+PSqXSaDQkSSoUCoIgHn74YdbFchw3edJkgkJC/9+HDsnIzlKSBEXTrdu0WbJsKcbUxXGhEeE+vjKKpv/50v+Je8s6HI558+aRJOnj40NRlEql6tat27lz57Bzv16vJwiiQ4cOjdgwt/pokfjtiPvrE39YTIQX6ZvYEPELUwGJ+G8Vbw/OL/K9mKgb34XR+wrid7oRv0gDtdndJEIPrq1UtBsj0ADxu+qIX6D/myH+Gz+mLodE/HVIeO5/TyR+LF7jHWDdbfhFsZt1sVarFYOakJy0N3UfALg4buuP2zYkJlSeOG512LFlHwBMnDyZoukhjw7D+XGnRDb/Dkd2dvaaNWs2b95sNpvFJsLbj9Za+Tkc4nXPT2DuZ9HU3l16QxI/Jv7kTUmCfH9Z4ncJcr8k2Hl+495CCUW+FxNXEj8W3v4a0lOhIlj0Fc867KL8h/UBV+iEb+HZUlaPQwDL9UjRJ0r8aHi4gvg54FjgHuj7AEkpQXCGEkUB7tYNfyTi97hOcFWBPJH47Xa7WE53ssdbwiMbe5egnQbged7BOC/VVHMAmOldgj+AOTNz3JNP7M/L4wAmh4f9sZlvxfHaMADincWEuH88vi3P8+4FELM1iUSd8k74z3Lg4sDJAsNGTYnwVfp+k5iEPro4cLl4vlbV70Jav1pmaBJ1lAp5AwQw39eO8rwwbgujPBL1OWB51AEAQnr1VJNE7ZUaO7rIoY6A/6FH4ImkJPffAO4m8DULPD7rylr3xvOCzt/FAYPGir4hD6gIJdicaGHAxQN3eeZY98Ob+i8R/03B1KiZPJH4bwmQui4szGcBcHSdrn/tpiQJ0o8Kj4zQ6fUMy2LjfDQtEI5bekRTycxxnJNHgzcas53C23vRBed5sELU+Ik6OfnrpxvgIoesABgeXGjZzsXjxX60/ucShb6mUmGpnNdBgAdbjRXRPDrq2BuN7wCXWLjgGHTfX9v5UHCRhd/tYOXBXjuZvnxLThz9L1+TUk0DAXHyJxSX53nkryS84HXl5xlOWMtnhfX/8yw4oc/93VtRajjHwu8cWIXrqOOgxQAH+vXlflR3k4b/S8TfMC6edLW5ET+eB9zfrau3zEdOKP/as8f+vLwWQvy8k6mdrTMANfzZ7eb0t9Zu+ce/Pot8bnT7Xt291c/3G7luyvNbFv47a/Vm16FSNK938GBFyxmsi73ktDvruN+TuqhUlltG4PLs1sWjOV21A+wA5b//vjMz84OELS+8sXJM1Ghdp2Av8t/jZ6yOWvDDS/8+nPxDTeYRNLgj7Vnt4g/LMLf8bOkHnoCAO0nzSDOKVjDF+Z/LBRdrwM7B8XMFX//y68qPvpv3yusjI/pr2nb1Vr05ZuqXM5fsWPphQeI2OHocLrlQl2CEjuHCCqQb1FAi/hsA5AFfNyviv1RTDYLQbzAZJ06evPy1lTanQ2R9rOzCndIDkL+zIri/2MKdeKTYBzjrhIJzxqWrNk1asG70zE8eifj4wfCEUXMSJiz4ce7KuPHz14yYueqh8M8fDt84YtaP0QtLP/saTtqghgWn0wpOO1rqk44miMAV/QHRNlq654UV/GoODp44sPLzhKEx6x4MXf9IdPzwpz4eHJUyacHWGcs+/nv06kdiNvw9JmnItPhHp303bWHVph1QLUwXAKziFMAdkiue5f6FlPYYBK5oI+zKIVziWLC7oIZ37Tvw64LX4kfNiBs1c/3Ip1YPjv58WEzy1IXfzX51/fCZCX+fvmHQ1PV/i04eOmPnrOW/J++Ek06o4cEmeAvdqJYS8d8Iocb/vvkQP8ZSDKSP9JQcJ2r4XYKmi62d+9ZpPhsf/1srgWi+h36GhDNhAo6vugAqLx395OtVAyPjHo5OeWT6vlmvH3tlHXyXAz/kwY5jsNsCO4/BjkJISLUsWp0euXjjI9Hxj05LmjT/9JZ9UI0YHxv81N68DiSsRLm1gkq57yUCeJTnasdbgfQFkd3qgDO23I+Svhgzfd2gyB/HPH1wzn/OvrkRNqXD7kL4TegSe0vh12OwZmfJok9+fvIf6wdP+Xho5Jop/yjeuhsxBC+YduH71/WHm1f53ksMpGddRqCO9fHAIPQH4UseoNoFp+xbn39t7ajpCYOjfxi3IOPZt85+9B18Y0b9IbUYfiuA3cWwq7TmvS3Hl6zfMnR2ysPRScNm/frsm659h5Dcz1xW+F8eGcS+gZ/jxvyXSyWlPAmBJk/8NwmmW1dEyZv8ladlY5EQhrS2tTKdS6hItR1dyq38X9SixKEzvxs5P3/B+7C9CFJLYNdR2Ft4+UwtQu/2vmLYewzSC06v27L9qdj4R6dtGBZjeuUjOHEemf4JC/+i5C9ONWqVv56GSMssj8jEbgme5xmWZUFYu2U5sLGQdSxp0vzEUU/FjXgq/9UvuO8MqN33FMBefBZCahHsw+cxMBwBw+ETcVu2zV22YezMj4dPSXvjE3CI5iB4qbdlwt2kal3XJTiACyxaxbM5bcigx24HJ9T8b9/XExd8OXzW16PnFbyxHnYchH3HIPUYpBVCuqXuLIa0YvjtIKQWws6Cyne+/Dli8ddjn40bMv3I28loABKkDnFkqF0echtT3QfbJoVdCyqsRPxNqbHrEz9+2ezA7DmY9Pj8b0bN3x66CL40w7ZDkHkKDetZFZBeyF0+LVw6PgvZ9EOQfhh+y2Pit383fv7ngyO3zH8FCk8I3I/WS/DrjU1/8AJfU0KqeZe1bnCvFb7xR2GRq3ZSa4fT3/y2ZvT0xGHT0mYth93HYMcBSC+ATAtnKID0wtrTUASGIkgv5o1FLvNRyD4CGYdhd96h11cnPz5n7fCY3xb+F0rOojmE3Qkc8v5wNW9gm3rt3ALzIf0+Vv64BDvfaq5w9ddrh0zZ+PeYvPlvwy+HIL0IzEW88RhvLAKT5fJpLgZzMW8uhKxSSC2ANAvsKz286LOEh2PWD52es2oTnGdwPxA8h+seIxF/k+o8LYX4m1SjXLOwl2fZoreVDcBg+WxwTMKQGbn//BBSLWhMN5eA0QJ7joKptCHiR1MB3njMvucAGI9C2hF+x/7NU/6ZPHTGpgnPwikrODiwOsFqB2GpF8f8kiT+a7ZKo35xWd2KXVpYgHOOc1/v3jhi1qbBM7IXrwJTCew7BOlHXOZjjFkY5dML0WieZkGsLxC/8PeIa98BPj0fMgvAdOzSV3u+m/zC+qFTf5j7KrICEQ4HIBWAdHguAlcS/yUXsnBCpb3AXVj3U/wjMQlDp5W/lQxpheyuAzbDYWdmIWcsQsRvLEEnpn+B+F1ph2F/Bew5BLsPg7EU9hVZk3Ynjn8mfuTs/LcSEfcLs4oGRQJJ4vfcHlJXMon465BoQv/x5BqJ/zxYzm98YsGafuGmZ99Cgp3J4jIVVacfcZgKwWjhdh12I35R3LegV91cDLnlcKCczyziM4tg37EdYYvjHo7+4bl/IQ/AS4I5N4/WFNyppQmB1BKKesVEkAfW4US+mjnlG0bP2Thouu397+GXPOfOPNhfiQbxLIt132FOZP00C6QXi6fjt/2QegSMR5nUfDajADJL4ce8raEvJT46K+v1tXAOuX45xGWmlgBuU6yjSPzCPB3tMMIDXOIdP2ateyjqmyGzL32yFX7NB2Ohw1TAHihls0sQ8RuKa4kfc7+5GEzFsP+EfUcumC2QXwWGQkg7BjmVNZv2fjVyXtLw2fs/2gQ2NDQgxyDB399dMLgO8TfdZdam2B2uU2aJ+K8Djkd+JarUbCyc479+aknC358yzfoP7CmCdDR554xFjNHiQDOAYtZgwWedhr+ES0dn7asuCHy8sciedkRY5KvcOvnltYNnHP7wKzhrrY2NKGqVrwRDjKiIL0vv85Xw3KNPIvGjcHscIJ18eXXi5BfWDp6xf/Hn8GMeZFWCwYIWfVJR96ij+VJIv+LkDcW8SRD4hIVeNDkwWiDVYkvY87/Hn48bMacg4ScUCFog/utr+1EwCScO9n6PQJAecxkBTPw4Sh+mYgdA7vFN4S8lDZtT9Z+vYB+S7NHKjgkNFKjd0VmKTzCWXZ4BGEvBWCycFjAiUQFJC6lFjnU74x+ZsWbgVNieDzzYXHYriv6J+oZ4iMSPr+D+wDCMGHhNzCklGgsBifgbC/nbfa5I/ADl67Z+PjDqq7HPwU+HIa32ZeaMRazBgrnfYUIJ1iDK+iLx43EfCXy8oZgzCnN8U4U9fs+GgdMTxy1gj56oLR8eStweihwmBfduvIsx0vhxyKD8dusj/e6OEKhTyQgh2C5weZ9+Ez92/i9TX4Wf82DPMbTWYy6DtBLYV4rO1FJIu4Ly8QwAjfumMsT9hhJILxHmBwL377PUfPLTukemb5j8PJRfwhIe3rLlWoXGg774bT0OEK9LibuCAC9sxSMSvxOgGjJXrosfOTfjpVWwpxRMx+vaV+gJQme4kvjruN9UijqPqRhNAY1oVQgRf1oR7Cwoe3PjN0PnfRu2EE5bweVyoJ1BrjjERq/XGXAmvPW5GC/1il9KH+4VAhLx3yuk/6TnOOvCFcOZmi2hLyY9FHN6zS+Qd8plKmLMwizeWITle0z/9SX+tDIurYxPL8dvu8sksD4a7kuR8b+hMuv5VesfnZvx7w3IfLd2v7YrpvPIpJfn8SweJ+Li4n755Zc/qX7SbW4RgVrLPg653Ffa146b/8WwWbbkNMg8AYYy1KzmCt5QCunlsLcc9grcf1ncL0fX8YmkPYH7jZj+ixk04peA4fjOma8nD5lZ9HYK0u4K/lz1BvqrS5ycnJybm+tOAFfnka78+QiIxC9usXj4RNzIpzcOnw+/HLT+nA+mE2A6ibrB3nJIqx0EGiZ+cx3xGwRrf6w0Si2C3BOwt2j7lOVfDJ1RuW2fsOUfOHEU6Lr6NNjuy5YtE0WFuoxoYKl3il9JibuKgET8dxXeP//mVrugR7U6LF//uuFvUzKmrwRDid1cKLI+MtQSTLfq1PtI3BfoXxD3BdZnU0t4QylnLBWIXyCD1FLIqoI9Fth2OPGxBetGz4b8E1AXrsNdj4erhIX+pKSkfv36BQQElJeX//lVle54QwTQQM8LYdVdYHNZVn25duj0zGVfwN5ixPoZFWAqB1M5a6rgDOWwT+D+KyT+OtY3VAhq3jLWXMKbytBvDWWMqRTpjX7Jg28zv/37rG8ffwYF9hE0O1f3B7GkCQkJAwYMCAwMxBNEkQPEDFLiLiIgrvHzwj4dDm7PW6s/fjDywIufISV/9glIL4P0CmEKiJoe9Qoz6iE8MgouFWZ+SOKvXQo0lyJLIKMb8acVQf5JMJae+2L76uEzv3rmVfgdTQYdzOXdVa5u95UrV7Zp06ZHjx644u7awXqsf51+dRdBa5G3loi/qTU7CpyNzHR3LXzr67Hzzn/wLdK/HTghCGeCrIbE98tGW3DgHJ9qcWaU2YwWzlhq23EIjOXcviI80KNR3lhWK/MZKtCgsKcs65XVax8JP7X2G+S0g438hDdSfGM5jtu8eXP//v2VSiVN09OnT6+35N/UMG2y5cUSnoMFxgXVju8jn1v/9whmW5Z971E0oGdWQMZxMFeypgrWVAHGCjBUICOPfUV8qoXbU8jvLapVDCBZH52sGZ28sYI3op+w5jLIrYK9xZkzXt84fEb51l0IKZewrwNy7rt8OBwOTPkkSSqVyldfffVqAricW0rdJQSQ+qdu2z3GCb+f/2LC1LgRs2DLIUgXmji9HAyoG6BTaGWhn1TCPgtknkQzxUxhspheyptKGjzthkI01KSWb4l5Zd2IaWA6ijyAAMSFfFwz1sUyDLN48eLWrVurhCM+Pr72q7odg65m/Su61F2CSLqtgIBE/E2wIzAAhefXDo/ZMHwa0s+nFrAGQSuLVmeFM00IwZGG6N/521HWUPK74dhFs8VlLEVTe2N57UKvoN0VZgACKwjEwO8pvpCyN35wqOGF5WgHF1ttDF+HsEMxx3GJiYnBwcE0TQcGBtI0rdVqsbjfdLc0bII9oK7IWM9vZ8HugMOWpJFTtk6Yj/wzcyvZzHI+o5w3V/J1xM+aEJ1z6SX23QVw4DRkVoK53Lr7KGSfxGv8mPXRX2GigP8yplLYZ6l+/7t1gyJ3vrEKbMImTwC8YOOHGz0uLq5v376Y8gMCAtq1a4d3fxDFfXHKWFdu6f/dQ6COT5122y+/fDFy4u65/4Jfi2qJXyB7PLGrnd4ZShD3G8rg8AUmu6LaUIQWhozlvKmENdeerowS8bSlH0P5zafyXk9IHhxT/l4SXHLinXzdbX1efPFFrVar0Wh0Oh1FUf3797darbg/1JWvvpIfX797uEh3dkdAIn53NJpAGm23Vs3Cjv3rh0TuXfAabM+tVcfhpVlD7QItFvp5Q7HDXPrTR8mrX31v439Xn/n1AJLw0svALCwAXyZ+Qe43Cjre9ApIK9k8KuaTweMR8QuO23g6v3bt2t69eyuVSoIg8Pvs7e0dHh6OUZMG90boPdik0smB1V7+v5+/+PvEgy+9A7nll4k/A9G/yOiCgqecSy/ZvPzj+GXvJ7zyQelPmWigN1WA+XI2MT9rLrPtKUChHrcdiBs5dU30M3AeBYDDB8Mwq1ev7tq1q0qlwv1BLper1erFixfjziARfyN0iVo+dYHDXrR6bdzosJPvfwM7LLXEL+h1sHYH/3WmFrGGEi6r4pvXPkt445MNr7yPeD0NSfwi2YsJ1lziTDuG1o+yT1u/Mn01ZLrh2ZVw4ncAHjsB/bGn+eLFizt27KhQKNRqNZ4LkiS5efNmcVrgTvw4BJD7Ffd0Y6DXUp4pEX9TamnsvgVWruT9lKQhU3Je/QhSD0N2OfLUwiE4hL91XjrFjLm4Jrd88P391V5+neg2G1/5yJlahMT93NNojm8sAzNa3BXm+MJHtDBcBTuO7J2+cP3oiIqdRhz9KyUlpUePHnK5nKZpkiQ1Gg1N00qlMiAg4Pz581it15RwbGZlZXiosZtWrV0zLPTcR1/BgZPWtAIk7rudmMsR8WecgNyqv3j5BXqp28j165a9B/m/IzVv9gnIRLp995M3lTl2HkWm/jsPfTPl+Q/HTUU7tTAooPO6dXF9+vTRarUEQSiVSrVarVAovL2927Zti8V9h8MhEf+972gccIJJLiL+759+LnHk5Itrf4Kfj16L+BlDicNYYs+t6OCla+Wj6US0Pr/rEKSXsuaGiZ81WJB+yFgB248lDpi8ceRUrOoHgMWLFwcFBSmFg6ZpLy8vb29vuVzevXt3rC/EaLhTu0T8976H4CdKxN9YyN/Oc/H6PjBQ9O+EjcOmX0z6FYzH0Br/vkLOWOwy1Z6M0XLhtzzGaHFml57NsYR06O7j5ROg1H6++L+OzLLq3Udh/2nIOuHaVwSZlaJNr2D7XYqUATuPWpZ8uG5U+Jn0nK83JD3QozeevJOUEp8arUqh8FWp/KbPmHo71aj7jbgu+MdyoN1uFz0FROWB5PhbB9V1/7sAqu3fvrwibnSMdc0PsO8ICuFgLhOJH6cRoxtKmN3HLqUea+Wj0RL+GqXu8zc+sptKXHsKkWSfc9JlLIX9VS5jKT454SMi/t2Ht81Z9NHjU6yGAz8kf92jVwhJ+pF1B+F2LF26FJeVdbG3RPws8CjgDLIUc7oEZy+n6wrvAbyp/HWBkL5Ejji13O+w737+5ZRHJ8FvR9DqnqHWjIMzIqtetNCTcxLyTkPB71V78moOVnbyC/IntBovgtlf7jQU2tKLHMYSl1mw8TSVIktPE+oVnFHw+zceh12WXROfXz948h8aoBUrXtVqtaKIj5WCYqeIi4vDTr+31Dzu6/1YtMDjwy3dRMp8LQQk4r8WMp54HW2VziODu3rEz6cWukxIvndkoNNqOObIKK5OL7DnltmLTj3YNURFaUkZ9emK9+wHT17KKLEaipCEZyqvFfpNbo49+0pgr+Xoy++s7DFwePuurWiNilLLZDKR9ZVKuVwuI0gF5UdQfgRN09h4p95f9U0ccuHo27dveHj44sWLd+7ciUHneR6LCBLx31QvRMTv+N/CFV+MiICfc5AZdlY5UuTWSfyOtCJktJVZ4Uy38BnllzJKdL4ahZxWKlSf/vdje26FPbWQNZe5jKXOdIsjrciZjsxBhFG+FHmI7EWB2/a88NqCrv2Ha9u38fOnaO21iB9PBii3gxYO9+5Ba9QNnqQf5atUaHTa7r16hkaEv/Tywt92C+aEAgpSZ7hhZxA0ghyLhX6bc/OEmORHxsO+QmS7V0f8SIuzr7DWyCPnBHuk6nxe6YUjlRovQu/n7+dNVueX15gKbUYLn13JZVXY0osw67sTP6RVwq6SfZELX9D/9QGVnlTKFQoFSZJqtVqn04mUj0YKmYwgCPdeQfpRN3lqtVq5XO7j40NRVNeuXUNDQ9999938/Hw0OxRMjm4IiJThWghIxH8tZDz0uotDxF/w34SUYdOrE3+F9GOQfoxNK3CZEOXbMoqtmcWuA5X27FI273h1VvFJ89GBf+1LKWmFjPz036vKM4+d3l96Lqe0xmSp2XmYTbPAgTPYfUuw8itD1n/7Cq8gfj/anfjxDMBH5qXVqXs/0Kv3NY6Qmzi6du1K0zRFUQqFgqIolUqlUCjGjx9fUVGBVwTd5/iiGsBDG6YRi+UCuMR8/9Jrn42Igp/3I+LPxFO6Wm0/YyiB/VWwv8pusDizys/tLwuiW2m0rZSE+ov3vqg5fPJSeiGfXQlZlS5jKVIPmMqQqyfm/nSB+PcdS33+tZf7Dh0Z1ClA5keTmmsRf0/h6OV2BAvHFd0kJKR3Q2fwA717BPfyVSq8ZT4+vjI8D5DJ5WFhYefPn29EgJvKo+sR/9dPxmwaOB5tsodMelGz1v7NOVmzt8CVZqk2FJ3KKTyZV3witzDAy0/ppSC8iKqDJdX55dWGIsg9ifuMKO67jKWMuRgpDPZVwu4yw4xlL3UI6Sr3UxFKpbwB4icIQqPR9OvXr1u3bv369cNDQoNN3/DF3r1DQkI6d+6s0WhIktRqtTKZDM8toqOjm0qjeGY5JeL3zHa5Zqk4Yb+8o28lJD06vSbhVxRD+0rir84q3vZB/LAODwxpGzyi64CHO/Vu7Rfg5S33Jfza6tsN6vVwn/uCH2ofPP3hcXbkC1CG1IDIu7fOvs9UAb8dLV28asPwKWfS929OSOrdsxdS4tXp+UlKSdMUlvgnTnrSXZ3rnr5mBa78gmGY7du3/+tf/3riiSf69++vUqkIgtDr9QsWLMCLxGJ2fHPxo5S4jIAL4IL9+5deWzdmWvXabWiXVYNg82FCXtpsZrndVPLeU4tGtn5gePs+DwZ1f+j+vqSMpvz8CVLTtWP3B7v0eeS+PiPu6zd/SKjdVGLdfRSv/mDiRzMGgwV+O7j9qUXvjAl3ZB7839rEh/o+6FcrxSFZTpTwCIKIjY3FQdkYhuHcDve+4b7K655mcZQAgO2/7Vi4aNGk0NDgB3rr9Hq5XN6mTZs333yzurr6cq2lVEMI1K3xc2BzGp9Z9tXgSNhdABloIigSP2Mo4XNPPEQ7RQAAIABJREFU/Cvq+RFdHuzfLaRP95CHu/UJkmsDaL2O9n8oeMCQng8ObRcy4i8PvP3Uy5fSCx3mWvUPmg5mlKBAn/tKYHfRD08+vXpk+B8evyuWLvHXXFPVf9mRz8UipT17Uyda7uE4vGAEAAkJCbNnz544cSL2HyEIol27duKdG0JCunY9BCTivx46HvOdODwCY2egmrN8uDl55FOHVn4Bv+RARjFkFPNmiyvD4siy1GRbkl776D5ff62X3N+H1ig1cqWfr7+/F42EfsJLrvamgmSaQa17MpnIaacuSquwPZexBBl//XTEMHHRugfDT+3LRTbCAJs3b+7R469aNe3r46VV03qdRin3lXl7BQXqT58+jRfwbDab++B+G9A5nc6qqqohQ4YoFAqVStW+ffvk5GTxPphExEeI11t6gge0j+JFm+nDdQkjZ9R8tAWpdrMrUbOieL2lzsySmuyyGUMntfPSqbwUpDep9tOpaJ2fSqf1b6VR65W+lJrQBND6Qd36XjAdQ8O6EAeCMwpRHY2lKCr7rsM/x7zwzvCJcM4BdhRubfPGTb1798ZqfIVCodVqsTI/KCjoDzuvO/fttNvtOOx/Tk5OcHCwSqWSyWS9evUym80tvcWvX38xkqOVS53/+lePzjq7YQdkHcetic1+HSaL40D5UyMn+ys0BKki/TSBhE7n7aeldN5ectQ3FLTaS/EXL9WsUaGXsottGYj48XQQMssu7jrgMOSBIX/jiCkJY6LhTDUIc7zYpUvatG9HUKSSJDQ6LelHaf2RL19wcDDP8w2G+sDj2vUrdPW3SUlJ3bp1w77Ew4YN279//9V5pCvXR0Ai/uvj4yHfisTPOWx25M63O3/diGl7nn4NfjvI7jkI2eW82cKaLc5MRPwJyz/4i5dfkFyrlau8vLz8NP4yvb+PVkuTGrU3RXjJ2sp1Q9o+4Mwqh/xTyHsHe/8bLEi2M5XDDsvPjy7YOHQWGuKFUPwYhc0bk//20IMqP0qrptW0n8JXpvCVRUREYCvuOwzY4s7oSUlJPXv2pGlaLpfPmTMHPx0r/92zeUjbeEQxbEzhpm1rB0YUvfQJWpJPL3In/ktZpXPHRHVQBgb46gJoPe2n1emDZEpKTtKkn0ap8FP76Qgl3aNd13PmY8hfy534Uwvgt8PwY+6m0TEbpz0LF5xgQ7s1uxzIq2/z5s29evWiKEqr1ZIkiZdsYmNjcTPdNjI8z7MuVgzn7nQ6P/jgg7Zt22KF0Mcffyyt8l4T29pNMziwQfHbX24cNvfwG8mQhsR0HJ+bMxazmaWOA+UzRoe28tP7Kii50k+n0CC9oJePXOmnUetlXr46X5XaSx7xyNjTpqP1iN+aetBpyDmz6fuU4RF7n1kOF53C/nzgdDEOxrlk2dIO93X0VSrUWg0lTAwpikpISBBb073kt0f8rKA5eOaZZ7A9QVBQUHx8fIMTC/dnSWl3BCTid0fDY9OXiR8VkQMov/jF2BmJw6bBr4cgo7RmXz5vtmCh35ZtMSZunf/4lHlPRE8a+njk46Ed2twno1WUTj+w79+mj4+cMnzC0+OmrJz2oiOzDMVjzz0JKJZ73WZchnJ7YmrKoKf2zv831AC2qOI4F+eqdd/evDF5QL8+fqRSr9P4a9Uqlers2bPY4lpk5dtYj+d53maz4bfX4XBwHLdgwQIsSh48eBDPP+7k/h7btHdSsMuWzxwHh0pThj21ddR8+O0QmAVFjhFJ/K6MEmtm6bol784cETZl8BORw8ZPGvUE6afx8aMVGt2gR4ZGPh4aPuKJ8NETY2c9X5OBDAOvIP70QjCU2t//OuGRyeb/rIIaBsXwYcBaXc26WJsNRWxdt25dnz59CILAllxt2rS5k0q5/1Y08rDb7cePH4+KisIrQVVVVe7ZpDRGQLD/QcE2WeDAAbZvTev/PmPXrDchvRKF9Mio9fqxpxbYTZYNS9+ZPmLS9PGRUU9ERI0L0yg1BK0lSFXk46GRw8ZPHT05fNBjSW+ssueWOcyCI0A6EvpZcwlnOgbpeabYN5NGRJxe9x2K5IieyONByuqws8A//88Xtf46WoPGB5lM1r9//waVQLdH/LWV5bjKysohQ4YQBNG1a1epD9wSAhLx3xJcjZX5MvHbnA4Um90GO5a9mzx8hv3TbWhH3UwLmGqJ35FlseWUns+yOI6evHTkeOX+wr739/bxUaho3Rf//uj8wbIL+WUXc0sc+ytrTBY+oxQyysBYKnC/BdKKwXA8O3b1miEzSj77H9ixpr+u1hyL6B9ZGfApSQn9+4So/JBdXlhYWD1x/FaJX2R0/CRRqx8WFqZWqx9++GE8/xCz3er96yrQ3P5zgFbFL1irgUdd4qcpixIejoGf8ly/HURaHEz8pmKb0XLRWHQ2veBiZol1f9nZ/FKdWi+jVXK19p3/vndqv+VCTvGpnELH0ZOIG1JrJX6sFkYbs+aezJz5ysYRU4o2fotitDlctWO9sF+UuKKfkJDQv39/rPyPjY29Q6zxbcUlXqxPAoB+/fqp1eqoqCh8f6knuOOMvH6ErZPRJhsMQBUf9/j8uMGz+E1mSEdeP4wR7dYNeVVOQyEK8pFhqc4vP5VfUpCRH6gKUFAqf03A2fzSS/vRecZcYMspdWSWMKZa4od05M4HZgvsO7gl8un1I8MhNRdLImIxsBMmCzzDsi/H1obspSjqyy+/FJsMv8j4h5cnr+ItrpsQWxz7/rAutlOnTiqVqp5q8Lr3kL4EifibRCeoJX4OOCfaG48Hm/PYN79+MTRm79RXYPcx2HsEzEW8uZDNKHRlWJzZxfacYltucU1ucVXmkQc7dvcn1P6Eev3rH9bkltpySm0ZKKKf3VTCmItZcwni/vRipCLeXQhbDmx4/Ln1E5+Do6fRBjC19lY4If4F4Fi7tSYxfkPfvn11Ot2dS2Di+yy2B9YiYIPepKQkfF3kfjFbS05gCc+Jt1G0cSUffJUwZMa+F9+HHYfAXIkW+3NOsGmFyEnPWGI3obN635FL2cV6Ukdr9b6E38dvfXTGcASOnLVmIpcQlwlt04wlfpTIrIS9hc5Ne+IHh2+cMBNqbMA5gBUixFwD98TExF69erVt2xaHcrtGrhtfblAzDAD5+flKpdLLy2vr1q3iGtONb9cycojEj7RzHMAFSH9t7bpHph9++QtIKxU26yp0GgpcpiLWUAgmtDh4yXCk5kBJRfaRABSESdvKT1edY7EZjjoyS6xmC5oIZqCg/Zfjg5nK4Odcfv2PiY9GJkY/DVYGGHHD0IZRxhH7u3fv3vDXd3w1JSVFqVRqNJpTp07hVYA7vmXzv4FE/E2ijS8Tv/BuC+t4DCRFPL9h6DTruu1o53VjIWQUsRmI+9nMYnw6s4vPm44Mvi9Y50W08lGtW/p2tfGYLf2Ydd8x5JljKnWYkX8O7D8pOPsWQc6ZjOc/iBs9z/x2PPxuBw7t+CFwv/tfjBheS0R/k5OT73xb3quJHz9m4cKFCoWiTZs29YT+JtFsd7uQ4kCPJDwnwHHnp49OS3xsvnNjGmSd5PceQ+bceWfQxjx1J5tWaMsobuWrIeXIK2/9O5/ZMhDZi8ZfmPXRX2QbiAK/bItZvG545OFVceC0CTtE1S4jX6d2cXFx2dnZ18lwJ1+FhoaqVKoBAwZIxF8PRnEiiCIf4Vf22O9xI+Z8N/Yf8GMe7DoM6YWQd4IV7IHAhNSEkFtuy7aczSpoq9TqlLTWS8nlVTj3Hkax+g0WFK7HnfUNJSiuw67C7U8sSBgSdvzbH6HGCk7WwQjq/nqlcftotVrffPPNq7fldcty+0mGYR577DEvL6+xY8fiNcHbv1eL+aVE/E2iqS8Tvw3Q/BrtnONwVny14+PBUd8+Nh9+yoe0Y3wmEvp5cyG280em/pnFzsyS4e0f6Knr0NZLtfGVj9B+a8YyLr2EFzbldJgR90NOJRrod1vgK3Pi0NlrRsyEotNgQ2uFHHoUPkXu5wRtP2C1PyZsRjiuRd53ArHdbu/WrZtarZ47d667/eCd3LPZ/FYk/loJj4WCT7/bMHRm6lNvIIcrcxmHIu0LbtypFkgtQWdGpTOj7D5lK38fdWsi4JOlb6MOgPdtQjv2CuK+oQg5BGZWgqHU+ulPn/8tdEPoPKg6D7xD2K6xdnPe68PY4Jru9X9yM99yHHfq1KlWrVopFIoVK1aIsZ5u5rctIo8wK7usPz/LHHkjfm3/CMOzbyElUGoBmIuQUjATifus2eIwFdrNhdVZRW29iCCZpoPcH/YfBzRKWNAsAfmFWmpPk7A/7+6i4uVx3w+Zvj3m/+D8JTQ4uHi89NMgvHhMcNffYCc99ysN/vDmL/I8f+rUKbxn2Pbt22/+hy05p0T8TaL1LxM/oKGXq+bsyJjGBt8882r84Kmm2W8gb11jIZiL0CzeXAwm4TSXIvebtKPnsyzVOWUoSEtGBYrPb6iAVBSkBRF/RrHTUICub839atILcY/PO7b6W6hxAeuqo/x6xM+zDNq6x1p9ETgUlvVuR9F65513SJLs27cvbipxgbBJtNxdLaQo4dUaXjoBSqu/nPx/Xz72jGHxKth1CK0BGSzICgTFZULEz6da2Mzy3zOKTmVbzudXuI6edqFRvhxSS2FfKaTifR0F4jeVMpvTvhnzdPLomb//sBusiPXR0jHPX2n6Ub+KdzvEHsMwy5cvl8vl2KNEEvIuNwAvaPjruB8H+4KjZz4dOjVx6Mzf3/sWdh9jt+/HVsCY+PmcUmemxWo4einTcjbHcjG3hMsSFv7SiyCtAMUHMxaiLoTPVItz/e6EgVPXDpgMO/eDGFbh2jogd4K/G4KBWPeJEydqNJro6Gh3fxDxWylRDwGJ+OsB4pkfa4kfvdY8FriFKzxAyemEic9sHj3H9MJ7yBPPVAo5x8FUhiLymsuZ3WgPTRRrs26vVTTrzziOtuJOL2cNJXDgBJ9ZDNll8NuBXREvbng08uslb7pB4Pbcyzp/jmeFFQCOB05cc7/2q+92u5tMuj8V7f/OcaQf5R8YgAO8sMJ+3pdlmpu8aTPNhvdtYoQBHylpLjCQW/7F+NmfD5lU+U4cpB9EO6ZnFoOhiN191LmrwJFW5DCXWjNLq7PQac0sdWag7XpRBCdDJZiPQ0aF6+ccSC+ArVnfTXpu/eCYw28loE350CFogDjkztdYByaSvLw8pVLZq1cvALDZbO7s0lgF86jnim8QMtOxMud+y058JObnofPO/HuzoB0shoxSNq0QssodpkLGXOQ0FDpMFtwfWHMZl25BlJ9RBOlHmD0HIasM9h2BXYdqknf/b9QzG4fOKvv8GzhrBTQQ3KAruJO9e/pPhyspKYkkyT59+uDOcFef9acX/t7fUCL+e4/5bTxRfJE5YewV6B/tx8Gi2P2phzY8+fTnQ6YannsHfitw/C8DCXDYUi+9DIQ4/EJQ3gowCqepEkyVaH9ec7nj1/2Qe9z+1Z6tMf8XN/DJHc8shnMXAXi77RLnEgK1IOEOn26qfiRYINZ3J/4/8U0TH4kTLPBdut6v0Wlz9ueKX90GiM3wJ3VtcnkadMEOl/gT/9u5ZnT4uiFPpv3zddidA+lHwFCI1fhoT4e6PVdqQ7EKMXqRPsB0HG3RlFYC2/OZxB3fT3x2zaCwH+e9AuWXkCU/uIRRXtDzX37evQYVB/YBAIIg/tD2i9b+97ocnvo88QURE2i6fJE5/dmWzQOnpjwy/cxbX8EeC/x0ANItrtSjjLGQMRayBgtrsCCzf8GAH9l1Ggshp5Tbmw/5J5DGaNeRCwk74kbN3jhiTtbiT+CUXegSrKvW+LfR4BAdPk+dOkUQRMeOHSXiv5nGkIj/ZlBq9DziWyxQPjK5w9wvyNmXnJBfnhTxYuLIOb+EL4YUI6RXCsrbYiEyj7BqayypjcuLQvOWo3OfBbYfgh0F/LodX/192lcjZ+x68TWoOA1o9wtkqsMytjrKx0+vIxmkdbh3xI93bBs7bhzpR73z/nv4Y6O3h0cUAOt13boGKpWdAScLF2wXtuxMGD89blBo7oJ/wTdpQkgftEbLpRdiny5xL0fk1oEiNh6HPYWwqwD2FJ18PfGH0fOSh05Le+ltqLiIHMMAeB65cdZ5eTQaADjSA8dxDz30EE3TW7ZsabSieOSD3btDXZoDhoVLfGXctoSRMzcOmrp/zr/h5wJhIngM0gu49EJ88sYiSEeWnighGAtD6iHYfQj2FR54eVXKsKdWPzLFsPJzqAb4Hdn0Qd0w1IhIcBzHMAxeXdLpdHq9HhfmT5RDGrF2d+/REvHfPWz/xDvXvcKi/F1L/Mitjq2ugfM2yKv838xlcSNmrR08LW3BOzUb9sKOY7CrGHYXw55iZNWFwmsLZ6qwlLu36NLqn3dG/z971wEfVZX1J31mMjNJCE1A0XV1RaSFIqiAKEgvIY3Qxbaru+66olLEtq5dirT0DkSRDik06SGEBAgtkJ5MEgJp0968fr697868vPQEAgS+ye/8Jve9d9+999177vmfc25bGjtqTsSIgOvfREBhFRAMluwcY+Y5YZmYmKPo6sfC/15Z/Bjp33jrTReFfN6C+TTbgmuxHSu9oyeFgZ8V9DQWKWmcuK6K5cHAQHp2xOSFceMXhI4OyPoiGHakwpFrcPQaHLuG9vMXCc0AyIZDV+FITnVQQuLcJWEvBIaMnJ3z82bQoRklNGFiWUpYw3f/gR9beBzH+fr6KpXKzz77rKM3070tXwNJgfgCAbTRBGYw702Nm/zOb+Pe3PLKonMf/wI7z6K5QUdFug5Hc+BYDhwTVggfvAincotXbt405a8ho+eEjJ5TEroLagRjg+WFScaIH3CO9/YrG89tyJAharUanwJsA/7G68h61wb81pro0P8b684IknkE/GifLhat5sqvyo1NjPB+L3bkgk3D5p+Z/VXNl79C+Ak4WAD7rsDuTNifB7+fJ9btzvznygPe/4ofPT98ZGDEzHdKE46BngGSByMJrJAaOttTAJNa4JdUEJb/dw0FpF+LFyRHxca4KOQ+/n7iOS6S0vw/DuIRfuSGx4P8qLXweD9nNKF6Ka08+sOGtS/7Rb7ov2PMgst/+7b82zjYdhp2n4eD1xAdzoaky3RIUtbiNdvGvxXzIoL8X99YUnUwHW3YbEL1TVvT7AgVjR25/9viacWKFSqVytfX927PJewIX936Mkj7jjUs/OcFu5+gobT60BerQ16b/+vLC/a++k7mP34u+W8sbDoOB67Boeuw5yIczIEdGeTa3elv/idp0nvxo+eHjppz+IPv+ZQstFm4ZW8PrHWicuFcWl/CuxETTzXy8/NTKBQxMTE2lmixkm3A32IVdYQI1i5cC8PCHQGeWYTVQoekhVXWFdyFryPiJ70bPWrB5tGL4l9+I2zEnIhJb++d80nkYL/4EXMjX56zZcqbkS8H/u773uWVkaDnwIx8+7yZYo1m1LEx6ncY4GeBj4qNkSsVPv5+YkV0hFa5/2UQvf1YSRMUALOwd5vFMcLxUGOCC3kXv1gbO3ZO+IiZwSN9NrzkG/ZKYNS4BXsCPwwbMydq3ILQMbNCRwesGz7jN+/3bkQlwA0z6BjEa8L8fbyo4/4N6zdSzSzDbtm8xQb8DatG7CCSgCQIDDA0kBycvnr50w3RI2cHvxQQ/FJA5Iuzol4KjJ3611993o95ZWHc6AXRI2fHjpoTO2b+wTdXQGI63KJAj9byAPCMxcNvsfU7AmPYgL8hJzR/xwb8zddPB3kq6bpCd2OBQx48lkUONwbtk80Js99phmRNJrSbup7TJp88/G3Q4SU/r5y88INRU6d3f3rNK7M2+/39t3eXX47+HS5eAzMFNANmM/C8OEcGuciQG78DWfw24G+KC7HBjzDeaoBxAupjCV37lk4PBAlVNTWHjh/5ZuWuDz9f5b1gyQsTZnZ5cpX3gi3vLtn+wYr8uB1wTQtVZiDxNhFCmmZhiTYe3K9N7v6HOI7btGmTDfgbtoREUohWgnAP7beIhAQAwxNGNDWvioCSmqLtyefXRCa+uTR40sL3nh87tsvjqyfP3/vXFYkffF256yjkliGHD8mCmeQpEq3jFXbs5gT4x56mhmW493dswN/WOrcBf1tr7L7El3TnesBPs2jmDsta93JhCWDMPFpejwpqpNAGfFXk65OmdpfZndoYA7fMyH9rJkFfRepvoSE6jmJp0kSi9Vo6kkS+XRvw35dGbnum2LEvzL0TcFpIAXvmLYlxaIQeiXvGgBz2ukqgzMLsP9Pbr07oIZPdOHkG9GbkFeABSJSSEB9hP0/ySAmgascR2l7Au/UGz/M2i7/RypVIigbAj4QEwyFDgUbsQlNQUwM6IzpxsZoDIwzp2bu3UgVXC6CKhkoCrRhCugIQjNnI4vWceEwfD+3z1vGlRgtyT2/agL+t1W0D/rbW2H2Njw07wQGLeqTYywWUF68szjd8zXC6krKubm6eStehTz2DtmABXth7VTjECy3DRdHRQai8MH5n+T788n39WGvmHMdFR0fL5XJfX1/cw20zd6x1Y2EB8bJ+QJiHgSbk8zTaZh8RBcBmHD+icbD3cHaaMW4sr9eDmUAeYIZGhhxetSFwFNIGOp65j9k1Li7OZvHXb+7mrmvFA+rrvHUqD8OACYH6rqhYD7ncTS5/3cdP2KxJSIvnSJKoIwswY0hkjyXPuzzvp7kvsz7z9/dXKpWxsbH4zDDrbdv/RmrABvyNVEqHviV0MEtXtOoBzRSYZSkfH29nZ0e12tXT0yM8IpTjGMnSLIuPGAEqXiFoSatOZ28m/XvwyAb8d1jJWNALqh0t2O/sK6+OcnFxUihdnJwcUlJOClAqgIGgBd5hdvfgdY7jbMDfxnquD/yYKxCuc0jbGzCgn0LpolIp1WrXwsJ8qwdJsAiw+7D5/GzA33z9dLCnNuDvYA3S1uJYFfCm3tNqtZ6enhqNxsPDw8HBYcCAAY1OeW1gSduAv6kaffDui40rKHxcenqam7vaxcVFLper1eqxY8diG/oB8qPYgL/tXCgF/lqOQFs/mM0xMTEymczDw0OtVtvb28+dO7dRKdFyphj+W453V2LYLP7WV6sN+FtfVw9kTF9fX3d3d6VSKZPJHBwc3N3dxSNupd8jSgLrTRvwW2viwf+Phbjo/5w4caJKpXIW/uRyeZcuXdLS0jADYA2g43+xDfjb3kaNAz/eEGngwIFubm5yuVypVKrV6i5duog7JLYtIxvwt62+7ltsG/Dft6q/2xlzHKfVapWSP5VKJZfLn3zyybuddfumb3P132F94iUb2KA/f/68RqOxt7e3s7NzcXFRKBQajeaVV14Rj7gVNYA7zPSuvm4D/nas3o0bNzo7Oyvq/vn7+2OGeYDOQbBZ/K3nChvwt76uHqSY/zvBjOf5OXPmSHBfibu2p6dnXFzcA/QxNuBvr8bieX78+PFqtVqj0Tg5OWFvP8b+o0ePAoC4qrO9crxL6diAv70qluO4AQMGaDQad3d3KfR7enreunXrLp2t3F6Fr5eODfjrVUgzlzbgb6ZyHuxHZWVlarVa4aqUkoOTk4OTU99+z1VUVDwon2cD/nZpKY7j0tPTVcKfu7u7RqNRKpUi9vv4+Dwofn58Dq9tcl+7cEVUVJRSaTEJpMBvb28/derUB0URxFVhA/7Ws4QN+FtfVw9MTGzuT5s2TaPRSFHfSe5i7+igcFU6ODnhHa0fiE+yAf8dNpPorZ08ebJSqdRoNC4uLiqVSor9arU6MzMTreOnLfsC3GGmd/V1m8XfXtU7cOBAufDXEP7VanVBQQF2+D8QEz9twN96rrABf+vr6oGJSbNscYnWVaN283B3cHKSKxVOchesAbhq1A5OTk5ylyef+jM+6l6c0d1hB3dtwH/nnMdx3Llz59RqtVwux6ivVCpVKpVarcYzP9Rq9fjx40VmuPMc2zGF2mlpeNMJYZPK2E1xSpVqpp8vPrdJGqcds35Yk0Kr9Bg2IiLCwcHB3t5eqVTimX14sN/d3V2tVstkMn9/f47jSJL83+EI4uTQDlsnNuBvfdPYgL/1dfUgxZw1e7aHp6eji7Oji7PG3c29k4dSpXJRyO0dHdw83GUymatGHR0Xi/b7Y9BsAPGvA36kDfjvsFGwxT9+/Hg76x+2+52dnT08POzt7V2EP41Gk5GR0QEd/lJQx5tTMRxnA/475AoAwJP51cKfg4ODXC6XyWQKhUKlUjk5OanVak9Pz6qqKnGWXwfHfhvwt54lbMDf+rp6YGKWlJVp3N1cNWqlStW1Z49/Lv731JkzHBUuP65e6T9ntltnT7laZedg32/AALQxK02JqN8xHXo24L9DzqMoCo/uq9VqOzu7AQMGxMfH9+nTx9nZuaysbP78+R4eHgqFwsHBYcyYMTbgv8PafiBeNxgMeM9juVyu0WgGDhwYExPTr18/e3v706dPT5482d7eXqFQ/G8AaKb3TPGLOvgwkA34xZZqMWAD/har6EGKgPbf4zi/AH83D/dHevVcsmwpD2Bmab/Zs+RqVcyWTSxAvrZoivd0lZvGSe4SHhlBUKQN+B+kNr6tsk6YMEGtVvfp0yciIgKrd4MGDZLL5ThcXFzs7++Pp/qfPHmyo+l/Nov/ttq8hZf69eunUCiGDRsWEhKCoz733HNubm4mk4njuNTU1Ndeew2rBbm5uThCB5/rZwP+Fppc8tgG/JLKePCDeOjuqb88vWTZUoIihdPb0N5+gXPnYN8+HhAFgMqa6lmzZw8ZNqzjn3Bvs/jvkDEzMjK8vLxiY2MxouP9fAYNGuTi4oJnyOPt227duuXv7y+18O4w3/Z63Qb87VWTYjphYWHPPPNMfHy8eAcA+vbtq1AoMJPg39OnT48bN87Pzw9bFOIsUelbHSdsA/7Wt4UN+FtfVw9ATNw/aZYVUR/jeuDcOUqVKjouVgR+PFZqOc6nY3+Yz5OIAAAgAElEQVSZDfjvvH0oCg3o4HRE4Hd2dhaBH3txxTh3nmM7pmAD/naszGaSkgI/y7Dirr08z5tMpmZe7CCPbMDf+oawAX/r66rjxhR99dIiMhzHAjrEFwBmzZ7dEPgpBi3cYtHJfC3t+C9N956HbcDfXlWOG7op4O+wI7g24G8vBpCm01BoSIFfjCnlCpIkxfsdMGAD/tY3ig34W19XHTcmNvSl+G0izYzgmBOBX+GqlFr8jHDSNj7at+N+mFAyG/C3VwNhyG8U+DuyF9cG/O3FANJ0RINevNkQ+DmOo2lajNnBN/KzAb/YlC0GbMDfYhU9ABEaKu/1Ch0QOEuuVEiBv16EjnxpA/72bR0R+PEYP9YXpVpj+2Z3N1KzbeBzN2q1IfCLuWAJ00GW89VTBMVLvwB/bN6Izk78SPwKW0CsARvwi1XxMAcCAme5KOQ24H+Y27jV39Yo8Hdki7/hl9mAv2Gd3PmdFoG/g2iHItLXC9iAv/U8YAP+1tfVAxzTf1aADfgf4PZr16LbgL9dq/PhScwG/A9PW7b0JTbgb6mGHorn/rMCnOQuNov/oWjMO/0IG/DfaQ0+pO/bgP8hbdhGPssG/I1UysN3KyAgwMXFJTY2Fgv9B+sDbWP87dteNuBv3/p8aFJrBvg71DfW8/CLlzZXf+ubyQb8ra+rBzimDfgf4MZr76LbgL+9a/QhSc8G/A9JQ7biM2zA34pKevCj3C7w8wD3f4l/B7b4BWOjQ1RSG3i0bcBv+TpsVrUhl7sa1Ta5725Ub1uBX+AJjgNEd6M8TaUpmvj1Ah3N4rf2GWkxm/qme33fBvz3usbvS34PNvCzEB0dLZfLfX190bIizrot0V2sSmlfbUaoCdEeYuCvg/pWOXYXq73ppHFJrFXNs8zmuBi1q9LXd+Z9Gr2ycAiGvftaNU1XWhuftCfwi+2FdIL2pSa/qsE6/vbNtzWpNfzUem81Wfh7/MAG/Pe4wu9Pdq0Fft564DkAA0ADTyOQFTtxowEJZzf6/E5uCpjLMxATFa2UO/v5zASOBxZtN4h6mJhyWytVfLHRAEqaAaAEYoRwgzqw5Ch8Oy5JW8twD+NLWgjlirdtHuA1yEmO9urHmzrjDZ3q6DiWyuGAx5VgrQp0fl9j1FDoNbhjhUmLmVjvsjmE4AWrEn8J8MBSW+Ii3Fyd/XxncAyFvgoXqUGOzaV5R5EZDigOKBYRwwKHWRIVw1LIe9jA7ZRVW4FfyJYXemOjfkHcJLi7tuNv48yHTiQJCFC7qjbHxiEpgRpEwrc8g9i4IUnjtDVcLzVgOJQrRwNHCb+s4AuxekQ6FlvYgL+dOk3HTqYNwG/twhj4mcZlvLTvSWGl/cI4h9YA/x2J76YKLBEZOH1cLeJ3S5sb35Te6WBh6Ue2AfjRV2AdSFSDKEGYCp8nNpBUA0O1JM2tfrge0te7bPJd7OQRE0PAb94SF+amcgzwmXb/gJ/hkKzHZN0I8/8p8LOC5iXle7GrtCPk41zElKXZofzn+AW6KTVbYjYDKwA/YpvGwF56s61gL40vTQcpx4hBWWQvWUhQBxFj1NGn65b6fl3ZgP9+1fw9zbd1wC/2KDFgtaTQZv5WjaC24PgmZmwpUrZX2JIT15yr35KXVf6KgrjJQB07QNqNa8ONdlURAnGOqC/jeMLvfRjprG2HlkKScqKorbX4LfYKNm3Rr+ACMQOYUEBEOJFZGjKItWDSAjSFA9I41veE/9L0cSQAnqM2b4pQq7DFz6J41tyl6dzVsKWQDeuhTukfpIu2WvxC9fIcsBxywUnbCbsBpDfvRT0E+s9RK903x8Zbema9EjV6KSlXa7hFEr3BF+P0hRhNJVXn9ft6YQP++1r99yrztgC/2F3Fwlllah2os3SupuR4e90HQL7UiOgtTgqVt98shgdM0vRFFbuVAem7TYZ5ZDYgElyZ1l/OqmGgA5CsN0H06YlV1qECUjHUeuDH5rjgx8YObYoFkgMzBybBxW2tH7GixECdGqs1gGjr8AnWIBr+SptPUreC45av/QVAVnbspjilSjXT159kESvi+NIU7nYY+faxrMf1i5rc4u/vUK3f+sLcLvDj0UBLPrgy2qr7t76xmknZJ+ANF1X3yE3bKR4ovg7jNZ++lBXNAI2SNI40tcYZtTFR2aHsfhvwt75fPMAxWwf8jX8gJ+kJBgADgFEw+kzCr1G4vHu/NSzKbnX4Vpmq28SARbgAuAzSTPUArSTpW60Mm4RvJK1y3QhACDYvheZAWCCnQ/Xqeg15e8AvuDQ4DPw0UBSQFJAmMPMApMASJoEZUIvwoGehhrESC9VMHapiQaQKDholMUJV3dd1DEhJz6LcSYCNsducO/WcHPCGGaCGQ2yJSQdwV8nCZsInm61eXBZxBCIeSIsaUq8NHoTLtgI/NhFMpFn8OE6QCTqAaoBKgaqtzdFM92xrezWV1JQ5/5QpHl0fl4Q5AQuoFn9FzjFYi9pUeaQxxWRFWST4wSyqnzg2Jnj7Ld5HK7OItXU/Azbgv5+1f8/ybjvwI1sGj1dVcXC1EpLP39yZUhq3/1rYrouR+66IFLH3MqI9V+vStYg97UJXI/ddiUnOmrf4J5n7k0OnLow7cDFy36XIfVeiEq5H7cvBFJmQ0yYSX2wkkHAdpVxLWVEJWeF7MqOTLu+/cOvKLSTRqgQZb0Tgxwq2/j1rxtvM6LaBH2M/hyavmUkwmYAyCd9eA5BrgKNZ+l+P5Mftz47cmxu1tyBqb1F0QmF0Qn5MUl5MUk5cci6mmP25IkUdyG2GxGgx+y3v4hQ2JeVaKDk7JuFKbNLFuOTzCz7+Vub2xJBJC6MSM6OTrsbtz45Lrs1ImlS7hzcfKoxOztl6RHs4U3+tAm4yePDDzICRB0JwTdxmS93f11oC/jq+claY84m8HDxSdYwAuVWw60TOtmO5MQeuRR7MDj+YG34wN/IgbvHsmP1NUtSB7DZRbVIHrsVIqO/YRTL1cwuXbIzenxW9P6s2WtNZx+yvk3XkwexmSFpIMfHo5OtRCVkxSdd/PZK/84Q2Ob0yu9JiHRFosJ9jhUmgljnC97eBJbnbgF9SGQ9vsI3AzwIQDNCU0J83n6r5NPrSiuj0ZZGpn4Se/Djk1CehKUvCUjF9EnqyMUr5JLS96OTncWf/uX7ftMVr534V/fmmU8siU5aGn14WkSalpZFprSTpW42EI1OXNaAlYamLg1I+Dj6zPOxsUGJptgluCiYvJUzsQmKPqR1j7oBM1Brgx3P7G/FboHEeBsDEgokUTKJbAHsvwfLQjI+DMj4OOrs0LGNF1LnlkRnLI8+i+oxMXRp+emn46SVhKSJ9HJ4i0kcRKY2SGOHj8NoXl4SlLA2tQ1/FpS2POPJ53OFF30aOe/erd1f9+nnsiSXhx8VWWxqZeldpWfSZZdFnPolA37g88uznUZlxxypuAlQglYhmkNEvSPsOyActFal1wI9924gtWAAzg8wDPQsRB7WLg89+Ep6xLCL90/D0FeFpK8JTMX0akdoiic3XUiDl0wgJRZ78VEKvf/3b+HfX/PXHXUtCjy4JPb407GQ95mnqUmTUJWG1jCplyGZ4clnwyaVBJ5YGnVgemvJp6NkPN5z9KubqzjSzloYaHo0acKj7UB3K3AcAG/C31BseiudtBX4GkP8uj4CNCdc+jb707+DzsSnGXZfYE6VwzggXzbWUaYa7RQTKJdMM50xwjkB03gyZJFwU6BIF94yOlsKxYvj1DP3f+GtLQzO/3nwx+ZpBwH4B84X1Dwj+O+rfnQI/jyw6VjD3s0zwTfzlT8Iu/XdL3uZU7kgxHNHCeROcJ+qwAW6jer8XKGiR6r1iaWszXLJSFgNna1BeFwjIMArsIWR9z5jhEoU48BIFh4sh/GjF15uvLwu/8FVcWpYZDTFQQP8/AX4OwEDxJh5yy2HNppTFQSlLY69GpdD78+CCDi7WwCWBLurggr4FOq+H1pIBzhsaTy2jGjKq4TIBV8xwyQSXjHDZ1Cq6SIBIoigT7zQVEBO/QqC8MqrgRAkcyofNqdxnsdkfbji7cmtWZjnCfpZHc1FtwN9RpeNDXa42AT/FcyZhfC7k8M0lkZd+2n71bDlcNyLvbq4BcoyQa2ofyiagTdRe+d5GOnlGyDPCdRNsSqn5x/pji8NPXjAihx5aXd7hgb8eaze6c1+TJ66iCWwc8CTJI6P2+/irH4VdWJNYdkUP162UI3BFjrEF3mhNW7e2aQjIFamduLG1WUuyyzZBlg5CDxR9GHHp69+vl/NoajuLx3nRUnJB2tdf7livNTrQZVssfvRxZoASAr6Pubr4lzOb/tCml0ExDblGyBEEBRYXWGJg3mjy14BeaZIEvmry3TY+bWUr4/7e6G/zKWTVwNlyWJNQvjT68prd1whAk5F5irQMAGGWkI6Z3Kf2t1n896ni7222bQJ+I8MRAPsuVHwQcv7zrcXpVUi6FRigSM9ZyMgXtQcVmPg2UbtkehuJFBt5THlGuGyG8JTqf0VcWL0v95YA+kjO40W897ZNbzu3tgE/wn2Luz8xnf488upPu0suGOG6AfL1LKYCAyfSbVTvg/tKgQnBVXolrDtm/nf4xe0phQbB+420KBH1Hzbgx/NZEcvredh8oHBFdN66fbqrVUgJKDZAQQ2bp6NFfmhdAImXpqmWuwqMTHMk4cOm8m0NsxUb0Ic0RdIUCgi2PhmZfBIuk/DdzqJPIi8kZJIkCzxeeSKyhA34b1t42V5sUw20HvjRcC6PnJbfxKYsic5ILoZrJFyuoGzAX2zk80xw0Qhn9LD6YPVn0ZkXijlKuoy7TU1y/yI3CvzNFAdtSgJQZoJPg1K/jLt+XAtZRmTYNSpbpWLxoQ8XmPhcAnWQdD18FpPx0YbkHB1aSGaZ292RBH0z7Ss+asnix7sl1AJ/fiV8GXz2k5CM83rI0VmQ8gYJWnPjvNEowwg3m0H9ukl1eOAvpkDLwFUjnLwBH4Zd/WZzXpVJqGC80tNm8YvcZgvcgxpoPfBTwlqprCr4MursmuTcs3q4boZsPVtgsJr7eq69BHqbzP0CU/u4GW6j8KLFX2CCaxRksbAlE5ZHZMYfyNfTyLTjWeYeNGJ7ZdEG4Bd2cOAYtHzu0Pma/8RmxZ6iL1WDloZ8G/Abkb8qh4KrJjQGFHW4+P31R3adM6ENhKVS/uGx+OsAPw1wKB0+D7m8/TxzlUIDYVorFRn5pjFeYr7XGugPCfAXmrkCgs7Rk9l6No+B8JPwUfCVc9do1HOlLGGz+NtLltnSab4GWg/8tLASd2eaeUlw6m8Z1ddoyDMDBl0R/24DOxt9pSngbzTyPbiJP7BhRuKHI9cuCVdJOKuHJSEXYvcV6hkE/DRXu5S5+YboCE/bCvwMi5y6+9KrloZmJl6HXD0S8VLJ3rDG/p/cwRZ/LgH5BjhbBh+Eng05VEHiNpYKd2m4I3BAE2VoncWPZ/UjXTAqwbAiNOdYMeRxUGCs9Y23vfWhyNgMSTR+E1tkYtueviSFVoxRNuXkx/eluWM/f+0dE1tEkEUmusgI2UbYfQ2Whl9NSq2meWFtdEfyANnG+JvoBA/X7TYBvx5gWzr1UWjqwTw+h4RCM+6TlnHu4lb0nNqe0GzkBw74i4x8vhmyzZChh6Uh6dH7SgzCMD/BkR14Un99Vm4D8AuvUhzaIQcBf9j5pGuQr4NSI5rwIWJ/K5v74YtWYII8gYqFuWn/DD2/4XCNAde3FOyl4fqt0YGu+zzXV65UNDnN01JS/DEI+MMSjctCs9NuIm3YBvyIvesC/14E/Bf3pVUbhf1Ga6d9dAB+sAF/B+p4d68oGPij42LxPu3NZEQLW+D9nmFaHJZ6OBfySSgiRGW8bYpzo4K+KbCX3m/0xVbevJN0mrL4JVlDIQE5BFpTtDQ0JXpfcbWwVNfIsRj4sU7fTPV2hEeN7tXfTMEoQKuSEtJvLg/N2J8F+TVQqkfmnaRa2oExHszUEOBhzMs1wj9DM9b/UaVHVSmMkUjluxhupqLv6yMO4Jl+fZ1dFXhHhxbLYgYITtR9Epp1xYAm/xYZQXSMtV9TWkyO2gTv2OK/I/kgzPirLYyRl1r81s9HPokCE59tgsQs+DTswu70W9XCQn581BRaG9sB/mzA3wEa4e4XISAgwEnuEh0XSwoQ1Qzvocm6AL+dQ8B/NBehvtaEpXz7CHppx2sqLO1abQ1L02zru60Afl5rhHwTWkm8PPRkVGI+7tJGrnbvXulY3t1v2LblgNv9NoBfz0NS+o1PQ8/agL8uUyHULxLwINsEH4RkbDiMgF84xbnJQ1xEj6+lG1pM6LY1ZfvGxocdPNW/r5OqDcC/MbHqo9DL18xwtYqxAb8V+JESXECw2SZIzoJPw8/tTi+vahH4Rb1Q0Bjbt3EbTc0G/I1Wy4N9s75kAfCfhYA/alOsWZiH1jLwZ1CLQzOO5XLFZgH49Q1U78Z8+A2BE8OwVFa2LzA3n740LzGMCyPtpWLxxJvicEa99IuNfKmRKzTBRR0sD02JSMquFsQ7xdD4YA/KeiInnvrcTD3fGw6TcoLojaBZ5J/oP3iQo8JF2IEICZumi8pTwsItC/BfQwvYik0CEVDcgMTK/P8RqHWGCcB/PuiQXgD+5ppXbBTLjFC8MKS5N+7iM1wYfH7SkwP6OqhbBH6LnmIGCEqq/jjsylUDXK9G6/daXO5bYAKBJIt4heVwTbFKa+SJ9N2Wx+CF+ZiiKGhreaR5NRoWCswWG9liI51nrAX+amHPA8uhX3VXeqKmFVcG4ca4J9hvA/672KnuV9KiZBGluW9ggKPCAvz4aVNlQxtyAfyWwS0OzTiRw5QQUGKEYhvwC4pOsZEtNTHFRrQr2fKQ1Ijka9VCPbI0aQbeLOj1WIbi87uw9d9UVd+D+1JOsEzKEo7lrQf8zbIEOmlctPiTrqOtnAob4L2oATQqEB/qmwj7C0z8dQL+HZwZclAvbOvUZNvi/Z3F491QD72vwI/nm1MCMrUC+GvP28XA/0nolSs1kKeja1G/6VU/bQXaRoG/GV5qCPzI607UmQwoQX2+reVpJmvxUbGRLTHSpQaywIhc/csEi78F4Bd5AC8AaZJ32vOBDfjbszY7WloY+HkAn9kBDq7yqE3I1d98IUXg/yjECvxWV7/YZ0QurxdotKOiFQF4ZE74FROptzwPv9vwV5qFoEpjhZrFRrk0NRyWxsf5WsbhJGWQxmmYo/Qr6qVfZLIA/5VqWBGcGr7/WpVQmzyFdukQD+gUxXoHtPubOpZX1BEbsAfP8hbgXx52NjG7HYBf2o7StpCGm28Xaczmw9J0pHxYpwxN8EbzKUufFhCsAPznWwR+vM0jCTwpHO3YdLU3aId2v2EdYuAEhZUC+MuAZ51dXZod468D/MGJ1UtF4DcwRSI15g5EDvCmLH6h/nGL1G0jNKFYeLHOJJI6MSV5Sdva0otxy1oTEbtznbYzIc+8NF+p3JDuzyN9q6mwFPgTrsHSiHO7M8p0gl4lHigsCgqx9fER2M3q3+3c/Dbgb+cK7ZjJzQzwc3CVR2xqeXIfCMv5fk/n7jbw1+s5DTutpetaO7ZwKaI+An5RKDTan1H6Qre/N8CPt7cTu660b4vdu4PwBp7V369fPxcXF2Rs8E37FtETnufAyKEx/gcO+BswVa18v1/AjxZ/IuJp4XQ7kWHuI2/gAX4W4LkBfRVKl+b4AW9JjNakI/9WOwC/BHSLjXSxkZYCsLSDi+JClAMoplU44ECD5uaLjbXL/0QpUc/kqCcfpFqFFPXreQ7qZS1eNgT+vemtAn7hAN9mRtzamUFswN/OFdqxksNKvZn28/NzUikit8RQaKvNFv5MAO0F/Jb+YNHoUa/G3Q93b6nwlYZLDCwm1G+Fvo2fopuCdBAji/1NDIiPLH0eZU3XJYv0r7c5QT2pgROUCgvsusCu/oYWP8+zaN9+RCKOCmHxqoVav8uPrbOHGFLYYIamn+vzrFLujHJtpoR3E/iFphTbt3axqLUhpEpebbguMNTel7a7NQWUpshLJYamIlv5odnxZpHBGgTQpNfWW/y4mXmepRm0BFSku9z8zSYvbMkMAAP791Mp5YiRm/xrF4sfj/TXjvcXmXDT1AK/oATUbReLDEExSwwWpV9oCzTUYll5b9laG8dBMgRzBeaZegBfqzcIKVslEl1iRCSoIEhuSLG/QdNb/BCW3A14XQN29dMFBki4Dksj05sHfo7Dtc2zNN4AAnU5iqJ4yV+TrXEHD2zAfweV1/Ff5QBMHJCwYPZcF5UyIj6GbAPwn0dj/GbQCsv5BDedZVZOkx3AaoXXj1C3Y2MEtfZ2S+cUBbdUUgtdF/Uu/FTsk1guiGqBNDsxHUmfrwf8FqvCooJYhEV94MFpthL4WZpkgKWBs2A/zwPNslU1QAn7+zSDrPeGhayoL2I8x7AD+j6nUchbyF8EfhaSzqLlfIntMcYvyG4kH0Xsl0K1NVyfMSQNaoGEem0tuaxtTSk7SSLUSbwOMNQ1IqWs1URYOsbfsqvfUuESN3szMNtC69zZ41qdw8oeg/v3V7rKW9qGEjuz6lj8OXq6wNh6V38d4Bd7N7b4sb4utf6lgG3hHAMvwf5GgL+20a12Ah7sr+/Sx21tBX5srGO2FLH/rgI/mu7HsKjCaQqdhyoICqx4SXD/rogPG/DfWe/p4G/jk6ArqUW+sxSuytAt0UagWhQ0yOI/Cx+F1AI/WqyMxuduE/gFgSvq0YKRJ9HfsTiu7asGtlRvocaAnywxkqhzCup8Q1lsFQ1Y37dq7gRZbLKS1Z0oAr8gemqhAgNPU8CvJZhCE5rcJx3jpxnSCKwRGBrpVQywLJgoMDFQWoncou3xh8V0m1OyynQkUyRJUEZi8HMDNIKrX9QGGklcCvxpVctDzydehyzTnU7uwxK21NAc8Ev5QQxLvDgI+5sCcqvqgNq0xMpOAsMgfsBUT74Lth0y7xpyVEt3EPAUGdG67X+HZIQcRBv4tNDFGA4IDvFGizHrNYlVXah3W9Kw9Z60cInLSZMEkDyUVAweOMBZ5QQshTTYJv+w0V8L/Jd10C7ALyqCWFyIbv+GwF+qt1jzYtNIWtziLMQyREyzHvBLOUdQ+2q5otRAWznzdi1+A1tqkFr8JS2M8bMsmGkgGDq3BI0DMUKv4+Curvu3AX+TDN4RH4jiW6oFSsKov+KOSQlj9TpID/pt/TufLJrmJ1c4h8RF6ngzg6ahSd5p8J1W4M88kcMUk1CEtuytRf16I2Ri3xPhE9/J17PFBNrYVRDQSMRjwK6V3QZG2v1E4S5Kamv3rmfxY+AXsb921o/Q+VG3t/R5pBnQRQaq2EzVor6JrBUoJj7faDl3QCI4LBoA/gpR1xG1hGICLeezAH9yboVQ3xRLEkhpZwDta8+AjubPZv328X+OhMShnixF3wa13cobtyncMcOwwsAyKbBEuWl/+Jbvln3u1bev0s4OaAYJHbquoK9TYDTGr2ch4WwN3rI3685m9Yt2VakBNaLAA/W1rnoueilvSHmm2TAyCkVmEGGgIfBLbDsB+BuMHEs5vLGwsL+Fic01wuLgjNCDNfhMljrNilsBa+FmqDp17tdl/z0aGgdcG3dzwUzQoO82xRv4vviL9QyLiOA5YDlgOGQIFNxI/nZ95CdfDBvQzwr8zQwIIuZAnkSAoETDJ6FZl2vuFPgL9aJ8wCxhgWGM1nkEm0ew+UamyFSvdwuOH8tQIGYhpAtibrEYDxblErEZ9utYXfoWrbFQTxcTTJEJ5SjMxqdv6BGVGtCdNrv6rd7+esBvEKZP4uV8jHXbfsQhLCCViwX9qYyYjz67tO9ArV0mNlu9sx6kfbMBJ9ThumYvbMDfbPVYzSRpKzQfbiG5O3yMFwNZD4G1SOvaYWUrIxgoyKsqWbN1p8+/Qia/kRW96/Up3goXp7CYcBNNcBxT35tXl5lIweJfHJJ5LJcpIqGQhDyiDvBL4bAxUYgcA9k6qpiCfAOdcr3w54i4NVGbgzdv/SE4fHXMlm+Doo5mXi82sjfMoNUzN8xQRvBaPfNz2KYx02dN8F8wedbrK35Ym1lwa8br7209nFJMQPLZiz+Fb/o5LDbs123fbwhdExH7Q3DkN+sjvguOXhm5ZVVU/EVtxXcbIleHx60Oj/tmddCq4Oi8W3ojQKEeGfolZlprMB08m/5zePTPEXGrYn79Jjjq8MWcekoMhn/xi6SfKcYsJtAGPsIYf1rk/pIbAATq1YJdT1JoFtypq6f/8cPGEf4hM96BYh3a2lTKMWJVC5wgfWJhDRxB8hTfF2Na1Ijaa8t74j/8RLwEkgQzi0qZW1WwYdtv099bM27uhb0Hhw0YoJTJgKTAZEa/YoL1ArwF+Ped1S8NvbTvOjqar5nlfOK6PjFQSKD41lc4rYk7l6tdHblpVWgsaqz1Eb/E/rYy8teCGlqAasuofAUNRTp6deSmV2fOmjxrwXif2Uu+/jE1Ky/g7b+n5xTfMHO7T6R+Hxr1bVDEqujN3wahRP67IWJ19K/fBUeviopfFb759KW81eFxP22IWBMa+0tYXMz2fVb7T5DpOrKg2hQcv/2b9WHfBUd/Exz1fcSmC2WVUvtS5IRmAwj4i41snhE+2ZgRsb/Gsle/0ADI/4OtZwMNRh7Srp/81zfrXpoZ4vMmFNwCFiEoXgPStOYlcowQQDMxG1Jta0tD4tJBCvEgzyG1FIsIHqG+3gwXC1JX/BI5fuHqkb7mg2kvPdfPRenIc2Y071DKBmKGKHVkiOJtvtYnmReH5V3UWQ/xat2s/jwCyRNBpCCpgurWwOw7cWZd9Kav12xYGRr5U2j0T+Gx3wZFYDdMnpnOM9MFBF1CcVo99e7iT8dND5joP2/0DP/vw2JPXsmbMu+t67cMuVVE9M6kn0JjEWuFx/0YFLkhKn5DVDzigdDoDU1gKFIAACAASURBVPHb4hIOnLqa+2NY9MrITd+FRK6O2bLn5JlCPVliZrUEU6Ajygi2tIbYtG3P6qColUFRP4VGfx0UXkCgrAWqPYEX80Pt0L7kDF/MDKUGukiP1/Gn70svMVpbhWVYg0nQDDlhF18C+KQTx95bvuFV/4iF7wNtXf8rGnjSVmg0LDYNDlgzavG/DfhbqKJGa7uZmy0kd4ePcVcWUAYPtaH00E2O0+mBplG/rjSm/xIdOX7hjuFztg+fs/G1eXCLmDt5ilzhGB0dSdFm4PAEUquWgIskMhCHJNG2NOTqx8Cf30bgx3iZo6cx8GcW31z0wRJHz0dkcrWDexeZpstbn3x6vrC8jIS8ClOpkSsxsPmVxNBXp9i7P2Lv/sjIST4jJ/m4ePaSqbrZez6anl+uNcOQ8dNkGk+Zq5uia08H9y52Gk+ZytPj8adlHo/Ye/aUaTwLa4jV4XGPP+tl5+ops1PIFB6VZiisIUrMbF6NoUBnPHUly/PJP9t7dJG5usncurz5yWfpxbeKKcFcsw7rSoG/HurXA35s8YftK6zAopSiwMxTR84lvLMi7IWAXSMXxY9amL0mHi2Do61z/kSmkXRR8R4O1OOOOjclDVRHKEv0Cvx6HQgxCxL8WsmVNXHxM9+LGz1v5yuLfvf9BxioZ5/+k9rRCVgeGBbQ+fENyomztwJ/Qlo7AL/WhID/fH7JK94BMtdO9m5dZeouPfoMWv7ThkIdmrSFzXRkqRu5JwYOVz7SW+aieXWG38tTvWVyNWKhTt1zb+mLdGT3v/STyTUy965d/9LPtdcTMrm7zFHl9vgziB/cujh6PnK58MaXP63t+VQ/F49HnNy6/WXQCNGFW2yktXoq8VS6a4/HZWpPmavnowOf//inX05mF7YV+JH0F4A/14SBv0oAfp5HqzsB1arBDBVE9f4z299bEfpq4M4x8+Jfnn19bQzUmNGQUOuAX9gKUOCANgI/FhgUsAzSTQUTgWFBZ4YL2X98vjJm6hs7xizYOmruH3//EirMo57rq5Tbc5YNKST8IPIe+iSkrOBFvxsSzR+H5l2sgWy94NtrO/BjN2EFDYfPXJjgM8ulUzeZs0rm6v6k14jPVq2XAn8xzWUUlnb907P26i6uXR4dM9XvqedfcunRW6Z07/SnZ28ycJMBVc8nZUpPmdLdreeTzu7dZQoPmbLTY30GyZQamcrt2ZdGny8q+duyL+w8u8s0nnae3R8bOFRLMEUGqozkymnIrzLGbt+j8Ogmc9LIFB5/GvT8ipVrcRnqYT8qtgTspWER+AsMkHgNlkVYgJ8kabTwhwcwM2CkwMjrTlw48PG3v4713zHGP3ikd0n8HjRNyKKZSXo1ru5mfsXWqSvR6wmTepc24K9XIfUvm6nwRh/Vf799r7EmyCNsprD7CKXPIYetnoYbhoxvg+KnvrVj9PykEfMSBwXsHDkvO/Q3MJoC/KYrO7lu/nVzLWMhQdAYywiJ70jjPgnJOJZHFVBttvhFyCwkoMjE5lWbtXpK/chjMrWHncbz0+9X5lcZi42s1sRV0FDJQH4l8Z81Icquj8s7PzZ9zltlRq6ogoj4ba9M1c3zyf5aM5SQoHz0qa5/6Xcw7VxmQZG92sNO5SFz7ZRwMi0tRyt/5Ik+L7x8w8yVm9jpga/LXNyVnXo4uHre0NNlRqqg2oDMfcI81tfPpXNXmata5t556Q+rc6qJAhOPSmhFfSyD8AoivHRY/BAxgOIQXD4BFwywPOxoxJ6rqPqNAKcuH3l92c6R8/a+OC/hxYXxwwPDx85HO9rTLLKy6gB1Ha6xrt9FqMtZNDKklwmXFtapBXJxSrVVhmOtT7p00JIXy4GBAAMSZjdCtv028Y0tIwJivLx/fXle2CuBFdsOAMCAAX3lDg7AsSxrFtq8bjkxa6CSsywPRhaSz9QsF07nu24QzfdGdu4TDX0xILX4MfCXEWzqlWyZ0k2mcJe5do7akVhCQDkFUuD3Xfg3mbO7sttjb3+4TKsjalh469+f2Gk8h74ysajKlJlf6tL10cHjJu07lbZ+8++Kno/bdeoh83gkp9L0x/ksmbrTpMAFNwkut6z6hTGTHFVdkChXdhIGFyxTPW6Ymcf7eSm69kRIo/LYn5GZb6JKGKgz/0vCG1I+EcNoSEKPil1kQlu0Lg4+G3qwSjiokUVWMUkjX1ByWtKCpXEvz9kyas6WlwK2DJ8ZPX42FN8EikIN3viftWM2DvPWp7X9t/FULHdRIlZTssYEFwuyvti4ddz830YGbn9p9s4XAsNf8tUdPgUmwwv9+ipd7DjezCI/lcgP9RK3wAsJEJqgWx6cdaUacnR3BPxaPVNqoKO37nL26CxzkjtqOp++kosgGU2qR+Z+npnOMRDT33gHMYyTZkP45ptGtlBPjgucL3N1nzjv9QIdEfr7bkX3x16a7J1yMfvzH3+xc/V01nTr+ujTN43sj0Hhjp7d/N55V0tQxUa6R99BMlUnmYvm8QGDS01UkdGcXVlTUG3IyM5/9Km+CreuTkpPVedH03OKbzJwG8CPJw1kE7ArBz6KSt99rkgn1CZPGKHSABUUJGWc/fs3m1+ctWtk4M7hMyKHTvztzX8hBwwGfiwhpCher8Eblyf1mqmFSxvwt1BBdeR0MyLc+qiF5ITHeKVso+tlG71ZL01W2PoDyQxeYCiCAx2TtS5uy9RF8S/4734+4MCw2YcGByYPCdg36S0orgCz2ddvmkLlGB8dCWYzsvBYYb8ZNNZflzg04AQcJJ42r9iYcjyHLDQj4BeRr2FAFIJiQIyTb+SKCe4GBeFbdzt36iZTe7h07l5mpG6amUoWuffzKkxFOrqchKGvTrFTd5MpPb9aGVRm5IorzdoqcszUwFFTArQmiEs84v7ks2k5hQWV+nc/Wero1kmmUD3ydN/iauIWBaOmB0xb8FZ+lbGg0vin54bYyT1kzm5yt+6x2/bdNDOFNcZSwvyftevs3d3t3NxkLkqZe2ctwRRTUMpbPk0sefMWPzb6S41cqRHyqmDluoQTidkFB3ISPvw+arT/Li//o0Pm/eE15/CLC3e+svD6j9Ggo8FMAcMI5pbklxOmAjT85RmEFpg4BjljOcFBi1ba88hcEIfq8c7AVmEuOHCsBjvHoKUEJgpKqq6siYl5bf7WUbP3Dg/c1d93xyC/30fPi/N5B8r1wDFeg59zcbZHkIDPGWhYHnyHZ4EFjoSjKRWfhWTsz4Zrdwb8pUauuJpY8t/vHdy7uHTu3vnxv5Sb+KslNfmVpBT4e/cd6typp0zpkXj8THGNMe9WTUGlvvtTz8566+8FlcYPVnz9wmvTyghWq6eQ80DpLnPr/syIl8tIKCH4yXNfX/bdqhoWyg2MzNnNSd3V1bOXo6oLBn5hrgk5/71/IZ5Uuslc3br16V/KQjEL2QaircBfWhf4Iw5UoOFxlgYTRZ5M3/fOktjRATuGByQ9P3tH/xm/D/be8Upg7o/BUF0DhBH1REaiigv9XNDzBEmPnDE8csmg5XYCIWPbGgbMEkIEiSKIdUGLsojtfZJHYz06I5959cJ366NG+24b5rNroM/BEXN3DJi2e0TAsbeXQo0OiOoR/fu4OdoBY0btzVNIZ7XwAI98QlIScozdU/7lxsysCsirQac1tnIDH6mrH+/wX2Jgy01s4Bt/s1O5OWk6DXxxVF6lrpwGjPq5pID9RlL92J813R93VHXJvF5cRSJ/XnaVQfFo7yU//FygM06bv+jVmbOyb+puEtwLY6c4uHoqO/WYNHN2UYWxRG9+cvDzhzIyS8z02dxi9WN/lrl1de3xuKpn7zKCLtIT1TyUEfSkgLmqzj0dnDVO8k79h43KuVFdYkaLga3mfu3SvuYt/gITn0ewWWbYkYuAf196EVpBCwAESR86nbr42y0j/BKHBR4aHLB/oPeugVPChk7Qxm8HikYuW5pFo/4UcuJa9H9OmI3BWn/FRkEigkHRGOER0gba8HenwJ+cnDxr1qzp06fP9J45e/ZsX1/fWbNmzfSeGRAQcOAAMiwQPAl/hYWFw4cP792797Jly/AWItJiarXa+fPnz5o1y8vLq1u3bvjR9OnTe/XqFRAQQFGWqpO+cofhRiF25cqVnp6eI0eOvHnz5h2m38zr+PM5jissLPzggw/8/f379OnTtWvXixcv4rc4jmt0OQfu92akGAoS4BYBJebrq3/dOvmd31/w2/u8T8Iwn8ShfnsG++wahrp37udroUIHwPtPeU1jJ9sdHAoUDwSNJqCZqcbJSAEFKSn6HzaeTLlGFhHI4G7KAhYd4CJ2SmOiqXMmtoTgZ//tn8g5L3ftP/ylEr25RI98AKUmRltDlhrochP74oTpLp49HD26Pzf85TIjU1pDllbT7y/7+h/Lvy428ieuFp66mo8GaPWm0ZMm22vcZArV1MD5RVWmG2Y4kJp55lq+Vk/tPnzKSd116Iuv2LlonJQeoXG/5Vfoygg6s6jYpXPnx/v3l6lUdm5ur/r4FhmofCOTa+Lw3AVp4ZsPFxvZMp1ZX8OyxbDlo7CogK82Tfhg88jAHSP8EoYGJHn5J3v57xnqv3vaO5B1E1lNLICRrE8mEkQiSBDJZEbD7SYTGE2gMyIXMc0hbOBojhMUiGo9VBNIKFQSlqkDBAk87vp4WzCAaj2UVGStioge5b9tuP/O5333DPVNGOKb5OWf5OW/dYR/efh2qDGB2dCvz5/VLvbAUsKsRAY5jRol7IzWQ/qRkm+DUv/Iget6NNlTWlGicd9iQGviSo2ctoYc9uoEJ3dPmVwzfc4bVQwUVFE3CCjRcQIxJTqm3wtj0ECAwn2C3+waFrQ6ooLiJwXMjduVUKI3Jx4/fS6nUFtDFlQaez0zwN6tq3OnR975+NNqHkqM9PHMrAoGiquJjRFbej3Rp/dTzzm7esrdux5KSS/Rm0sNZNyuBHmXHo/1HejSubujZ7fpr799rdpwAyCfZG4D+Ev1yLOVa4Llwed+Ta4GGvR/pCa9+VH8qIBfn5+5bcjMPYN9kgb57B/ovWeI9+7X5kDeLdCbUG2TLBC8BfutFl6t/NaZUStXE5YIlOAJEoHfOlUQpSDY5zzLWeYTCEYIikgDVJrRFtxZ5VeXr/z95YD4IdN+HzJdEBR+CcP8dg/32TkqAPafgeJSqCh/eeBzj2lcQacTQIiy8ANFo0uSQoSEBoOWJBg5MMG27QXfb0zLuQUl5rYAv3CQMT7VEAN/qZ4tqjA+0XeQg6ubTKn+64cfl1NcXo2hkKTyzGQuSeaZyRyD0bVXbzuVh1zTZcFb71eauGoe8mpMg16ZcPo6Eg4R2/bcJBBr5VfoZHKNk7qzzFm9ZmNUaRWh1RFBW7YW6okSM/3Ox8uGT5giU3sgUqhLTVSpidIazD+HR8uUbj0ff8bdo4edneq9fy3T1pC51cY2AT/evDmP4HPN7BUSdufCp+HpKRnlQAKRnJry/hfRI7x/HTxD4AfvpEHeiV7Ttz43fs/k+XCzGumCJhr51gw8mg5CCNOELXUukdUEBVIyMWj1EMkgLaHWE9AM+Fge3RHw8zxP0/Thw4eVSqVKpVKr1f369QsICOjatauzs7NSqZw+fTrOh2XY9evXKxQKpVI5ePDghsAfERHRt29fBwcHuVw+b948jHw4WaVSmZ6e3vKntD0GJ/wRBIH3TCAIok+fPgqFQq1WL1iwoO3ptfYNvGkDz/O3bt3y8/NTq9UajaZLly5YF2EZlqZpKfaL6eK2pRgaNXGF6fTaTRvGL9r80oLf+vvsH+xz2Mv7sJf3/sE+h0bOThwVuPvlOUX/Cbq4LiIjbssXCxdNeOqZmA+WnFkXnhG2+XRwzKmgCIHCTgXV0umNEWkbo06H7or8bvcP/92bdsVcbIQyM6A5sfXPt2hyaZ/o2i0kIE9HavVMr2cG2Gk87VRuf1/6KUZ9rZ7S6qm8SkMFhQT0O4uX26m7yFSeMrmb78J3tFXELROHZ/UX6bncGnNejQkZanqTuvsjMrlCplBt2ZtcZmSKdHRBtbnUxFRQ8P6SL0aOmzZxur/MUeWi7vzWPz4sqjaUGIl+L744OTCw+9N/Vnbv6uzp+caHHxUZzRj4c4Vd1qUY1ny4xEhXGshTicfjP1gVOu4fv454e/fQBQnD/PYNnblvCMLXZC/fPUP9z/3tq5zvw66tj70atiUjKLoenQ2OxnQmOFpKqUFRqUFRqAnWR6SvDT+zLvxkUFT2kWNgFiYF00j3LTuRdjoo7lxo/NmQzYc3RGrT0pFlhod9OArM5oyg6E0+b+wYNz9hiO/BQTOTvWYmDcaEyrZtuK927abTGyMSI8IH/OnRrgqX5JjYI6FRx9eFp4XFIgqPllJqeOyp0NjUsK2Hf94c9cXmj1b8fvga5JogR1dn2VuLeC9GQMBvYrQ6wq3XEzJXjUyuWROxqZwErR75UbR6DPxciY6Z4DtX3rmXomtPO43nG/9anH2jotRAVlC8VkcUVRu0OqK4xlhcTZzNykfuXzkaNUg8fqaMYPOrjHh6dg0Nr00L8JuzaIDXC86uns5uXdaERhdVG0oNZPennvWe/4ajR1eZg9zRs1vo77tzDEQ+yVyp1t8e8OPJfV8HXQgJuRz90bqN4wK2DZ2R0G/awaF+iV5IxO8fNP3AwOn7Bk8/98aSgp9CUtcEnwqNPR4ah0AdreDCWG2R3Ki/83Dz1PnTofEpYfEngjfvXxepTclA1j8Gfo4/Ehl/JiQ+PRj9nor8HcxoBynG6hxCkgQ5DACySlK/iwgdFZj0QsCBflMPD/U9/Lxf4jDvxKE+iUN99j7vkzxhYcXKqCu/hKUGh81/6aUZ/QZeiIpPWRNyJjg6NQTR6eCo08FRWFyc3hhxZkNU2vqYjLUxxzfs+mnFtp9XH9XqoZSEIj201uK3Aj/eeKfEwGtr6AvZhTJHuZOmk53KLflUakG14SYLIvDnkmS20Thquo+qay+Zo8rO2X3LjqRKFpDrzkijFbY1RAUDyGYw0Jt2J8oUbs5uXZTu3YrKdCWVphK9Oa9Sh5f2DB07YdG/P3bp1lPm3tneo0va9TytjjiXUyjv0uO9j5e7efZUunaWyz33JB0rNdBlJHcbwJ9r5rNJZPEfKoT/bEhL/DVtx5J10aMDk0YGJo8I2DdoRtIg7ySv6Yle0/cNmbq1/2tX//Hl5TUhZzaGnf4lNHVNeNqqyNTVkcd/CTu2NuzY2pBja0OO/1JLJ38JESlldRimQ+sjkN1/z4CfpgXTE6BXr14ajcbFxeWzL7/gAL79/jsnuYt7Jw9HF+crWVcRUAHsS0p0dHGW2duNGvOy6I/ChcXA5hfg7+HpqXBVRsZE4wjdHunu5uEuVypMpFn6WdKwCIq3EWAZlmVYX1/f7777Dq9wmzxtqqOLs5PcJTImWtjJ0qqH30bqrXiFpumVK1dqNBqlUjl//nzkI2Rqh/1Eo79eSjxSwPmT0du+mzg/aPS8eK/ZSUPn7R/sc3Dw9MODpx/28j7x4uyd/afsHOod/6LvLy9OXTMp8LuJfj9PDlwzblbQlAUrJwZ+PnLqz2N9V42duWrsDCmteXVG2JQ53786b/HYf3/1bvCFi0atAW4QbQN+wdPFlwNk66gSEjILyxGi27vYaTyOncssMpqLDJQoI9DwnpErrCE9Hn/aoVN3mdJD2e2xv324XMdAqZ6toEFr4soYKKeh1ESti46VubrKO3dWdO5eojeXm9jCGlIPUEawxdXEwBdeeeefS8ZP9ZU5KF3UnWfMml+mN81cuEjetev+06ft1K7Ondxldvbncwtqgd/ENeq0aBz+TWh5bsrpjK//+vGqCW/Fv/xWwpB5BwbOShrsmzBk5p5hM/cNnXlw0MyE/t6bB02NGj4jdqRv1CsBoa/N2jg+oC4Frh+PaN0EK00MWDcxYO14v3Xj/YJe9Q8d4x862m/jGL+13vM3Lf0cKJMADgAMczIo6oepc34a5//TOP+V0+YdC4oEluIQ8JuBMSd+v2rDOORYPujld8Br5gGvGUlDZiRYCMH/zud9g0d6/zJjzlLfgD7ubo87y5fOnBU+62/rx85a9YrPyle9V746XUo/jfX+euS0NRNe3zD+vRUTP1y2/Lcj7QH8Mdv3OLp1cunUxaVTt5wb1WUEX2aGghq2SA9aHYJ/rZ45cfGae++nZPYujh5dld16LXr/wxK9+aaZKSPoMoIurDEW6YlyE/vO4uXIMeDaqeufnr1JcCVGukiHloTllutKa8jHnxm0aevul1+b6uzq6aTu/OVPq4pr9NPmzOv93IDNO/c6e3RGg8pydYHOmGckckxkjolEy8ZaGtoXI6DTGvVQqhc2mNLBV9+dfHPKqg1TPvxtuM+xEQFpw2cfHjhj/6DpSV7Tk7ymJnlN3TNk6qYR02LHBYSMC1gzKfAHn9ehhrGgviBpauWhwXw8KO6/k+d+P3HujxPmrvJ+41TwZmGFN5pUDyz/5dS5q1+bu2bc3J/Hz/1i6nxk9KM54cIGzIK7EEUmIfKfn68ZM3f7q4v29J92fPDM5P6T9/WflDx0evJQ7/1DvJOe99n5os+WUd4R4/x/Gef9zbgZP072+3msb9CkOWte8xfId/U4n9XjfARZMXPNqzPXjfFd/7L/+tGzvh/75vszPv/PZ1u1lVBshAIDFBgZTGL9NLAWkK8oDwM/chqhHfdKDPxNgvvsu5UyF1eZXPVYn+dKjUQVQAnF1AP+hJQ0tx69ndSdFW5dHVWeUTv2lDM8mupPMLcoYSav3nyL5Hznv2mv9pA5qcZP9dVTyOWh1RE3zAye5CtzdTubk//I033RKI9StS46Nvdm5VNeQ18YP+Wtf3zoqumq0XTr1fvZaiOHnJHW4Qart98ysb8pV3+REQRzHwF/NgHHrsOXXxz8b+B/f3h+9o7hAfv6T9nrNS35Bb89QxDkJ3lNTRw8dcfgyfEvzdjivXDjlNm/TAz8ZeKcdePnrRs/b+34wLXjkUzAYmGdIBzQ72sBmDaMC7BS4PeT50Ab94G8I4sfW65JSUkqlUqhULi7u9+suGUizeGRESo3jcpNI1cqwiLCkT0tYP/uvXuCw0KLS7SM8KaI3xjmn/jzk05yFxfrbmJGgjifmRkRFXXxyuV68cUXa91i9bARd4AGN+vdoGn6r3/9q1qtzszMxFkAQHBY6L6kRBBmyje13r2ZfOtl0eLlxIkTnYW/mJgYjuOwLoW2c5L8SRMhCTNS7MwsVJghq/zST3HR496Mf2H27uHeyUOnYuw/MHD6HyP8k0b4woZtcCAdjpz7YtzMieqep/+7Hg6fp46c409e4A6dhYNn4GBKfdp/mj6SdTwifcN3SecvGUv1GPjRqhtx8F4akHZyHMbAX0ii1b0lBP/24hXIJlN7dPtzHySvDVSBkcIC4votQxmJtIoCHXn6Sm6PPgMcPbrLHF1dPB5Z+I/F2WVV+ZVEsZHNqSZyq42lJmr0lGkyZ2eZo9ML4ybkV+jwJG1Bb0D6vkzlefZK3vsfr1B26i5zUEzxnbP7j2P2bp1idux6898fOLq5yxydPB/rXWZCmofF4m878FfVEHCLzAhO2jDu75teWLRz6Nw9Q/33DZ256/kZe4bNOOA144DXzPx3voLdpyExFZJSUSUfwnQWDgl0+CwczqilP84CpsNpcCgNks9A4llIOANJZ+DkRVP6JaBIwaYXtvcqKDGfPMcdO0cfPMOfvADX84HDwC947CuNcCgj4+2vdg33w+XZM2zGvqEI+5MGI+t/1zBf2HYMjmbozp7z6tmrp72DPv0iHL8ACafhYDrK/VBqHTqcBkfPwx+X4Y+8I+sPrVl3/FguXNPdjqu/yMhrTUiNKzUx8979JzL3nZX9XhhdTiKtroyG7EoKWY164XRXA1NqYjbt3Y+Wgbi627t1Vnbr9XNIRImRLDKa82oMNQC3aD7vln7w6PEyladzp0fGes8q0VM3zFwlC1Uc3DBzSSfSVF0fyy25NcV3jqPK08HV45XpM38ICnHr1fv4hYvjZ/q5dOoic9UMe3VCbrU+W2fKI9hysC4wax32i5P7kEtMDys3XD60tap6+6Wtkxb9PmT6gRE+2/qMTUSob6E9Q6afDnwfdh6HExfpAyll+4+hYRc0mmvp4hbJxggjm9oq+kwWnLzK/HGBT8mC7DJs8WPgNxy/wB+6AAcvMH9cqDx2HkjgGLZSV4PFBhJcrDAEYAI4cuWPt7/Y/PzUhJd8tntNOjFuXuIwC/AnD/E5PuFN2H4C9hyDY+kLn+7/srwTfSAFMeSxc3BUoCMZcCQD/ki30OF0OHQODl6gj+RvXnv8h58PFlTC5VJzgYG7HeDHeyrrqTETpzq7eTqqPaYEzC6nmJwqnZakpcBfQJC51fqY7Xvk7l1ljkqZws2lW8/YvftvsHCtUl9GcgXVpuIaYw3DP/LkXxzVHvZK97ff/7i0ikCTfAm2xIgmda6MivV4/M/lFDdo1CuIqbr3WBUW+flPKzWP9LqUr33x1YlOcncXV8+pM+feqEEuyRKKw/MM2gT8aOMBM51rguNZ8Mu6jIvbrxcE7986fuGOl7w3D5sUN2jCjmHTdw+dum8IogOjZl1593PYn4rk8PFzqDMevwjHLsKRTDhyHtV8I3ReeHQe/rAQcyJT2ABABEYpYjQeviPgR8N/NP3m2285ujj/z1Lv/cQTmIFnzJzpqlHLlQqNuxsLPMXQGPiLS7SRMdEs8KTgt8QlOnU65Y+jR86kn1W4Ku0c7IeNGI4PEKMYmgU+IirqZsUtHJNi6NS0NIzK5y6cT01Lw/fF0Xqe5/cLf0iTEP5wCfFvWFhYRkaGWA3l5eXDhw93d3fv0q0rOp9KUE3+t2H1zn17Lly5RPGWGTXWLglhEeFn0s+i2bochxUCtAaXZQu1xdFxsbjKS8rKoqORu8KieouZASQkJFRUYOPsngAAIABJREFUVIg30HIfwbjv0aOHXC5XqVT4FaxLNQP8lhTQlB9Ay3I4gPybKSvDY0fN3P+i7/4h05P6TTowcOrBod67B085/dZSNEZIs4ume/dyUe4KDgczh2Z+kXgAqbFfM5qKfPCU6duQsylXzMV6KDEJfrzWA7+w4UYBweYbaK2eeeG1GQ7u3WQK90mBC7QEU0pBTjWRb6CLCa6MhB1HTpfTkFNpukHBriMpjp6PIAPOWSlzdT9+/rJWj2bhFuiIGxRUMNDzmWdlKo1MpfnPmrVoopaewiuzS03Ml6s29Hx2UIme+mFdiMxFLffs/ljfgc8+/+Jr/rOrWH7k5KluPR5Vduo6JWB2qQHt4VOACsnnEUibaai7NHUHLUbQEWVVrL4KYn4+9PuKrXGB/9n04vz4AVN+HTLlN68JO/pN3P+i//aR/nDmGtQYQV8NZsJKJJitRNBopoW5AeH74i8pzPdhrUe6sDTaGxD5e4QXSeES4YYwwM8xaCIhQUNZVXXy8VOLv4p9afqBcQsOvRh4cLDPscGzkp6bsWOoX/53YVBWAwDP/vkJDwcHMBFAsWA0I67Akz8oFt3BhHYiFrQOElJOF38dcvJIHmTpWzurX0B668x/I1+k54Q9G9hHn+0vc1U7eHgu+vfHJUb6+i1DJaBoRXour5qKTz5aZKBKzGw5CZHbdzt37YE8Rgp3da8nS8xssYks0BnR3gxGstzE2qm7OGq6yuTuUdsSbhJoxmiRjs6rNJSamEUfLHl5ik+lmZv7zt9lru52Gs+ps+e6dHvkvaVLcsrLO/d+3EnTSSZ3/eCzr5Cj3sBaF5e3gR8slp9wHFSuET4NvrQ5SY+2TKhhbmzZtdV30aaRM7YOnpY8xOfIsIDkATP2es2IGzQJ9p5CEzgoM1AmjqMoNM9C8PNZT2pH7nzrOjxkymOia4cDLOP30kdoPWbtfnsWqYV3CSABDIz50PEjiz+NfdX395E+CSN8E7289/SftrP/tN/7T2WCtkO1EWhyZP9ne6jlaMIvx6JFByQDBIskRi3RaFsIkkSj0WaI3Vu2IuhcTo1l78LaHXIkapPUSBD2AUNaIyZxZl9xlUHV5RFnNw+Zo9Oa0Mi8yuoio1lL0jk1+mKaKSDIpHPniwgyp0pXoje/9/FytIxT6SZzUbk/+SzOVEswJUbyFskkHT8hc5Y7uLrZqTwuZBeX6tmCavMNM5piXGSgxvrNHuc7q5qHybPm2Wk8Hdy7DB830VHT+Yd1IWXVhLJTdzsXjcxZnXwktajKhNJkAKG4cIgDXueJf5u2+NGpDQUE2igizwh/5MFnQWlHT5eiaRYllQWRm2K954W/MO23l3w2DZi4dfC0Ay/P3Tlw2u9jZkN2CWpxUlDf0VQbTth7g0X1X58E0SGKCBwg8fwPEaxEnGkycKfAT5LkwMFeji7OcqXi9TffAICE5CQ3D3esCixfsQIAvv/xx95PPOHh6eng5PRo78doYfUqGrC8Wd7nub6OLs5/fvqp7j16KFyVcqXisy+/OJFy6ulnnvHs2sVVo7Z3dEjLSD9+6uTQ4c+7d/Jwkrt4+/h8vHSJxt3tfzkWaosBgCTJmzdvzpo1q0ePHu7u7kqlsnfv3qL1nJmZOXXqVJVKNWHCBDwLgWXYDz74oHPnzh4eHnK5XOGqdNWox45/7dHej8nVKheVcs7C+SSHxtMonjt1OmXky6M17m5P/eVppUrVt99zJWVlLPBn0s96DRns2bUL/vb/HWr30ZJPPDw93d3dx4wZg+sbayRr167t3r27h4dHt27d+vTp4+TkpFKptFotRVE7duxQKBTOzs7PP/+8dFBfYu2jYJOtJzg2kAJhJOBK4dVl38eP8d03bs7vQ6YeHjV7r9e06Bdn8OeygKIWzJml1ihioiIBrd+iJEt066fNAmtAh/QwyyIzj2VZgL9AmM9Vtw83OcZv6RsmZMdra2hN98flbt1lyk7fbQi/fkuXW20s0BFagqnioEhHjp7mtyZqszDKi1D8/9j7Dviqiuz/kPDySl4lJNIEEUEgQOhF1t0VGyiKGBIQ1F1//13XxV11lRaaZdddu+6qCGmEJsWuSBG7lEASEkInpPeElNfvu+/ee/7OzLvz7qt5IQGC5n3mk8ybOzN33syZ851z5syZj7/5KUwbgzZfNYbXUzIaWEE8aOv89McD3XvGILN8je5EWRX1rFllYc/UNN4yK+m2hAdq7fx7m7eHRemJz4DeQ0dccEKl0RKu60nsfT7c/U0ddvV6ccBfbuXKTLYSI/Lh85+12Z99chaawPRB1pcPPJl+872bp878YNzMPTc/8MHk2adffBfsVgFZXiHjK0lgBWAFgQs9SE75+SklGUpi34f/OhgkSv509Os/L00bP/OTKYl7Jjzw1ejET8Yk7JjxCJwsB4fjxhFDouTdkWUfWiWTTWYfShMTbAB7j1atSj/83cUCf5UNyoxcgwMOnykOU+kio2MiDNFfHjhYabbW2p1lJuROpxxZhDiuix+Xc76k1o4opLTZvOyl18KieoRFGaL6Dcz49MtyG1MuOmB+LXVDmMogN/TuPSiu2sSVNKBDIpUmJ9H2j7r51n88959qM/O/9ZvJCYIwWeTI3/y2ymQ9VlKivqZXd3wuNPdsKdI5eaig24D95Bw/Oc63JP1E6jeWFmJV52ChuqFp2+cfz/nLJ7c//MnEhI9H3vPNzQ9+cdO8H/6yCoxW3m5CRhnIkhvd8kDmIZEfUFzseY/5KSb6ZfAcPmHvXY/ruxPsVrCamX0/fv/Uqs23zd0xNfGTiQmfj0/YOTFx5/0Lwc4JjHHYyMEyTYQdrAw60ScuNHANxH0sOaToBHSlsF2ANXubF6eePGu6aOBHWyRVFnbrZ7u7awwRak2kzlDdZKoxWUsbTWgrx8HXOvgaxqm+dmCdUyhsaC5vNpc3mx/8y9+QSZAmJqxHb9ETH3IMahTgyeUrumvQ0YCBcWMK640NCO+dxEXPuQZjzJAR6R9+WmVhZiQtCIvSEyOPO2Yn1ZqYdRu2KfSxEVEGdc++CPVNDuTRj+FKGD504EeHgZEzcuQEsNQM35bDkrTsL4/WmjgAmxWcDJRWnFmzIfWOeZt+l7hh0n3bJyR895s/fnHLw8feTEMkwDs4tLTnWTTnRaWvxHcvxgU/TAA7jXDTjgfNBPjSLuDnnFxLS4u+h0EZpdIZ9NPvmjFx6pTIKGXf6/rfeucdh3KyBQCG52xOB7oWVh6pNuh+d9s00pKy6sp+AweotJpHHv2TE4Q+A66NjFIqNOpDOdkWxv7y669FRim7Rcr6DLiWeDZ89a03wrqHa3roFy9f1iOmp1qn7RYR/vnOL3iAjMxMnUHfI6bnnj175syZExYWptPpyFs+//zz6Ojo2NjY3fhjMBjUanV6evr9s++PjY01GAwqleque2YuX7mivKYqulesTKUIV8qP5OU6BP7nkLx6laaHPkqv3fPNPjvHqtRqhUp51z0zAcBstT6zeBFJmTB50hP/eCpKq0FrF4VixIgRVGRfunQp2Qc5cODAnDlzIiMjw8PDR48eTbbzn3rqKZ1OZzAYlixZ4gX20q8Bxg4lM4yNYWyITzgZRDpFFTmvrXvv9/fvuHnu7vFzv7rlkf2LXgIz/9DsBLVOTYDfLnDYk5f/WjkQMPDzy9cXfH/WXm5Gl/S0CfjFqchVGZ3bP97TXa6LVBqUuthGO19lspc1GGuM9twzhX1vGLr3hwPqa/o8+JeFxQ1NDQxfhz1zDZv824geCPhfxcBfz0GVna2wMg89+XSYTBmmMVwXP67SbCeyPvlb3GiWx167ddfXVRa2gRXC1PqwKF24IWbTF7srzfb/ZmwKi1CEKRFCVDbZyo0MYvR4IY+mdBsl/nIjU2KEQjusSs9O+RyfwrADWLmSbR9tTPzD9ptn74i/e+fkuWsmz4TCYnAiuzyM+hjv3ZAvHd52xSWjSGY+FhV5J2I0DAMmM3Po6NfPvLD5t3N3j3/g4xvu/mL8vMIXMwBg5KQxKl2UpLi/qIg0GPjrVqZnf1MCZ4wXI/EXNthqkRGf8w9PLOpuiA3XGPoOudEkcA12a7Wxpdpoyvzgw97XDyqpbwjX6la+8kqVyVpts7cAlJtsPQbeiFRBPXu/lJZJgJ9g/+1z5kf26B2mMky5feYFBjmEqLbwhfXmGhtX1mILU+iOl9fWOfi3N76PdEj6nlF9+uecL6lzOP++fBXaBlaqrx06sqzFVoG0WdK95zYAv0s5ZOXO2WBJ2qnUb2wtAvZsZzYBa0ejYLRd+OSrLQl/3jQ54cNxCfumPpQxYbb9h1yknsFec9FxSnSgnw6fX1j3NzqB00QQIP/xOX6eAZZB9iImo5B97Kt/PLd2/D07p/3xw3EJm3+/4Py2L4BhJowaodaryMFTsv3gIk0RezDwo9MIILA2AdbuQcB/zoiPeFjdju38Sgg40S3uk3lHgP/Bv/69u8Ygi9KMnXhTY4ut0cxU1hvLG4zvf7yz/5ARn371fZhKt+nTnXU2tuSCsc7Gljebw1SGsIio8Jh+IrdBwF9tsQ0ePU7ZIzpSF/2Hv/2jwYG8+iBzAeyb7+vcgu4xfch64q31m8JUWnnPXv2Gjawy2WuM9tvvSYrARz8m3zq91o7sBkotjmILU2R1tgn4kU9orI4qtSDjviVp2bvy6kxkHvEWELD+r7Qq+9X3Ns985OPfPvTl2Lmfj5v74T2PQlkjsPgMj2ulL2ELYv+j5VeAj0g/gWnC80m7gB8A3njjjfDuEREyWY+YnrNm3zdg0PUKjdoQ03Phk3+3OV33wfwsN99x9wy5WtVdKX/xlZdIA+JGx0fII6N7xSJVosATfB0w6HoiZ7+9dk2UXttdKb/n/vuQHl7gE+fPk6tVcrXq5mm/Hz9xos6gv3ZAf2IzqIxSKaNUq59/DgAGDRoUGRkZExPDsmxBQUHPnj31en1ycrLZbF6wYAExRDh+/Djn5Pr27avT6RQKdEEZy6HtsSi9Vq5V9+zby8oydo7dtW8vUQBMu+N2fGBe6BHTU6VWj4yPJ8dmEucm6XsYFCrl7dPvvKZ3L7IOkMvl/fujhgHAoUOHYmNjyTmFn7/eeeedKpUqOjp64cKFJEP//v1VKrRWyM/P97qKUTq+JLPvX553Oli7g7Wj414ATocV0YzJAoXVJ/+Tuv33D22aNPedKQmOb/MfmT1HqVYQ4LcAZ8cHzXwrRMsRAemlPsxtF/AjlbjJ2WCFe2c/qNP3ilLHTJj8+zqTzchBk935/sefXztoyNjJU/d8+0O4MsrQp+/J0opqM1NtZho5QB7ZkE8V/Y/HTtbY2AsC1DDOMpPt+vGTukdfo+zVL+H/HsWbdmy11UmAf/fB3IgevZBwj08JIt98kar5f/17lYUpaTLNSFogj+4Tpupx852z0MEwtH3QXuA/x8DK9Ow1e0420U7knNBsNm3Z+d0fF2eMuzdt2tyv/vMmNsF2IBHfDfniQl46wO2I0/fjiAgeAotPY7PgxF5irE74If/gwhd23/nYJ5MXpP7+QbaoaszEsTK1nCiZnRJh0aNCb+DP3XexwF/awtbYocrMTbt3XqS+V7jGcMfs+ytbmhosxka7ee3GDHVs9JwFC97LyIhQRw2fOL7B4ag0mUpbjOUmm7JX/zBdjKx3/8Imc6mNLWeQUFVhYTX9BoXrYrtpYpb969WKZqaOAeLot46BRxev6Bc3llBIzvmSsChdZGyfZ174d7XVUedwjvv9rYro2DCZ4pZ7E/BCUCi1tAv4ybW8FPiRhTW63Bb7SECacwAz17xt7865T22f+sD70x7a/fQLyM2DExEGEvjRAV1x7FCkvR9P4MdrQdbO2Yy4XhZMJmiywHdH9z22Ov23czdO/0PGw3+HZvukYXFqtcqBFizI0Yf7IwKPCPxopSIFfiLpupTh4lVe/uDfP/D3Gjxcoe8ZoVI/8Y+lNkZouGC50GxPXvWiShOz4OFHn172bJhCO+W2GeWNpgaGrzTa8ovKw3SxYd3V+oHDSszoYkCygDhWXBFp6KmMie2m1m38+Et0T4eNr3agU3/FLdZJ0++dNP3e4kZzpdn+8to0dd8BZD1RZbI3O6DPDSPC5Hplz34Ll6wi5wVKLY5zLZZCM9NW4EdLEDNTaoF9JbA4NXtXXoPJNboORrA6WDPa5WEBihtL33z/w9v/tH3qgo1THzjzxkZ0ThLlRD453J2PXWcSjUsnAv7bb79dpVZ3iwhPSEokOvwJkyeFd4/42Z4/ad5cluMcTtbJ81q9LkqrCQtD6wwOhMXLlsqVCpVavSR5GQC88vpr3eWR3SLCE+cmOZys2Wq95dZpCpVSrlS8+NJ/0IUQjH38xIlavS46NqbPtf04EL74cudPBw+cKzof2+saZZQq5ppYAHj88cdVKpVOp8vMzASAoUOHqlSqXr16oa7j+crKyscffzwzM5Pn+U8//VShUGi12qlTp5JJ9sK/X4yQR3aLlCUtmE+Af8Cg68PCw2QqRW5BPgAcPV6gUCkVKuXI+Hg0oTmuz7X9orQauVKh72HIPpr7//78pwiZTKVSUVwfPnx4eHh4dHR0VVUVANxyyy3dunWTy+V79+4FgOLiYp1OJ5PJBgwYwDk5yQ5dG6Y9oQ/XGpH44nViLxAtdsgvOv6/91Pu+dPnS159NHEBOqqQlo6UNBy6Ss59eMDzbe0BfpcDHKxLL2thfsg+pVJfI5frwyPUEyb//u20zIceezx+8m+6KTUqQ/TzL73yz1deC1dGddfo+t04POODT48Wltw9/4/h+t6y2H6zHnmUrNNLmizVVufq198O08aEG64Jk2v/8MSiaquzzMTWMEiPd7zyQp+4cVF9B2WdLatBMqUj5oa4fnFjycmujZ/t0fUdFBaplel635XwcGmjDamCzU5s3OcssjpFycN9TwyR4aTOfNxb/kjVzxSbkMT/bFp2+p4zLeQyLbRfiy/WtNvB5KjZsWf7/z3z2u1JcK4GWKdEq+8xnTvki8foiae9EPcgrALxEOwLiOWhydz0bc5H/y/5v3f8Yd9bGZNuHNFdKbegDWawejJ6d50dAfyunX6LUNTEpH+wM0wdE66JQU4dptz09vr06bPv7X/jDWHKyDBl5I7PPptx332Rel13nXb4pEk/5OVlnT475e57w3QxYTLNYyv/2SBAmZ0vZ4RKu/BY8vPde/QNi+oZrr5m5YtvkcOfaM/Iyn+VfbzH9cP7xI3bf7Ko3OyotDllsf3umPtQqdFS2mx+Z/P73Xv0DFNEyfTRjz6zrBadVr0EwI+wF/Nw5HqFQyb3yJaCK9u888M/Ll5758P89/lIwU421F1ucCn2u0egg2KkZnEzCLniJxYhTjbr5CdPPPfujIdrP9g35YZhMoWMAYFB+/x+PngtQ2xKeDvAur0tS9JOnTdDpRWZaEjP8bYaP9NgPd/MlBqZ599cE6bUyrQ9IpTaOfMeWpe2efacB2N6DVJExUYqo8+er77pdzPCInVh3dW33Zu090Du14fzx986IyzK0K1Hn+RX/oeMCs38+UZrtdWJdu7VukhDz6iYvl/8mFWGLwsutTjrnbDxi33yXtcNn3prcbO9zMR8vv9wmC72rgf+UG1mG+zwf39bJNP1DlP0CFP1XPav15GPKQtXYeNdS5mQ9/gx00CbF+SSnq+KYXHK0V15DUZ8LIcgOkZ27EKNxfv352pOv7Nt012P/u+W+VBcDzxwjB2vE/z0fwcmtVfiV6mQtP3zNvmrb7xOjN2e/+cLCpUyQiaTKeTENv6b779TqdXKKNXY8eNI0wffOIQoxssqK1iOm52QQETnz3d+QYqodVpllCo6NsbmQMcUOBCItaBKrX7uhedJJSzHLV+5QmfQK6NUd86Yft/996tUKr1e/9VXX3FOrqCgQK/XK5XK+fPn+/ZXYmJiRESEWq1+/vnnyQL7d7dNIxqFl19/DWky3v5fZJRSpdUMGjrEzrFOEJatWiFTyFVq9b33IecEhw5n/bwukSnkPys8/vnvF9E6I244yqBS7d+/n2GYgoIChUIRHR09ffp0zskVFxfr9Xq5XN6zZ0/SntWrV5OUBQsW2O3Y0advQ1tLEYEfG/ESJ1+E+xMvb0YOTtd+998NC2YldJdHZqSmsSxrctgtgtd1bO7XIP+sAB/l8Csy0B5/m1T9FPjLrdxflj47IG7CyHG/GT5y0vCRk24cOX5g3JjrR427YcyEG8dMmvC7W+tMttkPPDRi0k233Dt78FgkzSOv6aroQWOnLvr3q+VmR5mJQW60bdzwKb8fOHpi/xHjBo6eeP2YSQNHT7wj8cEqm1BlE9Zs/WTIpN8NGD25f/yka0dNfGfLRzU2buaCR77cj450/+bu2ajIqAnXj5pw7Y1jRk2admfCg1VmrtyMzh2V4CCFeSnYS+NS4C+1OM6bocgGz6YcIcCPpqmTeEMXjew4gEancffh/e9sBJa/AsDve8kH2TQWAMzA5p7f+NxrEwfHRchkRt5hB7BwDqmE56aGjgP+MiN3R9Ij142a1C9u/OCxUwaMGDN80qQh48cPmzDuurjhg8eMmXzrbTUm86Rpt/7mrrvufuCBfsPi5Nf0DlNrwnTRw276/atpmyrtAhm1QqN9wNibBo69qV/c+CFjfzNo5KQbR0/927IXii9YS43MwhX/vH7c1H4jJwwYPXnYTdOQ2Gdhb7434XBhaa2D7zV8ZP+RY4ZOnDxs/KR+N44YPvHmu+f/H/bTDNSljHu4JUZqwRO9JH4HmYMUx5HjLfyF58EuQL21+cNvj767GRlweSv5SRn3CHRUjLweIwpajyC3UC4dAzoKyn+f//WLb0+5YZhcLiOmpIHUDthRHLIIaSfwV9rRUY7fzprbf8S4/nGjb4gfe/3QEYPjRg8bNWHIqPFDR08ZNfG3t9+TVFZn6j9szF1zHpx4610jJv8e+3juIevZZ9wt09ds/QSt/lm05vgu/8z1YybdMGbCDfFjB46Iv27k2L7Dxzz85NIKG1/YZP3T4lXXDB19w4Sb+44Yf+2oiVU2oYGHMdOml7XYPvv+UP+4scPH/+a6YeOHjkG0NHjM1IXJL5SbnZV2ocSCHDr5hkDGfV7Av/c88uK8K6/RhA1kaZdiREMyPwe8w2RCgv7p+tPvbDu6Yyc6hBnQkXNH0QKqp13ATw7y9Yjp2V0e6XAiLHHyfEJSolav0xn0+h4G8lP/svCv5Jzenx79MwAcyc2J0mq6RYQPvnEIABzOzkbef/DxP/LLvtyzW6VWd5dHTpg8iQPBYrN98eVOtU4bHRvTu19f2n0M67hx+DCiOZgwedK8+fPfeecdYsAPAAsXLoyMjFSr1WT7nNj5U0O5wYMHE6u67Oxs0uy+1/XvrpTL1Sp0+FDgZyfOUWjUaoNu3oMLiJnC2EkTyYLmjbfe5AGWJC9TRiG/RcNGxHEgXGhqUqiUMoW8T58+5Ff89a9/VSgUcrl8yZIlpD16vV6hUNx9991kg3/mzJlyuVypVH711VcXPaRUBYRmMXHaLvWxTcx6bcKCxAe0Wv37mzZjVVKwtwm8N/CX26DETHR0fk70SRkiBX6XFxSzs8bC11uEWhNX2cIQ59vlVrbeCecazOT4fkmjrdTIFDfbsdmtsxmg1IgcZiFnmfjyjJImSx2D7s+osXEXnOikVrmRsQAQ56zkb5VNuMAjX61lJrakyVJYb0SLbis6ElZr58ubrI0sVDQjS8Ma5HAXLecvGvhLrI4iC5y3wurUI6l7zjQA2kS0oJP0eEFPmKnDiRIE4CxoPdchkn2gSvyPpRfwYPymEwf7BBVGx4+NjFKSO4akqE/nCKq5g4C/yobcQNU5oBY55EciUbnJVtZiqTRby1osxY1GcnDjdF0TOjmND3EUNZvqOWjgkTF2lU0oNTIVNuQBmkj85VZ010OtHaqMznobcvlQbeJq8FoQreqMSJREAh/6yyA3LGZHEyItG7YiNJc2mkobTTUWRwO+GbLjgZ+42CRTkojZJIUsyH62BLZyYGLwyXsXDItGmv7Hsz2p0uUHrce9vnDwyI2giQEBxt04TCmX4VEXB54WECNewL809SIlfted3WY0Q2ssjoomc72VrTUxNRZHnYNHF+XhyYueYsfMZS3o9jzkprfeWG11FtYbCy9YahiodUKxER0brjQ5kMMuE3J3hS/psJaZ2AYBOR6tY6GoyVZuRqJ/Ob4NvN4JFwRocMDZ2qY6K1dlcjRhxyGIHix8SaMNFWmxnzcxvqiPmFugS3rwdU1U4t9TiIB/d36T2eWIg6y7XNOK8GY0U9H9yIBWhLzAOtEdTxY7vc9P7PeO/t9m4Jfyhblz5xoMBrlSMW7CeNIwogCPkMnUOm2vPn3Isb1hI+KI8j837+iXe3anpKeFd49QqJT3J87hAcZPnBil1ah12vsT51TX1QLAvPnzw8K7qXXaxcuWfvHlTgD4818eJRsKj/zp/7Ec2n8ix+5jrokN6xYWpdUwrIPlkLac5/ldu3YBwPz582UymVwuT05OJkDrcDjq6up+rq2qqkqj0ajV6mHDhnFOrsnY8tXX+yKjlGGyiMk3T62qq80tyB89YVxYRDe1QZe2IdMh8IdyslVajc6gJxv8DOuYOGWyMkolVyrWpaXaHMwzixfJlQqtXvfwww/v3InaHB8fr1KpwsPDMzIy8vLy9PgTERHx+uuvk2ZotdqwsDCVCi01Tp48Sb0htWmIKfC7lIWc6AXMc+bOf+BBlUq9acNGsgAK8goK/NS4LwjwS1EfTQYcyC3aZXbkeKfeiU5YVVv4FnReCylpawUoZ9CVHvU8nKu3ostYGah2oJSzjZZqB1zgoYbhzzUYaxhkYlNpcjQ4kIseYvJNdm3LjczJ6iZkr2vDvlPwlT9VNuF8o7W40Ux2B4hzwJ+PdZU3WUsumNEesFUobbaXGplnPhLjAAAgAElEQVQSM0vEfeqthbTc1X4s50nj7p+JLJjY81Y4Z4NV6w6n7jlTj4HfRK7RxsexEFw6kMcqAcCIDtlfCeAnryfwL1ICgSHyTQAYHh8vVyrIdPY6UeImD7GsaNx3MXv8RNVfY4fzjfYqm1DUZEM3nSMnTq6AER0f57MIRS2OsxdspRZnpRWhNTpSZefKTGxxsx25f2bgeF1zsZmtxtbaP+/lV1v4ojpznRVd5lvHoIVFhYUjB0SLm+1ohYfB/lyDEVldWdjiFmsDK1RbHRUtlnobApXSZnsZckSIJX7sVcY93Bct8VPgp8txkoKVl5hCyB1+CH89rlpwd32HxfwCP62dteOW4MMdo4YPU0VeDPC3Vc9fbodKOxS1IEdeNTahsKap3u7EB3TtFVbmfLOlyGitcvCNAGTgiluspUYExugWXeyjCTl9wjt9yL+IGd2tV2lF7puQXy8b0t7X2pEIUWnHZvYY7NE+oJWnFFjcYi1pshQ1mCqabRXNNrJ8PF9rJIIBUS/VA7q0yTcQCpFeyueK+wH+o7vzm6xYKHNpWCQXKyBjfxDsICCFENrr5R3INkScdXSQLkGkbcBPkJVKzwMHDiRn0B999FHOydnt9oSkRCLcy5WKN//7lhVtVwDR2/fu1/eZxYvmzZ+fkZlJtvyvHdB/0k1TesT0jNJq9D0MD//xD3EjRxw7cXzUmNEKlVKt077537fIhvrocWPDu0foDPrjp066ztBjb/bXXHONWq1WqVR//vOf7XZ7c3NzUlLS4MGDAeCvf/2rVqtVKpXXX399WVkZAGzevLlXr16Hs7NffOk/Wr1OGaW6+957EpIS//bE3xPnJkVpNVq9bnbinOtvHPzFlzvvnDFdrlR0iwg/kpsDALfecXuETBZzTezJ06eIPyKdQR8hk0XHxpBBue3OO8imQ0JCwrhxaEcjLi6OrDzuuOOOwYMHE/d8ERER//nPf2666aat729V4s8999wzbdq0N998E7EDyecix5ryegnxCIJADBuJjwEeXcMasHov4C+1gC/wSzmjFDKlYElMe6Q5pcY+5RZyBEj6F5tSo8MwHNpgsyAn/yRC/yJh0ex6ioHBSaRAmqEC3dnFkq9oWYDze/1FgqAZOeyjLfT9CVgE9GPajc4C2NlzIvBn7D3bghSl4MBX25L7jhCUYtMcJ779JmBHX4kHGIbQ2PMAcSNHREZGolYgMVRCedLjoyKdhA780hGXxtE2MMFRfN6p3MrigIZbHAtq+SX2vEgJrgG1om1XtPNqQeOOmLjrGl90mW+1BXmaqrHj/WZMP5QMKEkQ7JeeByG0gbwGIefNKIiUKbYhNOz3VvVjEwu0Q0kivmNN5imGAnHr1zfT5UoRmcbI4XHKSLQ/G/hDL4gUGICUr4zJ6acLrQjFA23qS2mAxpHPBtfyGs1oejQXrQhdl+K44JYY7Uv/SiY7GqNSM+/6a0ZCAvK6g24DcRBGQd+IIiJvQdojkUIocyBKI0JR0ulPuYRHVYGpAjEuM9I/lZoBS/xHd+e1WPGMQ71KVD7itKLLQtcjUSPg3f/iAAXh295FWvveNuCnivScnJzHH39cLpcrFAqDwXDHHXckJib27NmTOO1RRqkWLVlCtvy/3LNboVKSk/0DBg6sbajff+hgd3lkhEymM+gH3jDo/sQ5REOg1mmXLUfSOXH5p9ZptXodkfiv6d0rQiYbNPgG6c+x2Wxz585VqVREpR8fH69Wq8eMGVNRUcHz/OHDh3X4I5fL9Xp9nz59DAbDnj17eKw/IMcQdAb9Tb+ZygMkzk3S6nVypULTQ//0UqSZT1+fEd494ucNiNfefOM/L7/ULSJ8wMCBX3y5kyyf09dn0KN9xMJ/JJafFCrlDTfcQAT6WbNmabVaou1fsWKFFn8iIiKio6NPnDix9f2t3bp1U+FPQkICEbyk3Ff6S9sZFwRh/vz5P6+BNm5EEj/SLAX+dBTwB/L0Jx6foxyWRvA0trmBn05OGiGzlHwlF7z6Aj/NTGYgndi0rARp0Bv9or505ksnPPJKxDjPWeGsHVauPZSx96wZr+V5vJiiCnOCo9Jz1YH7+3I/oRq7uLg4uQwDP+9aqVDyc7dJ5FDtB37polDKx31Q33UVJOl26WhKS4lMHEG+NIij6VodSovjOBL6vYCf3EOByfWSAD9xtRVgygWXxt3jcHlilw346ZwiA0RGhKC+F/BTaVs6+qQUrYRGiG0/cejpJ48I/OQR/Us4AwV+r7l/SYGfLMEpEQQc5c4A/IRxPPzww0lJSXPmzElMTLzvvvvmzp17/+z777nnnkcfe2zD5k0VVZXkNzh5nuW4efPnjxozet78+ZXVyLj9Z4k5ecXyEaNG3jljekVV5a69e4bGDR8/ceLWHdtJR5CnE6dMJr75yior5j4w7/7EOa++8Tq9fooY6ldVVc2aNWv8+PFjx46dMmXK8uXLidxM3rJv376pU6dOnDhx2LBhCxcuLC8vR8bzAPUXGqbefPOoMaPvT5xjtlpZjtu776uR8fE3Dh/28uuv0W24V994fez4cUOGDp0wedLylSvIbgKx59+weVPi3KSEpMQ1a98jKTt37Zo4ZXLi3KTy8nJin19TU3PTTTeNGDFi1apVLMsmJSWNGDFixowZJ06c+FkhUVdXN3bs2CFDhsydO5fuRFDOS7kz+SHt/OsF/K0cH+CRx5mPclzH+UotUGYHfJmNiyOLyO0SiURW642gZDb6nTZ+i7jyXzLgp/O8/cBfaIfTVli+7qoHfiLxS6mOxN30dkmBP7DYJGHlhK4QkEtZPwV+v7RExzrEiEirBPhdhE3bEErEv8SPxf2rCPjRWlAeqsRvB0jbe5ESP+1SMkDSRblUFeQ74uK4Y3rwoR/XWh+v7UjN9EUoEgD4PSUERG/SUn45mDSDV5zUFqLEfzUBv5speMYIVlFfvNQDLoFqhkVmw8gpIY7QotLb4GkiMewniwaW44iLXLpkRh5/GYZuOtBSZClAmiEIArnJV3rnDc1JI3Sp5eTRjZZIYgOwsozNwRA4RxoOfPCNehskzSBPyU8jldAVCa3cb4Q49iFIT9QnFIa9+K/f4heX2KmAX8qpqWKNTjaywKfafi/GTRkE8hNgRcre0CV+FyPAk1+UMi9G4i9zcAT4k9ce9Cvxo9vTcej8En8X8EvhQVT1e/B9L7Ye6OuvE/hT97QkY+O+IHv8gXqMpJP+d6nl8dwMBPbSdOmoSet31WZh6Yag9GkQ4KfYT7iTtFR7gX9tfhBV/1UG/FQelWLVxWFS8FJ+66eGSCTitwbaQt+nFOy9ItIliDTuWwNJ8SpOvwbKH0p6kGaHUjxQnosA/k+y0XG+78/a2yTx+wFyvJUunUitAH/I+elNr94RifZe2h7fKU1aFUp76EKh1MaFBPz4XCV2vBFoTK5YOqWxuLi4ywn8UhpwMXFP0cojQ2iPpGMXaHzJOW/XX3x9HL0ZEkXwnUBiHnTF3EU0A20T2Dw89znI1n7rEv8VIwO/L26rxL9ud/OyFJfnPrRsIgaSFo/9ftFmguzo+VlU4YHz1OiENvq+I0WAX/zr512+Rfxu9vnNFmIiurfJLFSbBLTHfw4WIeA3Bdrjv8qAnxKNX2CmT9sfCVQ/SQ8C/CG+mqI1MXqS4j2NB6pKWlYaD5T/CqZ3TuD33Zr1nVpenN0DyG3IDtwrEAsyUsq3fl9skNbvm9+3PX6BHzldw3v8CFOJuN8F/MF5N5HtgucJ4al0+HwHlwyfCOrIzYvr0lgz8uDkCpcI+LGZNvGiFFTVfwW5gp9XhwD8xD6NA2SLDmt3NS1de+JsC7mT9yKBH0OvBPhDGHffiUlSRMj3vxEQuJT/bcpA+YOndwG/H8Jqa1Jw4G9rbb75pYBNkd4r4luKpEjLSuOB8l/B9LYBP76O65JK/BRiq01oaewB5xJ5nbBymplGSLr05jcSJ39pNrLupvUHekug/L6ggvYjrG6Jf/l7BzP3IOM+FjnvQycluoCfWmsHZ45tfSodi7aW9QB+7OUteEpb6yf5pRK/SUAXJuLjtYgkyI4P3akUDbcJz7iCXMHPqzsK+EvsUCLa+YsbKAElfipzX1zPd7ZS/oA/oFV/qBK/n7Fqb1KbrfqlLwwEzNI87YkHqp+kt6dmUlYK2F54T78Geou0rDQeKP8VTG8r8LMAnx5Bqv7vztmLrFDCIEd15AZb3x0vKVOWxl0M0VN1TzJQrJUCf5XZe93tlbnKBCSQ+9Ao8JNItQVIoJUHB35pNhoP1h4zkPciBz5WOGWD5LVZG3aftWLgZ9G1Wogqf6kSvx1gb27D8gzXOf4KK7iDp97lUjBiX7oK/S3BYd73aeg1ixQOJdjP/zkrLE09lfG1xew+xI9IIjDwX0GW4P/VIQI/jzyFuSX+M0bUAwTgyd8AwB9Q907Gt6093znzYxcUUNksFJthVyE8vS6fnON3rfw8j/NdrcDvn3yuztRODt7t6dS2Ab+AvEgdKIIVqUc/zKo/bYEiDs47+BIGOU3zCsgnTxtNclwGOJIT9uJBGnT+lWCwi9ETrA3wV5TykYlftYWvwaHawhMDQPKX1OxZP3kLOmhLvLt75kcaCBf8i+sMuuAgkbIWptYJR+rguYxj6788RYDfziFrUBfwc9h9Mj4ZL5Hz2jOAHVkWNRJ/Qt3jx9mdAuzOaliakv1+DnPOhNdAVo+tXHqMWwoAbtsI0WtC8JRArLw9wB+ozg5JL7VCGQPnLXDGBPtOssvfK/j0ELoBC33Qpg9yxc/h63pCpgTCh0gVl/tviMBPPM9ZAVK/blmUcmLfKaawGTm6QSfx0EC7CIPAv3vE8YGdVtkFPb+HIh5k47G28CQz+siPa1HPSi5thmIzW2J1IBcjF6DcCptyYFH6iS+P1loCnOP3An4pBknjl4IO2iXxX4oGXak6L3VHX6nfRc43Ss/x03MEfpsk8MgjzclGWLTmh5c/KMiqh9N2KGb8A3+ZHd1j0epkphmkm3C+KwAC/G4uHwDyiZOsSgty1YIDAn4apEDexrjkRHgA1HdhvxXW77ev3nx6X0GTHUv8do79ZQI/JREeTpTAivX5r+yszm+AQiOUBLiUxZMjt5nPBsLjzikUIpBzIjeOp+2Q8W3tsneOHDqHHWcjt9m/cOC3A3yRD8tSjm/4ruasCUosPLoxGbljcq8IS+zenu8oK/Ab8UD9qxD4cfvZEgtf3IwmyItf1D+Rkp1T4wjRuE+KQdI4nYUdGOkCfldnXuqO7sAxa2tVbZL4eeAZgEqA/+459XjqwQ15tjN2KGfRpp3fIN0CaHVx7cvW3TAv7u7jPNSrT8CIS9Us6pnFRQByD3fxIdBSwwQVOJSbocoKObWwbEf5k5knzpmQdgRt6GKNrlvVj038fgFW/fgSMSeiNx7sDnhh4+lnMs9/eR5O2qHQhlibK0hooxjtCtEgFNvaFgKREKGcQE+vVHqxTShj4KQRviyB5M1HX95xpsSKSIJlsR9eAd26iyV+5I1V3N0PPn1pNhoJnr8jn7ZJ4mcBzYWXNp5Ylpq7vwrOG6EKOUUWyi2ubSCiBCJYXmzjSPCGdk+HuDSbGJESDyWqIBFp/isTL2fRxuipFth1ln/m/dPLtuWZsF/eUFT9dMiDRDpqvLuA39WT0r7uqM7tJPW0CfjJPWJNAFl1wrJtx5bvOL2/Fs454Lwdiv2FIhsi9OCh2Oq67Nw3Qo8A0YhvHr8pbtTB8ONWNYtnimiF7Y2YsdEy/ltshlON8NanVY+ty9uS76x0EuBHk9pld0Ks+n95wI+9WeTVwuK046u3Fn1dgVwYnbf7CYU2tCZAwd62ICUhvyPuN1Fa6grErXDKBFl18O+dxX95+5sv8owtAjhcJv3I2QcGflZ0ykt4THCuIOVDoeQPXlvbnrYJ+Mm1MruyjEtTsv+7u+pEExSZodiCAtIGWV2BjFqgoQn+tMiLiihp+Y20kd7aSp8h5j9nh0InZDXBCx8cfzL94N5Srkk6CEH3+H3H3jdFWll74p0a+Dknl5CQMG/evLlz586cOTMxMXHOnDkrVqwgTNbFatvz638dZdsI/AjGWAATwGcnLYs25D6RWpCRxR03wTkLnDXDGSOKFFpd4ZwFfQ09nLGCNAQvSN5yyojee86CVvrnzVDOQRED521QZIfzjCsU2dFXaSi0oiJnzW0JJjjrLxRaoJSBMy1woBRe3FK79L3zL20pqEU33CIv/Q7E6ll89y427pPs8XdC+mrbHj/6AYhX8eBAjB5g89clS9ee+PeHtZ/nMyeaoYSFCsED/i8a+AvtaExp8AvzJLGMQdCC7ki0wTlMkKUOKHV4jD6lBFphiBFK2EEiJ5sRnZxshgqAXcWwZOPpZ9KPvfnRaeS/GcE9uShLQMDv2uP/BUn8yEYE2X04ARkvmDh4ZUv+0vT8F7aVfnwScoxIG3TKBGeNUNiEwplmJP6eNKJwqqVtgZRy/22Bk4HDKROcsyJuUOKEMxbUhlMmOG1G4YwFPQoRuduT7awdTlhgRx4s3lL8VFr+xu/KjMSlN2cVZxLW+4gOMUPc45fCf0exlE4N/FVVVZs2bYqNjVUqlcTp/fz58/ft29cF/G0a/osAfh5z+QaAj4+Zn04tWJRy4vUdJzd/W/bpkQsfHqz74EAtDTv2VwcK2w5U+4atB6tbDbTUR0caPs9r+ji7fuv+iu0Hqz/Kqv3wUA2Jf3Co7oNDdduzAoZth2q3Hapt9V3uDAdqt7pD/dYDNDR+eMS0+cf6tz87+3xm/op159/9tLHChFAQX8/DcoAEO7ee/xcI/BwPDA+sjePqzLA7j1/yTs6zaYff/OjktoNN2w427chyh+2HGt0hq2F7yOGDQw00fHiwwW/44ED9jv21W3+o3rG/9uOsxo+zGt//sfrjI03bD9Zv/anGb3j/x+o2hS0/VLUaPj7StG1/7bb9tf/9rHDVxjPLM06l7a1tQtd5YzbvuodXusf/CwJ+hPro7iH0K7EhcI0DtvzUuDTtxNPrCl7+pGjrkZbtWWj4Pt5v/Hi/8YMD9dsP1voNlIf4jeAi9dsPiuHAhe1Bw7b99dv2124/WP/BoQYyglt/qiHDRP66q6J1dnRk28Gmf205uWTt0X+kHP0ojyGyPs878DJJvKHH085TCuqhxNvE+YNk7tTAT5zaxsfHGwwGjUYzbtw4nueJ11uK/UF+W9cj0gOhAr+4DuWQIAtWLNHaAU43wdZvK19IPfxCSu7qtdkr3j20em3286m5JDy7LidQWJ2SIw0rU3NoWJGWQ0Nyeg4NK9KO0LAyLWtlWtaK1EMr07KS3/th0pxnl6/9cVXKgecyspas+XHxOz8tXrN/8ZqDz7znJyxae4iGJeuyQg5HlqwTw9qcJe5w9Jk1OYvey302NTfrHLTg80xmFgs9ILhuYHPNWvFEH7bq74QUGLrET34QZlf4+lCwcZxdALDzUFgHr2w8nvxezpJ3jqxKPbZiXS4Ny9dmu8O6w8vbElauPUzDqvcO+wZCeP9Mz3sh7ejKNVmT5/x7+XtZS98+sGpd9rOpaHR8g5QCQ4mvWpfdakhec2j5e1n/3nhi+Tv7X9uQc6wEWhxgYdFC0InpARn4eRj3/cKAn3MC60S/EE0BKw8mAY6WQMrH559fd2Tlu0dWr8tfvS5/ZerRlak5K1IO07Bq3WFpWL3ucJCAc0rHInfVulZD9tR5Ly9/L2t1Sk7ymkMkLHvn4LJ3Di59+8DlCavXHX4pM+tsNZr6Ro6wCCeHVKhdwB8yOyRMKjo6OhJ/yN27dD/1iqn6RYAM+Xdc4YwXAfxYlkXNJotVC6D7rfPK4FAhFNTA8Vp3KKhBKYHCsRqgIa8WfENuHUhDXh14hfx6lLIn3xrW6+akJ97OrUInDnKrILcahewa/yGnFnJqUc159ZDf0N6QVwdHqqCgEWo4MGPhl+HByggOJ0dQH3trIcZbv1TgZ7CCAxv6YfqvY6GcgbxqyC6Dglp3oMPdzkggijpcBKcb4EgxbP+2Lkw7+V8pB46UomacaPAfjtdDm4L0twSKH6tBv/dIKZQ0Q5MdHBw4GHCw4ADBgZX9GPURJfwCVf1I4kfA70C7P0jvz4FgY8EuoNVPUR0cLYZjVZBXBUdr4Gita57mVsPRKo+QXwWtBq8irX597r0fwhRjt39ff6zGPejHahB5tFq2QzLkV0GpEUw8XhMhDRDPgBMtkgSHa8FNr4ATMSEUKV+aRyzX3v+dWuJnGCYzMzMiIkKGPwUFBX5R38rYrYzr9KzNwQC+Coh0DFWrkL6T3ptCL6VnOc7rKiCj2SSthIwZFZWCH4dr74BcgvKhAr/4anJLtFfXIVtlf8GBFwfB/xKtuN+/VqxasGJU8ZuBbDrMeWhhmCIm9roRRhZsAASFGJ9Xk3S/9YSSSBvjFaFlHWTHTmqf7bUK9LxAk85YsWuv/H9KxiGd40ftJT8JybA47voJ7aGH4NQS/KmTqKM4mDYjSam/9obhky1OtDy18SjYBRRIDYRcg9fWzqesSA941xtBIJ01rm5zGfNf+XEPpQWhGffxPDg5tNpx4qMKqGKRu7pYBOlVOmtIpJ1d7bc4HWIbbsrAoRO7yWOmzUhiMT0QYvD667eeDkwkJEF6m0dHfngnWgtybuCnLCKUIblkeTo18APArFmz1Phz/fXXIwHU4ZBiP7097+VXX+3Vp49cqRgZHz9l6k39rxsw+MYhPx088NjjCydOmdxdHrny2dUAUHDyRJRWo9Xr1m/cQO7TczjZk6dP3Z8455revbrLIxUq5V8W/rXJ2DJv/vyR8fH6HoahQ4fu3bu3b9++Op3uyKEssvtwyYbjklTcVuDv8EZQ/AsSCfRSm4MprSiPuSZWq9ep1Oply5NZDllQBcrfnvRAzQtYJ5nD0seSWS2tTZrlysYvFvivbKvdb3c4HCzL5ufnq1QquVweGRm5Zs0ahD34c8W0gO4Gijjoog1CBR6PO+2XUICfnFDgEeojZwVX/LcgpYoTwer27dt79uwZFham0Wh8RcQruDUsnunAXUX5wyVhYG0YjU4N/DabrWfPnjqdTqVSJSUlEcint/ORX8mBkLxieVh4tz7X9mtovDBxyuQorSZCJktISlyXljpxymSFSilXKm4cPszmYDIyM7V6XYRMdt/99xPgX7Y8Wa3T9ut/7fnioriRIyJksnETxheXlv75L49q9TqFSjlnzpz4+HilUqnRaNanpRMlztUl9F/VwI8Wf7PvkysVWr2uuzxy4A2DLhHqiwzbJb6EBNu+wC+Zep2T5V/twE86ePr06ZGRkXK5XK/XDxs2rJMBv4QIfoESP/l1nYW6GfzhnFxcXBzZFFapVHfeeSchic6xEJTQQxfwSzojYDQvL4+Y9YWHh2dkZNB80uHcsHmTWqdV67QbNm9y8vydM6YTpM/IzLQydg6EmGtilVEqQ3Q0cb9/732zFCrlY48vtDmYVc89S6T8fd98U1pR3iOmp1ypuO3OOxjW8eZ/35IrFTKFfM6cOX369FGr1Uql8tjRvEsjatJfdkkiVyPwU3yqqKrU6nVypUKhUpKBXrxs6SXpJlFjKYX8VthbF/BfopEIXC3n5PLy8uRyuVqtDgsL69atm0KhyMjI6EwSv7T1rVCQNOsVj4ci8V/xRvptwI4dO+RyuUKhUOGPVqvNz8+numG/Ra5MYhfwB+p3h8NB5GnOyT3yyCM6nY6s6wPl792vr86gHzBwIA/gcLLXDbpe38MQHRvjcCJDSh4gbuSI7vJIZZQKACw22669e9Q6bUVV5ZHcHEN0tEqtnnH33QCQNG+uvochSqspOHmCYR0z7r5bGaW6pnevQYMGnThx4t///vfrr78eqA2dPP3qAn66qiNkcNc9M+VKRYRMFqXVKPGnd7++FpuN9jnn5DpKAeML+a2w7RCB/0qr9WhfEVZIvoa8xy8tfeXjdrv9d7/7nVqtVigUarWamP2OHj2aMo0r38SrtgVXI/DzPM+ybHx8fEREhEqlUqvVBPunT5+O7LQYZPLV9fHtgU6n6pcy8YkTJ2q1WoVCMW7cON+m8zz/9NNPd4sIlysVf/7LozYH89kXn0fIZMoo1aSbpkiBP0qrUeu0ZD9q+l0z7r73HgAguoEImWxJ8rJbbp0mU8ivHdB/19495EWDBt8QpdVEaTVz5szxffXVlXJ1AT8FJ0EQKioq1DqtQqUM7x6hUqsNBoNCgXT+i5YsoUNAgL9D9vA6HPhRI4MuDuivuGwRqkq5ioBf4IHHPnAB4PDhwwaDgWzwazQaiv0ffPAB6UP6Ay9bl/5iXnQ1Aj8AZGZmqlSq8PBwAvlU6N+/f38XMQQizk4H/NKGGgwGsoJbvRqZ5tGPw8k+/ve/AcD4iRO7RYRr9bovvtwJALfcOk2t06rU6hWrVkmBX6VWK1RKAEhJTxs0+IYLTcizgs6g1+p1ap12aNzwxLlJb7z1Jstx5FBAZXUV2VFW67RNTU3UeQBtwNUV6VTAL+06ArQccgxHA1LSkF18J88nzZsrU8gVKmWETKYz6PV6vVKJ4tGxMWRKM6yHsSdxj0/xW/quUOK0oFckYFkfUPdXkHdhv1TLd+V0AJQVdkLgd5tB0b4Su57nUMzhcM6cOVOlUun1eiLhUewfO3Ysiz9iia7/be6BqxH4OSc3ZswYpVIZFhYmBf6IiAgi9Le5F34dBTod8FOJ/6233pLL5UR78+OPP0qHY+ase4cMHcqBEB0b010eGd49AgDSMtLJHrBWrzucnU2AnwMhbuQIguJ7vto7YODADZs3AcCHH3+k1mmjY2OGjYhz8rzDiW5X4wEaW5oB4OVXX1VGqRQq5a133C5971Ua7zzA7+pAES8JTHLodBA6GoQDAn7yqa6rje11jSE6mhhbRGk1ZGeXnMt48sknCalYGTsV9zsf8IsrAfKTyYE4H9U9ayQAACAASURBVFQTf/Hl+N868NMBuBzNQe8QyQDIEhAl+esih8NZeK6I7ONqtVoC+SqVikRkMhkxA+KceI1wuRr/C3kP7vBhI0bK5EhAuoIfcl6AsIJAzaA0DABbtmxRqVRURNRoNAT+NRrELrKysqSZA1X4K0zvjMBPNmamTZsmk8mUSmXvfn2NZpPZitwdnzh7etJvbtL1jF62agUHoNCodQa9zqBfvnJFj5ieaIdHpx0ydGjyiuV/eOQR5FCa5++9b5Zap43SagYNvuGBBxcQtkZ2+qO0GkN0dP2FBg4Eo9l01z0zZ866l5iRyxTyny0AXnn9tbbRBGFYuIwTO+1mWz3yQnlcx0Yk7RYEzvNaXuyGhWYI8l6aJ0gkSHHpI1IDknQ9LirD8j0Cfhx4ggEkb1JSUlhYmFKplMlkxHJHo9Ho9XrC+vU9DABgczDkdB+x3CSrNxFsgzT68jxC53hxwD+Zw4e+yXl4ugKQgpy0uzo8Lv5iygclEj86DYU+PPbFSttG2iAWDPV/6C0XX0Q8RTqQlwik0UeoLz6iLyUbOnfeeaebAPR6jSZKqZLrDVqFMlKn18THjwTgHSxaCNKCrUUosfiNtFb60j0PvRsvLqfYctdsxL9+6Igx3RVR+Engsb+414VQCjeB58DKgRlzA1EGIExDbDD9T453DRs2TC6XGwxIH6hQKHQ6nVar1el0MplMoVDcfjuS3KgwSct2RTod8DvwZ+PGjQqFIjIyUqfTRcfGJCQlJiQlTpl6U4Q8UqXVaKMNDM/xANdeP5DogZVRKmIFRjD+2gH9q+tqkW7QyT7w4AKVWi1XKgbfOIQXffs4nKy+h4EcDe8R03PUmNFqnXbmrHuJI6D+1w1Q67RypeJi6QOROQF+T4y92PraV+6KS/yu5pMJjDZsRSlPIFHeC/hZlm1oaKBbueSmBpVKFRkZqVarNRpNt27diHEGwzquGuAnfpGoI5zQsal9o+9VmoKiBPg9UF/ig8araEd/FQGex46hHMCzWOvjF/gFQSgoKCAqwIiICGLcRyBfJosIjwhTRSkUysjNWza2kdFTWvQb6eif3Mnqc++t4FXp0BFjwpWtAf8l+wkE+HnkAtjqkvjpckFcA9CXEzLetm1bt27dtFptREQEEfGJ/W9kZCRZBGg0mtzcXK9S9OuvOdLpgB8AZs6cGY8/w/EnbuSIkfHxcaPjh40aMWjokOuHDXnk0T9xAHaOTVmf3m/ggL7X9X/lzddtTsfQuOGG6Ohbbp1WU1/38/l+ou2/7/77yV7+1h3byZYw2cjfuWvXhMmTlFEqnUE/ccrk/737DnXhFzdyxNjx4xLnJpGz/iHTB7mjg7iT4qRuzoLU4JffdGwiJ8C8+Q8qVFGZGzdjLQhqTiivCNJs+iiUerCWhWQUJWCR6YML+5F3cxKISmZ2QoJCpVRGod3cvn37zpo1y2AwTJ06ddiwYUS1G949IrbXNSRzoDbQRl6hiKRdNIrwnnifQy5Q6O4GfX6pIxxecPAAw0aM7B6JlrbkUiH0FwQSpG1oa9dJywaJiwToJLe9IN0cQX30PolVhOT1d9xxh0wmI+68hg4d+thjj6miFJMnTxw9epRcLtPpNTJZxJgx8RyHjgXR9Y2kAr/RIG0kxOW3VMcnBm/HpXnqMqxBPwa/QAL8VBPl/UsvTUsosOPqpbKBexDIm13tIX57yDUuarVaLpePHDly8uTJERERM2bM6NevnwF/FArFb3/7W7L7w/O83e5y8Or9q3593zsd8LMsS05okLEgrvowP0IJDI8YF7ozxIk8RTsE3iEQux8kJ5CPU6LZ4UCYOetetU67bHmyk+eJ+Z7FZqNOYDgQGNZBvxIlgZWxE91A24GftI5AGG2R2DJ//y/dRKI1czzMm/+wG/jxHih9GiTir73eaUGK+z5yFSYLearO9cR+HqC6rpYoY3r36/vMM89wTi4lJUWr1ZITFpmZmaNHj47SarpFhC9evozqzgO+zrvJl+272CLCyFyISzyeOrGVOiJdMdNliiBFGX6pG/h5dL+qFP6lTWprZ0nLthYnz8la0ClwxBMcTiQUIr6b5/lTp05pNBqFQhEXF7dhwwYAyMjIUEUpEhJmm8wtW7duHj58qN6glctlKSlr0Q9Eu0ahfIK3MZQaLj6PdHUSvB0d/pSus10UiK+YIKr+4B3X4S2RVoi6kogEUvVYgA7esGEDOcwZHx+/aROy3EpKSlKr1Zs2bWppaVm0aFFMTEx4eLhcLt+/fz/xuGoyIV/sXR8A6HTAT3YbyV8yQoQypHFvWhFH0uZgCIQvW548aszoJcnLrIx90k1Tbp9+p8PJEof8Yt6A/0nlVPoJmK8tDxyi/3BGwHdZSv5KZ2DHx0XxLmHug/IoXcbGLegmTQFsDDBOHDhgAgcHD62GIMXpI6e4BKIR1Hliom9HzpkzJzY29qmnnkK5sEvOjRs3yuXImRL107L5/S3jJ06M6dMrCHb61nxZU+j6Bi1xEDslt5mZWI449HYJ/nhEWu3nDsiAHayj1bMTDesNQ0eEhcuIIZx0QtH1mDQxdMokBNbqX0ZAft3JK8igsE4GeE4QSPAgDpblZt5974gRozLXb6SIvnHjRlWUIjExQRA41slwnCNjfdrw4UNHjoojZCOF1cDjLv2VvvHA5TriicADy3IsuukJLbwYXnAgvUuQmdERb/WpgyrUh48ap1D3oDoh0h30qZScfXvq4lKklZN2CQCkQ5DahqxBSCbPZvM8P2XKlPj4+PT0dPLE4XDMnz9fp9Nt3Ii2exiG+dmV7+rVqwcMGHDbbbd1mXx69t8vC/hZjmNYh8PJ9rm2nzJKpYxS9e7X9657ZjqcbPBlrLRTCAV3CPAjn0IAJgAjQJUNTtWw+WX207WCNJypg0sYaqGgHI6VcdPnLwzT9H4p5f0TVbaz9VBYD6eq4VS1cKqGCxKk7QwUD1KcPsotNh8rZ8rxHfburqbz2YPJo+c7duwgE5Ws/zgn5wv8RCWTsXHD0eMFgZiO+11XJCbllMhsTWAxPVjwvUTNAOcbIb/MXlDhCNS3HZ0Op2vQ0OeXOs83Cv1H/yZM36/wAn+sjDtdgx6drgXyRkKQ0rfToWw1crLa2Wo4UwfHypkzdVDjQLPDhPf4GZ7D1/6yaKknKoHIuAk8bN+GjulzTkEK/EqVnAI/gGC1mjjOkZ6R6is8BB7/QLRD0gOX66AnLMs5MW+y434oqLTnl1lb7cAOyXCqyknCySo4Vg3Hq+H60b+VRV93ogzO1sLZev+hw5nVqRruZLXzRBV7ooo9WcnWO8AMcIFBnNPFtH2GgnNylZWVmZmZdBBYlrXb7XPmzFGpVGlpaXTNx6L+5VatWoWJp+u4B+2wXxbwO3nMXjnuvvvvDwvvFqXVLPzb4/QiH7LB7/7pAWKEzNoN/Eh7aseQ/0M5/HP76RUbji1Jy12UcmRJWq40LE0/eslC/tK0gqVpJ5am5499YLU8/p4ZT7+5KO37pen5yeknF607umhdzqKUI0HC4tTsVkOQ4vTRkrTcxanZKzcWvPlh4elSMFvRjZ6uD9lWDirk8Dy/adMmhUKRmJgoVQWRrR+xItd/KSP3enS5v0qBHyMZA66rBfcd4158/9TKjQXJGXnJGXmkf1rt6vZmSDm6OCX/yXdy0Linfd/n1kfChtz61NpvFqccRUSSVrA0PZ+QImmVlCylFBs8HmIjyURYsSFv7bf1p+xQi29cdAIjAEMOF3hRBMsirs2hDQEX+96wYYMn8FMlEtrgp5/WBl1KL77x1kq3/Tl9h3R70cLDl8eshB5WbiwI3sMd+3RZavaStNynM449k5E78PY/6cfMXr6+IDnz7KLUfL9DSSd1h0TIK5ak5S5NP5qckbc8/diSNXkZXzWV2OACD3a8q+vSC0nEAzK4FMvtdjtxtSIFfrJlzDAMibR9oH7hJX5Rqn5izUdG7OPPPiVIL9XwkzOBwYeUzMx2Aj9B/WIrpH197um1+xevP/bCh8Up+62bcoW1P1qkIWW/9RKF1AO21P1M6n429YDt3R+q0w7XrPmpbMsx+/rDztT9bPohZ/ohR/CQkcW2GoLXQJ5uzOFTfrL/86Oyf7yTtfrtQz/mOy9QIxsX8LsVnEjt6emF1y/wk/MXFsbOch4LecpYQ9fxBKeHi39KgN+l2OBZgGYezjRB6hdlK9blPrM2+409desPO9MO2lvtZJIh8xAbJIRSyfrD/IYjkHbQvj7bmHa4Ju1wTcqBhvWHnekHeSk9kKqkI5t20B5iQFTXWnj3u5b1h/k131ue3Xb+mfRjyeuzvzjVdAGtilgObMjwwdVpfvo+EPDzvJN1Mna7Fe8OUdyXwIWfykSrtoD2Ff7LtCeV0ieHjTwBoKjOmvHpkVXrjyRvOPnGrvo137a0c5QDUYKfarOYDYdsmVlM6mEuI9u+/lBNynfl6YccqYcgI4vLyGLXH3Z6hUCVX3Q6ITNCXekHHC9/ULsi5dRzG079UIgUpcg/F13RkaiAtD6ck2NZ5JSd0gPZ49doNPRWF87JkackpyAIxGKMVPkr/9vpgD/QeNAJEyQSqOxlTBeAZzlgbQBVArz9ZfnilPz/7Dj2xXHjGQucM/sJhVa4HMEGhTRcnjdK3nL8ApQ74WQTfJrb/Pz7p5emH/081+Iys0H4TCwi/fNocqf1hs2b5EqXxE8O69OVmVRyuowDHcKrKPAjXHHYABoAXnj/9BPvZr38SeFP5XDKBIgqrHDO5g5nrEDDOQtIw3kzBAlu6vIsJa3BHbfi95K/wfP7I1r0ruClfJ/6q+eMGTK/qU9OyV2WWfDRsZYG4J2AtmaDdC59umHDBnppp9dKMUjxK/6IWq05AEm0Z5rh2fUHV63PydhTmFXsLLZCkcVjlIssKIUGL14hpRzfuFdmWolHBL+R5CyyQhGetuckk9erkkv9tcwOG76uXbWp6Ml3jhytQV1EOICU7ZO5T1KkA5qUlCQFfqrwp8tAsgKQFvnVxruAv2OHnmAYWAA+yWtYtbnwX9vLCoxw1gQlZij1F8ot4BOEcosYrFy5lXN/Rem++UkKLkLyt/UvfV076w9cT5UdKqxwqgV2l8Hf1x15Zm32iUaqzQ0s34nT/moFfkxc2I+P0OiE9d/VLdt87s3vLhzn4ZQZSixQaiVBKLW6QomFp6HUzNNQbuIlAcpNfoJIYO5SpRbnxQTJe8U6MfWaoNREyRi/JXj9wesxQYkJzhrhmyJI3nh2yfojp5rRFhDZ8w40LQMBf6D8nS2dAr8VLwT/t7NgcVrepkO2IgvU2Fyhwuwe3AozuINFqPCYYm6yofQjjUj5RgUuG/yvNP8VikOlDQot8OExWJpxcmXawXq8O+almQkE/ImJiWq1mpr70aGnwE+XAvTRrzbSBfwdO/QusbXEBslpB5ZnZO88xZ82Q5kTc/lfMfAXtyDMqHDAcTN8kMc+sebM6x/VNLt6S4CgrtY4EDZt2axQKZOSkggLQCo+8dB555X4RcpCnukEKKjgk1Ozl208/t0FyGOQwC2iPkiZNUX9EosEv81S1Of9on65FyQT0A0OzIGeBgdsFxl3BPCboZSBUzZYn2VcmpG1/cdSckZD7Dk//6nQRq5mISRBVwN+CnTKJB54C8BXZbBkc+6/tuWfNqM1UFEjV9zEV1mRITAdYjfqm4HAthSSpZTjG5fmDA75vjVLy17GOBKQzlugGODdPSWL153YcZAxOoFh0WqQhi7gbz9RdwF/+/vQowbe6eAAPjtiXvj6d1uyLpxm4KwFyh3tAH7PNf7VKPFXWJG4X26Bc03CqSY41gwvftDy9NozOVUM2qZDTnz86/lJz17twO8QwMTCtn0lT797aEs+fxrguI0rsrUC/FTWJxGJuP+LAv4zLWwhAwU2ePmDE8++d6ARn2cjJ8o85pX45aoHfpd6y2kC+O93tU9uPP5NCVQLUGWHSguUGd2QT7D/Vwb8QqkV7XQU2eBoI6zYUrlqQ3Ej3uenqI9VJsgyyFfV3yXxi7Ok9f9XDfC3/lM6TQ4GIOPrlmfey8uuRzvrJXYs0vkT90vNfvX2op7fDfl+s3kldmpVPwF+tGoxw3krbM2Hp1NOfZpdiy5gQNDvNu7zHUYK/Ilzk+hslzIC3yKdKsUB0MLDuk/OL07PzbFDgR3OO/gSO5TZ/ASpdCWVwzwkNqn6VxIXF4US+sGbPhUWjgZp/R5x6faQm/Ba21ryyOlDgR5PvcjV9bXYwpQ44IQVthxoTH43+2gZ2talZz58xzEQ8F816lwR+I0Ai7ed/dums8eMeAko7t14YX8owO8xjh597qYED/oJoPYPVI+0bKA8HZZOdjaxEcman2BRRuHZOnBwyM+BdIhpXEohUqt+aXpX3LcHuoDft0/am2IFSP3W9NTaY2esUGKDUktAcf/XA/wEkyrMUGWCYgt8fg4WpZ/49MgFs+u07i8c+I0Aaz4tfiYjO4eB01Yos/N+Ub/MBlIG+isAfqHYwpQxcNoCWw/UL3s390g5so8JYt33SwF+3gjw1KYzKz6vPWmHEqsDsQIR+6WRXxXwV1iEKjNXZRYqzFBohjU/wdPrC081AIM9S1Kwl0akzLoL+KW9ETzeBfzB++dinpoB1n7f9ERKXqEVTWZkD+Xaf/XYtXWpcD1W6EQMcq/TRRjwLy2JEp6klFRuCz3upw2+b/SR53zrb62eCjPUWKDMCt+UwpK1OZ9nNxDnLcF7+WqX+O0AzQDv7Cx8ZkPWUQfSZFbhvQ+/2C+OOOptX+AnT9sggeExouJ+hcXLUFRCadLR9BhHmseLJGi6ZyRgPV7FXV9LzGy5Hc6aYduB6iXvHT5c6fLnE4gkrnrgF3VWJoC/rz36ytemkxyctznQcIvKGw/gF8mADrqUQsi+vjQlUNyXlqQpgUqRdPpqL9PC4KUu4mmFGWpbUKgwIyOYdUjiLzre6L0W7AL+QLMj9PQu4A+9r0LNaQJY8wMGfjOUGruA383xicRfboHdZ2DJuqyd2TUm7Lkl2A4/tuMjxn1Xp6pfsAE0Ary768yizIP5DBSZ0OqnwupHz9+qxN9mRtyRwO+l9vfEe+lagWK/NDHAaZQSE1duh3MmAvyHDlX9CoAfk/vPlL9s/YnXvjKetENRF/BjUqHAX26BMzYE/M+knS6oRzNIqgTqAv5QoShwvi7gD9w3Hk/wDSLuc2fB3MMgif870xPrjiHLbSTr+xH0aWLgdTHBS8Je3djpmV+aJzAj9uC/bcrWUfW72l9hhrJmttwKewoBnebPqTIF3dAlIyAIwubNm5VKl1W/x7Bcpi9Si4JQ4u5m8cAT4H9v9+nk9KyTVmS3XGXzAH5i/EhNIKkixyUCYpnPNe4EUz0HlJpzS/NIpfzAEpvP+FLMphGPd0nz+8alKcHJjOREf0tMQrkNA//+2kVrDxPgl3J5d1fiGHW/nZGZqYxSkbWg19XMXkUu8VdRhG/jaywASzNPvbqr5Rwx1xfFfXSWT7JIoowixIiUP4Qo03vTD8FgH01DiLVJG9D2uOvsYrmVO2OHlIPOp9PyT9QgX9fBGK7Y812qfrEnWv/fBfyt9xHOge8QCx34v7U9se74OSve3UeHphzoOLW/FUDguSFlo1JeIGWp0jzS9M4Wd7W/wiKUNtvLLAj4kzPyPs+psrimNLkaxv9YXNXAzwFnw6r+dXtOrUzLOmPBwG/nKiSWfe0Bfsq1S63ioGPMvsqA3wjb9tcvei/7UJW3XteLJjof8Hs1MNSvFkBmLq/uaik2Qw22fXGr+i8j8PuhnysJ/ESrJJTauHM2SM1yPJ2Sc6oSg35wrSDu9S7gD5X4OuHtfKE3/fLmxBK/23lksAUokvj9Ar+/Y9PIPw8NAaQrb4nN26UP4vjSPNK4dGEhBQNpeqA4rsdtEE6LB8rfaroX8O/MrUEeVtFAoiUVFaW9Rpbu8ZND215PL8tX2rQQI+5G8bzTBtACkLL3zKr0w2etyNizhuEvDvhLbVypTUIwVvSVBjchWb1GzU0e7jxSYqMURUlRjNBB99rfDURjrdKAVwYi8Z81eQF/wPl19QO/S0MgBf46C1RboNLqCtIu8isteCdixlJudqIgGVYyRtIUAvO+Kb7p0vGVxqVlL00c2bcS4E8/zLqB3z2lAsa6gD9g1/g86JL4fbrEf0JATuSb3Qqw7lIBv8j0JdObTD/p5JTG6eTEiVI8EAVEn6okRaT5pfHWy9JKpJEu4O9Q4GfLrWy5BPvdoB4Y+CmQo8xk6AnGS+N+UB+NvtdQUoqSprc1LgX+JWuoxB9wunkBf9K8uTy6yJW7Yg6d3FpAwgmwn8ZgmulLAvwu1Dc7peszwge8RsStGcIj7lfilzKQQHGvajvuaxfw+0JKx6d0AX+b+5TcEB+k2CUAfsR2q8yY+WJ+Lc5GKRj7j5MJSdg9OipjYVHAVXmxcmlOCg/ovaQI/Ru4bKuTv/3AT67ZuOyuNwMJ+i79o4D8EEjzuKlD4JyM4Ffid5/oq7CBO0j2eonu16NXXZCMIL/CggLGftZXE+AxguiIFA1ClRkFkYRoxD/9kIKkNs+FBSko0qS4/vBobeA1Jc3WHuBXqJQJSYnkLq4rDPyiItrBWrEhWpBd6daB300Mnsc7Saf5QjVhDuK8pgPqipBSviNIRpOqi4gmiZKNhGAo5XhEaM7gETrQIUcuHvi9HPjQAyDu2dgVE3ugC/jFngj4HwsfeGKzTgZdGS4I6OZQ/PFbSFT1Y+M+M2Bn6XiP/+JV/XjKYeglaC1ybf/MWjoVpdNeCuEkj+9slJZ1MxSK+mIb/C4afGvzSiHAX2qGvUVoj7+tqv4FCxZ43cflt/8vQaIU1N1xjPcCxznwVoU7XdqASwT8BPXbA/w+2O+fligAoBEXNQHlSKPQwcC/9YB0jz8kiT+sW9is2fd5+W++3C6cybBj/sDzTqR94I0M2xLYHI0UQKYMdI/fS9XfJuAXz767Fuh4/npgv5QDSEeQxumqUTr36bgHiUjzB4p7cYBWv2LbxotU9UuBn+cRCdEL+qRTsisOXXv8IRCBCPwCCMCi0EbgJ1q4QHel0OmHIh4Skttwj4jd1WYkrBP+K2W7ZMr5nZ8Unl15LGy1mak2M6Qe+lT6XukEJguFarOrVKtlpfX4jVdYhLIWhgA/seqnxn08oOtYSfAaFLrHn5CQQGT9EH2z88DT4FUn/eofruljV0SaC8VJtSLee90h4gFaAud0ALpgNPWrs557/Bcv8RPUr7IwFVam7RK/W26TjnWgeJWZqzahIj7A76pHsvhAige/4x4kER3ns6FbrNoK/JmZmRqNZv78+aS72yzxizI6Lu4CY+9hD/6dKPlxURd98E6H0yigA4lB3A+63uUGfhN0APCjqe3iDyJzCCjxS8dayn+k6X75iVeiNH+geJCh932EFjEmdCVBuRUZ97V1j18K/ADQdQlvEPrtkviDdA55hDgDuVOroDjn/IX8C1DkgEYWzDw4eHSXGGX0Ll6CzvF/Y//72oJzyIEPX4kCsrvxi/3uiSdB/VIzX46PemOrPddaXgrY4tzmKq18OdrYc3Nzr8mJLvxAwhnKIIVwEftdu/W0QukErrXzKFuLhUC++Ne1U+A7b1tNQcDfzBaZ4KsiWJqe/3l2HXHgI0hQ3/coFycAOs6nkj/8yEP5hUcb0IUm5U5o4pHUxLqsA8VhJCsDwo05cIoBrf9pwHld32giHUWxJul/aS66mECOZY+ePlxuP9sMlQ5o5MDIgZ3D18uRAohyeN5OgH/f6eUZ2Sfs6ObTKsbjEL9UwqOm3TTi0atWrtTipMCPsB9r+70s/qSDGIQ2vLJ5fSWEVG1yAb8U+911ujRAaMeh1HaxwI8d+Gw9gI7zHaxu5Rw/3ePPzMzUarX3z52dde6HBiizQL0NmhxgcwJHhhL/pQOHR5PI5YgQXKdzxcdiCp7LYqKUAPzFCfDjTR4eXzEAqF7b98c+r2ZP2KEGcwkroQfMQyjloNeYAJYgq35ToQU5dKqUGPdJ6cFj9P3uylu5crOjCq/p6aQWpzPCflIDGVysqvFW7RAW5Hf0vZmJe8NIXAuanZVWvsKCGJFXDa43ig3w/SG+KRVmqDZCtQkQ8Nsh4zCzaJ1o1e9vBCRpaDASExNUGlVaRioHzvqWmh9zv70glNmhnoUmp5tX/H/2rgM+qirrP0p6bxCK6NrWtvaCiiIiiIqKhS62dS27FkogVEVEQUB6TUhCVRQbSkdQlA6hhmRSptckU1+bV+d8e96bmUwKkCDf7orkd36TO2/evJl5997zP/0o04s2W0XXwCWhTnjExf4Ewz8T8EeG4UTI++F9jpxCPafBIwAPQINfIxxbuGfCav2439glHjjNg1MGRg5iTyBs3FOAn39nSUkE8CM81wF/RF5f/dWPWr5BSQLUUZLFjzUArGzAzirYT/ptlODwg50DMy3pPH6jl7NSksmHSGzyCYcrTJ8sKvxkUWH+F9/XsOCRYV7RVxZGKSTg42y0jDoB6a9hBL3T5wUw+YSKWspIohWhmgMbLetclFuGWh70btrgYWp5sJC8yUNpazy1LF9N+81euprBk820pCelcre/cTxw/V/UIAwQDB7Q+hD4x+Wf/OGQxxdUjmQhpO6H9f7wQJbg81Ur42PbPj34md3GbTMPvLXOPtEOv5BQKmJpHKXRD5r1AoIg4XbGS8kCiArxAvACPsXz1Gsq+rqoCG1qska9JaDu+shDTY1FGXiac5Z6Ds7cN2qNbZoWdriwDH8NC7QAARE78sm8KEkyBNP5dpXmrCw+ykMFC2YV+P0y1u6NIHN9n67KvtX7GbzPCvDrvIyF8jtFsNKcieJtApgYwcJJFjYoE5hpwSmCnZUOanSfLV89b8Xn2w8eM3pZh19e8d0WKyXpXJSNEZ0CSk92VnL4ZYdfrqzx6VyUP11S5gAAIABJREFUwcM4RTB6WbcINkowuRknD7V+0NaSIc4uWFjR4ZfttKgsSFyiekow81BFci1cDwEjGazct3afY9TSg3tsWOVQacvSNPflRRXXA4UrCxITkp8a9vh3VcvmHHzvZzrfDPt8KIHhuyUZeJTAeOVifHBvytgNSkJ5nVHWnawCtoRLhgeZBxm7wEWsk7rvEFoD6v8Qowg12ZUDwVVIA/OL57tZe9/5wfbpKfk7Lzam8KjOCBErzwqhdyDw5+aXztxMlrJg5LCuQziq/0zAH+ndD47VFA+KN3pZC8nbGLFWAiMpqGH/IfhHpHfwUOVizLSw9eCxOQVrln7xzSmTw8aI+8q0q37cZqYFrYeurPFZaUHnokw+zuTjbIwYHtTyUM2BwcPYGNHG4Oxra0m9m7bSgsMvV1R77Kxk9LLq+WZawu/g4xoIBGflDMgowgV8zHSgkoWV+7ncpYc0ajpf3VTUH+GEBJRJ454b+ExMSuySVUv8wNDg2V65ft7h0ett04zwsxNOKYvdr7xZApEFPwWCAKIUAEHC2Tur5F//My+CZ39i4G8K+5sAfmVF8CihMzVg+Vw/66MTT83SPLNW8/5RamM1lHnAQAYcPFBhBELg/0l8Z0mphkbQVfuq1aF+/YT++pshCPwGBip9vMWP+Prh/LykzlcRsSlEUhoRnxKd1bl3/xftHKjAr2K/jZZ7PjOkbXqn1qkdOlxzCxGdGp3eKevqW5I6/VXn4Q2UnHjZNURyFpGQ2ioxLTq1XavENCIhHY/EpRFJWe2vvalg/Q9X3X4vkZTRJj27dVr7Xs8PqeYAuUAtWc0KDpLbvvdgQrsOrRLTWqdkts3o8PBzQ80snB/wV/hgpw4m5B/feNATsoqeA/jXrVwZH9v6uZf7V8Dx6SXD5loHzzv20q7aRTrc0ho/SvRceDeqwK/q+gLwPJIYyc0V2QChWSGlQkNQ6g+xdeVaIV5f77WQ6ICmREaoZkC/pCJnesVL807+A3l9YLMTKn1ouyV54PgAIpA/gIsjf6dm5KriIwKWJDsT8Bv9cuR6aBL4/81VXxk+JrHT5URSWpv0dq0ystu07zzo7RFWXg47/s20cFxv7f5UfyIuqW1G+6TOV7VJz+5w3U2db7r1r3d3c/hRtsNFlZJNJLcnkjJwJeDySMNxIi6Mro88MS9/9ZU33dk2LTs6vUPbtOye/QaGYkLRpGynxa17DrdNyybi04jYtJQrrus1+OXfA/xf7EXg32dDt8hZgF8SVB6NwB8TE/PkS48ch00zTrz86YmBc068usuz0ggneaD9wDLgY7E7EhWULVXJPACKNMAoSK/KASgmKk+DxoKIKQ6vKXUNRKyIsG6gHFPhXMCCDVQFHP2s5L352pfmlQz9xjSjPPCrHwUnLwtOHihVABUUjX9cfunsjQj8+t8H/NUCPPLcYCKlHc5gfHrrjE6Jl1/f96W3IoG/ysUcMziuvuv+mOwuRFJG1tU3RmV2TOh4RXyHy58a9pqF5LfuP9o6rT3OfnwqEZ1ItInDp0QULoyUdkR86sPPDJwwY25ip7+EF8kni5bbWUkVBWyMaPAwU+Ytic7qTCRkECntk7pcO+CN90LCouIqOpf2H9T4fajxV7Kweh83bumBcgsuh4hbXzfG6cGJkBTeKyDwJ8cvWbnMD34SaivgwOyyN2dUDP7s+AvbPPO0sMcFlQzYJdQWaJB4bP4jorVRqlcYsG7SL+LRnwn466ZRXUUhjh/ew8gU6hF2UldYggQiD34nOH/zbZxRMvhj7RMflT8zo/ylIvPYg4F1LjgtgksV+iUIkAFYvI17ewECv56WtQySPjKy71wav44KVJGCnpSqBTD4uDkFa4iEVCI2KSYze/V3m41e1imDlQ1QAHoX6/BDz2eGEAmZRKuEoW8Mt9OyxujM+ssNbdI639fnOaNP2naohEjKSuz0l9dGjHnuxVdiUzOJqPikDlfkffndI/1fIOLSXvjXSAuJ1sIuN92Bmzwx/S+33o06hI918gGzm7J56RvvuCc6JSM6LTM6vX3Rtxu1btYhYnmiSKBqxhj0PizTtlMPE/OPbN3v8AdtpIqKHLzbKH6HSQJU3L5YvSY+tu0zw573gONrz6fTtYM+Ng2ZrHl+ZvnQb10f6uAnF5QJQPOigIxArQaEs4l6vx94v+qRUScaXw6jvj/4mQERTX8q4atBS0CD9RBW1/BT8PI+AMdecvmMEy9MKX/uE2P/+eaXvnJN0MAGOxT7wO5lPRgQoqyMVdv1uSsOHucR+E1n0PibCfwOv/z2uPdjMtsRCSlR7TofqDLoKc4coe6baeGZl19HJp6UNnb6LBsj7jh0PPPq64iUjD4DhmlryQkz5hLJWR2vv2XstNlPDXuNiE0kohI633j7iu823dGjT1RmxylzFjtIwUEKrRIyiJgUIj79iUEvRQL/obKqy677Gy7LBISKfWVaHcnqKKEZa6CeEUit1Y8le/c4xi4+eMiM7vGzKV9+DkMsILB8VX5UHPHk0Ic8ULpGP3nKyX4TT/eaVtF/ZsnLX9tmVcEeDuy1nF5xyamXlNEQExCVCI3gPg8DNmJ/xMoJzi9+EXW1qEvibI9oOBYDpEST4NvkWftxWf8p+kc/qnjikxMD1ho+OCH/6IEKN2r1fr9iWyABJuWfmvejV0uBhW2Wqf9MGr/Oy9QKgd7PDmyb0YFI65Bx9U07j1cYKDkS+M20dPVdDxApWa0zOyz94hs7K32+aUdcdhciMX3qvKVWkh/85rtEQtoN9z40fvqc+x/vh/idmH5r917zV36BbCEhrWD9D3o37ZKASEjDD0rOenzwS9UcGgVVdf+43tomPRvlhoSMhE5X2Tm0PbQI+EP1SCQDK1T4Ye0+dvySfeUWVNMb78QQO1flNHzWv//A+MTkpUVFPO5MjwcMX7k++Vjz3Azjsx9VPTVD/8K37LRS2GLGxuBeSpAkdT7RWRPSAkMXvej//+mAX9nqAcU9zwBa/BTZXwGGcCBYeCCAyADPACMpxIHfAVVFttEflD86TttrvOHRiZrHpp8emF866gC73gFlPHgloGmAvN3s8KWnNDRoGbnCL1exLQN+IzZrDyhbF438A197q1VyBpGQ1OXGm+00b6MEnZPR1tI2GqMHjF4urv0VRGx6q6T2Zg9nIyW9g9p14CQRm/nG6MkmUh781qjs6287VK431HifeH5QdEpGfHq7h558xkLyThnSr7xh9Q/bPAHYW1JJJKa3TmvfJj076+obnSKowO+g2MGvvt46IZGIiSNiEu7r9biF5I2koKllSqrpFjJ6BP4qCn7Rw/v5B7YeMPgV8zug+F1HimVeVh8lkMWA+PmaFbFxrfsM6OMESzlsm6V7+b2yh4bru42uuH/CyR7zyl7e7JxngEMy6tkeZU4VIMfQAdmPQhsa9pF71GG/wtBR3lCctHXAH2buyGoas5sgl1BfANYjljnhQEH5iA8MT442dcutuGdq+SMzTvT/zvaJBnYxYPZDDQ8iB7B2q3Zi4f5THHYfOT/gx1utJOgbPMxjA4YS8YlEStqDTz9nYgS7CCrwW/2SkUTHPxGTTMQkZ//1RoMHrfpuGWblFxGpmdMXFzhFeGzQC3c90ocEMHvYv93XnYiOb5uWPeiNd2yMaCF5IqVdmaXWK8Dqbza1TW5HxKUlZF122fW3RQL/4wNfCJqOYhJ7PT+k3EXqaM4RQF2tRUsiCPw++AqBf/8hiwr8IdktOGFh2VwCngbgRQgsW5Mfk0z0G9rTA9q97OfTNM9/YOqRU3H3J46+UzT95pe/ubl2kQOO+UDPQDWPLjkeF0bAH5TrlGlXjPD1pMygUKh6jNSPldEarAiIQTFRxtgRSXERSxIukuCakWWekpla8Bjg9NTSAR+Yekwydx+v7TFd9/zcste+Mc06xm12gtYDdhJhCSYuP7XgB9LgAxv1u4Df4GMNHupv93WPy+4cldlxwBvvWVlQ7IV1mRdbD56Iyb6idWaH6+55wELyejddy8N7708l4lL3n6o0e9jbHnjkzh59av1gp8W0LtegLSc2ZczHM00+7kilMaHjFXo3bSF5FBkV3YCIT31q2GtqGJDeSWmrfTfe82CrpCwiMT2m3eVD386xsoEGjv9zLwxMGxEMLKfzI/Cv3uMfv+RAqY0JhWCEZXMcKMq+BOhJ49TtOPC5oQkxKXmFKwU86veAZY+45lPN0HGVPXOND440PZCr6zWtfPA3ztmn4ZAXPDTQPAZrS0qI0UWP9fV+4J8I+MNqhNrtW0Tjm8MPNX5w+8HLI5E8kGIE+cHrAzcFThEcEtTQ4HSC7hCsnFL69CTtk+P1j03S95qs7fVRxRPTKvovtb7zE7/MCgeqgczbZx+5/KiGAS0jVvgR+/V00xX7I+tyq2OD0r7FRAe0Xr/WQ9tZ4eb7HyISk1slpgx45TUr6beSvEUhHHg5s4dFc2tCepvU9nPyV5vcjIMUaBm63HDnxl8Pm0j5kedfLDE7vRIYnZ6kdtmtYuLj09uN/uBjnYuyc/Dwc0O9gI7ej+Yvvb7rg9Hp7VunZBKxSWYvbSX9dppf890PbZNSsjp1iUpIIqJjX3zrHTutRPQoBefPvZnr2ffA5FO68+lhUuHenSVVHmA5YCmoFdA1HiQRGJVklLcoEXxrvlgan9bq6Rcf84CpBo584Zw4Qd9rhOXOHGPXsYYHx1Y8PFHTd5bpxW/p6VXwixsqJXBJIqkUAwRBAf6zZ3mJPBOQ0aLI+Sllf2DqRjhQvAH8I88JhiByHNTUgqYENn2s65dr6jpWd894bffJlb2naJ6aVTXsS+eHGthaCwYXwNe/VU4s+OU0A1UkmNR6vRHe/bCn/+z3U9WfLCSffc0NREISERs/ZeESBy+7AOwiOHisCWii+LVbfkKrb0wyEZ96oFRr8bFmL2320kkdurhFDEx9+oVXjlbqnXygmuZbJaZFpWQRMUlb9x6s5eQavzjwtX9VM5LFzb76z1Edr7yRiEqOTs2+6pa7a3lw+GULyc8tWh2TmU1EJ8aktydiEj+Ys6DKS1pFqPDSak2hupDVs8sBDIop2KQHS/a6cvJ+3udAnw0dYAVl6iWgIsgnox+AFoGkgcv7uigmJbrvoEf94HFD6ULDi5OND4413jfKcM9oU7fxxp6Tq1Ao31AzzQFHaKh1BVyK3igonl3F26OoeSqoSOgPCFRLNZzCChT4VxcCgoIg8xz4ePD6gWSB4XBFBeNFIpzDGFdAAeUH2QiaQkfO+5U9x1Q+OEbfI1ffe7z28cmaZ6eVDCqyjDwJX1dDmR1gfFHJvB9YvSIIRFbuO7uPX8cGdGwg0sevGueIxKTWaYi7q3/YYWGgooZRnYxqVtG8FZ+jOo5LItnhFx1+0UpzxVpjh2v/5hJQ/rvr4cdMHqqa5jf9vDcus2PrpAwiJrG43GCnxRpWfmzAMBsluAS479G+N3btltShS3R6+2tuv8fJB6yk3+Zl//7uqKT2l+F6iE6Oy7p8y75jDj8uyHrJIPVYQT3DT3DZM5LBzyKxUiUDRbuF0YsOnajhENuBE3HqGxApI3P2+oHjAF4e8o+ktulffLmeB0EEgYIaCxxZY/9wUkW/HNNDw63dRlruG69/cHJFn9n6Yd+6p1XAPg/YGLT8qxa+etB4cT/5cwG/ysF5kETwWPhinfBbpfRzhfRbhbS3UtivbUSVwv5Sea9G/k0r/qwTdmv8u8tg+wHIX1L76vvaxyYYek4wdp9gfAAfDT0mGHp+XPVMvuafu3xb5u87OXrNPqVWv1jFthj4DQw4RKh0oohtofxEUkrb9EwiNm7Nho1W0m+h/EHgV3zwdlrscuPtKGtHJba/+sbTervW7rH7+FXfbjF6OaMPA271blpX61334+a2SSlxqeltElI8PIZrVQtojrOzGK/X9dGnBr/5LqJ+QiqRlKax1lhJfy3L/+WGm/r2H0jExMQkJ7dOSNz0y29odaBli9Jb9uxA1ehV7FNs5rAt74TVW78/tauUP1whHizj91ZKB8JUFTiok5H00kEDt9/AHVz2/dSMW1oNmfBoJew9DT/8Bgvf1/fIMd+eY7p7tPm+0eb7coxdRxruHFvVY8rRwZuqlzrguAxu3M/oSkCDv8fvomVKRNUNd7mgPKpagwhcACgeajmolrDWDnoOw6gvKeJDGPvD7EACVkcf0/h/O+3fdQzWT9M9Nd5w3xjdvbn6B1Qaa+w2qar3h0efX62bUQq6ZTt2ji3YVkJCpQdMlBLVf17Ab6WkjbsPtE1rh8CflHLUYHbwcrmL1Dh9Oi9jJDkHDwYfS6S0i8rsSMSnXn7znTV+UVfrNXvp3UdP6Z0+K4lBmhYfW03zH322IC6zY0x6+w5XXa+v9tT4xVpOrvWDxc26Wbju1nsnT5sbm5Kd2K5LQtZlmBXCiIfKtemXXz3w1TfbJmcScSlEdLzRSztkqPQxZkFuOfCzFhbKfbB2v238V5s2mMtP+curhONV3IEqbl8kabk9KmmYPRX+49NWfETEEY8896CGO3oStq6H3I9sPUbqbhtru3uk5dYR1ltHmm8fp3tgckmfmUde3u5cawN9MBBHEkEKqEKhakNW/Uom0J/y76sK7NcJh8xMBYOmByUIQARa9un8xyqF/ZV8sY49bWXNfhB4wHUTAfwcCbYKobgSTh2Grdtg1hT9YyNL75tge3iM+YEx5u5jTcgiJpb3+Lj02XX2T3dSh0at3TN7k1PrAyvZAo2/EfALFso/v2gNEZtAJKckd7myRoRaCex+TClCUkr5HtNaiIS0mMzs2KyOD/TtZ/TSVpqz0tz3P/2GQp6Xq2FlB8m5ucDAV9+MTm1HtI27p8ejNazsk0Fb7athZSePwZ6ZV1zzzvgPiHgMObr2jq4uAdxc4OdDx+IyOz767EB1SSRkX17rB2Q+JFaWrKPmAD/mhqDDqJKBlXuo3JV7d9oqy+XTldKRKulAA9KJ+3TSnippX0ngaLlQ8eTzz0bFxE1bOsUilWvofaeYn0phyxZu7qTKvjnmbsNtd4+03jnafHeu+e7xxq6TK/p8durNjfZ8N/oebdLZAkvCm/7iGfyJgF/d5IzABoCuheKvDn2weN9rcw+9OPPIy58WvzrzyGuzDtenQ6/PPPz6p0dew1eLX/z06AuLDf+ccvLZj6ue/KDq4fcN904y3jPJeP8kg4r6PcYbu0/S95iueWza0Xc+2bdlxNqtVQyYKF5Pi4qPvwUav4FB37kdw2ipSZ/Nbp2STiQmJnfqVM1yFspvov0misccHr9k8DAmHzdx5rz4Dpej3p+Y0fnam8uNNXYfb/EKdhYvYmHkWh6spH/IP95sk5gUn5F54x332CjO4GGsbKBWwlCvWh6IlHY/HT6R0vkvGPoXl7J972EHxT49cGhiVvuPZsyKSkgg2rRJ79TZ7PbVAX/9KPRGMN9QqMcoX5I3i7DDQo79euWS4s+WHBsxfc/Li069Pf3w38OE9/zIazOPvIozcuCVRcff+3TPG9P2vTn14GuzS/85W/Pqx6X9Jut6jNffPU7fdayxa6757tGW23NsN4203PqB4/HxR/vN3zf6uG0nBm8rcRsCGohrSEybqmXBXQs2D7hZ9P1LLAb4+kiMvi7j0P9e5cF0CkqIyDCsj/pKIBgwFGgLD49fdOzN2QdfmF86dJqu7yR9j7FV3XP13ccYHsgxds0x3YlyifGhSZWDZx79cNauNbmFW0pIqPKAmcRSfWEtP3Jw9nuo5tENe2tEdGq7hHYdLrvhpmoxoKdYPcWhxi+BTQA9xVUL8NjQl1tloLWWSMro2usxxVCEeG9nhSDTJ/1mN9Wj7zMEEU3EpTz67MBaVjS4SBvF1frBQQonK8xETKrVxbSOSyfaJiZkXaat9pl8XI9+z9/YtduAVzAyICo5/e4ejxh9pE2QzYJc7qGCXP6cLF49QdH4LSyUkbDicMWHewtnls367MTI+SfenHv0jcY07+g/Zu17cc6+vxccGvfMiLvjs4n7n75u2ta3Z5z+x3jt4znm+8ZZu47W35yj+1uO8ZYRprtGGO+ZZH1omrnfPN3r8/aP3m/fRQV8yAcYVfBD2586uT6gNllWLC8dn18yYsHed5f/9qmO0wRlPlkmwbZw7+hZR96Yd2DEkl8n/XB0BY0WFtbn96rmQ8DYAa8msHP2gbff3z3oo5ODptueH1N130Td3eOrbp1kuHOi4e7xhm65xgdzzA+Oqnp4auXAqcfG/2vDF9N3lmpws58n8CuuH0zV6fnkM0RCcqvktB7PDdBTnM7H6SkhHFBsoniDj+3x9AA0CcQnt0nNur/Pk2YvXeMX1RheJRtQ8Irg5qWuPXsTsQmtEtMGvPJ6DStXM5LJzdSwmBP0+Y/b07pcdbRSH5vVsU1qVuplV+KKIpnr77znkaef7TtwCJGQTCSkPjXkFQvJo/ufqReseva1rbyKtwITWemAloWVhy3zDuz97MisGcVvzTz8+kzkCY3p1enFr00+8frUw2Nv6HcD0Z7oN/nBz/b/a/rhwXNODVmieXX66X7jDd1yrLfnWG8dbbkTlQRztxxL11xjt/GlPaefGjD/4Bu/mtYKaEz6E/39uYBf8dqKHLhccPygfdUe7+Kf6bnb2flb/PO3sQu3Mw1o8TZm6TYmbwu7dIt/4SZ+7jf0RxsCU76D3NnOJ9833vW+8Y5JxnsnGR6YpO85Sd/rfS3G8sw49fzXzmXT9+8cuXZHFYORL7j9IqL5GoybNPWrwI+ZOV76icGDYzIziaSk+x97zCnKWLMlBPzVAhrTyqrdBh97X99n0Loblxad3D6z8zWn9XYryZtpTPu2+AMWVjR66atuvi06Lb11csobI0fbaYzmM/hYCynaWSn/qw0x7S6z0+LVt9ypGn7zVn2Zv2ZddGLarj0HH+r9WOu4hPiMzMefe97iIdV04WZs4yaA3+TjzDxss1Cjv1qz9NjiLe5lWzwLNvvmbKbnb2KCtJldsIVB2kYv2Oyeu4vNm/bzm1e/GP1yYc8vaj7ZKE7/nHlvirbn+6Zu4/QovI813Z1rvjPXcutY431jNX0+Kfn7JutyEgwq8APq9/7Dlm27DF/8UJa3/tii7ZXrS71HfOjTCShpPTUbNXk/Vn62STt7Y+mc7SVrq0UDj0mAQXNuI+D3B8BrIg/v932+g5y73fvxd74x03R9Jxh6jtWiuj/GcP8Yw/05xq5jDA9MNvabWv6PL2vXzvntmzHLt57yQqVbMXu0EPhRUFCMN1Zacf3EJhMJyUPfeNvgo+1iwC6CgeZP2mrtIuhIVrX539PnqWBsdkzivb0fR1VeCNQKAacIpdbqalYgZUhs15mIim+bnPnhrHnVGD7CkRDM4ns794OuDz3mYuTU9lcQMSnRqdkn9bax02ZHZWaXWarvuL976/jkNolJr7z9nomkbYJs9IvlHqZlwE8r6Xwh4B+7Y1mBY+WPzOLN5Kfb2fmN9iNuz++rp2+tnnuIXPthwWtEItHjub/9UrPyO2baQuH1MfbuOYY7xppvzzXeOsZ45wjTAyMNPXM1vT4seXbe6Tf3cF860dikhHQhh1d98wj8itYu/ub+Zptz8U7vwr3M6h36dSaxQgn7hoAkMmDf6SzaRC7Y7i74pfqLMt8eEQVHN4+ZgepfQAKPEfb9TOfvEhZsED9aBcPHG7vnVt022XQnMgrTXeNN94819nz3VPdxp/pOPz10vW/FO9+v/WTXydN+7NvU/HS+SI1fBX6Th7rihptj0rOiM7JGTp1m5UU9xWm9/hDwo5JQ5aL2a3Spl19FpGREp7dvk5rVvW8/NTQPU3Z9qPHbff6TWgMRHY+XSm236ef9Fi+n+hN9Mli8XP9X3nzkmQF2midiEtukZhHR8TaKe/Wd4VfdfJtHkNtfeQ0Rl0jEJn8wc76VFtyA1sQWcgk0hplJsFIBHQNFhw2jvlq31rRqI7Voo2/eRt+cJmkDNecrdt63ZNEdg28jsoh/5Q36mS/aQE39ypW7TfpkPZ8z3nAfor711lzz3egZ1D88Vv/wRG3vqWVPLdW9cVha5YaTl4D/opd6Ajz4BTTtuvxQ7Qc7A3YaqZppRDS4aKBoJSuUhloSrHYoPgFrPijpMVn/wPumruMMd44qu31ieY8PTj7x6fGh6wxTnXC6BsTPfq4asfIQhnEpqnkI+8FANaQzAb+Bku2crPd447OzWyUlxGSkfTh3voXlTbTfzqFPF+V6krVwkhuQ6VtYEeOxU9rHJrVvFZPc68nnbQwetAlQ5aFrZTimM0W3yyaiYoiY+A27frFQfistqOm/JjfTb9hr/Ya95vJDt959o5IyW8Wl5Iz/8Mq/3vzqP96x13gzO14enZIRk541beFixUKoFBBsplYXcRqGGbsFEwNbdDB61d7vS0o9wJHgotDTVnf/lcCLGvVRABcLNXnrPmuTSvR4thsJdhcc2eib+pG2zyRbt0mWe0dV3DJOe9ckXbfxZd1nlA07wHxnlst4lN+5sCteBHaP+fsVxZNn735r8cERX5z69HDNNgqoABr8OS9Yl+79YPqeNxaUvD1r/z+KDkzScQd59C4Hgb/+lghgij6wMjACeBmweuDoUWHVhBOPjrM8OMnxwBj9XWO0d4/VPjC6tPunmmE7a1dXSGUmEBZv35+b90uJF7RusJBiZHc+Y0SL3khGGUznYyQzi9VRTJRoo2WjlyVik9AjE5/y+Y9b1VA+Mys6AXRepkYEI8kZfKzRyx7U6LKuvpFITI9rdxkRn/bK8DGVThKlRhq9RVbSv37zjrbJmW0TM2JT29l9vN2HcaNWEh99Mtzf5+lhb7zn8sM1t95DRCcT0clT5y2Nyuw4v2iN1lFLxCamtu9AxCZu+XWvjRGtHOgoqarFjD5g9GHlvjISVu+35a79abeLcgLlQwXYHrkkQuNaDpwSVh/K6DisAAAgAElEQVTw5K+enZzepv+Q3n6s3nP6K5gwxtz9zbLrc8y3j3fcN9zQ9e2qhyaWD1ldOfNAzSYblDII1Rz65mUlME/R9dWZVbBf9INPyburVrIdKQH8SnqfHAhIIjB+ZAXVDDINDw9MACQuEEZ99TI8j9/NzoC+Bg5/Bx+PNfYao7t3pO6OD2ofzDHd/Z7unvGVTyzXjt5du8IKe31Aj/7i55k7HaVY1bsFwB8Z229iMPh306/7iajYuPSMtinph8q1JtpfI4PG6UOxnhWNJOcG9IQbPNShcm1ylyuJ2CQiITW+w+Ufzs9T15XJx2FVBi87dc58IjY+Kjk9vfOVdh/v4kFbTam+AIuX63Dt38ZPm+2TITq9Q5vU9kRSWtHXG4iE5BXrv/3lwKGo5FTU+KMTLV4sA4CVS0IKT+SqPusYNX4TDVhqgoaC/Z6clb8Wu6o9GGhVQ4OjMVHgoMDhAYcPnE8Pe7pVIrFozRwSHCTYfWA0w+Fv6emTqnqPMd453Hj7SO1duSXdpmr6flT87PKKUYf868xwWIRahVeEbDf1d/vF+uzPpvEHLXtNpuo2MccBdPIFCWGA80DF9+RHU6oe/cj4yBTTIx/qen94uu+MU8M2+uZUYgkXjR9oEmDudueoopMVNKCDTVHQlT3QEPUNVHChR8K/gVFq+JCSmRa27D9IJCTEZqa3Tk40kbSJ4rW1pBpJi9Y5Ruw9cJiB5nUka/VLngBce/PdROuEpPSORFv0vFpYvtxFYoEX2v/i8FFEYlKb9Mz2116ndXrVKAH10S1Cuytv+GxJkdnF3P1gr7aJGW3iUmOSMq+58XZ7Dbnu6w1t4lLR7ReXrHeTWN9D8Rqqu/qs27iRxk+BySUbKdhciWXLfjzqVluaYGHtcOB248waCVYvL0yKSXi63yAOOCcczte8+b6m5wTzgx+Yek6penTS0T7zyl/5gfrUBPtYcDaeRxnfVV4qbDshflMF23Sw2wnlSuUlkGWegeoKOHACth2Cb4/DD2WBrX4wCAj8wSrCjS+IEcUBrATOo1xYvkH/6UdVT421PjjB9PDEyl7vl/SdXfHKl56PSmGHD6yA6d3YlndC/v4yCvMabIxoZutK9p4T+E0M1mtC572HGT9tNtE2jmgbl5B9WY0frTXqSjD5OKOXtdJCj6cHqBV4PAE4prV0uuE2IjGDiE256vZ7rX4pDPwWyv/4wBcwGqtN3K1du6vAbyV5K8nbabGakdqktt+4+0ANLd12f08iNpWIS02+7Oo+A4YZXOT7n85qm5TWJi65/eVX2X1+O4sTXeWTWp7eGQJ+CtbudU0oPLnfiiXWggn14fve1NpYVZCXlBz33KDHOLBVwM4pp58bVXFfrv6BicaHczU9x5x6Yrb1vW3iWjdYOGDYAO1hfRh8HwiSasUJf0KTAzW7p0HUdzilM8IOpEZ7YuapEpTqqYGTn1a8Nqaq1wTTI+P1D39o7juh/LFphhfXeabZoJgFnQx2ryy/t/S3jzZYS0jc72a2xQV8wmU9X3jrnVaJKW0SUq6+6VZDrbuWwwBMtYKTnZW27Cse9MY7Vpqzs1jW6VC5NiEbBcE2aR1veqCXCvxq8R+3CPc83Cs6JS0+vV3fAS8Yakg7LTs5DP3TVvuOaPREQrqNEixersuNtxNxqURcctu0dk8PGWbz0i+9+VZUcmqrxJS7e/bBpRgqItRSLqEaO1XgX76HHVNw/JRN5tWQjDpeHGbKasuU4OPAgQPj4uIKCgpkWRZlmQZPFRyYU/H2xKrHxxgeGKPtPl7TZ67m5fySEYeF9dVwnAZb0CgYsts0uQwuyoN/OuBXZ7E52z7yTEVQwCo+OnHnp+UD37f1nmLq/f7JPvNOv7mpeqlG2usBk4TBpR4RBBJg/jYEfg02XxcNtB8Jhd8WAL+NBwsr9v/HG/HZ2URi/F0P9VCLtdlpuZaB4jJ93+eHbdq5Lzo1e/+pSsX2Lhg8zE/7jhJRyfHp2a0S04xeWvH+sgba7+Dle594ikjLJJJSn37lNbQcKKYIFfhPGu1tUtujTc/NYtBWYkabhLT49OyTFcZaH/faP0cQrWPbpmVf3/VBkw+1STW2vKVGXbUyl+E8gF+EVQWFsfFxT7/wEgnkTnbe1NO9JhseHl/Vc0rZgDkn395eW2SEo35w+ESbqMRkNdqrsggUi2X1HCK4ZCADwIbTuiQRswk84HCDjYVaBmwc1Iqo04tKylDdxUJpRcEjIvhpsB4PfDWnbNhHlidHVz007mS/acfe+Na8WBM4wGAZn2pZ+T6RwK8jcWZbCvwOHoVIGyP2ef4FNYTqwT79bF7OQQpuDgw15Bffbe3z9KC8Ves7XnmjV4BqSjR7WJObmfjp3NZYgAWL89g52UDXTX3qZVfHZXZOyLrsX6Mn2X0I+WrCiNHLFqz/IS67SzWDZZ67P/Esig4J6f8G/gOlWl2tt1vvvkRsYqu4pGcGv4RZJH7Qk1KVDzVXRYRtKPCdRToMd+f7Ym/NGYG/bgbCI3F1wdK4+Ji+Q3vXwqkvq6dO1Dw2Tttjqu6JmeVDC3Rj9/FfWaHMhRNKCmiQl0Wlzku9ZM2Qgz980WYOwpCPuaboKGCxIIxSQsol+9xg+RXWf6x78QPTUxNP9/qk5Jml5f/81b/SAiVusNGYwOIFTGCBcauKP/vJWcqAgRXMLEbLqnT2qP6wxh8G/hu7diNikuJSMgcOe9Vc7a7x+t2s7PD6v/hu88tvvvfWqHFZV1xTTfPo0WcFk4f619hJuCRiUttfdyvuYpTjseqfxcfGZWa3SkoiWrX9bGmByc3YSMkerPjJv5Ez4ZZuPV0CxvpdefNd0ekdiPiUq2+7q8bPG52erj0faZWU1DYl/YW33gkDv56W9VjLpLnVPgxMQKdkMmNlUhqW72FzzxP4xQBa8vSbmLk5J3rlGHrm6vtMLR8078S7+90bKXAw4KbBwwX8dQ1CGusbzVwNf8zT/qTA35LJQm6v5OxSEph2WpdOPTHgY/2AGWXDtpBzDZgQYgqAwGCtKFZU+AsNsGCbc1RhiVLA5/yB3+Bjb3vwISIhoVVSwsC/v2byUBhW7RF2/Fp8+TU3P/nsC6+/Pbp1XPpboyagB06V8X08EZ3SJiEjNiPbzHBmP6+jWT3FOng5ql1HIiUjql3Hwu9/VFHfRAXTAv85bvLND/TU1pImNzMnfzURmxyVkjXxk1m1rFjLih2vviGxXRciJvmf4yZjsVgsFBPRsiXCkn8W/q6+hN353KKehq0VkLu8ZFMxavzoYT27xi/CioJV0Qlxjw591gaGGceGfWboN774sRmlf9/kyzfBSSUFi5GVfDxV+D/j/AYggAnYoRzguiyesMyvFHvFLyU1QH01EEyNCsMr4Mt+GgxrDONnaAZOOvnMtLK/f+9dqoMTNPho1DJZpXEfmhB/J/BjTWUBSyxXM4HUy66OSmkfnZr90cwFbhaqfYLVxXz57dbEtI7v5kx68tkX4lM7LFi60u7hPDzoaskfdu1D1I9JvvKOe7UeWutjVOzHfP2oREwGiU39cdc+VdG30oKF5HUuqu/QVx4f/JLDjyFdjw98sU1q+1ZJWWs3bkfVkOLa/eVarOaUkjF19kL0DlCSwSsZyPMHfiWdzzGp8PhBS1Maf2g6I+R1fm3B4ujoto+/2MsMBz8r+cfUkuc+PPZUnu7dX/1FNihWiuJQPObdSYJSj0HVyi8I8KtfR1H9EfiVosz/Lr3PAoAXGBtolugmTCt9efrpwTOOvbTdu8AKB1iwBtAeEGDAz6EsyPsBxhQembnVVsaAiWUtzPkCPyUlZF/eOimjdWzShk073D6/l+ZdXq5o1VcJye1mzVnyYM/HidjknfuL1RgOtwhzC1YR8anR7S9/8OmBJqUItCpTFn29ISo1IyY9o1ViSg0t1bDg5LDooNmD8Z49nuz/wpvvqYn+fZ5/gUhIT7/82o2799lodt+p00RMbKukpNYp6T8dPPo7gV/HYm8RHQ2Fv50n8IsBXgBSHzgw7dBL75c+O+rok/OtI/fDly7QMOCi/bSa3CvwIHEQEBRSyneFFtrF//8S8J91jtViXogTsgAuM+yeufu1RcUjvzcucEElDdUCVsRnZKUirFoMSFDKxyza5skpOl2BRvuA2j9NQb4mDPuRRn51rJr6TXRg428H49p1iE5LJ+ITFhSurGakLzftevy5F+NSOxFRaT/vOf7ksy+2jstsm5Rd+NVGk08werlnhr0Rk9aJiE/v/exgq1+y8rKJkyyc9OLw0VHtOhOp7YiULIOP1XpojLtRGmyU2j0x2Vf0HviSkRT0LvbjhXlE24RbuvW0eDldLfnFxh1EYgYW74xNm130RZULEwFaWo0rLBDUB/6Tm4qdIeDHvLs6ajAnIqxYvi46PunRYb1/cnw9/cgrCyr+tZf5Vhco8YFHwPI4WPxHKcqEul1YIWtwmQZPFc8uZvopH6ymdDUB9pHvUgPBEMlRP8Dcb62wf/qel2cc/fsmx4oTzEEHVLuxgpPIYHU2XskROhPw1+vTE7b2h+9VqIpZ8G7bGTB5pdl5q7FEY1wGEZ3202/Hqn3SZ4tWdH/02ZjE7PiUTqWV9mtuuJtoldShyw3bfjlcQwdqWOj6aD8szRufkfPxZ5VOusqDqfZmxSNAJGYR8ZnJ2Vf6RIykqPWjb9XkE07oHURs2qDX38MODpSweNVXrZKyHnlmkIUUXRJMmjEnIatTSvtOreKSTC4SizqQotEXwDYTLdf4MWKRxYSqdXuCwM80NvWH5qAB8GdkpD3+Yq+ttYUzD77xddXHB72fO+Aoi1USnDzQEkhKTmYwUEMt2BNeG5GD0OVb/D/CAiQAcKIs+8C9T/puzpF/rjyZu7t6mQH2suDgMPs8uLR4RdIFhUuMLiiescVaiu05KKXccqidLouWf5Ui10ODMYaJkMKbuR8QiRltEzNiktLdPr/b5586/bOevZ+KTczMbP8Xp5tPzriMiErOuvyvxWV6k5s5VKa7vuuDWHY3Pv2zws9NdMCitP+wMeIdD/VqlYj5mX+95S6Lm61mAlaf7GBxVaz4bgsRlfTpkhUOPwqgvfu/SMSmvTpirN7p09a4XnzrHSIqNjotMy4z2y0q8QQ+rqyGQnNOS5aEqvH/fuBngakFy7aar2bueTfv1ISjsN0MGi4Y98PiDGDRHsXgIyHqozlIVQZavAT+qG+4BPxnnbkw8KNO6tpt/3yrPc+uWJUFNAMof4qNSCkAgpK8VAf8ZecN/CYaevV/Ofmyq4mkFCImFrE/Ial1WvuozM5EXHp0eqfrbuumd1CZXa7Luvz6qMzOrdI7pv7l+nZ/vUVl5b2eHmjBJFos4/rd3oM3PPAwkZJFpLZrndkhql3nrGtvWrFhs4kSq1zMgDfewzL+CRmtMzo9NuRVIykcqNBHZXY8qNH9eqKsx9MDYtpdhoW68O3ZqX+5fnbRF+dRhjPMsOqAvxKb9Gw+N/CrNzewavma2Pi4J1965KvDS7a4Ckphtw9qFM0dIVgtv6e45OtQP6zC15tgVbxQtjyHVdwCHCZiSYq/v2ktP/LtEYw+AMBycvXOknWbTIsqYbcL7Kya262UhvfjMpBDFQOb1PhbBvxGj/Bg34HRWV2ImLTWydlEdBrCf1xGXEaX2PTOsSkd73/4SbtbiE7u0PHKv7VObB+V0uHyG+9K7fJXIi6diM94d+LHwb4prFiwYdMtD/UiohLapHTA68Rn3t6t929HymoUFv/K8LGJna4i4tLbpnd6YsirBhc9r3Bt6mVXG1z09gMnbu3+KGr/iWltMW4guf2V1/1ypMTkE0wkCrW/B/i/2uP4oAA1fiXso3GPxuA8hKYVTf3R0W0fHdDjy2PzD9PfsNgz0+6HWlrw8BIX9v2GXfIh4MdgfrWpZlhGjJziFo0jBBG1XDww4Pm8ePYOR34NHGCgkge3X+KC7QKVS6sCJgTwZ45efmzGZjsG9zGMIky3APjNLOws1tzVsy9W7UxIVzT+lKiEILWOT22bmDFg2OtHT+vaJrdL73w1EZ/WOqXdX++8P6nDFURUQtoV1+ZOn4sOfjpQ7mTnrFj3t24PR6e3x3j+FPT03Xrfw0c0RisVMHmlu3r2jcrsHJ3VJePKG94a+6HOyYz5+LNbuz9qZ6WZeSv+dl/3qNQMxVSQRUTF3tKtx0+HTxi8Qo0EOp/03wJ+Kxi+LV9zjN3lwLjOaqU7nzq3IRE/1M4L1KzNS6b+Fi39i//koGAoK4BOkWDhA24EDoVtBLtDKHivsiT1PEXjP3/gx6A/Ujb5OG2Nx0azNX6+lpOxxhkjOTGGXzSSgtbNzipYq/X6TYy08eDxT5avmr1y3ZyCz60+0eLlKmt8ZlrQU5ye4c2siM5dH6vzMmplN0W9QOsxdvohhUo3g81eWVmt/Frloowkp/XQWApUMQ/oKfxoEyNpvX4zi93YFMuk3NI83RYCfwilA9yqwqUJ8cQLLz9Tw5tY8Hqw+pzakBdjtMPN91ToDmFDg7Wp2HpVu56ifinYjEJD6E/5uECoYQMygrAVInRK3X8WsEAQ62J0ErIVp6zUkVWrBPpBZhSvb7jsfFOm/hYAv4kSrVTAzmClSayL4uUcfuymaGcD2K1ReTR6sQFjwfqNehemaO44eHL+yi9n5a9euPpr7LvoZNT2zXqK0zh9Wg+Ncdduf5XDh+V6vAJWfVAqQGvdrM7jt3OgdeN11PZrejf97wYBTgG/gMFFO0ihlhXtPr8L34vfx1wvTLUFPv6wxn824G9qHlYV5CXGxw4c2k/ECg0GCfW5kLigor0y17h9lX4QIeDHln0Kof8uArnrprYZI/V9kQstgAIkfgGBxptULaidYMLXCn1SUEAIAv+pGZtcpegiEUN19RXsD6n7Dbo1hgVotAYpwYC1PLhEUGrv4IxU0zwpg9lLOzDqEwtzHa4wFKz/oZoDk48rWP/DvBWfzylYs27LTjXJ3s5hzIvWy2vdrJ2VLD7W4qHVMj4+Ee38NhrtTBYS00nwV3Go/Wtr6coaCtcbI9byUOMX1SoRobbdHDb+UMp6WpXmQwr2N2tJXBCNf3lhAQ8iFfAJSpk/jL2QayHgUZ2KalYHmnBVd104YDA4U6F5Ck/cRTq4pPGfY2Jxc+NikCEQau7JSTIdQMRQ9ETVdocsJ8SeGIDfDfyynsTWllaas9GsjWb1btLqx7QuAysZ/bKZBwMrmXmwClDmYfQcHkfkZgNODj27NCbRYr6fnuG1PgbbtrIYwoMNVZXCrgYfp3WzFbUURo0xUqWbsYtQ7kI7sIWT9BRn5WWbABZOqvKgfVhPYUF4iz9g5bA/0PkBv4kO6DyKj7++xi8i06y7gaEpUW8oQIBbVbQwKZ4YOuRZCTg/9t3BqF0Zu6piS00RTf1Bt/yZN24k8KPQwKmdWUMfpvwPAAK/QoHQdCpm/Xpn4RPstSuDjxO8GCeohI8pcIO9gHlsEBBsAqGCw+8EfqXwkaxz+lU/iwr5JkqsUcr0VrkY1QyjNkK1cwg7ehdbWUOZfIKNlq0U8m4jKaCgxqDrx+rHSkoWr2By+6uZQDCGi5YNSjy2KlZq3RjFaaPlag45vpLzLXoCWMvd4KLtPuzvrK32VTMBCyn/TuCvUmr1f1Bw/JC5KY2/qalYUbg8OSluYP+nsRSj4FMqLKsuGGXD4vZUnbfKfIZEcwXsf7/Gr64y9bHBl5MkSSn5J/P4ldS/sOFQFQ2UpY4af/7pGZs8pT7s4dki4EfU92MkIIpobEAR3Ti16baV5owka+XFWiXL1+Bjy2s8dg5zg9WuzdhZEVvocpVOukYEK4eRd2ZasrOBSru7mhV8EtQysroqaMCUejsb0LtYp4BCht7FYqyJ0sVb7exVw8pYIoKTnXzATvO1PFTUUgavUO5k/yum/uWFGNWvhNeEdq1IKXI4Pg11akJbP3ZpDkgqqVw+9Bh648X7/xLwN29uUf8LYYq60xWfUCQDUC8U0vh9OUWqxq+0LQlWLG/Sx9+0LIz9fCnsmKIk3GNxTTON9S+VQFlZy4gNSO3+hyqaD0ll9JHVuwy0GIzDV3R3VcXHBHFWxgo/IVKPnOXR4kdtI0yRWkhzxi0BflUWgAAIKwrzEuKihg4eFAhgWxT0lwb/cN/WTWFIXa87Um9Ub7qaSOmM5OHquN7bI5+o/f3U4MDQwsAlgtwkbF7GNRKQAoDaXzidLxTVf26NP3w/66ECsukghU9oMAifYKUCYVIPhvumWCnJRtYRPqXloAChpF+HggwwkDMs59lo2caImPNNCUEiJSuFndRDRt2WDYw+ycpAJPAr/rKIOY286xHjgoKC5MSEgf2fAYhYA2reV3DuIucluHtDExReCRFXvDDD8JUj7QEhoVYBflVJUIC/bMZGn8arFHQKzamZDoTD+7EqdsTxyFkOv2SlUG6z4SxgArDS5Aar3hpYycBGlMsNlc5Viz+iLBhKIrAwYGXRbmSncWbtNOZzhq4ZiGwioHworocwWSnMJlUK/3E2ilPH/+4cjeUZaGwzhnws4idE/pzGY1QMWDinjz+09xv+j0znCwQw4TZIaImpW1HhjR85VZHjC7MQ/revcgn4L/D8RAB/ueLjP3/gR6imgsCvon4Y+PW02JiwSF8E8GMBjchewPWBP1IIiBw3eEvTT0N1OdRdHcmPzjlWgX97BUzIP7n1iNOvaOpn0PiDUxMISCsKCxNi44YMGYL7WfmL3PR1O1x5sT7HvcDz2+LLyejh/Z3A3yTrPPutVrlqGPURm4P8tx7XDmM/cnBEDqQwv8aPUPoBhoHfwiDwI9UHfiuJlVZbiv34Fm8Q+Nf/5pi8HDX+ZgL/8sKCpKSEgf2fQ/EwtCqC4zDHDy6WMOqrkhk+rZPjWzyj5/+GsEQY9PHnl83YSJ0f8IdmE6c1cu4wSp+VdArqq9jfQAIIA3/kFdQxWpKC2F8H/FaqgSBSt37U1RICfhQEcYyrCL9V5Pps/FlNHrmAwH+mSYoE+DONz/Tei+n4JeC/wLN5wYHfRPGKSz7Y7kJlyk3jsQL8FhLh30KKFxHwBwoLC+Pimgv8F3hGf+fl/t+Av0nW2eDgOYFfxYyGyBFS1FTgR+xXLUOYcoakug8i3htQgb+l2H8ewB+W6hTgT+rfv38k8KviYANBMAzykYz+d87q+b1dBX78CaqPP//0jI2+cg9YfPU0+0hdPHJCzwSlDaePCfbuixTow+OzA79q0cFSjIogqK6f+t+nIfAHL6jo/SHZ8RLwn98C+c+96xLwX+B7fSGBX7H2h4A/aLU7O/Ar3oGmUb+BqT/MCBoMziRS1Dv++zR+HQMt1Pj/2MAv/v9o/JGQcKZx84Ff1d7UxRCp8av6otpGSCkyE8T+EDCgnd9KYn857K3SQqU/DPw6L6z/zTa54OiRoMYf0fSu/gb9QwN/WASpB/zeCwr8dKhjLyYSN2HqV004Yb08cuUg6iuunAjBDl1F5wR+xH4F+EMugEvAX3/V/u89uwT8F3hOQsBP5RQppn61atXZu5LXN4vVl+vr5Gv1eBD4I6A38kiwEafSjjPyeCQrj7z+f36s9fIh4D++9UhN80z9TQB/vWlrZNqt9+p/94ksXRjgV2BVBdcWP57ByaqKBZGsv/F6CBcYMIYCO8JKfxAnaIz9Rk+wQi2y9qvAb6dB56sDfh714QsM/P/dJRD56arV4fyAP3KmIsf1NP5I4D8DY4l8b+Q4QphT5LmQewhd+6HZb7xCQmBfx6kir9mi8QU09ddzBUZMQKTV50zjiNMv2uEl4L/AU1sH/IWVFcHMZkX0PsMmbLyRIo9Ebir1eGM4jzzyBwL+iXnHtx0OA7+SMRHG7/pzEgj8cYEf8w6EC6LxX8TAzyDwf/Orbcpy1Pj/FMCPNeKVqP6NvvJma/xnBtEg6KKK//8A/GHUbzK9MJJHhcao8Z8HXQL++pzv//HZJeC/wDf3wgJ/pBDQHOCPFAIajxtf7T9/JKzxK8AfCu7DiK6wEbfhjEgQKCjCWv2RwX0NT/offS5LIHCAjYN+T1Q/Bvf9PwB/mDVHLoNwKXh10Fjjj2wnEzQCh9R9i9pMPfRVz6n9BzX+RsCv5G00PaPhVdIiH3/T1/qvHFWl2wsM/PUi6SJns8lxeN6bOwip+00Cf+OPaO5lGwkHl4D/P7YkLwH/hb7VMjbrWLDdN3JFudKkBwxezJxpEObaeLeoR865ZyJ1+paOz3nxC3tCvd+ouhsxj5/X06qP//i2wwj8IoCABW/CLL3hjPxxgV9p8SBySq2fgq2acfn7T1Oo3WJOXQQzjRzXu2kRVqL/DPA3QH0DE2gS+NUvXOf6bQr466N+Q2QKrzSsD0NjOh9G9Ss+fizpgAmbTf+FV8kfGPgVE3NY46/0gNUbjJBQgyTMDHbpDVIQHSMN6Q3HZ/Lln+l4SC8Pht8rc6GMVYmt0SdG5nREvFf9Guej2Ydnv8HARAf0fkznM9EBLQ3Lf+Nyl5/E7nxKwZ1Qm9RIK369cYN0vvBrDVbSmSz84eMNzr8on14C/gs6rUr9WAkg/1f/qNXlvxgkuwgGF9hJsJCYl69So80T3sl1WddqwFTjR4sPQ4GCRMqWllBkqFf9MaZyXXAK/0yFAWFusYmRqmnsS7vuUGBc/skdR2r9SsIVL7FKGY3gVm0wJaIsLy8siImLHTh4kCjLSgF2LK0dpgbn/+88VUr8YnEiRoaFn++bULDvFIfp++gOxyzqYKCchRXDpBZVDN86LKp6vgEiTcoQkQJE/aA85LZnB/5IISDs8o+UWs6oESo5gcqPwjYBZjUCHAdqtjeUOKFou33s4sOHDJG1FJuYyT888Ks14QPiv1sSTFhVNmmdpdINVg+YfIBdjkjQU1j5uI7wKab1NpPU29vsRym4HpS5qOM2oez8YKqemsCpPKpH6h7PzDcarpAyv+YAACAASURBVOGmIg1D54SkBxZ0nFzFQxUFWg5m/eCdUFSpcWAnZWXDB4trhRG9weCMwB/2IYbSO5tYWH+yQ5eA/4JOuFKiyx+ANYfYfy47+O1Jn44FK5a9xBK84cD4ZkjiweCa+vCsRNhGIH1Ykmim6t9Avr7QT8PiS6QmEdnRBxm9lQQtBfO2eMYUnDxhBE7pkyVIUuQebjAlf2jgV8v7sxJ8vbPqnQU/bzJCFQcmLLuGldTqSBUCsPNhEBpDPBHvanDBKAaAxth8ziP1JYC6bHuV6YdU8xYDfwM5QH0a+WWCn1vH8bG8jNoiSP2ZWJeCxxty3Auzv9aOnrtX5wv1wDgDj/7DA78KQlh9EuZutL675PgRM+jcQdQPA7+OBp0K/xS2Y24m6ocygMJL6JyDRsDvUxI0sJxD3XuDlRuaBP6QDBcZYKgu3RCXC066MvWhlRyy/9WxIMXYYKDkSk6qEkEnwjEvjFmhn1BUbmeAvwT8DXji7356Cfh/9y2sfwEJAmQA9tlg3OqDU748fpIGrdKjT8vIYdKxAYWwzobOL4RJqbelVt0K7xZ1q4SfCgaaD5Oe4YOE9XzkcPdrtQd240cDfpP/Pwrqi8pPC36KiUYfh5UKOHyBam/ARoJDhp/1MHxVxdg1FR4ZG6hhhVysvobNMprU5s8J/GHVP4wK9efkv/pMKRRPAxwwiaNXl038znSCBQ0tmP28jcEm6EpsPNgohWishV6nTgVTpMIsuD7frAPUcxwPFnIJpXcr2Nx4GQTC9V5CLBsve5Yajk2+FPledRy+rFpYBtd8cP0HKrlAmQgnJFhXKo9beWrxt1pSwo5JqN9drMAfNFRhVMv6Pd7cvKNLfrKVc6ClEeANlCIBqJCv8A1F3Q9W5giX6DjLoCV2O8W+qKRiBhWMUFpmWGKLTOZUUzojZ7P+OMi4IplYuICgemakAIqQH4oFCVsaTDSUs0IpD6d4WF3s+1f+iWU/u71YdQ8Vg/M39V/S+BuxwEvA3+iW/L4DkiixAazUtmyr5p1Fvy7f6z3th1NeuYrBva2SUpYS1OKUDSSAyG1Tn4cGsb8J1Gd4pYqfCvxyY7wPHzkD6jdh4I3U21o0DvN0HRtQPw6xX2EoNqU06VEXTN9QNWpVyVdHeUGpZKICv1Lb5CIE/oCEhkoGwCjAtA2mkatKVx91lYmgV5V+JpgFp+bCWRD4lUJsYUUqYhBpA2j+uG4V1bPkNwH8dWfWWebrivXWOSbCHoqmBg2+mMrr1SUUsexBxyBV+OE4i83qx60rzVl++EAlMGoen3gxA78qp/IANRJMXLZ73KriL0/5y1ioYqCKRntYUNdnsIq+CvyKSQ8r+56Twmh63gPVAhTJKyJNO5HHlbHCPYKFAuuwXxHvQgUE6yTOOhdGyM6E9if8qiSSgQYNC8UU7KqBUauP5q48eqgaKGTISlXmUEOdSOtg5PiSqb/52HUJ+Jt/r5pxJvr4RRCwE3tVLXywqvS9vJMLdtcUU1DJgKYWymrkKi8EyQc6EklPgR57ciM13A8hodhM1UMIKwsWtVGHX2nXcYZHG49NOPQkdtYx1794nfRdX3FsUo1r9kHRzIpmP/YDNLOiyi/0LHrsND502v1qgo+/rx2ZV7p4Q4VLUfTVkiZYPfti1PhlwOQ0lWiAgxYYW7A3d+XxFQdpDQNlLtAzoGdxAeAyIAPY1ESpwaCqdGrbhfBji+I5widHuoEMlKzzSTqfVCOBXcBPLHdyFhbUdWJlsWa7SnYGVFJz9Fv6GH47FoH3K2uVDfYmMNDB36sjoZyEn7QwcVXV+NUVy3fVkMoyQJVYVKqsN7XhwkadP2hwX9g6JQF4BSh1wvii/aNXHPv8GHtahBIWylgop3HLoLOfBLQBYN/eOsisc/9HhgKExshMmkM08pw6onB2zAzoSckq4BjxOBRgaGUgTGEJtd4gWPYfG3+oFCkrGFkUc5HYhmRUfpeeAiMDJlaReDjYooExX1jeK9L8XBWoEXD7oPCMXXUu+fib2hLndewS8J/XbTvTm5QOcCqn50T4uTQwafXJ4Xn7P/627Mv9rt2VgRI3VNBQ5kPSUHVUwUAFA5V0HWkplP0jSXX7qY8IGAxo2UbkB20EVbEocFSxUOrFR/VpJYMHkdSPCz9VBuppv+dRVeyCH8dCOQtHamGrBop2Oz/8vHxknmb2tzYTDYyEHF4N5o9EfbU7dpg/Yu+1cwX3hU8Oo8KZ5uc/fDwM/JLS27FWhJ2l3tz8/cMXH5y65viXe50/aSSUAEiFKATCCgqZPgY3kY3IB1VkSyh0qQoKL1uhXL+KBUsA9FxwMZz2oCminMQVEiaNB8q9SBXKJ6qLUNXRm/9YReLb8ToKwFdQynpjoZLFZV/sgB2l9LeHvFNWaCYXlC/f5nCqzRLDjewuRlN/xELFZk58QKYBNhZXTyzcn1tUPGe7fd1JdnOVcIKGUxSUUnULQ0NDM6mMgvMjDQ0VLGgYfCwLLUVcjUpQTpgRnXEFNlpskV+4jAEkugnSKEqRjoNTLthVCcu32UYvOjQ8X7P6AO9Qem8rTbmES8B/YXnXJeC/oPdTZVsSqiwBEfUWJ8CqnRVjlv72z3kHRi0vG7uiMqdAMzKvdGRe6YhlJWEavvTU8KWnRiypo1GLTzegnCWlYRq9VDN6qSZnWVOUV5oTpJKcPKSRy47nFp4amXd0xNLikXlHkZYdH7m0ZOTS0pFLNQ0oZ1nF+VKDLxO8zpjlFROKKscXVAxfeGzssqM/7KMcXDByOwj8iq0fvbpy0M0fwR9xdv64wK/YKPHHKsshICjYVumFBd9p3l9RMnLx8dHLSnLzS8cWVoRpXFFlAxq7ojJE2rErtGNWNp8qx6xEGruyXKGycavKc1eUvrv0aE7hybErTw/9aNPo5cdG5B0dvuzYyPySkfklw/NLh+drVHovr/S9vNJ3l55+d+npd5aUtIjUd41YVjoyTzNqedmIZSXDl556d8nxd5ccH770xOj807kFZeNWlL+/ouyTlSd2HKU8Ivr0g+X61Om/6IA/3BhQ6QSPP1IQWVU0rKyBmV+fGrHscE7h8Qlry0cWnBpeePq9FaUjikpHFZbmFJSOLizLLWgWjVle2gIqODmm8ChSQcmYgpI35u54b+lvuUUnJq7WjFtVPrqwTP3csUWaMJ35a5TnFiCNLqxHOUVlEVTvpdEFlUh55SOXlo7JrxpXpB9bpBlXdPiTL4v36oFWTGUybh0B0ztD6j620j3D3yVTf/PB7BLwN/9eNe/MUIEONReZByABjbrfFkuFu/1LtnvzfiKXbPcu3uZZvM2zaIt70Rb3ws2uhZtdCzbVLtjkDtPCH70NaNEmX5iWbCaXbCYXbTkLeRdt8S7a4s77iVy01Zmbd5jo9OTCLXaFqhduqV242bNwk2/hJmrhJkZ5pNTHRZvpC0Tsos3skk30ks3k0s3udXu4DcWgcQKlZGhTQqhkjxxQrfzYKPtiBH78UcGfGOAE7NTuB6z0cMgKm0/Doh8dC3+wL9niRtrsXbLZu3irL5IWbfOFiFq0jVrQUtruW7Ddt2ibJ0jbXYt3uGdvsObtdA+Z9G3ra/sv2Gxd+pNr5veWuZtq5m50zt7knL3JrdKczd45m73ztvjmbfHN30q2lPBdm33zNnnnb/EohIs8vOALd/u/OwE/V4GRxAAI9Q8FQVV0vhiD+0LAr7RyRi4hQ0AQRDYgibSAGsI+C3x9hFu0xb5ou2vBds+Cn7wLfvIu3OFdvMO7dIevmbRku7cFtMO5ZIcDabt7yQ7n1X1Gde7x1pIdNbM3mBUWgVMWnrXw3KkHGz16kKXUJ3Xe529xhSniXXUnF+7k529wLdtKf3ccdmhlg8IclFqeMgQ4BfUvAX9ok1yg/5eA/wLdyAaXCSbtYGt2QRFd/12v479CVABcHDzy9MutEi97Z+ynPgl8EuqgDKBMTclAK6Fn/9/fza8AnuKuC4Y1B83y5zLtojNAlgsKCmJjYwcNGiTLQYG/wf3+330aXAnBL6j2Z1NV/+bcc1qZpgv4yAA4/Sh5/PX2nkRCpzl569WVcKYvc2E/usGnqJ0apAbFm1DXP7fTpqCgICmpYXe+/91lgD8JzftK/IISuog/UTVu4D9e2SDq/Wl8zxvctwv4VP0sP0C5hYlvdzURn73rQDldn1mpm1d9bNFHn98PCXMJZTZD9pEzWIAiZ3zQoEHx8fGFhYWRbZojT7g0Dt+BS8AfvhUX54Dn+eLi4qysrLi4uLS0NJZl1d+pIuj/xG+uD42Nv9LFBPyNf91//gjP86ogFR8ff+utt0a2tf3Pf5mmPjEIh029VHfsDwv8yq8715qv+53/qVG/fv1SUlLi4+N79OjxvwWczb5Xl4C/+YvlEvA3/179Uc/s0aNHXFxc69atk5OTx48f/4f7GX9s4P8fu92SiL6W2267LS4uLjo6uk2bNvn5+f9j37FZX+cPB/zN+lX/jZN4njeZTCkpKYmJiXFxcYmJiUeOHPlvfJHf+5mXgL/5d/AS8Df/Xv0hzywuLk5KSoqNjU1OTk5MTExOTv7D/YxLwH9BpkxV4wRBmDZtWps2bZKSkpKTk6Oiom6//XYBOwj+wf4uAf8FnLAhQ4akpqbGxcVlZGTExMQ89dRTF/Di/7FLXQL+5t/qS8Df/Hv1RzozbKx75JFHVP4eHR0dHx+fmpo6ZsyY8Kt/iJ90Cfgv1DRJosT/H3tXAt9Ukf9DS3M1TVvAi/VYZUWhFMohCF6IIuIBikArnquue7i77uoeoqvurqv7d11vbmgpl4gKch/lKL2PNE3Tu4XS5nh5SVso0CPJu37/nZnkkZYCgaYlKS+fR3l5mTdv3u/3m/nO75jfuN3Dhg2LjY0dMmQImQiqVKoNGzYwDEOMAYF6Vm/XIwF/QCjM8/yxY8eIbqBWqzX4o1arc3NziUiIzsGAPK5XK5GA33/ySsDvP61CqSQZxAsKCqKiouRyuUajIX1bqVReffXVofQmoR7cFxy0FkH9008/DQsLU6vVYWFhSqVSrVYrFIq4uLiOjo7Tp08Hn7//nOSTgP+cpLmYH9xud2JiokajiYmJ0Wg0arVapVKp1erHH38cAAj28yhGOQQ+EvD7zyQJ+P2nVSiVZBiG5/lp06ZFRERoNBq5XB4REREVFRUREfG/EL+//OUvIfQyksbfE2aJ1h2ORQnPfzrsFoVKqVSrNNHamEGxsgEypVoVHRuzfv16MjkQpwg9eWgf3CsBf0CITNH0oKuGqDWaCKVCqVapIpHWTxT//Px8gv1utzsgz+rtSiTg95/CEvD7T6sQK6nT6UgAF8H7a6+9VqvVqlSq8PDwmJiYEHoZCfh7yCyisQmC8PHHHyvVqgilYkB4WHRsjCpSrVApByrkkdqohIQEhmHEWUIPn9gHt0vAf8lE9uXy088+o42JVqpVBO/FvxERETNnziSLacmU8ZIf12c3SsDvP6kl4PefViFTkiht06dP1+KPXC6PjY0lFjy5XE4C/d577z3yPsEf2CUBfw8lz82i2D0e4NqhQyOUCtkA2RnFLlqrilQTbS913doePqgvb5eA/5KpjbfCRlky6UaHQqWM1EZpsBgQwRiokIdHRKg1GoVKqTcUi1tmX/Lj+uxGCfj9J7UE/P7TKmRKOp1OnU6nVquJE1elUslkMvJVoVBER0dHRERcf/31wQ/5hOIS8AdE8t56eyGx5SpUSlWkmlj7I7VR4RERSrUqZlDsiFFxbpYhqBCQJ/ZqJRLw94S8hMsLnnuWGPnDIyIitVGR2qiBCjmxBkXHxkQoFY88/hjD4VybPXlYX90rAb//lJaA339ahVLJGTNmKJVKlUpFkH7YsGFRUVFTpkwhOTpUKlVERMRbb70VEsFcEvD3UPJcjJsH0MZEa6K1A1UKhUatHRw79KYbZDJZXMIYWfgAeaSKjPvrNqxnQySSSwL+nkhFh9tlslq0MdED5BHhCnlkjHbIddfccMvNsojw0ePHKqM0MpmMmAEKdLqePKgv75WA339qS8DvP62Ct6S4aQVpYnl5eXh4uFqtHjx4cGJiotlsfvTRR8PDw1etWlVcXDx16tSwsDC5XH7ttdcG7yv5tEwCfh9iXMqpm2X+svCtmEGxCpVyyHXXzHpqTr3VHJcwRqFROzkmZe2an424HcVzRWtvGzlC0vgvhcShdg/DcfOTEpVqlUKjvvb6n/ztH++7BX7MhHEDVYoO1p2ydk1c/ChtTLRao3lstmdNv29kQHC+rgT8/vNFAn7/aRUyJWfMmBEdHZ2YmEhRFPH3JyYmyuVykqOto6OjrKxs1qxZCoXi73//O4nc6TJ1CKpXlYC/5+wYesP12pjoOfPmEn8/AIwaHa9Uq0SYX75q5eixCRFKxboN63v+uD6oQdL4e0Jkq42KGRQ7+Oqr3vjTmx1uF5GKUaPjFSolALgYd7vLuW7D+lGj48MjIvR6PTENulwucaAIwnmABPz+i4QE/P7TKgRK8jzvdrufeuqpY8eOkaU4JKI7MTFRoVCsW7cObRSLs7gAgE6nmzt3rtPpDObOTOKKQ3iTniCQmr1p+5586imbw+5i3OcCfrJSO3Xd2hd+/vMgaPKFmyAB/4VpdI4SPMB/Pv3vO+++S4TBzTLEvzNqdHyEUkGAn0SDtrucy1etJHm+xbUh4nBxjuov22UJ+P0nvQT8/tMqeEvyPM+xXJc8G+SrL/B/++23vnvziOXFnhyEs3gJ+AMidiLeiyddNH4y9LuY0FixDQAS8PdQMIgkkNg9luc73C5f4Cdhnr7y4HQ6xb0xyYjRwwYE/HYJ+P0nqQT8/tMqBEr6Ijcx8pMriYmJSqWSaPw8zzudaGN4ov0TI56I/UH4kpKpv4dM4UAQY7PPBfw9fETf3y4B/6XRXBDOCAORCuLu4UDwBf6zK+dYzuVy+WL/2WUu7xUJ+P2nvwT8/tMqVEsKgjB//nyVSrVmzZpQfAcJ+APINRLhDwBx8aMUKiUrmn0C+Iw+qUoC/ksjs69ugKb+IJCDB4gfM4b4+MXZIXmEqBUIgiAB/6WRPdjukoA/2DgS+PYQ4Fer1RLwB564oVajBPyhxrHebS+PMzuRv6PHJijVKhQb1Hntvi/w+573bssuvnZJ4/efZhLw+0+rUC0pAX+ocq4X2i0Bfy8QNYSrlIA/hJnXg6ZLwN8D4oXIrQT4NRqNpPGHCMd6sZkS8PcicUOwagn4Q5BpAWiyBPwBIGKQVyEBf5AzqC+bJ+60NmrUKKVSGbIufimqP/BSk5CQoFIhU3+X3B6+5n3f88C3oGc1SqZ+/+knAb//tArVkhLwhyrneqHdEvD3AlH7SZUS8PcTRvrxGhLw+0GkEC8iAX+IMzCQzZeAP5DU7F91ScDfv/h5vreRgP981Okfv0nA3z/4GJC3kIA/IGTsl5VIwN8v2drtS0nA3y1ZQvuib8AOWao7L3G+WqNZvdazjt+3AMnVGswvLK3jDyB3JOAPIDH7WVUS8Pczhp7ndSTgPw9xQvUnX1yXgD9Uudg77ZaAv3fo2h9qlYC/P3DRv3eQgN8/OoVUKQn4Q4pdfdpYCfj7lNwh9TAJ+EOKXT1qrAT8PSJfcN4sAX9w8iUYWiUBfzBwITjbIAF/cPKlN1olAX9vUPUy1ykB/2VmQBA/XgL+IGbOZW6aBPyXmQF9+HgJ+PuQ2H31KAn4+4rSofccCfhDj2d91WIJ+PuK0pf/ORLwX34eBLwFEvAHnKT9pkIJ+PsNKwP+IhLwB5ykQVuhBPxBy5pLb5gE/JdOu/5+pwT8/Z3Dl/5+EvBfOu1C7U4J+EONYxffXimBz8XTrN/ewTAMebf4+HiVStVld/YQeu3k5OSoqKh58+YBQOi+xWUnuG/u/TFjxiiVSrQtr1dILnvzLqoBUq5+/8klAb//tArVkhLwhyrneqHd4pguAX8vUDf0qpSAP/R4FogWS8AfCCoGdx0S8Ac3f/q0dRLw9ym5g/5hEvAHPYt6pYES8PcKWYOqUgn4g4odl7cxEvBfXvoH29Ml4A82jvRNeyTg7xs6X86nSMB/OakfZM+WgD/IGHKZmyMB/2VmwGV6vAT8l4nwffhYCfj7kNjB/igJ+IOdQ33bPgn4+5bewfI0CfiDhRO91w4J+HuPtiFXswT8IceyXm2wBPy9St6grVwC/qBlTcAaJgF/wEgZ+hVJwB/6PAzkG0jAH0hqhk5dEvCHDq8utaUhB/xdEhCxPL8qJVmhUiY+ncTyPAcCB0KXMpdKmyvuvlAEfl9e816OrUpJjtRGPTUfreOX5MFLlYv+PxSBv4s8iF8Tn05SRaqTV6dI8nBBOZCA/4IkCvkCEvCHPAsD9wIS8AeOlv2hJgn4+wMXL/4dJOC/eJqF2h0S8Icax3qxvRLw9yJxQ7BqCfhDkGkBaLIE/AEgYpBXIQF/kDOoL5snAX9fUjv4nyUBf/DzqDdaKAF/b1A1uOqUgD+4+HFZWyMB/2Ulf9A9XAL+oGNJnzRIAv4+IfNlfYgE/JeV/MH1cAn4g4sfl7s1EvBfbg5cnudLwH956N6XT5WAvy+pHeTPkoA/yBnUx82TgL+PCR4kj5OAP0gY0YvNkIC/F4kbalVLwB9qHOvd9krA37v0DdbaJeAPVs4Erl0hB/xdXp3n+eTkZKVSmZSUxPM8Gaq6lJG++kmBUAT+bl8tOTk5Kipq3jy0jl8QhG7LSBcvigIJCQkqlQrlRWC5UCRpUlKSWq1OSUkJxcZfFKd6XlgC/p7TMNhrkIA/2DnUh+2TgL8PiR1ij5KAP8QY1oPmSsDfA+KFyK0S8IcIo/qimRLw9wWVQ/MZEvCHJt8updUS8F8K1ULrHgn4Q4tfvdpaCfh7lbwhXbkE/CHNvotqvAT8F0WukCwsAX9Isq13Gi0Bf+/QtT/UKgF/f+Cif+8gAb9/dArlUhLwhzL3Atx2CfgDTNB+VJ0E/P2ImRd4FQn4L0CgfvCzn8AvbnIlboAWJO8uRfVfFCO8fOR56IaT/gM/D6gGUttFNaBvCktR/QGn8/mB3ytX3UlVwJtySRVKUf3+k00Cfv9pFTolBQDxwIudkubNj4rUrF67ptt38O3SQTjQS8DfLdfOdZFwkAOe88K2yF8AYFgXFg6Ij49XqVR44VOntXBiYQn4z0XhkL+OGO7DZ+/7jB6boFSLy/k4XKZTOfEe7x3B9b8E/P7zQwJ+/2kV1CVJn0RNRJDPo4PHf/Fu5U/PTYpWa1PWrmPJSwi4U+PJAY8KeI4zlQTTu0rAf1HcIIBNeMoAkIN85YF3cx2Y2xA/Ok6lVggC+YWIC9LvOXQLz+B5A546EMtB0ImGpPFfpFR4NXXP+MCCwAKQAw8aPMSPTZBHKtDskHcL4AJwe+UBSZFXhLz1XNTj+6SwBPz+k1kCfv9pFSIlUccmvdoNwArAsyA8PXdBlDpm1bp1DHkJDPkgeKbzQd6lJeC/SMnz2OcxhHcBfnBzLl/g5zzjeSfg91oLiKlfVPO6cRxcZMMCWVwC/ouiZueJG++FfJYHFrmE8FAQPzYhQuMBfg46eC/wk/GBWACCSwg6k0AC/s70ON83CfjPR50Q+c13aBa7tBvAyYMTgOWAmz/vWXXkoBXrEfB3KX3WiBB0Ly0B/yWyxGvR8eW4m+VIbaPGjFBGRmDg9zX1+5b1Pb/EJvTebRLwXwJtvRxFbqCzj9FjRyuxxu8S3CwweE6A9fszAhLMuA8S8PsvEhLw+0+roC3p7c4eTCezeBZP2LHSL3DzEpOUUdpV69awHud/N7o+qSUIX1IC/ktkiteu4+E5ZjDDIOAXAEaOiZNHKlik8ZNxnfBfNP+Sr8QnFIzDvQT8FykViKEccF5PkAf4vV9ZDtjRY0ep1KLGT0p6H0JkCdsGvJeC7n8J+P1niQT8/tMqeEviQfrM6EzGbDS+c/gix8yaNzMiakDKupWs4CavwXFuJ+digSM9mgFwY3/wmVqC5nUl4L9YVhAmciC4WY9vB9XAc8C4+Y4O4Dk35xo+Ok4ZHeWJ/EeefhIMQKSAzAZE7/7FPr8vykvA7zeVeTy34zhgOM7pZtp51ukx/AnIkY8OgRF499hx8RqNEkkK6+YYxjN64McgVxA2EQRzGnwJ+P0WCZCA339aBWlJPMrzAhq4nQAdAKdBaATWAkw98PXA1ALUPT1vgjpStnH93wHqwFUF3FGABnxQAMcBOgTgiK4nAX+QstnvZpFpH0J9rsPNngL+OAg2EMwgHAXhCPBHACgAe9ztMTFaGbAN4K4FOApwDMkGdxQEK0ALQDsvtLuZdhLa7ffD+66gBPx+09qjCLi5Nh5akXefowFoACuAGcCCjwYQzGNHDB4UKUNyAlgq+AZcxoGHiFY0OcCbIQXhEEFIIQG/3yIhAb//pArqkhyG/BMAJoAyOL2LP/r5Sd0f2wperdvyQN3u+c9ND7tFK/tq4c+OpD1r2vfMqYLfmnNeAsenADsAcvC4fxzH+/j3kl6fHxlRensgkDR+cfWV11FzATbxPM+zKMgDoBGEcsTi02tdtX9rzH/lVP4v6/Y8V7T91SnDZdcrZaV7fnt097NN6c835/7cWf5ncCyDjt0AFRgYCOp7mX2eZ3rswOcpEfifJOA/IxV+UFdA3dsJvAN39hKALDi1obX2w8bShXTBb6i9ibWbF0y5SXarRla7J6l2x/TG7BdOFf+RqfuQty8HOIxGFcGBBxnPwiA/ntnXRSTg95/iksbvP636sKS43A4/E9tjMbyiQVg05PN4ZG/BCtwRYIsF85aGjA+LvnslY8WMg19PzF061rB6XHHyiPxVE5Lfm/jPV3+2+b/jDy+fdPCrMTnLxurXjM9cGZ+Rerduc9Lxyi/4xt0AtbgqGit8xBhIXhkHDPKcB3W8bRNRXwL+3pYMvKoKxeojFoh09yCyrzywAO0ATR41ji1x139Xn/V+o0eqnQAAIABJREFUzjdP5q29LyclIWfFCN3KhIJVd+/+8t7//u7mf7x09cFl03OX3Zm/ND5r8W0Zi+PSl0w6sPTB0m2vN5Ush1M5wFSBYAJwANIU3djci4ICvAKJHy1GEvQ2FTrXfyUDP2YEK+ZpEHupd4xgfew0PBaJFuAtSI93ZbXUrzLr3s7fNDtt2eScNffuXXbHoaXjCpeMKVgy5avXE955buihJfGFybfnrhidtXLcwRXj9i2fdCDlYePu352oWAXN6chohIwETUQkxNUBnidiYfBIZJ9PByXg79xFzvdNAv7zUecy/YbX37M8CsTB2dM4NOa6UdcSeIAOjm9lWBfPtYOzHpgisC09nvdK7oqErEVxh74YXZDyYMUPC47u/m1jzj9bDV9A3Vowbwb6INgOQdMBMG05bVzdnPvfEwf+RG17tnLDwwWrJmUuS8hedUfl1scdeb+HUxsB9AAnWWcbeqAgMEIrw50Ezo1jg7zrv7gzACQBf2/LCY8W1qOBHgE/63XHI7qThdbgYpwAgqvDBlAPkNta9nfzricKFt1euHxs+hejM5dMKd0427T/VTrjz07j10LNejBvhYbtcDwdqO1w9Bu2Ynlrwb8dB986uvWV8m+eNKybcfjrhOylo4/tmn2y6E/QsQOriW0dQocTrwV0o0ZwIJBDQK3q88+VDPwcsG3Q2gZOskiHyAGJ0cA+exSiwbpwNI/7NDLetBw8XvLRkbRnD6eOy1obv+erm7NX3VH9/Xz7gb868v9zyrhcqF0LdRvBvBuovWD7AWzfnjIupfP/c+zAm9U7XsxcNjln2di8pSPzlow6tm1Wm+Fv0LEf+4YaWaaFZY8DtJElAGRQIIv+PbLZh7IhAb//vVACfv9p1WclMcAzeIgXkILlBpZBQy1eoM82A5wEOAFQ4zJvPHLg97mpdxWsjMv+clj99w+6Cn8LNf8GayrYtoBjPzRmg70QKO9h0wFVKFjywHQIjm2GujVQ9xUc/eh09iu1mx/KXDqyYM2dB5ZPoXV/g7b9IFSDYAe+BYQWENpAIDldGODRml8x7qu3UR8NajyfnJysVCqTkpJ4nhfwp8+YEQwP8gI/XpNB4vCwOGDN2w3ccRTY0VEDjL6jPqXwu3lZKycYV444umaUadN9bdmvwNFPwJoCjT+CfQ9QmWDKgfosvi4DaB1Yc/mGDOZIGjgygd4H9PdgS24v/BO9L9GwZnz20uGZS0bt+3qSKf8fAIXY43uShY52ZABgMPD34bjemRMS8LdBOwrdRBxAgXdOD+Z3cNwJjjmOYjuQqeZoU+mS7A2JWSlTs1eN12+cSB+e4zb+DkyfgP0bqN8C9fvBkgVULtjy0F9rDjpsuWDPA3sG2LYDtQ5si6D0jaZdj1StHVewfGTuyvEFm+ZY9f+GtkPAGnGgQBMP7Wi5CFb2O+X868y1Xv0mAb//5JWA339a9WFJ72p8XkCafjs+cHy2G4TjAFWCdVnd3nn5q8fkrYqv3jK7VfcuHF0H5p3gOASNmdCczR/PczUVOO0FHFUAVJH3KAS6CBqLoakIzAfBkga2g2A/CHWbgd7K16dSuX87uPy+/V+NyksZfVL/S+j4ARgdsI3gbOM4N4u0/g43uMSEP31DEQn4vaZdFo/taIkmAI/j73mWaQW3FXgDWFOO7XoqffHIrOV3F2946kTGQqC/AWoTUFuQpafxMOfIZKkcsOjApBMaCsGkA0sxWIvAWiBYcoDKAVsmNGVA8yGw7gDbTrBu7ShbVLX1ucxVkw+vGFm06b6GnDeBzyLaP8kC1J0A9JGF94oFfoytyALEoNw7BGydHDhxZC/P8O0ApwDsIBS5jnxQsX163vo7DqwcV7Q56WTx/4HjB7DtAMteaMoCRwaY08GSA7YisOvRX6wYgDWPs+awVA5LZYH9MDSlw/H90LwH7NuB3gT25LqMV9OWjspIHpWx5o5TVe8AHACoAjjOA56YEkO/gAJM2s8tJd1JTk+vScDvPwUl4PefVn1Yklh0sVmdxGhhE2s7DrkqPXbo7QNfj81c9LPy9eOcBb8EWwrY94K1EMyl0GBgGvTt9QWt5vxWWud0FPO2Yg/q2/T4pJA35bL12XDcgGYAdClYS4EqcdZlC2jo3w10qiP9lcIVcZmLbzF8P6Op6O9wKhfZGPgOFjgnuNzgdhOzM9E2en+cl4CfeHywNRU5ffDBMki9agV3DbSmUwf/ePirCblf33Zs8/S2/L9ivD+EVDdzDjQZwFHkpnVIJBoKOLMerCWew2IAiwGoYqBLwF4s0Ho3lcdYcjlLAWPKA1rPm9KhfhOYFll2z85afFveqjvTkx8+XrUEoAbbnDy5gHw6BpGGvjADXNnAj3jv/SAtgUddEhD0InOgxUlt0e98+dDykQWpt1XvnO6ufheaNgrWnXxDBpj14DgCJiOaAiK81wtmnWDWgUUPFr1g1QtWHRoomorR4Sji6UKwFSLjkL0IHLl84144/i0cff/orkcK1yTkpI7X/Tin5cgiHBDqQBNTAvwAbcCfRi6qvvtIwO8/rSXg959WfVhSwFNlnqytFvv4Ua7529JvZxZ8PSp/8eTG/b8Dywaw7BCs6dh6b4AGI+rPJiOYjYLFwFnRAVQJWIs9B1WEejsyABQClY9PysBSCeZqMFUgDLAWgCUPWQKOrG489If8RRNyvhxdtu5xcKahJYL4413xj/s3ijnwdvReI88VD/wikT05dFmUZR2AdYKrhqv+Z3HKmPwVo0rWPdCe/x5UpoB5B5jSwVQMpnI0F7SUkAGdo/QcpccTwRIsFXjOh6d9+Kt3NmAtwaM/wQA9Mgw05IBpD5g3NOx6Lnf5uNwVo+sO/BzYAqTkOU/jlnjEtS+d/Vcs8HftZyTek8zCuVYQqoSar4vX3ZO1Ir540yPN+e+B+QdoOgz2w5w9l7cV8VSJYKtAB20UaCNPlfAUkgfBYhDQLBDLBmU8MzskowdVDFQxTxcKjhxkKqD3g20bV/Zp9dbE/YuGH1o+6kTxO8AXgHCcc7XjOFCnE9qd4MSxQF2b3EvfJeD3n7AS8PtPqz4tyWPvPoOc6e3IgwtHm48uydk4M39ZnHXLDKj9FGrXgTmDtehd1lK3pRxMZRj1DWAygNmA5vV4Cn8G9a3FCPU9wE+M/8VAlYG1HCyVgqVMsBgFi5GzVAgWI1izwLoFKj+sWXu/fsU4w9pHofkguM18x3FWQLqm6M8jLsZeJc0VD/yYuliLJnNAzn0KKdxCwwnD13lLRhUt/UnzwTlg/QLo7WDLBlsBYrq5EkzVYC4HSykGfp1gRQca+m3FZLgXB30P8KMpAoJ/MmVkKCNnKRNMNWCqwrPJdHCsZ41vlK4bn70iIfuHZ+DUXmRShnakZyLngzcHYK9Kg7fyKxz4SVSnJ3++JymXE4Sj5t1vZn4+vixlfPOBJHCsB+te1OWtpRxdxNgLGbqYoUtYexlPl/G0kaeNnK2EpzxTQPEEy0zpmb/EREQh8yFHowPNFaz5YNsHljWuot8VpdyRs/SO2h0vQ0s6CgQRTgCKP2hnUNZwUW/xcq7X/peA33/SSsDvP616peQZbQ6NnCRmDvUVBjlxUcwOXlxXZtG9n5Uy4fCSEdaDr4JtLdBbBfqAy5bXZjO0UeUd1nLOUoZUdgT2OqS4W/OQpdeSh5V7r4/fC/x46C/lqVLebuDoIo4uZGwFjE3ntumdNDoYm06wZYB1G1v1Zfl3swyr78pZOglqv0Q5XoRTPLg9wC/me+0V2ngqvSKBv7MdhWh1nmEeUNBWR2ZDxq/1G+4tWDa5Ped1aFiGgrGbD0FTHttY4LbpEWzbStGwbivmKBTqQQ6eLsQcL/KM4KInyBsBytuKkBjYjE5bmZsqQ/VQxPybA7a94PgR7KvyNz6SvnZU+vo7oHkdcGXAtRDU9xnjfa39ov3f92JPJeZKBn48PiAnOllkgUjppqHt8JFtL1Yk31G16g427x2gf4TGLLAUCFY9nKjkEN8LEdNtJTzS9Q2CXSfYdWQWiPx9XY9ypBKQA80d8aSQKmHoUqejxGUv4egi5AkypYFlH9QmG1bco1+RYNrxFDSuB/YoSgAFbqy3EEZ75Bn/5zFcBXxOIAG//51KAn7/adUrJX2An8eOOuSr4xDquzkUO41C+cxZC9OX3Zm7cnxr0e+h8Qe3aRdvz+SaCjtsujaboYMqdVlLOSsy7yOtjsKoT+UAlYUitpBJvxBb9ZGd30fnK+eocgT89nzOnsvQOYytwE3rnJ5D76Z1bluWYN0JdKp57/Ppnw3Tp97lrPoCuBIUYChgfyLbF0relQT83qhOjwbtFblOwN8C7pzKXS9nLR9buu5uvvQjMH8v1O+AkwVwopBrynfaCzpsOjR7Q+pdMVL10KzOi/1ngL8Ijd3IAFCEnLi2fHwUeoCfNjhtRjdlZJCDQEcmDSyVI9iyXA0/gn11/cHHDy2/af/iBKb6c+Cr0OoPYInaj+HfF+OJ4yrAwSBXOPC7Ae2bi7NtuEGgeGp70aZ5ucvHVa+dAjUfAL0TLDn80RywlQJdwloLeLoQHTaktQu0AWg9ctvTxPFX7Ov6QfqAxwZQzlPleEKAUR9bgxi61EWXuuwlrMMADgNY9dBQDJbDcGxRw48z85fdVrjmPnClA8r61062dfZ6A8VNI5E+Iyo5XhEPwP8S8PtPRAn4/adVgEuKkO/d9ZLncKQuWZaD98lsAT6P2v974+JJJcvuZauXIEsalYXCsJHZVk9MspwVOefQvJ4o9NYCgTpz4DHdC/zEUefp/EbBVob9fAYy+hMjMFEEvX8LOVuOQO0H6vum7NfzkydlLxsJR/8FbaXAdiDMRxt5+A7xASYRqe5KAn6SgacVD+kERjENCI0RoraBW1+x8+ncleOrN8yFqhXIlktlo+mdDY3sGOZ1CK2xSRZZZRG7PQDvPSEXxb9df/XcayshBgMU/YcPEvklUHlApYHjO/rAK4blt1Wvv8tVvRigVoCTTuDb0boy5AkStX+cj4KYhgIpKlc28PPtTBsPnAuR2Q6nvi/c+FDa4hFFGx4Aai1YdoMlA8wFeEDA4XskXk9c3UOjiz6HAWwGsBmBMoINOf47H/hXygAUOkGmAmIwoPF1qwHQUQC2A2BdYzq4ICNlbP66B+H4JmDMAtriD+8FgCeyXvcEGugk4O+VsdLvSiXg95tUgS5IgF9EfbI+B1v4kcaPLfy1Jwv/XLhkTMXSSVD9KW/eA8fLUQBO14O487H/Hhn5ybTA49P16Pqoz3uGbzLrR/1cPLw/ofgdPC0gf7024SKgMqBp68m8P2Yvvjlz0XCoT4HWcmBOolDiQA7m3ZP4CgP+VrwcC0VI+aAnSmaAA7ZLG7L/enh5QvGae+HIakDumHxfll3SOQH+TqwX6/FGe52J/0ISiAb6dDCvdR56xrhsRPaKe+D0DwANHdDajrAfJZ/wfgQebQPB4dxDgZSVKxn4vYLRzvF2gNKSrbMK1442bHoQGlPRnIwoAF3+iqhPFflAvgj/Z6M7wXi9gGwDPgeaIngPMhsgf61FaJWgY1Vd+rMHl43IXPsgtGdig+UpLMloFkvAXvzrlZCA/S9p/P6TUgJ+/2kV+JLeKTDy6DPYJeZRlQQnCDXtFZ8VrogzpMQJNf8By1aUVaOp/CzUJ379M+p+d8DvgXzvII6/iqiPZvpigS6jP4IEjsam4GOH4Mg3xzN/lbl0pG7tHdC2AS0fl3z8gRQKYucn65+J3UdU+lmcIVXfWvbHnOVxxasfhurlvGUXNJ8Ps0Xw7smJV2Y6Ab9g1THmdGhOA3Nq4/6X8r68oWLL/cDsY8CEJRmbgRDKIyM/DwKLU04GklQAEvALvA2gxqRfmJkSX/rtvWDdAI05KOZOxHhf7Bcvdgv8BNqJGcAH5gXab+C3GKDZwFK7wbGubPecXUvjircnAncQwEaSPWOPPo4CFQI+CfRIlgT8/nexYAf+8+wCKQgCyePm/9sGYUmC/W5g3Wh9NnojNDPmaDixOWv5lPxlIxrTn4FTO+FEITSXoPXW1pKzsP/8Gv8ZUPcO4hcN/MgvaNJztWlg3WBJey5/1S3lW6ZDaz7yM5KlZb1J2StG4yc2IE+WHgFc+CAZHFsAKl30ssxVt6Z/fgNj+ARMaVxTYRtd4DXmd5mxBeyrV2a6AL+es+Uxlv1g3w+Ob+idD6V/fWPZwZcACtAEhYT3o5EeibLo0gqsjFzZwE/W61e3NXyStf6eog1TwfwVNByA+iKUlEnE+L4DfiO0WTmrkbEXQXOaYFtS9OPMfYuGNxW+jtf3t3CA0n+htR88i8Qj8J4fJFwS8PvfxYId+NE+Y3h3EvEE6RFkd0ie51AkXF98SBt65UmepLxuN7iRjsS2ox20+ILyTffnLR3efPh1aPgG7Ad4Gq3BFWgjGojFBCyeE7xMX+ztXU/OBn68VNej8XutdqL5zucE+/MMeNZvEGxlaJFYwyFoSK387t6sFXFHDr2J9/Vp7RWy+FR6xQA/eWcP/Avg4gWngPZZdiO1qTU1+9u7Sr69pzn7d0Dt5igUvuekybp8D4t7ptn7yonvOZYWz/Ju8bwYJ3XJBTob7LvBvKRww4ys1QmN+X8AttrDOpR+iuFwYpne6KVXNvC3A1jc9g17vxyWuWj46eLPESPqsj2pGLuOAN5FPeL1Tg5+0drvPbkUjb9MoI6wtiOs3cg35giO7WBZlLcqLnvl6BYU/3EU4LQb3EhJ4HBQcO9YCiXg9xk1L3Aa1MBPAH7MmDEJCQljxoyJi4sbOXJkfHz8Qw89RFK4X+DlAvrzeWwPPXwOh0K53E6k8fPANAJUt5d9kL3kpobN94F9M4rMR0tmUURud6jvzc8j9uquJ+cYxC8S+HkaxwSgQJ40qP+kaP1dB5aNY+oXoY1fe/lzhQE/oSbP826Ob8UbqLcDVBj2PH44+da6tJfAsUWg8txUmdtmcNsuH/AjizFaAgB0Ltj3MtWflm+cpEu5A+gtwDnQ7BypdiiMyzfQL4CScmUD/3GAksIfn876+metGS/y1VvAUo7UfZsR5WDuOgKcdaUXgJ+njqCDLhPsOpTrt3EHVLyVu2xM3obZABkAdg4l9OWRrk8EIpDxHh6xkoDf//4V1MBPlHue56dPn65Wq6OjoxUKxZIlS8jruVyu3gPjsynYO3vDILcuh9R8txPn3URbXro2Zq4ep0seCw3/Rluo0SVoIo/X0pyl6xPtv7c0fhLFQ/R+3o6CfVBkL5UHLWlNuX8pXHVr5daZwNWcTavAXrmygP/MqjfWzZ7iUd71tkbz1r3Jo4u+nQCmDSg/D0qyhhbaMTa0DlsM0ehTjZ+sESWJ/8w50LyrI/9XeSvG16T9Flw6ktWHQ5ErnSL8AygYVzbwU66j/81JmVy8ZiY0bkIx/HUFKMmSrQxsJWdi9841Awg48NuMAlUlUFVgLUNB/lQx2vjHvoPe/euMpaMbcl9D+T9IyDJe7BHwFfxEriTg979/BTXwC4LgdqOsVDNmzJDL5Uql8vbbbyfm/fMY+S84G7gouz3HcmlpaSNGjLhgtf4T3ackybPtxpuuugHZdcstGc9lLx/esPsZsKwDOguhvrnEk3u1q5H/gsB/BhUwPIim2hJvSP/5TP0+wK8n6T7wFT1vOczXpzTsuk+3Ydypo9/gtO0uFMmFZ/HEVO3zjj09FQQhOTlZoVAkJSWR6ddFcbCnj+/j+88AP96Ahz8OQlXWjtcPp97dUvQ6UGnuY0VgNoLFQFLwiqjfZUXGxU4CfOvpfO4jM2cM/sWe5BAo60s58gHZ0uHYUuPGx/Z8PQ7sycBZgUfLtT0ZWwOn3oms9wV+8WIf86rPHieujcQpEk8BGEu+fyRn6WioXozW0ZmzwFSAsnCiw3B5gN+Gn24xgsUIdAXKHFqTBiWLjesmZa4eJ7TuA85GHPzEDtQb2C8Bv/8CGezATwBepVKp1WqtVvvqq6+SqYD4hqRLMBzHcBxZW8b6DAMsjg8QC7M872YZludZNCqh0YjsKE5u9y3c1tFBAGzbtm0xMTFjx449z1RDrP+STvBzBB74VgA7b96gWza6au1EqFmJUN+m66Tlo5HXB8t90mh7ryOznu+g7xuc5T3HNfj48rEeT7T5c8wDaL1gz8OHDq3tcegFehtj+eeBtROyN85GsYeCFQ9JCLXwpsKBG+kxTVNTUxUKxdy5cwmFe40Xl8TAwN6Egd+jF7lcwFPO6v+kLZtcsPFZoDYjkXAQ506JJ9XaGZE4y6LbncLXWTZ8ZOlsuepGunzLk8fhaQGSpQKwHnCVfZG9dHjt9pngKga2Fe8qxOIUlAHL9CSy/qOPPoqKilqwYAEAMExf7gUTWH5foDay+M272AcAZe82mgvfO7xkRNXGB9C2uXaPz8UTAGQjyXl8FuD5+Ow7LczzRPKfo8v7jg9+nJOl/56RxE7mH0Vg3dp8YMGhL4bVHf4tgB6Y08jOj2yc2K15gVe/6J+TkpK0Wm1qaqoPAlx0JVfIDcEO/ACwf/9+lUqlwJ+DBw8SxnAs19zcvHTp0vXfbEBpTTo60g7sX//NBntTowjqALD+mw3LVq6wOeyZ2dnJq1MysjLJ7e0uJwBYKOvqtWtS1631ZbaL8WS+5kB45913o6OjNRrNSy+95FsmwOeeVX3Hgc07uu9XBV/GdRx6BWz7fLfQ8GL25Qd+tK7XXszZDzBNqfq9T+emTnLk/QHH75D8oURjDRjwE0PL+++/r1KpkpKSSJfuMvkLMDsuY3UkQx9O3oTXanMAtQXr7s1dNcaS8RFY0tGO6XY93n+hxJNK3QP8fqH+WZNCXyD3ORd3dbL6XPSdGaBz8kSfAjYDUFurNt5Zsi7hdNUqpPSjsERAmzlzzsCmeOR5fsGCBSqV6uWXX+77cJ++FRCkuzD4wM9tgo6t2d9Mz185kdO9DaYDYClBKbftRZ6s+5cN+LErsMsUwX4AzF8YUiamL00A60oUwISBH2f18bFiBIigd955Z0RExJo1a/rt+BAgQgFAUAM/ec3nnntOqVSGhYUNHToUANrb299+++2oqCiNRqNSqW6PG2myWh54aLpCpQwbGD5j5sPkrmG3/mygQj7oqiEDFfLEp5NkYQM00VrZAFnSggUcCB/+37810VqFSqmNib71tuHklsl3TZGFDVCqVfsPHtQV62+46UZVpFqtVkdFRUVHRxPdInCUF2vCq1qR2u8Ax6rDSyfqlt0L5hSwZYg7qfigft8Cvzddl5jgExn88dJens6F5jSH4YPslaML1z0AbiNOIeoN3w4Y7nuUuTlPzomKivrHP/7ROw4XkReX+8S7KyOmoxvg5OnqdenLx1EH54LpW7SnqiUP7b/sAWbs6PHgcd8Dvw/ki3MCel97wWuHvx5VsvOXIBhBcKK1WzwLAvYEBY66giCMGDFCqVRu/GZj4GoNvpq88kDS8uP2WU+Uv5O2KN6y5zWwbgNTPpj0OGNjIWdDqXZxRI7f6j5K4Rcojb874LdlQc2qkxm/ylpysz3nVeAakDygf2KCikDSfPjw4QqFwmQyBbLSflpXCAD/0KFDlUplTEzMww97QB0A5s6dq8Kf+UmJo0bHD776qphBsQqV8o47JxED/rGGBoVKOVAhD4+ImHL3XZOmTB6okIcNDP/psFtYnmc4bvaTTyjVKlnYgDnz5pLJZ9jAcDJXAIAGizklNTVCqVCpVNdff/2aNWsaGhp6RwawlscJIJjozFdzlo607/s9OPYBlRtEwO9VIwS0fgwljUEndD5fv7Hyu2npSxOaqzagBP5IM8H9OnCzeZfLBQBjx46Njo7evXt3f1fvPNTDwH8KoLY++90Dy8adKHgNWg66jxxGqN9pf0V/8d6roHdxA3UH3pR3E+cLmPq7vfcQNCwq3vDwoeT7BMdGEE6hQR5lemACq/EDQExMjFKpZBjG5XL1W9Ou4IFIktTJzbWBUKn/fkZR6gSoTsazQLSHHk/nox03UIrlYAP+PLw94PKStSOyVieAUIaMQCSfU+B0A3FYlsvlP/nJT3onClt8SD85CWrgFwShrq5OrVbL5XKVSiXG8/M8P2HCBK1Wq1Ao7r1/6sxHH/3zW3+NHTw4Uhv19LPPEM78698fDVTItTHRZCpgc9gHKuSqSHV4RAQHgotxT75rSoRSEamNSl6dAgAffPRhpDZKrdHce/9UhkMD77/+/ZEqUj1gwIAnnniil21HOK4fqo7++HDG5zfzFUuhkWTX7y6uytcMe9bQ7OvBJeedrQWkQjxkk5k+8fP5pt7sdI7Td4t6v3iLx8xbArY0t/73GUsSGrL+BWBCmeTxtAsb9ALTQ4iKTwSA1NhvR3nP6yGIxMDvAOHQ3pUP7Fs6CU6sBttBnBTdgNZroahsnc/RzQrsTt5czDhvVgaSivUs/awT370BH10unks7FIvZcoD+0Xrgt/sW3X7CuBAEvNSzF+L6KYqKioq6+eabGYYRBKHf+vjPaPy8G+3I0wTH9x74enjlxrvBvAMsFeiwlmDgz8Wb7xXxdm+uPSQkWJvvIx//WRKFnq4XjqaD6Zv6rXcfXjrMUZUC0IzX8wVsHkjGB4ZhUlJSBgwYMH78eNKN+rlpsMeDa1ADv9vtfvfdd5VKZVRUlFwut1gsTqeTdHWtVhseHi6TyW646UYAmPbgg5HaKIVKuXjpEgLb0x+eoVApI5SKvWn7AIAYAMIjIobecD0hmlqjIVMB8nX8HRMGKuSR2qhPPvsUAFrb2+9/YFp4RIRGo/niiy/IQ3tM7XNV4ASGBnp30bKxpi0PArXVjWJ08ar9M3HU3klAF+AXraydT8QZQOCBH/VncV5yCKo+zF4+pXjTs8DrQGgGATuoA6fxA8COHTsUCkVcXNy5yNevrmNNiEG2UFPrsf/uWTqhbOuzcGIr2HLAasRrpUTUL0AhdZ4ZAMb+cw1iCK/WAAAgAElEQVTxnr1VzkA+mQR0MvOK4H2ekwsDfwHap7V2ceayW46lzQHmCHjiFQLGIjKgL1q0SKFQTJs2jXztt3NBEvOBDCZuDm3UeeR45RfZS25v3DsP6IO8rQotqaBKwFaINth05DP2Qt6BnHFo2hcMwE8Z+PoCsG5vz3+hIHVMxaG/AJgE5wk0sQ2Qxi8C/8svv6zRaJ555hliI5SA//xdLqiBHwBmzpypVqtjY2PHjBtL4vBb29tT162NUCrUGo0qUl1ZXQUAmmitKlKtida2treT6LyhN1yvilTHDIolsfpr1q9TRaojlIrHZs/iAVJSUwcq5Jpo7bQHHwSAdRvWK9UqUoO4OuDqa69RqlVRUVG9KkPopYTTwB515HyS++XYE/tfEKw7+Saj7/psb8Q+1tR9gd8D9mfZe88Zk3UOjR+NEd6D0gM6iM5HNH4j+uoZTcjWPuIuroeAWl+2cf7+z+4A62q8iIsBIXDdGu3swc+YMSM2NvaZZzy2nPMLdIj/yuN9+doZaAeoOZL9ctqS0c0FH3JHt2OmlOH90wjwE9Qv8Gyuei7Ix9cF2sDbDWQXdgT2YgJ2kek2L8cJtPti/7nA3ve6WN6m5xuyoPnH8g2jslaMgBPZgNP2B3AeSKL64+LilErlL37xC7QTvdvdb4EfeX54HsXAtwNQAPmlO3+uXz4BSv8KjfvaG4s5mjhcijh7vrMp19mUyzuwSHg46/Xfe+YBvlYinbfLe8v4MvR8596BAj3Cj3tRoqe90PDvog1TD6Q8jJM6n+YDugiDYzm73X799df/L9fL559/TkaAXh20Q3yQQc0PauB3uVyxsbFR+PPiyy+RxXg8wCOPPxYzKDZmUOyceXNZnt+9by/x5U+aMhkAXIx7+84dEUpFhFIxddr97S4nB8K8xPlKtUobE70qJRkAEp9OUkWqI7VRf//nPxqbm2IGxQ5UyGUy2dRp9xOmHjycTkIE7rzzTlQn9jQHnN88gFvAG/Fx+ooff5X71WTe8D7Qae1W5IvthPeiQi8C/5md9ETgL/SuriYpfYrxPqp6n3r8AH4yZHQD/Hghnyffnwj8mWDfa894W79qfGv+74GrQ6v50HYD2FYdCHoRC15MTExjY6+nCAxEe3tYB49jJE/z0AJQlrvxvuxVY4W61dBEgPmSgN9eglDfA/xGPFiLGiGe5Nn0gPADT/XIUC4COd6J9cLju295NNBvOZ4+O3dV/MljmwS2mTsTkd5D4qDbeZ5/5513/uf4u/rqqymKEgRBXOAXgNqDrApv6kM3j+z8JoC0jJX36VdNA2oZ35jW3oR2YSbRGzxd6HLkuxpzBTsxAulRJh+65AzvCPbTxV68x/hNCohjiz9A7jtZvGB59FAdUAeAWlvxQ9LeJRN56ypgm3qo7pNdWgivOjo6AOCpp56Kjo4eM2aMOAWUgP/8shx0wE+6McdyLpdr7969Wq2WKPd70/ZxIGCYhJ/89EaFRq0dHGs/3vQ/M/7zL76gilTLwga8/sYf3/jTmwDw3AvPqzUatUbzxzff4LGd/9qhQ9UazQMPTXezDMNxt40cMVAhj1AqCnS6yXdNGX777bIBskht1Isvv/TZF2jO+LvXXyfA/5vf/Ka0tFTcIOD81LzYX8k6PpQAx7Xn0OL7ClfPADoZWnLQ9rtku2vfruU7vOLrJ2syUEI9Rwk0ljKmPM5SgEYBuxEaS1Gfp4yCSS+gLG+ew2v2x1OKM/ZAnVdrJCfekGC0OssHDJBJWe9N+0OUTtKrs1zVi3NW3FC19V5PFj8Og9fF0qK78hzLDR8+XKvVvvbaa9393u+uEfsn60abMjen5afcUf3tPXBsA9gLES/QrIuYXrqwDM/Jzij94q/Y3Wsv4Wljm6mwo6GQsxo4tHGLHkw6oI1gLxXMOmiq6IQQviKHz8XggDMoIsqGr0wSs1CjDmw/Osve2Lf0jtKsfwJXw4Or5xo/2Y6L53mHw6HValUq1SeffNJLvTKYpIrn0ap3oiHTTNV/Dn421pr+Jji2Ap3J0UU8TZxuCP7Rua3Q6/3BwG8vQyymjdBYDo5ywapHjCZHUzlgB5DoE+xy0pXpYl6gM2Imqv7n0ft1QGWD9TAc292S+VH6kjscuW+gVARkG6dLIjRBfYZhCMa73e7y8nKNRiOXy/Py8khkn4T6FyRt0AG/y+VyOtEiewCYPXt2WFiYUq2KHTyY2Pl5AH1pSdSgGGWUJi5hjItHeXtGjIqTDZCFR0RMmDgxacECludvjxupidZqY6JNVgsAzJk3V6FSRmqjKJrmQGjr6BgQHqaJ1irVqhtuuvGBh6bfNnKEJlobqY1KfDqJGP9HjY6Pjo2J1EZt27Zt6NChdrtdnEtekKb+F/ACfyO0pGYunVi9/RlwbITmbMFRckHg523FDKWHRqPTWui26t1WPWvR8xRa0kMOwWLEx/mB/wxIdAoHI927E/CTfk5M/fic/HqyEqzflqwblp1yG3SUoXd346MHPjy32y0IQnt7+2uvvaZSqYYOHdqfI7d9xYX4dFkOuEam4fvCleOa9j4J1s2Adkb2Dq+ekVdkHDnxTtfQr+JPejR8O0oYuqTNVMg3VkBTJTgqGFMxe6yIJHpjTUWc1eA26dCEQHyEz4kIAF0Fsgvke0RFD3SuQG2HpiVbv5pYuPvXADqAkz2QBc+OXCKRZs2apdFoxo0bR1Q98Xp/PSHWM5wPwdGmW5j91VhH3gdAp6FNuvF2Cd71GiSzQiFQOnR4fDclQJe31hVBSx04qpwmA0MZoRHJgMtc3NFQhFcAlpAUkByF9n0Qj6587zQU+IjiBQz+OjBnoMSC9VmsMTlnebzlwAIAew99/MTMw7EcAfixY8eq1erExEQxrSeZJkrwf55OEXTAT/B13759JEGHXC4nmP3Wu+/oS0saW04898pLA+QRyijNMy8+f6qjvYN1j5kwThMbHaFWzn7yCYbjLJRVFakmkX3/+fS/v/jlq2EDw6+7/ieF+iKSpw8AiBUhOjZm5qOPsjyfMH4cAf4bf3oT3Yi2GCGTCW1MtFwu37lzZy+FDZMFrch71/BJ9ooJ9ozXwbEZ7FkcXeyJ0Dl7fu3tgQJt4OhiF6VL/fyv/3rzucSHJ+r2/+CkqjqslYs/+PMrT0w9+M1Snq7grEbOaiRKfyeNn5jscP2e/fdo3+AvYg329nBRwyOQ4Bn0se/fVACWzdYd9+lWj4cWAwpKI0u3ejDYkx67du3aq666SqPRrFy5speDK8/TQfr2J7J8S+DAbW42rshcMpopfBWa9qCkPdgxT5Io+P7tZrrWGfh5u4GhS+jKwxuW/PMPL87+zYJH26hKl63arE//+eP3vTzrXnNRGjRXE9XQd7gnudh8r3SaGXhkwGsW8nzVo9yxlr1wcv2BVfdmbHgE4ACAGQdyX7pAiOpdcnKyUqlUq9XECNe3vLk8T/MBftp26Je6FRPaS78A636g8r2QL3r6irCn7wzwc2Y9Yy375qt/vvVq0guzH7CW5502V5w2V/xmweMvP/nA3o1LOEclQxkZyoD2fTg/8OOO7xUJoydPn2eCSFQCn7FCnDhSRUgezHlo5aHl24LkYVVb7kFbenrypgaApK+99lpUVNS1117rcDjEjdolvf+ClA1S4N+2bdu6devWrl27fv361WvXpKSmpm5Yl1ekYwAKjMUrU1O+3fx9A2VxYV9ygb5o7tOJH33ycYfb9b84gIXvvE3W9CeMH/forMdnPTGbWO/bsDcIaaQs8/Enn0yYOHHhO2+zPO9i3IuXLpk67f5f/ubXNoedmBa279zx6KzH58ybm5eXRzyLvTF/JB5dALOr4u28lWPsmX8B23bOmsUS9csX9T3hOWeCsAQaddeUT9+cPvHGQXLZELXsqZn3nrTW/vPPvx0cIbsqQjZ19E9d5hKeKj0b+JHRD6kLBE5Q2Bdr9xycoxTvx4OtxGIH7gr83qA/qxGaq8C63bL9ocLUidCUiTYbIiP8pY/z4HA4Hn30UY1GM3jw4KlTp4pT+wtKcz8owDMCSnfjOmbJ/W9+8mRnwa+heT/23SCOnH1cGPhpo5syvvDE3fE/jblKLYuRy9Yt/9xSVTzh1huuVcquCpdtXv4xYy0DewUezX0nf2R8P3PlwsBvNaAk7dRhMKUYtz6NFiLCLuCO9RD4BUEwGAyTJ08mqbvnPDmnHzDaz1cgRkGs8VNHdswvWX0HX7tSsBzoDvhJiI8OxYGinXKM/zPqvP/rxEcnj7wuUnZNVMTzc2e1OiwP3zsxaoAsNlz28lMPcvZqzlbqC/xgRwYA3lZMJnxg95oe7UgYeLqMpSvIwdNIYJBIeIams4CfJIQw6cGs46gCoDfpVg/TbxgNUM7x7ThhhZ806FqMKIebN2+eNGkSmQi+//77PN6lXdT1pdX8XanW+XvQAf/Z+Epy5pPtHM//l7zatAcfVEWidHvbt28nIiKagEjlpMLz/BWT0Pj6Js9uWGdKXso3FNyH7jvWcCCxYMXtzorPwZbGWfI4M46Y7Vap8gTXoOEYmkqhpaK9sTjhtsFa5YAYtTJl2aLrYiNn3DVu4q3X/fft3zLWMp4qBapEsBi86j7O9G7RC2YUEIDz8BhZRyXTVNPhqGKbq9nGcrSpNtqLr3PUbqfGeIGfMiJvsW378dz5OevHtVo3AjjA5QTnBWBfJCYJ6RDZxLHc888/r1arY2JiYmNjey1b4qUwq2/uwQTpAKa2cs/CrBV3Qs270JKJ1kShLRg8hy/8dwJ+jyMWB28jvR+Z+nna6LIa+ONHl3zy7tWasMFR8vvvmjhz6t2TR4+YPXXSQxNur8nZ5TQZkAUY+4M9ozlVTPJHXZzGb9WDuQBsWWDdfmTP7xHwN68EoHz7kT9kJAY2MaI2KSkpJiZGrVarVKr33ntPrEFU7ERxEn/qNyc+wG8xbHowf9lt4PgBrFlgLRCsOnJ4Vf+uwO88WijYK03GzOtiIhQDZNdfc+1bb74xdEj007NnjL/1uh3rF7mpMp4uQ8BPF7utOqT02w2sRYfExlbsNhWQGQCKDnaUCfZylq7osFW107Vux1GGruGocl7MGE20FF9VgWgLFhRojFYfOLaWfndnRvJoAOQQFARkqPfzI3KT4LrD4XjiiSfItm2DBw/+5JNPRO8wkYR+LA8iKXp40t+Av+X0qejYmIEKeXR0NIETjuWIuBBKnQfvu/2ph/Q9/+1e4D9iOTA7f/kwoW6lYM1AkGwt8QTWdYJbEmrnMawhjZ8uOW3VnaQLF775fIxGEalUaVXKLd+ucTaZTpsrWLqKp9AyXzyNwL55khUALfYrEsxo4ODtBkvpwS//9ad5j9w98qdDnps73eWouCjgbz+aDdSuY4df2LFiUpVuEc+YyRJdvvOH9PBuqcHzfFFR0VdffZWUlHTNNddoNJrw8PD777+/uLi42/L9+yICfuEUcBVVe/56ePlkOPZ/0JQFJrQ0wy/gF7HfB/idtrI2uqKt6dhtN18bpQqPjY4cG3d7Y31tm+0I13jEbSlFrt+mardJB44y9BeHeV8K8FN6sOSjnYSsO4/sWrhvxSyG3gRw4mKB3+Vybd++/fPPP583b96QIUOioqK0Wu38+fObmprEMZ3Il4gc/VUqfIG/cMNkQ+pIoL/HOfvOC/yWYqTxN9YytsoOR83cxx9UhIXHRMVcP/QnR6rKWh2mU+aqdks5Bn60v3ObOb/NnO80F3SY8pFGYS8BewlvK+6oz2MtKP6Do/Quc3HxwR/ee+PVx6ZNGnnjoOJD2xjbhYDfZsBDWQlnKwF7WvkPs3cvu6uROtTBnboEfh06dGjhwoULFiyIjY1VKBRk1b7dbkc5w7z+flKtKCSX8JQr5JagA/6z6U7w+Py6PvkVAP745huR2qjwiIhbbrmFpNvrIgTdovt5Lp7dngBe8QJ/reXgw4XLbwL6Ww45www48Ap70M8N/Dxt7KAMp23FLfai/JwfVRFhctnAcaPjTtgaWqlqN1UBdCVrKhLMOnddXvm+DbaiPR6lHwM/NJa6G3KhuTxp5h233RStCJNpIgduXLPM5ag4n6nf0x6vxm9DDgK+MevkkeXPPxo1dkRs/OgRN8fdPuGeu0ePTfD9jMGfePwZhT9xcXHjxo0bNWqUSqWKjo4OCwuTy+UxMTFDhgxZs2YNIbKo8wWQ5kFeFcPjkH7eWLXnzQNL7wLrV2BNR/syXxzwe0I0BNrA2stOWwxtjuoTdO2c2dMV8jCNWr7os0/a7Sau8QhPVzhNemiu4ekyzlaa/u1XbUdzLx34kTkqHxozgP6+ate78+6+alLckNuG3zB85IjbRo7o8hnp84nzfqZMmRIfHx8VFUVUfI1Go1Qqhw8fnp6e7jt9J0wUUb9LHw9yFl9U8wjw43XvpqzVo2u+TwDb99hr7lH3Bauus8avBxtZzVsm2CvZ5jrncdO///m2Wh4hHxjxxJOzHFR9u6Ou3VIOTbXQWMmhAOHSQ5u+cNtQpLDbqgN7yYPxV+1K+QhOVAqOUnAYUeAnVbx1+Qcvzrrnam1ErFYeP3xoO13rD/B7846XApVdu+etZ+4fMDouemTCbfEJ8WRM8POvWq0mm7PI5UipGzVqlBjnIcb6XRRhr/DC/Qf4eYCXf/HKmHFjb48bOXpswrBhwyZPnowNp11ZfB6YP/unrjcH9DsO7hMAai0HH8lfcTPYNghUHpgNgDT17oCf2PmRe97AUAYXXc6erDvZVHny+LGRt/5MGR4xSBt5ssnUZqvh7NVgrwBbOWcpO/zdip9EyGjjQY9dDmUCMKBlvlQxQ5e02yvnz3ogWjMwJlre0njM5SgjWT/9MvXbjG2mIpbKOmFclHjvwKhwmSZGLVOEh0WrwxXyLh+yvyL5q8Sf8PDwsLCw8PDw66+//qGHHnrllVdSU1NbW1v7f0L+c0sRDjE5CVxx+e4/7F18J9iXggXtwNYt8Hey89Pe+A/P5KwYbEYcvVHGnjjKnG442Vy3bOl/VeoIecSA+U882mKpcZpL3RaDYC93Wwyco/KpqfHzp46CE9UY+FF0CN70xSha+y/s40fyWQiOw2DbVLV74Z03y2IjZHKFbKAKJdXo8iEyQP6qVCqlUimXy8PDw+VyuVqtHjNmzJwn57zyyivLly8n1CIqvigbp0+fvsKAvy5zxXDz9klg/UEwn0F9H+DHUX6mArAh1x6yzDuq22w1pxvrmx2m6EhlpEpx403XO+zm03QNnDjCmkvBUQ0tdW+/OnfsDUq+sYKzlbJ0BTRVXxMhW/nxwnZrSZupiEerAUuZhgLBYnBSFcNuuiY8TPb8/EfdTUcYutSbbqTII4pdTP02AwF+rHJkWg++O/VnskFRsgEKmUIl9xWAC54PGTJk+PDh/8uevnDhwh07dhCRIC4hMsj348nfuUeLS/8l6ID/bOj1vUI0e98rvufnJIO4VewFXM/nrKCXfvAuZ603H0gsWh0PVDI4DoJZB1QFztHWJV4GG/mtRbwpH2wGzlbaUl/sPG462WT65N//iomMilQolQMHfPbxP5otlU6qSrBVuM2VrybNj4oIv2PETR22CnBUoFX+KCSnDB1NNa3mouNm4z2TEtQK2YNTx7Q1ljK0r0nZE9jVacRHrjuvxk+Vgf0I1B88ceg3hxbdVW9cDdAIwDg5pot113eMFs//l0mpqqqKYzmGYUSPjNSBAVqBLy7Z9dt9S+4C22KwHgBLsWDVcZTn8Gp4JJy7S1w9/opcRUawlvJ0Wbu15BRd3uKoam6smXxX/OAhURqN8pqrolsd9Sxd4bbqO6jSvD3fTht3608iZYv+/jvGXITyPlkMnNXIUEY0cHtXeXU/AxADP9GEQw+WQjCnA7WFznp334pZJ+vXATS6BZ7t7Prp9htZl19eXk7QvdsyvsIjnvdjmcEaP0qJBVBlXD2qdu0oMP+Ionas+rN8/EVgLWaP5YMNxfO2mw3upiNN5orTLdTzz829elD04NjoCGXE3rStrpZjHVQpYy2zGjIXPDp9UITs+UceOF1XztHH2hpq2BOOaHnYos8+puur2OY6zoaSgrCmQnCUHTMc1EbK5BGy5EUfMvYKNCc4C+k7XzEKtjIUNYIiAHaZt8/LXHH/qcas86R08uWpyNaKioou18WvvTQy9/tqJeAPBhZb7Fm/yFke5zryGdh3ezbdQs7aLgdOmHOqBgE/VSzYy2fdO+bxByY/M++JG669dtt332mVETEaxdhRtyz59O8Tb72OsVbEXxt9tSZKq1BcFxP+2xceYWg0iCOvm6UUjqMpP9tcfdpRqwqXxUQO/PTDP7oaDSgryJkgsnNFdPsAP3UETGmn983PWzSyuXo1AA3QwaIN2dBH7J/dnpAy4lJJsQy5fmX+5dDctA2E0pK9fziw/G6o/xjo/WBBo7zfwI+501yLsjjYK3eu/fzusTe+8tyjkycNm3LPqIdm3KtQDlApZb94dvabLz76euK0Tcv/LzZCpg2TDZHLhspl9pKDZPHneYD/nGv6rQZoKEDAb9nUkPb7/Svug8bVAA7O7xhuEpfjD+tFaSEn/twSimVwIkwWb2pXcWzTXYZFt4B9B28qFFH/jMaPc3ryDUVgK2fNpSZD+gMThz89Z/qc2dNH3P7TX730jAIb5CZOit/zw8oHx99kLTk8WCaLigiPjpBfIw9b9N5f3Za6NktDk8ms1UR98eVnxxvNLnsNZytFcTxN5R0NRX/+VZJKLovVDmxzVLP2MiQGXUKAuw5ZCPhR4ilaB/YfzZunZSyOB9boBieeynTDEJGtZNonYr94vctJN1VIl/yggAT8fhCpV4uggd560vD6/kU/ayr6O1A7gMoDFJvTBfXRVlfkwAH5xT8s/eBqhewqteyqyPDNG1Lo+pqE22+JVshilLLrYsLTfljNULX6vT9cI5ddq5ZtW/+p01HMNOoZh4GlK3hblfNYCW+r6nBUffKvv0ZGyCIjZPa6Qpe9+KKB31IFtv3Nux4uXBrHWHcBnGK4kwzffsGo3S5E9V2H0+WnK+qry82D0AFwpOLg25nJd7tK/gy2vZylQER9DmVo8V26fbbGT6ZlZYLFCI6qWfeMHBolGxIpmz5t1KnTDfvTfozVyjVyJDl33qLlrAZX49GkWQ8NUg+cMvrWNrMRmmt6BPx1eSgowZJatuW5XUvuhdbtAMe7mH+6Zag4xHf7q+/FLkM/+epboB+do8x9PEqOwQJfQ+18rODrm8H8Dd+Q0V1UP9L4wV4OjdVOk+Hd1xZcrZRFhsmG3TiotCSr/YTlp9fGRMeoBg9SXRslMxsPOamqr/71zmC1ShMe5rY3PDfjvvtG/PTO226aEDdCLY+45eYbRtxy3b2jb5hyayxrKuKpUiddOWv6ndFq2T0TR7gbq+F4FUZ9ksn77MGKXEFLChHwU3qwbStfOz531ViAWiffdkHgF5koCsaVxHfx7XvrJCSBH5kNPRuXIxOYeJyTSMFq6kcNRjvaUO2Vb+/84mZz5htg3gz2HLT16tnAj0ypRWQ7dtaEsvU9dtftj9w1aseGZa1U7WlrdY0+44WnZjz5wJ07v1nZYatpM1X8bsGsIXLZsGtV7U1luzd/terrt1Z9/faqLz9I+eLDE0f1Lrqyrbn26bkPyWWySWPi2uiqNlMh152p/ywNT9T4jWAyQvMB+7b7ipbHo/hzvqPDeYIRWv0Eft9wXLFjn5OPV8AP7W1u4JwA1srD/8pNndyS+wpYt7lNeRcN/PZKsJUzlDFzy6pp42/6w6tPnLSXtp2oaW+p//C9P953x4hfP/1IU9lBgTY21htvvDoqWi77xTNPdljLUWiIxQDnNfWfJQ/eyYfVINTlAp0O5iWF38za+tX9wGYCnGB5XmTueU54nhfNPxc0F3Wpp5+KBknxxaItMIQ6y965huQxbNmXyPtjzROV/k4TQVsJ2IycrdRWevixu+PnzpxypDSrhapusVZs37hy5oP3PHT/JMPhLaca9KdM5bMfmBKjlt83aSzTWP/m80++OufBp6bd+eTMaQNksocfuGv+41Off2zy8w8lMOYixlZ+mq654Sq1ViX76+9ePGVGy/+QHm87P/DjVcTIxFgEth+zF99a8v19ALUcSvLV/WzwbLaKa327/ES+9lO+9/prBTXwd3l7knevw+1iOE4Ee9+TTuV9wf5c551uuBxfBODQHhPHoWn5vsXx9Qd/DfWrwZGFNk1BRjOSH1f8iyfROPEOZ0FLbDlbCUOXMrZyfFQyVDVDVXNUtdtaxTnq2Kb6+8aPiFHL5zz5SGPTkZtuitJGywYNCovRKiOVYVW6dFdjbduJIzdcp45WyX/zwvMo0LexDEfriOvFz2HqFxtGGVBmLtuPlamj8xaNRLn6eWSWZNGeIt137MtB5VB7Jtq3qYkyLtN/M6X58Fwwf+c25/gF/FYDCttERwnYSsFmZC16hkIJfJw2YwdtbLMbO+iyDltFh63CTZWBAy3aLjy0NVohi5LL9ny/xmUpB2spuh0dJPczdg+RfVy6GnLP0vMoAxwrAPogtCw7vHJKxvpn8aLtFjK9u+DALep2ocaw3muvF/jRMGdpyvl1xuIRHcUfoJxO1qyuwI8S9RciLRzl5zCQZDuMvcrlQAc6sde0O+o67HUnjxYwtvJ2uvaGq9SREbIXkh5z0tUsXXGqTsc0HXGepIZERyz99INWW2VHQxGcrHU2FELLsRVffCAfIFPJZZn7N7vocjhZ7YfGjwQMqyu5fPnK/BWjju6dA3DEH3qJO/EQqZBkwx+i+V8mqIGfbnTMS5w/PylxXuL8eYnzE59Omp+U+NbbC33B3ve802ufC+x9r3e64XJ8IcGGbhpObtq7ZGLRpsfg+FqwHUBdRQRXz4l3kO1k5kWb+KGDKsFHKdqf21oOdDVnr3XS1YNUsojwAW+9vbDpuGXOnGmzH7/7icfufaT56wkAACAASURBVHHBU399/denHbWn7FVZ6T9cNThcJZNtWrnSba1CPRwN8X4Dv02PconUripZPrJmw1Rgj6Ct+dC2Iuec0V8OKofgM7mWDsu2jGXDqb3ToWkrY/PP1H8G+NE+TDhAz4A25rGiNSBuGzpwmjY0FWDIiv+2o3/4xfxYleyGwZGnzFWMrbKHwI9yDdn2wdG/HV4x3rjrTTTKC6d8/Thd4D8EedOXTSbrfnhkF+RoZ/UHmSvGOtJ/D/YfwJp+DuBHijhO8WQQbGU8XYEPlKiHpSsYuoala0j0xnerPx+slamVskN7vmuzlZ4+Vui0FPMnapuslaoBsjWLPuIaa8BRhlbwW4qEE3WzZ9yriRw47KZrTjfVOW3oOgb+zmm+zpoa4qAiFPZxMvfj7KUJjfm/AqjvSwpKz+qWAkEN/CzPH2touPW24Uq1iuyi+8vf/NrNoojxbo9u3xBdDCqw922lgE39cBK4rJx1j2UkTwLbZ2DfjxLtIccYdo8h4PeiPoqg9vXvdjkvRuu+LKWuOj00HU3+7G+RYbJYjfb/Pvjw43+81dFU23KsABxl0HiEs1S4m2tamitf/eUTWo3sGq3GRduhsY61kD18vdXi55I8caiTdw3kMSJDnz39eP6HeZ/f1nro5xj4WbR1qu87Sud+UwCp+sj1A8C2gquwYPWI0vVxguUb1qFjbCS4D80AkAyQZAwk7zIK/vAa28lavv9v70vAo6rO/hEMyYQkgGBtP79+1p19R0ULWmuLKyBhE8VuVv3XLn6tW2ul1c8uWmmtAUJCErICAdmUNYGErLNlMpOdsCSTmbkzdzIJCQmZ5W7vv+85d25uJkETFoma+9znzpl7z93OOff83v3Fo3JSZpqaWUnEIv8l1AA0ozvW92bfGnPtsNiF83+69AcCU4uifhXHTxyxghmi1eNQVabW/vQZJKsB7Pua81cWJk5vrdqAgfqlrs+Q2/e7bb6eFUWQePyeeADBA+fSClPuqtq+BJqSwXGUAL9JcpioNS5JzWcAl55kaaJ4TOYQMo2QPqoQnXUSUwcYra/iFz9dNCpy2LdvHPXKr9Yc2vpv8FRzjPmc1djhORU1cljG+nfa6kswIQhjEl0VAffJW2+6QRMZFhu78Cx74rzNDG5iq0/Hnmow9JisnGbw1Er2EnAcPLPv18fXz4bGf4DUdBnTdn89h8Wlv/WgBn76ehOnTI6MigrXRMyeOwcA/FxAjfpqff8Fm4MAv4gx0bqrXJzs6OLO6r5rSIk+j3gOfCZb0et58ZM79S9Cc66M+jLw00ysBHeJHK8n9hvAQUJ1OsnWUYaGgc0n/DZL+r/Xjhs5bLzm2hm3fsfPnoKORuTmG3UYBs5dazq67edrFo4bPexb44aPG3nNO//7S8Z8HAPvE45fvgX9nuWUAcEscMGPHL10WC14PrHm/fro+xPB8mcQGlEZOSTlD+nl/v/FOP0SYe/84DdbDz2cH/dfZ6s+ENzHBaes5u+24mZov8uRHHtiPwnOGAzpqrCGeC6m5TVS+Cc53Mpn33bdDZph48OH/fnXP4bmE0h0on24LOq/MPCTsAFEHKWEEEbSsEkP1l11H993PHES79oLUivR/gBcQMvf/7b5OtbEiYuYwaFfRBtAQX7GQ6WJ8+DMB+BAk08SXpe4XHaHzlV/pzReJ4kIQj9bpgpdhZ1V4Kp8ZvG910UOu/G6YY8tmAIt1ZLbIrJmP2Pqaq7btO4PtvIjImPh7cZAk/7o1g8X3T91TMSwGM2wudO+k7Hp74KnBoOCUHPj3tZIwSkCx6SnVrLlgWtbRdbSox/dDe3bAZwSRqlSzcVfx669yu88qIGfEwSHkwmLCB8RFhYWEf6HP74pAqgV/LyI/sECSAGexLYiRzkBc/Uq7Urj9wGA2m5IOdq7EOJGQl2K/X4/RxbF3Ugtsex9kQHu8YLY4G9I0W2a6Nr/KNj3CBibvSrI8ZsJCa8ntLwemWw55ybR5qK5rBKbnRxymjEHT3M1U3nslZ88/n+/+RHnrAbPCUz0YjfhajOB3VyRu21Hwl8zPvrTlg//lPrPt3YlvMdYjmLebjXvGPQjIA9glFg57zvl8NCL110AzcmGbY/mJdwPQi7wzSCAIAIvDWn4BzgEaHUJIECAn/MCX8PVvGLJnne64BeCM1tyyaLdINlnIGladCr2rlssRGKtd7tlEmIuyLXLEiPy127irMbawr0/XnR/0b50H1ODUV+aiDgBZQaoP+pxbveEbiLpX010lEqsUWL1oluPI6RJC41bTWkTDNlzMA+bWt52UU3ytT6JpmmmQiDoEgXDCd3rpYnTuop+CswnnM3gZ0yCp4Zz1qKoBo0zyqlkLhh9ixrhqqVBRAbAVoO71mPJ++0zj2asexMT9NkMgSat6CxD215MxkOzdWDCDtFZtmPDH7dvWLtt4zvbNryb8v4f8nduCtjNwXFCR4sllNFXhkqzWWraC43vlGyaWbnzaZAMAC1BudbXum+v7ssPauAXAd5f90FEpCYsAiN/OZwMbSw1x680H+tp3rQ5sbW9TdmjgHROTo6ys6Sk5ODBg8pfJacTy7LJycn79++nh2g0qLKysiNHjgCA2WzOyclR2P1AIEATxV6iZSnSMXg/AaSz0JJbnXFPZco0cGaDS0di9VNRfxD4WS1y2CHAjzH4CM8n8+Ukqx4JtS04ceLm7UZ/gxaaLWgwSIBfEfYGrJi109dkQgWww4TJ2lG/QDwJqcRYBn6ZsCDze1B9SGYHYHP5E7/XZd1b/slPQTSB0CGJmHYoMMT0KyNsoAVRAkEA/jwIJ+Fcakn6d7VZ3wcPinax+5ARVzKv6xD7SUx+9bQrk2XBYAzEWlNBfRLMlSgCsKOdFnCjzzfnrMUYz2cbfE0mFdh/JvA7jOAwgYOQpy6j6NbzbqPEaqHpUEfZX/RpExsLlpOEvEG13BCDN9CRQGkmErOMqIACIjDtrozj8Xc2H3oMbNsFR4mfMYotskkvse+RATiofOkL+NHG3gLuOrCawVElNZnAU0PNetRKPQr5uGVNktsiNFuguQIVhc5qYKq4pnLMAOIoR/kiVQwpSK8uuEzQbATPvpaCpcXxt7WY/gJQD9AWVL5eRIsMnXJ5WmBQAz8ALHzk4RFhYcOGDbv5tluRa+9lz88ThfKTsbFjx437n+/c9K3/vvG668drRkX+17f/e9+nnzy+eNE3vnlDWET4iy/9ghfFwzlHYmJiRowYsW7dOkmSaMC4bVu3TZ069cYbb7z++us1Gk1sbKzZbF6wYME3vvENjUZz7733xsfHjx8/ftiwYbm5uVRbGaKzvOiuoCpdcroE/Ann8TXFCRN8te9BSw449cS+j8r5jTK771Jz/Kqvmnxs9LsVGCNn19EEG5hsgymHliquSSvY9WrgB7by/Gl95ymt5KzyWQ2crQzZfbZKhhA18KNQwYQWQ8jYUeAPihCdB9y5i7Qpk9iaD0FqAJHjJfACeEHqFrlcdOt8LU9EN0jwA3QANAAUmHfHFsZPgBN/BNtRaKqFpmoSvpew+0ErbjrLh2yVcHsq208LkdsHt0RKz1lN6O7vqiVB+81o5MES8KBm/CFbZU7H4aHkfkVdL0nzWIWeqE1J1fuWHU+dxdv+AeDEPhyC/IseydSoX0D5mYB6fi+ApSRjjj7pTmjYCM35ossgNiscfzUG5pKVL5hFl5blrRJt024WG4xSYxk4KnAssdVikwHYclwp80BkQtRuQHCVCa4yjjHRFS1FbBjVkbMayWUtnwf8RmCKgMmq3DanNHkynDsMwEKgdYjjv+gRcblOHIzAT6X39A3HXDc2MipqVEx07IrlFOMpg0zNx+j20Scej4yK+p/v3OQN+KdOnx4Rqbk2fOTS5cv0RuOSpUsjIjVjrhs7beYMAaQt6WnR0dGjR49esmQJvf6KFSuGDRt29913cxx3++23R0VFTZ48WeCFDz/8MCIiYtiwYcuXLx8zZoxGo4mKisrOzqZShBAr5YvuDAr8IrU9FNiuk38vybzvZO5PwZ0FrgLE4CAfT4XtuFXk/MqXLKM+ut6JLIrmeIe+vT4fWT1igBOwlvI2HZytU4AfqQG2UknDipm2GQt+zKi3IxLj3sBPsF90G0W3EVyVxGdMC8zOk9vnFiZM4FoOimKrJEkBDDsnnEemdRAtvdU3IQ+nyHJC9itCo5D9V+6vAAIPfh7aARwglDO6tabkqe1HV4LtMFirwVoLtkpgDODUkalZzpsegvo0rWo39stOH5SDVwE/U8VZTZzVFGgoC1hNmMEZM/PSAaASEijwrwB/D30Q1scHcFYBmw/29/K2zD6y5XvAHSLxm69cU8lX7rPvFGewK377K3oDavxLgD8Y8aaxoegnpalTvZV/BOcO9KlhKwVnpcAQP0wV8PdAfZTkBVfK8dst0FwHjgpE/ZbaoP4oaNUb9OshwF+uBn50FbGZ0BjIWdE3x++ygCs4jTj13Jm93uoPDBmztVvvB8GMFK2/7TNC9l7R5hy6uNICgw74qcKemuEdOHxo+LUjRsVEXxs+8uCRw11+H31uTGpHlPoBnnv1jdcjIjWjYqLTMjMCPHff/PnDrx0RronIPXaMavpjxowO10SMHTdOAOm817v0yaUjRoz4/e9/DwCxsbHRZNHpdOXl5ddcc01UVFRsbCwAxMXFaTSakSNHPvDAA7fccsvYsWOjoqLcbjedZS4X8FM7OFGidvBdIBUd3/5kXsp956vfAveRINj3NqcnU7N6FiaZ18nsj8CPjrxBwy4iug9O4lQoR+ZxyYU8AVnNPer0Bv5uTb8JgZ814YfdVAQNu1yHf1UUd4c17xmAUwHBL0go5D+PsQkuCfgVBUpv3PV6Me4BAAQCgT5nfGrMEXKIJgKgJ9JtSAXlr2K6EVKNVhB4geqAlEspJ6qFQMrRgRYIIShyEAhAlwBtINnBm18YN+lk+j1QlwINRWCv5E7ogdGJLh2N4hDModwdcaE3ERDs6N5cIKZspnH6ZGGA3PvBAaNAPi2ohpxyF5lSdJSDxwL2Xaz22ZykaWfK/gxSNZFbDLQNBly/9yChn2fIfnVP9b5HSL8rFahGT/mr9DI1/aH7Q25EdyoXpKkoet/d5/Mp5kfq64eWKVcQ3CvxDLRuydk8p3rXE+BIgMaDYqMWSC4c1PEHgb8Hl09kADLwqyk2StxT0zzav91shon2r8iaRdYsODGvLlUd9qAnaEoImaQglgTIq1gwIQhLlIauInBurdn39NHEu1zlbwLYQeLQYwVlWkPL1WyBwQj8nCBQ4H/qmafDNRGRUVFjrhvb5fdxgsCLomLHBwBNDnvU6Jgx142dOn06AHgD/tFjx1A6gAoDeFG8a949lHSgKJuZmTlmzJhz585lZmZGRkaOHj168eLFADBlypTw8PCbb765paVF4IVVq1bFxMSMGzfuhhtuqK+vt5CFdpTySSuFS+lAyvQTt3cRgGEqP8xNmnvi4FJw7ESNPnXOwQm3p+BONQUHzXno1D9Q4Mez+gX8ROCPEgWWWAg2HITTH1ZvfViX9j3wpGEilgBPgd8Lkg8t/C5poRwbbWE6yaoRV9mv3qn0DgD4fD7K5V/oIdQTsTJx05vSE+l8rUz0vTlIgRdo1mBqJqK+4IVu+rn7g8DPcxAQwCeInRCo6TL8tnzzbObwLzGPg8MgnCgFp0FwGfyuSkzPyCp2WJ+B/QqRpxpFaLhH0rjZzWjJT/72GAkhqI82ATLFKcuWyGAg48eMriVsvvfEhoLkaeV7fgDccaLKlU1uL3EwfEa79R4AfVZW9w6ND6hQkErv9z6RnuXzIb8hSVJHR4cyFNVn9bYapuNTGUiUXqTV6NXo6f18ePJgiP/I/wtngSs9lf+r0s1z3Tk/AvYwMutOGsWZ5OBQTxQUkkOAPwT7g33aU77YP+BXpAhYCAI/wX5/g5az6uFsoVTzdumW+cczl4D/GIjtIkoCAwT4hzRAvUfcF7dn0AG/8uoBnrtz0sRrw0eGayIefvQRAOBFkdIEAkjUdH/t238efu0IzajIV994PcBzKamp14wYPiIs7AcPL6TXCfDctJkzRsVEj4qJxhHHcxMmTHj55ZcBYP78+ddcc01kZORzzz03derUmJiYJ554oqWlhWLGHXfcoSHL008/3WdYWQX11XOK8vADKgiAge4CeI4E5/Sm3T88vnl6qyUO2CKC/UYy4Xa75BIiQMX0Ezo9yIFdduCnygUTYNpvI+UAMFlAQ3ZbwbLSzRPqi18n2ugu4ERJjiqO2shLmev/M2O+9dZbS59c+swzzyxevHjlypVK7m0AsFgsixcvfuSRR5aR5ZVXXlG3dnJycmxs7IoVK1avXh0bG5uWlqY+umbNmhUrVixfvjw2NnbZsmXl5eUKtNfV1a1QLW+88QY9keM49fPQK6emptKjdO5+5plnVqoW9R0HVKbAT4S6oqwaFzzQ9YkpY2FJ0j1gXQeuQmgoA6eBY8t8bouPreTcVwX4TbzbyKP4hxCOaC1YDI7supznjyfMYA2/ItHZZNSnBPeA2qH/lSlzX1tbq2r+le+88w7tF/qRrl27NjY2ds2aNSFjiX65zz77rKrbV6hvrR5Ly5Yte+2115SPXZKkl19+eeXKlU8//fTy5cvXrFmjHqIAoL7mqlWrqCCK4n1KSsrSJ5fSQbh69WplLKlvrSrLikAgxDSx/2gH5x5d0ixzyl3g2EesffXoxM+gB2aQQyDzQw/gVwGzwuuHeOINlOPvE/hdJN+3VY82xU17Tu35fvHmKZ4Tm9Dgg/eReYEjE94Q8Ks6+QsvDl7g7+zq0oyK1IyKjIyK+sMf36SwrXjiP/jQQwJI02bOuGbE8IhITbnFzAnChMmTwjUR110//p8f/ssbQGmSANL0WTOvDR85KiZaBHj3b3+9+eabaSNHRkaOGzcuKipq+fLlL774IsUAgRcCgYDNZouOjtZoNGPHjmUYRhRFr9dLZctqvFfKl9hrqLmgZDAX4Dtqzp16uyDz3sqD/w/sO1Fp6tQTarpnGJ9edPplAn6L7EZIw7pRR0EMz2dGE24G+QBUQNjzwZpkSLq1cMtE6MyVOBex1kGuSJBAkKgz/yW1ysyZMyMiMIU7Jb9SUlKUy6WlpYWFhUVFRY0dOzY8PHw6EfYoR5c+uTQmJmbkyJHR0dFhYWGxsbEK3fYf040xY8ZER0dHREQMHz587NixiYmJlA8TeCE9PT1KtUyaNEnN1SnPM2bMmPDw8NWrV1OKgd43KioqRrUoD3MRBRn1qeMKUrudIFS1lL9dtGUac2wZ2HaCCyOzCq4y3m0Smi28G4Wxwd6/UOFKcfxIkjJmjA3gOtJZtfbQhtklaY+AF224FIucKwf8VOLCcVxaWhodJ3Q7b948BaEBYNasWRqNJiIiImQs0f6NiYmh+j66VXeZeixpNJqpU6dSOoNqjmbNmjV+/PjIyMiwsLCYmJgQ/FYNpajoaOQ66BIIBJYvXx4ZGRkREUGH6OrVq9VPG6xIf4NKfvT+wcSNQaf+xubCF0rjZ54vfgdO7QFnEZrlMyRwJzUMovODDPyUCLg8wN/DZlAN/LJcgd6lAlqroSm3Rf+30sQppm0PANSC0In5hhDu/SJyOkPA37Orv9h/gw74FRHrm2++OXLkSPqtMgyjTN8Mwzz22GMLFy4URZEi98iRI/9zdO3atWFhYRqNJjIy8uzZswoBPn36dM2oyKjRMX9//71x37g+52hul9+XkZUZEakJ10RMmTbVG/BTekIESEjaDADr1q2LjIyMjo5e+uTSK94dhKBX5nliCF2St2/V0cQ5zvyfgXM333BMDsDu0gJbErSrJ257Mq/fq6wS0ioWXkSKGzTsUoz41AQE8gFV4KjHFTNpoiU/rvh5VwWNg8zAFAK7y/rps4XxEzzGl4h/jo+a6cpv0VMreXENmJOTk5GRkZKSkp6evmPHDoaRPTn9fj/DMOnp6RkZGampqZmZmYoHJr2R2WxOSUlJTU1NJkt5eTmdrClOb9u6LT09PTMzMyUlJSEhwePxKHNuc3NzqmrJzs5WP3lOTk5aWtpmsiQmJlosFiQredmEMSsra9vWbcqqPnHgZdKKShtilIpzAGZt5t3a5Dv5ir+CO0e0FfIOLfp8snpgZfs+RQ4/gEJ/xPuqsdTzyhVoFm6rwLAQ1nxo3HJ63wPH1t9uN60H3ilbb4k4vZP3ISWc63uvA2+h4BlUAc9xnMPhyFQtubm5lCinFXNycjIzM1NTU7dt3ZaWltbW1sPjNysrS9XtsiCHnqgeS//x/dm1axfdT+978ODBtLQ0OqJSU1Pb29uDz4W/WaolIyODHkLr10DAaDTuIEsSWWpra9UkJq2p2tIWQ68+EZ1lJAx7Jzqhdac+7eGS9fdC1d+h6ZDIWATmBInKpwcXcfrFz5mG7lGFeKLfu4qzV5kPy8F3+yIiuwlHerTnSEBFpOSswdBADjIq3CfBVgJMeuW2xUVJ34WGOAAGn10UBOBE6BKh69JkgqrmGSpeVAsMOuCnbyGK4v333x8WFhYeHn7TTTfRD0YUxdTU1DvuuCMyMjItLS0QCAwfPpzq6ZctW0aF89HR0RMmTFi4cOHrr79OL7Vq1SqqL7jhW9/8+QvP+zmUqZsrLGOuG0sNCPYTt36dQT9j9qyVT6FQbtWqVZTgCAGVi2rhfpwkz/IigD8g2gEa2jxbcxJmlafdC2fiwLEfHHrEfqceWO1FAz/x5+4f8DN1+GFT1MdYgVXgqMEtzhol4NjbVfyqIWHB8eSHwHsAwB301JZTJuILXwI1r56yaVkURZ/PRxGa0n8+n89PlpAZUxRFxWCKBlyira9gP/2r2OjRa6q3ffaWQhxQdT4VC/VZ83LsVBGB3Zezt1S8WbR5xvG4u8GeDM7DwJaCqxScOgr8vSZilSZITduFlC8e+AktaK8BaxVYteD+xFP8m7K0KYbtD0FXFfZ/wN91rh0xH0cCfaPekC+P++63HHjpQgYWysgJGSFUwKMcpQE5KAdPB4m6r5Wx1OdFqPReeWT1GKMWIYpqP8QIQLFfUYaTcpELF2goHxRh4hNKHSDUNJW8rUuac3LXDwMnNqFa0Fntaywnn60C/JT/vuLAjzYfxFIYxT8OEzQWg3WP69iPC+Nn1X76PIjlwLUAWuNS4PcRjv9SlIEXbqehI/1rgcEI/IcOHXrppZfGjh07YsSIMWPGjB8/fsWKFffcc89NN90UFRUVHh5+4403UinfggULRo4cGR4ePm7cuHXr1lGpnUajWbBggZLi84knnvgPux8RqZk4ZbLiMiCANGHypNFjx4yKidaMirz19tsio6IeX7wI/WZFccKECVSW0L82vOhadEJUtoIE3oDgIVBawRS/Vpb8oCljITAJmO4MZapVxDzbpGB/0KyvXxx//4CfWhEGQwah9yARAzA1oqsKw7OweznL/9Uk3Vf60X2Bxo9BcIBMvONb0De56Ob47BPpZK2uQ6djZaYOORRiya/MthS21XNxn1dQX613+UKQ0LvmwPf02YrnAM7U5/2ueMOM+swHoT4emvOA1WEI3hAsH9DfSwf+phqw5fqLXjBvmaXfvQg696lc+IjKB0M40/WKAD+1tqNmdHSEqLd9Nr7S3X6/PwTRL1RfuSZFd4EXqI1eSDTPzzidHqLP2We1fu6UvwKJqslrDbt+UJRy25ncp6AhEZp1YKNfqyrCh6LOVw+My83xS6xRbC7BlTUhb2Dd1q79XVHSFF3mAmjeD+dOAefD1F0SJ4C89vN9h6pdoRYYdMD/n0/xT3/605IlS1asWLFy5cpnn312yZIlsbGxixYtogZZS5Ys+eCDD6igNS8vb/78+ffffz8NxvfAAw/MmjVrxYoVlCygTRYbGzts+DXf+OYNTjdLI/5S20Cr3bZk6dJpM2fMmD1r9Zpn9Eaj0sTLly9fsmSJYt6l7L/cBToh8oDGcJjNlqwiQmnAClBTv/cXRXGzy1MfBNdOcBWht72rBkVtchQdOXp/SLwtjNapEs8qon4Ske3zOH501qcSfhoh2IhhPYgFEH7SzbnAbjyx6/Hif830Gv4GkgcbpJuluzzAj4YCvKDMyJ2dnbTZlfmaCu3lGfACXaII4UOOK5dV71dfWb1fKVPOTPlL5U+UkqBIQCNBKfCg1LyoQp/AHwA4C6KxInuJOfkeV87PoT4B2HzOrrtKwE8IRIcJ7AXg2Fa+cUph/KSW0xuJogpT8pDlCwJ+Oh6CN+3x25ulphIjZXh8bterFToUtqkuUiEc1dKjkKvR8RAC9pQhUR4gRGzQ4+n7+kOvidp+XDoA9uRnzs2Lv7O16Hlw7QIPEQ2icK6SfLYW3NL1CgM/7ykSmwuIMfKh1sJfHo+bUpI5H1pTMX8H50MH1UBAEgMSAr/stNXX+w3t+4JaYNABf//fO2QSV1g6BfXpd7hy5cpRMdFb0tG6m4YGEoiq7EJbFE+qlv4/z0XVVLCfon6AUADU2q8dvGV1WYsNH01zHfoZsNkCU8C5LOhQR6LoIPyr1t66uiAkqD24lPj/QVNBSvsrnvpOmuFDvdVDsx5aSqGlCNismp0LCuJu95S+DecqVO9L3+LCsjs1s6c6rc8iBX5VD3QX+6x/cTuVi/bndEUIrJylLtCZnW7p/v5cc4B10N5f7DoNncd0GcuLPppyrujn4NotukpJzp5uR7tgp/dP1K8GgwuU1RpfaK3xWXXnTxcTyrIM3Hng2mRMvq84cY5D+zuAk4LURs08kR6URHm9whz/Z7dkyCxBK9OddH4IQevPvhrt3xCpvnow9Od0dX2l/NknhhwNhvrmAFwBT3Zp0syKLdPaDa9C88cY2tmhAwzeVY0hmR1BaT/50pV0ShcoqI1D1Xr9C5Xl+iJr8rFaaC6Gpv1Q86Fx06TSxCldDcmo2uf9aJjI8cAHJIEn0n4EFs+RWgAAET1JREFU/j7J25DXHPp75VrgSwz8fTYK/aSXLVs2evTo1atX22y2W2655bev/I5a+Hd2dV0I79X7la9xQJNCn8/T752U4yd+cLI6DyDgANeukxmLS/8923nkObExFZrzJFZLgV/E0Ojd6+UAfiXZDzHzcZl8Dcd5Rx60HIOOw8BmGLYv026efmLfk9BVAtJ5lFDIWH85gV/N0Ks74vL2hXLlfnaQUj+kQE/vc2c/r9zvapLEnwVwCvaPdYkL9AlznSWvQvshcJVgTiaVk/3lxX418HM2g8+q42wGcOvBeRCcm898+qgx4x5H6asQ0KJMQl5UqH/lRf3Bm16dX3XXf+4TqCuHlD/3XHUFyhkQd0kJgOFr/laZdl9pytxm/UvQnAVt+cAUY2AfphJXJOuV9FqoFrzwepHAj8mZ2vTg2CtVrqvOeEyXMK1Z+0vgqkHwUfIPRA5EPwiSJGIaL564Jl6YUVC/61D5irTAVwr4Fc3r9ddfHxUVFUmWtWvX0ph91MpIDfAXKqu/ySvS6spFKcbLXwAV+BOPFxF4LwdcADqd4Mw1J3+/5KM72NwVwKwHV84VA35qBKQEDDD7rfkB+37evbXz5F+qdj5Yunl2zd4fga8QwCOKASTkv/bAT4dKCLGidO/lK9A4T360lpea+NOp5m1LipNmNuX9RLTuw4i5Vwz7FeCnOiM5Qbt1H5x4w5Q5IzfhTsOep0CsBIwx7A/KqxRCUF1Qi33U5cvXSFfjSgOdK9T11eUBPTsdDcHv7zzwpzot/9RnTDue8m13xQuSOwmac6SmUmiqAKYaWAO4SojR32dAPj3UN/AHYwN0yw6DsSDl+uAqgrOfQPXbxRsnFMRPOXX0ZQAL+OwYSQv8PvBK0AGSF/WZmHKA49Gjb2i5mi3wlQJ+pSGff/758PDwW2+9VXGk6T/qU7tZ5ZtUrnlFCj2An2bkwC8CyWTykSCyehno2FOZ+eDxD281Zz7gq/kXRnBzF0isnlLu9JMOfpwo4w1O1t0COvlod6rfoKifev0qxj4o7w0CP2MEz1FwZTSbX9N//MOc9VOr964CXzGxPfTL8WXwYdWT+wUaaYDzvNL4IYULXP1iditX7ufJSv3+FPp5zQFWw0YkuuFO4Gvba9eXZD9wZNPMpvw3oXEPmn86ilSZG4OR1Hrpd4NjIzhlqyX8yjCQFUDd+gI5tPO5SjhnANu+dvO7x5Mml2RNqTv2Y/AdA74V30UidAlg6vi+VvUgUJcH2AyDrLp6PPTn0dT11eX+nNtdRwKM8y0nv+YwVGag5mzFKwc23nQsfZpN+zNgUqDtONh00GQCVgduzOIoygkby5GGYywh4B0yMIJHg2CvuOyTAUPHA5oTubQ49ly7zhb8Mv/DSdqkqY6iF0Eyg8gC+DjR54UuH5yX4Dxy/DLwCzw69Q0tV7MFvprA32eL0s+sz0NXcyedA/EJlOkSS1Tnz+N86kWsdX5Ss/up4sRZprS7oX4tuHdBcwmwFm+DHjxVmHHHXg+OU8DUoA0ga+bZCs5dxbO4okF+d2T+bmog+PUqhAJS/YLdSOJsG+HMAXBntuleMG6581j8ZKvhHxA4AXCO83sk8AuAXrm4yo9NmlA9n8vvRV5Kvf9qtvWX/N5yk/LEUf7U+bYdx/etytswu27rQqnuPWjaLjYc4U4XCmcM0GgGG8nCTMIukeSKaLZJsqxiwB9lJdN9hZyYBx04tfJKw0bZzeimjxLjOsy/bssBZ3pLwbPHNt5xdOsCR+07ECgFny0YVsZL/LOVIaGMZ1pQDwJ1+UveKVf/8WmQn/OYBLnzsGHr94vjb2vY80NofB/O7ABnidBQLDBG3qHlnHpMuuO0CEy1wNTSVXShw45Ismyrt3TGQLUReuiR1UZz8eklRi+5LdBWi8kYXfuh/h/2w8vKtkwtSZnlrV0HUgVILICXhvPi0aBKkNCJH+kUIuqXeKLjv/ot9zV+gq8R8H8ZeplOkTLwk/y2SCUjvkotwGvteb8qTpx1bP1EtuhlsKUDewRajEJjIbgqwF4Djjrq8ie6Kni2QkF94mKroDsWghUqaNw3AgMmEUPC6cBeBPYcsO2ApsQzB57RJt1VnjGnvfxVCNQS40g0P5SAw1Ui3/MQ8H9hA0sGfpET2kkk/AbgD1fsizWlzjOmP2g98gK4toHzALL+TXpcbQYaaJmoeGVzEJptQQ697FKPCnQTRatszBChJVmhMVYjXsReCrZj4pkdbaa/GbIeMaTNMO68r+XMP4HTEuc9lP4Q4XNAwNgsvBx8UB4YCvyrwV5d/sKa7+twIxY8W6u3LzQkTTMmzW0r+B00bQXrJ9CqB6ZEsGslhxFT6zoqOEfN5wI/MRYhY8BBYnfaqqDJjJF5XCXgKQZ3Dji2dpjeqt/92PH1k7Rp9wK7AeAkQCeAF033g0E81VaeCPxk/9ehMwbzOw4B/yDtHUFCyEfZmIgZrXDhzwE0uQ3vHVo/73jihMod9zQcfBrsW8BTzNtKwanFlTER7x3Fep8m9u220qeugLzbzLkr/M0VnJtiv0nCGHBacOYDux+s61uOLytKurUkdXZ+yoOiPQUjbkKnKPk43ktChw4Q+HtgwCBt8EH8WAp2YkFC2wofJkFEtXoTBIqaTO8eiZ9blDi1PHk2b/gVMFngOIwEnEMLjI5iueQukTD6k5L2idpzkK0LaQLRreeb9WgxKsv5TcAYgdFCYy54PgXr3z35sdqUSQUp03W7l8K5jwFOIOpzcrg68ogiRX0RIzr0eGYiFlKDvbo8iBv+y/doXhCtIOqqDjyXs3HG0Y8m6FPv9de+BY50Qs1rwaYHu1GGf6cFvYQIrx8i5+9m9BkTBuRxmMFeAbYq3DZboL0YHOmS+bWGPfMr0qfpku8uy34K2nIBPOBvFTivgFp86q8voJw16N6hLnz5mvar9cRDwD9I+1P9kfi9QewXvSCdBv+hpvw1+vQ5xUmzS9IXusvfh5Z94N4J7B5gcsFRgnweuvEQah2n7+BKY++THL6828y7TaJbT1IB5QL7Kbj2gDOro+AVy5YH8+JuKU2fyRr/F6AQoBHEVr+/ldIh/sD5AXP8PWBgkDb4IH4sCqLqeA+cBF5OaBeEFkRfoZp3pFiPP1cQP61o/dTqrEWi5a/QlA6uj8G1F1wHgc0FtoAIZvWElQ8mXiIZFwGBXy+6cUWm36XHGCxMPjCHwLkH6uKt+3+mT5ypT5qoTb/LoX8ZuEKQGkR/s+DvEvw+JEW6AzUi5CtrUA1En18N9uryIG74L+mjCU4QS6E9rfbQUyVpC0pSFtTtWQWVH0HTx2DbC7YDwBwFZ6HoKhVcBioBkqk9xchDLeFH4NejGMmRD84j0JgNZ+I9R39WHDe5MO7myqzvdpjXgr8IoFMQfLzE+0VU4fPg51EhyA0B/+AcREPAP+j6ReGVgk9Gwgli4Csg2e86SJ6rk9B8oHzvmqLM+UeTJ1Ttua+t9Gmofh3sm8GxGxoPg6dcOlMsni6R9XNIB1iI4R5x7cUAwGXgKsYv2ZkNtjgw/5Y98Fhd+hzDhgn5/57pLn4bOoqBO0GMdLwE8omEn4j3qZB/AKJ+NfAPzfnBfh3Ir4L9crwHUcQAqAi6PA98F4itIJ7mnLtqD/y8ZOMM3fqb67bP8RQsgzNrwbkRA0CxOajHcZajvp8tR76tuRLcFhKgqUxg9Kjo8ZRhJODG/dCYCY0bzxe9yO5/Qvuv2ys2z63Pjj1b+i4IJhBtAB08ho4NBmZWd2iQAuiL6Q+pF/wb/FVRDwNpmKG6PVsgmB7BA3AauipaK7aYs1aXxs21bJxUnzqzM38NnPwr2FPAuRtcR8FVLLp0gssgNZeBu0x0GXiHFq0B7DrBYQa2GjwngC2DpoPA7oCG987pf+7KXXzknzflxU8u3vL9NvP7SFbCGYBWAc77wB8AL4+rn2C/HKuHZu1SczLo4zm0XNUWGAL+q9r8fd2czPEiBzxHguAStsknoGMMWvzhRvShBbXUDFDut/+7Jndpzmb0otEmzKvMWsLm/uZcybvgyMbkfsw+cB0A1yFwHgLmINj3g3UfGoGf2QmuvVLtJjb/9yf3/qRo4/0lG+4q3TCleMM0Ju9Z8O8BH8mm1T2PA0m8J+v1h4C/r377YvZhvAcJ/NgFRIKKECyi2QWaW/JNAEbhzF/q9/2wNHmiNmVKcdJs87bHm3J+ibBdnwruT+HsYXAfAMdesH4MjTvBthuFPZ790JANzA7pRIK78K2aj1cXb/quLmlO6abp9dkLvbo3oOUQCKdRsC9gAsYACdNDiRF8bYVWlYPzo7VfL2m/GuFVZVXxi2nBr/ZdqGuQH83mfby/HaAV/Dqx8u/VWd+rSJuV/9Hkgg13V+1YZjv2a77+I/DsBPs2cO4Edje49+DK7gYXWR17ofkgWHd1GNfbct8wZMTmxc8tSJqRlzBFu/V+m/Zl8B1A2gKjB+JwCADnRbzvEOA8RulBTSUa8fXW9Mvj9qvdDYP+7YaAfzB2kQD8eeg6Dz5U7iP64jQakFOe+UDqJBHyO0nIFAagAdrz26s31Ox74dMP7i5KuFeXMMOw8Q7Dv77t3Dmv7fDDrYcfpau3cFnr4UetOxfUpc/Sxn2nKO62/I+m5nw0T5vx1Ikjb54/uRU6SwCsAC4lu5pAVMqYGgwDbQ4B/1UaLT3cPnkEfuConZQPvT4EgsSS/3wLQAsxsDJBx6cO47tHU588mvyDvMR5qAXYcHtJ3HcaP15g3/sQe+CR1pxF7ceePJu7mD3wiHPfQ41b55ZvvL10/e1lqXcd3TQ3P3WhQ/da15kt4K+BAIv2Jf5OCPhwFIgcSH4BB2eAoHsQ+FEkRYkRWdofPEDpAjXCq8qq4lVq3K/abUlcP0FEPKZkwHmQXGgO0nbkjO5v+l0/zk/6XnHSXP3myYbNd1amTj+VfQ978Afn8he1HXu87djj7Ucf78h93L5rXsXmO3Ub7zCnzj3672lH4uaVZ69y6v7irs8AsQYkG7EyoZEbOMCRwAvgJ4ORw2ATPN4+QIA/hNcfAv7BMOCGgH8w9ELoM/QCfvyCMSM3VgwQ1O8CCVOMCLwk8gGhiwVg0d7Kf8h/8j3bsR817H/cED/ZsnmyduMtpfG4Fm+4uXjjTcXxt5QmTCxNnGLcMrt+36Ot+v8NnI4DKAfpFHAOwefxC+dQkEvnbGJ/S+87BPyhnfRF/u8B/GjfR4GfB/CC4EWVKlpR4eAQvOS5Aki9cTXA6aFtb4vlbUfBc3V7fmhKm21ImqbfPLk0YaI2/g7dpjv1CZOMSVNMSdNNm6ZWpN3VuH+xR/eSaI8D/giIegy5in6bOI8j3GNgSQEdsqXzInRSG368XTfHLwM/JVXVBwgBqwb5YDn4OyTqv4wDivSY4JcCNBkpubKfCzDEQqgU2rL99e9Yj660bP1uMVKEE4vibitaf4th052mzZPoWrr+Vt2miZVb7z198MnW8teATQW+GPhaYlKKDD3tdh5pPHTrRcWTRMLzoUpwCPgvY2dekUsNAf8VadZLvCj5mHhBFvXLFwtKVikVT4L7dt+GJ9RAG4muw6A5nnQGxFMgVgnMTtGZBUyW6MwKMCkBZya0H8ZEmVCHdaAJEUJswUSfErUhxFw78iInU6cTe2/hbbDa0O8X0AIUIOUbyWOBRnDrOU4ot80Ty/9O9PqTPCAxIDVhd0s1wJVwzp08u91vTws40kXX9oA9G7oKQKgC4SSIp0GyguQgdORZDMyMsK96PSJ/ojYfxOKEDJYe4B0cp6qThopfcAuQPhARleki9xrlGegsYSe6+VPA1wBXJrG7wLkdGLI6t4quHSj8E2sAToF0kswSTiJM6iDjCl2MlUUVH4XclhKpqHuSYzkpNYcKg6cF/j9B+KFUCgLrKwAAAABJRU5ErkJggg==)\n",
        "\n",
        "\n",
        "\n",
        "BiLSTM is just the combination of BiRNNs and the usual LSTMs.It works just like the BiRNNs just the hidden layers consists LSTM cells and the output is concatenated as usual just that the output of the Bi-LSTM layer can be used for various purposes depending on the specific task. For example, in text classification, the output may be passed through a fully connected layer followed by a softmax activation to obtain class probabilities(gives the word is most likely to appear). In sequence labeling tasks like named entity recognition, the output may be directly used to predict the label for each input token for eg if the word is an organization or a location,etc.\n",
        "\n",
        "Resources:https://www.geeksforgeeks.org/bidirectional-recurrent-neural-network/,\n",
        "https://medium.com/@anishnama20/understanding-bidirectional-lstm-for-sequential-data-processing-b83d6283befc\n",
        "\n"
      ],
      "metadata": {
        "id": "C_9fCogsTeps"
      }
    },
    {
      "cell_type": "markdown",
      "source": [
        "# Implementation:\n",
        "\n",
        "Sentiment analysis using the imdb dataset"
      ],
      "metadata": {
        "id": "WbLQ5vIYb2Mw"
      }
    },
    {
      "cell_type": "code",
      "source": [
        "import tensorflow as tf\n",
        "from tensorflow.keras.datasets import imdb\n",
        "from tensorflow.keras.preprocessing.sequence import pad_sequences\n",
        "from tensorflow.keras.models import Sequential\n",
        "from tensorflow.keras.layers import Embedding,Bidirectional,LSTM,Dense,Dropout"
      ],
      "metadata": {
        "id": "EpBUwQ7DIrD2"
      },
      "execution_count": 2,
      "outputs": []
    },
    {
      "cell_type": "code",
      "source": [
        "imdb.load_data(num_words=10000)"
      ],
      "metadata": {
        "colab": {
          "base_uri": "https://localhost:8080/"
        },
        "id": "_tTBJG3QKWGo",
        "outputId": "bee10960-c535-4e7d-8bd9-67c3d4dfaf1f"
      },
      "execution_count": 3,
      "outputs": [
        {
          "output_type": "stream",
          "name": "stdout",
          "text": [
            "Downloading data from https://storage.googleapis.com/tensorflow/tf-keras-datasets/imdb.npz\n",
            "\u001b[1m17464789/17464789\u001b[0m \u001b[32m━━━━━━━━━━━━━━━━━━━━\u001b[0m\u001b[37m\u001b[0m \u001b[1m0s\u001b[0m 0us/step\n"
          ]
        },
        {
          "output_type": "execute_result",
          "data": {
            "text/plain": [
              "((array([list([1, 14, 22, 16, 43, 530, 973, 1622, 1385, 65, 458, 4468, 66, 3941, 4, 173, 36, 256, 5, 25, 100, 43, 838, 112, 50, 670, 2, 9, 35, 480, 284, 5, 150, 4, 172, 112, 167, 2, 336, 385, 39, 4, 172, 4536, 1111, 17, 546, 38, 13, 447, 4, 192, 50, 16, 6, 147, 2025, 19, 14, 22, 4, 1920, 4613, 469, 4, 22, 71, 87, 12, 16, 43, 530, 38, 76, 15, 13, 1247, 4, 22, 17, 515, 17, 12, 16, 626, 18, 2, 5, 62, 386, 12, 8, 316, 8, 106, 5, 4, 2223, 5244, 16, 480, 66, 3785, 33, 4, 130, 12, 16, 38, 619, 5, 25, 124, 51, 36, 135, 48, 25, 1415, 33, 6, 22, 12, 215, 28, 77, 52, 5, 14, 407, 16, 82, 2, 8, 4, 107, 117, 5952, 15, 256, 4, 2, 7, 3766, 5, 723, 36, 71, 43, 530, 476, 26, 400, 317, 46, 7, 4, 2, 1029, 13, 104, 88, 4, 381, 15, 297, 98, 32, 2071, 56, 26, 141, 6, 194, 7486, 18, 4, 226, 22, 21, 134, 476, 26, 480, 5, 144, 30, 5535, 18, 51, 36, 28, 224, 92, 25, 104, 4, 226, 65, 16, 38, 1334, 88, 12, 16, 283, 5, 16, 4472, 113, 103, 32, 15, 16, 5345, 19, 178, 32]),\n",
              "         list([1, 194, 1153, 194, 8255, 78, 228, 5, 6, 1463, 4369, 5012, 134, 26, 4, 715, 8, 118, 1634, 14, 394, 20, 13, 119, 954, 189, 102, 5, 207, 110, 3103, 21, 14, 69, 188, 8, 30, 23, 7, 4, 249, 126, 93, 4, 114, 9, 2300, 1523, 5, 647, 4, 116, 9, 35, 8163, 4, 229, 9, 340, 1322, 4, 118, 9, 4, 130, 4901, 19, 4, 1002, 5, 89, 29, 952, 46, 37, 4, 455, 9, 45, 43, 38, 1543, 1905, 398, 4, 1649, 26, 6853, 5, 163, 11, 3215, 2, 4, 1153, 9, 194, 775, 7, 8255, 2, 349, 2637, 148, 605, 2, 8003, 15, 123, 125, 68, 2, 6853, 15, 349, 165, 4362, 98, 5, 4, 228, 9, 43, 2, 1157, 15, 299, 120, 5, 120, 174, 11, 220, 175, 136, 50, 9, 4373, 228, 8255, 5, 2, 656, 245, 2350, 5, 4, 9837, 131, 152, 491, 18, 2, 32, 7464, 1212, 14, 9, 6, 371, 78, 22, 625, 64, 1382, 9, 8, 168, 145, 23, 4, 1690, 15, 16, 4, 1355, 5, 28, 6, 52, 154, 462, 33, 89, 78, 285, 16, 145, 95]),\n",
              "         list([1, 14, 47, 8, 30, 31, 7, 4, 249, 108, 7, 4, 5974, 54, 61, 369, 13, 71, 149, 14, 22, 112, 4, 2401, 311, 12, 16, 3711, 33, 75, 43, 1829, 296, 4, 86, 320, 35, 534, 19, 263, 4821, 1301, 4, 1873, 33, 89, 78, 12, 66, 16, 4, 360, 7, 4, 58, 316, 334, 11, 4, 1716, 43, 645, 662, 8, 257, 85, 1200, 42, 1228, 2578, 83, 68, 3912, 15, 36, 165, 1539, 278, 36, 69, 2, 780, 8, 106, 14, 6905, 1338, 18, 6, 22, 12, 215, 28, 610, 40, 6, 87, 326, 23, 2300, 21, 23, 22, 12, 272, 40, 57, 31, 11, 4, 22, 47, 6, 2307, 51, 9, 170, 23, 595, 116, 595, 1352, 13, 191, 79, 638, 89, 2, 14, 9, 8, 106, 607, 624, 35, 534, 6, 227, 7, 129, 113]),\n",
              "         ...,\n",
              "         list([1, 11, 6, 230, 245, 6401, 9, 6, 1225, 446, 2, 45, 2174, 84, 8322, 4007, 21, 4, 912, 84, 2, 325, 725, 134, 2, 1715, 84, 5, 36, 28, 57, 1099, 21, 8, 140, 8, 703, 5, 2, 84, 56, 18, 1644, 14, 9, 31, 7, 4, 9406, 1209, 2295, 2, 1008, 18, 6, 20, 207, 110, 563, 12, 8, 2901, 2, 8, 97, 6, 20, 53, 4767, 74, 4, 460, 364, 1273, 29, 270, 11, 960, 108, 45, 40, 29, 2961, 395, 11, 6, 4065, 500, 7, 2, 89, 364, 70, 29, 140, 4, 64, 4780, 11, 4, 2678, 26, 178, 4, 529, 443, 2, 5, 27, 710, 117, 2, 8123, 165, 47, 84, 37, 131, 818, 14, 595, 10, 10, 61, 1242, 1209, 10, 10, 288, 2260, 1702, 34, 2901, 2, 4, 65, 496, 4, 231, 7, 790, 5, 6, 320, 234, 2766, 234, 1119, 1574, 7, 496, 4, 139, 929, 2901, 2, 7750, 5, 4241, 18, 4, 8497, 2, 250, 11, 1818, 7561, 4, 4217, 5408, 747, 1115, 372, 1890, 1006, 541, 9303, 7, 4, 59, 2, 4, 3586, 2]),\n",
              "         list([1, 1446, 7079, 69, 72, 3305, 13, 610, 930, 8, 12, 582, 23, 5, 16, 484, 685, 54, 349, 11, 4120, 2959, 45, 58, 1466, 13, 197, 12, 16, 43, 23, 2, 5, 62, 30, 145, 402, 11, 4131, 51, 575, 32, 61, 369, 71, 66, 770, 12, 1054, 75, 100, 2198, 8, 4, 105, 37, 69, 147, 712, 75, 3543, 44, 257, 390, 5, 69, 263, 514, 105, 50, 286, 1814, 23, 4, 123, 13, 161, 40, 5, 421, 4, 116, 16, 897, 13, 2, 40, 319, 5872, 112, 6700, 11, 4803, 121, 25, 70, 3468, 4, 719, 3798, 13, 18, 31, 62, 40, 8, 7200, 4, 2, 7, 14, 123, 5, 942, 25, 8, 721, 12, 145, 5, 202, 12, 160, 580, 202, 12, 6, 52, 58, 2, 92, 401, 728, 12, 39, 14, 251, 8, 15, 251, 5, 2, 12, 38, 84, 80, 124, 12, 9, 23]),\n",
              "         list([1, 17, 6, 194, 337, 7, 4, 204, 22, 45, 254, 8, 106, 14, 123, 4, 2, 270, 2, 5, 2, 2, 732, 2098, 101, 405, 39, 14, 1034, 4, 1310, 9, 115, 50, 305, 12, 47, 4, 168, 5, 235, 7, 38, 111, 699, 102, 7, 4, 4039, 9245, 9, 24, 6, 78, 1099, 17, 2345, 2, 21, 27, 9685, 6139, 5, 2, 1603, 92, 1183, 4, 1310, 7, 4, 204, 42, 97, 90, 35, 221, 109, 29, 127, 27, 118, 8, 97, 12, 157, 21, 6789, 2, 9, 6, 66, 78, 1099, 4, 631, 1191, 5, 2642, 272, 191, 1070, 6, 7585, 8, 2197, 2, 2, 544, 5, 383, 1271, 848, 1468, 2, 497, 2, 8, 1597, 8778, 2, 21, 60, 27, 239, 9, 43, 8368, 209, 405, 10, 10, 12, 764, 40, 4, 248, 20, 12, 16, 5, 174, 1791, 72, 7, 51, 6, 1739, 22, 4, 204, 131, 9])],\n",
              "        dtype=object),\n",
              "  array([1, 0, 0, ..., 0, 1, 0])),\n",
              " (array([list([1, 591, 202, 14, 31, 6, 717, 10, 10, 2, 2, 5, 4, 360, 7, 4, 177, 5760, 394, 354, 4, 123, 9, 1035, 1035, 1035, 10, 10, 13, 92, 124, 89, 488, 7944, 100, 28, 1668, 14, 31, 23, 27, 7479, 29, 220, 468, 8, 124, 14, 286, 170, 8, 157, 46, 5, 27, 239, 16, 179, 2, 38, 32, 25, 7944, 451, 202, 14, 6, 717]),\n",
              "         list([1, 14, 22, 3443, 6, 176, 7, 5063, 88, 12, 2679, 23, 1310, 5, 109, 943, 4, 114, 9, 55, 606, 5, 111, 7, 4, 139, 193, 273, 23, 4, 172, 270, 11, 7216, 2, 4, 8463, 2801, 109, 1603, 21, 4, 22, 3861, 8, 6, 1193, 1330, 10, 10, 4, 105, 987, 35, 841, 2, 19, 861, 1074, 5, 1987, 2, 45, 55, 221, 15, 670, 5304, 526, 14, 1069, 4, 405, 5, 2438, 7, 27, 85, 108, 131, 4, 5045, 5304, 3884, 405, 9, 3523, 133, 5, 50, 13, 104, 51, 66, 166, 14, 22, 157, 9, 4, 530, 239, 34, 8463, 2801, 45, 407, 31, 7, 41, 3778, 105, 21, 59, 299, 12, 38, 950, 5, 4521, 15, 45, 629, 488, 2733, 127, 6, 52, 292, 17, 4, 6936, 185, 132, 1988, 5304, 1799, 488, 2693, 47, 6, 392, 173, 4, 2, 4378, 270, 2352, 4, 1500, 7, 4, 65, 55, 73, 11, 346, 14, 20, 9, 6, 976, 2078, 7, 5293, 861, 2, 5, 4182, 30, 3127, 2, 56, 4, 841, 5, 990, 692, 8, 4, 1669, 398, 229, 10, 10, 13, 2822, 670, 5304, 14, 9, 31, 7, 27, 111, 108, 15, 2033, 19, 7836, 1429, 875, 551, 14, 22, 9, 1193, 21, 45, 4829, 5, 45, 252, 8, 2, 6, 565, 921, 3639, 39, 4, 529, 48, 25, 181, 8, 67, 35, 1732, 22, 49, 238, 60, 135, 1162, 14, 9, 290, 4, 58, 10, 10, 472, 45, 55, 878, 8, 169, 11, 374, 5687, 25, 203, 28, 8, 818, 12, 125, 4, 3077]),\n",
              "         list([1, 111, 748, 4368, 1133, 2, 2, 4, 87, 1551, 1262, 7, 31, 318, 9459, 7, 4, 498, 5076, 748, 63, 29, 5161, 220, 686, 2, 5, 17, 12, 575, 220, 2507, 17, 6, 185, 132, 2, 16, 53, 928, 11, 2, 74, 4, 438, 21, 27, 2, 589, 8, 22, 107, 2, 2, 997, 1638, 8, 35, 2076, 9019, 11, 22, 231, 54, 29, 1706, 29, 100, 2, 2425, 34, 2, 8738, 2, 5, 2, 98, 31, 2122, 33, 6, 58, 14, 3808, 1638, 8, 4, 365, 7, 2789, 3761, 356, 346, 4, 2, 1060, 63, 29, 93, 11, 5421, 11, 2, 33, 6, 58, 54, 1270, 431, 748, 7, 32, 2580, 16, 11, 94, 2, 10, 10, 4, 993, 2, 7, 4, 1766, 2634, 2164, 2, 8, 847, 8, 1450, 121, 31, 7, 27, 86, 2663, 2, 16, 6, 465, 993, 2006, 2, 573, 17, 2, 42, 4, 2, 37, 473, 6, 711, 6, 8869, 7, 328, 212, 70, 30, 258, 11, 220, 32, 7, 108, 21, 133, 12, 9, 55, 465, 849, 3711, 53, 33, 2071, 1969, 37, 70, 1144, 4, 5940, 1409, 74, 476, 37, 62, 91, 1329, 169, 4, 1330, 2, 146, 655, 2212, 5, 258, 12, 184, 2, 546, 5, 849, 2, 7, 4, 22, 1436, 18, 631, 1386, 797, 7, 4, 8712, 71, 348, 425, 4320, 1061, 19, 2, 5, 2, 11, 661, 8, 339, 2, 4, 2455, 2, 7, 4, 1962, 10, 10, 263, 787, 9, 270, 11, 6, 9466, 4, 2, 2, 121, 4, 5437, 26, 4434, 19, 68, 1372, 5, 28, 446, 6, 318, 7149, 8, 67, 51, 36, 70, 81, 8, 4392, 2294, 36, 1197, 8, 2, 2, 18, 6, 711, 4, 9909, 26, 2, 1125, 11, 14, 636, 720, 12, 426, 28, 77, 776, 8, 97, 38, 111, 7489, 6175, 168, 1239, 5189, 137, 2, 18, 27, 173, 9, 2399, 17, 6, 2, 428, 2, 232, 11, 4, 8014, 37, 272, 40, 2708, 247, 30, 656, 6, 2, 54, 2, 3292, 98, 6, 2840, 40, 558, 37, 6093, 98, 4, 2, 1197, 15, 14, 9, 57, 4893, 5, 4659, 6, 275, 711, 7937, 2, 3292, 98, 6, 2, 10, 10, 6639, 19, 14, 2, 267, 162, 711, 37, 5900, 752, 98, 4, 2, 2378, 90, 19, 6, 2, 7, 2, 1810, 2, 4, 4770, 3183, 930, 8, 508, 90, 4, 1317, 8, 4, 2, 17, 2, 3965, 1853, 4, 1494, 8, 4468, 189, 4, 2, 6287, 5774, 4, 4770, 5, 95, 271, 23, 6, 7742, 6063, 2, 5437, 33, 1526, 6, 425, 3155, 2, 4535, 1636, 7, 4, 4669, 2, 469, 4, 4552, 54, 4, 150, 5664, 2, 280, 53, 2, 2, 18, 339, 29, 1978, 27, 7885, 5, 2, 68, 1830, 19, 6571, 2, 4, 1515, 7, 263, 65, 2132, 34, 6, 5680, 7489, 43, 159, 29, 9, 4706, 9, 387, 73, 195, 584, 10, 10, 1069, 4, 58, 810, 54, 14, 6078, 117, 22, 16, 93, 5, 1069, 4, 192, 15, 12, 16, 93, 34, 6, 1766, 2, 33, 4, 5673, 7, 15, 2, 9252, 3286, 325, 12, 62, 30, 776, 8, 67, 14, 17, 6, 2, 44, 148, 687, 2, 203, 42, 203, 24, 28, 69, 2, 6676, 11, 330, 54, 29, 93, 2, 21, 845, 2, 27, 1099, 7, 819, 4, 22, 1407, 17, 6, 2, 787, 7, 2460, 2, 2, 100, 30, 4, 3737, 3617, 3169, 2321, 42, 1898, 11, 4, 3814, 42, 101, 704, 7, 101, 999, 15, 1625, 94, 2926, 180, 5, 9, 9101, 34, 2, 45, 6, 1429, 22, 60, 6, 1220, 31, 11, 94, 6408, 96, 21, 94, 749, 9, 57, 975]),\n",
              "         ...,\n",
              "         list([1, 13, 1408, 15, 8, 135, 14, 9, 35, 32, 46, 394, 20, 62, 30, 5093, 21, 45, 184, 78, 4, 1492, 910, 769, 2290, 2515, 395, 4257, 5, 1454, 11, 119, 2, 89, 1036, 4, 116, 218, 78, 21, 407, 100, 30, 128, 262, 15, 7, 185, 2280, 284, 1842, 2, 37, 315, 4, 226, 20, 272, 2942, 40, 29, 152, 60, 181, 8, 30, 50, 553, 362, 80, 119, 12, 21, 846, 5518]),\n",
              "         list([1, 11, 119, 241, 9, 4, 840, 20, 12, 468, 15, 94, 3684, 562, 791, 39, 4, 86, 107, 8, 97, 14, 31, 33, 4, 2960, 7, 743, 46, 1028, 9, 3531, 5, 4, 768, 47, 8, 79, 90, 145, 164, 162, 50, 6, 501, 119, 7, 9, 4, 78, 232, 15, 16, 224, 11, 4, 333, 20, 4, 985, 200, 5, 2, 5, 9, 1861, 8, 79, 357, 4, 20, 47, 220, 57, 206, 139, 11, 12, 5, 55, 117, 212, 13, 1276, 92, 124, 51, 45, 1188, 71, 536, 13, 520, 14, 20, 6, 2302, 7, 470]),\n",
              "         list([1, 6, 52, 7465, 430, 22, 9, 220, 2594, 8, 28, 2, 519, 3227, 6, 769, 15, 47, 6, 3482, 4067, 8, 114, 5, 33, 222, 31, 55, 184, 704, 5586, 2, 19, 346, 3153, 5, 6, 364, 350, 4, 184, 5586, 9, 133, 1810, 11, 5417, 2, 21, 4, 7298, 2, 570, 50, 2005, 2643, 9, 6, 1249, 17, 6, 2, 2, 21, 17, 6, 1211, 232, 1138, 2249, 29, 266, 56, 96, 346, 194, 308, 9, 194, 21, 29, 218, 1078, 19, 4, 78, 173, 7, 27, 2, 5698, 3406, 718, 2, 9, 6, 6907, 17, 210, 5, 3281, 5677, 47, 77, 395, 14, 172, 173, 18, 2740, 2931, 4517, 82, 127, 27, 173, 11, 6, 392, 217, 21, 50, 9, 57, 65, 12, 2, 53, 40, 35, 390, 7, 11, 4, 3567, 7, 4, 314, 74, 6, 792, 22, 2, 19, 714, 727, 5205, 382, 4, 91, 6533, 439, 19, 14, 20, 9, 1441, 5805, 1118, 4, 756, 25, 124, 4, 31, 12, 16, 93, 804, 34, 2005, 2643])],\n",
              "        dtype=object),\n",
              "  array([0, 1, 1, ..., 0, 0, 0])))"
            ]
          },
          "metadata": {},
          "execution_count": 3
        }
      ]
    },
    {
      "cell_type": "code",
      "source": [
        "(X_train,y_train),(X_test,y_test)=imdb.load_data(num_words=10000)"
      ],
      "metadata": {
        "id": "RvkrVsONKWhk"
      },
      "execution_count": 4,
      "outputs": []
    },
    {
      "cell_type": "code",
      "source": [
        "print(X_train.shape,X_test.shape)\n"
      ],
      "metadata": {
        "colab": {
          "base_uri": "https://localhost:8080/"
        },
        "id": "7DmJqfrNLVLT",
        "outputId": "62e080c6-0e18-4904-e9b2-72b1cb3a2cfe"
      },
      "execution_count": 5,
      "outputs": [
        {
          "output_type": "stream",
          "name": "stdout",
          "text": [
            "(25000,) (25000,)\n"
          ]
        }
      ]
    },
    {
      "cell_type": "code",
      "source": [
        "#truncating the sentences to a length of 100\n",
        "maxlen=100\n",
        "num_words=10000\n",
        "\n",
        "X_train=pad_sequences(X_train,maxlen=maxlen,padding='post',truncating='post')\n",
        "X_test=pad_sequences(X_test,maxlen=maxlen,padding='post',truncating='post')\n",
        "\n",
        "embd_dim=32\n",
        "\n",
        ""
      ],
      "metadata": {
        "id": "KaAdsBlhLXdf"
      },
      "execution_count": 6,
      "outputs": []
    },
    {
      "cell_type": "code",
      "source": [
        "\n",
        "model=Sequential([Embedding(input_dim=num_words,output_dim=embd_dim,input_length=maxlen),\n",
        "                  LSTM(150),\n",
        "                  Dense(1,activation='sigmoid')])\n",
        "\n"
      ],
      "metadata": {
        "colab": {
          "base_uri": "https://localhost:8080/"
        },
        "id": "bYLhf7PYL1Yy",
        "outputId": "a0fe5863-d1d9-4f3a-b8d6-1d561e7ec187"
      },
      "execution_count": 7,
      "outputs": [
        {
          "output_type": "stream",
          "name": "stderr",
          "text": [
            "/usr/local/lib/python3.10/dist-packages/keras/src/layers/core/embedding.py:90: UserWarning: Argument `input_length` is deprecated. Just remove it.\n",
            "  warnings.warn(\n"
          ]
        }
      ]
    },
    {
      "cell_type": "code",
      "source": [
        "from keras.optimizers import Adam\n",
        "model.compile(optimizer='adam',loss='mse',metrics=['accuracy'])\n"
      ],
      "metadata": {
        "id": "xBIS7omyNjVZ"
      },
      "execution_count": 8,
      "outputs": []
    },
    {
      "cell_type": "code",
      "source": [
        "model.fit(X_train,y_train,epochs=10)"
      ],
      "metadata": {
        "colab": {
          "base_uri": "https://localhost:8080/"
        },
        "id": "JKd5ZrqrO8Vn",
        "outputId": "f4b62eb7-6b17-4fd6-98cd-ed689addc474"
      },
      "execution_count": 9,
      "outputs": [
        {
          "output_type": "stream",
          "name": "stdout",
          "text": [
            "Epoch 1/10\n",
            "\u001b[1m782/782\u001b[0m \u001b[32m━━━━━━━━━━━━━━━━━━━━\u001b[0m\u001b[37m\u001b[0m \u001b[1m133s\u001b[0m 165ms/step - accuracy: 0.5511 - loss: 0.2471\n",
            "Epoch 2/10\n",
            "\u001b[1m782/782\u001b[0m \u001b[32m━━━━━━━━━━━━━━━━━━━━\u001b[0m\u001b[37m\u001b[0m \u001b[1m140s\u001b[0m 163ms/step - accuracy: 0.6518 - loss: 0.2208\n",
            "Epoch 3/10\n",
            "\u001b[1m782/782\u001b[0m \u001b[32m━━━━━━━━━━━━━━━━━━━━\u001b[0m\u001b[37m\u001b[0m \u001b[1m152s\u001b[0m 195ms/step - accuracy: 0.7649 - loss: 0.1652\n",
            "Epoch 4/10\n",
            "\u001b[1m782/782\u001b[0m \u001b[32m━━━━━━━━━━━━━━━━━━━━\u001b[0m\u001b[37m\u001b[0m \u001b[1m179s\u001b[0m 166ms/step - accuracy: 0.7684 - loss: 0.1612\n",
            "Epoch 5/10\n",
            "\u001b[1m782/782\u001b[0m \u001b[32m━━━━━━━━━━━━━━━━━━━━\u001b[0m\u001b[37m\u001b[0m \u001b[1m145s\u001b[0m 170ms/step - accuracy: 0.8705 - loss: 0.0969\n",
            "Epoch 6/10\n",
            "\u001b[1m782/782\u001b[0m \u001b[32m━━━━━━━━━━━━━━━━━━━━\u001b[0m\u001b[37m\u001b[0m \u001b[1m135s\u001b[0m 162ms/step - accuracy: 0.9060 - loss: 0.0750\n",
            "Epoch 7/10\n",
            "\u001b[1m782/782\u001b[0m \u001b[32m━━━━━━━━━━━━━━━━━━━━\u001b[0m\u001b[37m\u001b[0m \u001b[1m145s\u001b[0m 167ms/step - accuracy: 0.9218 - loss: 0.0644\n",
            "Epoch 8/10\n",
            "\u001b[1m782/782\u001b[0m \u001b[32m━━━━━━━━━━━━━━━━━━━━\u001b[0m\u001b[37m\u001b[0m \u001b[1m148s\u001b[0m 175ms/step - accuracy: 0.9370 - loss: 0.0534\n",
            "Epoch 9/10\n",
            "\u001b[1m782/782\u001b[0m \u001b[32m━━━━━━━━━━━━━━━━━━━━\u001b[0m\u001b[37m\u001b[0m \u001b[1m146s\u001b[0m 180ms/step - accuracy: 0.9472 - loss: 0.0460\n",
            "Epoch 10/10\n",
            "\u001b[1m782/782\u001b[0m \u001b[32m━━━━━━━━━━━━━━━━━━━━\u001b[0m\u001b[37m\u001b[0m \u001b[1m139s\u001b[0m 176ms/step - accuracy: 0.9576 - loss: 0.0373\n"
          ]
        },
        {
          "output_type": "execute_result",
          "data": {
            "text/plain": [
              "<keras.src.callbacks.history.History at 0x79c13d297370>"
            ]
          },
          "metadata": {},
          "execution_count": 9
        }
      ]
    },
    {
      "cell_type": "code",
      "source": [
        "print(model.evaluate(X_test,y_test))"
      ],
      "metadata": {
        "colab": {
          "base_uri": "https://localhost:8080/"
        },
        "id": "LZdhHAcJOLXo",
        "outputId": "639a8f64-e342-457c-e353-bff8d2601429"
      },
      "execution_count": 10,
      "outputs": [
        {
          "output_type": "stream",
          "name": "stdout",
          "text": [
            "\u001b[1m782/782\u001b[0m \u001b[32m━━━━━━━━━━━━━━━━━━━━\u001b[0m\u001b[37m\u001b[0m \u001b[1m53s\u001b[0m 67ms/step - accuracy: 0.7905 - loss: 0.1723\n",
            "[0.17154212296009064, 0.7922800183296204]\n"
          ]
        }
      ]
    },
    {
      "cell_type": "code",
      "source": [
        "model2=Sequential([Embedding(input_dim=num_words,output_dim=embd_dim,input_length=maxlen),\n",
        "                  Bidirectional(LSTM(150)),\n",
        "                  Dense(1,activation='sigmoid')])\n",
        "\n"
      ],
      "metadata": {
        "id": "7zB6SiyvOp5b"
      },
      "execution_count": 11,
      "outputs": []
    },
    {
      "cell_type": "code",
      "source": [
        "\n",
        "model2.compile(optimizer=Adam(learning_rate=0.006),loss='mse',metrics=['accuracy'])"
      ],
      "metadata": {
        "id": "Po5QPqiDS4rV"
      },
      "execution_count": 12,
      "outputs": []
    },
    {
      "cell_type": "code",
      "source": [
        "model2.fit(X_train,y_train)"
      ],
      "metadata": {
        "colab": {
          "base_uri": "https://localhost:8080/"
        },
        "id": "xtZlTG4AS_PF",
        "outputId": "0c4241e3-9359-4ee5-c3ee-3615197fbd6e"
      },
      "execution_count": 19,
      "outputs": [
        {
          "output_type": "stream",
          "name": "stdout",
          "text": [
            "\u001b[1m782/782\u001b[0m \u001b[32m━━━━━━━━━━━━━━━━━━━━\u001b[0m\u001b[37m\u001b[0m \u001b[1m250s\u001b[0m 318ms/step - accuracy: 0.9833 - loss: 0.0152\n"
          ]
        },
        {
          "output_type": "execute_result",
          "data": {
            "text/plain": [
              "<keras.src.callbacks.history.History at 0x79c1389ef910>"
            ]
          },
          "metadata": {},
          "execution_count": 19
        }
      ]
    },
    {
      "cell_type": "code",
      "source": [
        "model2.evaluate(X_test,y_test)"
      ],
      "metadata": {
        "colab": {
          "base_uri": "https://localhost:8080/"
        },
        "id": "e51dvBHZTB46",
        "outputId": "5047f752-3b23-40f7-ce27-ca028a94928c"
      },
      "execution_count": 18,
      "outputs": [
        {
          "output_type": "stream",
          "name": "stdout",
          "text": [
            "\u001b[1m782/782\u001b[0m \u001b[32m━━━━━━━━━━━━━━━━━━━━\u001b[0m\u001b[37m\u001b[0m \u001b[1m80s\u001b[0m 102ms/step - accuracy: 0.7857 - loss: 0.1893\n"
          ]
        },
        {
          "output_type": "execute_result",
          "data": {
            "text/plain": [
              "[0.18660131096839905, 0.7877200245857239]"
            ]
          },
          "metadata": {},
          "execution_count": 18
        }
      ]
    }
  ]
}